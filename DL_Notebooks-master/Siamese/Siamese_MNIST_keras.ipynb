{
  "nbformat": 4,
  "nbformat_minor": 0,
  "metadata": {
    "colab": {
      "name": "Siamese_MNIST_keras.ipynb",
      "version": "0.3.2",
      "provenance": [],
      "collapsed_sections": [
        "N3d4uT_pFvKs",
        "sGSogN5ery0Y",
        "MSCev98Yc26G",
        "SDEzAKRPPzfg",
        "TvnpR5wStk-7",
        "m6f93ztLs9sR",
        "Ho7L_pTO0sFC",
        "gsVh3d-wlBzj",
        "59V7wCicteB6"
      ]
    },
    "kernelspec": {
      "name": "python3",
      "display_name": "Python 3"
    },
    "accelerator": "GPU"
  },
  "cells": [
    {
      "cell_type": "markdown",
      "metadata": {
        "id": "mLqo9Sbq89Dm",
        "colab_type": "text"
      },
      "source": [
        "# Siamese Networks\n",
        "\n",
        "\n",
        "## Introduction\n",
        "\n",
        "Let's start with what are siamese networks? \n",
        "\n",
        "A siamese neural network consists of same network typically a CNN, which accept distinct inputs and generates embeddings as output. We add different loss function to encourage brining similar images together and different images apart in embedding space. Siamese NNs are popular among tasks that involve finding similarity or a relationship between two comparable things. We apply different loss functions to encourage such behaviour. Siamese networks typically share the same base network (CNN) which can be used as embedding extractor i.e. 3 inputs for triplet loss which will generate 3 outputs of embedding size of 128 or 2 inputs for contrastive loss will generate 2 outputs of embedding size of 128. \n",
        "\n",
        "\n",
        "---\n",
        "\n",
        "## Types of Siamese Networks\n",
        "\n",
        "Siamese Networks comes in two flavours: using triplet loss and another using contrastive loss. Let's visit each of them.\n",
        "\n",
        "\n",
        "- **Triplets Loss**\n",
        "\n",
        "Triplets, are basically 3 images (yeah, no brainer!) which are anchor, positive and negative. What are these? **The anchor is any example from dataset. The positive is any example other than anchor belonging to same class as anchor.** And finally, **negative is any example belonging to class other than the anchor. In triplet loss, what we do lot's of triplets.** There are different ways to sample or known as mining triplets and this is what makes and breaks triplet loss approach. For some distance on the embedding space d, the loss of a triplet (a,p,n) is\n",
        "\n",
        "$$\\mathcal{L} = max(d(a, p) - d(a, n) + margin, 0)$$\n",
        "\n",
        "\n",
        "There are different such as easy triplets, semi-hard triplets, hard triplets. **Easy triplets are triplets which as loss 0**, because $$d(a, p) + margin < d(a,n)$$ **Semi-hard triplets are triplets where the negative is not closer to the anchor than the positive, but which still have positive loss,** i.e. $$d(a, p) < d(a, n) < d(a, p) + margin$$ **Hard Triplets are triplets where the negative is closer to the anchor than the positive**, i.e. $$d(a,n) < d(a,p)$$\n",
        "\n",
        "\n",
        "In the original Facenet paper, they pick a random semi-hard negative for every pair of anchor and positive, and train on these triplets and also according to paper, selecting the hardest negatives can in practice lead to badlocal minima early on in training. \"Additionally, the selected triplets can be considered moderate triplets, since they are the hardest within a small subset of the data, which is exactly what is best for learning with the triplet loss\", according to [this](https://arxiv.org/abs/1703.07737) paper. So, there is no thumb rule but starting with semi-hard yields good results and poor with easy.\n",
        "\n",
        "\n",
        "Now having decided what strategy to use for batching minings, comes the challenge of training on batch of triplets. There are two way in which batches of triplets can be trained : (i) **Offline triplet mining, where we produce triplets offline, at the beginning of each epoch for instance.** We compute all the embeddings on the training set, and then only select hard or semi-hard triplets. We can then train one epoch on these triplets. (ii) **Online triplet mining, where we compute useful triplets on the fly, for each batch of inputs.** This technique gives you more triplets for a single batch of inputs, and doesn’t require any offline mining. It is therefore much more efficient. Details of each method are described in [this](https://arxiv.org/abs/1703.07737) paper.\n",
        "\n",
        " The motivation is that the triplet loss encourages all examples belonging to same class i.e. of one  identity to be projected onto a single point in the embedding  space.\n",
        "\n",
        "\n",
        "- **Contrastive Loss**\n",
        "\n",
        "This the simplest among the two. Here, we sample two pairs of images, one **positive** and another **negative** or also known as, **similar** and **different**  pairs unlike above where we sample triplets. The two pairs i.e. **similar which contains any two images belonging to similar class** and **different where any two images belong to different class.** So, we create a lot many such similar and different pairs and pass it to any CNN architecture without the head(classification layer) and use the dimension of penultimate layer or add any number of linear layers  to obtain embeddings of size, say 128. Different name for loss suggests, we are not using our typical classification loss such as NLL or cross entropy for classification as there is no classification layer. So, how can we train our model (as in, what to backpropogate)? The answer is contrastive loss. **Contrastive Loss is a distance-based loss where such losses try to ensure that semantically similar examples are embedded close together.** This is what makes them special for our case, where we want similar images to be present closer in the embedding space and push different pairs away. We can also train by adding cross entropy as loss function with labels as 0 for similar images and 1 for different images. To learn more about this loss function, please read the paper linked below.\n",
        "\n",
        "\n",
        "---\n",
        "\n",
        "## Further Readings\n",
        "\n",
        "[Signature Verification using a \"Siamese\" Time Delay Neural Network ](https://papers.nips.cc/paper/769-signature-verification-using-a-siamese-time-delay-neural-network.pdf)\n",
        "\n",
        "[Siamese Neural Networks for One-shot Image Recognition](https://www.cs.cmu.edu/~rsalakhu/papers/oneshot1.pdf)\n",
        "\n",
        "[Facenet paper introducing Triplets](https://arxiv.org/abs/1503.03832)\n",
        "\n",
        "[Contrastive Loss paper](http://yann.lecun.com/exdb/publis/pdf/hadsell-chopra-lecun-06.pdf)\n",
        "\n",
        "[In defense of Triplet Loss for Person Re-identification](https://arxiv.org/abs/1703.07737)\n",
        "\n",
        "[Andrew Ng's Triplet Loss Lecture](https://www.coursera.org/learn/convolutional-neural-networks/lecture/HuUtN/triplet-loss)\n",
        "\n",
        "[Triplet Loss and Online Triplet Mining in TensorFlow](https://omoindrot.github.io/triplet-loss)\n",
        "\n",
        "---\n",
        "\n",
        "## Experiements\n",
        "\n",
        "Here we will start small with everyone's favourite dataset MNIST. (Yay!!) We will implement both triplet loss and contrastive loss siamese networks on MNIST and obtain the projections using t-SNE on embeddings trained on siamese model to see how different cluster are formed and how far are they separated indicating they have been successful in perform their task.\n",
        "\n",
        "\n",
        "[![Open In Colab](https://colab.research.google.com/assets/colab-badge.svg)](https://colab.research.google.com/github/dudeperf3ct/DL_notebooks/blob/master/Siamese/Siamese_MNIST_keras.ipynb)\n"
      ]
    },
    {
      "cell_type": "markdown",
      "metadata": {
        "id": "w7JO0NtG9l-e",
        "colab_type": "text"
      },
      "source": [
        "# Keras"
      ]
    },
    {
      "cell_type": "code",
      "metadata": {
        "id": "UDK__uIFgu0F",
        "colab_type": "code",
        "colab": {}
      },
      "source": [
        "import keras\n",
        "import random\n",
        "import tensorflow as tf\n",
        "import numpy as np\n",
        "import time\n",
        "import keras.backend as K\n",
        "from keras.datasets import mnist\n",
        "from keras.utils import to_categorical\n",
        "from keras.models import Model, load_model\n",
        "from keras.layers import Conv2D, MaxPooling2D, Dropout, Flatten, Dense, Lambda, Layer, Input, concatenate, Concatenate\n",
        "from functools import partial, update_wrapper\n",
        "import matplotlib.pyplot as plt\n",
        "%matplotlib inline\n",
        "plt.rcParams['image.cmap'] = 'gray'\n",
        "\n",
        "np.random.seed(42)"
      ],
      "execution_count": 0,
      "outputs": []
    },
    {
      "cell_type": "code",
      "metadata": {
        "id": "Vkvuz_y-9lfn",
        "colab_type": "code",
        "outputId": "6c3e27ae-d92c-4c22-88de-f6ce827a0095",
        "colab": {
          "base_uri": "https://localhost:8080/",
          "height": 53
        }
      },
      "source": [
        "(train_X, train_Y), (val_X, val_Y) = mnist.load_data()\n",
        "print ('Training shape:', train_X.shape, train_Y.shape)\n",
        "print ('Validation shape:', val_X.shape, val_Y.shape)"
      ],
      "execution_count": 0,
      "outputs": [
        {
          "output_type": "stream",
          "text": [
            "Training shape: (60000, 28, 28) (60000,)\n",
            "Validation shape: (10000, 28, 28) (10000,)\n"
          ],
          "name": "stdout"
        }
      ]
    },
    {
      "cell_type": "code",
      "metadata": {
        "id": "d3IXRFGWh7AL",
        "colab_type": "code",
        "colab": {}
      },
      "source": [
        "img_size = 28\n",
        "input_shape = (28, 28, 1)\n",
        "num_classes = 10"
      ],
      "execution_count": 0,
      "outputs": []
    },
    {
      "cell_type": "code",
      "metadata": {
        "id": "ZbOgH4O-h64i",
        "colab_type": "code",
        "outputId": "cfe37948-9666-4143-c0d2-33d0cfeb9ef8",
        "colab": {
          "base_uri": "https://localhost:8080/",
          "height": 53
        }
      },
      "source": [
        "train_x = train_X.astype('float32')\n",
        "val_x = val_X.astype('float32')\n",
        "train_x /= 255\n",
        "val_x /= 255\n",
        "\n",
        "train_y = to_categorical(train_Y, num_classes=num_classes)\n",
        "val_y = to_categorical(val_Y, num_classes=num_classes)\n",
        "print ('Training shape:', train_x.shape, train_y.shape)\n",
        "print ('Validation shape:', val_x.shape, val_y.shape)"
      ],
      "execution_count": 0,
      "outputs": [
        {
          "output_type": "stream",
          "text": [
            "Training shape: (60000, 28, 28) (60000, 10)\n",
            "Validation shape: (10000, 28, 28) (10000, 10)\n"
          ],
          "name": "stdout"
        }
      ]
    },
    {
      "cell_type": "code",
      "metadata": {
        "id": "QJGrb5UP9li1",
        "colab_type": "code",
        "colab": {}
      },
      "source": [
        "def siamese_network():\n",
        "    \n",
        "    inp = Input(shape=(28, 28, 1))\n",
        "    x = Conv2D(32, (3, 3), activation='relu', input_shape=input_shape)(inp)\n",
        "    x = Conv2D(64, (3, 3), activation='relu')(x)\n",
        "    x = MaxPooling2D(pool_size=(2, 2))(x)\n",
        "    x = Dropout(0.5)(x)\n",
        "    x = Flatten()(x)\n",
        "    x = Dense(128, activation='relu')(x)\n",
        "    norm_layer = Lambda(lambda  x: K.l2_normalize(x, axis=1), name='norm_layer')(x)\n",
        "    \n",
        "    return Model(inputs=inp, outputs=norm_layer)"
      ],
      "execution_count": 0,
      "outputs": []
    },
    {
      "cell_type": "code",
      "metadata": {
        "id": "_qC7W70atQuy",
        "colab_type": "code",
        "outputId": "9adee29b-7678-45d1-aba8-9863f334eb93",
        "colab": {
          "base_uri": "https://localhost:8080/",
          "height": 428
        }
      },
      "source": [
        "siamese_model = siamese_network()\n",
        "siamese_model.summary()"
      ],
      "execution_count": 0,
      "outputs": [
        {
          "output_type": "stream",
          "text": [
            "_________________________________________________________________\n",
            "Layer (type)                 Output Shape              Param #   \n",
            "=================================================================\n",
            "input_3 (InputLayer)         (None, 28, 28, 1)         0         \n",
            "_________________________________________________________________\n",
            "conv2d_5 (Conv2D)            (None, 26, 26, 32)        320       \n",
            "_________________________________________________________________\n",
            "conv2d_6 (Conv2D)            (None, 24, 24, 64)        18496     \n",
            "_________________________________________________________________\n",
            "max_pooling2d_3 (MaxPooling2 (None, 12, 12, 64)        0         \n",
            "_________________________________________________________________\n",
            "dropout_3 (Dropout)          (None, 12, 12, 64)        0         \n",
            "_________________________________________________________________\n",
            "flatten_3 (Flatten)          (None, 9216)              0         \n",
            "_________________________________________________________________\n",
            "dense_3 (Dense)              (None, 128)               1179776   \n",
            "_________________________________________________________________\n",
            "norm_layer (Lambda)          (None, 128)               0         \n",
            "=================================================================\n",
            "Total params: 1,198,592\n",
            "Trainable params: 1,198,592\n",
            "Non-trainable params: 0\n",
            "_________________________________________________________________\n"
          ],
          "name": "stdout"
        }
      ]
    },
    {
      "cell_type": "markdown",
      "metadata": {
        "id": "N3d4uT_pFvKs",
        "colab_type": "text"
      },
      "source": [
        "## Method - 1 (Triplet Loss)"
      ]
    },
    {
      "cell_type": "markdown",
      "metadata": {
        "id": "YcWqeIyss9mX",
        "colab_type": "text"
      },
      "source": [
        "### FInd hard positives and negatives using embedding distance"
      ]
    },
    {
      "cell_type": "code",
      "metadata": {
        "colab_type": "code",
        "id": "_Ux_GY3Gv60M",
        "colab": {}
      },
      "source": [
        "num_images_by_class = []\n",
        "\n",
        "for i in range(len(np.unique(train_Y))):\n",
        "    \n",
        "    num_images_by_class.append(len(train_Y[train_Y == i]))\n",
        "    \n",
        "num_images_by_class = np.array(num_images_by_class)"
      ],
      "execution_count": 0,
      "outputs": []
    },
    {
      "cell_type": "code",
      "metadata": {
        "id": "oF26umBysFPZ",
        "colab_type": "code",
        "colab": {}
      },
      "source": [
        "#Form batches by randomly sampling P classes (person identities), \n",
        "#and then randomly sampling K images of each class (person)\n",
        "#resulting in a batch of PK images.\n",
        "#Choose B, P, and K in such a way that 3B is close to PK\n",
        "#P = 42, K = 4, B = 96\n",
        "\n",
        "#For each sample a in the batch, we can select the hardest positive \n",
        "#and the hardest negative samples within the batch when forming the triplets \n",
        "#for computing the loss, which we call Batch Hard\n",
        "\n",
        "#The selected triplets can be considered moderate triplets, \n",
        "#since they are the hardest within a small subset of the data, \n",
        "#which is exactly what is best for learning with the triplet loss\n",
        "\n",
        "class BatchHard:\n",
        "    \n",
        "    def __init__(self, batch_size, P):\n",
        "        self.P = P\n",
        "        self.batch_size = batch_size\n",
        "        \n",
        "    def get_batch(self):\n",
        "        \n",
        "        #randomly sample P classes based on probability distribution of classes\n",
        "        P_classes = np.random.choice(np.arange(train_y.shape[1]), p=num_images_by_class/num_images_by_class.sum(), size=self.P)\n",
        "        #print (P_classes)\n",
        "        batch_samples = []\n",
        "        anchors = []\n",
        "        positives = []\n",
        "        negatives = []\n",
        "        j = 0        \n",
        "\n",
        "        #for each class in P\n",
        "        for i in P_classes:\n",
        "            #find the instances of same class\n",
        "            lbl_index = np.where(train_Y == i)\n",
        "            #sample 1 images of each classes\n",
        "            random_index = np.random.choice(lbl_index[0], size=1)\n",
        "            #batch of P images\n",
        "            batch_samples.append(train_X[random_index])\n",
        "            j += 1\n",
        "\n",
        "        batch_samples = np.squeeze(batch_samples)\n",
        "        batch = batch_samples.reshape((-1, 28, 28, 1))\n",
        "\n",
        "        #pass the batch of P images to siamese network to predict embeddings for each image\n",
        "        pred_batch_samples = siamese_model.predict(batch)\n",
        "\n",
        "        #find all hardest positive and hard negative for each a in batch\n",
        "        for i in range(len(batch_samples)):\n",
        "            #print ('Current:', P_classes[i])\n",
        "            similar_class = np.where(P_classes == P_classes[i])[0]\n",
        "            diff_class = np.where(P_classes != P_classes[i])[0]\n",
        "            #print ('Similar Class:', similar_class)\n",
        "            #print ('Different Class:', diff_class)\n",
        "\n",
        "            a = pred_batch_samples[i]\n",
        "            anchors.append(batch_samples[i])\n",
        "            #print ('Anchor predicted embedding:', a, a.shape)\n",
        "\n",
        "            # find hard positive\n",
        "            positive_dist = []\n",
        "            #print ('Positive predicted embedding:')\n",
        "            for sim_index in similar_class:\n",
        "                #print (pred_batch_samples[sim_index], pred_batch_samples[sim_index].shape)\n",
        "                positive_dist.append(np.linalg.norm(a-pred_batch_samples[sim_index]))\n",
        "            #print ('Positive:', positive_dist, similar_class[np.argmax(np.array(positive_dist))])\n",
        "            positives.append(batch_samples[similar_class[np.argmax(np.array(positive_dist))]])\n",
        "\n",
        "            # find hard negative\n",
        "            negative_dist = []\n",
        "            for diff_index in diff_class:\n",
        "                negative_dist.append(np.linalg.norm(a-pred_batch_samples[diff_index]))\n",
        "            #print ('Negative:', negative_dist, diff_class[np.argmin(np.array(negative_dist))])\n",
        "            negatives.append(batch_samples[diff_class[np.argmin(np.array(negative_dist))]])\n",
        "        anchors = np.array(anchors)\n",
        "        anchors = anchors.reshape(-1, anchors.shape[-2], anchors.shape[-1])\n",
        "        positives = np.array(positives)\n",
        "        positives = positives.reshape(-1, positives.shape[-2], positives.shape[-1])\n",
        "        negatives = np.array(negatives)\n",
        "        negatives = negatives.reshape(-1, negatives.shape[-2], negatives.shape[-1])\n",
        "        self.triplets = [np.expand_dims(anchors, axis=-1), np.expand_dims(positives, axis=-1), np.expand_dims(negatives, axis=-1)]\n",
        "\n",
        "        return np.array(self.triplets)\n",
        "\n",
        "    def show_samples(self, anchors, positives, negatives):\n",
        "        rand_index = random.sample(list(np.arange(anchors.shape[0])), 4) \n",
        "        fig, ax = plt.subplots(4, 3)\n",
        "        ax[0][0].imshow(np.squeeze(anchors[rand_index[0]]))\n",
        "        ax[0][1].imshow(np.squeeze(positives[rand_index[0]]))\n",
        "        ax[0][2].imshow(np.squeeze(negatives[rand_index[0]]))\n",
        "        ax[1][0].imshow(np.squeeze(anchors[rand_index[1]]))\n",
        "        ax[1][1].imshow(np.squeeze(positives[rand_index[1]]))\n",
        "        ax[1][2].imshow(np.squeeze(negatives[rand_index[1]]))\n",
        "        ax[2][0].imshow(np.squeeze(anchors[rand_index[2]]))\n",
        "        ax[2][1].imshow(np.squeeze(positives[rand_index[2]]))\n",
        "        ax[2][2].imshow(np.squeeze(negatives[rand_index[2]]))\n",
        "        ax[3][0].imshow(np.squeeze(anchors[rand_index[3]]))\n",
        "        ax[3][1].imshow(np.squeeze(positives[rand_index[3]]))\n",
        "        ax[3][2].imshow(np.squeeze(negatives[rand_index[3]]))\n",
        "        plt.show()\n",
        "    \n",
        "#     # data generator for triplets\n",
        "#     def batch_generator(self):\n",
        "#         i = 0\n",
        "#         while True:\n",
        "#             a_embed = np.array(self.triplets[0][i:i+self.batch_size])\n",
        "#             p_embed = np.array(self.triplets[1][i:i+self.batch_size])\n",
        "#             n_embed = np.array(self.triplets[2][i:i+self.batch_size])\n",
        "#             print (np.array(self.triplets).shape)\n",
        "#             print (i, i+self.batch_size)\n",
        "#             print (a_embed.shape, p_embed.shape, n_embed.shape)\n",
        "#             i += self.batch_size\n",
        "\n",
        "#             yield (np.concatenate([a_embed, p_embed, n_embed], axis=0), np.zeros(3*self.batch_size))\n",
        "            \n",
        "#     # return data generator for triplets\n",
        "#     def get_generator(self):\n",
        "#         gen = self.batch_generator()\n",
        "#         return gen"
      ],
      "execution_count": 0,
      "outputs": []
    },
    {
      "cell_type": "code",
      "metadata": {
        "colab_type": "code",
        "id": "UPi_1oHY9iEp",
        "colab": {}
      },
      "source": [
        "class TripletLossLayer(Layer):\n",
        "    \n",
        "    def __init__(self, alpha, **kwargs):\n",
        "        self.alpha = alpha\n",
        "        super(TripletLossLayer, self).__init__(**kwargs)\n",
        "    \n",
        "    def triplet_loss(self, inputs):\n",
        "        a, p, n = inputs\n",
        "        p_dist = K.sum(K.square(a-p), axis=1)\n",
        "        n_dist = K.sum(K.square(a-n), axis=1)\n",
        "        return K.sum(K.maximum(p_dist - n_dist + self.alpha, 0), axis=0)\n",
        "    \n",
        "    def call(self, inputs):\n",
        "        loss = self.triplet_loss(inputs)\n",
        "        self.add_loss(loss)\n",
        "        return loss"
      ],
      "execution_count": 0,
      "outputs": []
    },
    {
      "cell_type": "code",
      "metadata": {
        "colab_type": "code",
        "id": "AbrVTLvc9iFj",
        "colab": {}
      },
      "source": [
        "a_inp = Input(shape=(28, 28, 1))\n",
        "p_inp = Input(shape=(28, 28, 1))\n",
        "n_inp = Input(shape=(28, 28, 1))"
      ],
      "execution_count": 0,
      "outputs": []
    },
    {
      "cell_type": "code",
      "metadata": {
        "colab_type": "code",
        "id": "cXJOGqVI9iF7",
        "colab": {}
      },
      "source": [
        "a_embed = siamese_model(a_inp)\n",
        "p_embed = siamese_model(p_inp)\n",
        "n_embed = siamese_model(n_inp)"
      ],
      "execution_count": 0,
      "outputs": []
    },
    {
      "cell_type": "code",
      "metadata": {
        "colab_type": "code",
        "id": "18Vpidva9iGT",
        "colab": {}
      },
      "source": [
        "# Layer that computes the triplet loss from anchor, positive and negative embedding vectors\n",
        "triplet_loss_layer = TripletLossLayer(alpha=0.2, name='triplet_loss_layer')([a_embed, p_embed, n_embed])\n",
        "\n",
        "# Model that can be trained with anchor, positive negative images\n",
        "model = Model(inputs=[a_inp, p_inp, n_inp], outputs=triplet_loss_layer)"
      ],
      "execution_count": 0,
      "outputs": []
    },
    {
      "cell_type": "code",
      "metadata": {
        "colab_type": "code",
        "outputId": "f4d963a6-719b-4f69-feb3-d17abdfa944c",
        "id": "eXxt2z_19iGt",
        "colab": {
          "base_uri": "https://localhost:8080/",
          "height": 392
        }
      },
      "source": [
        "model.summary()\n",
        "model.compile(loss=None, optimizer='adam')"
      ],
      "execution_count": 0,
      "outputs": [
        {
          "output_type": "stream",
          "text": [
            "__________________________________________________________________________________________________\n",
            "Layer (type)                    Output Shape         Param #     Connected to                     \n",
            "==================================================================================================\n",
            "input_7 (InputLayer)            (None, 28, 28, 1)    0                                            \n",
            "__________________________________________________________________________________________________\n",
            "input_8 (InputLayer)            (None, 28, 28, 1)    0                                            \n",
            "__________________________________________________________________________________________________\n",
            "input_9 (InputLayer)            (None, 28, 28, 1)    0                                            \n",
            "__________________________________________________________________________________________________\n",
            "model_3 (Model)                 (None, 128)          1198592     input_7[0][0]                    \n",
            "                                                                 input_8[0][0]                    \n",
            "                                                                 input_9[0][0]                    \n",
            "__________________________________________________________________________________________________\n",
            "triplet_loss_layer (TripletLoss [(None, 128), (None, 0           model_3[4][0]                    \n",
            "                                                                 model_3[5][0]                    \n",
            "                                                                 model_3[6][0]                    \n",
            "==================================================================================================\n",
            "Total params: 1,198,592\n",
            "Trainable params: 1,198,592\n",
            "Non-trainable params: 0\n",
            "__________________________________________________________________________________________________\n"
          ],
          "name": "stdout"
        }
      ]
    },
    {
      "cell_type": "code",
      "metadata": {
        "id": "XPabMKMK9q2M",
        "colab_type": "code",
        "colab": {}
      },
      "source": [
        "batch_size = 60\n",
        "P = 20000"
      ],
      "execution_count": 0,
      "outputs": []
    },
    {
      "cell_type": "code",
      "metadata": {
        "colab_type": "code",
        "id": "8sV3rgnd9ZkS",
        "colab": {}
      },
      "source": [
        "batches = BatchHard(batch_size, P)\n",
        "triplets = batches.get_batch()\n",
        "a = np.array(triplets[0])\n",
        "p = np.array(triplets[1])\n",
        "n = np.array(triplets[2])"
      ],
      "execution_count": 0,
      "outputs": []
    },
    {
      "cell_type": "code",
      "metadata": {
        "id": "FUPldkf-yvn2",
        "colab_type": "code",
        "outputId": "6f4202d3-6260-4e56-b064-0560fabb46c0",
        "colab": {
          "base_uri": "https://localhost:8080/",
          "height": 1822
        }
      },
      "source": [
        "model.fit([a, p, n], None, epochs=50, batch_size=batch_size, verbose=1)"
      ],
      "execution_count": 0,
      "outputs": [
        {
          "output_type": "stream",
          "text": [
            "Epoch 1/50\n",
            "20000/20000 [==============================] - 4s 224us/step - loss: 5.3933\n",
            "Epoch 2/50\n",
            "20000/20000 [==============================] - 4s 195us/step - loss: 1.0430\n",
            "Epoch 3/50\n",
            "20000/20000 [==============================] - 4s 188us/step - loss: 0.5894\n",
            "Epoch 4/50\n",
            "20000/20000 [==============================] - 4s 189us/step - loss: 0.3798\n",
            "Epoch 5/50\n",
            "20000/20000 [==============================] - 4s 189us/step - loss: 0.2910\n",
            "Epoch 6/50\n",
            "20000/20000 [==============================] - 4s 189us/step - loss: 0.1995\n",
            "Epoch 7/50\n",
            "20000/20000 [==============================] - 4s 189us/step - loss: 0.1708\n",
            "Epoch 8/50\n",
            "20000/20000 [==============================] - 4s 189us/step - loss: 0.1668\n",
            "Epoch 9/50\n",
            "20000/20000 [==============================] - 4s 191us/step - loss: 0.1227\n",
            "Epoch 10/50\n",
            "20000/20000 [==============================] - 4s 189us/step - loss: 0.1190\n",
            "Epoch 11/50\n",
            "20000/20000 [==============================] - 4s 189us/step - loss: 0.1274\n",
            "Epoch 12/50\n",
            "20000/20000 [==============================] - 4s 189us/step - loss: 0.0916\n",
            "Epoch 13/50\n",
            "20000/20000 [==============================] - 4s 189us/step - loss: 0.0794\n",
            "Epoch 14/50\n",
            "20000/20000 [==============================] - 4s 190us/step - loss: 0.0690\n",
            "Epoch 15/50\n",
            "20000/20000 [==============================] - 4s 190us/step - loss: 0.0707\n",
            "Epoch 16/50\n",
            "20000/20000 [==============================] - 4s 190us/step - loss: 0.0730\n",
            "Epoch 17/50\n",
            "20000/20000 [==============================] - 4s 190us/step - loss: 0.0615\n",
            "Epoch 18/50\n",
            "20000/20000 [==============================] - 4s 190us/step - loss: 0.0599\n",
            "Epoch 19/50\n",
            "20000/20000 [==============================] - 4s 190us/step - loss: 0.0570\n",
            "Epoch 20/50\n",
            "20000/20000 [==============================] - 4s 189us/step - loss: 0.0635\n",
            "Epoch 21/50\n",
            "20000/20000 [==============================] - 4s 195us/step - loss: 0.0656\n",
            "Epoch 22/50\n",
            "20000/20000 [==============================] - 4s 198us/step - loss: 0.0525\n",
            "Epoch 23/50\n",
            "20000/20000 [==============================] - 4s 198us/step - loss: 0.0456\n",
            "Epoch 24/50\n",
            "20000/20000 [==============================] - 4s 189us/step - loss: 0.0441\n",
            "Epoch 25/50\n",
            "20000/20000 [==============================] - 4s 189us/step - loss: 0.0392\n",
            "Epoch 26/50\n",
            "20000/20000 [==============================] - 4s 190us/step - loss: 0.0418\n",
            "Epoch 27/50\n",
            "20000/20000 [==============================] - 4s 189us/step - loss: 0.0373\n",
            "Epoch 28/50\n",
            "20000/20000 [==============================] - 4s 189us/step - loss: 0.0391\n",
            "Epoch 29/50\n",
            "20000/20000 [==============================] - 4s 191us/step - loss: 0.0362\n",
            "Epoch 30/50\n",
            "20000/20000 [==============================] - 4s 191us/step - loss: 0.0363\n",
            "Epoch 31/50\n",
            "20000/20000 [==============================] - 4s 190us/step - loss: 0.0292\n",
            "Epoch 32/50\n",
            "20000/20000 [==============================] - 4s 191us/step - loss: 0.0348\n",
            "Epoch 33/50\n",
            "20000/20000 [==============================] - 4s 189us/step - loss: 0.0329\n",
            "Epoch 34/50\n",
            "20000/20000 [==============================] - 4s 190us/step - loss: 0.0384\n",
            "Epoch 35/50\n",
            "20000/20000 [==============================] - 4s 191us/step - loss: 0.0290\n",
            "Epoch 36/50\n",
            "20000/20000 [==============================] - 4s 190us/step - loss: 0.0262\n",
            "Epoch 37/50\n",
            "20000/20000 [==============================] - 4s 190us/step - loss: 0.0325\n",
            "Epoch 38/50\n",
            "20000/20000 [==============================] - 4s 191us/step - loss: 0.0309\n",
            "Epoch 39/50\n",
            "20000/20000 [==============================] - 4s 191us/step - loss: 0.0238\n",
            "Epoch 40/50\n",
            "20000/20000 [==============================] - 4s 191us/step - loss: 0.0286\n",
            "Epoch 41/50\n",
            "20000/20000 [==============================] - 4s 191us/step - loss: 0.0231\n",
            "Epoch 42/50\n",
            "20000/20000 [==============================] - 4s 194us/step - loss: 0.0230\n",
            "Epoch 43/50\n",
            "20000/20000 [==============================] - 4s 199us/step - loss: 0.0198\n",
            "Epoch 44/50\n",
            "20000/20000 [==============================] - 4s 199us/step - loss: 0.0242\n",
            "Epoch 45/50\n",
            "20000/20000 [==============================] - 4s 191us/step - loss: 0.0181\n",
            "Epoch 46/50\n",
            "20000/20000 [==============================] - 4s 191us/step - loss: 0.0163\n",
            "Epoch 47/50\n",
            "20000/20000 [==============================] - 4s 191us/step - loss: 0.0242\n",
            "Epoch 48/50\n",
            "20000/20000 [==============================] - 4s 191us/step - loss: 0.0204\n",
            "Epoch 49/50\n",
            "20000/20000 [==============================] - 4s 191us/step - loss: 0.0195\n",
            "Epoch 50/50\n",
            "20000/20000 [==============================] - 4s 191us/step - loss: 0.0141\n"
          ],
          "name": "stdout"
        },
        {
          "output_type": "execute_result",
          "data": {
            "text/plain": [
              "<keras.callbacks.History at 0x7fc51df652b0>"
            ]
          },
          "metadata": {
            "tags": []
          },
          "execution_count": 46
        }
      ]
    },
    {
      "cell_type": "code",
      "metadata": {
        "id": "MCK_pC-D-oPr",
        "colab_type": "code",
        "colab": {}
      },
      "source": [
        ""
      ],
      "execution_count": 0,
      "outputs": []
    },
    {
      "cell_type": "markdown",
      "metadata": {
        "colab_type": "text",
        "id": "4X7n3gLb-om8"
      },
      "source": [
        "#### t-SNE visualization"
      ]
    },
    {
      "cell_type": "code",
      "metadata": {
        "colab_type": "code",
        "outputId": "8d9bfd5b-6bdd-4aac-c950-e2b288184d34",
        "id": "BuVwtQAX-onF",
        "colab": {
          "base_uri": "https://localhost:8080/",
          "height": 35
        }
      },
      "source": [
        "import random\n",
        "from keras.models import Model\n",
        "from keras.preprocessing import image\n",
        "np.random.seed(42)\n",
        "\n",
        "arr = train_X[:512]\n",
        "lbl = train_Y[:512]\n",
        "print (arr.shape, lbl.shape)"
      ],
      "execution_count": 0,
      "outputs": [
        {
          "output_type": "stream",
          "text": [
            "(512, 28, 28) (512,)\n"
          ],
          "name": "stdout"
        }
      ]
    },
    {
      "cell_type": "code",
      "metadata": {
        "colab_type": "code",
        "outputId": "c3ee3c01-cd09-462c-98e3-5eabddd7cdc7",
        "id": "64rr_7NF-onz",
        "colab": {
          "base_uri": "https://localhost:8080/",
          "height": 392
        }
      },
      "source": [
        "model.summary()"
      ],
      "execution_count": 0,
      "outputs": [
        {
          "output_type": "stream",
          "text": [
            "__________________________________________________________________________________________________\n",
            "Layer (type)                    Output Shape         Param #     Connected to                     \n",
            "==================================================================================================\n",
            "input_7 (InputLayer)            (None, 28, 28, 1)    0                                            \n",
            "__________________________________________________________________________________________________\n",
            "input_8 (InputLayer)            (None, 28, 28, 1)    0                                            \n",
            "__________________________________________________________________________________________________\n",
            "input_9 (InputLayer)            (None, 28, 28, 1)    0                                            \n",
            "__________________________________________________________________________________________________\n",
            "model_3 (Model)                 (None, 128)          1198592     input_7[0][0]                    \n",
            "                                                                 input_8[0][0]                    \n",
            "                                                                 input_9[0][0]                    \n",
            "__________________________________________________________________________________________________\n",
            "triplet_loss_layer (TripletLoss [(None, 128), (None, 0           model_3[4][0]                    \n",
            "                                                                 model_3[5][0]                    \n",
            "                                                                 model_3[6][0]                    \n",
            "==================================================================================================\n",
            "Total params: 1,198,592\n",
            "Trainable params: 1,198,592\n",
            "Non-trainable params: 0\n",
            "__________________________________________________________________________________________________\n"
          ],
          "name": "stdout"
        }
      ]
    },
    {
      "cell_type": "code",
      "metadata": {
        "colab_type": "code",
        "outputId": "6a60d4b9-0434-4ddd-ad52-03bd010cc08e",
        "id": "_MEqWgc0-ooh",
        "colab": {
          "base_uri": "https://localhost:8080/",
          "height": 428
        }
      },
      "source": [
        "model.layers[3].summary()"
      ],
      "execution_count": 0,
      "outputs": [
        {
          "output_type": "stream",
          "text": [
            "_________________________________________________________________\n",
            "Layer (type)                 Output Shape              Param #   \n",
            "=================================================================\n",
            "input_3 (InputLayer)         (None, 28, 28, 1)         0         \n",
            "_________________________________________________________________\n",
            "conv2d_5 (Conv2D)            (None, 26, 26, 32)        320       \n",
            "_________________________________________________________________\n",
            "conv2d_6 (Conv2D)            (None, 24, 24, 64)        18496     \n",
            "_________________________________________________________________\n",
            "max_pooling2d_3 (MaxPooling2 (None, 12, 12, 64)        0         \n",
            "_________________________________________________________________\n",
            "dropout_3 (Dropout)          (None, 12, 12, 64)        0         \n",
            "_________________________________________________________________\n",
            "flatten_3 (Flatten)          (None, 9216)              0         \n",
            "_________________________________________________________________\n",
            "dense_3 (Dense)              (None, 128)               1179776   \n",
            "_________________________________________________________________\n",
            "norm_layer (Lambda)          (None, 128)               0         \n",
            "=================================================================\n",
            "Total params: 1,198,592\n",
            "Trainable params: 1,198,592\n",
            "Non-trainable params: 0\n",
            "_________________________________________________________________\n"
          ],
          "name": "stdout"
        }
      ]
    },
    {
      "cell_type": "code",
      "metadata": {
        "colab_type": "code",
        "id": "emDMeRB5-opF",
        "colab": {}
      },
      "source": [
        "model.save_weights('weights.h5')"
      ],
      "execution_count": 0,
      "outputs": []
    },
    {
      "cell_type": "code",
      "metadata": {
        "colab_type": "code",
        "outputId": "eb8505ce-049c-485c-d714-0f6e0cdc5091",
        "id": "ROEVX8Ra-opa",
        "colab": {
          "base_uri": "https://localhost:8080/",
          "height": 214
        }
      },
      "source": [
        "tmp_model = Model(a_inp, a_embed)\n",
        "tmp_model.summary()\n",
        "tmp_model.load_weights('weights.h5')"
      ],
      "execution_count": 0,
      "outputs": [
        {
          "output_type": "stream",
          "text": [
            "_________________________________________________________________\n",
            "Layer (type)                 Output Shape              Param #   \n",
            "=================================================================\n",
            "input_7 (InputLayer)         (None, 28, 28, 1)         0         \n",
            "_________________________________________________________________\n",
            "model_3 (Model)              (None, 128)               1198592   \n",
            "=================================================================\n",
            "Total params: 1,198,592\n",
            "Trainable params: 1,198,592\n",
            "Non-trainable params: 0\n",
            "_________________________________________________________________\n"
          ],
          "name": "stdout"
        }
      ]
    },
    {
      "cell_type": "code",
      "metadata": {
        "colab_type": "code",
        "outputId": "da0ec138-5346-446e-9c97-e7d5f3286ef5",
        "id": "qUYMwy4D-oqF",
        "colab": {
          "base_uri": "https://localhost:8080/",
          "height": 392
        }
      },
      "source": [
        "X_train_trm = tmp_model.predict(train_x.reshape(-1,28,28,1))\n",
        "\n",
        "Classifier_input = Input((128,))\n",
        "Classifier_output = Dense(10, activation='softmax')(Classifier_input)\n",
        "Classifier_model = Model(Classifier_input, Classifier_output)\n",
        "\n",
        "\n",
        "Classifier_model.compile(optimizer='adam',loss='categorical_crossentropy',metrics=['accuracy'])\n",
        "\n",
        "Classifier_model.fit(X_train_trm, train_y, epochs=10)"
      ],
      "execution_count": 0,
      "outputs": [
        {
          "output_type": "stream",
          "text": [
            "Epoch 1/10\n",
            "60000/60000 [==============================] - 5s 83us/step - loss: 2.2380 - acc: 0.2377\n",
            "Epoch 2/10\n",
            "60000/60000 [==============================] - 5s 78us/step - loss: 2.1292 - acc: 0.4381\n",
            "Epoch 3/10\n",
            "60000/60000 [==============================] - 5s 78us/step - loss: 2.0372 - acc: 0.5031\n",
            "Epoch 4/10\n",
            "60000/60000 [==============================] - 5s 78us/step - loss: 1.9579 - acc: 0.5386\n",
            "Epoch 5/10\n",
            "60000/60000 [==============================] - 5s 77us/step - loss: 1.8887 - acc: 0.5583\n",
            "Epoch 6/10\n",
            "60000/60000 [==============================] - 5s 78us/step - loss: 1.8280 - acc: 0.5679\n",
            "Epoch 7/10\n",
            "60000/60000 [==============================] - 5s 78us/step - loss: 1.7739 - acc: 0.5774\n",
            "Epoch 8/10\n",
            "60000/60000 [==============================] - 5s 79us/step - loss: 1.7260 - acc: 0.5857\n",
            "Epoch 9/10\n",
            "60000/60000 [==============================] - 5s 90us/step - loss: 1.6829 - acc: 0.5913\n",
            "Epoch 10/10\n",
            "60000/60000 [==============================] - 5s 88us/step - loss: 1.6439 - acc: 0.5978\n"
          ],
          "name": "stdout"
        },
        {
          "output_type": "execute_result",
          "data": {
            "text/plain": [
              "<keras.callbacks.History at 0x7fc51d949860>"
            ]
          },
          "metadata": {
            "tags": []
          },
          "execution_count": 53
        }
      ]
    },
    {
      "cell_type": "code",
      "metadata": {
        "colab_type": "code",
        "outputId": "dcf2233a-ef76-4cf6-9413-ce3d9ea215db",
        "id": "rQW4BOLw-oql",
        "colab": {
          "base_uri": "https://localhost:8080/",
          "height": 35
        }
      },
      "source": [
        "img_arr = arr.reshape(*arr.shape, 1)\n",
        "img_arr.shape"
      ],
      "execution_count": 0,
      "outputs": [
        {
          "output_type": "execute_result",
          "data": {
            "text/plain": [
              "(512, 28, 28, 1)"
            ]
          },
          "metadata": {
            "tags": []
          },
          "execution_count": 54
        }
      ]
    },
    {
      "cell_type": "code",
      "metadata": {
        "colab_type": "code",
        "outputId": "27554b1d-78eb-4023-9fd6-a849a4f5e8e9",
        "id": "pVEW3q-B-orI",
        "colab": {
          "base_uri": "https://localhost:8080/",
          "height": 35
        }
      },
      "source": [
        "preds = tmp_model.predict(img_arr, batch_size=50)\n",
        "print (preds.shape)"
      ],
      "execution_count": 0,
      "outputs": [
        {
          "output_type": "stream",
          "text": [
            "(512, 128)\n"
          ],
          "name": "stdout"
        }
      ]
    },
    {
      "cell_type": "code",
      "metadata": {
        "colab_type": "code",
        "id": "ea_pxxg7-orn",
        "colab": {}
      },
      "source": [
        "import pandas as pd\n",
        "import seaborn as sns\n",
        "import matplotlib.patheffects as PathEffects\n",
        "from sklearn.manifold import TSNE\n",
        "import matplotlib.pyplot as plt\n",
        "%matplotlib inline\n",
        "\n",
        "# Define our own plot function\n",
        "def scatter(x, labels, subtitle=None):\n",
        "    # We choose a color palette with seaborn.\n",
        "    palette = np.array(sns.color_palette(\"hls\", 10))\n",
        "\n",
        "    # We create a scatter plot.\n",
        "    f = plt.figure(figsize=(8, 8))\n",
        "    ax = plt.subplot(aspect='equal')\n",
        "    sc = ax.scatter(x[:,0], x[:,1], lw=0, s=40,\n",
        "                    c=palette[labels.astype(np.int)])\n",
        "    plt.xlim(-25, 25)\n",
        "    plt.ylim(-25, 25)\n",
        "    ax.axis('off')\n",
        "    ax.axis('tight')\n",
        "\n",
        "    # We add the labels for each digit.\n",
        "    txts = []\n",
        "    for i in range(10):\n",
        "        # Position of each label.\n",
        "        xtext, ytext = np.median(x[labels == i, :], axis=0)\n",
        "        txt = ax.text(xtext, ytext, str(i), fontsize=24)\n",
        "        txt.set_path_effects([\n",
        "            PathEffects.Stroke(linewidth=5, foreground=\"w\"),\n",
        "            PathEffects.Normal()])\n",
        "        txts.append(txt)\n",
        "        \n",
        "    if subtitle != None:\n",
        "        plt.suptitle(subtitle)\n",
        "        \n",
        "    plt.savefig(subtitle)"
      ],
      "execution_count": 0,
      "outputs": []
    },
    {
      "cell_type": "code",
      "metadata": {
        "colab_type": "code",
        "id": "yOZ2A1xR-osB",
        "colab": {}
      },
      "source": [
        "x_train_flat = train_x.reshape(-1,784)"
      ],
      "execution_count": 0,
      "outputs": []
    },
    {
      "cell_type": "code",
      "metadata": {
        "colab_type": "code",
        "outputId": "a538feb4-062b-427d-cc21-e23110bdb5fa",
        "id": "PLpwXzMp-osb",
        "colab": {
          "base_uri": "https://localhost:8080/",
          "height": 540
        }
      },
      "source": [
        "tsne = TSNE()\n",
        "train_tsne_embeds = tsne.fit_transform(x_train_flat[:512])\n",
        "scatter(train_tsne_embeds, train_Y[:512], \"Samples from Training Data\")"
      ],
      "execution_count": 0,
      "outputs": [
        {
          "output_type": "display_data",
          "data": {
            "image/png": "[encoded data removed]",
            "text/plain": [
              "<Figure size 576x576 with 1 Axes>"
            ]
          },
          "metadata": {
            "tags": []
          }
        }
      ]
    },
    {
      "cell_type": "code",
      "metadata": {
        "colab_type": "code",
        "id": "uPoFlU12-os4",
        "colab": {}
      },
      "source": [
        ""
      ],
      "execution_count": 0,
      "outputs": []
    },
    {
      "cell_type": "code",
      "metadata": {
        "colab_type": "code",
        "outputId": "3927926a-d8a5-4661-ed93-4d7c4b648d33",
        "id": "MyBCJQVM-otG",
        "colab": {
          "base_uri": "https://localhost:8080/",
          "height": 35
        }
      },
      "source": [
        "import pandas as pd\n",
        "import seaborn as sns\n",
        "from sklearn.manifold import TSNE\n",
        "\n",
        "l = np.array(lbl)\n",
        "l[:5]"
      ],
      "execution_count": 0,
      "outputs": [
        {
          "output_type": "execute_result",
          "data": {
            "text/plain": [
              "array([5, 0, 4, 1, 9], dtype=uint8)"
            ]
          },
          "metadata": {
            "tags": []
          },
          "execution_count": 59
        }
      ]
    },
    {
      "cell_type": "code",
      "metadata": {
        "colab_type": "code",
        "id": "KE-L6jfD-oto",
        "colab": {}
      },
      "source": [
        "preds_trans = TSNE().fit_transform(preds)"
      ],
      "execution_count": 0,
      "outputs": []
    },
    {
      "cell_type": "code",
      "metadata": {
        "colab_type": "code",
        "outputId": "9f2f285d-b84b-46a0-8031-70bd9c31bbdd",
        "id": "6BQTa8PJ-ot1",
        "colab": {
          "base_uri": "https://localhost:8080/",
          "height": 540
        }
      },
      "source": [
        "scatter(preds_trans, train_Y[:512], \"Training Data After TNN\")"
      ],
      "execution_count": 0,
      "outputs": [
        {
          "output_type": "display_data",
          "data": {
            "image/png": "[encoded data removed]",
            "text/plain": [
              "<Figure size 576x576 with 1 Axes>"
            ]
          },
          "metadata": {
            "tags": []
          }
        }
      ]
    },
    {
      "cell_type": "code",
      "metadata": {
        "colab_type": "code",
        "id": "HNE1gKKs-ouO",
        "colab": {}
      },
      "source": [
        "preds_df = pd.DataFrame(np.concatenate((preds_trans, l[:, None]), axis=1), columns=['x','y','labels'])"
      ],
      "execution_count": 0,
      "outputs": []
    },
    {
      "cell_type": "code",
      "metadata": {
        "colab_type": "code",
        "outputId": "dfe40106-1903-4a14-9577-80c71aea5fc5",
        "id": "lSq3g9ZN-oud",
        "colab": {
          "base_uri": "https://localhost:8080/",
          "height": 206
        }
      },
      "source": [
        "preds_df.head()"
      ],
      "execution_count": 0,
      "outputs": [
        {
          "output_type": "execute_result",
          "data": {
            "text/html": [
              "<div>\n",
              "<style scoped>\n",
              "    .dataframe tbody tr th:only-of-type {\n",
              "        vertical-align: middle;\n",
              "    }\n",
              "\n",
              "    .dataframe tbody tr th {\n",
              "        vertical-align: top;\n",
              "    }\n",
              "\n",
              "    .dataframe thead th {\n",
              "        text-align: right;\n",
              "    }\n",
              "</style>\n",
              "<table border=\"1\" class=\"dataframe\">\n",
              "  <thead>\n",
              "    <tr style=\"text-align: right;\">\n",
              "      <th></th>\n",
              "      <th>x</th>\n",
              "      <th>y</th>\n",
              "      <th>labels</th>\n",
              "    </tr>\n",
              "  </thead>\n",
              "  <tbody>\n",
              "    <tr>\n",
              "      <th>0</th>\n",
              "      <td>-6.717429</td>\n",
              "      <td>8.386817</td>\n",
              "      <td>5.0</td>\n",
              "    </tr>\n",
              "    <tr>\n",
              "      <th>1</th>\n",
              "      <td>-28.196423</td>\n",
              "      <td>15.490483</td>\n",
              "      <td>0.0</td>\n",
              "    </tr>\n",
              "    <tr>\n",
              "      <th>2</th>\n",
              "      <td>16.823631</td>\n",
              "      <td>1.653309</td>\n",
              "      <td>4.0</td>\n",
              "    </tr>\n",
              "    <tr>\n",
              "      <th>3</th>\n",
              "      <td>2.417643</td>\n",
              "      <td>-22.085928</td>\n",
              "      <td>1.0</td>\n",
              "    </tr>\n",
              "    <tr>\n",
              "      <th>4</th>\n",
              "      <td>10.743126</td>\n",
              "      <td>19.940912</td>\n",
              "      <td>9.0</td>\n",
              "    </tr>\n",
              "  </tbody>\n",
              "</table>\n",
              "</div>"
            ],
            "text/plain": [
              "           x          y  labels\n",
              "0  -6.717429   8.386817     5.0\n",
              "1 -28.196423  15.490483     0.0\n",
              "2  16.823631   1.653309     4.0\n",
              "3   2.417643 -22.085928     1.0\n",
              "4  10.743126  19.940912     9.0"
            ]
          },
          "metadata": {
            "tags": []
          },
          "execution_count": 63
        }
      ]
    },
    {
      "cell_type": "code",
      "metadata": {
        "colab_type": "code",
        "outputId": "7544df19-6e50-4978-ddd3-ad11ffaac1ab",
        "id": "EpB7wvoW-ou0",
        "colab": {
          "base_uri": "https://localhost:8080/",
          "height": 729
        }
      },
      "source": [
        "sns.lmplot('x', 'y', data=preds_df, hue='labels', fit_reg=False, legend=False, height=10)\n",
        "plt.grid(visible=False)"
      ],
      "execution_count": 0,
      "outputs": [
        {
          "output_type": "display_data",
          "data": {
            "image/png": "[encoded data removed]",
            "text/plain": [
              "<Figure size 720x720 with 1 Axes>"
            ]
          },
          "metadata": {
            "tags": []
          }
        }
      ]
    },
    {
      "cell_type": "code",
      "metadata": {
        "colab_type": "code",
        "id": "jTP86zwA-ovN",
        "colab": {}
      },
      "source": [
        ""
      ],
      "execution_count": 0,
      "outputs": []
    },
    {
      "cell_type": "markdown",
      "metadata": {
        "id": "sGSogN5ery0Y",
        "colab_type": "text"
      },
      "source": [
        "### Finding hard positives and negatives using image distance"
      ]
    },
    {
      "cell_type": "code",
      "metadata": {
        "colab_type": "code",
        "id": "V-xflGhyv83u",
        "colab": {}
      },
      "source": [
        "num_images_by_class = []\n",
        "\n",
        "for i in range(len(np.unique(train_Y))):\n",
        "    \n",
        "    num_images_by_class.append(len(train_Y[train_Y == i]))\n",
        "    \n",
        "num_images_by_class = np.array(num_images_by_class)"
      ],
      "execution_count": 0,
      "outputs": []
    },
    {
      "cell_type": "code",
      "metadata": {
        "id": "DS8duOwuWZ54",
        "colab_type": "code",
        "colab": {}
      },
      "source": [
        "#Form batches by randomly sampling P classes (person identities), \n",
        "#and then randomly sampling K images of each class (person)\n",
        "#resulting in a batch of PK images.\n",
        "#Choose B, P, and K in such a way that 3B is close to PK\n",
        "#P = 42, K = 4, B = 96\n",
        "\n",
        "#For each sample a in the batch, we can select the hardest positive \n",
        "#and the hardest negative samples within the batch when forming the triplets \n",
        "#for computing the loss, which we call Batch Hard\n",
        "\n",
        "#The selected triplets can be considered moderate triplets, \n",
        "#since they are the hardest within a small subset of the data, \n",
        "#which is exactly what is best for learning with the triplet loss\n",
        "\n",
        "class BatchHard:\n",
        "    \n",
        "    def __init__(self, batch_size, P, N):\n",
        "        self.P = P\n",
        "        self.N = N\n",
        "        self.batch_size = batch_size\n",
        "        \n",
        "    def get_batch(self):\n",
        "        \n",
        "        #randomly sample P classes based on probability distribution of classes\n",
        "        P_classes = np.random.choice(np.arange(train_y.shape[1]), p=num_images_by_class/num_images_by_class.sum(), size=self.P)\n",
        "        batch_samples = [[] for _ in range(self.P)]\n",
        "        anchors = [[] for _ in range(self.P)]\n",
        "        positives = [[] for _ in range(self.P)]\n",
        "        negatives = [[] for _ in range(self.P)]\n",
        "        j = 0        \n",
        "        \n",
        "        #for each class in P\n",
        "        for i in P_classes:\n",
        "            #find the instances of same class\n",
        "            lbl_index = np.where(train_Y == i)\n",
        "            #sample K images of each classes\n",
        "            random_index = np.random.choice(lbl_index[0], size=self.N)\n",
        "            #batch of PK images\n",
        "            batch_samples[j].append(train_X[random_index])\n",
        "            j += 1\n",
        "\n",
        "        batch_samples = np.squeeze(batch_samples)\n",
        "        \n",
        "        #find all hardest positive and hard negative for each a in batch\n",
        "        for i in range(len(batch_samples)):\n",
        "            similar_class = np.where(P_classes == P_classes[i])[0]\n",
        "            \n",
        "            j = 0\n",
        "            while(j < self.N):\n",
        "                a = batch_samples[i][j]\n",
        "                anchors[i].append(a)\n",
        "                \n",
        "                #find hard positive\n",
        "                positive_dist = [[] for _ in range(self.P)]\n",
        "                for p in range(self.P):\n",
        "                    if p not in similar_class :\n",
        "                        positive_dist[p].append([0]*self.N)           \n",
        "                    else:\n",
        "                        for k in range(self.N):\n",
        "                            positive_dist[p].append(np.linalg.norm(a-batch_samples[p][k]))\n",
        "                    positive_dist[p] = np.squeeze(np.array(positive_dist[p]))   \n",
        "                positives[i].append(batch_samples[np.argmax(np.array(positive_dist)) // self.N][np.argmax(np.array(positive_dist)) % self.N])\n",
        "                \n",
        "                #find hard negative             \n",
        "                negative_dist = [[] for _ in range(self.P)]\n",
        "                for p in range(self.P):\n",
        "                    if p in similar_class :\n",
        "                        negative_dist[p].append([np.nan]*self.N)           \n",
        "                    else:\n",
        "                        for k in range(self.N):\n",
        "                            negative_dist[p].append(np.linalg.norm(a-batch_samples[p][k]))\n",
        "                    negative_dist[p] = np.squeeze(np.array(negative_dist[p]))                \n",
        "\n",
        "                negatives[i].append(batch_samples[np.nanargmin(np.array(negative_dist)) // self.N][np.nanargmin(np.array(negative_dist)) % self.N])\n",
        "                j+=1\n",
        " \n",
        "        anchors = np.array(anchors)\n",
        "        anchors = anchors.reshape(-1, anchors.shape[-2], anchors.shape[-1])\n",
        "        positives = np.array(positives)\n",
        "        positives = positives.reshape(-1, positives.shape[-2], positives.shape[-1])\n",
        "        negatives = np.array(negatives)\n",
        "        negatives = negatives.reshape(-1, negatives.shape[-2], negatives.shape[-1])\n",
        "        self.triplets = [np.expand_dims(anchors, axis=-1), np.expand_dims(positives, axis=-1), np.expand_dims(negatives, axis=-1)]\n",
        "        \n",
        "        return np.array(self.triplets)\n",
        " \n",
        "    def show_samples(self, anchors, positives, negatives):\n",
        "        print (anchors.shape, anchors[0].shape, anchors[0][0].shape)\n",
        "        fig, ax = plt.subplots(4, 3)\n",
        "        ax[0][0].imshow(np.squeeze(anchors[0]))\n",
        "        ax[0][1].imshow(np.squeeze(positives[0]))\n",
        "        ax[0][2].imshow(np.squeeze(negatives[0]))\n",
        "        ax[1][0].imshow(np.squeeze(anchors[1]))\n",
        "        ax[1][1].imshow(np.squeeze(positives[1]))\n",
        "        ax[1][2].imshow(np.squeeze(negatives[1]))\n",
        "        ax[2][0].imshow(np.squeeze(anchors[2]))\n",
        "        ax[2][1].imshow(np.squeeze(positives[2]))\n",
        "        ax[2][2].imshow(np.squeeze(negatives[2]))\n",
        "        ax[3][0].imshow(np.squeeze(anchors[3]))\n",
        "        ax[3][1].imshow(np.squeeze(positives[3]))\n",
        "        ax[3][2].imshow(np.squeeze(negatives[3]))\n",
        "        plt.show()\n",
        "\n",
        "#     # data generator for triplets\n",
        "#     def batch_generator(self):\n",
        "#         i = 0\n",
        "#         while True:\n",
        "#             a_embed = np.array(self.triplets[0][i:i+self.batch_size])\n",
        "#             p_embed = np.array(self.triplets[1][i:i+self.batch_size])\n",
        "#             n_embed = np.array(self.triplets[2][i:i+self.batch_size])\n",
        "#             print (i, i+self.batch_size)\n",
        "#             print (a_embed.shape, p_embed.shape, n_embed.shape)\n",
        "#             print (a_embed)\n",
        "#             i += self.batch_size\n",
        "\n",
        "#             yield [a_embed, p_embed, n_embed], None\n",
        "            \n",
        "#     # return data generator for triplets\n",
        "#     def get_generator(self):\n",
        "#         gen = self.batch_generator()\n",
        "#         return gen       "
      ],
      "execution_count": 0,
      "outputs": []
    },
    {
      "cell_type": "code",
      "metadata": {
        "id": "U5Da3uTHjG_s",
        "colab_type": "code",
        "colab": {}
      },
      "source": [
        "class TripletLossLayer(Layer):\n",
        "    \n",
        "    def __init__(self, alpha, **kwargs):\n",
        "        self.alpha = alpha\n",
        "        super(TripletLossLayer, self).__init__(**kwargs)\n",
        "    \n",
        "    def triplet_loss(self, inputs):\n",
        "        a, p, n = inputs\n",
        "        p_dist = K.sum(K.square(a-p), axis=1)\n",
        "        n_dist = K.sum(K.square(a-n), axis=1)\n",
        "        return K.sum(K.maximum(p_dist - n_dist + self.alpha, 0), axis=0)\n",
        "    \n",
        "    def call(self, inputs):\n",
        "        loss = self.triplet_loss(inputs)\n",
        "        self.add_loss(loss)\n",
        "        return loss"
      ],
      "execution_count": 0,
      "outputs": []
    },
    {
      "cell_type": "code",
      "metadata": {
        "id": "QWD0sba29lpQ",
        "colab_type": "code",
        "colab": {}
      },
      "source": [
        "a_inp = Input(shape=(28, 28, 1))\n",
        "p_inp = Input(shape=(28, 28, 1))\n",
        "n_inp = Input(shape=(28, 28, 1))"
      ],
      "execution_count": 0,
      "outputs": []
    },
    {
      "cell_type": "code",
      "metadata": {
        "id": "Wzo6VUzss1J2",
        "colab_type": "code",
        "colab": {}
      },
      "source": [
        "a_embed = siamese_model(a_inp)\n",
        "p_embed = siamese_model(p_inp)\n",
        "n_embed = siamese_model(n_inp)"
      ],
      "execution_count": 0,
      "outputs": []
    },
    {
      "cell_type": "code",
      "metadata": {
        "id": "gvte8p7a96zK",
        "colab_type": "code",
        "colab": {}
      },
      "source": [
        "# Layer that computes the triplet loss from anchor, positive and negative embedding vectors\n",
        "triplet_loss_layer = TripletLossLayer(alpha=0.2, name='triplet_loss_layer')([a_embed, p_embed, n_embed])\n",
        "\n",
        "# Model that can be trained with anchor, positive negative images\n",
        "model = Model(inputs=[a_inp, p_inp, n_inp], outputs=triplet_loss_layer)"
      ],
      "execution_count": 0,
      "outputs": []
    },
    {
      "cell_type": "code",
      "metadata": {
        "id": "t6V1ZYNsX_Zf",
        "colab_type": "code",
        "outputId": "c962a010-5192-4c55-ab88-6e579a90b3f1",
        "colab": {
          "base_uri": "https://localhost:8080/",
          "height": 392
        }
      },
      "source": [
        "model.summary()\n",
        "model.compile(loss=None, optimizer='adam')"
      ],
      "execution_count": 0,
      "outputs": [
        {
          "output_type": "stream",
          "text": [
            "__________________________________________________________________________________________________\n",
            "Layer (type)                    Output Shape         Param #     Connected to                     \n",
            "==================================================================================================\n",
            "input_13 (InputLayer)           (None, 28, 28, 1)    0                                            \n",
            "__________________________________________________________________________________________________\n",
            "input_14 (InputLayer)           (None, 28, 28, 1)    0                                            \n",
            "__________________________________________________________________________________________________\n",
            "input_15 (InputLayer)           (None, 28, 28, 1)    0                                            \n",
            "__________________________________________________________________________________________________\n",
            "model_10 (Model)                (None, 128)          1198592     input_13[0][0]                   \n",
            "                                                                 input_14[0][0]                   \n",
            "                                                                 input_15[0][0]                   \n",
            "__________________________________________________________________________________________________\n",
            "triplet_loss_layer (TripletLoss [(None, 128), (None, 0           model_10[1][0]                   \n",
            "                                                                 model_10[2][0]                   \n",
            "                                                                 model_10[3][0]                   \n",
            "==================================================================================================\n",
            "Total params: 1,198,592\n",
            "Trainable params: 1,198,592\n",
            "Non-trainable params: 0\n",
            "__________________________________________________________________________________________________\n"
          ],
          "name": "stdout"
        }
      ]
    },
    {
      "cell_type": "code",
      "metadata": {
        "id": "AyDb9OQ1iAmr",
        "colab_type": "code",
        "colab": {}
      },
      "source": [
        "batch_size = 32\n",
        "epochs = 0\n",
        "P = 500\n",
        "N = 40\n",
        "batches = BatchHard(batch_size, P, N)\n",
        "num_samples = P*N"
      ],
      "execution_count": 0,
      "outputs": []
    },
    {
      "cell_type": "code",
      "metadata": {
        "id": "rIJeoPLPwW-l",
        "colab_type": "code",
        "colab": {}
      },
      "source": [
        "triplets = batches.get_batch()\n",
        "a = np.array(triplets[0])\n",
        "p = np.array(triplets[1])\n",
        "n = np.array(triplets[2])"
      ],
      "execution_count": 0,
      "outputs": []
    },
    {
      "cell_type": "code",
      "metadata": {
        "id": "V_Sm8uvKwhGE",
        "colab_type": "code",
        "outputId": "86be3d14-dce5-43e7-9fcb-70fce1ce70b2",
        "colab": {
          "base_uri": "https://localhost:8080/",
          "height": 1822
        }
      },
      "source": [
        "model.fit([a, p, n], None, epochs=50, batch_size=batch_size, verbose=1)"
      ],
      "execution_count": 0,
      "outputs": [
        {
          "output_type": "stream",
          "text": [
            "Epoch 1/50\n",
            "20000/20000 [==============================] - 6s 285us/step - loss: 1.1472\n",
            "Epoch 2/50\n",
            "20000/20000 [==============================] - 5s 256us/step - loss: 0.3572\n",
            "Epoch 3/50\n",
            "20000/20000 [==============================] - 5s 256us/step - loss: 0.2159\n",
            "Epoch 4/50\n",
            "20000/20000 [==============================] - 5s 255us/step - loss: 0.1425\n",
            "Epoch 5/50\n",
            "20000/20000 [==============================] - 5s 254us/step - loss: 0.0870\n",
            "Epoch 6/50\n",
            "20000/20000 [==============================] - 5s 254us/step - loss: 0.0732\n",
            "Epoch 7/50\n",
            "20000/20000 [==============================] - 5s 254us/step - loss: 0.0639\n",
            "Epoch 8/50\n",
            "20000/20000 [==============================] - 5s 253us/step - loss: 0.0618\n",
            "Epoch 9/50\n",
            "20000/20000 [==============================] - 5s 265us/step - loss: 0.0430\n",
            "Epoch 10/50\n",
            "20000/20000 [==============================] - 5s 271us/step - loss: 0.0384\n",
            "Epoch 11/50\n",
            "20000/20000 [==============================] - 5s 255us/step - loss: 0.0436\n",
            "Epoch 12/50\n",
            "20000/20000 [==============================] - 5s 252us/step - loss: 0.0422\n",
            "Epoch 13/50\n",
            "20000/20000 [==============================] - 5s 252us/step - loss: 0.0380\n",
            "Epoch 14/50\n",
            "20000/20000 [==============================] - 5s 253us/step - loss: 0.0242\n",
            "Epoch 15/50\n",
            "20000/20000 [==============================] - 5s 253us/step - loss: 0.0319\n",
            "Epoch 16/50\n",
            "20000/20000 [==============================] - 5s 252us/step - loss: 0.0229\n",
            "Epoch 17/50\n",
            "20000/20000 [==============================] - 5s 252us/step - loss: 0.0191\n",
            "Epoch 18/50\n",
            "20000/20000 [==============================] - 5s 252us/step - loss: 0.0209\n",
            "Epoch 19/50\n",
            "20000/20000 [==============================] - 5s 254us/step - loss: 0.0214\n",
            "Epoch 20/50\n",
            "20000/20000 [==============================] - 5s 252us/step - loss: 0.0169\n",
            "Epoch 21/50\n",
            "20000/20000 [==============================] - 5s 253us/step - loss: 0.0198\n",
            "Epoch 22/50\n",
            "20000/20000 [==============================] - 5s 252us/step - loss: 0.0145\n",
            "Epoch 23/50\n",
            "20000/20000 [==============================] - 5s 252us/step - loss: 0.0177\n",
            "Epoch 24/50\n",
            "20000/20000 [==============================] - 5s 253us/step - loss: 0.0120\n",
            "Epoch 25/50\n",
            "20000/20000 [==============================] - 5s 270us/step - loss: 0.0132\n",
            "Epoch 26/50\n",
            "20000/20000 [==============================] - 5s 271us/step - loss: 0.0120\n",
            "Epoch 27/50\n",
            "20000/20000 [==============================] - 5s 253us/step - loss: 0.0126\n",
            "Epoch 28/50\n",
            "20000/20000 [==============================] - 5s 252us/step - loss: 0.0083\n",
            "Epoch 29/50\n",
            "20000/20000 [==============================] - 5s 252us/step - loss: 0.0125\n",
            "Epoch 30/50\n",
            "20000/20000 [==============================] - 5s 252us/step - loss: 0.0098\n",
            "Epoch 31/50\n",
            "20000/20000 [==============================] - 5s 252us/step - loss: 0.0116\n",
            "Epoch 32/50\n",
            "20000/20000 [==============================] - 5s 252us/step - loss: 0.0110\n",
            "Epoch 33/50\n",
            "20000/20000 [==============================] - 5s 251us/step - loss: 0.0106\n",
            "Epoch 34/50\n",
            "20000/20000 [==============================] - 5s 251us/step - loss: 0.0080\n",
            "Epoch 35/50\n",
            "20000/20000 [==============================] - 5s 252us/step - loss: 0.0082\n",
            "Epoch 36/50\n",
            "20000/20000 [==============================] - 5s 252us/step - loss: 0.0100\n",
            "Epoch 37/50\n",
            "20000/20000 [==============================] - 5s 253us/step - loss: 0.0093\n",
            "Epoch 38/50\n",
            "20000/20000 [==============================] - 5s 252us/step - loss: 0.0102\n",
            "Epoch 39/50\n",
            "20000/20000 [==============================] - 5s 252us/step - loss: 0.0078\n",
            "Epoch 40/50\n",
            "20000/20000 [==============================] - 5s 254us/step - loss: 0.0085\n",
            "Epoch 41/50\n",
            "20000/20000 [==============================] - 5s 271us/step - loss: 0.0091\n",
            "Epoch 42/50\n",
            "20000/20000 [==============================] - 5s 268us/step - loss: 0.0063\n",
            "Epoch 43/50\n",
            "20000/20000 [==============================] - 5s 250us/step - loss: 0.0066\n",
            "Epoch 44/50\n",
            "20000/20000 [==============================] - 5s 251us/step - loss: 0.0071\n",
            "Epoch 45/50\n",
            "20000/20000 [==============================] - 5s 251us/step - loss: 0.0071\n",
            "Epoch 46/50\n",
            "20000/20000 [==============================] - 5s 254us/step - loss: 0.0082\n",
            "Epoch 47/50\n",
            "20000/20000 [==============================] - 6s 276us/step - loss: 0.0041\n",
            "Epoch 48/50\n",
            "20000/20000 [==============================] - 5s 270us/step - loss: 0.0070\n",
            "Epoch 49/50\n",
            "20000/20000 [==============================] - 5s 252us/step - loss: 0.0088\n",
            "Epoch 50/50\n",
            "20000/20000 [==============================] - 5s 251us/step - loss: 0.0035\n"
          ],
          "name": "stdout"
        },
        {
          "output_type": "execute_result",
          "data": {
            "text/plain": [
              "<keras.callbacks.History at 0x7f024ada5c88>"
            ]
          },
          "metadata": {
            "tags": []
          },
          "execution_count": 112
        }
      ]
    },
    {
      "cell_type": "markdown",
      "metadata": {
        "id": "MSCev98Yc26G",
        "colab_type": "text"
      },
      "source": [
        "#### t-SNE visualization"
      ]
    },
    {
      "cell_type": "code",
      "metadata": {
        "id": "wWZ4IrfJjOyV",
        "colab_type": "code",
        "outputId": "413fa616-6465-456d-e2cd-48d30c185aca",
        "colab": {
          "base_uri": "https://localhost:8080/",
          "height": 35
        }
      },
      "source": [
        "import random\n",
        "from keras.models import Model\n",
        "from keras.preprocessing import image\n",
        "np.random.seed(42)\n",
        "\n",
        "arr = train_X[:512]\n",
        "lbl = train_Y[:512]\n",
        "print (arr.shape, lbl.shape)"
      ],
      "execution_count": 0,
      "outputs": [
        {
          "output_type": "stream",
          "text": [
            "(512, 28, 28) (512,)\n"
          ],
          "name": "stdout"
        }
      ]
    },
    {
      "cell_type": "code",
      "metadata": {
        "id": "X36ykhnXYCDR",
        "colab_type": "code",
        "outputId": "01185f3c-0b70-4c13-fa7a-c7b661f32f4f",
        "colab": {
          "base_uri": "https://localhost:8080/",
          "height": 392
        }
      },
      "source": [
        "model.summary()"
      ],
      "execution_count": 0,
      "outputs": [
        {
          "output_type": "stream",
          "text": [
            "__________________________________________________________________________________________________\n",
            "Layer (type)                    Output Shape         Param #     Connected to                     \n",
            "==================================================================================================\n",
            "input_13 (InputLayer)           (None, 28, 28, 1)    0                                            \n",
            "__________________________________________________________________________________________________\n",
            "input_14 (InputLayer)           (None, 28, 28, 1)    0                                            \n",
            "__________________________________________________________________________________________________\n",
            "input_15 (InputLayer)           (None, 28, 28, 1)    0                                            \n",
            "__________________________________________________________________________________________________\n",
            "model_10 (Model)                (None, 128)          1198592     input_13[0][0]                   \n",
            "                                                                 input_14[0][0]                   \n",
            "                                                                 input_15[0][0]                   \n",
            "__________________________________________________________________________________________________\n",
            "triplet_loss_layer (TripletLoss [(None, 128), (None, 0           model_10[1][0]                   \n",
            "                                                                 model_10[2][0]                   \n",
            "                                                                 model_10[3][0]                   \n",
            "==================================================================================================\n",
            "Total params: 1,198,592\n",
            "Trainable params: 1,198,592\n",
            "Non-trainable params: 0\n",
            "__________________________________________________________________________________________________\n"
          ],
          "name": "stdout"
        }
      ]
    },
    {
      "cell_type": "code",
      "metadata": {
        "id": "KE6J8RycZbj7",
        "colab_type": "code",
        "outputId": "b4b4dc16-23a2-4e79-b153-5b3639ab9290",
        "colab": {
          "base_uri": "https://localhost:8080/",
          "height": 428
        }
      },
      "source": [
        "model.layers[3].summary()"
      ],
      "execution_count": 0,
      "outputs": [
        {
          "output_type": "stream",
          "text": [
            "_________________________________________________________________\n",
            "Layer (type)                 Output Shape              Param #   \n",
            "=================================================================\n",
            "input_12 (InputLayer)        (None, 28, 28, 1)         0         \n",
            "_________________________________________________________________\n",
            "conv2d_5 (Conv2D)            (None, 26, 26, 32)        320       \n",
            "_________________________________________________________________\n",
            "conv2d_6 (Conv2D)            (None, 24, 24, 64)        18496     \n",
            "_________________________________________________________________\n",
            "max_pooling2d_3 (MaxPooling2 (None, 12, 12, 64)        0         \n",
            "_________________________________________________________________\n",
            "dropout_3 (Dropout)          (None, 12, 12, 64)        0         \n",
            "_________________________________________________________________\n",
            "flatten_3 (Flatten)          (None, 9216)              0         \n",
            "_________________________________________________________________\n",
            "dense_6 (Dense)              (None, 128)               1179776   \n",
            "_________________________________________________________________\n",
            "norm_layer (Lambda)          (None, 128)               0         \n",
            "=================================================================\n",
            "Total params: 1,198,592\n",
            "Trainable params: 1,198,592\n",
            "Non-trainable params: 0\n",
            "_________________________________________________________________\n"
          ],
          "name": "stdout"
        }
      ]
    },
    {
      "cell_type": "code",
      "metadata": {
        "id": "Zkkq9I2nIeRz",
        "colab_type": "code",
        "colab": {}
      },
      "source": [
        "model.save_weights('weights.h5')"
      ],
      "execution_count": 0,
      "outputs": []
    },
    {
      "cell_type": "code",
      "metadata": {
        "id": "1cEyUZV_l1sF",
        "colab_type": "code",
        "outputId": "befc04a0-a47a-4bf6-9372-e9e1fd6c1c5a",
        "colab": {
          "base_uri": "https://localhost:8080/",
          "height": 214
        }
      },
      "source": [
        "tmp_model = Model(a_inp, a_embed)\n",
        "tmp_model.summary()\n",
        "tmp_model.load_weights('weights.h5')"
      ],
      "execution_count": 0,
      "outputs": [
        {
          "output_type": "stream",
          "text": [
            "_________________________________________________________________\n",
            "Layer (type)                 Output Shape              Param #   \n",
            "=================================================================\n",
            "input_13 (InputLayer)        (None, 28, 28, 1)         0         \n",
            "_________________________________________________________________\n",
            "model_10 (Model)             (None, 128)               1198592   \n",
            "=================================================================\n",
            "Total params: 1,198,592\n",
            "Trainable params: 1,198,592\n",
            "Non-trainable params: 0\n",
            "_________________________________________________________________\n"
          ],
          "name": "stdout"
        }
      ]
    },
    {
      "cell_type": "code",
      "metadata": {
        "id": "5o8JaqhvJBpz",
        "colab_type": "code",
        "outputId": "5c413be4-4844-419e-9fb0-2fe60571a00a",
        "colab": {
          "base_uri": "https://localhost:8080/",
          "height": 392
        }
      },
      "source": [
        "X_train_trm = tmp_model.predict(train_x.reshape(-1,28,28,1))\n",
        "\n",
        "Classifier_input = Input((128,))\n",
        "Classifier_output = Dense(10, activation='softmax')(Classifier_input)\n",
        "Classifier_model = Model(Classifier_input, Classifier_output)\n",
        "\n",
        "\n",
        "Classifier_model.compile(optimizer='adam',loss='categorical_crossentropy',metrics=['accuracy'])\n",
        "\n",
        "Classifier_model.fit(X_train_trm, train_y, epochs=10)"
      ],
      "execution_count": 0,
      "outputs": [
        {
          "output_type": "stream",
          "text": [
            "Epoch 1/10\n",
            "60000/60000 [==============================] - 5s 78us/step - loss: 1.6081 - acc: 0.8052\n",
            "Epoch 2/10\n",
            "60000/60000 [==============================] - 4s 73us/step - loss: 0.8593 - acc: 0.9072\n",
            "Epoch 3/10\n",
            "60000/60000 [==============================] - 4s 72us/step - loss: 0.5675 - acc: 0.9113\n",
            "Epoch 4/10\n",
            "60000/60000 [==============================] - 4s 72us/step - loss: 0.4340 - acc: 0.9136\n",
            "Epoch 5/10\n",
            "60000/60000 [==============================] - 4s 72us/step - loss: 0.3649 - acc: 0.9162\n",
            "Epoch 6/10\n",
            "60000/60000 [==============================] - 5s 77us/step - loss: 0.3258 - acc: 0.9177\n",
            "Epoch 7/10\n",
            "60000/60000 [==============================] - 5s 88us/step - loss: 0.3019 - acc: 0.9194\n",
            "Epoch 8/10\n",
            "60000/60000 [==============================] - 5s 81us/step - loss: 0.2860 - acc: 0.9207\n",
            "Epoch 9/10\n",
            "60000/60000 [==============================] - 4s 72us/step - loss: 0.2750 - acc: 0.9218\n",
            "Epoch 10/10\n",
            "60000/60000 [==============================] - 4s 72us/step - loss: 0.2669 - acc: 0.9227\n"
          ],
          "name": "stdout"
        },
        {
          "output_type": "execute_result",
          "data": {
            "text/plain": [
              "<keras.callbacks.History at 0x7f024a913588>"
            ]
          },
          "metadata": {
            "tags": []
          },
          "execution_count": 118
        }
      ]
    },
    {
      "cell_type": "code",
      "metadata": {
        "id": "OIp-KwNGK5cr",
        "colab_type": "code",
        "outputId": "e4669830-7f7f-4481-a266-b7d7ee00d864",
        "colab": {
          "base_uri": "https://localhost:8080/",
          "height": 35
        }
      },
      "source": [
        "img_arr = arr.reshape(*arr.shape, 1)\n",
        "img_arr.shape"
      ],
      "execution_count": 0,
      "outputs": [
        {
          "output_type": "execute_result",
          "data": {
            "text/plain": [
              "(512, 28, 28, 1)"
            ]
          },
          "metadata": {
            "tags": []
          },
          "execution_count": 119
        }
      ]
    },
    {
      "cell_type": "code",
      "metadata": {
        "colab_type": "code",
        "id": "p8_C1iE4Rkgd",
        "outputId": "dc0f9273-81bd-4fb5-f48f-fba7470b15af",
        "colab": {
          "base_uri": "https://localhost:8080/",
          "height": 35
        }
      },
      "source": [
        "preds = tmp_model.predict(img_arr, batch_size=50)\n",
        "print (preds.shape)"
      ],
      "execution_count": 0,
      "outputs": [
        {
          "output_type": "stream",
          "text": [
            "(512, 128)\n"
          ],
          "name": "stdout"
        }
      ]
    },
    {
      "cell_type": "code",
      "metadata": {
        "id": "Iy5lX34Rc2AK",
        "colab_type": "code",
        "colab": {}
      },
      "source": [
        "import pandas as pd\n",
        "import seaborn as sns\n",
        "import matplotlib.patheffects as PathEffects\n",
        "from sklearn.manifold import TSNE\n",
        "import matplotlib.pyplot as plt\n",
        "%matplotlib inline\n",
        "\n",
        "# Define our own plot function\n",
        "def scatter(x, labels, subtitle=None):\n",
        "    # We choose a color palette with seaborn.\n",
        "    palette = np.array(sns.color_palette(\"hls\", 10))\n",
        "\n",
        "    # We create a scatter plot.\n",
        "    f = plt.figure(figsize=(8, 8))\n",
        "    ax = plt.subplot(aspect='equal')\n",
        "    sc = ax.scatter(x[:,0], x[:,1], lw=0, s=40,\n",
        "                    c=palette[labels.astype(np.int)])\n",
        "    plt.xlim(-25, 25)\n",
        "    plt.ylim(-25, 25)\n",
        "    ax.axis('off')\n",
        "    ax.axis('tight')\n",
        "\n",
        "    # We add the labels for each digit.\n",
        "    txts = []\n",
        "    for i in range(10):\n",
        "        # Position of each label.\n",
        "        xtext, ytext = np.median(x[labels == i, :], axis=0)\n",
        "        txt = ax.text(xtext, ytext, str(i), fontsize=24)\n",
        "        txt.set_path_effects([\n",
        "            PathEffects.Stroke(linewidth=5, foreground=\"w\"),\n",
        "            PathEffects.Normal()])\n",
        "        txts.append(txt)\n",
        "        \n",
        "    if subtitle != None:\n",
        "        plt.suptitle(subtitle)\n",
        "        \n",
        "    plt.savefig(subtitle)"
      ],
      "execution_count": 0,
      "outputs": []
    },
    {
      "cell_type": "code",
      "metadata": {
        "id": "ar4IiWHzLdmG",
        "colab_type": "code",
        "colab": {}
      },
      "source": [
        "x_train_flat = train_x.reshape(-1,784)"
      ],
      "execution_count": 0,
      "outputs": []
    },
    {
      "cell_type": "code",
      "metadata": {
        "id": "5lWAbvNQPyuX",
        "colab_type": "code",
        "outputId": "ffcafc6d-6d14-40e6-8bf2-4d1b3d523cda",
        "colab": {
          "base_uri": "https://localhost:8080/",
          "height": 540
        }
      },
      "source": [
        "tsne = TSNE()\n",
        "train_tsne_embeds = tsne.fit_transform(x_train_flat[:512])\n",
        "scatter(train_tsne_embeds, train_Y[:512], \"Samples from Training Data\")"
      ],
      "execution_count": 0,
      "outputs": [
        {
          "output_type": "display_data",
          "data": {
            "image/png": "[encoded data removed]",
            "text/plain": [
              "<Figure size 576x576 with 1 Axes>"
            ]
          },
          "metadata": {
            "tags": []
          }
        }
      ]
    },
    {
      "cell_type": "code",
      "metadata": {
        "id": "1F9pBXy2L5dG",
        "colab_type": "code",
        "colab": {}
      },
      "source": [
        ""
      ],
      "execution_count": 0,
      "outputs": []
    },
    {
      "cell_type": "code",
      "metadata": {
        "id": "vqeYhPZe-1jM",
        "colab_type": "code",
        "outputId": "0241564f-584a-40b6-ce20-bffe5b2af4ce",
        "colab": {
          "base_uri": "https://localhost:8080/",
          "height": 35
        }
      },
      "source": [
        "import pandas as pd\n",
        "import seaborn as sns\n",
        "from sklearn.manifold import TSNE\n",
        "\n",
        "l = np.array(lbl)\n",
        "l[:5]"
      ],
      "execution_count": 0,
      "outputs": [
        {
          "output_type": "execute_result",
          "data": {
            "text/plain": [
              "array([5, 0, 4, 1, 9], dtype=uint8)"
            ]
          },
          "metadata": {
            "tags": []
          },
          "execution_count": 124
        }
      ]
    },
    {
      "cell_type": "code",
      "metadata": {
        "id": "zeqfeAeB-1uW",
        "colab_type": "code",
        "colab": {}
      },
      "source": [
        "preds_trans = TSNE().fit_transform(preds)"
      ],
      "execution_count": 0,
      "outputs": []
    },
    {
      "cell_type": "code",
      "metadata": {
        "id": "OoIbS6i0L70V",
        "colab_type": "code",
        "outputId": "3ce88ace-5833-4e45-ffcd-01f1af7d5dff",
        "colab": {
          "base_uri": "https://localhost:8080/",
          "height": 540
        }
      },
      "source": [
        "scatter(preds_trans, train_Y[:512], \"Training Data After TNN\")"
      ],
      "execution_count": 0,
      "outputs": [
        {
          "output_type": "display_data",
          "data": {
            "image/png": "[encoded data removed]",
            "text/plain": [
              "<Figure size 576x576 with 1 Axes>"
            ]
          },
          "metadata": {
            "tags": []
          }
        }
      ]
    },
    {
      "cell_type": "code",
      "metadata": {
        "id": "ntbEvsKz-14A",
        "colab_type": "code",
        "colab": {}
      },
      "source": [
        "preds_df = pd.DataFrame(np.concatenate((preds_trans, l[:, None]), axis=1), columns=['x','y','labels'])"
      ],
      "execution_count": 0,
      "outputs": []
    },
    {
      "cell_type": "code",
      "metadata": {
        "id": "zfyppVdU-2CK",
        "colab_type": "code",
        "outputId": "0169b4f0-4734-475a-ab71-c34388878772",
        "colab": {
          "base_uri": "https://localhost:8080/",
          "height": 206
        }
      },
      "source": [
        "preds_df.head()"
      ],
      "execution_count": 0,
      "outputs": [
        {
          "output_type": "execute_result",
          "data": {
            "text/html": [
              "<div>\n",
              "<style scoped>\n",
              "    .dataframe tbody tr th:only-of-type {\n",
              "        vertical-align: middle;\n",
              "    }\n",
              "\n",
              "    .dataframe tbody tr th {\n",
              "        vertical-align: top;\n",
              "    }\n",
              "\n",
              "    .dataframe thead th {\n",
              "        text-align: right;\n",
              "    }\n",
              "</style>\n",
              "<table border=\"1\" class=\"dataframe\">\n",
              "  <thead>\n",
              "    <tr style=\"text-align: right;\">\n",
              "      <th></th>\n",
              "      <th>x</th>\n",
              "      <th>y</th>\n",
              "      <th>labels</th>\n",
              "    </tr>\n",
              "  </thead>\n",
              "  <tbody>\n",
              "    <tr>\n",
              "      <th>0</th>\n",
              "      <td>-32.830582</td>\n",
              "      <td>-3.567229</td>\n",
              "      <td>5.0</td>\n",
              "    </tr>\n",
              "    <tr>\n",
              "      <th>1</th>\n",
              "      <td>27.243023</td>\n",
              "      <td>-15.246427</td>\n",
              "      <td>0.0</td>\n",
              "    </tr>\n",
              "    <tr>\n",
              "      <th>2</th>\n",
              "      <td>20.956648</td>\n",
              "      <td>9.557454</td>\n",
              "      <td>4.0</td>\n",
              "    </tr>\n",
              "    <tr>\n",
              "      <th>3</th>\n",
              "      <td>11.588186</td>\n",
              "      <td>30.425179</td>\n",
              "      <td>1.0</td>\n",
              "    </tr>\n",
              "    <tr>\n",
              "      <th>4</th>\n",
              "      <td>-20.081406</td>\n",
              "      <td>9.931993</td>\n",
              "      <td>9.0</td>\n",
              "    </tr>\n",
              "  </tbody>\n",
              "</table>\n",
              "</div>"
            ],
            "text/plain": [
              "           x          y  labels\n",
              "0 -32.830582  -3.567229     5.0\n",
              "1  27.243023 -15.246427     0.0\n",
              "2  20.956648   9.557454     4.0\n",
              "3  11.588186  30.425179     1.0\n",
              "4 -20.081406   9.931993     9.0"
            ]
          },
          "metadata": {
            "tags": []
          },
          "execution_count": 128
        }
      ]
    },
    {
      "cell_type": "code",
      "metadata": {
        "id": "Id2IgNqWAvDP",
        "colab_type": "code",
        "outputId": "ba27eeaf-6210-45ad-fcfe-eaf291b62816",
        "colab": {
          "base_uri": "https://localhost:8080/",
          "height": 729
        }
      },
      "source": [
        "sns.lmplot('x', 'y', data=preds_df, hue='labels', fit_reg=False, legend=False, height=10)\n",
        "plt.grid(visible=False)"
      ],
      "execution_count": 0,
      "outputs": [
        {
          "output_type": "display_data",
          "data": {
            "image/png": "[encoded data removed]",
            "text/plain": [
              "<Figure size 720x720 with 1 Axes>"
            ]
          },
          "metadata": {
            "tags": []
          }
        }
      ]
    },
    {
      "cell_type": "code",
      "metadata": {
        "id": "3WvTiDRNPyqQ",
        "colab_type": "code",
        "colab": {}
      },
      "source": [
        ""
      ],
      "execution_count": 0,
      "outputs": []
    },
    {
      "cell_type": "markdown",
      "metadata": {
        "id": "SDEzAKRPPzfg",
        "colab_type": "text"
      },
      "source": [
        "## Method - 2 (Contrastive Loss)"
      ]
    },
    {
      "cell_type": "code",
      "metadata": {
        "colab_type": "code",
        "id": "PgNiwLpRld1e",
        "colab": {}
      },
      "source": [
        "num_images_by_class = []\n",
        "\n",
        "for i in range(len(np.unique(train_Y))):\n",
        "    \n",
        "    num_images_by_class.append(len(train_Y[train_Y == i]))\n",
        "    \n",
        "num_images_by_class = np.array(num_images_by_class)"
      ],
      "execution_count": 0,
      "outputs": []
    },
    {
      "cell_type": "code",
      "metadata": {
        "id": "M9bMjp0kPymt",
        "colab_type": "code",
        "colab": {}
      },
      "source": [
        "class SampleBatch:\n",
        "    \n",
        "    def __init__(self, num_pairs, batch_size):\n",
        "        self.batch_size = batch_size\n",
        "        self.P = num_pairs\n",
        "        \n",
        "    def get_batch(self):\n",
        "        P_classes = np.random.choice(np.arange(train_y.shape[1]), p=num_images_by_class/num_images_by_class.sum(), size=self.P)\n",
        "\n",
        "        batch_samples = [[] for _ in range(self.P)]\n",
        "        pairs1 = [[] for _ in range(self.P)]\n",
        "        pairs2 = [[] for _ in range(self.P)]\n",
        "\n",
        "\n",
        "        for i in range(len(P_classes)):\n",
        "            lbl = P_classes[i]\n",
        "\n",
        "            same_class_index = np.where(train_Y == lbl)[0]\n",
        "            diff_class_index = np.where(train_Y != lbl)[0]\n",
        "\n",
        "            pos_index = random.sample(list(same_class_index), k=3)\n",
        "            neg_index = random.sample(list(diff_class_index), k=1)\n",
        "\n",
        "            pairs1[i].append(np.expand_dims(np.array(train_x[pos_index[0]]), axis=-1))\n",
        "            pairs1[i].append(np.expand_dims(np.array(train_x[pos_index[1]]), axis=-1))\n",
        "            pairs1[i].append(1)\n",
        "            pairs2[i].append(np.expand_dims(np.array(train_x[pos_index[2]]), axis=-1))\n",
        "            pairs2[i].append(np.expand_dims(np.array(train_x[neg_index[0]]), axis=-1))\n",
        "            pairs2[i].append(0)\n",
        "            pairs1[i] = np.array(pairs1[i])\n",
        "            pairs2[i] = np.array(pairs2[i])\n",
        "            \n",
        "        self.duplets = np.vstack([pairs1, pairs2])\n",
        "        \n",
        "        return self.duplets"
      ],
      "execution_count": 0,
      "outputs": []
    },
    {
      "cell_type": "code",
      "metadata": {
        "colab_type": "code",
        "id": "T-sy_MQhEovo",
        "colab": {}
      },
      "source": [
        "img1 = Input(shape=(28, 28, 1))\n",
        "img2 = Input(shape=(28, 28, 1))"
      ],
      "execution_count": 0,
      "outputs": []
    },
    {
      "cell_type": "code",
      "metadata": {
        "colab_type": "code",
        "outputId": "c2a19650-4889-4bda-dce8-644fe820b6a0",
        "id": "HrYTBi4fEowH",
        "colab": {
          "base_uri": "https://localhost:8080/",
          "height": 428
        }
      },
      "source": [
        "siamese_model = siamese_network()\n",
        "siamese_model.summary()"
      ],
      "execution_count": 0,
      "outputs": [
        {
          "output_type": "stream",
          "text": [
            "_________________________________________________________________\n",
            "Layer (type)                 Output Shape              Param #   \n",
            "=================================================================\n",
            "input_4 (InputLayer)         (None, 28, 28, 1)         0         \n",
            "_________________________________________________________________\n",
            "conv2d_3 (Conv2D)            (None, 26, 26, 32)        320       \n",
            "_________________________________________________________________\n",
            "conv2d_4 (Conv2D)            (None, 24, 24, 64)        18496     \n",
            "_________________________________________________________________\n",
            "max_pooling2d_2 (MaxPooling2 (None, 12, 12, 64)        0         \n",
            "_________________________________________________________________\n",
            "dropout_2 (Dropout)          (None, 12, 12, 64)        0         \n",
            "_________________________________________________________________\n",
            "flatten_2 (Flatten)          (None, 9216)              0         \n",
            "_________________________________________________________________\n",
            "dense_2 (Dense)              (None, 4)                 36868     \n",
            "_________________________________________________________________\n",
            "norm_layer (Lambda)          (None, 4)                 0         \n",
            "=================================================================\n",
            "Total params: 55,684\n",
            "Trainable params: 55,684\n",
            "Non-trainable params: 0\n",
            "_________________________________________________________________\n"
          ],
          "name": "stdout"
        }
      ]
    },
    {
      "cell_type": "code",
      "metadata": {
        "colab_type": "code",
        "id": "FDjDaNjuEowX",
        "colab": {}
      },
      "source": [
        "img1_embed = siamese_model(img1)\n",
        "img2_embed = siamese_model(img2)"
      ],
      "execution_count": 0,
      "outputs": []
    },
    {
      "cell_type": "code",
      "metadata": {
        "id": "_HIONVqMGYed",
        "colab_type": "code",
        "colab": {}
      },
      "source": [
        "def euclidean_distance(vects):\n",
        "    x, y = vects\n",
        "    sum_square = K.sum(K.square(x - y), axis=1, keepdims=True)\n",
        "    return K.sqrt(K.maximum(sum_square, K.epsilon()))\n",
        "\n",
        "\n",
        "def eucl_dist_output_shape(shapes):\n",
        "    shape1, shape2 = shapes\n",
        "    return (shape1[0], 1)\n",
        "\n",
        "\n",
        "def contrastive_loss(y_true, y_pred):\n",
        "    '''Contrastive loss from Hadsell-et-al.'06\n",
        "    http://yann.lecun.com/exdb/publis/pdf/hadsell-chopra-lecun-06.pdf\n",
        "    '''\n",
        "    margin = 1\n",
        "    square_pred = K.square(y_pred)\n",
        "    margin_square = K.square(K.maximum(margin - y_pred, 0))\n",
        "    return K.mean(y_true * square_pred + (1 - y_true) * margin_square)"
      ],
      "execution_count": 0,
      "outputs": []
    },
    {
      "cell_type": "code",
      "metadata": {
        "id": "kKG3jVbpGYlP",
        "colab_type": "code",
        "colab": {}
      },
      "source": [
        "def compute_accuracy(y_true, y_pred):\n",
        "    '''Compute classification accuracy with a fixed threshold on distances.\n",
        "    '''\n",
        "    pred = y_pred.ravel() < 0.5\n",
        "    return np.mean(pred == y_true)\n",
        "\n",
        "\n",
        "def accuracy(y_true, y_pred):\n",
        "    '''Compute classification accuracy with a fixed threshold on distances.\n",
        "    '''\n",
        "    return K.mean(K.equal(y_true, K.cast(y_pred < 0.5, y_true.dtype)))"
      ],
      "execution_count": 0,
      "outputs": []
    },
    {
      "cell_type": "code",
      "metadata": {
        "colab_type": "code",
        "id": "ZD0StdCtEowh",
        "colab": {}
      },
      "source": [
        "distance = Lambda(euclidean_distance, output_shape=eucl_dist_output_shape)([img1_embed, img2_embed])\n",
        "\n",
        "# Model that can be trained with anchor, positive negative images\n",
        "model = Model(inputs=[img1, img2], outputs=distance)"
      ],
      "execution_count": 0,
      "outputs": []
    },
    {
      "cell_type": "code",
      "metadata": {
        "colab_type": "code",
        "outputId": "6dcbb340-cf13-44a2-de17-d6f78f182a53",
        "id": "Q-wRAl0lEows",
        "colab": {
          "base_uri": "https://localhost:8080/",
          "height": 321
        }
      },
      "source": [
        "model.summary()\n",
        "model.compile(loss=contrastive_loss, optimizer='adam', metrics=[accuracy])"
      ],
      "execution_count": 0,
      "outputs": [
        {
          "output_type": "stream",
          "text": [
            "__________________________________________________________________________________________________\n",
            "Layer (type)                    Output Shape         Param #     Connected to                     \n",
            "==================================================================================================\n",
            "input_2 (InputLayer)            (None, 28, 28, 1)    0                                            \n",
            "__________________________________________________________________________________________________\n",
            "input_3 (InputLayer)            (None, 28, 28, 1)    0                                            \n",
            "__________________________________________________________________________________________________\n",
            "model_2 (Model)                 (None, 4)            55684       input_2[0][0]                    \n",
            "                                                                 input_3[0][0]                    \n",
            "__________________________________________________________________________________________________\n",
            "lambda_1 (Lambda)               (None, 1)            0           model_2[1][0]                    \n",
            "                                                                 model_2[2][0]                    \n",
            "==================================================================================================\n",
            "Total params: 55,684\n",
            "Trainable params: 55,684\n",
            "Non-trainable params: 0\n",
            "__________________________________________________________________________________________________\n"
          ],
          "name": "stdout"
        }
      ]
    },
    {
      "cell_type": "code",
      "metadata": {
        "colab_type": "code",
        "id": "3kWLg3NjEow1",
        "colab": {}
      },
      "source": [
        "batch_size = 128\n",
        "epochs = 10\n",
        "num_pairs = 10000\n",
        "batches = SampleBatch(num_pairs, batch_size)\n",
        "trn_pairs = batches.get_batch()\n",
        "num_samples = num_pairs\n",
        "\n",
        "trn_pairs1 = np.array(list(trn_pairs[:, 0])).reshape((2*num_pairs, 28, 28, 1))\n",
        "trn_pairs2 = np.array(list(trn_pairs[:, 1])).reshape((2*num_pairs, 28, 28, 1))\n",
        "trn_y = trn_pairs[:, 2]"
      ],
      "execution_count": 0,
      "outputs": []
    },
    {
      "cell_type": "code",
      "metadata": {
        "colab_type": "code",
        "outputId": "400849b8-c2bf-44da-9e27-4dd5936091a1",
        "id": "sZc_37OAEow9",
        "colab": {
          "base_uri": "https://localhost:8080/",
          "height": 466
        }
      },
      "source": [
        "model.fit([trn_pairs1, trn_pairs2], trn_y,\n",
        "          batch_size=batch_size,\n",
        "          epochs=epochs)"
      ],
      "execution_count": 0,
      "outputs": [
        {
          "output_type": "stream",
          "text": [
            "WARNING:tensorflow:From /usr/local/lib/python3.6/dist-packages/tensorflow/python/ops/math_ops.py:3066: to_int32 (from tensorflow.python.ops.math_ops) is deprecated and will be removed in a future version.\n",
            "Instructions for updating:\n",
            "Use tf.cast instead.\n",
            "Epoch 1/10\n",
            "20000/20000 [==============================] - 5s 238us/step - loss: 0.1412 - accuracy: 0.8034\n",
            "Epoch 2/10\n",
            "20000/20000 [==============================] - 2s 99us/step - loss: 0.0810 - accuracy: 0.9120\n",
            "Epoch 3/10\n",
            "20000/20000 [==============================] - 2s 99us/step - loss: 0.0621 - accuracy: 0.9370\n",
            "Epoch 4/10\n",
            "20000/20000 [==============================] - 2s 100us/step - loss: 0.0558 - accuracy: 0.9453\n",
            "Epoch 5/10\n",
            "20000/20000 [==============================] - 2s 99us/step - loss: 0.0500 - accuracy: 0.9551\n",
            "Epoch 6/10\n",
            "20000/20000 [==============================] - 2s 100us/step - loss: 0.0464 - accuracy: 0.9627\n",
            "Epoch 7/10\n",
            "20000/20000 [==============================] - 2s 101us/step - loss: 0.0460 - accuracy: 0.9644\n",
            "Epoch 8/10\n",
            "20000/20000 [==============================] - 2s 99us/step - loss: 0.0484 - accuracy: 0.9625\n",
            "Epoch 9/10\n",
            "20000/20000 [==============================] - 2s 100us/step - loss: 0.0486 - accuracy: 0.9605\n",
            "Epoch 10/10\n",
            "20000/20000 [==============================] - 2s 100us/step - loss: 0.0505 - accuracy: 0.9616\n"
          ],
          "name": "stdout"
        },
        {
          "output_type": "execute_result",
          "data": {
            "text/plain": [
              "<keras.callbacks.History at 0x7f8273b2b160>"
            ]
          },
          "metadata": {
            "tags": []
          },
          "execution_count": 21
        }
      ]
    },
    {
      "cell_type": "code",
      "metadata": {
        "id": "JrbBADuBc2lY",
        "colab_type": "code",
        "colab": {}
      },
      "source": [
        ""
      ],
      "execution_count": 0,
      "outputs": []
    },
    {
      "cell_type": "markdown",
      "metadata": {
        "colab_type": "text",
        "id": "Q30i7g8Ya47i"
      },
      "source": [
        "### t-SNE visualization"
      ]
    },
    {
      "cell_type": "code",
      "metadata": {
        "colab_type": "code",
        "outputId": "387c0e2d-f4ee-4cbc-d8f7-4f822f93c173",
        "id": "AQxvCp8ka47t",
        "colab": {
          "base_uri": "https://localhost:8080/",
          "height": 35
        }
      },
      "source": [
        "import random\n",
        "from keras.models import Model\n",
        "from keras.preprocessing import image\n",
        "np.random.seed(42)\n",
        "\n",
        "arr = train_X[:512]\n",
        "lbl = train_Y[:512]\n",
        "print (arr.shape, lbl.shape)"
      ],
      "execution_count": 0,
      "outputs": [
        {
          "output_type": "stream",
          "text": [
            "(512, 28, 28) (512,)\n"
          ],
          "name": "stdout"
        }
      ]
    },
    {
      "cell_type": "code",
      "metadata": {
        "colab_type": "code",
        "outputId": "eb228657-6e80-4f17-a684-d4a25cb435aa",
        "id": "A1_XMrrka48L",
        "colab": {
          "base_uri": "https://localhost:8080/",
          "height": 321
        }
      },
      "source": [
        "model.summary()"
      ],
      "execution_count": 0,
      "outputs": [
        {
          "output_type": "stream",
          "text": [
            "__________________________________________________________________________________________________\n",
            "Layer (type)                    Output Shape         Param #     Connected to                     \n",
            "==================================================================================================\n",
            "input_2 (InputLayer)            (None, 28, 28, 1)    0                                            \n",
            "__________________________________________________________________________________________________\n",
            "input_3 (InputLayer)            (None, 28, 28, 1)    0                                            \n",
            "__________________________________________________________________________________________________\n",
            "model_2 (Model)                 (None, 4)            55684       input_2[0][0]                    \n",
            "                                                                 input_3[0][0]                    \n",
            "__________________________________________________________________________________________________\n",
            "lambda_1 (Lambda)               (None, 1)            0           model_2[1][0]                    \n",
            "                                                                 model_2[2][0]                    \n",
            "==================================================================================================\n",
            "Total params: 55,684\n",
            "Trainable params: 55,684\n",
            "Non-trainable params: 0\n",
            "__________________________________________________________________________________________________\n"
          ],
          "name": "stdout"
        }
      ]
    },
    {
      "cell_type": "code",
      "metadata": {
        "colab_type": "code",
        "outputId": "d09335c1-9992-49ad-f1f6-d06eb657744b",
        "id": "PvPsVkdGa48b",
        "colab": {
          "base_uri": "https://localhost:8080/",
          "height": 428
        }
      },
      "source": [
        "model.layers[2].summary()"
      ],
      "execution_count": 0,
      "outputs": [
        {
          "output_type": "stream",
          "text": [
            "_________________________________________________________________\n",
            "Layer (type)                 Output Shape              Param #   \n",
            "=================================================================\n",
            "input_4 (InputLayer)         (None, 28, 28, 1)         0         \n",
            "_________________________________________________________________\n",
            "conv2d_3 (Conv2D)            (None, 26, 26, 32)        320       \n",
            "_________________________________________________________________\n",
            "conv2d_4 (Conv2D)            (None, 24, 24, 64)        18496     \n",
            "_________________________________________________________________\n",
            "max_pooling2d_2 (MaxPooling2 (None, 12, 12, 64)        0         \n",
            "_________________________________________________________________\n",
            "dropout_2 (Dropout)          (None, 12, 12, 64)        0         \n",
            "_________________________________________________________________\n",
            "flatten_2 (Flatten)          (None, 9216)              0         \n",
            "_________________________________________________________________\n",
            "dense_2 (Dense)              (None, 4)                 36868     \n",
            "_________________________________________________________________\n",
            "norm_layer (Lambda)          (None, 4)                 0         \n",
            "=================================================================\n",
            "Total params: 55,684\n",
            "Trainable params: 55,684\n",
            "Non-trainable params: 0\n",
            "_________________________________________________________________\n"
          ],
          "name": "stdout"
        }
      ]
    },
    {
      "cell_type": "code",
      "metadata": {
        "colab_type": "code",
        "id": "zJYS5FC-a48s",
        "colab": {}
      },
      "source": [
        "model.save_weights('weights.h5')"
      ],
      "execution_count": 0,
      "outputs": []
    },
    {
      "cell_type": "code",
      "metadata": {
        "colab_type": "code",
        "outputId": "d3b377f9-d755-4e9a-9487-feec94ea32e5",
        "id": "Hzar55Gla480",
        "colab": {
          "base_uri": "https://localhost:8080/",
          "height": 214
        }
      },
      "source": [
        "tmp_model = Model(img1, img1_embed)\n",
        "tmp_model.summary()\n",
        "tmp_model.load_weights('weights.h5')"
      ],
      "execution_count": 0,
      "outputs": [
        {
          "output_type": "stream",
          "text": [
            "_________________________________________________________________\n",
            "Layer (type)                 Output Shape              Param #   \n",
            "=================================================================\n",
            "input_2 (InputLayer)         (None, 28, 28, 1)         0         \n",
            "_________________________________________________________________\n",
            "model_2 (Model)              (None, 4)                 55684     \n",
            "=================================================================\n",
            "Total params: 55,684\n",
            "Trainable params: 55,684\n",
            "Non-trainable params: 0\n",
            "_________________________________________________________________\n"
          ],
          "name": "stdout"
        }
      ]
    },
    {
      "cell_type": "code",
      "metadata": {
        "colab_type": "code",
        "outputId": "e770e032-f63b-425a-e8e1-398cf863bc2e",
        "id": "EvL7KIg4a49N",
        "colab": {
          "base_uri": "https://localhost:8080/",
          "height": 35
        }
      },
      "source": [
        "img_arr = arr.reshape(*arr.shape, 1)\n",
        "img_arr.shape"
      ],
      "execution_count": 0,
      "outputs": [
        {
          "output_type": "execute_result",
          "data": {
            "text/plain": [
              "(512, 28, 28, 1)"
            ]
          },
          "metadata": {
            "tags": []
          },
          "execution_count": 27
        }
      ]
    },
    {
      "cell_type": "code",
      "metadata": {
        "colab_type": "code",
        "outputId": "1fb4d77b-4970-43bb-84dc-11305236b48e",
        "id": "tSuZEqw8a49h",
        "colab": {
          "base_uri": "https://localhost:8080/",
          "height": 35
        }
      },
      "source": [
        "preds = tmp_model.predict(img_arr, batch_size=50)\n",
        "print (preds.shape)"
      ],
      "execution_count": 0,
      "outputs": [
        {
          "output_type": "stream",
          "text": [
            "(512, 4)\n"
          ],
          "name": "stdout"
        }
      ]
    },
    {
      "cell_type": "code",
      "metadata": {
        "colab_type": "code",
        "id": "2PRdemzga491",
        "colab": {}
      },
      "source": [
        "import pandas as pd\n",
        "import seaborn as sns\n",
        "import matplotlib.patheffects as PathEffects\n",
        "from sklearn.manifold import TSNE\n",
        "import matplotlib.pyplot as plt\n",
        "%matplotlib inline\n",
        "\n",
        "# Define our own plot function\n",
        "def scatter(x, labels, subtitle=None):\n",
        "    # We choose a color palette with seaborn.\n",
        "    palette = np.array(sns.color_palette(\"hls\", 10))\n",
        "\n",
        "    # We create a scatter plot.\n",
        "    f = plt.figure(figsize=(8, 8))\n",
        "    ax = plt.subplot(aspect='equal')\n",
        "    sc = ax.scatter(x[:,0], x[:,1], lw=0, s=40,\n",
        "                    c=palette[labels.astype(np.int)])\n",
        "    plt.xlim(-25, 25)\n",
        "    plt.ylim(-25, 25)\n",
        "    ax.axis('off')\n",
        "    ax.axis('tight')\n",
        "\n",
        "    # We add the labels for each digit.\n",
        "    txts = []\n",
        "    for i in range(10):\n",
        "        # Position of each label.\n",
        "        xtext, ytext = np.median(x[labels == i, :], axis=0)\n",
        "        txt = ax.text(xtext, ytext, str(i), fontsize=24)\n",
        "        txt.set_path_effects([\n",
        "            PathEffects.Stroke(linewidth=5, foreground=\"w\"),\n",
        "            PathEffects.Normal()])\n",
        "        txts.append(txt)\n",
        "        \n",
        "    if subtitle != None:\n",
        "        plt.suptitle(subtitle)\n",
        "        \n",
        "    plt.savefig(subtitle)"
      ],
      "execution_count": 0,
      "outputs": []
    },
    {
      "cell_type": "code",
      "metadata": {
        "colab_type": "code",
        "id": "1XFfo1bJa498",
        "colab": {}
      },
      "source": [
        "x_train_flat = train_x.reshape(-1,784)"
      ],
      "execution_count": 0,
      "outputs": []
    },
    {
      "cell_type": "code",
      "metadata": {
        "colab_type": "code",
        "outputId": "1ef76cec-a0e3-4c4e-c9d8-eb8cf4e7bdfe",
        "id": "dBdfN60ga4-H",
        "colab": {
          "base_uri": "https://localhost:8080/",
          "height": 540
        }
      },
      "source": [
        "tsne = TSNE()\n",
        "train_tsne_embeds = tsne.fit_transform(x_train_flat[:512])\n",
        "scatter(train_tsne_embeds, train_Y[:512], \"Samples from Training Data\")"
      ],
      "execution_count": 0,
      "outputs": [
        {
          "output_type": "display_data",
          "data": {
            "image/png": "[encoded data removed]",
            "text/plain": [
              "<Figure size 576x576 with 1 Axes>"
            ]
          },
          "metadata": {
            "tags": []
          }
        }
      ]
    },
    {
      "cell_type": "code",
      "metadata": {
        "colab_type": "code",
        "id": "aV4tc0eya4-a",
        "colab": {}
      },
      "source": [
        ""
      ],
      "execution_count": 0,
      "outputs": []
    },
    {
      "cell_type": "code",
      "metadata": {
        "colab_type": "code",
        "outputId": "eed1f959-7d92-4d5f-e954-5a22276394cc",
        "id": "aVL0JVlRa4-e",
        "colab": {
          "base_uri": "https://localhost:8080/",
          "height": 35
        }
      },
      "source": [
        "import pandas as pd\n",
        "import seaborn as sns\n",
        "from sklearn.manifold import TSNE\n",
        "\n",
        "l = np.array(lbl)\n",
        "l[:5]"
      ],
      "execution_count": 0,
      "outputs": [
        {
          "output_type": "execute_result",
          "data": {
            "text/plain": [
              "array([5, 0, 4, 1, 9], dtype=uint8)"
            ]
          },
          "metadata": {
            "tags": []
          },
          "execution_count": 32
        }
      ]
    },
    {
      "cell_type": "code",
      "metadata": {
        "colab_type": "code",
        "id": "4j-knhoka4-q",
        "colab": {}
      },
      "source": [
        "preds_trans = TSNE().fit_transform(preds)"
      ],
      "execution_count": 0,
      "outputs": []
    },
    {
      "cell_type": "code",
      "metadata": {
        "colab_type": "code",
        "outputId": "29631dd8-e791-49c3-840a-da54a121f2a6",
        "id": "LOXSWxAka4-v",
        "colab": {
          "base_uri": "https://localhost:8080/",
          "height": 540
        }
      },
      "source": [
        "scatter(preds_trans, train_Y[:512], \"Training Data After TNN\")"
      ],
      "execution_count": 0,
      "outputs": [
        {
          "output_type": "display_data",
          "data": {
            "image/png": "[encoded data removed]",
            "text/plain": [
              "<Figure size 576x576 with 1 Axes>"
            ]
          },
          "metadata": {
            "tags": []
          }
        }
      ]
    },
    {
      "cell_type": "code",
      "metadata": {
        "colab_type": "code",
        "id": "JTvvj_6Ja4_B",
        "colab": {}
      },
      "source": [
        "preds_df = pd.DataFrame(np.concatenate((preds_trans, l[:, None]), axis=1), columns=['x','y','labels'])"
      ],
      "execution_count": 0,
      "outputs": []
    },
    {
      "cell_type": "code",
      "metadata": {
        "colab_type": "code",
        "outputId": "bc7fc8f4-3cd9-45a9-8eb9-c0b9171d38f0",
        "id": "MSryEW1-a4_W",
        "colab": {
          "base_uri": "https://localhost:8080/",
          "height": 206
        }
      },
      "source": [
        "preds_df.head()"
      ],
      "execution_count": 0,
      "outputs": [
        {
          "output_type": "execute_result",
          "data": {
            "text/html": [
              "<div>\n",
              "<style scoped>\n",
              "    .dataframe tbody tr th:only-of-type {\n",
              "        vertical-align: middle;\n",
              "    }\n",
              "\n",
              "    .dataframe tbody tr th {\n",
              "        vertical-align: top;\n",
              "    }\n",
              "\n",
              "    .dataframe thead th {\n",
              "        text-align: right;\n",
              "    }\n",
              "</style>\n",
              "<table border=\"1\" class=\"dataframe\">\n",
              "  <thead>\n",
              "    <tr style=\"text-align: right;\">\n",
              "      <th></th>\n",
              "      <th>x</th>\n",
              "      <th>y</th>\n",
              "      <th>labels</th>\n",
              "    </tr>\n",
              "  </thead>\n",
              "  <tbody>\n",
              "    <tr>\n",
              "      <th>0</th>\n",
              "      <td>-1.646187</td>\n",
              "      <td>4.600009</td>\n",
              "      <td>5.0</td>\n",
              "    </tr>\n",
              "    <tr>\n",
              "      <th>1</th>\n",
              "      <td>29.978218</td>\n",
              "      <td>-7.271741</td>\n",
              "      <td>0.0</td>\n",
              "    </tr>\n",
              "    <tr>\n",
              "      <th>2</th>\n",
              "      <td>1.266596</td>\n",
              "      <td>32.423031</td>\n",
              "      <td>4.0</td>\n",
              "    </tr>\n",
              "    <tr>\n",
              "      <th>3</th>\n",
              "      <td>-41.041939</td>\n",
              "      <td>-5.710828</td>\n",
              "      <td>1.0</td>\n",
              "    </tr>\n",
              "    <tr>\n",
              "      <th>4</th>\n",
              "      <td>-12.677921</td>\n",
              "      <td>-17.887129</td>\n",
              "      <td>9.0</td>\n",
              "    </tr>\n",
              "  </tbody>\n",
              "</table>\n",
              "</div>"
            ],
            "text/plain": [
              "           x          y  labels\n",
              "0  -1.646187   4.600009     5.0\n",
              "1  29.978218  -7.271741     0.0\n",
              "2   1.266596  32.423031     4.0\n",
              "3 -41.041939  -5.710828     1.0\n",
              "4 -12.677921 -17.887129     9.0"
            ]
          },
          "metadata": {
            "tags": []
          },
          "execution_count": 36
        }
      ]
    },
    {
      "cell_type": "code",
      "metadata": {
        "colab_type": "code",
        "outputId": "bca71801-5e3f-45d9-f577-75b6a4cbe1ac",
        "id": "ulyLGFsca4_y",
        "colab": {
          "base_uri": "https://localhost:8080/",
          "height": 729
        }
      },
      "source": [
        "sns.lmplot('x', 'y', data=preds_df, hue='labels', fit_reg=False, legend=False, height=10)\n",
        "plt.grid(visible=False)"
      ],
      "execution_count": 0,
      "outputs": [
        {
          "output_type": "display_data",
          "data": {
            "image/png": "[encoded data removed]",
            "text/plain": [
              "<Figure size 720x720 with 1 Axes>"
            ]
          },
          "metadata": {
            "tags": []
          }
        }
      ]
    },
    {
      "cell_type": "code",
      "metadata": {
        "colab_type": "code",
        "id": "7hz_VkiFa4__",
        "colab": {}
      },
      "source": [
        ""
      ],
      "execution_count": 0,
      "outputs": []
    }
  ]
}