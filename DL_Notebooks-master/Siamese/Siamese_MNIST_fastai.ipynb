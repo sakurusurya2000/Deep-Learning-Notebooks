{
  "nbformat": 4,
  "nbformat_minor": 0,
  "metadata": {
    "colab": {
      "name": "Siamese_MNIST_fastai.ipynb",
      "version": "0.3.2",
      "provenance": [],
      "collapsed_sections": [
        "N3d4uT_pFvKs",
        "sGSogN5ery0Y",
        "MSCev98Yc26G",
        "SDEzAKRPPzfg",
        "TvnpR5wStk-7",
        "m6f93ztLs9sR",
        "Ho7L_pTO0sFC",
        "gsVh3d-wlBzj",
        "59V7wCicteB6"
      ]
    },
    "kernelspec": {
      "name": "python3",
      "display_name": "Python 3"
    },
    "accelerator": "GPU"
  },
  "cells": [
    {
      "cell_type": "markdown",
      "metadata": {
        "id": "mLqo9Sbq89Dm",
        "colab_type": "text"
      },
      "source": [
        "# Siamese Networks\n",
        "\n",
        "\n",
        "## Introduction\n",
        "\n",
        "Let's start with what are siamese networks? \n",
        "\n",
        "A siamese neural network consists of same network typically a CNN, which accept distinct inputs and generates embeddings as output. We add different loss function to encourage brining similar images together and different images apart in embedding space. Siamese NNs are popular among tasks that involve finding similarity or a relationship between two comparable things. We apply different loss functions to encourage such behaviour. Siamese networks typically share the same base network (CNN) which can be used as embedding extractor i.e. 3 inputs for triplet loss which will generate 3 outputs of embedding size of 128 or 2 inputs for contrastive loss will generate 2 outputs of embedding size of 128. \n",
        "\n",
        "\n",
        "---\n",
        "\n",
        "## Types of Siamese Networks\n",
        "\n",
        "Siamese Networks comes in two flavours: using triplet loss and another using contrastive loss. Let's visit each of them.\n",
        "\n",
        "\n",
        "- **Triplets Loss**\n",
        "\n",
        "Triplets, are basically 3 images (yeah, no brainer!) which are anchor, positive and negative. What are these? **The anchor is any example from dataset. The positive is any example other than anchor belonging to same class as anchor.** And finally, **negative is any example belonging to class other than the anchor. In triplet loss, what we do lot's of triplets.** There are different ways to sample or known as mining triplets and this is what makes and breaks triplet loss approach. For some distance on the embedding space d, the loss of a triplet (a,p,n) is\n",
        "\n",
        "$$\\mathcal{L} = max(d(a, p) - d(a, n) + margin, 0)$$\n",
        "\n",
        "\n",
        "There are different such as easy triplets, semi-hard triplets, hard triplets. **Easy triplets are triplets which as loss 0**, because $$d(a, p) + margin < d(a,n)$$ **Semi-hard triplets are triplets where the negative is not closer to the anchor than the positive, but which still have positive loss,** i.e. $$d(a, p) < d(a, n) < d(a, p) + margin$$ **Hard Triplets are triplets where the negative is closer to the anchor than the positive**, i.e. $$d(a,n) < d(a,p)$$\n",
        "\n",
        "\n",
        "In the original Facenet paper, they pick a random semi-hard negative for every pair of anchor and positive, and train on these triplets and also according to paper, selecting the hardest negatives can in practice lead to badlocal minima early on in training. \"Additionally, the selected triplets can be considered moderate triplets, since they are the hardest within a small subset of the data, which is exactly what is best for learning with the triplet loss\", according to [this](https://arxiv.org/abs/1703.07737) paper. So, there is no thumb rule but starting with semi-hard yields good results and poor with easy.\n",
        "\n",
        "\n",
        "Now having decided what strategy to use for batching minings, comes the challenge of training on batch of triplets. There are two way in which batches of triplets can be trained : (i) **Offline triplet mining, where we produce triplets offline, at the beginning of each epoch for instance.** We compute all the embeddings on the training set, and then only select hard or semi-hard triplets. We can then train one epoch on these triplets. (ii) **Online triplet mining, where we compute useful triplets on the fly, for each batch of inputs.** This technique gives you more triplets for a single batch of inputs, and doesn’t require any offline mining. It is therefore much more efficient. Details of each method are described in [this](https://arxiv.org/abs/1703.07737) paper.\n",
        "\n",
        " The motivation is that the triplet loss encourages all examples belonging to same class i.e. of one  identity to be projected onto a single point in the embedding  space.\n",
        "\n",
        "\n",
        "- **Contrastive Loss**\n",
        "\n",
        "This the simplest among the two. Here, we sample two pairs of images, one **positive** and another **negative** or also known as, **similar** and **different**  pairs unlike above where we sample triplets. The two pairs i.e. **similar which contains any two images belonging to similar class** and **different where any two images belong to different class.** So, we create a lot many such similar and different pairs and pass it to any CNN architecture without the head(classification layer) and use the dimension of penultimate layer or add any number of linear layers  to obtain embeddings of size, say 128. Different name for loss suggests, we are not using our typical classification loss such as NLL or cross entropy for classification as there is no classification layer. So, how can we train our model (as in, what to backpropogate)? The answer is contrastive loss. **Contrastive Loss is a distance-based loss where such losses try to ensure that semantically similar examples are embedded close together.** This is what makes them special for our case, where we want similar images to be present closer in the embedding space and push different pairs away. We can also train by adding cross entropy as loss function with labels as 0 for similar images and 1 for different images. To learn more about this loss function, please read the paper linked below.\n",
        "\n",
        "\n",
        "---\n",
        "\n",
        "## Further Readings\n",
        "\n",
        "[Signature Verification using a \"Siamese\" Time Delay Neural Network ](https://papers.nips.cc/paper/769-signature-verification-using-a-siamese-time-delay-neural-network.pdf)\n",
        "\n",
        "[Siamese Neural Networks for One-shot Image Recognition](https://www.cs.cmu.edu/~rsalakhu/papers/oneshot1.pdf)\n",
        "\n",
        "[Facenet paper introducing Triplets](https://arxiv.org/abs/1503.03832)\n",
        "\n",
        "[Contrastive Loss paper](http://yann.lecun.com/exdb/publis/pdf/hadsell-chopra-lecun-06.pdf)\n",
        "\n",
        "[In defense of Triplet Loss for Person Re-identification](https://arxiv.org/abs/1703.07737)\n",
        "\n",
        "[Andrew Ng's Triplet Loss Lecture](https://www.coursera.org/learn/convolutional-neural-networks/lecture/HuUtN/triplet-loss)\n",
        "\n",
        "[Triplet Loss and Online Triplet Mining in TensorFlow](https://omoindrot.github.io/triplet-loss)\n",
        "\n",
        "---\n",
        "\n",
        "## Experiements\n",
        "\n",
        "Here we will start small with everyone's favourite dataset MNIST. (Yay!!) We will implement both triplet loss and contrastive loss siamese networks on MNIST and obtain the projections using t-SNE on embeddings trained on siamese model to see how different cluster are formed and how far are they separated indicating they have been successful in perform their task.\n",
        "\n",
        "[![Open In Colab](https://colab.research.google.com/assets/colab-badge.svg)](https://colab.research.google.com/github/dudeperf3ct/DL_notebooks/blob/master/Siamese/Siamese_MNIST_fastai.ipynb)"
      ]
    },
    {
      "cell_type": "markdown",
      "metadata": {
        "id": "mNxnQ81h9nmy",
        "colab_type": "text"
      },
      "source": [
        "# Fastai"
      ]
    },
    {
      "cell_type": "markdown",
      "metadata": {
        "id": "v2dL-i2Fm1NY",
        "colab_type": "text"
      },
      "source": [
        "- How does the datablock API in fastai work?\n",
        "\n",
        "\n",
        "- What is the use of Itembase and Imagelist classes?\n",
        "\n",
        "\n",
        "- How to create custom classes?\n",
        "\n",
        "\n",
        "- How to create custom dataset loader?\n",
        "\n",
        "Don't worry if it becomes too much! We will discuss everything in context of Images below.\n",
        "\n",
        "1. [ItemBase](https://github.com/fastai/fastai/blob/8f4a9e71554742ddcf57db5e9938c4bd6970d52f/fastai/core.py#L163) \n",
        "\n",
        "The journey starts with the base class called `ItemBase` class which determines the type of input and target seperately (it creates separate `ItemBase` classes for all inputs and targets). \n",
        "\n",
        "- Creating a custom subclass `ItemBase` class\n",
        "\n",
        "Fastai provides 3 basic ItemBase classes : `Image`, `Text` and `TabularList`.  We can use one of these 3 classes as subclass to create custom `ItemBase` or  a custom `ItemBase` class.\n",
        "\n",
        "Now why is there a need to create a custom `ItemBase` class or subclass? Consider our use case of siamese network where we need to input 3 or 2 images (depending on approach we take)  therefore we need to create custom `ItemBase` that takes in 3 or 2 images as input.\n",
        "\n",
        "Steps :\n",
        "\n",
        "- Create `ItemBase.data` is the data that is passed to PyTorch when we create DataLoader. This data will be passed to model\n",
        "- Create `apply_tfms` to apply data augmentation to data. This will apply transformations when we call `get_transforms` using datablock API of fastai.\n",
        "\n",
        "\n",
        "We will not be able to use this custom `ItemBase` unless we put it inside `ItemList`.\n",
        "\n",
        "2. [ItemList](https://github.com/fastai/fastai/blob/cbc6d9b65bd122782a0084168022a526ef72b002/fastai/data_block.py#L47)\n",
        "\n",
        "This is the main class that allows you to group your inputs or your targets in the data block API. This class defines how we fetch (using `get` method), apply preprocesing(using `process` method), splitting(using `no_split`, `split_none`, `split_by_list`, `split_by_idxs`, `split_by_idx`, `split_by_folder`, `split_by_rand_pct`, `split_by_valid_func`, `split_by_files`, `split_by_fname_file` and `split_from_df`), labelling (using `_label_from_list`, `label_from_df`, `label_const`, `label_empty`, `label_from_func`, `label_from_folder` and `label_from_re`).\n",
        "\n",
        "Steps:\n",
        "\n",
        "- Define `_label_list` variable which contains type of label class. Fastai provide the label classes such as [CategoryList](https://github.com/fastai/fastai/blob/cbc6d9b65bd122782a0084168022a526ef72b002/fastai/data_block.py#L359), [MultiCategoryList]() or [FloatList](https://github.com/fastai/fastai/blob/cbc6d9b65bd122782a0084168022a526ef72b002/fastai/data_block.py#L422) depending on the type of the first item.\n",
        "- Define `process` class which contains different [Preprocessor](https://github.com/fastai/fastai/blob/cbc6d9b65bd122782a0084168022a526ef72b002/fastai/data_block.py#L38) which will be applied  to items at the end of the datablock API.  `processor` is applied to the ItemList after splitting and labelling.\n",
        "- Define `_bunch` which contains name of classes and when we call .databunch(), the datablock API calls the `_bunch.create` method with `_bunch` as inputs.\n",
        "\n",
        "3. [ItemLists](https://github.com/fastai/fastai/blob/cbc6d9b65bd122782a0084168022a526ef72b002/fastai/data_block.py#L437)\n",
        "\n",
        "A collection of ItemList (for inputs or targets) is together called ItemLists. This contains ItemList for each train, valid or test.\n",
        "\n",
        "4. [LabelList](https://github.com/fastai/fastai/blob/cbc6d9b65bd122782a0084168022a526ef72b002/fastai/data_block.py#L585)\n",
        "\n",
        "`LabelList` takes a list of inputs and targets along with transforms. `LabelList` is subclass of PyTorch's class `Dataset`. It takes ItemList of inputs and ItemList of target. It takes inputs `ItemList` and labels `ItemList` as its properties `x` and `y`, sets property `item` to `None`, and uses `LabelList.transform` to apply a list of transforms `TfmList` to `x` and `y` if `tfm_y` is set `True`.\n",
        "\n",
        "5. [LabelLists](https://github.com/fastai/fastai/blob/cbc6d9b65bd122782a0084168022a526ef72b002/fastai/data_block.py#L510)\n",
        "\n",
        "`LabelLists` is subclass of `ItemLists`. Labelists is a collection LabelList for each train, val or train. All the [preprocessing](https://github.com/fastai/fastai/blob/cbc6d9b65bd122782a0084168022a526ef72b002/fastai/data_block.py#L486) happens during creation of LabelLists objects and transforms are applied after creating inputs and labels seperately to [either](https://github.com/fastai/fastai/blob/cbc6d9b65bd122782a0084168022a526ef72b002/fastai/data_block.py#L489) if required.\n",
        "\n",
        "An` ItemList` or its subclass object must do a split to turn itself into an `ItemLists` before doing labeling to become a` LabelLists` object.\n",
        "\n",
        "6. [DataBunch]()\n",
        "\n",
        "DataBunch is the final call in API. DataBunch object which consist of train DataLoader, val DataLoader and test DataLoader, created is used in Learner to train model.\n",
        "\n",
        "\n",
        "---\n",
        "\n",
        "Let's start with vision (Images)\n",
        "\n",
        "Creating a databunch is our end goal in fastai. We will go through ways image dataset passes through different classes and subclasses.\n",
        "\n",
        "Let's take a simple example :\n",
        "\n",
        "<pre>\n",
        "data = (ImageList.from_folder(path)           #Where to find the data? -> in path and its subfolders <br>\n",
        "            .split_by_folder()                #How to split in train/valid? -> use the folders <br>\n",
        "            .label_from_folder()              #How to label? -> depending on the folder of the filenames <br>\n",
        "            .add_test_folder()                #Optionally add a test set (here default name is test) <br>\n",
        "            .transform(tfms, size=64)         #Data augmentation? -> use tfms with a size of 64 <br>\n",
        "            .databunch())                     #Finally? -> use the defaults for conversion to ImageDataBunch <br>\n",
        "</pre>\n",
        "\n",
        "ImageList class is subclass of ItemList. And as we saw above ItemList which itself is subclass of ItemBase is useful for allows to group inputs or targets. This class is created especially to deal with Images. Let's dissect [this class](https://github.com/fastai/fastai/blob/43001e17ba469308e9688dfe99a891018bcf7ad4/fastai/vision/data.py#L255) function by function.\n",
        "\n",
        "`class ImageList(ItemList):` tell us that ImageList is derived from base class `ItemList`. <br> <br>\n",
        "Next, `__init__` creates additional attributes like `convert_mode`, `after_open`, `c` and `sizes`.  ImageList being a custom ItemList class, when additional arguments are added to` __init__` call, it is necessary to pass these to [new](https://github.com/fastai/fastai/blob/cbc6d9b65bd122782a0084168022a526ef72b002/fastai/data_block.py#L93) method in ItemList as this method is responsible for creating training and validation while splitting. To do that, we just add their names in the `copy_new` argument. <br> <br>\n",
        "`open()` method  turn the `Path` object into an `Image` object by calling [open_image](https://github.com/fastai/fastai/blob/e6b56de53f80d2b2d39037c82d3a23ce72507cd7/old/fastai/dataset.py#L255) function. <br> <br>\n",
        "`get` is most important method in ItemList. ImageList `get()` overwrites ItemList `get()` method where ImageList `get()` method tells how to get Images from filenames. That is the first line which calls ItemList get method which simply return whatever item is present at current index which is path object (filenames). The second line uses above open function and converts paths to images. The third line simply stores the sizes of input. <br> <br>\n",
        "Now we come to `from_folder()` class method which is what is called in our datablock API. This method takes in input path, extensions which can be .jpg, .png, (Image extensions) etc and recurse=True which means it will recursively look for images as arguments and calls `from_folder()` [class method](https://github.com/fastai/fastai/blob/cbc6d9b65bd122782a0084168022a526ef72b002/fastai/data_block.py#L113) of ItemList which in turn call `get_files()` [function](https://github.com/fastai/fastai/blob/cbc6d9b65bd122782a0084168022a526ef72b002/fastai/data_block.py#L118).<br> <br>\n",
        "\n",
        "Let's take a example and explain.<br>\n",
        "\n",
        "To make it more solid, let's go through an example of Tiny MNIST. \n",
        "\n",
        "Download and get path <br>\n",
        "\n",
        "```\n",
        "path_data = untar_data(URLs.MNIST_TINY); path_data.ls()\n",
        "```\n",
        "\n",
        "Now we call ItemList `from_folder()`, <br>\n",
        "\n",
        "```\n",
        "il_data_base = ItemList.from_folder(path=path_data, extensions=['.png'], include=['test'])\n",
        "il_data_base\n",
        "```\n",
        "\n",
        "This will output ItemList object and [print](https://github.com/fastai/fastai/blob/cbc6d9b65bd122782a0084168022a526ef72b002/fastai/data_block.py#L67) total number of items and 5 items.\n",
        "\n",
        "```\n",
        "ItemList (20 items)\n",
        "/home/ubuntu/.fastai/data/mnist_tiny/test/1503.png,/home/ubuntu/.fastai/data/mnist_tiny/test/5071.png,/home/ubuntu/.fastai/data/mnist_tiny/test/617.png,/home/ubuntu/.fastai/data/mnist_tiny/test/585.png,/home/ubuntu/.fastai/data/mnist_tiny/test/2032.png\n",
        "Path: /home/ubuntu/.fastai/data/mnist_tiny\n",
        "```\n",
        "\n",
        "Now we call `get` [method](https://github.com/fastai/fastai/blob/cbc6d9b65bd122782a0084168022a526ef72b002/fastai/data_block.py#L64) in ItemList and it return the item at 15th index.\n",
        "\n",
        "```\n",
        "il_data_base[15]\n",
        "\n",
        "PosixPath('/home/ubuntu/.fastai/data/mnist_tiny/test/6736.png')\n",
        "\n",
        "```\n",
        "\n",
        "We can get the same output by writing `il_data_base[15]` as `il_data_base.get([15])`.  Because the get method in ItemList returns the item at particular index. `self.items[i]`<br>\n",
        "\n",
        "This was about `ItemList`. Now let's see what results do we obtain if we use `ImageList`.\n",
        "\n",
        "```\n",
        "il_data_image = ImageList.from_folder(path=path_data, extensions=['.png'], include=['test'])\n",
        "il_data_image\n",
        "\n",
        "ImageList (20 items)\n",
        "Image (3, 28, 28),Image (3, 28, 28),Image (3, 28, 28),Image (3, 28, 28),Image (3, 28, 28)\n",
        "Path: /home/ubuntu/.fastai/data/mnist_tiny\n",
        "\n",
        "```\n",
        "\n",
        "Calling from_folder class method from ImageList returns ImageList of 20 items and first 5 items (which in this case are not filenames but Image). How? It's because of get function of `ImageList` which calls `open()` function to convert filenames to Image. Hence, when we call \n",
        "\n",
        "```\n",
        "il_data_image[15]\n",
        "\n",
        "```\n",
        "We get image as output.\n",
        "\n",
        "---\n",
        "\n",
        "Let's get back to ImageList class. There are various class method such as `from_df`, `from_csv`, etc which can also be called depending on dataset you have. The remaining methods are `show_xys` and `show_xyzs` which show input(xs) and target(ys) and input(xs), target(ys) and prediction(zs). <br><br>\n",
        "\n",
        "Next, we have `split_by_folder()` which is [function](https://github.com/fastai/fastai/blob/cbc6d9b65bd122782a0084168022a526ef72b002/fastai/data_block.py#L198) in ItemList that splits the data depending on folder, where name of train dataset folder is `train` and validation dataset is `valid` which contains the image of each dataset.\n",
        "\n",
        "Example: \n",
        "\n",
        "Download the Tiny MNIST dataset.\n",
        "\n",
        "```\n",
        "path_data = untar_data(URLs.MNIST_TINY); path_data.ls()\n",
        "```\n",
        "\n",
        "This call as we seen above `from_folder` returns items as specified in `get` method.\n",
        "\n",
        "```\n",
        "il = ItemList.from_folder(path=path_data); il\n",
        "\n",
        "ItemList (1439 items)\n",
        "/home/ubuntu/.fastai/data/mnist_tiny/labels.csv,/home/ubuntu/.fastai/data/mnist_tiny/export.pkl,/home/ubuntu/.fastai/data/mnist_tiny/history.csv,/home/ubuntu/.fastai/data/mnist_tiny/cleaned.csv,/home/ubuntu/.fastai/data/mnist_tiny/test/1503.png\n",
        "Path: /home/ubuntu/.fastai/data/mnist_tiny\n",
        "```\n",
        "\n",
        "`split_by_folder` in ItemList splits the `il` ItemList into two smaller ItemList, one for train and another for valid.  Both `ImageList` are attached to a large `ItemLists` which is the final output of split_by_folder. The output is object of type `ItemLists` each containing two `ItemList` of Train and Valid.\n",
        "\n",
        "```\n",
        "sd = il.split_by_folder(train='train', valid='valid'); sd\n",
        "\n",
        "ItemLists;\n",
        "\n",
        "Train: ItemList (713 items)\n",
        "/home/ubuntu/.fastai/data/mnist_tiny/train/export.pkl,/home/ubuntu/.fastai/data/mnist_tiny/train/3/9932.png,/home/ubuntu/.fastai/data/mnist_tiny/train/3/7189.png,/home/ubuntu/.fastai/data/mnist_tiny/train/3/8498.png,/home/ubuntu/.fastai/data/mnist_tiny/train/3/8888.png\n",
        "Path: /home/ubuntu/.fastai/data/mnist_tiny;\n",
        "\n",
        "Valid: ItemList (699 items)\n",
        "/home/ubuntu/.fastai/data/mnist_tiny/valid/3/7692.png,/home/ubuntu/.fastai/data/mnist_tiny/valid/3/7484.png,/home/ubuntu/.fastai/data/mnist_tiny/valid/3/9157.png,/home/ubuntu/.fastai/data/mnist_tiny/valid/3/8703.png,/home/ubuntu/.fastai/data/mnist_tiny/valid/3/9182.png\n",
        "Path: /home/ubuntu/.fastai/data/mnist_tiny;\n",
        "\n",
        "Test: None\n",
        "```\n",
        "---\n",
        "\n",
        "Now we understood how train and valid ImageList are created. There are various other splitting functions such as `split_by_func`, `split_from_df`, `split_by_rand_pct`,etc. Next is, how to label them. \n",
        "\n",
        "Labelling can be difficult as they are many different types of labels(like CategoryList, MultiCategoryList or FloatList). First the ItemList must find the type of label and this is done using `get_label_cls` [function](https://github.com/fastai/fastai/blob/master/fastai/data_block.py#L257). This function returns `label_cls` or guess one from the first element of labels where `label_cls` can be one of the types of labels. If no `label_cls` argument is passed, the correct labeling type can usually be inferred based on the data (for classification or regression).\n",
        "\n",
        "```\n",
        "labels = ['7', '3']\n",
        "label_cls = sd.train.get_label_cls(labels); label_cls\n",
        "\n",
        "fastai.data_block.CategoryList\n",
        "\n",
        "labels = [7, 3]\n",
        "label_cls = sd.train.get_label_cls(labels); label_cls\n",
        "\n",
        "fastai.data_block.CategoryList\n",
        "\n",
        "labels = [7.0, 3.0]\n",
        "label_cls = sd.train.get_label_cls(labels); label_cls\n",
        "\n",
        "fastai.data_block.FloatList\n",
        "\n",
        "labels = [[7, 3],]\n",
        "label_cls = sd.train.get_label_cls(labels); label_cls\n",
        "\n",
        "fastai.data_block.MultiCategoryList\n",
        "\n",
        "labels = [['7', '3'],]\n",
        "label_cls = sd.train.get_label_cls(labels); label_cls\n",
        "\n",
        "fastai.data_block.MultiCategoryList\n",
        "\n",
        "\n",
        "```\n",
        "\n",
        "Having inferred the type of label, we now call `label_from_folder()` to label `ItemLists` created above. Even when you just want a training set `ItemList`, you still need to do `split_none` to create an `ItemLists` and then do labeling with `label_from_folder`, to get `LabelLists`.\n",
        "\n",
        "\n",
        "```\n",
        "sd_train = ImageList.from_folder(path_data/'train').split_none()\n",
        "ll_train = sd_train.label_from_folder(); ll_train\n",
        "\n",
        "LabelLists;\n",
        "\n",
        "Train: LabelList (709 items)\n",
        "x: ImageList\n",
        "Image (3, 28, 28),Image (3, 28, 28),Image (3, 28, 28),Image (3, 28, 28),Image (3, 28, 28)\n",
        "y: CategoryList\n",
        "7,7,7,7,7\n",
        "Path: /Users/Natsume/.fastai/data/mnist_tiny/train;\n",
        "\n",
        "Valid: LabelList (0 items)\n",
        "x: ImageList\n",
        "\n",
        "y: CategoryList\n",
        "\n",
        "Path: /Users/Natsume/.fastai/data/mnist_tiny/train;\n",
        "\n",
        "Test: None\n",
        "\n",
        "```\n",
        "---\n",
        "\n",
        "There are other labelling functions like `label_from_func`, `label_from_df`, `label_from_csv`, etc. Optionally, we can add test folder using `add_test_folder()` or `add_test()` methods.  After that comes the step of `preprocessing` which is not applied here. But it is invisible step that is it is not seen in the API but it is called depending on class of item from list of different `Preprocessor` class. There are different `Preprocessor` classes defined in fastai like `ObjectCategoryProcessor`, `SegmentationProcessor`,  `PointsProcessor`, etc. LabelLists calls `process` defined in `Preprocessor` class to complete the preprocessing. As, an example for text we can consider tokenization and then numericalization as preprocessing step done once. Also, filling missing values in Tabular data. <br><br>\n",
        "\n",
        "\n",
        "But we have called `transform()` which applies transformations to the data on fly. Now the important difference betweene preprocessing and transformation is that preprocessing is applied once and transformation is applied on the fly to the data while training. The transformations are applied to `x`s of training and validation datasets.<br>\n",
        "\n",
        "There are various [data augmentation and transformation techniques](https://github.com/fastai/fastai/blob/master/fastai/vision/transform.py) for Image such  as flip, add_padding, rotation, lightining, etc. which can be used as regularization to create a robust model.\n",
        "\n",
        "---\n",
        "\n",
        "The last step is creating DataBunch which is called using `databunch()` in the API. `DataBunch.create()` is invoked and [it](https://github.com/fastai/fastai/blob/master/fastai/data_block.py#L543) includes many arguments like bs(batch size), num_workers, etc.\n",
        "\n",
        "Important point to note is the class called to create `DataBunch` is set in `_bunch` variable which can be seen on [first line](https://github.com/fastai/fastai/blob/43001e17ba469308e9688dfe99a891018bcf7ad4/fastai/vision/data.py#L257) of `class ImageList` which is set to `ImageDataBunch`.  `ImageDataBunch` is subclass of `DataBunch` created for convinence of handling Images same like how `ImageList` is created from `ItemList` to handle vision applications. `ImageDataBunch` contains `normalize` function which is called to normalize the whole dataset for given mean and std.\n",
        "\n",
        "And thus the goal of creating databunch is reached.\n",
        "\n",
        "---\n",
        "\n",
        "### Recap\n",
        "\n",
        "That was a lot to take in!\n",
        "\n",
        "Let's see if we can summarize it in few lines.\n",
        "\n",
        "- First we called `from_folder` from ImageList class which takes `path` as argument to return Images as `ItemList` output.<br>\n",
        "\n",
        "- Secondly, we sepcify how we want to split our Image dataset into train and valid. This convets `ItemList` into `ItemLists`. We saw if we only want training set without valid, we still need to specify `split_none()` so as to convert `ItemList` into `ItemLists` of train and valid.<br>\n",
        "\n",
        "- Rraining, validation even testing ItemList get to call `label_from_folder`, and then turns the `ItemLists` into a `LabelLists` and then calls `LabelLists.process` to perform preprocessing.\n",
        "\n",
        "- We can additionally add `transform` functions and `test` set if we want.\n",
        "\n",
        "- The final step is calling `databunch` which creates the dataloader of train and test which will be used to do a forward pass and backward pass by passing the dataloader to `Learner` class which defines a model architectures and trains the model.\n",
        "\n"
      ]
    },
    {
      "cell_type": "code",
      "metadata": {
        "id": "c--JiTMba-me",
        "colab_type": "code",
        "colab": {}
      },
      "source": [
        "!pip install pyfunctional"
      ],
      "execution_count": 0,
      "outputs": []
    },
    {
      "cell_type": "code",
      "metadata": {
        "id": "D--3qpuF9lsT",
        "colab_type": "code",
        "colab": {}
      },
      "source": [
        "from fastai.metrics import accuracy_thresh\n",
        "from fastai.basic_data import *\n",
        "from torch.utils.data import DataLoader, Dataset\n",
        "from torch import nn\n",
        "from fastai.callbacks.hooks import num_features_model, model_sizes\n",
        "from fastai.layers import BCEWithLogitsFlat\n",
        "from fastai.basic_train import Learner\n",
        "from fastai import *\n",
        "from fastai.vision import *\n",
        "from fastai.vision import learner\n",
        "from fastai.callbacks import *\n",
        "import pandas as pd\n",
        "from functional import seq\n",
        "%matplotlib inline"
      ],
      "execution_count": 0,
      "outputs": []
    },
    {
      "cell_type": "code",
      "metadata": {
        "id": "XoiryKATcRqq",
        "colab_type": "code",
        "outputId": "f4f28b0e-5ff7-4de3-e1c3-b755139d2cda",
        "colab": {
          "base_uri": "https://localhost:8080/",
          "height": 71
        }
      },
      "source": [
        "path = untar_data(URLs.MNIST)\n",
        "path.ls()"
      ],
      "execution_count": 0,
      "outputs": [
        {
          "output_type": "execute_result",
          "data": {
            "text/plain": [
              "[PosixPath('/root/.fastai/data/mnist_png/training'),\n",
              " PosixPath('/root/.fastai/data/mnist_png/models'),\n",
              " PosixPath('/root/.fastai/data/mnist_png/testing')]"
            ]
          },
          "metadata": {
            "tags": []
          },
          "execution_count": 2
        }
      ]
    },
    {
      "cell_type": "code",
      "metadata": {
        "id": "Qe86cs9NjlFf",
        "colab_type": "code",
        "colab": {}
      },
      "source": [
        "tfms = get_transforms(do_flip=False)\n",
        "bs = 64"
      ],
      "execution_count": 0,
      "outputs": []
    },
    {
      "cell_type": "markdown",
      "metadata": {
        "id": "TvnpR5wStk-7",
        "colab_type": "text"
      },
      "source": [
        "#### Convert images and targets to dataframe"
      ]
    },
    {
      "cell_type": "code",
      "metadata": {
        "id": "Z8bJLK0Slnyz",
        "colab_type": "code",
        "colab": {}
      },
      "source": [
        "ll = ImageList.from_folder(path).split_by_folder(train='training', valid='testing').label_from_folder().train\n",
        "ll.to_csv('/content/train.csv')"
      ],
      "execution_count": 0,
      "outputs": []
    },
    {
      "cell_type": "code",
      "metadata": {
        "id": "W4uEXQXMln4V",
        "colab_type": "code",
        "outputId": "07687fcd-c84c-44f1-b060-fce592a4c536",
        "colab": {
          "base_uri": "https://localhost:8080/",
          "height": 206
        }
      },
      "source": [
        "df_train = pd.read_csv('/content/train.csv')\n",
        "df_train.head()"
      ],
      "execution_count": 0,
      "outputs": [
        {
          "output_type": "execute_result",
          "data": {
            "text/html": [
              "<div>\n",
              "<style scoped>\n",
              "    .dataframe tbody tr th:only-of-type {\n",
              "        vertical-align: middle;\n",
              "    }\n",
              "\n",
              "    .dataframe tbody tr th {\n",
              "        vertical-align: top;\n",
              "    }\n",
              "\n",
              "    .dataframe thead th {\n",
              "        text-align: right;\n",
              "    }\n",
              "</style>\n",
              "<table border=\"1\" class=\"dataframe\">\n",
              "  <thead>\n",
              "    <tr style=\"text-align: right;\">\n",
              "      <th></th>\n",
              "      <th>x</th>\n",
              "      <th>y</th>\n",
              "    </tr>\n",
              "  </thead>\n",
              "  <tbody>\n",
              "    <tr>\n",
              "      <th>0</th>\n",
              "      <td>training/8/30322.png</td>\n",
              "      <td>8</td>\n",
              "    </tr>\n",
              "    <tr>\n",
              "      <th>1</th>\n",
              "      <td>training/8/7825.png</td>\n",
              "      <td>8</td>\n",
              "    </tr>\n",
              "    <tr>\n",
              "      <th>2</th>\n",
              "      <td>training/8/32181.png</td>\n",
              "      <td>8</td>\n",
              "    </tr>\n",
              "    <tr>\n",
              "      <th>3</th>\n",
              "      <td>training/8/16579.png</td>\n",
              "      <td>8</td>\n",
              "    </tr>\n",
              "    <tr>\n",
              "      <th>4</th>\n",
              "      <td>training/8/5435.png</td>\n",
              "      <td>8</td>\n",
              "    </tr>\n",
              "  </tbody>\n",
              "</table>\n",
              "</div>"
            ],
            "text/plain": [
              "                      x  y\n",
              "0  training/8/30322.png  8\n",
              "1   training/8/7825.png  8\n",
              "2  training/8/32181.png  8\n",
              "3  training/8/16579.png  8\n",
              "4   training/8/5435.png  8"
            ]
          },
          "metadata": {
            "tags": []
          },
          "execution_count": 5
        }
      ]
    },
    {
      "cell_type": "code",
      "metadata": {
        "id": "c3FQEjvqnAP4",
        "colab_type": "code",
        "outputId": "4933e8b0-e4c3-4c89-92a6-56cc92510f85",
        "colab": {
          "base_uri": "https://localhost:8080/",
          "height": 214
        }
      },
      "source": [
        "print (df_train['y'].value_counts())"
      ],
      "execution_count": 0,
      "outputs": [
        {
          "output_type": "stream",
          "text": [
            "1    6742\n",
            "7    6265\n",
            "3    6131\n",
            "2    5958\n",
            "9    5949\n",
            "0    5923\n",
            "6    5918\n",
            "8    5851\n",
            "4    5842\n",
            "5    5421\n",
            "Name: y, dtype: int64\n"
          ],
          "name": "stdout"
        }
      ]
    },
    {
      "cell_type": "markdown",
      "metadata": {
        "id": "m6f93ztLs9sR",
        "colab_type": "text"
      },
      "source": [
        "## Method - 1 (Triplet Loss)"
      ]
    },
    {
      "cell_type": "code",
      "metadata": {
        "colab_type": "code",
        "outputId": "aae3f61a-515e-465b-a4b0-94349a0f8e1e",
        "id": "B5h9-Vm0pQcU",
        "colab": {
          "base_uri": "https://localhost:8080/",
          "height": 206
        }
      },
      "source": [
        "df1 = pd.DataFrame()\n",
        "df2 = pd.DataFrame()\n",
        "df1 = df_train.copy()\n",
        "df1['target'] = 1\n",
        "df2 = df_train.copy()\n",
        "df2['target'] = 0\n",
        "df1 = df1.append(df2)\n",
        "df1.head()"
      ],
      "execution_count": 0,
      "outputs": [
        {
          "output_type": "execute_result",
          "data": {
            "text/html": [
              "<div>\n",
              "<style scoped>\n",
              "    .dataframe tbody tr th:only-of-type {\n",
              "        vertical-align: middle;\n",
              "    }\n",
              "\n",
              "    .dataframe tbody tr th {\n",
              "        vertical-align: top;\n",
              "    }\n",
              "\n",
              "    .dataframe thead th {\n",
              "        text-align: right;\n",
              "    }\n",
              "</style>\n",
              "<table border=\"1\" class=\"dataframe\">\n",
              "  <thead>\n",
              "    <tr style=\"text-align: right;\">\n",
              "      <th></th>\n",
              "      <th>x</th>\n",
              "      <th>y</th>\n",
              "      <th>target</th>\n",
              "    </tr>\n",
              "  </thead>\n",
              "  <tbody>\n",
              "    <tr>\n",
              "      <th>0</th>\n",
              "      <td>training/8/30322.png</td>\n",
              "      <td>8</td>\n",
              "      <td>1</td>\n",
              "    </tr>\n",
              "    <tr>\n",
              "      <th>1</th>\n",
              "      <td>training/8/7825.png</td>\n",
              "      <td>8</td>\n",
              "      <td>1</td>\n",
              "    </tr>\n",
              "    <tr>\n",
              "      <th>2</th>\n",
              "      <td>training/8/32181.png</td>\n",
              "      <td>8</td>\n",
              "      <td>1</td>\n",
              "    </tr>\n",
              "    <tr>\n",
              "      <th>3</th>\n",
              "      <td>training/8/16579.png</td>\n",
              "      <td>8</td>\n",
              "      <td>1</td>\n",
              "    </tr>\n",
              "    <tr>\n",
              "      <th>4</th>\n",
              "      <td>training/8/5435.png</td>\n",
              "      <td>8</td>\n",
              "      <td>1</td>\n",
              "    </tr>\n",
              "  </tbody>\n",
              "</table>\n",
              "</div>"
            ],
            "text/plain": [
              "                      x  y  target\n",
              "0  training/8/30322.png  8       1\n",
              "1   training/8/7825.png  8       1\n",
              "2  training/8/32181.png  8       1\n",
              "3  training/8/16579.png  8       1\n",
              "4   training/8/5435.png  8       1"
            ]
          },
          "metadata": {
            "tags": []
          },
          "execution_count": 7
        }
      ]
    },
    {
      "cell_type": "code",
      "metadata": {
        "colab_type": "code",
        "outputId": "7ed64510-a190-4d93-f5aa-1d7a783c5adc",
        "id": "ACUUjb5upQd6",
        "colab": {
          "base_uri": "https://localhost:8080/",
          "height": 35
        }
      },
      "source": [
        "df1.shape"
      ],
      "execution_count": 0,
      "outputs": [
        {
          "output_type": "execute_result",
          "data": {
            "text/plain": [
              "(120000, 3)"
            ]
          },
          "metadata": {
            "tags": []
          },
          "execution_count": 8
        }
      ]
    },
    {
      "cell_type": "code",
      "metadata": {
        "colab_type": "code",
        "id": "NOuR2VhlpQeJ",
        "colab": {}
      },
      "source": [
        "mean, std = torch.tensor(mnist_stats)\n",
        "\n",
        "# The primary difference from the tutorial is with how normalization is being done here\n",
        "class SiameseImagePair(ItemBase):\n",
        "    def __init__(self, img1, img2, img3): ## These should of Image type\n",
        "        self.img1, self.img2, self.img3 = img1, img2, img3\n",
        "        self.obj, self.data = (img1, img2, img3), [(img1.data-mean[...,None,None])/std[...,None,None], (img2.data-mean[...,None,None])/std[...,None,None], (img3.data-mean[...,None,None])/std[...,None,None]]\n",
        "    def apply_tfms(self, tfms,*args, **kwargs):\n",
        "        self.img1 = self.img1.apply_tfms(tfms, *args, **kwargs)\n",
        "        self.img2 = self.img2.apply_tfms(tfms, *args, **kwargs)\n",
        "        self.img3 = self.img3.apply_tfms(tfms, *args, **kwargs)\n",
        "        \n",
        "        self.data = [(self.img1.data-mean[...,None,None])/std[...,None,None], (self.img2.data-mean[...,None,None])/std[...,None,None], (self.img3.data-mean[...,None,None])/std[...,None,None]]\n",
        "        return self\n",
        "    def __repr__(self): return f'{self.__class__.__name__} {self.img1.shape, self.img2.shape, self.img3.shape}'\n",
        "    def to_one(self):\n",
        "        return Image(mean[...,None,None]+torch.cat(self.data, 2)*std[...,None,None])\n"
      ],
      "execution_count": 0,
      "outputs": []
    },
    {
      "cell_type": "code",
      "metadata": {
        "colab_type": "code",
        "id": "hlTozAhnpQeS",
        "colab": {}
      },
      "source": [
        "class SiameseImageList(ImageList):\n",
        "    def __init__(self, *args, **kwargs):\n",
        "        super().__init__(*args, **kwargs)\n",
        "#         self._label_cls=FloatList\n",
        "\n",
        "    def __len__(self)->int: return len(self.items) or 1 \n",
        "\n",
        "    def get(self, i):\n",
        "        match=1\n",
        "        if i>=len(self.items)//2:#\"First set of iteration will generate similar pairs, next will generate different pairs\"\n",
        "            match = 0\n",
        "        fn = self.items[i]\n",
        "        img1 = super().get(i) # Returns Image class object\n",
        "\n",
        "        #print (self.inner_df)\n",
        "        imgs = self.inner_df.x.values\n",
        "        classes = self.inner_df.y.values\n",
        "        wcls = classes[i]\n",
        "        simgs = imgs[classes == wcls]\n",
        "        dimgs = imgs[classes != wcls]\n",
        "        if len(simgs)==1 and match==1:\n",
        "            fn2=fn\n",
        "        else:\n",
        "            while True:\n",
        "                np.random.shuffle(simgs)\n",
        "                np.random.shuffle(dimgs)\n",
        "                if simgs[0] != fn:\n",
        "                    fn2 = [simgs[0]][0]\n",
        "                    fn3 = [dimgs[0]][0]\n",
        "                    break\n",
        "            fn2 = self.items[np.where(imgs==fn2)[0][0]]\n",
        "            fn3 = self.items[np.where(imgs==fn3)[0][0]]\n",
        "        img2 = super().open(fn2) # Returns Image class object\n",
        "        img3 = super().open(fn3) # Returns Image class object\n",
        "        \n",
        "        return SiameseImagePair(img1, img2, img3)\n",
        "\n",
        "    def reconstruct(self, t): return SiameseImagePair(mean[...,None,None]+t[0]*std[...,None,None], mean[...,None,None]+t[1]*std[...,None,None], mean[...,None,None]+t[2]*std[...,None,None])\n",
        "\n",
        "    def show_xys(self, xs, ys, figsize:Tuple[int,int]=(9,10), **kwargs):\n",
        "        rows = int(math.sqrt(len(xs)))\n",
        "        fig, axs = plt.subplots(rows,rows,figsize=figsize)\n",
        "        for i, ax in enumerate(axs.flatten() if rows > 1 else [axs]):\n",
        "            xs[i].to_one().show(ax=ax, y=ys[i], **kwargs)\n",
        "        plt.tight_layout()"
      ],
      "execution_count": 0,
      "outputs": []
    },
    {
      "cell_type": "code",
      "metadata": {
        "colab_type": "code",
        "id": "-6s6QfctpQea",
        "colab": {}
      },
      "source": [
        "data = (SiameseImageList.from_df(df1, path, cols=0, convert_mode='L')\n",
        "        .split_by_rand_pct(0.2, seed=34)\n",
        "        .label_empty()\n",
        "        .transform(tfms, size=28)\n",
        "        .databunch(bs=bs))"
      ],
      "execution_count": 0,
      "outputs": []
    },
    {
      "cell_type": "code",
      "metadata": {
        "colab_type": "code",
        "outputId": "d47382a4-602c-4f9a-8131-d1c16fc97fa0",
        "id": "N4pNuOkjpQeh",
        "colab": {
          "base_uri": "https://localhost:8080/",
          "height": 341
        }
      },
      "source": [
        "data"
      ],
      "execution_count": 0,
      "outputs": [
        {
          "output_type": "execute_result",
          "data": {
            "text/plain": [
              "ImageDataBunch;\n",
              "\n",
              "Train: LabelList (96000 items)\n",
              "x: SiameseImageList\n",
              "SiameseImagePair (torch.Size([1, 28, 28]), torch.Size([1, 28, 28]), torch.Size([1, 28, 28])),SiameseImagePair (torch.Size([1, 28, 28]), torch.Size([1, 28, 28]), torch.Size([1, 28, 28])),SiameseImagePair (torch.Size([1, 28, 28]), torch.Size([1, 28, 28]), torch.Size([1, 28, 28])),SiameseImagePair (torch.Size([1, 28, 28]), torch.Size([1, 28, 28]), torch.Size([1, 28, 28])),SiameseImagePair (torch.Size([1, 28, 28]), torch.Size([1, 28, 28]), torch.Size([1, 28, 28]))\n",
              "y: EmptyLabelList\n",
              ",,,,\n",
              "Path: /root/.fastai/data/mnist_png;\n",
              "\n",
              "Valid: LabelList (24000 items)\n",
              "x: SiameseImageList\n",
              "SiameseImagePair (torch.Size([1, 28, 28]), torch.Size([1, 28, 28]), torch.Size([1, 28, 28])),SiameseImagePair (torch.Size([1, 28, 28]), torch.Size([1, 28, 28]), torch.Size([1, 28, 28])),SiameseImagePair (torch.Size([1, 28, 28]), torch.Size([1, 28, 28]), torch.Size([1, 28, 28])),SiameseImagePair (torch.Size([1, 28, 28]), torch.Size([1, 28, 28]), torch.Size([1, 28, 28])),SiameseImagePair (torch.Size([1, 28, 28]), torch.Size([1, 28, 28]), torch.Size([1, 28, 28]))\n",
              "y: EmptyLabelList\n",
              ",,,,\n",
              "Path: /root/.fastai/data/mnist_png;\n",
              "\n",
              "Test: None"
            ]
          },
          "metadata": {
            "tags": []
          },
          "execution_count": 12
        }
      ]
    },
    {
      "cell_type": "code",
      "metadata": {
        "colab_type": "code",
        "outputId": "c096710b-0ad7-45f8-b551-99a61409e496",
        "id": "7WGeKLtqpQes",
        "colab": {
          "base_uri": "https://localhost:8080/",
          "height": 615
        }
      },
      "source": [
        "data.show_batch(rows=5)"
      ],
      "execution_count": 0,
      "outputs": [
        {
          "output_type": "display_data",
          "data": {
            "image/png": "[encoded data removed]",
            "text/plain": [
              "<Figure size 648x720 with 25 Axes>"
            ]
          },
          "metadata": {
            "tags": []
          }
        }
      ]
    },
    {
      "cell_type": "code",
      "metadata": {
        "colab_type": "code",
        "id": "Mfip78kbpQfF",
        "colab": {}
      },
      "source": [
        "class SiameseNet(nn.Module):\n",
        "    def __init__(self, arch=models.resnet18, lin_ftrs=[256, 128], emb_sz=128, ps=0.5, bn_final=False):\n",
        "        super(SiameseNet, self).__init__()\n",
        "        self.arch, self.emb_sz = arch, emb_sz\n",
        "        self.lin_ftrs, self.ps, self.bn_final = lin_ftrs, ps, bn_final\n",
        "        self.body = learner.create_body(self.arch, True, learner.cnn_config(self.arch)['cut'])\n",
        "        self.head = learner.create_head(num_features_model(self.body)*2, self.emb_sz, self.lin_ftrs, self.ps, True, self.bn_final)\n",
        "        self.cnn = nn.Sequential(self.body, self.head)\n",
        "\n",
        "    def forward(self, x1, x2, x3):\n",
        "        output1 = self.cnn(x1)\n",
        "        output2 = self.cnn(x2)\n",
        "        output3 = self.cnn(x3)\n",
        "        return output1, output2, output3\n",
        "\n",
        "    def get_embedding(self, x):\n",
        "        return self.cnn(x)"
      ],
      "execution_count": 0,
      "outputs": []
    },
    {
      "cell_type": "code",
      "metadata": {
        "colab_type": "code",
        "id": "-w6nrtg7pQfP",
        "colab": {}
      },
      "source": [
        "class TripletLoss(nn.Module):\n",
        "    \"\"\"\n",
        "    Triplet loss\n",
        "    Takes embeddings of an anchor sample, a positive sample and a negative sample\n",
        "    \"\"\"\n",
        "    def __init__(self, margin=1.0):\n",
        "        super(TripletLoss, self).__init__()\n",
        "        self.margin = margin\n",
        "\n",
        "    def forward(self, ops, target, size_average=True):\n",
        "        anchor, positive, negative = ops[0], ops[1], ops[2]\n",
        "        distance_positive = (anchor - positive).pow(2).sum(1)  # .pow(.5)\n",
        "        distance_negative = (anchor - negative).pow(2).sum(1)  # .pow(.5)\n",
        "        losses = F.relu(distance_positive - distance_negative + self.margin)\n",
        "        return losses.mean() if size_average else losses.sum()"
      ],
      "execution_count": 0,
      "outputs": []
    },
    {
      "cell_type": "code",
      "metadata": {
        "colab_type": "code",
        "id": "BgJF5XnGpQfV",
        "colab": {}
      },
      "source": [
        "model = SiameseNet().cuda()\n",
        "apply_init(model.head, nn.init.kaiming_normal_)\n",
        "loss_func = TripletLoss().cuda()"
      ],
      "execution_count": 0,
      "outputs": []
    },
    {
      "cell_type": "code",
      "metadata": {
        "colab_type": "code",
        "id": "_RcHkTwwpQfl",
        "colab": {}
      },
      "source": [
        "siamese_learner = Learner(data, model, loss_func=loss_func)"
      ],
      "execution_count": 0,
      "outputs": []
    },
    {
      "cell_type": "code",
      "metadata": {
        "id": "CZGi1Y3asgai",
        "colab_type": "code",
        "outputId": "b6f49277-a1fb-412d-b63f-168d1c792434",
        "colab": {
          "base_uri": "https://localhost:8080/",
          "height": 3662
        }
      },
      "source": [
        "siamese_learner.model"
      ],
      "execution_count": 0,
      "outputs": [
        {
          "output_type": "execute_result",
          "data": {
            "text/plain": [
              "SiameseNet(\n",
              "  (body): Sequential(\n",
              "    (0): Conv2d(3, 64, kernel_size=(7, 7), stride=(2, 2), padding=(3, 3), bias=False)\n",
              "    (1): BatchNorm2d(64, eps=1e-05, momentum=0.1, affine=True, track_running_stats=True)\n",
              "    (2): ReLU(inplace)\n",
              "    (3): MaxPool2d(kernel_size=3, stride=2, padding=1, dilation=1, ceil_mode=False)\n",
              "    (4): Sequential(\n",
              "      (0): BasicBlock(\n",
              "        (conv1): Conv2d(64, 64, kernel_size=(3, 3), stride=(1, 1), padding=(1, 1), bias=False)\n",
              "        (bn1): BatchNorm2d(64, eps=1e-05, momentum=0.1, affine=True, track_running_stats=True)\n",
              "        (relu): ReLU(inplace)\n",
              "        (conv2): Conv2d(64, 64, kernel_size=(3, 3), stride=(1, 1), padding=(1, 1), bias=False)\n",
              "        (bn2): BatchNorm2d(64, eps=1e-05, momentum=0.1, affine=True, track_running_stats=True)\n",
              "      )\n",
              "      (1): BasicBlock(\n",
              "        (conv1): Conv2d(64, 64, kernel_size=(3, 3), stride=(1, 1), padding=(1, 1), bias=False)\n",
              "        (bn1): BatchNorm2d(64, eps=1e-05, momentum=0.1, affine=True, track_running_stats=True)\n",
              "        (relu): ReLU(inplace)\n",
              "        (conv2): Conv2d(64, 64, kernel_size=(3, 3), stride=(1, 1), padding=(1, 1), bias=False)\n",
              "        (bn2): BatchNorm2d(64, eps=1e-05, momentum=0.1, affine=True, track_running_stats=True)\n",
              "      )\n",
              "    )\n",
              "    (5): Sequential(\n",
              "      (0): BasicBlock(\n",
              "        (conv1): Conv2d(64, 128, kernel_size=(3, 3), stride=(2, 2), padding=(1, 1), bias=False)\n",
              "        (bn1): BatchNorm2d(128, eps=1e-05, momentum=0.1, affine=True, track_running_stats=True)\n",
              "        (relu): ReLU(inplace)\n",
              "        (conv2): Conv2d(128, 128, kernel_size=(3, 3), stride=(1, 1), padding=(1, 1), bias=False)\n",
              "        (bn2): BatchNorm2d(128, eps=1e-05, momentum=0.1, affine=True, track_running_stats=True)\n",
              "        (downsample): Sequential(\n",
              "          (0): Conv2d(64, 128, kernel_size=(1, 1), stride=(2, 2), bias=False)\n",
              "          (1): BatchNorm2d(128, eps=1e-05, momentum=0.1, affine=True, track_running_stats=True)\n",
              "        )\n",
              "      )\n",
              "      (1): BasicBlock(\n",
              "        (conv1): Conv2d(128, 128, kernel_size=(3, 3), stride=(1, 1), padding=(1, 1), bias=False)\n",
              "        (bn1): BatchNorm2d(128, eps=1e-05, momentum=0.1, affine=True, track_running_stats=True)\n",
              "        (relu): ReLU(inplace)\n",
              "        (conv2): Conv2d(128, 128, kernel_size=(3, 3), stride=(1, 1), padding=(1, 1), bias=False)\n",
              "        (bn2): BatchNorm2d(128, eps=1e-05, momentum=0.1, affine=True, track_running_stats=True)\n",
              "      )\n",
              "    )\n",
              "    (6): Sequential(\n",
              "      (0): BasicBlock(\n",
              "        (conv1): Conv2d(128, 256, kernel_size=(3, 3), stride=(2, 2), padding=(1, 1), bias=False)\n",
              "        (bn1): BatchNorm2d(256, eps=1e-05, momentum=0.1, affine=True, track_running_stats=True)\n",
              "        (relu): ReLU(inplace)\n",
              "        (conv2): Conv2d(256, 256, kernel_size=(3, 3), stride=(1, 1), padding=(1, 1), bias=False)\n",
              "        (bn2): BatchNorm2d(256, eps=1e-05, momentum=0.1, affine=True, track_running_stats=True)\n",
              "        (downsample): Sequential(\n",
              "          (0): Conv2d(128, 256, kernel_size=(1, 1), stride=(2, 2), bias=False)\n",
              "          (1): BatchNorm2d(256, eps=1e-05, momentum=0.1, affine=True, track_running_stats=True)\n",
              "        )\n",
              "      )\n",
              "      (1): BasicBlock(\n",
              "        (conv1): Conv2d(256, 256, kernel_size=(3, 3), stride=(1, 1), padding=(1, 1), bias=False)\n",
              "        (bn1): BatchNorm2d(256, eps=1e-05, momentum=0.1, affine=True, track_running_stats=True)\n",
              "        (relu): ReLU(inplace)\n",
              "        (conv2): Conv2d(256, 256, kernel_size=(3, 3), stride=(1, 1), padding=(1, 1), bias=False)\n",
              "        (bn2): BatchNorm2d(256, eps=1e-05, momentum=0.1, affine=True, track_running_stats=True)\n",
              "      )\n",
              "    )\n",
              "    (7): Sequential(\n",
              "      (0): BasicBlock(\n",
              "        (conv1): Conv2d(256, 512, kernel_size=(3, 3), stride=(2, 2), padding=(1, 1), bias=False)\n",
              "        (bn1): BatchNorm2d(512, eps=1e-05, momentum=0.1, affine=True, track_running_stats=True)\n",
              "        (relu): ReLU(inplace)\n",
              "        (conv2): Conv2d(512, 512, kernel_size=(3, 3), stride=(1, 1), padding=(1, 1), bias=False)\n",
              "        (bn2): BatchNorm2d(512, eps=1e-05, momentum=0.1, affine=True, track_running_stats=True)\n",
              "        (downsample): Sequential(\n",
              "          (0): Conv2d(256, 512, kernel_size=(1, 1), stride=(2, 2), bias=False)\n",
              "          (1): BatchNorm2d(512, eps=1e-05, momentum=0.1, affine=True, track_running_stats=True)\n",
              "        )\n",
              "      )\n",
              "      (1): BasicBlock(\n",
              "        (conv1): Conv2d(512, 512, kernel_size=(3, 3), stride=(1, 1), padding=(1, 1), bias=False)\n",
              "        (bn1): BatchNorm2d(512, eps=1e-05, momentum=0.1, affine=True, track_running_stats=True)\n",
              "        (relu): ReLU(inplace)\n",
              "        (conv2): Conv2d(512, 512, kernel_size=(3, 3), stride=(1, 1), padding=(1, 1), bias=False)\n",
              "        (bn2): BatchNorm2d(512, eps=1e-05, momentum=0.1, affine=True, track_running_stats=True)\n",
              "      )\n",
              "    )\n",
              "  )\n",
              "  (head): Sequential(\n",
              "    (0): AdaptiveConcatPool2d(\n",
              "      (ap): AdaptiveAvgPool2d(output_size=1)\n",
              "      (mp): AdaptiveMaxPool2d(output_size=1)\n",
              "    )\n",
              "    (1): Flatten()\n",
              "    (2): BatchNorm1d(1024, eps=1e-05, momentum=0.1, affine=True, track_running_stats=True)\n",
              "    (3): Dropout(p=0.25)\n",
              "    (4): Linear(in_features=1024, out_features=256, bias=True)\n",
              "    (5): ReLU(inplace)\n",
              "    (6): BatchNorm1d(256, eps=1e-05, momentum=0.1, affine=True, track_running_stats=True)\n",
              "    (7): Dropout(p=0.25)\n",
              "    (8): Linear(in_features=256, out_features=128, bias=True)\n",
              "    (9): ReLU(inplace)\n",
              "    (10): BatchNorm1d(128, eps=1e-05, momentum=0.1, affine=True, track_running_stats=True)\n",
              "    (11): Dropout(p=0.5)\n",
              "    (12): Linear(in_features=128, out_features=128, bias=True)\n",
              "  )\n",
              "  (cnn): Sequential(\n",
              "    (0): Sequential(\n",
              "      (0): Conv2d(3, 64, kernel_size=(7, 7), stride=(2, 2), padding=(3, 3), bias=False)\n",
              "      (1): BatchNorm2d(64, eps=1e-05, momentum=0.1, affine=True, track_running_stats=True)\n",
              "      (2): ReLU(inplace)\n",
              "      (3): MaxPool2d(kernel_size=3, stride=2, padding=1, dilation=1, ceil_mode=False)\n",
              "      (4): Sequential(\n",
              "        (0): BasicBlock(\n",
              "          (conv1): Conv2d(64, 64, kernel_size=(3, 3), stride=(1, 1), padding=(1, 1), bias=False)\n",
              "          (bn1): BatchNorm2d(64, eps=1e-05, momentum=0.1, affine=True, track_running_stats=True)\n",
              "          (relu): ReLU(inplace)\n",
              "          (conv2): Conv2d(64, 64, kernel_size=(3, 3), stride=(1, 1), padding=(1, 1), bias=False)\n",
              "          (bn2): BatchNorm2d(64, eps=1e-05, momentum=0.1, affine=True, track_running_stats=True)\n",
              "        )\n",
              "        (1): BasicBlock(\n",
              "          (conv1): Conv2d(64, 64, kernel_size=(3, 3), stride=(1, 1), padding=(1, 1), bias=False)\n",
              "          (bn1): BatchNorm2d(64, eps=1e-05, momentum=0.1, affine=True, track_running_stats=True)\n",
              "          (relu): ReLU(inplace)\n",
              "          (conv2): Conv2d(64, 64, kernel_size=(3, 3), stride=(1, 1), padding=(1, 1), bias=False)\n",
              "          (bn2): BatchNorm2d(64, eps=1e-05, momentum=0.1, affine=True, track_running_stats=True)\n",
              "        )\n",
              "      )\n",
              "      (5): Sequential(\n",
              "        (0): BasicBlock(\n",
              "          (conv1): Conv2d(64, 128, kernel_size=(3, 3), stride=(2, 2), padding=(1, 1), bias=False)\n",
              "          (bn1): BatchNorm2d(128, eps=1e-05, momentum=0.1, affine=True, track_running_stats=True)\n",
              "          (relu): ReLU(inplace)\n",
              "          (conv2): Conv2d(128, 128, kernel_size=(3, 3), stride=(1, 1), padding=(1, 1), bias=False)\n",
              "          (bn2): BatchNorm2d(128, eps=1e-05, momentum=0.1, affine=True, track_running_stats=True)\n",
              "          (downsample): Sequential(\n",
              "            (0): Conv2d(64, 128, kernel_size=(1, 1), stride=(2, 2), bias=False)\n",
              "            (1): BatchNorm2d(128, eps=1e-05, momentum=0.1, affine=True, track_running_stats=True)\n",
              "          )\n",
              "        )\n",
              "        (1): BasicBlock(\n",
              "          (conv1): Conv2d(128, 128, kernel_size=(3, 3), stride=(1, 1), padding=(1, 1), bias=False)\n",
              "          (bn1): BatchNorm2d(128, eps=1e-05, momentum=0.1, affine=True, track_running_stats=True)\n",
              "          (relu): ReLU(inplace)\n",
              "          (conv2): Conv2d(128, 128, kernel_size=(3, 3), stride=(1, 1), padding=(1, 1), bias=False)\n",
              "          (bn2): BatchNorm2d(128, eps=1e-05, momentum=0.1, affine=True, track_running_stats=True)\n",
              "        )\n",
              "      )\n",
              "      (6): Sequential(\n",
              "        (0): BasicBlock(\n",
              "          (conv1): Conv2d(128, 256, kernel_size=(3, 3), stride=(2, 2), padding=(1, 1), bias=False)\n",
              "          (bn1): BatchNorm2d(256, eps=1e-05, momentum=0.1, affine=True, track_running_stats=True)\n",
              "          (relu): ReLU(inplace)\n",
              "          (conv2): Conv2d(256, 256, kernel_size=(3, 3), stride=(1, 1), padding=(1, 1), bias=False)\n",
              "          (bn2): BatchNorm2d(256, eps=1e-05, momentum=0.1, affine=True, track_running_stats=True)\n",
              "          (downsample): Sequential(\n",
              "            (0): Conv2d(128, 256, kernel_size=(1, 1), stride=(2, 2), bias=False)\n",
              "            (1): BatchNorm2d(256, eps=1e-05, momentum=0.1, affine=True, track_running_stats=True)\n",
              "          )\n",
              "        )\n",
              "        (1): BasicBlock(\n",
              "          (conv1): Conv2d(256, 256, kernel_size=(3, 3), stride=(1, 1), padding=(1, 1), bias=False)\n",
              "          (bn1): BatchNorm2d(256, eps=1e-05, momentum=0.1, affine=True, track_running_stats=True)\n",
              "          (relu): ReLU(inplace)\n",
              "          (conv2): Conv2d(256, 256, kernel_size=(3, 3), stride=(1, 1), padding=(1, 1), bias=False)\n",
              "          (bn2): BatchNorm2d(256, eps=1e-05, momentum=0.1, affine=True, track_running_stats=True)\n",
              "        )\n",
              "      )\n",
              "      (7): Sequential(\n",
              "        (0): BasicBlock(\n",
              "          (conv1): Conv2d(256, 512, kernel_size=(3, 3), stride=(2, 2), padding=(1, 1), bias=False)\n",
              "          (bn1): BatchNorm2d(512, eps=1e-05, momentum=0.1, affine=True, track_running_stats=True)\n",
              "          (relu): ReLU(inplace)\n",
              "          (conv2): Conv2d(512, 512, kernel_size=(3, 3), stride=(1, 1), padding=(1, 1), bias=False)\n",
              "          (bn2): BatchNorm2d(512, eps=1e-05, momentum=0.1, affine=True, track_running_stats=True)\n",
              "          (downsample): Sequential(\n",
              "            (0): Conv2d(256, 512, kernel_size=(1, 1), stride=(2, 2), bias=False)\n",
              "            (1): BatchNorm2d(512, eps=1e-05, momentum=0.1, affine=True, track_running_stats=True)\n",
              "          )\n",
              "        )\n",
              "        (1): BasicBlock(\n",
              "          (conv1): Conv2d(512, 512, kernel_size=(3, 3), stride=(1, 1), padding=(1, 1), bias=False)\n",
              "          (bn1): BatchNorm2d(512, eps=1e-05, momentum=0.1, affine=True, track_running_stats=True)\n",
              "          (relu): ReLU(inplace)\n",
              "          (conv2): Conv2d(512, 512, kernel_size=(3, 3), stride=(1, 1), padding=(1, 1), bias=False)\n",
              "          (bn2): BatchNorm2d(512, eps=1e-05, momentum=0.1, affine=True, track_running_stats=True)\n",
              "        )\n",
              "      )\n",
              "    )\n",
              "    (1): Sequential(\n",
              "      (0): AdaptiveConcatPool2d(\n",
              "        (ap): AdaptiveAvgPool2d(output_size=1)\n",
              "        (mp): AdaptiveMaxPool2d(output_size=1)\n",
              "      )\n",
              "      (1): Flatten()\n",
              "      (2): BatchNorm1d(1024, eps=1e-05, momentum=0.1, affine=True, track_running_stats=True)\n",
              "      (3): Dropout(p=0.25)\n",
              "      (4): Linear(in_features=1024, out_features=256, bias=True)\n",
              "      (5): ReLU(inplace)\n",
              "      (6): BatchNorm1d(256, eps=1e-05, momentum=0.1, affine=True, track_running_stats=True)\n",
              "      (7): Dropout(p=0.25)\n",
              "      (8): Linear(in_features=256, out_features=128, bias=True)\n",
              "      (9): ReLU(inplace)\n",
              "      (10): BatchNorm1d(128, eps=1e-05, momentum=0.1, affine=True, track_running_stats=True)\n",
              "      (11): Dropout(p=0.5)\n",
              "      (12): Linear(in_features=128, out_features=128, bias=True)\n",
              "    )\n",
              "  )\n",
              ")"
            ]
          },
          "metadata": {
            "tags": []
          },
          "execution_count": 18
        }
      ]
    },
    {
      "cell_type": "code",
      "metadata": {
        "colab_type": "code",
        "outputId": "85de4af4-f0d8-4b6c-c0bc-b30d415a9e32",
        "id": "lo3uWaBQpQfr",
        "colab": {
          "base_uri": "https://localhost:8080/",
          "height": 301
        }
      },
      "source": [
        "siamese_learner.lr_find()\n",
        "siamese_learner.recorder.plot()"
      ],
      "execution_count": 0,
      "outputs": [
        {
          "output_type": "display_data",
          "data": {
            "text/html": [
              ""
            ],
            "text/plain": [
              "<IPython.core.display.HTML object>"
            ]
          },
          "metadata": {
            "tags": []
          }
        },
        {
          "output_type": "stream",
          "text": [
            "LR Finder is complete, type {learner_name}.recorder.plot() to see the graph.\n"
          ],
          "name": "stdout"
        },
        {
          "output_type": "display_data",
          "data": {
            "image/png": "[encoded data removed]",
            "text/plain": [
              "<Figure size 432x288 with 1 Axes>"
            ]
          },
          "metadata": {
            "tags": []
          }
        }
      ]
    },
    {
      "cell_type": "code",
      "metadata": {
        "colab_type": "code",
        "outputId": "e015de8a-92ff-4c6e-abf1-37e0ba29d60a",
        "id": "Wz57ST_dpQf1",
        "colab": {
          "base_uri": "https://localhost:8080/",
          "height": 206
        }
      },
      "source": [
        "lr = 1e-2\n",
        "siamese_learner.fit_one_cycle(5, slice(lr))"
      ],
      "execution_count": 0,
      "outputs": [
        {
          "output_type": "display_data",
          "data": {
            "text/html": [
              "<table border=\"1\" class=\"dataframe\">\n",
              "  <thead>\n",
              "    <tr style=\"text-align: left;\">\n",
              "      <th>epoch</th>\n",
              "      <th>train_loss</th>\n",
              "      <th>valid_loss</th>\n",
              "      <th>time</th>\n",
              "    </tr>\n",
              "  </thead>\n",
              "  <tbody>\n",
              "    <tr>\n",
              "      <td>0</td>\n",
              "      <td>0.193565</td>\n",
              "      <td>0.140230</td>\n",
              "      <td>15:01</td>\n",
              "    </tr>\n",
              "    <tr>\n",
              "      <td>1</td>\n",
              "      <td>0.133426</td>\n",
              "      <td>0.103191</td>\n",
              "      <td>15:05</td>\n",
              "    </tr>\n",
              "    <tr>\n",
              "      <td>2</td>\n",
              "      <td>0.074834</td>\n",
              "      <td>0.022716</td>\n",
              "      <td>15:06</td>\n",
              "    </tr>\n",
              "    <tr>\n",
              "      <td>3</td>\n",
              "      <td>0.029088</td>\n",
              "      <td>0.008835</td>\n",
              "      <td>14:58</td>\n",
              "    </tr>\n",
              "    <tr>\n",
              "      <td>4</td>\n",
              "      <td>0.013166</td>\n",
              "      <td>0.005491</td>\n",
              "      <td>15:09</td>\n",
              "    </tr>\n",
              "  </tbody>\n",
              "</table>"
            ],
            "text/plain": [
              "<IPython.core.display.HTML object>"
            ]
          },
          "metadata": {
            "tags": []
          }
        }
      ]
    },
    {
      "cell_type": "code",
      "metadata": {
        "colab_type": "code",
        "id": "oEke1-VXpQf_",
        "outputId": "93a7db29-71b4-4181-f2eb-6e3a44471eff",
        "colab": {
          "base_uri": "https://localhost:8080/",
          "height": 301
        }
      },
      "source": [
        "siamese_learner.unfreeze()\n",
        "siamese_learner.lr_find()\n",
        "siamese_learner.recorder.plot()"
      ],
      "execution_count": 0,
      "outputs": [
        {
          "output_type": "display_data",
          "data": {
            "text/html": [
              ""
            ],
            "text/plain": [
              "<IPython.core.display.HTML object>"
            ]
          },
          "metadata": {
            "tags": []
          }
        },
        {
          "output_type": "stream",
          "text": [
            "LR Finder is complete, type {learner_name}.recorder.plot() to see the graph.\n"
          ],
          "name": "stdout"
        },
        {
          "output_type": "display_data",
          "data": {
            "image/png": "[encoded data removed]",
            "text/plain": [
              "<Figure size 432x288 with 1 Axes>"
            ]
          },
          "metadata": {
            "tags": []
          }
        }
      ]
    },
    {
      "cell_type": "code",
      "metadata": {
        "colab_type": "code",
        "id": "wiZaR8nPpQgX",
        "outputId": "df511f6c-f8df-458a-aeb1-ebc18e8a302f",
        "colab": {
          "base_uri": "https://localhost:8080/",
          "height": 112
        }
      },
      "source": [
        "lr = 1e-5\n",
        "siamese_learner.fit_one_cycle(2, slice(lr))"
      ],
      "execution_count": 0,
      "outputs": [
        {
          "output_type": "display_data",
          "data": {
            "text/html": [
              "<table border=\"1\" class=\"dataframe\">\n",
              "  <thead>\n",
              "    <tr style=\"text-align: left;\">\n",
              "      <th>epoch</th>\n",
              "      <th>train_loss</th>\n",
              "      <th>valid_loss</th>\n",
              "      <th>time</th>\n",
              "    </tr>\n",
              "  </thead>\n",
              "  <tbody>\n",
              "    <tr>\n",
              "      <td>0</td>\n",
              "      <td>0.014316</td>\n",
              "      <td>0.005476</td>\n",
              "      <td>15:09</td>\n",
              "    </tr>\n",
              "    <tr>\n",
              "      <td>1</td>\n",
              "      <td>0.010526</td>\n",
              "      <td>0.005735</td>\n",
              "      <td>15:10</td>\n",
              "    </tr>\n",
              "  </tbody>\n",
              "</table>"
            ],
            "text/plain": [
              "<IPython.core.display.HTML object>"
            ]
          },
          "metadata": {
            "tags": []
          }
        }
      ]
    },
    {
      "cell_type": "code",
      "metadata": {
        "id": "tbmp-Hrtpy5j",
        "colab_type": "code",
        "colab": {}
      },
      "source": [
        "siamese_learner.save('mnist.pth')"
      ],
      "execution_count": 0,
      "outputs": []
    },
    {
      "cell_type": "markdown",
      "metadata": {
        "colab_type": "text",
        "id": "pJmMnVgVpQgc"
      },
      "source": [
        "#### t-SNE visualization"
      ]
    },
    {
      "cell_type": "code",
      "metadata": {
        "id": "6jId95ju02g_",
        "colab_type": "code",
        "outputId": "d3f21451-9094-4466-cb4a-01cae2336ab1",
        "colab": {
          "base_uri": "https://localhost:8080/",
          "height": 321
        }
      },
      "source": [
        "db = ImageList.from_folder(path).split_by_folder(train='training', valid='testing').label_from_folder().transform(tfms, size=28).databunch()\n",
        "db"
      ],
      "execution_count": 0,
      "outputs": [
        {
          "output_type": "execute_result",
          "data": {
            "text/plain": [
              "ImageDataBunch;\n",
              "\n",
              "Train: LabelList (60000 items)\n",
              "x: ImageList\n",
              "Image (3, 28, 28),Image (3, 28, 28),Image (3, 28, 28),Image (3, 28, 28),Image (3, 28, 28)\n",
              "y: CategoryList\n",
              "8,8,8,8,8\n",
              "Path: /root/.fastai/data/mnist_png;\n",
              "\n",
              "Valid: LabelList (10000 items)\n",
              "x: ImageList\n",
              "Image (3, 28, 28),Image (3, 28, 28),Image (3, 28, 28),Image (3, 28, 28),Image (3, 28, 28)\n",
              "y: CategoryList\n",
              "8,8,8,8,8\n",
              "Path: /root/.fastai/data/mnist_png;\n",
              "\n",
              "Test: None"
            ]
          },
          "metadata": {
            "tags": []
          },
          "execution_count": 24
        }
      ]
    },
    {
      "cell_type": "code",
      "metadata": {
        "colab_type": "code",
        "id": "Hdxdxqw4pQgq",
        "colab": {}
      },
      "source": [
        "def extract_embedding(dl, ds, mdl):\n",
        "    mdl.eval()\n",
        "    with torch.no_grad():\n",
        "        preds = torch.zeros((len(ds), 128))\n",
        "        start=0\n",
        "        for x, y in dl:\n",
        "            size = x.shape[0]\n",
        "            preds[start:start+size,:] = model.get_embedding(x)\n",
        "            start+= size\n",
        "        return preds"
      ],
      "execution_count": 0,
      "outputs": []
    },
    {
      "cell_type": "code",
      "metadata": {
        "colab_type": "code",
        "id": "-k3L_-6mpQgu",
        "colab": {}
      },
      "source": [
        "dl = db.valid_dl\n",
        "ds = db.valid_ds"
      ],
      "execution_count": 0,
      "outputs": []
    },
    {
      "cell_type": "code",
      "metadata": {
        "id": "51SZ61FHLQ9j",
        "colab_type": "code",
        "outputId": "64622e5a-df1f-4c2d-ee88-58dc648a892f",
        "colab": {
          "base_uri": "https://localhost:8080/",
          "height": 53
        }
      },
      "source": [
        "from tqdm import tqdm\n",
        "val_arr = []\n",
        "labels = []\n",
        "for i in tqdm(range(len(ds))):\n",
        "    val_arr.append(ds.x[i].data.numpy())\n",
        "    labels.append(int(ds.y[i]))\n",
        "\n",
        "val_arr = np.array(val_arr)\n",
        "labels = np.array(labels)\n",
        "\n",
        "val_arr.shape, labels.shape"
      ],
      "execution_count": 0,
      "outputs": [
        {
          "output_type": "stream",
          "text": [
            "100%|██████████| 10000/10000 [00:03<00:00, 2628.17it/s]\n"
          ],
          "name": "stderr"
        },
        {
          "output_type": "execute_result",
          "data": {
            "text/plain": [
              "((10000, 3, 28, 28), (10000,))"
            ]
          },
          "metadata": {
            "tags": []
          },
          "execution_count": 27
        }
      ]
    },
    {
      "cell_type": "code",
      "metadata": {
        "colab_type": "code",
        "id": "fjRXkgc7pQgy",
        "outputId": "c38db706-f6b3-41d0-ae9d-b108bb0e23c0",
        "colab": {
          "base_uri": "https://localhost:8080/",
          "height": 35
        }
      },
      "source": [
        "res = extract_embedding(dl, ds, model)\n",
        "res.shape"
      ],
      "execution_count": 0,
      "outputs": [
        {
          "output_type": "execute_result",
          "data": {
            "text/plain": [
              "torch.Size([10000, 128])"
            ]
          },
          "metadata": {
            "tags": []
          },
          "execution_count": 28
        }
      ]
    },
    {
      "cell_type": "code",
      "metadata": {
        "colab_type": "code",
        "id": "jzzs7nifpQhA",
        "colab": {}
      },
      "source": [
        "#convert into tensor\n",
        "tensor_x = res\n",
        "tensor_y = torch.from_numpy(labels)"
      ],
      "execution_count": 0,
      "outputs": []
    },
    {
      "cell_type": "code",
      "metadata": {
        "colab_type": "code",
        "id": "SPA8d8D3pQhF",
        "colab": {}
      },
      "source": [
        "import torch.utils.data as utils\n",
        "\n",
        "my_dataset = utils.TensorDataset(tensor_x, tensor_y) # create your datset\n",
        "my_dataloader = utils.DataLoader(my_dataset, shuffle=True) # create your dataloader"
      ],
      "execution_count": 0,
      "outputs": []
    },
    {
      "cell_type": "code",
      "metadata": {
        "colab_type": "code",
        "id": "Uh0SBaIZpQhK",
        "colab": {}
      },
      "source": [
        "import torch\n",
        "import torch.nn as nn\n",
        "import torch.optim as optim\n",
        "import torch.nn.functional as F\n",
        "\n",
        "net = nn.Sequential(nn.Linear(128, 64),\n",
        "                    nn.ReLU(),\n",
        "                    nn.Linear(64, 10))\n",
        "\n",
        "criterion = nn.CrossEntropyLoss()\n",
        "optimizer = optim.Adam(net.parameters())\n",
        "\n",
        "net = net.cuda()"
      ],
      "execution_count": 0,
      "outputs": []
    },
    {
      "cell_type": "code",
      "metadata": {
        "colab_type": "code",
        "id": "UXJU3dN2pQhP",
        "outputId": "2c678b2e-8fc0-4e45-d4b4-b47a4dd0fd4d",
        "colab": {
          "base_uri": "https://localhost:8080/",
          "height": 214
        }
      },
      "source": [
        "for epoch in range(10):  # loop over the dataset multiple times\n",
        "    \n",
        "    correct = 0.0\n",
        "    running_loss = 0.0\n",
        "    total = 0.0\n",
        "    for i, my_data in enumerate(my_dataloader, 0):\n",
        "        # get the inputs\n",
        "        inp, lbl = my_data\n",
        "        inp = inp.cuda()\n",
        "        lbl = lbl.cuda()\n",
        "\n",
        "        # zero the parameter gradients\n",
        "        optimizer.zero_grad()\n",
        "\n",
        "        # forward + backward + optimize\n",
        "        outputs = net(inp)\n",
        "        loss = criterion(outputs, lbl)\n",
        "        loss.backward()\n",
        "        optimizer.step()\n",
        "    \n",
        "        _, predicted = torch.max(outputs, 1)\n",
        "        correct += (predicted == lbl).sum().item()\n",
        "        total += lbl.size(0)\n",
        "        \n",
        "        # print statistics\n",
        "        running_loss += loss.item()\n",
        "        if i % 10000 == 9999:    # print every 2000 mini-batches\n",
        "            print('Epoch: %d, loss: %.3f Acc: %.2f' %\n",
        "                  (epoch + 1, running_loss / 10000, correct/total))\n",
        "            running_loss = 0.0\n",
        "\n",
        "print('Finished Training')"
      ],
      "execution_count": 0,
      "outputs": [
        {
          "output_type": "stream",
          "text": [
            "Epoch: 1, loss: 0.672 Acc: 0.80\n",
            "Epoch: 2, loss: 0.318 Acc: 0.90\n",
            "Epoch: 3, loss: 0.296 Acc: 0.90\n",
            "Epoch: 4, loss: 0.288 Acc: 0.90\n",
            "Epoch: 5, loss: 0.278 Acc: 0.91\n",
            "Epoch: 6, loss: 0.276 Acc: 0.91\n",
            "Epoch: 7, loss: 0.272 Acc: 0.91\n",
            "Epoch: 8, loss: 0.268 Acc: 0.91\n",
            "Epoch: 9, loss: 0.265 Acc: 0.91\n",
            "Epoch: 10, loss: 0.265 Acc: 0.91\n",
            "Finished Training\n"
          ],
          "name": "stdout"
        }
      ]
    },
    {
      "cell_type": "code",
      "metadata": {
        "colab_type": "code",
        "id": "f1H6lygSpQhU",
        "colab": {}
      },
      "source": [
        "import pandas as pd\n",
        "import seaborn as sns\n",
        "import matplotlib.patheffects as PathEffects\n",
        "from sklearn.manifold import TSNE\n",
        "import matplotlib.pyplot as plt\n",
        "%matplotlib inline\n",
        "\n",
        "# Define our own plot function\n",
        "def scatter(x, labels, subtitle=None):\n",
        "    # We choose a color palette with seaborn.\n",
        "    palette = np.array(sns.color_palette(\"hls\", 10))\n",
        "\n",
        "    # We create a scatter plot.\n",
        "    f = plt.figure(figsize=(8, 8))\n",
        "    ax = plt.subplot(aspect='equal')\n",
        "    sc = ax.scatter(x[:,0], x[:,1], lw=0, s=40,\n",
        "                    c=palette[labels.astype(np.int)])\n",
        "    plt.xlim(-25, 25)\n",
        "    plt.ylim(-25, 25)\n",
        "    ax.axis('off')\n",
        "    ax.axis('tight')\n",
        "\n",
        "    # We add the labels for each digit.\n",
        "    txts = []\n",
        "    for i in range(10):\n",
        "        # Position of each label.\n",
        "        xtext, ytext = np.median(x[labels == i, :], axis=0)\n",
        "        txt = ax.text(xtext, ytext, str(i), fontsize=24)\n",
        "        txt.set_path_effects([\n",
        "            PathEffects.Stroke(linewidth=5, foreground=\"w\"),\n",
        "            PathEffects.Normal()])\n",
        "        txts.append(txt)\n",
        "        \n",
        "    if subtitle != None:\n",
        "        plt.suptitle(subtitle)\n",
        "        \n",
        "    plt.savefig(subtitle)"
      ],
      "execution_count": 0,
      "outputs": []
    },
    {
      "cell_type": "code",
      "metadata": {
        "colab_type": "code",
        "id": "uIkgNRg7pQhX",
        "outputId": "8401216d-09a9-4be2-aff9-94fad84b77ab",
        "colab": {
          "base_uri": "https://localhost:8080/",
          "height": 35
        }
      },
      "source": [
        "val_arr_new = val_arr.reshape(val_arr.shape[0], -1)\n",
        "val_arr_new.shape"
      ],
      "execution_count": 0,
      "outputs": [
        {
          "output_type": "execute_result",
          "data": {
            "text/plain": [
              "(10000, 2352)"
            ]
          },
          "metadata": {
            "tags": []
          },
          "execution_count": 34
        }
      ]
    },
    {
      "cell_type": "code",
      "metadata": {
        "id": "DCK-TgGIGZlw",
        "colab_type": "code",
        "colab": {}
      },
      "source": [
        "import random\n",
        "rnd_index = random.sample(range(0, 10000), 500)"
      ],
      "execution_count": 0,
      "outputs": []
    },
    {
      "cell_type": "code",
      "metadata": {
        "colab_type": "code",
        "id": "vHrM6UVdpQhg",
        "outputId": "6d5191b8-85e5-438a-b73c-250e08973a53",
        "colab": {
          "base_uri": "https://localhost:8080/",
          "height": 540
        }
      },
      "source": [
        "tsne = TSNE()\n",
        "train_tsne_embeds = tsne.fit_transform(val_arr_new[rnd_index])\n",
        "scatter(train_tsne_embeds, np.array(labels)[rnd_index], \"500 Samples from Training Data\")"
      ],
      "execution_count": 0,
      "outputs": [
        {
          "output_type": "display_data",
          "data": {
            "image/png": "[encoded data removed]",
            "text/plain": [
              "<Figure size 576x576 with 1 Axes>"
            ]
          },
          "metadata": {
            "tags": []
          }
        }
      ]
    },
    {
      "cell_type": "code",
      "metadata": {
        "colab_type": "code",
        "id": "AOTKvk_zpQhl",
        "outputId": "a0145c3e-13ce-4642-e564-237e0b0bbef8",
        "colab": {
          "base_uri": "https://localhost:8080/",
          "height": 35
        }
      },
      "source": [
        "import pandas as pd\n",
        "import seaborn as sns\n",
        "from sklearn.manifold import TSNE\n",
        "\n",
        "l = np.array(labels[rnd_index])\n",
        "l[:5]"
      ],
      "execution_count": 0,
      "outputs": [
        {
          "output_type": "execute_result",
          "data": {
            "text/plain": [
              "array([9, 0, 7, 2, 2])"
            ]
          },
          "metadata": {
            "tags": []
          },
          "execution_count": 37
        }
      ]
    },
    {
      "cell_type": "code",
      "metadata": {
        "colab_type": "code",
        "id": "Tlfae7KxpQhr",
        "colab": {}
      },
      "source": [
        "preds = res[rnd_index].numpy()\n",
        "preds_trans = TSNE().fit_transform(preds)"
      ],
      "execution_count": 0,
      "outputs": []
    },
    {
      "cell_type": "code",
      "metadata": {
        "colab_type": "code",
        "id": "Nbbdceb5pQhz",
        "outputId": "7382cc57-d4b7-4cd7-fcf7-bc23e9877b32",
        "colab": {
          "base_uri": "https://localhost:8080/",
          "height": 540
        }
      },
      "source": [
        "scatter(preds_trans, l, \"500 samples Training Data After Contrastive Loss\")"
      ],
      "execution_count": 0,
      "outputs": [
        {
          "output_type": "display_data",
          "data": {
            "image/png": "[encoded data removed]",
            "text/plain": [
              "<Figure size 576x576 with 1 Axes>"
            ]
          },
          "metadata": {
            "tags": []
          }
        }
      ]
    },
    {
      "cell_type": "code",
      "metadata": {
        "colab_type": "code",
        "id": "Nm1sjl0DpQh3",
        "colab": {}
      },
      "source": [
        "preds_df = pd.DataFrame(np.concatenate((preds_trans, l[:, None]), axis=1), columns=['x','y','labels'])"
      ],
      "execution_count": 0,
      "outputs": []
    },
    {
      "cell_type": "code",
      "metadata": {
        "colab_type": "code",
        "id": "0fA5FgYapQh6",
        "outputId": "48e71ce1-c4a0-48ff-ba92-b2e4344ef425",
        "colab": {
          "base_uri": "https://localhost:8080/",
          "height": 206
        }
      },
      "source": [
        "preds_df.head()"
      ],
      "execution_count": 0,
      "outputs": [
        {
          "output_type": "execute_result",
          "data": {
            "text/html": [
              "<div>\n",
              "<style scoped>\n",
              "    .dataframe tbody tr th:only-of-type {\n",
              "        vertical-align: middle;\n",
              "    }\n",
              "\n",
              "    .dataframe tbody tr th {\n",
              "        vertical-align: top;\n",
              "    }\n",
              "\n",
              "    .dataframe thead th {\n",
              "        text-align: right;\n",
              "    }\n",
              "</style>\n",
              "<table border=\"1\" class=\"dataframe\">\n",
              "  <thead>\n",
              "    <tr style=\"text-align: right;\">\n",
              "      <th></th>\n",
              "      <th>x</th>\n",
              "      <th>y</th>\n",
              "      <th>labels</th>\n",
              "    </tr>\n",
              "  </thead>\n",
              "  <tbody>\n",
              "    <tr>\n",
              "      <th>0</th>\n",
              "      <td>-5.835670</td>\n",
              "      <td>-13.450363</td>\n",
              "      <td>9.0</td>\n",
              "    </tr>\n",
              "    <tr>\n",
              "      <th>1</th>\n",
              "      <td>-0.764932</td>\n",
              "      <td>1.078476</td>\n",
              "      <td>0.0</td>\n",
              "    </tr>\n",
              "    <tr>\n",
              "      <th>2</th>\n",
              "      <td>-0.051756</td>\n",
              "      <td>-16.334019</td>\n",
              "      <td>7.0</td>\n",
              "    </tr>\n",
              "    <tr>\n",
              "      <th>3</th>\n",
              "      <td>-2.442553</td>\n",
              "      <td>-3.660281</td>\n",
              "      <td>2.0</td>\n",
              "    </tr>\n",
              "    <tr>\n",
              "      <th>4</th>\n",
              "      <td>-10.724786</td>\n",
              "      <td>-0.516755</td>\n",
              "      <td>2.0</td>\n",
              "    </tr>\n",
              "  </tbody>\n",
              "</table>\n",
              "</div>"
            ],
            "text/plain": [
              "           x          y  labels\n",
              "0  -5.835670 -13.450363     9.0\n",
              "1  -0.764932   1.078476     0.0\n",
              "2  -0.051756 -16.334019     7.0\n",
              "3  -2.442553  -3.660281     2.0\n",
              "4 -10.724786  -0.516755     2.0"
            ]
          },
          "metadata": {
            "tags": []
          },
          "execution_count": 41
        }
      ]
    },
    {
      "cell_type": "code",
      "metadata": {
        "colab_type": "code",
        "id": "NDP-ICI3pQh-",
        "outputId": "2df81bf9-2711-4c06-8a5b-8d91485e2af2",
        "colab": {
          "base_uri": "https://localhost:8080/",
          "height": 729
        }
      },
      "source": [
        "sns.lmplot('x', 'y', data=preds_df, hue='labels', fit_reg=False, legend=False, height=10)\n",
        "plt.grid(visible=False)"
      ],
      "execution_count": 0,
      "outputs": [
        {
          "output_type": "display_data",
          "data": {
            "image/png": "[encoded data removed]",
            "text/plain": [
              "<Figure size 720x720 with 1 Axes>"
            ]
          },
          "metadata": {
            "tags": []
          }
        }
      ]
    },
    {
      "cell_type": "code",
      "metadata": {
        "colab_type": "code",
        "id": "TpTwBGg8pQiI",
        "colab": {}
      },
      "source": [
        ""
      ],
      "execution_count": 0,
      "outputs": []
    },
    {
      "cell_type": "markdown",
      "metadata": {
        "id": "Ho7L_pTO0sFC",
        "colab_type": "text"
      },
      "source": [
        "## Method - 2 (Contrastive Loss)\n"
      ]
    },
    {
      "cell_type": "markdown",
      "metadata": {
        "id": "gsVh3d-wlBzj",
        "colab_type": "text"
      },
      "source": [
        "### Approach - 1 (Using Custom ItemBase and Custom ItemList)\n",
        "\n",
        "Code Credits: [Alex Fitts](http://afitts.github.io/2018/12/03/humpback-siamese/)"
      ]
    },
    {
      "cell_type": "markdown",
      "metadata": {
        "id": "59V7wCicteB6",
        "colab_type": "text"
      },
      "source": [
        "####  Create a custom ItemBase class to read two images"
      ]
    },
    {
      "cell_type": "code",
      "metadata": {
        "id": "RF9mdVhglTsO",
        "colab_type": "code",
        "outputId": "5147ac87-2290-437c-d541-12cea49f25f0",
        "colab": {
          "base_uri": "https://localhost:8080/",
          "height": 206
        }
      },
      "source": [
        "df1 = pd.DataFrame()\n",
        "df2 = pd.DataFrame()\n",
        "df1 = df_train.copy()\n",
        "df1['target'] = 1\n",
        "df2 = df_train.copy()\n",
        "df2['target'] = 0\n",
        "df1 = df1.append(df2)\n",
        "df1.head()"
      ],
      "execution_count": 0,
      "outputs": [
        {
          "output_type": "execute_result",
          "data": {
            "text/html": [
              "<div>\n",
              "<style scoped>\n",
              "    .dataframe tbody tr th:only-of-type {\n",
              "        vertical-align: middle;\n",
              "    }\n",
              "\n",
              "    .dataframe tbody tr th {\n",
              "        vertical-align: top;\n",
              "    }\n",
              "\n",
              "    .dataframe thead th {\n",
              "        text-align: right;\n",
              "    }\n",
              "</style>\n",
              "<table border=\"1\" class=\"dataframe\">\n",
              "  <thead>\n",
              "    <tr style=\"text-align: right;\">\n",
              "      <th></th>\n",
              "      <th>x</th>\n",
              "      <th>y</th>\n",
              "      <th>target</th>\n",
              "    </tr>\n",
              "  </thead>\n",
              "  <tbody>\n",
              "    <tr>\n",
              "      <th>0</th>\n",
              "      <td>training/2/35250.png</td>\n",
              "      <td>2</td>\n",
              "      <td>1</td>\n",
              "    </tr>\n",
              "    <tr>\n",
              "      <th>1</th>\n",
              "      <td>training/2/35872.png</td>\n",
              "      <td>2</td>\n",
              "      <td>1</td>\n",
              "    </tr>\n",
              "    <tr>\n",
              "      <th>2</th>\n",
              "      <td>training/2/27781.png</td>\n",
              "      <td>2</td>\n",
              "      <td>1</td>\n",
              "    </tr>\n",
              "    <tr>\n",
              "      <th>3</th>\n",
              "      <td>training/2/2700.png</td>\n",
              "      <td>2</td>\n",
              "      <td>1</td>\n",
              "    </tr>\n",
              "    <tr>\n",
              "      <th>4</th>\n",
              "      <td>training/2/21254.png</td>\n",
              "      <td>2</td>\n",
              "      <td>1</td>\n",
              "    </tr>\n",
              "  </tbody>\n",
              "</table>\n",
              "</div>"
            ],
            "text/plain": [
              "                      x  y  target\n",
              "0  training/2/35250.png  2       1\n",
              "1  training/2/35872.png  2       1\n",
              "2  training/2/27781.png  2       1\n",
              "3   training/2/2700.png  2       1\n",
              "4  training/2/21254.png  2       1"
            ]
          },
          "metadata": {
            "tags": []
          },
          "execution_count": 7
        }
      ]
    },
    {
      "cell_type": "code",
      "metadata": {
        "id": "jIaoLJqQmfBQ",
        "colab_type": "code",
        "outputId": "1a6d4fbe-3eb2-4f2f-dbb0-13db1d3dd0c1",
        "colab": {
          "base_uri": "https://localhost:8080/",
          "height": 35
        }
      },
      "source": [
        "df1.shape"
      ],
      "execution_count": 0,
      "outputs": [
        {
          "output_type": "execute_result",
          "data": {
            "text/plain": [
              "(120000, 3)"
            ]
          },
          "metadata": {
            "tags": []
          },
          "execution_count": 8
        }
      ]
    },
    {
      "cell_type": "code",
      "metadata": {
        "id": "T1jB3WlQvpXF",
        "colab_type": "code",
        "colab": {}
      },
      "source": [
        "mean, std = torch.tensor(mnist_stats)\n",
        "\n",
        "# The primary difference from the tutorial is with how normalization is being done here\n",
        "class SiameseImagePair(ItemBase):\n",
        "    def __init__(self, img1, img2): ## These should of Image type\n",
        "        self.img1, self.img2 = img1, img2\n",
        "        self.obj, self.data = (img1, img2), [(img1.data-mean[...,None,None])/std[...,None,None], (img2.data-mean[...,None,None])/std[...,None,None]]\n",
        "    def apply_tfms(self, tfms,*args, **kwargs):\n",
        "        self.img1 = self.img1.apply_tfms(tfms, *args, **kwargs)\n",
        "        self.img2 = self.img2.apply_tfms(tfms, *args, **kwargs)\n",
        "        self.data = [(self.img1.data-mean[...,None,None])/std[...,None,None], (self.img2.data-mean[...,None,None])/std[...,None,None]]\n",
        "        return self\n",
        "    def __repr__(self): return f'{self.__class__.__name__} {self.img1.shape, self.img2.shape}'\n",
        "    def to_one(self):\n",
        "        return Image(mean[...,None,None]+torch.cat(self.data,2)*std[...,None,None])\n"
      ],
      "execution_count": 0,
      "outputs": []
    },
    {
      "cell_type": "code",
      "metadata": {
        "id": "skn-_sFk03R-",
        "colab_type": "code",
        "colab": {}
      },
      "source": [
        "class SiameseImageList(ImageList):\n",
        "    def __init__(self, *args, **kwargs):\n",
        "        super().__init__(*args, **kwargs)\n",
        "#         self._label_cls=FloatList\n",
        "\n",
        "    def __len__(self)->int: return len(self.items) or 1 \n",
        "\n",
        "    def get(self, i):\n",
        "        match=1\n",
        "        if i>=len(self.items)//2:#\"First set of iteration will generate similar pairs, next will generate different pairs\"\n",
        "            match = 0\n",
        "        fn = self.items[i]\n",
        "        img1 = super().get(i) # Returns Image class object\n",
        "\n",
        "        #print (self.inner_df)\n",
        "        imgs = self.inner_df.x.values\n",
        "        classes = self.inner_df.y.values\n",
        "        wcls = classes[i]\n",
        "        simgs = imgs[classes == wcls]\n",
        "        dimgs = imgs[classes != wcls]\n",
        "        if len(simgs)==1 and match==1:\n",
        "            fn2=fn\n",
        "        else:\n",
        "            while True:\n",
        "                np.random.shuffle(simgs)\n",
        "                np.random.shuffle(dimgs)\n",
        "                if simgs[0] != fn:\n",
        "                    fn2 = [simgs[0] if match==1 else dimgs[0]][0]\n",
        "                    break\n",
        "            fn2 = self.items[np.where(imgs==fn2)[0][0]]\n",
        "        img2 = super().open(fn2) # Returns Image class object\n",
        "        return SiameseImagePair(img1, img2)\n",
        "\n",
        "    def reconstruct(self, t): return SiameseImagePair(mean[...,None,None]+t[0]*std[...,None,None], mean[...,None,None]+t[1]*std[...,None,None])\n",
        "\n",
        "    def show_xys(self, xs, ys, figsize:Tuple[int,int]=(9,10), **kwargs):\n",
        "        rows = int(math.sqrt(len(xs)))\n",
        "        fig, axs = plt.subplots(rows,rows,figsize=figsize)\n",
        "        for i, ax in enumerate(axs.flatten() if rows > 1 else [axs]):\n",
        "            xs[i].to_one().show(ax=ax, y=ys[i], **kwargs)\n",
        "        plt.tight_layout()"
      ],
      "execution_count": 0,
      "outputs": []
    },
    {
      "cell_type": "code",
      "metadata": {
        "id": "7LZ2ZeYb0hst",
        "colab_type": "code",
        "colab": {}
      },
      "source": [
        "data = (SiameseImageList.from_df(df1, path, cols=0, convert_mode='L')\n",
        "        .split_by_rand_pct(0.2, seed=34)\n",
        "        .label_from_df(cols='target')\n",
        "        .transform(tfms, size=28)\n",
        "        .databunch(bs=bs))"
      ],
      "execution_count": 0,
      "outputs": []
    },
    {
      "cell_type": "code",
      "metadata": {
        "id": "3G18eLWi-dvR",
        "colab_type": "code",
        "outputId": "ae302470-2117-481b-d7fb-424d989c5b5c",
        "colab": {
          "base_uri": "https://localhost:8080/",
          "height": 341
        }
      },
      "source": [
        "data"
      ],
      "execution_count": 0,
      "outputs": [
        {
          "output_type": "execute_result",
          "data": {
            "text/plain": [
              "ImageDataBunch;\n",
              "\n",
              "Train: LabelList (96000 items)\n",
              "x: SiameseImageList\n",
              "SiameseImagePair (torch.Size([1, 28, 28]), torch.Size([1, 28, 28])),SiameseImagePair (torch.Size([1, 28, 28]), torch.Size([1, 28, 28])),SiameseImagePair (torch.Size([1, 28, 28]), torch.Size([1, 28, 28])),SiameseImagePair (torch.Size([1, 28, 28]), torch.Size([1, 28, 28])),SiameseImagePair (torch.Size([1, 28, 28]), torch.Size([1, 28, 28]))\n",
              "y: CategoryList\n",
              "1,1,1,1,1\n",
              "Path: /root/.fastai/data/mnist_png;\n",
              "\n",
              "Valid: LabelList (24000 items)\n",
              "x: SiameseImageList\n",
              "SiameseImagePair (torch.Size([1, 28, 28]), torch.Size([1, 28, 28])),SiameseImagePair (torch.Size([1, 28, 28]), torch.Size([1, 28, 28])),SiameseImagePair (torch.Size([1, 28, 28]), torch.Size([1, 28, 28])),SiameseImagePair (torch.Size([1, 28, 28]), torch.Size([1, 28, 28])),SiameseImagePair (torch.Size([1, 28, 28]), torch.Size([1, 28, 28]))\n",
              "y: CategoryList\n",
              "1,0,1,0,1\n",
              "Path: /root/.fastai/data/mnist_png;\n",
              "\n",
              "Test: None"
            ]
          },
          "metadata": {
            "tags": []
          },
          "execution_count": 145
        }
      ]
    },
    {
      "cell_type": "code",
      "metadata": {
        "id": "PWcJJM2BSTyu",
        "colab_type": "code",
        "outputId": "aac4311e-f9e7-49b5-c054-b7ea3e1d25ae",
        "colab": {
          "base_uri": "https://localhost:8080/",
          "height": 666
        }
      },
      "source": [
        "data.show_batch(rows=5)"
      ],
      "execution_count": 0,
      "outputs": [
        {
          "output_type": "display_data",
          "data": {
            "image/png": "[encoded data removed]",
            "text/plain": [
              "<Figure size 648x720 with 25 Axes>"
            ]
          },
          "metadata": {
            "tags": []
          }
        }
      ]
    },
    {
      "cell_type": "code",
      "metadata": {
        "id": "sxXOpUsE4gMh",
        "colab_type": "code",
        "outputId": "1153f1ef-0a70-445f-eb8d-68d2b30b3809",
        "colab": {
          "base_uri": "https://localhost:8080/",
          "height": 35
        }
      },
      "source": [
        "data.classes, len(data.classes)"
      ],
      "execution_count": 0,
      "outputs": [
        {
          "output_type": "execute_result",
          "data": {
            "text/plain": [
              "([0, 1], 2)"
            ]
          },
          "metadata": {
            "tags": []
          },
          "execution_count": 14
        }
      ]
    },
    {
      "cell_type": "code",
      "metadata": {
        "id": "L0JojX81SpCI",
        "colab_type": "code",
        "colab": {}
      },
      "source": [
        "class SiameseNet(nn.Module):\n",
        "    def __init__(self, arch=models.resnet18, lin_ftrs=[256, 128], emb_sz=128, ps=0.5, bn_final=False):\n",
        "        super(SiameseNet, self).__init__()\n",
        "        self.arch, self.emb_sz = arch, emb_sz\n",
        "        self.lin_ftrs, self.ps, self.bn_final = lin_ftrs, ps, bn_final\n",
        "        self.body = learner.create_body(self.arch, True, learner.cnn_config(self.arch)['cut'])\n",
        "        self.head = learner.create_head(num_features_model(self.body), self.emb_sz, self.lin_ftrs, self.ps, self.bn_final)\n",
        "        self.cnn = nn.Sequential(self.body, self.head)\n",
        "\n",
        "    def forward(self, x1, x2):\n",
        "        output1 = self.cnn(x1)\n",
        "        output2 = self.cnn(x2)\n",
        "        return output1, output2\n",
        "\n",
        "    def get_embedding(self, x):\n",
        "        return self.cnn(x)"
      ],
      "execution_count": 0,
      "outputs": []
    },
    {
      "cell_type": "code",
      "metadata": {
        "id": "RcW7tQo7SpGD",
        "colab_type": "code",
        "colab": {}
      },
      "source": [
        "class ContrastiveLoss(nn.Module):\n",
        "    \"\"\"Takes embeddings of two samples and a target label == 1 if samples are from the same class and label == 0 otherwise\n",
        "    \"\"\"\n",
        "    def __init__(self, margin=5.):\n",
        "        super(ContrastiveLoss, self).__init__()\n",
        "        self.margin = margin\n",
        "        \n",
        "    def forward(self, ops, target, size_average=True):\n",
        "        op1, op2 = ops[0], ops[1]\n",
        "        dist = F.pairwise_distance(op1, op2)\n",
        "        pdist = dist.float()*target.float()\n",
        "        ndist = dist.float()*(1-target.float())\n",
        "        loss = 0.5* ((pdist**2) + (F.relu(self.margin-ndist)**2))\n",
        "        return loss.mean() if size_average else losses.sum()"
      ],
      "execution_count": 0,
      "outputs": []
    },
    {
      "cell_type": "code",
      "metadata": {
        "id": "QECMPrdOSw3A",
        "colab_type": "code",
        "outputId": "6376f801-988f-49ab-dfae-9752e55efb9c",
        "colab": {
          "base_uri": "https://localhost:8080/",
          "height": 53
        }
      },
      "source": [
        "model = SiameseNet().cuda()\n",
        "apply_init(model.head, nn.init.kaiming_normal_)\n",
        "loss_func = ContrastiveLoss().cuda()"
      ],
      "execution_count": 0,
      "outputs": [
        {
          "output_type": "stream",
          "text": [
            "Downloading: \"https://download.pytorch.org/models/resnet18-5c106cde.pth\" to /root/.cache/torch/checkpoints/resnet18-5c106cde.pth\n",
            "100%|██████████| 46827520/46827520 [00:00<00:00, 70996250.25it/s]\n"
          ],
          "name": "stderr"
        }
      ]
    },
    {
      "cell_type": "code",
      "metadata": {
        "id": "-54Nl6n28isX",
        "colab_type": "code",
        "colab": {}
      },
      "source": [
        "# model.summary()"
      ],
      "execution_count": 0,
      "outputs": []
    },
    {
      "cell_type": "code",
      "metadata": {
        "id": "EqV-vPZ9Sz3G",
        "colab_type": "code",
        "colab": {}
      },
      "source": [
        "siamese_learner = Learner(data, model, loss_func=loss_func)"
      ],
      "execution_count": 0,
      "outputs": []
    },
    {
      "cell_type": "code",
      "metadata": {
        "id": "RqtRElq-Sw6-",
        "colab_type": "code",
        "outputId": "24fcceeb-75a8-45e5-8299-83530bd8d67b",
        "colab": {
          "base_uri": "https://localhost:8080/",
          "height": 301
        }
      },
      "source": [
        "siamese_learner.lr_find()\n",
        "siamese_learner.recorder.plot()"
      ],
      "execution_count": 0,
      "outputs": [
        {
          "output_type": "display_data",
          "data": {
            "text/html": [
              ""
            ],
            "text/plain": [
              "<IPython.core.display.HTML object>"
            ]
          },
          "metadata": {
            "tags": []
          }
        },
        {
          "output_type": "stream",
          "text": [
            "LR Finder is complete, type {learner_name}.recorder.plot() to see the graph.\n"
          ],
          "name": "stdout"
        },
        {
          "output_type": "display_data",
          "data": {
            "image/png": "[encoded data removed]",
            "text/plain": [
              "<Figure size 432x288 with 1 Axes>"
            ]
          },
          "metadata": {
            "tags": []
          }
        }
      ]
    },
    {
      "cell_type": "code",
      "metadata": {
        "id": "4mdRcIhRyLDq",
        "colab_type": "code",
        "outputId": "2fdfe3f0-0c1d-4766-8af9-2a52a7b56cdc",
        "colab": {
          "base_uri": "https://localhost:8080/",
          "height": 206
        }
      },
      "source": [
        "lr = 1e-1\n",
        "siamese_learner.fit_one_cycle(5, slice(lr))"
      ],
      "execution_count": 0,
      "outputs": [
        {
          "output_type": "display_data",
          "data": {
            "text/html": [
              "<table border=\"1\" class=\"dataframe\">\n",
              "  <thead>\n",
              "    <tr style=\"text-align: left;\">\n",
              "      <th>epoch</th>\n",
              "      <th>train_loss</th>\n",
              "      <th>valid_loss</th>\n",
              "      <th>time</th>\n",
              "    </tr>\n",
              "  </thead>\n",
              "  <tbody>\n",
              "    <tr>\n",
              "      <td>0</td>\n",
              "      <td>8.966630</td>\n",
              "      <td>11.344313</td>\n",
              "      <td>10:12</td>\n",
              "    </tr>\n",
              "    <tr>\n",
              "      <td>1</td>\n",
              "      <td>9.088272</td>\n",
              "      <td>11.493024</td>\n",
              "      <td>10:04</td>\n",
              "    </tr>\n",
              "    <tr>\n",
              "      <td>2</td>\n",
              "      <td>8.351510</td>\n",
              "      <td>12.722130</td>\n",
              "      <td>09:58</td>\n",
              "    </tr>\n",
              "    <tr>\n",
              "      <td>3</td>\n",
              "      <td>7.598961</td>\n",
              "      <td>12.626108</td>\n",
              "      <td>10:02</td>\n",
              "    </tr>\n",
              "    <tr>\n",
              "      <td>4</td>\n",
              "      <td>7.006391</td>\n",
              "      <td>13.433698</td>\n",
              "      <td>09:53</td>\n",
              "    </tr>\n",
              "  </tbody>\n",
              "</table>"
            ],
            "text/plain": [
              "<IPython.core.display.HTML object>"
            ]
          },
          "metadata": {
            "tags": []
          }
        }
      ]
    },
    {
      "cell_type": "code",
      "metadata": {
        "id": "8EhCB9eOyLIQ",
        "colab_type": "code",
        "outputId": "f8036433-1839-4309-b3a1-30ec387be03b",
        "colab": {
          "base_uri": "https://localhost:8080/",
          "height": 301
        }
      },
      "source": [
        "siamese_learner.unfreeze()\n",
        "siamese_learner.lr_find()\n",
        "siamese_learner.recorder.plot()"
      ],
      "execution_count": 0,
      "outputs": [
        {
          "output_type": "display_data",
          "data": {
            "text/html": [
              ""
            ],
            "text/plain": [
              "<IPython.core.display.HTML object>"
            ]
          },
          "metadata": {
            "tags": []
          }
        },
        {
          "output_type": "stream",
          "text": [
            "LR Finder is complete, type {learner_name}.recorder.plot() to see the graph.\n"
          ],
          "name": "stdout"
        },
        {
          "output_type": "display_data",
          "data": {
            "image/png": "[encoded data removed]",
            "text/plain": [
              "<Figure size 432x288 with 1 Axes>"
            ]
          },
          "metadata": {
            "tags": []
          }
        }
      ]
    },
    {
      "cell_type": "code",
      "metadata": {
        "id": "zy4wD21SyK_k",
        "colab_type": "code",
        "outputId": "d803c523-0ebd-4810-e3a8-b5968ec70ea8",
        "colab": {
          "base_uri": "https://localhost:8080/",
          "height": 206
        }
      },
      "source": [
        "lr = 5e-4\n",
        "siamese_learner.fit_one_cycle(5, slice(lr))"
      ],
      "execution_count": 0,
      "outputs": [
        {
          "output_type": "display_data",
          "data": {
            "text/html": [
              "<table border=\"1\" class=\"dataframe\">\n",
              "  <thead>\n",
              "    <tr style=\"text-align: left;\">\n",
              "      <th>epoch</th>\n",
              "      <th>train_loss</th>\n",
              "      <th>valid_loss</th>\n",
              "      <th>time</th>\n",
              "    </tr>\n",
              "  </thead>\n",
              "  <tbody>\n",
              "    <tr>\n",
              "      <td>0</td>\n",
              "      <td>7.113893</td>\n",
              "      <td>13.318987</td>\n",
              "      <td>10:11</td>\n",
              "    </tr>\n",
              "    <tr>\n",
              "      <td>1</td>\n",
              "      <td>7.217685</td>\n",
              "      <td>13.327180</td>\n",
              "      <td>10:02</td>\n",
              "    </tr>\n",
              "    <tr>\n",
              "      <td>2</td>\n",
              "      <td>7.359030</td>\n",
              "      <td>13.419391</td>\n",
              "      <td>10:26</td>\n",
              "    </tr>\n",
              "    <tr>\n",
              "      <td>3</td>\n",
              "      <td>7.028635</td>\n",
              "      <td>13.536593</td>\n",
              "      <td>10:34</td>\n",
              "    </tr>\n",
              "    <tr>\n",
              "      <td>4</td>\n",
              "      <td>6.989374</td>\n",
              "      <td>13.572573</td>\n",
              "      <td>10:30</td>\n",
              "    </tr>\n",
              "  </tbody>\n",
              "</table>"
            ],
            "text/plain": [
              "<IPython.core.display.HTML object>"
            ]
          },
          "metadata": {
            "tags": []
          }
        }
      ]
    },
    {
      "cell_type": "code",
      "metadata": {
        "id": "kk_2hafudogB",
        "colab_type": "code",
        "colab": {}
      },
      "source": [
        ""
      ],
      "execution_count": 0,
      "outputs": []
    },
    {
      "cell_type": "markdown",
      "metadata": {
        "colab_type": "text",
        "id": "WStQXqUhd1c1"
      },
      "source": [
        "##### t-SNE visualization"
      ]
    },
    {
      "cell_type": "code",
      "metadata": {
        "id": "Hw4Togszymdv",
        "colab_type": "code",
        "outputId": "77167f56-fb51-4dad-91d0-84c17c0764f8",
        "colab": {
          "base_uri": "https://localhost:8080/",
          "height": 3555
        }
      },
      "source": [
        "siamese_learner.model"
      ],
      "execution_count": 0,
      "outputs": [
        {
          "output_type": "execute_result",
          "data": {
            "text/plain": [
              "SiameseNet(\n",
              "  (body): Sequential(\n",
              "    (0): Conv2d(3, 64, kernel_size=(7, 7), stride=(2, 2), padding=(3, 3), bias=False)\n",
              "    (1): BatchNorm2d(64, eps=1e-05, momentum=0.1, affine=True, track_running_stats=True)\n",
              "    (2): ReLU(inplace)\n",
              "    (3): MaxPool2d(kernel_size=3, stride=2, padding=1, dilation=1, ceil_mode=False)\n",
              "    (4): Sequential(\n",
              "      (0): BasicBlock(\n",
              "        (conv1): Conv2d(64, 64, kernel_size=(3, 3), stride=(1, 1), padding=(1, 1), bias=False)\n",
              "        (bn1): BatchNorm2d(64, eps=1e-05, momentum=0.1, affine=True, track_running_stats=True)\n",
              "        (relu): ReLU(inplace)\n",
              "        (conv2): Conv2d(64, 64, kernel_size=(3, 3), stride=(1, 1), padding=(1, 1), bias=False)\n",
              "        (bn2): BatchNorm2d(64, eps=1e-05, momentum=0.1, affine=True, track_running_stats=True)\n",
              "      )\n",
              "      (1): BasicBlock(\n",
              "        (conv1): Conv2d(64, 64, kernel_size=(3, 3), stride=(1, 1), padding=(1, 1), bias=False)\n",
              "        (bn1): BatchNorm2d(64, eps=1e-05, momentum=0.1, affine=True, track_running_stats=True)\n",
              "        (relu): ReLU(inplace)\n",
              "        (conv2): Conv2d(64, 64, kernel_size=(3, 3), stride=(1, 1), padding=(1, 1), bias=False)\n",
              "        (bn2): BatchNorm2d(64, eps=1e-05, momentum=0.1, affine=True, track_running_stats=True)\n",
              "      )\n",
              "    )\n",
              "    (5): Sequential(\n",
              "      (0): BasicBlock(\n",
              "        (conv1): Conv2d(64, 128, kernel_size=(3, 3), stride=(2, 2), padding=(1, 1), bias=False)\n",
              "        (bn1): BatchNorm2d(128, eps=1e-05, momentum=0.1, affine=True, track_running_stats=True)\n",
              "        (relu): ReLU(inplace)\n",
              "        (conv2): Conv2d(128, 128, kernel_size=(3, 3), stride=(1, 1), padding=(1, 1), bias=False)\n",
              "        (bn2): BatchNorm2d(128, eps=1e-05, momentum=0.1, affine=True, track_running_stats=True)\n",
              "        (downsample): Sequential(\n",
              "          (0): Conv2d(64, 128, kernel_size=(1, 1), stride=(2, 2), bias=False)\n",
              "          (1): BatchNorm2d(128, eps=1e-05, momentum=0.1, affine=True, track_running_stats=True)\n",
              "        )\n",
              "      )\n",
              "      (1): BasicBlock(\n",
              "        (conv1): Conv2d(128, 128, kernel_size=(3, 3), stride=(1, 1), padding=(1, 1), bias=False)\n",
              "        (bn1): BatchNorm2d(128, eps=1e-05, momentum=0.1, affine=True, track_running_stats=True)\n",
              "        (relu): ReLU(inplace)\n",
              "        (conv2): Conv2d(128, 128, kernel_size=(3, 3), stride=(1, 1), padding=(1, 1), bias=False)\n",
              "        (bn2): BatchNorm2d(128, eps=1e-05, momentum=0.1, affine=True, track_running_stats=True)\n",
              "      )\n",
              "    )\n",
              "    (6): Sequential(\n",
              "      (0): BasicBlock(\n",
              "        (conv1): Conv2d(128, 256, kernel_size=(3, 3), stride=(2, 2), padding=(1, 1), bias=False)\n",
              "        (bn1): BatchNorm2d(256, eps=1e-05, momentum=0.1, affine=True, track_running_stats=True)\n",
              "        (relu): ReLU(inplace)\n",
              "        (conv2): Conv2d(256, 256, kernel_size=(3, 3), stride=(1, 1), padding=(1, 1), bias=False)\n",
              "        (bn2): BatchNorm2d(256, eps=1e-05, momentum=0.1, affine=True, track_running_stats=True)\n",
              "        (downsample): Sequential(\n",
              "          (0): Conv2d(128, 256, kernel_size=(1, 1), stride=(2, 2), bias=False)\n",
              "          (1): BatchNorm2d(256, eps=1e-05, momentum=0.1, affine=True, track_running_stats=True)\n",
              "        )\n",
              "      )\n",
              "      (1): BasicBlock(\n",
              "        (conv1): Conv2d(256, 256, kernel_size=(3, 3), stride=(1, 1), padding=(1, 1), bias=False)\n",
              "        (bn1): BatchNorm2d(256, eps=1e-05, momentum=0.1, affine=True, track_running_stats=True)\n",
              "        (relu): ReLU(inplace)\n",
              "        (conv2): Conv2d(256, 256, kernel_size=(3, 3), stride=(1, 1), padding=(1, 1), bias=False)\n",
              "        (bn2): BatchNorm2d(256, eps=1e-05, momentum=0.1, affine=True, track_running_stats=True)\n",
              "      )\n",
              "    )\n",
              "    (7): Sequential(\n",
              "      (0): BasicBlock(\n",
              "        (conv1): Conv2d(256, 512, kernel_size=(3, 3), stride=(2, 2), padding=(1, 1), bias=False)\n",
              "        (bn1): BatchNorm2d(512, eps=1e-05, momentum=0.1, affine=True, track_running_stats=True)\n",
              "        (relu): ReLU(inplace)\n",
              "        (conv2): Conv2d(512, 512, kernel_size=(3, 3), stride=(1, 1), padding=(1, 1), bias=False)\n",
              "        (bn2): BatchNorm2d(512, eps=1e-05, momentum=0.1, affine=True, track_running_stats=True)\n",
              "        (downsample): Sequential(\n",
              "          (0): Conv2d(256, 512, kernel_size=(1, 1), stride=(2, 2), bias=False)\n",
              "          (1): BatchNorm2d(512, eps=1e-05, momentum=0.1, affine=True, track_running_stats=True)\n",
              "        )\n",
              "      )\n",
              "      (1): BasicBlock(\n",
              "        (conv1): Conv2d(512, 512, kernel_size=(3, 3), stride=(1, 1), padding=(1, 1), bias=False)\n",
              "        (bn1): BatchNorm2d(512, eps=1e-05, momentum=0.1, affine=True, track_running_stats=True)\n",
              "        (relu): ReLU(inplace)\n",
              "        (conv2): Conv2d(512, 512, kernel_size=(3, 3), stride=(1, 1), padding=(1, 1), bias=False)\n",
              "        (bn2): BatchNorm2d(512, eps=1e-05, momentum=0.1, affine=True, track_running_stats=True)\n",
              "      )\n",
              "    )\n",
              "  )\n",
              "  (head): Sequential(\n",
              "    (0): AdaptiveAvgPool2d(output_size=1)\n",
              "    (1): Flatten()\n",
              "    (2): BatchNorm1d(512, eps=1e-05, momentum=0.1, affine=True, track_running_stats=True)\n",
              "    (3): Dropout(p=0.25)\n",
              "    (4): Linear(in_features=512, out_features=256, bias=True)\n",
              "    (5): ReLU(inplace)\n",
              "    (6): BatchNorm1d(256, eps=1e-05, momentum=0.1, affine=True, track_running_stats=True)\n",
              "    (7): Dropout(p=0.25)\n",
              "    (8): Linear(in_features=256, out_features=128, bias=True)\n",
              "    (9): ReLU(inplace)\n",
              "    (10): BatchNorm1d(128, eps=1e-05, momentum=0.1, affine=True, track_running_stats=True)\n",
              "    (11): Dropout(p=0.5)\n",
              "    (12): Linear(in_features=128, out_features=128, bias=True)\n",
              "  )\n",
              "  (cnn): Sequential(\n",
              "    (0): Sequential(\n",
              "      (0): Conv2d(3, 64, kernel_size=(7, 7), stride=(2, 2), padding=(3, 3), bias=False)\n",
              "      (1): BatchNorm2d(64, eps=1e-05, momentum=0.1, affine=True, track_running_stats=True)\n",
              "      (2): ReLU(inplace)\n",
              "      (3): MaxPool2d(kernel_size=3, stride=2, padding=1, dilation=1, ceil_mode=False)\n",
              "      (4): Sequential(\n",
              "        (0): BasicBlock(\n",
              "          (conv1): Conv2d(64, 64, kernel_size=(3, 3), stride=(1, 1), padding=(1, 1), bias=False)\n",
              "          (bn1): BatchNorm2d(64, eps=1e-05, momentum=0.1, affine=True, track_running_stats=True)\n",
              "          (relu): ReLU(inplace)\n",
              "          (conv2): Conv2d(64, 64, kernel_size=(3, 3), stride=(1, 1), padding=(1, 1), bias=False)\n",
              "          (bn2): BatchNorm2d(64, eps=1e-05, momentum=0.1, affine=True, track_running_stats=True)\n",
              "        )\n",
              "        (1): BasicBlock(\n",
              "          (conv1): Conv2d(64, 64, kernel_size=(3, 3), stride=(1, 1), padding=(1, 1), bias=False)\n",
              "          (bn1): BatchNorm2d(64, eps=1e-05, momentum=0.1, affine=True, track_running_stats=True)\n",
              "          (relu): ReLU(inplace)\n",
              "          (conv2): Conv2d(64, 64, kernel_size=(3, 3), stride=(1, 1), padding=(1, 1), bias=False)\n",
              "          (bn2): BatchNorm2d(64, eps=1e-05, momentum=0.1, affine=True, track_running_stats=True)\n",
              "        )\n",
              "      )\n",
              "      (5): Sequential(\n",
              "        (0): BasicBlock(\n",
              "          (conv1): Conv2d(64, 128, kernel_size=(3, 3), stride=(2, 2), padding=(1, 1), bias=False)\n",
              "          (bn1): BatchNorm2d(128, eps=1e-05, momentum=0.1, affine=True, track_running_stats=True)\n",
              "          (relu): ReLU(inplace)\n",
              "          (conv2): Conv2d(128, 128, kernel_size=(3, 3), stride=(1, 1), padding=(1, 1), bias=False)\n",
              "          (bn2): BatchNorm2d(128, eps=1e-05, momentum=0.1, affine=True, track_running_stats=True)\n",
              "          (downsample): Sequential(\n",
              "            (0): Conv2d(64, 128, kernel_size=(1, 1), stride=(2, 2), bias=False)\n",
              "            (1): BatchNorm2d(128, eps=1e-05, momentum=0.1, affine=True, track_running_stats=True)\n",
              "          )\n",
              "        )\n",
              "        (1): BasicBlock(\n",
              "          (conv1): Conv2d(128, 128, kernel_size=(3, 3), stride=(1, 1), padding=(1, 1), bias=False)\n",
              "          (bn1): BatchNorm2d(128, eps=1e-05, momentum=0.1, affine=True, track_running_stats=True)\n",
              "          (relu): ReLU(inplace)\n",
              "          (conv2): Conv2d(128, 128, kernel_size=(3, 3), stride=(1, 1), padding=(1, 1), bias=False)\n",
              "          (bn2): BatchNorm2d(128, eps=1e-05, momentum=0.1, affine=True, track_running_stats=True)\n",
              "        )\n",
              "      )\n",
              "      (6): Sequential(\n",
              "        (0): BasicBlock(\n",
              "          (conv1): Conv2d(128, 256, kernel_size=(3, 3), stride=(2, 2), padding=(1, 1), bias=False)\n",
              "          (bn1): BatchNorm2d(256, eps=1e-05, momentum=0.1, affine=True, track_running_stats=True)\n",
              "          (relu): ReLU(inplace)\n",
              "          (conv2): Conv2d(256, 256, kernel_size=(3, 3), stride=(1, 1), padding=(1, 1), bias=False)\n",
              "          (bn2): BatchNorm2d(256, eps=1e-05, momentum=0.1, affine=True, track_running_stats=True)\n",
              "          (downsample): Sequential(\n",
              "            (0): Conv2d(128, 256, kernel_size=(1, 1), stride=(2, 2), bias=False)\n",
              "            (1): BatchNorm2d(256, eps=1e-05, momentum=0.1, affine=True, track_running_stats=True)\n",
              "          )\n",
              "        )\n",
              "        (1): BasicBlock(\n",
              "          (conv1): Conv2d(256, 256, kernel_size=(3, 3), stride=(1, 1), padding=(1, 1), bias=False)\n",
              "          (bn1): BatchNorm2d(256, eps=1e-05, momentum=0.1, affine=True, track_running_stats=True)\n",
              "          (relu): ReLU(inplace)\n",
              "          (conv2): Conv2d(256, 256, kernel_size=(3, 3), stride=(1, 1), padding=(1, 1), bias=False)\n",
              "          (bn2): BatchNorm2d(256, eps=1e-05, momentum=0.1, affine=True, track_running_stats=True)\n",
              "        )\n",
              "      )\n",
              "      (7): Sequential(\n",
              "        (0): BasicBlock(\n",
              "          (conv1): Conv2d(256, 512, kernel_size=(3, 3), stride=(2, 2), padding=(1, 1), bias=False)\n",
              "          (bn1): BatchNorm2d(512, eps=1e-05, momentum=0.1, affine=True, track_running_stats=True)\n",
              "          (relu): ReLU(inplace)\n",
              "          (conv2): Conv2d(512, 512, kernel_size=(3, 3), stride=(1, 1), padding=(1, 1), bias=False)\n",
              "          (bn2): BatchNorm2d(512, eps=1e-05, momentum=0.1, affine=True, track_running_stats=True)\n",
              "          (downsample): Sequential(\n",
              "            (0): Conv2d(256, 512, kernel_size=(1, 1), stride=(2, 2), bias=False)\n",
              "            (1): BatchNorm2d(512, eps=1e-05, momentum=0.1, affine=True, track_running_stats=True)\n",
              "          )\n",
              "        )\n",
              "        (1): BasicBlock(\n",
              "          (conv1): Conv2d(512, 512, kernel_size=(3, 3), stride=(1, 1), padding=(1, 1), bias=False)\n",
              "          (bn1): BatchNorm2d(512, eps=1e-05, momentum=0.1, affine=True, track_running_stats=True)\n",
              "          (relu): ReLU(inplace)\n",
              "          (conv2): Conv2d(512, 512, kernel_size=(3, 3), stride=(1, 1), padding=(1, 1), bias=False)\n",
              "          (bn2): BatchNorm2d(512, eps=1e-05, momentum=0.1, affine=True, track_running_stats=True)\n",
              "        )\n",
              "      )\n",
              "    )\n",
              "    (1): Sequential(\n",
              "      (0): AdaptiveAvgPool2d(output_size=1)\n",
              "      (1): Flatten()\n",
              "      (2): BatchNorm1d(512, eps=1e-05, momentum=0.1, affine=True, track_running_stats=True)\n",
              "      (3): Dropout(p=0.25)\n",
              "      (4): Linear(in_features=512, out_features=256, bias=True)\n",
              "      (5): ReLU(inplace)\n",
              "      (6): BatchNorm1d(256, eps=1e-05, momentum=0.1, affine=True, track_running_stats=True)\n",
              "      (7): Dropout(p=0.25)\n",
              "      (8): Linear(in_features=256, out_features=128, bias=True)\n",
              "      (9): ReLU(inplace)\n",
              "      (10): BatchNorm1d(128, eps=1e-05, momentum=0.1, affine=True, track_running_stats=True)\n",
              "      (11): Dropout(p=0.5)\n",
              "      (12): Linear(in_features=128, out_features=128, bias=True)\n",
              "    )\n",
              "  )\n",
              ")"
            ]
          },
          "metadata": {
            "tags": []
          },
          "execution_count": 60
        }
      ]
    },
    {
      "cell_type": "code",
      "metadata": {
        "id": "2VtS1Ry6ue3k",
        "colab_type": "code",
        "colab": {}
      },
      "source": [
        "def extract_embedding(dl, ds, mdl):\n",
        "    mdl.eval()\n",
        "    with torch.no_grad():\n",
        "        arrs = np.zeros((len(ds), 3, 28, 28))\n",
        "        preds = torch.zeros((len(ds), 128))\n",
        "        start=0\n",
        "        for cnt, (x, y) in enumerate(dl, start=0):\n",
        "            size = x[0].shape[0]\n",
        "            arrs[start:start+size,:] = x[0]\n",
        "            preds[start:start+size,:] = model.get_embedding(x[0])\n",
        "            start+= size\n",
        "        return preds, arrs"
      ],
      "execution_count": 0,
      "outputs": []
    },
    {
      "cell_type": "code",
      "metadata": {
        "colab_type": "code",
        "id": "ucuE_xr_d1c6",
        "colab": {}
      },
      "source": [
        "dl = data.valid_dl\n",
        "ds = data.valid_ds"
      ],
      "execution_count": 0,
      "outputs": []
    },
    {
      "cell_type": "code",
      "metadata": {
        "id": "vULrcjTvyIOx",
        "colab_type": "code",
        "outputId": "fe0cd1c2-010d-4753-ef8a-48a3649e2fc9",
        "colab": {
          "base_uri": "https://localhost:8080/",
          "height": 35
        }
      },
      "source": [
        "res, val_arr = extract_embedding(dl, ds, model)\n",
        "res.shape, val_arr.shape"
      ],
      "execution_count": 0,
      "outputs": [
        {
          "output_type": "execute_result",
          "data": {
            "text/plain": [
              "(torch.Size([24000, 128]), (24000, 3, 28, 28))"
            ]
          },
          "metadata": {
            "tags": []
          },
          "execution_count": 159
        }
      ]
    },
    {
      "cell_type": "code",
      "metadata": {
        "id": "ysJ1Z_Ko3025",
        "colab_type": "code",
        "outputId": "b9090b61-19c5-40dd-fd4e-41774af0035a",
        "colab": {
          "base_uri": "https://localhost:8080/",
          "height": 35
        }
      },
      "source": [
        "labels = list(map(lambda x:int(x.split('/')[-2]), data.valid_ds.items))\n",
        "print (len(labels), labels[:5])"
      ],
      "execution_count": 0,
      "outputs": [
        {
          "output_type": "stream",
          "text": [
            "24000 [1, 0, 0, 5, 3]\n"
          ],
          "name": "stdout"
        }
      ]
    },
    {
      "cell_type": "code",
      "metadata": {
        "id": "O1Gn5Y_h5SWY",
        "colab_type": "code",
        "colab": {}
      },
      "source": [
        "#convert into tensor\n",
        "tensor_x = res\n",
        "tensor_y = torch.from_numpy(np.array(labels))"
      ],
      "execution_count": 0,
      "outputs": []
    },
    {
      "cell_type": "code",
      "metadata": {
        "id": "ypBIfnTs1cwG",
        "colab_type": "code",
        "colab": {}
      },
      "source": [
        "import torch.utils.data as utils\n",
        "\n",
        "my_dataset = utils.TensorDataset(tensor_x, tensor_y) # create your datset\n",
        "my_dataloader = utils.DataLoader(my_dataset) # create your dataloader"
      ],
      "execution_count": 0,
      "outputs": []
    },
    {
      "cell_type": "code",
      "metadata": {
        "colab_type": "code",
        "id": "iC0WSCsOd1eU",
        "colab": {}
      },
      "source": [
        "import torch\n",
        "import torch.nn as nn\n",
        "import torch.optim as optim\n",
        "import torch.nn.functional as F\n",
        "\n",
        "\n",
        "net = nn.Sequential(nn.Linear(128, 64),\n",
        "                    nn.ReLU(),\n",
        "                    nn.Linear(64, 10))\n",
        "\n",
        "criterion = nn.CrossEntropyLoss()\n",
        "optimizer = optim.Adam(net.parameters())\n",
        "\n",
        "net = net.cuda()"
      ],
      "execution_count": 0,
      "outputs": []
    },
    {
      "cell_type": "code",
      "metadata": {
        "colab_type": "code",
        "outputId": "b7b1c6e9-02e4-481e-d96d-fd60bb6f77a7",
        "id": "uxsiQW4Td1fC",
        "colab": {
          "base_uri": "https://localhost:8080/",
          "height": 214
        }
      },
      "source": [
        "for epoch in range(10):  # loop over the dataset multiple times\n",
        "    \n",
        "    correct = 0.0\n",
        "    running_loss = 0.0\n",
        "    total = 0.0\n",
        "    for i, my_data in enumerate(my_dataloader, 0):\n",
        "        # get the inputs\n",
        "        inp, lbl = my_data\n",
        "        inp = inputs.cuda()\n",
        "        lbl = labels.cuda()\n",
        "\n",
        "        # zero the parameter gradients\n",
        "        optimizer.zero_grad()\n",
        "\n",
        "        # forward + backward + optimize\n",
        "        outputs = net(inp)\n",
        "        loss = criterion(outputs, lbl)\n",
        "        loss.backward()\n",
        "        optimizer.step()\n",
        "    \n",
        "        _, predicted = torch.max(outputs, 1)\n",
        "        correct += (predicted == lbl).sum().item()\n",
        "        total += lbl.size(0)\n",
        "        \n",
        "        # print statistics\n",
        "        running_loss += loss.item()\n",
        "        if i % 24000 == 23999:    # print every 2000 mini-batches\n",
        "            print('Epoch :%d, loss: %.3f Acc: %.2f' %\n",
        "                  (epoch + 1, running_loss / 2000, correct/total))\n",
        "            running_loss = 0.0\n",
        "\n",
        "print('Finished Training')"
      ],
      "execution_count": 0,
      "outputs": [
        {
          "output_type": "stream",
          "text": [
            "Epoch :1, loss: 2.937 Acc: 0.93\n",
            "Epoch :2, loss: 2.180 Acc: 0.95\n",
            "Epoch :3, loss: 2.087 Acc: 0.95\n",
            "Epoch :4, loss: 2.043 Acc: 0.95\n",
            "Epoch :5, loss: 1.998 Acc: 0.95\n",
            "Epoch :6, loss: 1.965 Acc: 0.96\n",
            "Epoch :7, loss: 1.953 Acc: 0.96\n",
            "Epoch :8, loss: 1.943 Acc: 0.96\n",
            "Epoch :9, loss: 1.932 Acc: 0.96\n",
            "Epoch :10, loss: 1.921 Acc: 0.96\n",
            "Finished Training\n"
          ],
          "name": "stdout"
        }
      ]
    },
    {
      "cell_type": "code",
      "metadata": {
        "colab_type": "code",
        "id": "MxVdn8bMd1fP",
        "colab": {}
      },
      "source": [
        "import pandas as pd\n",
        "import seaborn as sns\n",
        "import matplotlib.patheffects as PathEffects\n",
        "from sklearn.manifold import TSNE\n",
        "import matplotlib.pyplot as plt\n",
        "%matplotlib inline\n",
        "\n",
        "# Define our own plot function\n",
        "def scatter(x, labels, subtitle=None):\n",
        "    # We choose a color palette with seaborn.\n",
        "    palette = np.array(sns.color_palette(\"hls\", 10))\n",
        "\n",
        "    # We create a scatter plot.\n",
        "    f = plt.figure(figsize=(8, 8))\n",
        "    ax = plt.subplot(aspect='equal')\n",
        "    sc = ax.scatter(x[:,0], x[:,1], lw=0, s=40,\n",
        "                    c=palette[labels.astype(np.int)])\n",
        "    plt.xlim(-25, 25)\n",
        "    plt.ylim(-25, 25)\n",
        "    ax.axis('off')\n",
        "    ax.axis('tight')\n",
        "\n",
        "    # We add the labels for each digit.\n",
        "    txts = []\n",
        "    for i in range(10):\n",
        "        # Position of each label.\n",
        "        xtext, ytext = np.median(x[labels == i, :], axis=0)\n",
        "        txt = ax.text(xtext, ytext, str(i), fontsize=24)\n",
        "        txt.set_path_effects([\n",
        "            PathEffects.Stroke(linewidth=5, foreground=\"w\"),\n",
        "            PathEffects.Normal()])\n",
        "        txts.append(txt)\n",
        "        \n",
        "    if subtitle != None:\n",
        "        plt.suptitle(subtitle)\n",
        "        \n",
        "    plt.savefig(subtitle)"
      ],
      "execution_count": 0,
      "outputs": []
    },
    {
      "cell_type": "code",
      "metadata": {
        "colab_type": "code",
        "id": "vtjqXOdld1fV",
        "outputId": "e9081382-9829-44d8-b005-b22d905fd532",
        "colab": {
          "base_uri": "https://localhost:8080/",
          "height": 35
        }
      },
      "source": [
        "val_arr_new = val_arr.reshape(val_arr.shape[0], -1)\n",
        "val_arr_new.shape"
      ],
      "execution_count": 0,
      "outputs": [
        {
          "output_type": "execute_result",
          "data": {
            "text/plain": [
              "(24000, 2352)"
            ]
          },
          "metadata": {
            "tags": []
          },
          "execution_count": 168
        }
      ]
    },
    {
      "cell_type": "code",
      "metadata": {
        "colab_type": "code",
        "outputId": "fd9c52b8-988b-44e9-d428-a822a1b54b7c",
        "id": "QcC9aiiLd1fe",
        "colab": {
          "base_uri": "https://localhost:8080/",
          "height": 540
        }
      },
      "source": [
        "tsne = TSNE()\n",
        "train_tsne_embeds = tsne.fit_transform(val_arr_new[:500])\n",
        "scatter(train_tsne_embeds, np.array(labels)[:500], \"500 Samples from Training Data\")"
      ],
      "execution_count": 0,
      "outputs": [
        {
          "output_type": "display_data",
          "data": {
            "image/png": "[encoded data removed]",
            "text/plain": [
              "<Figure size 576x576 with 1 Axes>"
            ]
          },
          "metadata": {
            "tags": []
          }
        }
      ]
    },
    {
      "cell_type": "code",
      "metadata": {
        "colab_type": "code",
        "outputId": "cc6a69ce-6363-4683-a095-eb4eb50c4e31",
        "id": "Xi2GzK9Fd1f0",
        "colab": {
          "base_uri": "https://localhost:8080/",
          "height": 35
        }
      },
      "source": [
        "import pandas as pd\n",
        "import seaborn as sns\n",
        "from sklearn.manifold import TSNE\n",
        "\n",
        "l = np.array(labels[:500])\n",
        "l[:5]"
      ],
      "execution_count": 0,
      "outputs": [
        {
          "output_type": "execute_result",
          "data": {
            "text/plain": [
              "array([1, 0, 0, 5, 3])"
            ]
          },
          "metadata": {
            "tags": []
          },
          "execution_count": 181
        }
      ]
    },
    {
      "cell_type": "code",
      "metadata": {
        "colab_type": "code",
        "id": "kAkZ4Bthd1gC",
        "colab": {}
      },
      "source": [
        "preds = res[:500].numpy()\n",
        "preds_trans = TSNE().fit_transform(preds)"
      ],
      "execution_count": 0,
      "outputs": []
    },
    {
      "cell_type": "code",
      "metadata": {
        "colab_type": "code",
        "outputId": "4cf89dbc-04e0-465b-8362-5a53d28436e0",
        "id": "ulRwBHDmd1gR",
        "colab": {
          "base_uri": "https://localhost:8080/",
          "height": 540
        }
      },
      "source": [
        "scatter(preds_trans, l, \"500 samples Training Data After Contrastive Loss\")"
      ],
      "execution_count": 0,
      "outputs": [
        {
          "output_type": "display_data",
          "data": {
            "image/png": "[encoded data removed]",
            "text/plain": [
              "<Figure size 576x576 with 1 Axes>"
            ]
          },
          "metadata": {
            "tags": []
          }
        }
      ]
    },
    {
      "cell_type": "code",
      "metadata": {
        "colab_type": "code",
        "id": "3NlqlBtnd1gf",
        "colab": {}
      },
      "source": [
        "preds_df = pd.DataFrame(np.concatenate((preds_trans, l[:, None]), axis=1), columns=['x','y','labels'])"
      ],
      "execution_count": 0,
      "outputs": []
    },
    {
      "cell_type": "code",
      "metadata": {
        "colab_type": "code",
        "outputId": "1d57763c-4ba5-4d07-dc16-5edc8f5070c3",
        "id": "9HA6OzYwd1gp",
        "colab": {
          "base_uri": "https://localhost:8080/",
          "height": 206
        }
      },
      "source": [
        "preds_df.head()"
      ],
      "execution_count": 0,
      "outputs": [
        {
          "output_type": "execute_result",
          "data": {
            "text/html": [
              "<div>\n",
              "<style scoped>\n",
              "    .dataframe tbody tr th:only-of-type {\n",
              "        vertical-align: middle;\n",
              "    }\n",
              "\n",
              "    .dataframe tbody tr th {\n",
              "        vertical-align: top;\n",
              "    }\n",
              "\n",
              "    .dataframe thead th {\n",
              "        text-align: right;\n",
              "    }\n",
              "</style>\n",
              "<table border=\"1\" class=\"dataframe\">\n",
              "  <thead>\n",
              "    <tr style=\"text-align: right;\">\n",
              "      <th></th>\n",
              "      <th>x</th>\n",
              "      <th>y</th>\n",
              "      <th>labels</th>\n",
              "    </tr>\n",
              "  </thead>\n",
              "  <tbody>\n",
              "    <tr>\n",
              "      <th>0</th>\n",
              "      <td>-26.003435</td>\n",
              "      <td>13.621143</td>\n",
              "      <td>1.0</td>\n",
              "    </tr>\n",
              "    <tr>\n",
              "      <th>1</th>\n",
              "      <td>34.876019</td>\n",
              "      <td>-6.976045</td>\n",
              "      <td>0.0</td>\n",
              "    </tr>\n",
              "    <tr>\n",
              "      <th>2</th>\n",
              "      <td>34.935696</td>\n",
              "      <td>-6.623022</td>\n",
              "      <td>0.0</td>\n",
              "    </tr>\n",
              "    <tr>\n",
              "      <th>3</th>\n",
              "      <td>3.282708</td>\n",
              "      <td>0.642563</td>\n",
              "      <td>5.0</td>\n",
              "    </tr>\n",
              "    <tr>\n",
              "      <th>4</th>\n",
              "      <td>-20.537497</td>\n",
              "      <td>-25.558765</td>\n",
              "      <td>3.0</td>\n",
              "    </tr>\n",
              "  </tbody>\n",
              "</table>\n",
              "</div>"
            ],
            "text/plain": [
              "           x          y  labels\n",
              "0 -26.003435  13.621143     1.0\n",
              "1  34.876019  -6.976045     0.0\n",
              "2  34.935696  -6.623022     0.0\n",
              "3   3.282708   0.642563     5.0\n",
              "4 -20.537497 -25.558765     3.0"
            ]
          },
          "metadata": {
            "tags": []
          },
          "execution_count": 185
        }
      ]
    },
    {
      "cell_type": "code",
      "metadata": {
        "colab_type": "code",
        "outputId": "fa5fed1d-4beb-498c-ead5-2e5fa21f81f5",
        "id": "CjguqQV-d1g6",
        "colab": {
          "base_uri": "https://localhost:8080/",
          "height": 729
        }
      },
      "source": [
        "sns.lmplot('x', 'y', data=preds_df, hue='labels', fit_reg=False, legend=False, height=10)\n",
        "plt.grid(visible=False)"
      ],
      "execution_count": 0,
      "outputs": [
        {
          "output_type": "display_data",
          "data": {
            "image/png": "[encoded data removed]",
            "text/plain": [
              "<Figure size 720x720 with 1 Axes>"
            ]
          },
          "metadata": {
            "tags": []
          }
        }
      ]
    },
    {
      "cell_type": "code",
      "metadata": {
        "colab_type": "code",
        "id": "QjvVDsgGd1hI",
        "colab": {}
      },
      "source": [
        ""
      ],
      "execution_count": 0,
      "outputs": []
    },
    {
      "cell_type": "markdown",
      "metadata": {
        "id": "Ykx1gkiflG5o",
        "colab_type": "text"
      },
      "source": [
        "### Approach - 2 (Using Custom DataBunch)\n",
        "\n",
        "Code Credits: [Radek](https://github.com/radekosmulski/whale/blob/master/siamese_network_prototype.ipynb)"
      ]
    },
    {
      "cell_type": "code",
      "metadata": {
        "id": "bT_36ss-lLIv",
        "colab_type": "code",
        "colab": {}
      },
      "source": [
        "data = (ImageList.from_folder(path)\n",
        "        .split_by_folder(train='training', valid='testing')\n",
        "        .label_from_folder())"
      ],
      "execution_count": 0,
      "outputs": []
    },
    {
      "cell_type": "code",
      "metadata": {
        "id": "TiGl_Ls5lLq_",
        "colab_type": "code",
        "outputId": "7815a3f0-3dc3-46f3-ad20-8e5d965f59de",
        "colab": {
          "base_uri": "https://localhost:8080/",
          "height": 321
        }
      },
      "source": [
        "data"
      ],
      "execution_count": 0,
      "outputs": [
        {
          "output_type": "execute_result",
          "data": {
            "text/plain": [
              "LabelLists;\n",
              "\n",
              "Train: LabelList (60000 items)\n",
              "x: ImageList\n",
              "Image (3, 28, 28),Image (3, 28, 28),Image (3, 28, 28),Image (3, 28, 28),Image (3, 28, 28)\n",
              "y: CategoryList\n",
              "6,6,6,6,6\n",
              "Path: /root/.fastai/data/mnist_png;\n",
              "\n",
              "Valid: LabelList (10000 items)\n",
              "x: ImageList\n",
              "Image (3, 28, 28),Image (3, 28, 28),Image (3, 28, 28),Image (3, 28, 28),Image (3, 28, 28)\n",
              "y: CategoryList\n",
              "6,6,6,6,6\n",
              "Path: /root/.fastai/data/mnist_png;\n",
              "\n",
              "Test: None"
            ]
          },
          "metadata": {
            "tags": []
          },
          "execution_count": 13
        }
      ]
    },
    {
      "cell_type": "code",
      "metadata": {
        "id": "BwPjDp5_YeCi",
        "colab_type": "code",
        "outputId": "6c37801b-67c8-460f-d819-8339f85c1b34",
        "colab": {
          "base_uri": "https://localhost:8080/",
          "height": 206
        }
      },
      "source": [
        "df = pd.read_csv('/content/train.csv')\n",
        "df.head()"
      ],
      "execution_count": 0,
      "outputs": [
        {
          "output_type": "execute_result",
          "data": {
            "text/html": [
              "<div>\n",
              "<style scoped>\n",
              "    .dataframe tbody tr th:only-of-type {\n",
              "        vertical-align: middle;\n",
              "    }\n",
              "\n",
              "    .dataframe tbody tr th {\n",
              "        vertical-align: top;\n",
              "    }\n",
              "\n",
              "    .dataframe thead th {\n",
              "        text-align: right;\n",
              "    }\n",
              "</style>\n",
              "<table border=\"1\" class=\"dataframe\">\n",
              "  <thead>\n",
              "    <tr style=\"text-align: right;\">\n",
              "      <th></th>\n",
              "      <th>x</th>\n",
              "      <th>y</th>\n",
              "    </tr>\n",
              "  </thead>\n",
              "  <tbody>\n",
              "    <tr>\n",
              "      <th>0</th>\n",
              "      <td>training/6/51370.png</td>\n",
              "      <td>6</td>\n",
              "    </tr>\n",
              "    <tr>\n",
              "      <th>1</th>\n",
              "      <td>training/6/59673.png</td>\n",
              "      <td>6</td>\n",
              "    </tr>\n",
              "    <tr>\n",
              "      <th>2</th>\n",
              "      <td>training/6/36175.png</td>\n",
              "      <td>6</td>\n",
              "    </tr>\n",
              "    <tr>\n",
              "      <th>3</th>\n",
              "      <td>training/6/57143.png</td>\n",
              "      <td>6</td>\n",
              "    </tr>\n",
              "    <tr>\n",
              "      <th>4</th>\n",
              "      <td>training/6/2930.png</td>\n",
              "      <td>6</td>\n",
              "    </tr>\n",
              "  </tbody>\n",
              "</table>\n",
              "</div>"
            ],
            "text/plain": [
              "                      x  y\n",
              "0  training/6/51370.png  6\n",
              "1  training/6/59673.png  6\n",
              "2  training/6/36175.png  6\n",
              "3  training/6/57143.png  6\n",
              "4   training/6/2930.png  6"
            ]
          },
          "metadata": {
            "tags": []
          },
          "execution_count": 14
        }
      ]
    },
    {
      "cell_type": "code",
      "metadata": {
        "id": "pgVPztP2lLxw",
        "colab_type": "code",
        "colab": {}
      },
      "source": [
        "def is_even(num): return num % 2 == 0\n",
        "\n",
        "class TwoImDataset(Dataset):\n",
        "    def __init__(self, ds):\n",
        "        self.ds = ds\n",
        "        self.class_ids = ds.y.items\n",
        "        \n",
        "    def __len__(self):\n",
        "        return 2 * len(self.ds)\n",
        "    \n",
        "    def __getitem__(self, idx):\n",
        "        if is_even(idx):\n",
        "            return self.sample_same(idx // 2)\n",
        "        else: \n",
        "            return self.sample_different((idx-1) // 2)\n",
        "        \n",
        "    def sample_same(self, idx):\n",
        "        class_id = self.class_ids[idx]        \n",
        "        candidates = list(np.where(self.class_ids == class_id)[0])\n",
        "        candidates.remove(idx) # dropping our current whale - we don't want to compare against an identical image!\n",
        "        \n",
        "        if len(candidates) == 0: # oops, there is only a single whale with this id in the dataset\n",
        "            return self.sample_different(idx)\n",
        "        \n",
        "        np.random.shuffle(candidates)\n",
        "        return self.construct_example(self.ds[idx][0], self.ds[candidates[0]][0], 1)\n",
        "    \n",
        "    def sample_different(self, idx):\n",
        "        class_id = self.class_ids[idx]\n",
        "        candidates = list(np.where(self.class_ids != class_id)[0])\n",
        "        np.random.shuffle(candidates)\n",
        "        return self.construct_example(self.ds[idx][0], self.ds[candidates[0]][0], 0)\n",
        "    \n",
        "    def construct_example(self, im_A, im_B, class_idx):\n",
        "        return [im_A, im_B], class_idx"
      ],
      "execution_count": 0,
      "outputs": []
    },
    {
      "cell_type": "code",
      "metadata": {
        "id": "pkDCQGz0lL7q",
        "colab_type": "code",
        "colab": {}
      },
      "source": [
        "train_dl = DataLoader(\n",
        "    TwoImDataset(data.train),\n",
        "    batch_size=bs,\n",
        "    shuffle=True\n",
        ")\n",
        "valid_dl = DataLoader(\n",
        "    TwoImDataset(data.valid),\n",
        "    batch_size=bs,\n",
        "    shuffle=False\n",
        ")\n",
        "\n",
        "data = ImageDataBunch(train_dl, valid_dl)"
      ],
      "execution_count": 0,
      "outputs": []
    },
    {
      "cell_type": "code",
      "metadata": {
        "id": "2296XuSdlLvM",
        "colab_type": "code",
        "colab": {}
      },
      "source": [
        "def normalize_batch(batch):\n",
        "    stat_tensors = [torch.tensor(l).cuda() for l in mnist_stats]\n",
        "    return [normalize(batch[0][0], *stat_tensors), normalize(batch[0][1], *stat_tensors)], batch[1]"
      ],
      "execution_count": 0,
      "outputs": []
    },
    {
      "cell_type": "code",
      "metadata": {
        "id": "BTjy_1nfY2cF",
        "colab_type": "code",
        "colab": {}
      },
      "source": [
        "data.add_tfm(normalize_batch)"
      ],
      "execution_count": 0,
      "outputs": []
    },
    {
      "cell_type": "code",
      "metadata": {
        "id": "1m1lGWB_ZXUy",
        "colab_type": "code",
        "colab": {}
      },
      "source": [
        "class SiameseNetwork(nn.Module):\n",
        "    def __init__(self, arch=models.resnet18):\n",
        "        super().__init__() \n",
        "        self.cnn = create_body(arch)\n",
        "        self.head = nn.Linear(num_features_model(self.cnn), 1)\n",
        "        \n",
        "    def forward(self, im_A, im_B):\n",
        "        # dl - distance layer\n",
        "        x1, x2 = seq(im_A, im_B).map(self.cnn).map(self.process_features)\n",
        "        dl = self.calculate_distance(x1, x2)\n",
        "        out = self.head(dl)\n",
        "        return out\n",
        "    \n",
        "    def process_features(self, x): return x.reshape(*x.shape[:2], -1).max(-1)[0]\n",
        "    def calculate_distance(self, x1, x2): return (x1 - x2).abs_()"
      ],
      "execution_count": 0,
      "outputs": []
    },
    {
      "cell_type": "code",
      "metadata": {
        "id": "_fcSnxzIaPqV",
        "colab_type": "code",
        "outputId": "e37b8829-792f-4f33-ef05-143adbd20ec0",
        "colab": {
          "base_uri": "https://localhost:8080/",
          "height": 53
        }
      },
      "source": [
        "learn = Learner(data, SiameseNetwork(), loss_func=BCEWithLogitsFlat(), \n",
        "                metrics=[lambda preds, targs: accuracy_thresh(preds.squeeze(), targs, sigmoid=False)])"
      ],
      "execution_count": 0,
      "outputs": [
        {
          "output_type": "stream",
          "text": [
            "Downloading: \"https://download.pytorch.org/models/resnet18-5c106cde.pth\" to /root/.cache/torch/checkpoints/resnet18-5c106cde.pth\n",
            "100%|██████████| 46827520/46827520 [00:02<00:00, 20454218.82it/s]\n"
          ],
          "name": "stderr"
        }
      ]
    },
    {
      "cell_type": "code",
      "metadata": {
        "id": "P9_AQlvnaPvj",
        "colab_type": "code",
        "outputId": "7388c562-1f5f-421d-a581-eef9da3d7753",
        "colab": {
          "base_uri": "https://localhost:8080/",
          "height": 2628
        }
      },
      "source": [
        "learn.split([learn.model.cnn[:6], learn.model.cnn[6:], learn.model.head])"
      ],
      "execution_count": 0,
      "outputs": [
        {
          "output_type": "execute_result",
          "data": {
            "text/plain": [
              "Learner(data=ImageDataBunch;\n",
              "\n",
              "Train: <__main__.TwoImDataset object at 0x7fab2f514a20>;\n",
              "\n",
              "Valid: <__main__.TwoImDataset object at 0x7fab2f5149e8>;\n",
              "\n",
              "Test: None, model=SiameseNetwork(\n",
              "  (cnn): Sequential(\n",
              "    (0): Conv2d(3, 64, kernel_size=(7, 7), stride=(2, 2), padding=(3, 3), bias=False)\n",
              "    (1): BatchNorm2d(64, eps=1e-05, momentum=0.1, affine=True, track_running_stats=True)\n",
              "    (2): ReLU(inplace)\n",
              "    (3): MaxPool2d(kernel_size=3, stride=2, padding=1, dilation=1, ceil_mode=False)\n",
              "    (4): Sequential(\n",
              "      (0): BasicBlock(\n",
              "        (conv1): Conv2d(64, 64, kernel_size=(3, 3), stride=(1, 1), padding=(1, 1), bias=False)\n",
              "        (bn1): BatchNorm2d(64, eps=1e-05, momentum=0.1, affine=True, track_running_stats=True)\n",
              "        (relu): ReLU(inplace)\n",
              "        (conv2): Conv2d(64, 64, kernel_size=(3, 3), stride=(1, 1), padding=(1, 1), bias=False)\n",
              "        (bn2): BatchNorm2d(64, eps=1e-05, momentum=0.1, affine=True, track_running_stats=True)\n",
              "      )\n",
              "      (1): BasicBlock(\n",
              "        (conv1): Conv2d(64, 64, kernel_size=(3, 3), stride=(1, 1), padding=(1, 1), bias=False)\n",
              "        (bn1): BatchNorm2d(64, eps=1e-05, momentum=0.1, affine=True, track_running_stats=True)\n",
              "        (relu): ReLU(inplace)\n",
              "        (conv2): Conv2d(64, 64, kernel_size=(3, 3), stride=(1, 1), padding=(1, 1), bias=False)\n",
              "        (bn2): BatchNorm2d(64, eps=1e-05, momentum=0.1, affine=True, track_running_stats=True)\n",
              "      )\n",
              "    )\n",
              "    (5): Sequential(\n",
              "      (0): BasicBlock(\n",
              "        (conv1): Conv2d(64, 128, kernel_size=(3, 3), stride=(2, 2), padding=(1, 1), bias=False)\n",
              "        (bn1): BatchNorm2d(128, eps=1e-05, momentum=0.1, affine=True, track_running_stats=True)\n",
              "        (relu): ReLU(inplace)\n",
              "        (conv2): Conv2d(128, 128, kernel_size=(3, 3), stride=(1, 1), padding=(1, 1), bias=False)\n",
              "        (bn2): BatchNorm2d(128, eps=1e-05, momentum=0.1, affine=True, track_running_stats=True)\n",
              "        (downsample): Sequential(\n",
              "          (0): Conv2d(64, 128, kernel_size=(1, 1), stride=(2, 2), bias=False)\n",
              "          (1): BatchNorm2d(128, eps=1e-05, momentum=0.1, affine=True, track_running_stats=True)\n",
              "        )\n",
              "      )\n",
              "      (1): BasicBlock(\n",
              "        (conv1): Conv2d(128, 128, kernel_size=(3, 3), stride=(1, 1), padding=(1, 1), bias=False)\n",
              "        (bn1): BatchNorm2d(128, eps=1e-05, momentum=0.1, affine=True, track_running_stats=True)\n",
              "        (relu): ReLU(inplace)\n",
              "        (conv2): Conv2d(128, 128, kernel_size=(3, 3), stride=(1, 1), padding=(1, 1), bias=False)\n",
              "        (bn2): BatchNorm2d(128, eps=1e-05, momentum=0.1, affine=True, track_running_stats=True)\n",
              "      )\n",
              "    )\n",
              "    (6): Sequential(\n",
              "      (0): BasicBlock(\n",
              "        (conv1): Conv2d(128, 256, kernel_size=(3, 3), stride=(2, 2), padding=(1, 1), bias=False)\n",
              "        (bn1): BatchNorm2d(256, eps=1e-05, momentum=0.1, affine=True, track_running_stats=True)\n",
              "        (relu): ReLU(inplace)\n",
              "        (conv2): Conv2d(256, 256, kernel_size=(3, 3), stride=(1, 1), padding=(1, 1), bias=False)\n",
              "        (bn2): BatchNorm2d(256, eps=1e-05, momentum=0.1, affine=True, track_running_stats=True)\n",
              "        (downsample): Sequential(\n",
              "          (0): Conv2d(128, 256, kernel_size=(1, 1), stride=(2, 2), bias=False)\n",
              "          (1): BatchNorm2d(256, eps=1e-05, momentum=0.1, affine=True, track_running_stats=True)\n",
              "        )\n",
              "      )\n",
              "      (1): BasicBlock(\n",
              "        (conv1): Conv2d(256, 256, kernel_size=(3, 3), stride=(1, 1), padding=(1, 1), bias=False)\n",
              "        (bn1): BatchNorm2d(256, eps=1e-05, momentum=0.1, affine=True, track_running_stats=True)\n",
              "        (relu): ReLU(inplace)\n",
              "        (conv2): Conv2d(256, 256, kernel_size=(3, 3), stride=(1, 1), padding=(1, 1), bias=False)\n",
              "        (bn2): BatchNorm2d(256, eps=1e-05, momentum=0.1, affine=True, track_running_stats=True)\n",
              "      )\n",
              "    )\n",
              "    (7): Sequential(\n",
              "      (0): BasicBlock(\n",
              "        (conv1): Conv2d(256, 512, kernel_size=(3, 3), stride=(2, 2), padding=(1, 1), bias=False)\n",
              "        (bn1): BatchNorm2d(512, eps=1e-05, momentum=0.1, affine=True, track_running_stats=True)\n",
              "        (relu): ReLU(inplace)\n",
              "        (conv2): Conv2d(512, 512, kernel_size=(3, 3), stride=(1, 1), padding=(1, 1), bias=False)\n",
              "        (bn2): BatchNorm2d(512, eps=1e-05, momentum=0.1, affine=True, track_running_stats=True)\n",
              "        (downsample): Sequential(\n",
              "          (0): Conv2d(256, 512, kernel_size=(1, 1), stride=(2, 2), bias=False)\n",
              "          (1): BatchNorm2d(512, eps=1e-05, momentum=0.1, affine=True, track_running_stats=True)\n",
              "        )\n",
              "      )\n",
              "      (1): BasicBlock(\n",
              "        (conv1): Conv2d(512, 512, kernel_size=(3, 3), stride=(1, 1), padding=(1, 1), bias=False)\n",
              "        (bn1): BatchNorm2d(512, eps=1e-05, momentum=0.1, affine=True, track_running_stats=True)\n",
              "        (relu): ReLU(inplace)\n",
              "        (conv2): Conv2d(512, 512, kernel_size=(3, 3), stride=(1, 1), padding=(1, 1), bias=False)\n",
              "        (bn2): BatchNorm2d(512, eps=1e-05, momentum=0.1, affine=True, track_running_stats=True)\n",
              "      )\n",
              "    )\n",
              "  )\n",
              "  (head): Linear(in_features=512, out_features=1, bias=True)\n",
              "), opt_func=functools.partial(<class 'torch.optim.adam.Adam'>, betas=(0.9, 0.99)), loss_func=FlattenedLoss of BCEWithLogitsLoss(), metrics=[<function <lambda> at 0x7fab2f4f5268>], true_wd=True, bn_wd=True, wd=0.01, train_bn=True, path=PosixPath('.'), model_dir='models', callback_fns=[functools.partial(<class 'fastai.basic_train.Recorder'>, add_time=True, silent=False)], callbacks=[], layer_groups=[Sequential(\n",
              "  (0): Conv2d(3, 64, kernel_size=(7, 7), stride=(2, 2), padding=(3, 3), bias=False)\n",
              "  (1): BatchNorm2d(64, eps=1e-05, momentum=0.1, affine=True, track_running_stats=True)\n",
              "  (2): ReLU(inplace)\n",
              "  (3): MaxPool2d(kernel_size=3, stride=2, padding=1, dilation=1, ceil_mode=False)\n",
              "  (4): Conv2d(64, 64, kernel_size=(3, 3), stride=(1, 1), padding=(1, 1), bias=False)\n",
              "  (5): BatchNorm2d(64, eps=1e-05, momentum=0.1, affine=True, track_running_stats=True)\n",
              "  (6): ReLU(inplace)\n",
              "  (7): Conv2d(64, 64, kernel_size=(3, 3), stride=(1, 1), padding=(1, 1), bias=False)\n",
              "  (8): BatchNorm2d(64, eps=1e-05, momentum=0.1, affine=True, track_running_stats=True)\n",
              "  (9): Conv2d(64, 64, kernel_size=(3, 3), stride=(1, 1), padding=(1, 1), bias=False)\n",
              "  (10): BatchNorm2d(64, eps=1e-05, momentum=0.1, affine=True, track_running_stats=True)\n",
              "  (11): ReLU(inplace)\n",
              "  (12): Conv2d(64, 64, kernel_size=(3, 3), stride=(1, 1), padding=(1, 1), bias=False)\n",
              "  (13): BatchNorm2d(64, eps=1e-05, momentum=0.1, affine=True, track_running_stats=True)\n",
              "  (14): Conv2d(64, 128, kernel_size=(3, 3), stride=(2, 2), padding=(1, 1), bias=False)\n",
              "  (15): BatchNorm2d(128, eps=1e-05, momentum=0.1, affine=True, track_running_stats=True)\n",
              "  (16): ReLU(inplace)\n",
              "  (17): Conv2d(128, 128, kernel_size=(3, 3), stride=(1, 1), padding=(1, 1), bias=False)\n",
              "  (18): BatchNorm2d(128, eps=1e-05, momentum=0.1, affine=True, track_running_stats=True)\n",
              "  (19): Conv2d(64, 128, kernel_size=(1, 1), stride=(2, 2), bias=False)\n",
              "  (20): BatchNorm2d(128, eps=1e-05, momentum=0.1, affine=True, track_running_stats=True)\n",
              "  (21): Conv2d(128, 128, kernel_size=(3, 3), stride=(1, 1), padding=(1, 1), bias=False)\n",
              "  (22): BatchNorm2d(128, eps=1e-05, momentum=0.1, affine=True, track_running_stats=True)\n",
              "  (23): ReLU(inplace)\n",
              "  (24): Conv2d(128, 128, kernel_size=(3, 3), stride=(1, 1), padding=(1, 1), bias=False)\n",
              "  (25): BatchNorm2d(128, eps=1e-05, momentum=0.1, affine=True, track_running_stats=True)\n",
              "), Sequential(\n",
              "  (0): Conv2d(128, 256, kernel_size=(3, 3), stride=(2, 2), padding=(1, 1), bias=False)\n",
              "  (1): BatchNorm2d(256, eps=1e-05, momentum=0.1, affine=True, track_running_stats=True)\n",
              "  (2): ReLU(inplace)\n",
              "  (3): Conv2d(256, 256, kernel_size=(3, 3), stride=(1, 1), padding=(1, 1), bias=False)\n",
              "  (4): BatchNorm2d(256, eps=1e-05, momentum=0.1, affine=True, track_running_stats=True)\n",
              "  (5): Conv2d(128, 256, kernel_size=(1, 1), stride=(2, 2), bias=False)\n",
              "  (6): BatchNorm2d(256, eps=1e-05, momentum=0.1, affine=True, track_running_stats=True)\n",
              "  (7): Conv2d(256, 256, kernel_size=(3, 3), stride=(1, 1), padding=(1, 1), bias=False)\n",
              "  (8): BatchNorm2d(256, eps=1e-05, momentum=0.1, affine=True, track_running_stats=True)\n",
              "  (9): ReLU(inplace)\n",
              "  (10): Conv2d(256, 256, kernel_size=(3, 3), stride=(1, 1), padding=(1, 1), bias=False)\n",
              "  (11): BatchNorm2d(256, eps=1e-05, momentum=0.1, affine=True, track_running_stats=True)\n",
              "  (12): Conv2d(256, 512, kernel_size=(3, 3), stride=(2, 2), padding=(1, 1), bias=False)\n",
              "  (13): BatchNorm2d(512, eps=1e-05, momentum=0.1, affine=True, track_running_stats=True)\n",
              "  (14): ReLU(inplace)\n",
              "  (15): Conv2d(512, 512, kernel_size=(3, 3), stride=(1, 1), padding=(1, 1), bias=False)\n",
              "  (16): BatchNorm2d(512, eps=1e-05, momentum=0.1, affine=True, track_running_stats=True)\n",
              "  (17): Conv2d(256, 512, kernel_size=(1, 1), stride=(2, 2), bias=False)\n",
              "  (18): BatchNorm2d(512, eps=1e-05, momentum=0.1, affine=True, track_running_stats=True)\n",
              "  (19): Conv2d(512, 512, kernel_size=(3, 3), stride=(1, 1), padding=(1, 1), bias=False)\n",
              "  (20): BatchNorm2d(512, eps=1e-05, momentum=0.1, affine=True, track_running_stats=True)\n",
              "  (21): ReLU(inplace)\n",
              "  (22): Conv2d(512, 512, kernel_size=(3, 3), stride=(1, 1), padding=(1, 1), bias=False)\n",
              "  (23): BatchNorm2d(512, eps=1e-05, momentum=0.1, affine=True, track_running_stats=True)\n",
              "), Sequential(\n",
              "  (0): Linear(in_features=512, out_features=1, bias=True)\n",
              ")], add_time=True, silent=False)"
            ]
          },
          "metadata": {
            "tags": []
          },
          "execution_count": 24
        }
      ]
    },
    {
      "cell_type": "code",
      "metadata": {
        "id": "M-QI6NKbaWaa",
        "colab_type": "code",
        "colab": {}
      },
      "source": [
        "learn.freeze_to(-1)"
      ],
      "execution_count": 0,
      "outputs": []
    },
    {
      "cell_type": "code",
      "metadata": {
        "id": "XfBTZ9YtaWe9",
        "colab_type": "code",
        "outputId": "3de3a472-9612-4c42-f61d-d3cea17a62da",
        "colab": {
          "base_uri": "https://localhost:8080/",
          "height": 301
        }
      },
      "source": [
        "learn.lr_find()\n",
        "learn.recorder.plot()"
      ],
      "execution_count": 0,
      "outputs": [
        {
          "output_type": "display_data",
          "data": {
            "text/html": [
              ""
            ],
            "text/plain": [
              "<IPython.core.display.HTML object>"
            ]
          },
          "metadata": {
            "tags": []
          }
        },
        {
          "output_type": "stream",
          "text": [
            "LR Finder is complete, type {learner_name}.recorder.plot() to see the graph.\n"
          ],
          "name": "stdout"
        },
        {
          "output_type": "display_data",
          "data": {
            "image/png": "[encoded data removed]",
            "text/plain": [
              "<Figure size 432x288 with 1 Axes>"
            ]
          },
          "metadata": {
            "tags": []
          }
        }
      ]
    },
    {
      "cell_type": "code",
      "metadata": {
        "id": "i1i0Jf8TaWiH",
        "colab_type": "code",
        "outputId": "89d4716d-b1b7-45a8-f6ea-7cb246d2ee21",
        "colab": {
          "base_uri": "https://localhost:8080/",
          "height": 175
        }
      },
      "source": [
        "learn.fit_one_cycle(4, 1e-2)"
      ],
      "execution_count": 0,
      "outputs": [
        {
          "output_type": "display_data",
          "data": {
            "text/html": [
              "<table border=\"1\" class=\"dataframe\">\n",
              "  <thead>\n",
              "    <tr style=\"text-align: left;\">\n",
              "      <th>epoch</th>\n",
              "      <th>train_loss</th>\n",
              "      <th>valid_loss</th>\n",
              "      <th><lambda></th>\n",
              "      <th>time</th>\n",
              "    </tr>\n",
              "  </thead>\n",
              "  <tbody>\n",
              "    <tr>\n",
              "      <td>0</td>\n",
              "      <td>0.131680</td>\n",
              "      <td>0.100162</td>\n",
              "      <td>0.963450</td>\n",
              "      <td>12:34</td>\n",
              "    </tr>\n",
              "    <tr>\n",
              "      <td>1</td>\n",
              "      <td>0.078730</td>\n",
              "      <td>0.043282</td>\n",
              "      <td>0.984900</td>\n",
              "      <td>12:47</td>\n",
              "    </tr>\n",
              "    <tr>\n",
              "      <td>2</td>\n",
              "      <td>0.040047</td>\n",
              "      <td>0.027837</td>\n",
              "      <td>0.990100</td>\n",
              "      <td>12:40</td>\n",
              "    </tr>\n",
              "    <tr>\n",
              "      <td>3</td>\n",
              "      <td>0.028438</td>\n",
              "      <td>0.022997</td>\n",
              "      <td>0.991600</td>\n",
              "      <td>12:43</td>\n",
              "    </tr>\n",
              "  </tbody>\n",
              "</table>"
            ],
            "text/plain": [
              "<IPython.core.display.HTML object>"
            ]
          },
          "metadata": {
            "tags": []
          }
        }
      ]
    },
    {
      "cell_type": "code",
      "metadata": {
        "id": "pPbbJp1wbw23",
        "colab_type": "code",
        "colab": {}
      },
      "source": [
        "learn.unfreeze()"
      ],
      "execution_count": 0,
      "outputs": []
    },
    {
      "cell_type": "code",
      "metadata": {
        "id": "x7lpZpYCbyn4",
        "colab_type": "code",
        "colab": {}
      },
      "source": [
        "max_lr = 5e-4\n",
        "lrs = [max_lr/100, max_lr/10, max_lr]"
      ],
      "execution_count": 0,
      "outputs": []
    },
    {
      "cell_type": "code",
      "metadata": {
        "id": "Nudm1KZrb0uB",
        "colab_type": "code",
        "outputId": "c9b879c2-9a52-4221-cad5-2b02098d4863",
        "colab": {
          "base_uri": "https://localhost:8080/",
          "height": 112
        }
      },
      "source": [
        "learn.fit_one_cycle(2, lrs)"
      ],
      "execution_count": 0,
      "outputs": [
        {
          "output_type": "display_data",
          "data": {
            "text/html": [
              "<table border=\"1\" class=\"dataframe\">\n",
              "  <thead>\n",
              "    <tr style=\"text-align: left;\">\n",
              "      <th>epoch</th>\n",
              "      <th>train_loss</th>\n",
              "      <th>valid_loss</th>\n",
              "      <th><lambda></th>\n",
              "      <th>time</th>\n",
              "    </tr>\n",
              "  </thead>\n",
              "  <tbody>\n",
              "    <tr>\n",
              "      <td>0</td>\n",
              "      <td>0.029067</td>\n",
              "      <td>0.024276</td>\n",
              "      <td>0.991950</td>\n",
              "      <td>12:54</td>\n",
              "    </tr>\n",
              "    <tr>\n",
              "      <td>1</td>\n",
              "      <td>0.016099</td>\n",
              "      <td>0.016919</td>\n",
              "      <td>0.994050</td>\n",
              "      <td>13:05</td>\n",
              "    </tr>\n",
              "  </tbody>\n",
              "</table>"
            ],
            "text/plain": [
              "<IPython.core.display.HTML object>"
            ]
          },
          "metadata": {
            "tags": []
          }
        }
      ]
    },
    {
      "cell_type": "code",
      "metadata": {
        "id": "t3H4u_VXb19A",
        "colab_type": "code",
        "outputId": "b2d33e7b-5138-4b53-bc2b-38b86dd775e6",
        "colab": {
          "base_uri": "https://localhost:8080/",
          "height": 283
        }
      },
      "source": [
        "learn.recorder.plot_losses()"
      ],
      "execution_count": 0,
      "outputs": [
        {
          "output_type": "display_data",
          "data": {
            "image/png": "[encoded data removed]",
            "text/plain": [
              "<Figure size 432x288 with 1 Axes>"
            ]
          },
          "metadata": {
            "tags": []
          }
        }
      ]
    },
    {
      "cell_type": "code",
      "metadata": {
        "id": "CIHAkpdzb3lh",
        "colab_type": "code",
        "colab": {}
      },
      "source": [
        "learn.save('mnist_model')"
      ],
      "execution_count": 0,
      "outputs": []
    },
    {
      "cell_type": "markdown",
      "metadata": {
        "colab_type": "text",
        "id": "Cfb86QLntDJ4"
      },
      "source": [
        "#### t-SNE visualization"
      ]
    },
    {
      "cell_type": "code",
      "metadata": {
        "colab_type": "code",
        "outputId": "c7fac190-4d2b-4557-e7e1-ca5538b7ddb5",
        "id": "CJu0tXNLtDKB",
        "colab": {
          "base_uri": "https://localhost:8080/",
          "height": 1536
        }
      },
      "source": [
        "learn.model"
      ],
      "execution_count": 0,
      "outputs": [
        {
          "output_type": "execute_result",
          "data": {
            "text/plain": [
              "SiameseNetwork(\n",
              "  (cnn): Sequential(\n",
              "    (0): Conv2d(3, 64, kernel_size=(7, 7), stride=(2, 2), padding=(3, 3), bias=False)\n",
              "    (1): BatchNorm2d(64, eps=1e-05, momentum=0.1, affine=True, track_running_stats=True)\n",
              "    (2): ReLU(inplace)\n",
              "    (3): MaxPool2d(kernel_size=3, stride=2, padding=1, dilation=1, ceil_mode=False)\n",
              "    (4): Sequential(\n",
              "      (0): BasicBlock(\n",
              "        (conv1): Conv2d(64, 64, kernel_size=(3, 3), stride=(1, 1), padding=(1, 1), bias=False)\n",
              "        (bn1): BatchNorm2d(64, eps=1e-05, momentum=0.1, affine=True, track_running_stats=True)\n",
              "        (relu): ReLU(inplace)\n",
              "        (conv2): Conv2d(64, 64, kernel_size=(3, 3), stride=(1, 1), padding=(1, 1), bias=False)\n",
              "        (bn2): BatchNorm2d(64, eps=1e-05, momentum=0.1, affine=True, track_running_stats=True)\n",
              "      )\n",
              "      (1): BasicBlock(\n",
              "        (conv1): Conv2d(64, 64, kernel_size=(3, 3), stride=(1, 1), padding=(1, 1), bias=False)\n",
              "        (bn1): BatchNorm2d(64, eps=1e-05, momentum=0.1, affine=True, track_running_stats=True)\n",
              "        (relu): ReLU(inplace)\n",
              "        (conv2): Conv2d(64, 64, kernel_size=(3, 3), stride=(1, 1), padding=(1, 1), bias=False)\n",
              "        (bn2): BatchNorm2d(64, eps=1e-05, momentum=0.1, affine=True, track_running_stats=True)\n",
              "      )\n",
              "    )\n",
              "    (5): Sequential(\n",
              "      (0): BasicBlock(\n",
              "        (conv1): Conv2d(64, 128, kernel_size=(3, 3), stride=(2, 2), padding=(1, 1), bias=False)\n",
              "        (bn1): BatchNorm2d(128, eps=1e-05, momentum=0.1, affine=True, track_running_stats=True)\n",
              "        (relu): ReLU(inplace)\n",
              "        (conv2): Conv2d(128, 128, kernel_size=(3, 3), stride=(1, 1), padding=(1, 1), bias=False)\n",
              "        (bn2): BatchNorm2d(128, eps=1e-05, momentum=0.1, affine=True, track_running_stats=True)\n",
              "        (downsample): Sequential(\n",
              "          (0): Conv2d(64, 128, kernel_size=(1, 1), stride=(2, 2), bias=False)\n",
              "          (1): BatchNorm2d(128, eps=1e-05, momentum=0.1, affine=True, track_running_stats=True)\n",
              "        )\n",
              "      )\n",
              "      (1): BasicBlock(\n",
              "        (conv1): Conv2d(128, 128, kernel_size=(3, 3), stride=(1, 1), padding=(1, 1), bias=False)\n",
              "        (bn1): BatchNorm2d(128, eps=1e-05, momentum=0.1, affine=True, track_running_stats=True)\n",
              "        (relu): ReLU(inplace)\n",
              "        (conv2): Conv2d(128, 128, kernel_size=(3, 3), stride=(1, 1), padding=(1, 1), bias=False)\n",
              "        (bn2): BatchNorm2d(128, eps=1e-05, momentum=0.1, affine=True, track_running_stats=True)\n",
              "      )\n",
              "    )\n",
              "    (6): Sequential(\n",
              "      (0): BasicBlock(\n",
              "        (conv1): Conv2d(128, 256, kernel_size=(3, 3), stride=(2, 2), padding=(1, 1), bias=False)\n",
              "        (bn1): BatchNorm2d(256, eps=1e-05, momentum=0.1, affine=True, track_running_stats=True)\n",
              "        (relu): ReLU(inplace)\n",
              "        (conv2): Conv2d(256, 256, kernel_size=(3, 3), stride=(1, 1), padding=(1, 1), bias=False)\n",
              "        (bn2): BatchNorm2d(256, eps=1e-05, momentum=0.1, affine=True, track_running_stats=True)\n",
              "        (downsample): Sequential(\n",
              "          (0): Conv2d(128, 256, kernel_size=(1, 1), stride=(2, 2), bias=False)\n",
              "          (1): BatchNorm2d(256, eps=1e-05, momentum=0.1, affine=True, track_running_stats=True)\n",
              "        )\n",
              "      )\n",
              "      (1): BasicBlock(\n",
              "        (conv1): Conv2d(256, 256, kernel_size=(3, 3), stride=(1, 1), padding=(1, 1), bias=False)\n",
              "        (bn1): BatchNorm2d(256, eps=1e-05, momentum=0.1, affine=True, track_running_stats=True)\n",
              "        (relu): ReLU(inplace)\n",
              "        (conv2): Conv2d(256, 256, kernel_size=(3, 3), stride=(1, 1), padding=(1, 1), bias=False)\n",
              "        (bn2): BatchNorm2d(256, eps=1e-05, momentum=0.1, affine=True, track_running_stats=True)\n",
              "      )\n",
              "    )\n",
              "    (7): Sequential(\n",
              "      (0): BasicBlock(\n",
              "        (conv1): Conv2d(256, 512, kernel_size=(3, 3), stride=(2, 2), padding=(1, 1), bias=False)\n",
              "        (bn1): BatchNorm2d(512, eps=1e-05, momentum=0.1, affine=True, track_running_stats=True)\n",
              "        (relu): ReLU(inplace)\n",
              "        (conv2): Conv2d(512, 512, kernel_size=(3, 3), stride=(1, 1), padding=(1, 1), bias=False)\n",
              "        (bn2): BatchNorm2d(512, eps=1e-05, momentum=0.1, affine=True, track_running_stats=True)\n",
              "        (downsample): Sequential(\n",
              "          (0): Conv2d(256, 512, kernel_size=(1, 1), stride=(2, 2), bias=False)\n",
              "          (1): BatchNorm2d(512, eps=1e-05, momentum=0.1, affine=True, track_running_stats=True)\n",
              "        )\n",
              "      )\n",
              "      (1): BasicBlock(\n",
              "        (conv1): Conv2d(512, 512, kernel_size=(3, 3), stride=(1, 1), padding=(1, 1), bias=False)\n",
              "        (bn1): BatchNorm2d(512, eps=1e-05, momentum=0.1, affine=True, track_running_stats=True)\n",
              "        (relu): ReLU(inplace)\n",
              "        (conv2): Conv2d(512, 512, kernel_size=(3, 3), stride=(1, 1), padding=(1, 1), bias=False)\n",
              "        (bn2): BatchNorm2d(512, eps=1e-05, momentum=0.1, affine=True, track_running_stats=True)\n",
              "      )\n",
              "    )\n",
              "  )\n",
              "  (head): Linear(in_features=512, out_features=1, bias=True)\n",
              ")"
            ]
          },
          "metadata": {
            "tags": []
          },
          "execution_count": 34
        }
      ]
    },
    {
      "cell_type": "code",
      "metadata": {
        "colab_type": "code",
        "id": "PiJgvuWPtDKd",
        "colab": {}
      },
      "source": [
        "targs = []\n",
        "feats = []\n",
        "learn.model.eval()\n",
        "for (x, y), ts in data.valid_dl:\n",
        "    feats.append(learn.model.process_features(learn.model.cnn(x)).detach().cpu())\n",
        "    targs.append(ts)"
      ],
      "execution_count": 0,
      "outputs": []
    },
    {
      "cell_type": "code",
      "metadata": {
        "colab_type": "code",
        "outputId": "e5969ee1-63aa-4238-e54c-445064a68516",
        "id": "D0-wxsDmtDKv",
        "colab": {
          "base_uri": "https://localhost:8080/",
          "height": 35
        }
      },
      "source": [
        "val_arr = [x.numpy() for t in feats for x in t]\n",
        "val_arr = np.array(val_arr)\n",
        "res = list(val_arr)[::2] #extract only odd or even index as there is repetition\n",
        "res = np.array(res)\n",
        "val_targs = [x for t in targs for x in t]\n",
        "val_targs = np.array(val_targs)\n",
        "\n",
        "print (res.shape, val_arr.shape, val_targs.shape)"
      ],
      "execution_count": 0,
      "outputs": [
        {
          "output_type": "stream",
          "text": [
            "(10000, 512) (20000, 512) (20000,)\n"
          ],
          "name": "stdout"
        }
      ]
    },
    {
      "cell_type": "code",
      "metadata": {
        "colab_type": "code",
        "id": "7GzSuN-39BA1",
        "colab": {}
      },
      "source": [
        "ll = ImageList.from_folder(path).split_by_folder(train='training', valid='testing').label_from_folder().valid\n",
        "ll.to_csv('/content/test.csv')"
      ],
      "execution_count": 0,
      "outputs": []
    },
    {
      "cell_type": "code",
      "metadata": {
        "colab_type": "code",
        "outputId": "2cdf5c20-a88c-4824-fdde-9775850c7a2a",
        "id": "ZfcFvcPz9BBP",
        "colab": {
          "base_uri": "https://localhost:8080/",
          "height": 206
        }
      },
      "source": [
        "df_test = pd.read_csv('/content/test.csv')\n",
        "df_test.head()"
      ],
      "execution_count": 0,
      "outputs": [
        {
          "output_type": "execute_result",
          "data": {
            "text/html": [
              "<div>\n",
              "<style scoped>\n",
              "    .dataframe tbody tr th:only-of-type {\n",
              "        vertical-align: middle;\n",
              "    }\n",
              "\n",
              "    .dataframe tbody tr th {\n",
              "        vertical-align: top;\n",
              "    }\n",
              "\n",
              "    .dataframe thead th {\n",
              "        text-align: right;\n",
              "    }\n",
              "</style>\n",
              "<table border=\"1\" class=\"dataframe\">\n",
              "  <thead>\n",
              "    <tr style=\"text-align: right;\">\n",
              "      <th></th>\n",
              "      <th>x</th>\n",
              "      <th>y</th>\n",
              "    </tr>\n",
              "  </thead>\n",
              "  <tbody>\n",
              "    <tr>\n",
              "      <th>0</th>\n",
              "      <td>testing/6/7925.png</td>\n",
              "      <td>6</td>\n",
              "    </tr>\n",
              "    <tr>\n",
              "      <th>1</th>\n",
              "      <td>testing/6/8083.png</td>\n",
              "      <td>6</td>\n",
              "    </tr>\n",
              "    <tr>\n",
              "      <th>2</th>\n",
              "      <td>testing/6/559.png</td>\n",
              "      <td>6</td>\n",
              "    </tr>\n",
              "    <tr>\n",
              "      <th>3</th>\n",
              "      <td>testing/6/5481.png</td>\n",
              "      <td>6</td>\n",
              "    </tr>\n",
              "    <tr>\n",
              "      <th>4</th>\n",
              "      <td>testing/6/7409.png</td>\n",
              "      <td>6</td>\n",
              "    </tr>\n",
              "  </tbody>\n",
              "</table>\n",
              "</div>"
            ],
            "text/plain": [
              "                    x  y\n",
              "0  testing/6/7925.png  6\n",
              "1  testing/6/8083.png  6\n",
              "2   testing/6/559.png  6\n",
              "3  testing/6/5481.png  6\n",
              "4  testing/6/7409.png  6"
            ]
          },
          "metadata": {
            "tags": []
          },
          "execution_count": 181
        }
      ]
    },
    {
      "cell_type": "code",
      "metadata": {
        "id": "9J3GYepC2m7q",
        "colab_type": "code",
        "colab": {}
      },
      "source": [
        "labels = np.array(df_test['y'].values.tolist())"
      ],
      "execution_count": 0,
      "outputs": []
    },
    {
      "cell_type": "code",
      "metadata": {
        "id": "4WdyKPeS2nZ_",
        "colab_type": "code",
        "outputId": "934a32b3-5af5-4d40-feb0-817720527aad",
        "colab": {
          "base_uri": "https://localhost:8080/",
          "height": 35
        }
      },
      "source": [
        "res.shape, labels.shape"
      ],
      "execution_count": 0,
      "outputs": [
        {
          "output_type": "execute_result",
          "data": {
            "text/plain": [
              "((10000, 512), (10000,))"
            ]
          },
          "metadata": {
            "tags": []
          },
          "execution_count": 183
        }
      ]
    },
    {
      "cell_type": "code",
      "metadata": {
        "colab_type": "code",
        "id": "OZ_CJBHttDLL",
        "colab": {}
      },
      "source": [
        "#convert into tensor\n",
        "tensor_x = torch.from_numpy(res)\n",
        "tensor_y = torch.from_numpy(np.array(labels))"
      ],
      "execution_count": 0,
      "outputs": []
    },
    {
      "cell_type": "code",
      "metadata": {
        "colab_type": "code",
        "id": "t8N3FJb-tDLR",
        "colab": {}
      },
      "source": [
        "import torch.utils.data as utils\n",
        "\n",
        "my_dataset = utils.TensorDataset(tensor_x, tensor_y) # create your datset\n",
        "my_dataloader = utils.DataLoader(my_dataset) # create your dataloader"
      ],
      "execution_count": 0,
      "outputs": []
    },
    {
      "cell_type": "code",
      "metadata": {
        "colab_type": "code",
        "id": "jTPw7o2rtDLc",
        "colab": {}
      },
      "source": [
        "import torch\n",
        "import torch.nn as nn\n",
        "import torch.optim as optim\n",
        "import torch.nn.functional as F\n",
        "\n",
        "\n",
        "net = nn.Sequential(nn.Linear(512, 64),\n",
        "                    nn.ReLU(),\n",
        "                    nn.Linear(64, 10))\n",
        "\n",
        "criterion = nn.CrossEntropyLoss()\n",
        "optimizer = optim.Adam(net.parameters())\n",
        "\n",
        "net = net.cuda()"
      ],
      "execution_count": 0,
      "outputs": []
    },
    {
      "cell_type": "code",
      "metadata": {
        "colab_type": "code",
        "outputId": "ea3ff3c4-8836-4254-95e3-c70f85e6bf43",
        "id": "VssYmT7BtDLi",
        "colab": {
          "base_uri": "https://localhost:8080/",
          "height": 214
        }
      },
      "source": [
        "for epoch in range(10):  # loop over the dataset multiple times\n",
        "    \n",
        "    correct = 0.0\n",
        "    running_loss = 0.0\n",
        "    total = 0.0\n",
        "    for i, my_data in enumerate(my_dataloader, 0):\n",
        "        # get the inputs\n",
        "        inp, lbl = my_data\n",
        "        inp = inp.cuda()\n",
        "        lbl = lbl.cuda()\n",
        "\n",
        "        # zero the parameter gradients\n",
        "        optimizer.zero_grad()\n",
        "\n",
        "        # forward + backward + optimize\n",
        "        outputs = net(inp)\n",
        "        loss = criterion(outputs, lbl)\n",
        "        loss.backward()\n",
        "        optimizer.step()\n",
        "    \n",
        "        _, predicted = torch.max(outputs, 1)\n",
        "        correct += (predicted == lbl).sum().item()\n",
        "        total += lbl.size(0)\n",
        "        \n",
        "        # print statistics\n",
        "        running_loss += loss.item()\n",
        "        if i % 10000 == 9999:    # print every 2000 mini-batches\n",
        "            print('Epoch :%d, loss: %.3f Acc: %.2f' %\n",
        "                  (epoch + 1, running_loss / 10000, correct/total))\n",
        "            running_loss = 0.0\n",
        "\n",
        "print('Finished Training')"
      ],
      "execution_count": 0,
      "outputs": [
        {
          "output_type": "stream",
          "text": [
            "Epoch :1, loss: 0.205 Acc: 0.96\n",
            "Epoch :2, loss: 0.020 Acc: 0.99\n",
            "Epoch :3, loss: 0.006 Acc: 1.00\n",
            "Epoch :4, loss: 0.006 Acc: 1.00\n",
            "Epoch :5, loss: 0.007 Acc: 1.00\n",
            "Epoch :6, loss: 0.006 Acc: 1.00\n",
            "Epoch :7, loss: 0.007 Acc: 1.00\n",
            "Epoch :8, loss: 0.006 Acc: 1.00\n",
            "Epoch :9, loss: 0.008 Acc: 1.00\n",
            "Epoch :10, loss: 0.008 Acc: 1.00\n",
            "Finished Training\n"
          ],
          "name": "stdout"
        }
      ]
    },
    {
      "cell_type": "code",
      "metadata": {
        "colab_type": "code",
        "id": "rC7vDsqUtDLx",
        "colab": {}
      },
      "source": [
        "import pandas as pd\n",
        "import seaborn as sns\n",
        "import matplotlib.patheffects as PathEffects\n",
        "from sklearn.manifold import TSNE\n",
        "import random\n",
        "import matplotlib.pyplot as plt\n",
        "%matplotlib inline\n",
        "\n",
        "# Define our own plot function\n",
        "def scatter(x, labels, subtitle=None):\n",
        "    # We choose a color palette with seaborn.\n",
        "    palette = np.array(sns.color_palette(\"hls\", 10))\n",
        "\n",
        "    # We create a scatter plot.\n",
        "    f = plt.figure(figsize=(8, 8))\n",
        "    ax = plt.subplot(aspect='equal')\n",
        "    sc = ax.scatter(x[:,0], x[:,1], lw=0, s=40,\n",
        "                    c=palette[labels.astype(np.int)])\n",
        "    plt.xlim(-25, 25)\n",
        "    plt.ylim(-25, 25)\n",
        "    ax.axis('off')\n",
        "    ax.axis('tight')\n",
        "\n",
        "    # We add the labels for each digit.\n",
        "    txts = []\n",
        "    for i in range(10):\n",
        "        # Position of each label.\n",
        "        xtext, ytext = np.median(x[labels == i, :], axis=0)\n",
        "        txt = ax.text(xtext, ytext, str(i), fontsize=24)\n",
        "        txt.set_path_effects([\n",
        "            PathEffects.Stroke(linewidth=5, foreground=\"w\"),\n",
        "            PathEffects.Normal()])\n",
        "        txts.append(txt)\n",
        "        \n",
        "    if subtitle != None:\n",
        "        plt.suptitle(subtitle)\n",
        "        \n",
        "    plt.savefig(subtitle)"
      ],
      "execution_count": 0,
      "outputs": []
    },
    {
      "cell_type": "code",
      "metadata": {
        "id": "gAoW25mODY2-",
        "colab_type": "code",
        "colab": {}
      },
      "source": [
        "rnd_index = random.sample(range(0, 10000), 1000)"
      ],
      "execution_count": 0,
      "outputs": []
    },
    {
      "cell_type": "code",
      "metadata": {
        "colab_type": "code",
        "outputId": "b65ea75b-fcac-457a-87f4-7b9cf256679d",
        "id": "GQu0L6zUtDME",
        "colab": {
          "base_uri": "https://localhost:8080/",
          "height": 540
        }
      },
      "source": [
        "tsne = TSNE()\n",
        "train_tsne_embeds = tsne.fit_transform(res[rnd_index])\n",
        "scatter(train_tsne_embeds, np.array(labels)[rnd_index], \"500 Samples from Training Data\")"
      ],
      "execution_count": 0,
      "outputs": [
        {
          "output_type": "display_data",
          "data": {
            "image/png": "[encoded data removed]",
            "text/plain": [
              "<Figure size 576x576 with 1 Axes>"
            ]
          },
          "metadata": {
            "tags": []
          }
        }
      ]
    },
    {
      "cell_type": "code",
      "metadata": {
        "colab_type": "code",
        "outputId": "e41e5126-25f3-43d3-f2cf-b5e3e169f9a9",
        "id": "GHYe0WieD6t9",
        "colab": {
          "base_uri": "https://localhost:8080/",
          "height": 35
        }
      },
      "source": [
        "import pandas as pd\n",
        "import seaborn as sns\n",
        "from sklearn.manifold import TSNE\n",
        "\n",
        "l = np.array(labels[rnd_index])\n",
        "l[:5]"
      ],
      "execution_count": 0,
      "outputs": [
        {
          "output_type": "execute_result",
          "data": {
            "text/plain": [
              "array([0, 2, 0, 7, 7])"
            ]
          },
          "metadata": {
            "tags": []
          },
          "execution_count": 198
        }
      ]
    },
    {
      "cell_type": "code",
      "metadata": {
        "colab_type": "code",
        "id": "YOj6TfnID6CX",
        "colab": {}
      },
      "source": [
        "preds = res[rnd_index]\n",
        "preds_trans = TSNE().fit_transform(preds)"
      ],
      "execution_count": 0,
      "outputs": []
    },
    {
      "cell_type": "code",
      "metadata": {
        "colab_type": "code",
        "id": "nQDz48BptDMz",
        "colab": {}
      },
      "source": [
        "preds_df = pd.DataFrame(np.concatenate((preds_trans, l[:, None]), axis=1), columns=['x','y','labels'])"
      ],
      "execution_count": 0,
      "outputs": []
    },
    {
      "cell_type": "code",
      "metadata": {
        "colab_type": "code",
        "outputId": "36862e9a-b03d-474a-a618-86ded56cb1b8",
        "id": "dl1RTasztDM5",
        "colab": {
          "base_uri": "https://localhost:8080/",
          "height": 206
        }
      },
      "source": [
        "preds_df.head()"
      ],
      "execution_count": 0,
      "outputs": [
        {
          "output_type": "execute_result",
          "data": {
            "text/html": [
              "<div>\n",
              "<style scoped>\n",
              "    .dataframe tbody tr th:only-of-type {\n",
              "        vertical-align: middle;\n",
              "    }\n",
              "\n",
              "    .dataframe tbody tr th {\n",
              "        vertical-align: top;\n",
              "    }\n",
              "\n",
              "    .dataframe thead th {\n",
              "        text-align: right;\n",
              "    }\n",
              "</style>\n",
              "<table border=\"1\" class=\"dataframe\">\n",
              "  <thead>\n",
              "    <tr style=\"text-align: right;\">\n",
              "      <th></th>\n",
              "      <th>x</th>\n",
              "      <th>y</th>\n",
              "      <th>labels</th>\n",
              "    </tr>\n",
              "  </thead>\n",
              "  <tbody>\n",
              "    <tr>\n",
              "      <th>0</th>\n",
              "      <td>-5.754615</td>\n",
              "      <td>-9.986732</td>\n",
              "      <td>0.0</td>\n",
              "    </tr>\n",
              "    <tr>\n",
              "      <th>1</th>\n",
              "      <td>-23.744156</td>\n",
              "      <td>-23.395639</td>\n",
              "      <td>2.0</td>\n",
              "    </tr>\n",
              "    <tr>\n",
              "      <th>2</th>\n",
              "      <td>-5.264265</td>\n",
              "      <td>-10.759423</td>\n",
              "      <td>0.0</td>\n",
              "    </tr>\n",
              "    <tr>\n",
              "      <th>3</th>\n",
              "      <td>6.177976</td>\n",
              "      <td>6.828172</td>\n",
              "      <td>7.0</td>\n",
              "    </tr>\n",
              "    <tr>\n",
              "      <th>4</th>\n",
              "      <td>5.337191</td>\n",
              "      <td>3.906974</td>\n",
              "      <td>7.0</td>\n",
              "    </tr>\n",
              "  </tbody>\n",
              "</table>\n",
              "</div>"
            ],
            "text/plain": [
              "           x          y  labels\n",
              "0  -5.754615  -9.986732     0.0\n",
              "1 -23.744156 -23.395639     2.0\n",
              "2  -5.264265 -10.759423     0.0\n",
              "3   6.177976   6.828172     7.0\n",
              "4   5.337191   3.906974     7.0"
            ]
          },
          "metadata": {
            "tags": []
          },
          "execution_count": 202
        }
      ]
    },
    {
      "cell_type": "code",
      "metadata": {
        "colab_type": "code",
        "outputId": "a704437d-4d3f-4151-dc51-924a954d9aef",
        "id": "Rombl7n0tDNG",
        "colab": {
          "base_uri": "https://localhost:8080/",
          "height": 729
        }
      },
      "source": [
        "sns.lmplot('x', 'y', data=preds_df, hue='labels', fit_reg=False, legend=False, height=10)\n",
        "plt.grid(visible=False)"
      ],
      "execution_count": 0,
      "outputs": [
        {
          "output_type": "display_data",
          "data": {
            "image/png": "[encoded data removed]",
            "text/plain": [
              "<Figure size 720x720 with 1 Axes>"
            ]
          },
          "metadata": {
            "tags": []
          }
        }
      ]
    },
    {
      "cell_type": "code",
      "metadata": {
        "colab_type": "code",
        "id": "jl_riaCFtDNW",
        "colab": {}
      },
      "source": [
        ""
      ],
      "execution_count": 0,
      "outputs": []
    }
  ]
}