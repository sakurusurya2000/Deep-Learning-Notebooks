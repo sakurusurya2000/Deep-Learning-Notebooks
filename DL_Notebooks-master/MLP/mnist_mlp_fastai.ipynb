{
  "nbformat": 4,
  "nbformat_minor": 0,
  "metadata": {
    "colab": {
      "name": "mnist_mlp_fastai.ipynb",
      "version": "0.3.2",
      "provenance": [],
      "collapsed_sections": [
        "ohv0ha9HPlIg"
      ]
    },
    "kernelspec": {
      "name": "python3",
      "display_name": "Python 3"
    },
    "accelerator": "GPU"
  },
  "cells": [
    {
      "metadata": {
        "id": "k8kAWGuCOyZ2",
        "colab_type": "text"
      },
      "cell_type": "markdown",
      "source": [
        "# MLP\n",
        "\n",
        "In this notebook, we will go through basics of MLP using MNIST dataset. \n",
        "\n",
        "Here we will use [fastai](https://github.com/fastai/fastai/  \"fastai's Tutorial\").\n",
        "\n",
        "Everything is explained in-detail in [blog post](https://dudeperf3ct.github.io/mlp/mnist/2018/10/08/Force-of-Multi-Layer-Perceptron/). This is notebook which replicates the result of blog and runs in colab. Enjoy!\n",
        "\n",
        "\n",
        "#### Run in Colab\n",
        "\n",
        "You can run this notebook in google colab.\n",
        "\n",
        "[![Open In Colab](https://colab.research.google.com/assets/colab-badge.svg)](https://colab.research.google.com/github/dudeperf3ct/DL_notebooks/blob/master/MLP/mnist_mlp_fastai.ipynb)"
      ]
    },
    {
      "metadata": {
        "id": "ohv0ha9HPlIg",
        "colab_type": "text"
      },
      "cell_type": "markdown",
      "source": [
        "### Install Dependecies"
      ]
    },
    {
      "metadata": {
        "id": "sYbFG141PMxI",
        "colab_type": "code",
        "outputId": "eff2e7c9-2dc9-42ea-c9fb-69f3a8f22a41",
        "colab": {
          "base_uri": "https://localhost:8080/",
          "height": 0
        }
      },
      "cell_type": "code",
      "source": [
        "!pip install --upgrade torch torchvision fastai numpy"
      ],
      "execution_count": 1,
      "outputs": [
        {
          "output_type": "stream",
          "text": [
            "Requirement already up-to-date: torch in /usr/local/lib/python3.6/dist-packages (1.0.0)\n",
            "Requirement already up-to-date: torchvision in /usr/local/lib/python3.6/dist-packages (0.2.1)\n",
            "Requirement already up-to-date: fastai in /usr/local/lib/python3.6/dist-packages (1.0.37)\n",
            "Requirement already up-to-date: numpy in /usr/local/lib/python3.6/dist-packages (1.15.4)\n",
            "Requirement already satisfied, skipping upgrade: six in /usr/local/lib/python3.6/dist-packages (from torchvision) (1.11.0)\n",
            "Requirement already satisfied, skipping upgrade: pillow>=4.1.1 in /usr/local/lib/python3.6/dist-packages (from torchvision) (5.3.0)\n",
            "Requirement already satisfied, skipping upgrade: requests in /usr/local/lib/python3.6/dist-packages (from fastai) (2.18.4)\n",
            "Requirement already satisfied, skipping upgrade: dataclasses; python_version < \"3.7\" in /usr/local/lib/python3.6/dist-packages (from fastai) (0.6)\n",
            "Requirement already satisfied, skipping upgrade: matplotlib in /usr/local/lib/python3.6/dist-packages (from fastai) (2.1.2)\n",
            "Requirement already satisfied, skipping upgrade: cymem in /usr/local/lib/python3.6/dist-packages (from fastai) (2.0.2)\n",
            "Requirement already satisfied, skipping upgrade: bottleneck in /usr/local/lib/python3.6/dist-packages (from fastai) (1.2.1)\n",
            "Requirement already satisfied, skipping upgrade: spacy==2.0.16 in /usr/local/lib/python3.6/dist-packages (from fastai) (2.0.16)\n",
            "Requirement already satisfied, skipping upgrade: pandas in /usr/local/lib/python3.6/dist-packages (from fastai) (0.22.0)\n",
            "Requirement already satisfied, skipping upgrade: pyyaml in /usr/local/lib/python3.6/dist-packages (from fastai) (3.13)\n",
            "Requirement already satisfied, skipping upgrade: numexpr in /usr/local/lib/python3.6/dist-packages (from fastai) (2.6.8)\n",
            "Requirement already satisfied, skipping upgrade: thinc==6.12.0 in /usr/local/lib/python3.6/dist-packages (from fastai) (6.12.0)\n",
            "Requirement already satisfied, skipping upgrade: scipy in /usr/local/lib/python3.6/dist-packages (from fastai) (1.1.0)\n",
            "Requirement already satisfied, skipping upgrade: regex==2018.01.10 in /usr/local/lib/python3.6/dist-packages (from fastai) (2018.1.10)\n",
            "Requirement already satisfied, skipping upgrade: typing in /usr/local/lib/python3.6/dist-packages (from fastai) (3.6.6)\n",
            "Requirement already satisfied, skipping upgrade: fastprogress>=0.1.18 in /usr/local/lib/python3.6/dist-packages (from fastai) (0.1.18)\n",
            "Requirement already satisfied, skipping upgrade: urllib3<1.23,>=1.21.1 in /usr/local/lib/python3.6/dist-packages (from requests->fastai) (1.22)\n",
            "Requirement already satisfied, skipping upgrade: chardet<3.1.0,>=3.0.2 in /usr/local/lib/python3.6/dist-packages (from requests->fastai) (3.0.4)\n",
            "Requirement already satisfied, skipping upgrade: certifi>=2017.4.17 in /usr/local/lib/python3.6/dist-packages (from requests->fastai) (2018.11.29)\n",
            "Requirement already satisfied, skipping upgrade: idna<2.7,>=2.5 in /usr/local/lib/python3.6/dist-packages (from requests->fastai) (2.6)\n",
            "Requirement already satisfied, skipping upgrade: pytz in /usr/local/lib/python3.6/dist-packages (from matplotlib->fastai) (2018.7)\n",
            "Requirement already satisfied, skipping upgrade: pyparsing!=2.0.4,!=2.1.2,!=2.1.6,>=2.0.1 in /usr/local/lib/python3.6/dist-packages (from matplotlib->fastai) (2.3.0)\n",
            "Requirement already satisfied, skipping upgrade: python-dateutil>=2.1 in /usr/local/lib/python3.6/dist-packages (from matplotlib->fastai) (2.5.3)\n",
            "Requirement already satisfied, skipping upgrade: cycler>=0.10 in /usr/local/lib/python3.6/dist-packages (from matplotlib->fastai) (0.10.0)\n",
            "Requirement already satisfied, skipping upgrade: murmurhash<1.1.0,>=0.28.0 in /usr/local/lib/python3.6/dist-packages (from spacy==2.0.16->fastai) (1.0.1)\n",
            "Requirement already satisfied, skipping upgrade: plac<1.0.0,>=0.9.6 in /usr/local/lib/python3.6/dist-packages (from spacy==2.0.16->fastai) (0.9.6)\n",
            "Requirement already satisfied, skipping upgrade: dill<0.3,>=0.2 in /usr/local/lib/python3.6/dist-packages (from spacy==2.0.16->fastai) (0.2.8.2)\n",
            "Requirement already satisfied, skipping upgrade: ujson>=1.35 in /usr/local/lib/python3.6/dist-packages (from spacy==2.0.16->fastai) (1.35)\n",
            "Requirement already satisfied, skipping upgrade: msgpack-numpy<0.4.4 in /usr/local/lib/python3.6/dist-packages (from spacy==2.0.16->fastai) (0.4.3.2)\n",
            "Requirement already satisfied, skipping upgrade: preshed<2.1.0,>=2.0.1 in /usr/local/lib/python3.6/dist-packages (from spacy==2.0.16->fastai) (2.0.1)\n",
            "Requirement already satisfied, skipping upgrade: cytoolz<0.10,>=0.9.0 in /usr/local/lib/python3.6/dist-packages (from thinc==6.12.0->fastai) (0.9.0.1)\n",
            "Requirement already satisfied, skipping upgrade: tqdm<5.0.0,>=4.10.0 in /usr/local/lib/python3.6/dist-packages (from thinc==6.12.0->fastai) (4.28.1)\n",
            "Requirement already satisfied, skipping upgrade: wrapt<1.11.0,>=1.10.0 in /usr/local/lib/python3.6/dist-packages (from thinc==6.12.0->fastai) (1.10.11)\n",
            "Requirement already satisfied, skipping upgrade: msgpack<1.0.0,>=0.5.6 in /usr/local/lib/python3.6/dist-packages (from thinc==6.12.0->fastai) (0.6.0)\n",
            "Requirement already satisfied, skipping upgrade: toolz>=0.8.0 in /usr/local/lib/python3.6/dist-packages (from cytoolz<0.10,>=0.9.0->thinc==6.12.0->fastai) (0.9.0)\n"
          ],
          "name": "stdout"
        }
      ]
    },
    {
      "metadata": {
        "id": "pSNTqNYBPtJx",
        "colab_type": "text"
      },
      "cell_type": "markdown",
      "source": [
        "# Fastai"
      ]
    },
    {
      "metadata": {
        "id": "hM0JdnO9OyZ_",
        "colab_type": "code",
        "outputId": "a0286926-0181-40ca-f2ad-2e4849f8368b",
        "colab": {
          "base_uri": "https://localhost:8080/",
          "height": 35
        }
      },
      "cell_type": "code",
      "source": [
        "# load all the required libraries\n",
        "from fastai import *\n",
        "from fastai.vision import *\n",
        "\n",
        "device = 'cuda:0' if torch.cuda.is_available() else 'cpu'\n",
        "print (device)\n",
        "\n",
        "defaults.cmap = 'gray'"
      ],
      "execution_count": 2,
      "outputs": [
        {
          "output_type": "stream",
          "text": [
            "cuda:0\n"
          ],
          "name": "stdout"
        }
      ]
    },
    {
      "metadata": {
        "id": "7emIIhDHOyaT",
        "colab_type": "text"
      },
      "cell_type": "markdown",
      "source": [
        "## MNIST Dataset\n",
        "\n",
        "\n",
        " \n",
        "The [MNIST dataset](http://yann.lecun.com/exdb/mnist/) of handwritten digits has a training set of 60,000 examples, and a test set of 10,000 examples each of size 28 x 28 pixels. The digits have been size-normalized and centered in a fixed-size image.\n",
        "\n",
        "It is a good database for people who want to try learning techniques and pattern recognition methods on real-world data while spending minimal efforts on preprocessing and formatting. \n",
        "\n",
        "Here is one example from dataset\n",
        "\n",
        "\n"
      ]
    },
    {
      "metadata": {
        "id": "5DsOxR4OOyaY",
        "colab_type": "code",
        "outputId": "20982a03-75ce-4c0c-cfef-5503a5e437be",
        "colab": {
          "base_uri": "https://localhost:8080/",
          "height": 35
        }
      },
      "cell_type": "code",
      "source": [
        "# batch size\n",
        "bs = 64\n",
        "\n",
        "# transform the data\n",
        "tfms = get_transforms(do_flip=False)\n",
        "\n",
        "# load mnist data\n",
        "path = untar_data(URLs.MNIST)\n",
        "path"
      ],
      "execution_count": 3,
      "outputs": [
        {
          "output_type": "execute_result",
          "data": {
            "text/plain": [
              "PosixPath('/root/.fastai/data/mnist_png')"
            ]
          },
          "metadata": {
            "tags": []
          },
          "execution_count": 3
        }
      ]
    },
    {
      "metadata": {
        "id": "TZlFRNZ7YvWn",
        "colab_type": "code",
        "outputId": "1b75d131-7a86-4d94-ca65-81f682ef8ade",
        "colab": {
          "base_uri": "https://localhost:8080/",
          "height": 384
        }
      },
      "cell_type": "code",
      "source": [
        "(path/'training').ls(), (path/'testing').ls()"
      ],
      "execution_count": 4,
      "outputs": [
        {
          "output_type": "execute_result",
          "data": {
            "text/plain": [
              "([PosixPath('/root/.fastai/data/mnist_png/training/7'),\n",
              "  PosixPath('/root/.fastai/data/mnist_png/training/1'),\n",
              "  PosixPath('/root/.fastai/data/mnist_png/training/3'),\n",
              "  PosixPath('/root/.fastai/data/mnist_png/training/2'),\n",
              "  PosixPath('/root/.fastai/data/mnist_png/training/9'),\n",
              "  PosixPath('/root/.fastai/data/mnist_png/training/5'),\n",
              "  PosixPath('/root/.fastai/data/mnist_png/training/0'),\n",
              "  PosixPath('/root/.fastai/data/mnist_png/training/8'),\n",
              "  PosixPath('/root/.fastai/data/mnist_png/training/4'),\n",
              "  PosixPath('/root/.fastai/data/mnist_png/training/6')],\n",
              " [PosixPath('/root/.fastai/data/mnist_png/testing/7'),\n",
              "  PosixPath('/root/.fastai/data/mnist_png/testing/1'),\n",
              "  PosixPath('/root/.fastai/data/mnist_png/testing/3'),\n",
              "  PosixPath('/root/.fastai/data/mnist_png/testing/2'),\n",
              "  PosixPath('/root/.fastai/data/mnist_png/testing/9'),\n",
              "  PosixPath('/root/.fastai/data/mnist_png/testing/5'),\n",
              "  PosixPath('/root/.fastai/data/mnist_png/testing/0'),\n",
              "  PosixPath('/root/.fastai/data/mnist_png/testing/8'),\n",
              "  PosixPath('/root/.fastai/data/mnist_png/testing/4'),\n",
              "  PosixPath('/root/.fastai/data/mnist_png/testing/6')])"
            ]
          },
          "metadata": {
            "tags": []
          },
          "execution_count": 4
        }
      ]
    },
    {
      "metadata": {
        "id": "EJVQ3vVmYslH",
        "colab_type": "code",
        "colab": {}
      },
      "cell_type": "code",
      "source": [
        "# create databunch\n",
        "\n",
        "data = (ImageItemList.from_folder(path, convert_mode='L') #Where to find the data? -> in path and its subfolders\n",
        "        .random_split_by_pct()       #How to split it? Randomly with the default 20%\n",
        "        .label_from_folder()            #How to label? -> depending on the folder of the filenames\n",
        "        .add_test_folder('testing')              #Optionally add a test set (here default name is test)\n",
        "        .transform(tfms, size=28)                #Data augmentation? -> use tfms with a size of 28\n",
        "        .databunch()                   #Finally? -> use the defaults for conversion to ImageDataBunch\n",
        "        .normalize())                   "
      ],
      "execution_count": 0,
      "outputs": []
    },
    {
      "metadata": {
        "id": "Diz9XarTZZov",
        "colab_type": "code",
        "outputId": "74bbe687-723c-4e23-dc6d-57a52824c7e5",
        "colab": {
          "base_uri": "https://localhost:8080/",
          "height": 365
        }
      },
      "cell_type": "code",
      "source": [
        "data.show_batch(rows=3, figsize=(5,5))"
      ],
      "execution_count": 6,
      "outputs": [
        {
          "output_type": "display_data",
          "data": {
            "image/png": "[encoded data removed]",
            "text/plain": [
              "<matplotlib.figure.Figure at 0x7ff8060c7828>"
            ]
          },
          "metadata": {
            "tags": []
          }
        }
      ]
    },
    {
      "metadata": {
        "id": "YWgRM93xaJP6",
        "colab_type": "code",
        "outputId": "3f0a5329-a21e-478e-e439-c70c22f30974",
        "colab": {
          "base_uri": "https://localhost:8080/",
          "height": 54
        }
      },
      "cell_type": "code",
      "source": [
        "print(data.classes)\n",
        "len(data.classes),data.c"
      ],
      "execution_count": 7,
      "outputs": [
        {
          "output_type": "stream",
          "text": [
            "['0', '1', '2', '3', '4', '5', '6', '7', '8', '9']\n"
          ],
          "name": "stdout"
        },
        {
          "output_type": "execute_result",
          "data": {
            "text/plain": [
              "(10, 10)"
            ]
          },
          "metadata": {
            "tags": []
          },
          "execution_count": 7
        }
      ]
    },
    {
      "metadata": {
        "id": "OWQnpltOPojd",
        "colab_type": "code",
        "colab": {}
      },
      "cell_type": "code",
      "source": [
        "class mnist_model(nn.Module):\n",
        "  \n",
        "  def __init__(self):\n",
        "    super().__init__()\n",
        "    self.n_classes =  data.c\n",
        "    self.hidden = 150\n",
        "    self.linear1 = nn.Linear(784, self.hidden, bias=True)\n",
        "    self.linear2 = nn.Linear(self.hidden, self.n_classes, bias=True)\n",
        "    \n",
        "    \n",
        "  def forward(self, x):\n",
        "    x = x.view(-1, 28*28)\n",
        "    h1 = F.relu(self.linear1(x))\n",
        "    output = self.linear2(h1)\n",
        "    return output"
      ],
      "execution_count": 0,
      "outputs": []
    },
    {
      "metadata": {
        "id": "Fz5UpTR5REfI",
        "colab_type": "code",
        "colab": {
          "base_uri": "https://localhost:8080/",
          "height": 90
        },
        "outputId": "db528837-e54b-414f-8631-85c5ce1f7409"
      },
      "cell_type": "code",
      "source": [
        "model = mnist_model().to(device)\n",
        "print (model)\n",
        "loss_func = nn.CrossEntropyLoss()"
      ],
      "execution_count": 9,
      "outputs": [
        {
          "output_type": "stream",
          "text": [
            "mnist_model(\n",
            "  (linear1): Linear(in_features=784, out_features=150, bias=True)\n",
            "  (linear2): Linear(in_features=150, out_features=10, bias=True)\n",
            ")\n"
          ],
          "name": "stdout"
        }
      ]
    },
    {
      "metadata": {
        "id": "rJ9qsJgQOyeS",
        "colab_type": "code",
        "colab": {}
      },
      "cell_type": "code",
      "source": [
        "learn = Learner(data, mnist_model(), loss_func=loss_func, metrics=[error_rate, accuracy])"
      ],
      "execution_count": 0,
      "outputs": []
    },
    {
      "metadata": {
        "id": "VxQEigRVOyea",
        "colab_type": "code",
        "outputId": "5bbed7c9-dc2a-477f-e563-c31017020eaf",
        "colab": {
          "base_uri": "https://localhost:8080/",
          "height": 453
        }
      },
      "cell_type": "code",
      "source": [
        "learn.lr_find()\n",
        "learn.recorder.plot()"
      ],
      "execution_count": 11,
      "outputs": [
        {
          "output_type": "display_data",
          "data": {
            "text/html": [
              "\n",
              "    <div>\n",
              "        <style>\n",
              "            /* Turns off some styling */\n",
              "            progress {\n",
              "                /* gets rid of default border in Firefox and Opera. */\n",
              "                border: none;\n",
              "                /* Needs to be in here for Safari polyfill so background images work as expected. */\n",
              "                background-size: auto;\n",
              "            }\n",
              "            .progress-bar-interrupted, .progress-bar-interrupted::-webkit-progress-bar {\n",
              "                background: #F44336;\n",
              "            }\n",
              "        </style>\n",
              "      <progress value='0' class='' max='1', style='width:300px; height:20px; vertical-align: middle;'></progress>\n",
              "      0.00% [0/1 00:00<00:00]\n",
              "    </div>\n",
              "    \n",
              "<table style='width:375px; margin-bottom:10px'>\n",
              "  <tr>\n",
              "    <th>epoch</th>\n",
              "    <th>train_loss</th>\n",
              "    <th>valid_loss</th>\n",
              "    <th>error_rate</th>\n",
              "    <th>accuracy</th>\n",
              "  </tr>\n",
              "</table>\n",
              "\n",
              "\n",
              "    <div>\n",
              "        <style>\n",
              "            /* Turns off some styling */\n",
              "            progress {\n",
              "                /* gets rid of default border in Firefox and Opera. */\n",
              "                border: none;\n",
              "                /* Needs to be in here for Safari polyfill so background images work as expected. */\n",
              "                background-size: auto;\n",
              "            }\n",
              "            .progress-bar-interrupted, .progress-bar-interrupted::-webkit-progress-bar {\n",
              "                background: #F44336;\n",
              "            }\n",
              "        </style>\n",
              "      <progress value='0' class='progress-bar-interrupted' max='875', style='width:300px; height:20px; vertical-align: middle;'></progress>\n",
              "      Interrupted\n",
              "    </div>\n",
              "    "
            ],
            "text/plain": [
              "<IPython.core.display.HTML object>"
            ]
          },
          "metadata": {
            "tags": []
          }
        },
        {
          "output_type": "stream",
          "text": [
            "LR Finder is complete, type {learner_name}.recorder.plot() to see the graph.\n"
          ],
          "name": "stdout"
        },
        {
          "output_type": "display_data",
          "data": {
            "image/png": "[encoded data removed]",
            "text/plain": [
              "<matplotlib.figure.Figure at 0x7ff8047356d8>"
            ]
          },
          "metadata": {
            "tags": []
          }
        }
      ]
    },
    {
      "metadata": {
        "id": "74PJ96rQOyer",
        "colab_type": "code",
        "outputId": "ab217257-2ee2-4910-bf02-aa63503f0a85",
        "colab": {
          "base_uri": "https://localhost:8080/",
          "height": 181
        }
      },
      "cell_type": "code",
      "source": [
        "learn.fit_one_cycle(5, 1e-2)"
      ],
      "execution_count": 12,
      "outputs": [
        {
          "output_type": "display_data",
          "data": {
            "text/html": [
              "Total time: 07:20 <p><table style='width:375px; margin-bottom:10px'>\n",
              "  <tr>\n",
              "    <th>epoch</th>\n",
              "    <th>train_loss</th>\n",
              "    <th>valid_loss</th>\n",
              "    <th>error_rate</th>\n",
              "    <th>accuracy</th>\n",
              "  </tr>\n",
              "  <tr>\n",
              "    <th>1</th>\n",
              "    <th>0.453305</th>\n",
              "    <th>0.277082</th>\n",
              "    <th>0.083286</th>\n",
              "    <th>0.916714</th>\n",
              "  </tr>\n",
              "  <tr>\n",
              "    <th>2</th>\n",
              "    <th>0.501641</th>\n",
              "    <th>0.288107</th>\n",
              "    <th>0.086214</th>\n",
              "    <th>0.913786</th>\n",
              "  </tr>\n",
              "  <tr>\n",
              "    <th>3</th>\n",
              "    <th>0.364740</th>\n",
              "    <th>0.194725</th>\n",
              "    <th>0.059500</th>\n",
              "    <th>0.940500</th>\n",
              "  </tr>\n",
              "  <tr>\n",
              "    <th>4</th>\n",
              "    <th>0.254852</th>\n",
              "    <th>0.121299</th>\n",
              "    <th>0.037500</th>\n",
              "    <th>0.962500</th>\n",
              "  </tr>\n",
              "  <tr>\n",
              "    <th>5</th>\n",
              "    <th>0.178972</th>\n",
              "    <th>0.097190</th>\n",
              "    <th>0.029857</th>\n",
              "    <th>0.970143</th>\n",
              "  </tr>\n",
              "</table>\n"
            ],
            "text/plain": [
              "<IPython.core.display.HTML object>"
            ]
          },
          "metadata": {
            "tags": []
          }
        }
      ]
    },
    {
      "metadata": {
        "id": "7ujkrOs3Oye6",
        "colab_type": "code",
        "colab": {
          "base_uri": "https://localhost:8080/",
          "height": 361
        },
        "outputId": "fda178b8-f6c8-4ed1-ce3d-c7fdeb0b775f"
      },
      "cell_type": "code",
      "source": [
        "learn.recorder.plot_losses()"
      ],
      "execution_count": 13,
      "outputs": [
        {
          "output_type": "display_data",
          "data": {
            "image/png": "[encoded data removed]",
            "text/plain": [
              "<matplotlib.figure.Figure at 0x7ff884fdb828>"
            ]
          },
          "metadata": {
            "tags": []
          }
        }
      ]
    },
    {
      "metadata": {
        "id": "uyrd1qqLXzNd",
        "colab_type": "text"
      },
      "cell_type": "markdown",
      "source": [
        "# Results"
      ]
    },
    {
      "metadata": {
        "id": "xWMHBgjcOyfD",
        "colab_type": "code",
        "colab": {}
      },
      "cell_type": "code",
      "source": [
        "interp = ClassificationInterpretation.from_learner(learn)\n",
        "\n",
        "losses,idxs = interp.top_losses()"
      ],
      "execution_count": 0,
      "outputs": []
    },
    {
      "metadata": {
        "id": "kpPyS51fRVlT",
        "colab_type": "code",
        "colab": {
          "base_uri": "https://localhost:8080/",
          "height": 356
        },
        "outputId": "76335fc9-ba70-486f-c99f-520cd17c43e6"
      },
      "cell_type": "code",
      "source": [
        "\n",
        "interp.plot_top_losses(9, figsize=(5, 5))"
      ],
      "execution_count": 15,
      "outputs": [
        {
          "output_type": "display_data",
          "data": {
            "image/png": "[encoded data removed]",
            "text/plain": [
              "<matplotlib.figure.Figure at 0x7ff8025225f8>"
            ]
          },
          "metadata": {
            "tags": []
          }
        }
      ]
    },
    {
      "metadata": {
        "id": "ZFaXYCHAQFVO",
        "colab_type": "code",
        "colab": {
          "base_uri": "https://localhost:8080/",
          "height": 394
        },
        "outputId": "24ebe655-a4f6-4656-98ee-db76083e1ff3"
      },
      "cell_type": "code",
      "source": [
        "interp.plot_confusion_matrix(figsize=(5, 7))"
      ],
      "execution_count": 16,
      "outputs": [
        {
          "output_type": "display_data",
          "data": {
            "image/png": "[encoded data removed]",
            "text/plain": [
              "<matplotlib.figure.Figure at 0x7ff801382208>"
            ]
          },
          "metadata": {
            "tags": []
          }
        }
      ]
    },
    {
      "metadata": {
        "id": "_V3EY9-AWhQg",
        "colab_type": "code",
        "outputId": "610026a7-cae5-439f-c5b4-6ee4c41d5d97",
        "colab": {
          "base_uri": "https://localhost:8080/",
          "height": 844
        }
      },
      "cell_type": "code",
      "source": [
        "interp.most_confused(min_val=2)"
      ],
      "execution_count": 17,
      "outputs": [
        {
          "output_type": "execute_result",
          "data": {
            "text/plain": [
              "[('4', '9', 33),\n",
              " ('5', '3', 21),\n",
              " ('9', '3', 17),\n",
              " ('3', '5', 15),\n",
              " ('9', '4', 14),\n",
              " ('3', '2', 13),\n",
              " ('5', '8', 13),\n",
              " ('7', '9', 12),\n",
              " ('8', '1', 12),\n",
              " ('9', '7', 12),\n",
              " ('1', '2', 11),\n",
              " ('7', '2', 11),\n",
              " ('3', '8', 10),\n",
              " ('5', '6', 10),\n",
              " ('6', '8', 10),\n",
              " ('0', '8', 9),\n",
              " ('2', '8', 9),\n",
              " ('8', '9', 9),\n",
              " ('0', '6', 8),\n",
              " ('2', '7', 8),\n",
              " ('3', '9', 8),\n",
              " ('8', '5', 8),\n",
              " ('8', '6', 7),\n",
              " ('8', '7', 7),\n",
              " ('1', '3', 6),\n",
              " ('1', '8', 6),\n",
              " ('2', '1', 6),\n",
              " ('9', '5', 6),\n",
              " ('9', '8', 6),\n",
              " ('2', '3', 5),\n",
              " ('3', '7', 5),\n",
              " ('4', '6', 5),\n",
              " ('6', '0', 5),\n",
              " ('8', '2', 5),\n",
              " ('1', '4', 4),\n",
              " ('3', '1', 4),\n",
              " ('5', '0', 4),\n",
              " ('7', '1', 4),\n",
              " ('7', '4', 4),\n",
              " ('2', '4', 3),\n",
              " ('2', '9', 3),\n",
              " ('5', '2', 3),\n",
              " ('5', '7', 3),\n",
              " ('5', '9', 3),\n",
              " ('8', '0', 3)]"
            ]
          },
          "metadata": {
            "tags": []
          },
          "execution_count": 17
        }
      ]
    },
    {
      "metadata": {
        "id": "Wznuti18nNTG",
        "colab_type": "code",
        "colab": {}
      },
      "cell_type": "code",
      "source": [
        ""
      ],
      "execution_count": 0,
      "outputs": []
    }
  ]
}
