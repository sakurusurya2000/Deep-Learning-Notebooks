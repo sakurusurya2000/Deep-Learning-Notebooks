{
  "nbformat": 4,
  "nbformat_minor": 0,
  "metadata": {
    "colab": {
      "name": "mnist_cnn_fastai.ipynb",
      "version": "0.3.2",
      "provenance": [],
      "collapsed_sections": [
        "ohv0ha9HPlIg"
      ]
    },
    "kernelspec": {
      "name": "python3",
      "display_name": "Python 3"
    },
    "accelerator": "GPU"
  },
  "cells": [
    {
      "metadata": {
        "id": "k8kAWGuCOyZ2",
        "colab_type": "text"
      },
      "cell_type": "markdown",
      "source": [
        "# CNN\n",
        "\n",
        "In this notebook, we will go through basics of CNN using MNIST dataset.\n",
        "\n",
        "Here we will use [fastai](https://github.com/fastai/fastai/  \"fastai's Tutorial\").\n",
        "\n",
        "Everything is explained in-detail in [blog post](https://dudeperf3ct.github.io/cnn/mnist/2018/10/17/Force-of-Convolutional-Neural-Networks/). This is notebook which replicates the result of blog and runs in colab. Enjoy!\n",
        "\n",
        "\n",
        "#### Run in Colab\n",
        "\n",
        "You can run this notebook in google colab.\n",
        "\n",
        "[![Open In Colab](https://colab.research.google.com/assets/colab-badge.svg)](https://colab.research.google.com/github/dudeperf3ct/DL_notebooks/blob/master/CNN/mnist_cnn_fastai.ipynb)"
      ]
    },
    {
      "metadata": {
        "id": "ohv0ha9HPlIg",
        "colab_type": "text"
      },
      "cell_type": "markdown",
      "source": [
        "### Install Dependecies"
      ]
    },
    {
      "metadata": {
        "id": "sYbFG141PMxI",
        "colab_type": "code",
        "outputId": "c51a2576-93a0-40cc-9cf2-d96340d2473a",
        "colab": {
          "base_uri": "https://localhost:8080/",
          "height": 0
        }
      },
      "cell_type": "code",
      "source": [
        "!pip install --upgrade torch torchvision fastai numpy"
      ],
      "execution_count": 1,
      "outputs": [
        {
          "output_type": "stream",
          "text": [
            "Requirement already up-to-date: torch in /usr/local/lib/python3.6/dist-packages (1.0.0)\n",
            "Requirement already up-to-date: torchvision in /usr/local/lib/python3.6/dist-packages (0.2.1)\n",
            "Requirement already up-to-date: fastai in /usr/local/lib/python3.6/dist-packages (1.0.36)\n",
            "Requirement already up-to-date: numpy in /usr/local/lib/python3.6/dist-packages (1.15.4)\n",
            "Requirement already satisfied, skipping upgrade: pillow>=4.1.1 in /usr/local/lib/python3.6/dist-packages (from torchvision) (5.3.0)\n",
            "Requirement already satisfied, skipping upgrade: six in /usr/local/lib/python3.6/dist-packages (from torchvision) (1.11.0)\n",
            "Requirement already satisfied, skipping upgrade: thinc==6.12.0 in /usr/local/lib/python3.6/dist-packages (from fastai) (6.12.0)\n",
            "Requirement already satisfied, skipping upgrade: scipy in /usr/local/lib/python3.6/dist-packages (from fastai) (1.1.0)\n",
            "Requirement already satisfied, skipping upgrade: regex in /usr/local/lib/python3.6/dist-packages (from fastai) (2018.1.10)\n",
            "Requirement already satisfied, skipping upgrade: spacy==2.0.16 in /usr/local/lib/python3.6/dist-packages (from fastai) (2.0.16)\n",
            "Requirement already satisfied, skipping upgrade: bottleneck in /usr/local/lib/python3.6/dist-packages (from fastai) (1.2.1)\n",
            "Requirement already satisfied, skipping upgrade: matplotlib in /usr/local/lib/python3.6/dist-packages (from fastai) (2.1.2)\n",
            "Requirement already satisfied, skipping upgrade: requests in /usr/local/lib/python3.6/dist-packages (from fastai) (2.18.4)\n",
            "Requirement already satisfied, skipping upgrade: fastprogress>=0.1.18 in /usr/local/lib/python3.6/dist-packages (from fastai) (0.1.18)\n",
            "Requirement already satisfied, skipping upgrade: pyyaml in /usr/local/lib/python3.6/dist-packages (from fastai) (3.13)\n",
            "Requirement already satisfied, skipping upgrade: cymem in /usr/local/lib/python3.6/dist-packages (from fastai) (2.0.2)\n",
            "Requirement already satisfied, skipping upgrade: typing in /usr/local/lib/python3.6/dist-packages (from fastai) (3.6.6)\n",
            "Requirement already satisfied, skipping upgrade: dataclasses; python_version < \"3.7\" in /usr/local/lib/python3.6/dist-packages (from fastai) (0.6)\n",
            "Requirement already satisfied, skipping upgrade: numexpr in /usr/local/lib/python3.6/dist-packages (from fastai) (2.6.8)\n",
            "Requirement already satisfied, skipping upgrade: pandas in /usr/local/lib/python3.6/dist-packages (from fastai) (0.22.0)\n",
            "Requirement already satisfied, skipping upgrade: murmurhash<1.1.0,>=0.28.0 in /usr/local/lib/python3.6/dist-packages (from thinc==6.12.0->fastai) (1.0.1)\n",
            "Requirement already satisfied, skipping upgrade: plac<1.0.0,>=0.9.6 in /usr/local/lib/python3.6/dist-packages (from thinc==6.12.0->fastai) (0.9.6)\n",
            "Requirement already satisfied, skipping upgrade: preshed<3.0.0,>=2.0.1 in /usr/local/lib/python3.6/dist-packages (from thinc==6.12.0->fastai) (2.0.1)\n",
            "Requirement already satisfied, skipping upgrade: cytoolz<0.10,>=0.9.0 in /usr/local/lib/python3.6/dist-packages (from thinc==6.12.0->fastai) (0.9.0.1)\n",
            "Requirement already satisfied, skipping upgrade: tqdm<5.0.0,>=4.10.0 in /usr/local/lib/python3.6/dist-packages (from thinc==6.12.0->fastai) (4.28.1)\n",
            "Requirement already satisfied, skipping upgrade: msgpack-numpy<0.4.4.0 in /usr/local/lib/python3.6/dist-packages (from thinc==6.12.0->fastai) (0.4.3.2)\n",
            "Requirement already satisfied, skipping upgrade: wrapt<1.11.0,>=1.10.0 in /usr/local/lib/python3.6/dist-packages (from thinc==6.12.0->fastai) (1.10.11)\n",
            "Requirement already satisfied, skipping upgrade: dill<0.3.0,>=0.2.7 in /usr/local/lib/python3.6/dist-packages (from thinc==6.12.0->fastai) (0.2.8.2)\n",
            "Requirement already satisfied, skipping upgrade: msgpack<1.0.0,>=0.5.6 in /usr/local/lib/python3.6/dist-packages (from thinc==6.12.0->fastai) (0.5.6)\n",
            "Requirement already satisfied, skipping upgrade: ujson>=1.35 in /usr/local/lib/python3.6/dist-packages (from spacy==2.0.16->fastai) (1.35)\n",
            "Requirement already satisfied, skipping upgrade: pytz in /usr/local/lib/python3.6/dist-packages (from matplotlib->fastai) (2018.7)\n",
            "Requirement already satisfied, skipping upgrade: cycler>=0.10 in /usr/local/lib/python3.6/dist-packages (from matplotlib->fastai) (0.10.0)\n",
            "Requirement already satisfied, skipping upgrade: python-dateutil>=2.1 in /usr/local/lib/python3.6/dist-packages (from matplotlib->fastai) (2.5.3)\n",
            "Requirement already satisfied, skipping upgrade: pyparsing!=2.0.4,!=2.1.2,!=2.1.6,>=2.0.1 in /usr/local/lib/python3.6/dist-packages (from matplotlib->fastai) (2.3.0)\n",
            "Requirement already satisfied, skipping upgrade: idna<2.7,>=2.5 in /usr/local/lib/python3.6/dist-packages (from requests->fastai) (2.6)\n",
            "Requirement already satisfied, skipping upgrade: certifi>=2017.4.17 in /usr/local/lib/python3.6/dist-packages (from requests->fastai) (2018.11.29)\n",
            "Requirement already satisfied, skipping upgrade: chardet<3.1.0,>=3.0.2 in /usr/local/lib/python3.6/dist-packages (from requests->fastai) (3.0.4)\n",
            "Requirement already satisfied, skipping upgrade: urllib3<1.23,>=1.21.1 in /usr/local/lib/python3.6/dist-packages (from requests->fastai) (1.22)\n",
            "Requirement already satisfied, skipping upgrade: toolz>=0.8.0 in /usr/local/lib/python3.6/dist-packages (from cytoolz<0.10,>=0.9.0->thinc==6.12.0->fastai) (0.9.0)\n"
          ],
          "name": "stdout"
        }
      ]
    },
    {
      "metadata": {
        "id": "pSNTqNYBPtJx",
        "colab_type": "text"
      },
      "cell_type": "markdown",
      "source": [
        "# Fastai"
      ]
    },
    {
      "metadata": {
        "id": "hM0JdnO9OyZ_",
        "colab_type": "code",
        "outputId": "e4cc6f2d-9ab3-4017-811c-2aa08038946a",
        "colab": {
          "base_uri": "https://localhost:8080/",
          "height": 35
        }
      },
      "cell_type": "code",
      "source": [
        "# load all the required libraries\n",
        "from fastai import *\n",
        "from fastai.vision import *\n",
        "import torch\n",
        "\n",
        "import matplotlib.pyplot as plt             # matplotlib library for plotting\n",
        "\n",
        "# display plots inline (in notebook itself)\n",
        "%matplotlib inline                         \n",
        "defaults.cmap='gray'\n",
        "\n",
        "device = 'cuda:0' if torch.cuda.is_available() else 'cpu'\n",
        "print (device)"
      ],
      "execution_count": 2,
      "outputs": [
        {
          "output_type": "stream",
          "text": [
            "cuda:0\n"
          ],
          "name": "stdout"
        }
      ]
    },
    {
      "metadata": {
        "id": "7emIIhDHOyaT",
        "colab_type": "text"
      },
      "cell_type": "markdown",
      "source": [
        "## MNIST Dataset\n",
        "\n",
        "\n",
        " \n",
        "The [MNIST dataset](http://yann.lecun.com/exdb/mnist/) of handwritten digits has a training set of 60,000 examples, and a test set of 10,000 examples each of size 28 x 28 pixels. The digits have been size-normalized and centered in a fixed-size image.\n",
        "\n",
        "It is a good database for people who want to try learning techniques and pattern recognition methods on real-world data while spending minimal efforts on preprocessing and formatting. \n",
        "\n",
        "Here is one example from dataset\n",
        "\n",
        "\n"
      ]
    },
    {
      "metadata": {
        "id": "5DsOxR4OOyaY",
        "colab_type": "code",
        "outputId": "74bf6555-35c0-4b00-d62e-5ab42211bfee",
        "colab": {
          "base_uri": "https://localhost:8080/",
          "height": 35
        }
      },
      "cell_type": "code",
      "source": [
        "# batch size\n",
        "\n",
        "bs = 64\n",
        "\n",
        "# transform the data\n",
        "\n",
        "tfms = get_transforms(do_flip=False)\n",
        "\n",
        "# load mnist data\n",
        "\n",
        "path = untar_data(URLs.MNIST)\n",
        "path"
      ],
      "execution_count": 3,
      "outputs": [
        {
          "output_type": "execute_result",
          "data": {
            "text/plain": [
              "PosixPath('/root/.fastai/data/mnist_png')"
            ]
          },
          "metadata": {
            "tags": []
          },
          "execution_count": 3
        }
      ]
    },
    {
      "metadata": {
        "id": "TZlFRNZ7YvWn",
        "colab_type": "code",
        "outputId": "f1aebdb6-4fe7-4bb7-f3f7-dd85d75862b1",
        "colab": {
          "base_uri": "https://localhost:8080/",
          "height": 384
        }
      },
      "cell_type": "code",
      "source": [
        "(path/'training').ls(), (path/'testing').ls()"
      ],
      "execution_count": 4,
      "outputs": [
        {
          "output_type": "execute_result",
          "data": {
            "text/plain": [
              "([PosixPath('/root/.fastai/data/mnist_png/training/4'),\n",
              "  PosixPath('/root/.fastai/data/mnist_png/training/9'),\n",
              "  PosixPath('/root/.fastai/data/mnist_png/training/7'),\n",
              "  PosixPath('/root/.fastai/data/mnist_png/training/2'),\n",
              "  PosixPath('/root/.fastai/data/mnist_png/training/8'),\n",
              "  PosixPath('/root/.fastai/data/mnist_png/training/3'),\n",
              "  PosixPath('/root/.fastai/data/mnist_png/training/6'),\n",
              "  PosixPath('/root/.fastai/data/mnist_png/training/5'),\n",
              "  PosixPath('/root/.fastai/data/mnist_png/training/1'),\n",
              "  PosixPath('/root/.fastai/data/mnist_png/training/0')],\n",
              " [PosixPath('/root/.fastai/data/mnist_png/testing/4'),\n",
              "  PosixPath('/root/.fastai/data/mnist_png/testing/9'),\n",
              "  PosixPath('/root/.fastai/data/mnist_png/testing/7'),\n",
              "  PosixPath('/root/.fastai/data/mnist_png/testing/2'),\n",
              "  PosixPath('/root/.fastai/data/mnist_png/testing/8'),\n",
              "  PosixPath('/root/.fastai/data/mnist_png/testing/3'),\n",
              "  PosixPath('/root/.fastai/data/mnist_png/testing/6'),\n",
              "  PosixPath('/root/.fastai/data/mnist_png/testing/5'),\n",
              "  PosixPath('/root/.fastai/data/mnist_png/testing/1'),\n",
              "  PosixPath('/root/.fastai/data/mnist_png/testing/0')])"
            ]
          },
          "metadata": {
            "tags": []
          },
          "execution_count": 4
        }
      ]
    },
    {
      "metadata": {
        "id": "EJVQ3vVmYslH",
        "colab_type": "code",
        "colab": {}
      },
      "cell_type": "code",
      "source": [
        "# create databunch\n",
        "\n",
        "data = (ImageItemList.from_folder(path)                     #Where to find the data? -> in path and its subfolders and grayscale\n",
        "        .split_by_folder(train='training', valid='testing') #How to split in train/valid? -> use the folders\n",
        "        .label_from_folder()                                #How to label? -> depending on the folder of the filenames\n",
        "        .transform(tfms)                                    #Data augmentation? -> use tfms with a size of 28\n",
        "        .databunch()                                        #Finally? -> use the defaults for conversion to ImageDataBunch\n",
        "        .normalize(imagenet_stats))                   "
      ],
      "execution_count": 0,
      "outputs": []
    },
    {
      "metadata": {
        "id": "Bb0s1zIaxuJm",
        "colab_type": "code",
        "colab": {
          "base_uri": "https://localhost:8080/",
          "height": 256
        },
        "outputId": "19810862-059a-4676-cc76-ae93e8df3200"
      },
      "cell_type": "code",
      "source": [
        "data.train_ds, data.valid_ds, data.test_ds"
      ],
      "execution_count": 6,
      "outputs": [
        {
          "output_type": "execute_result",
          "data": {
            "text/plain": [
              "(LabelList\n",
              " y: CategoryList (60000 items)\n",
              " [Category 4, Category 4, Category 4, Category 4, Category 4]...\n",
              " Path: /root/.fastai/data/mnist_png\n",
              " x: ImageItemList (60000 items)\n",
              " [Image (3, 28, 28), Image (3, 28, 28), Image (3, 28, 28), Image (3, 28, 28), Image (3, 28, 28)]...\n",
              " Path: /root/.fastai/data/mnist_png, LabelList\n",
              " y: CategoryList (10000 items)\n",
              " [Category 4, Category 4, Category 4, Category 4, Category 4]...\n",
              " Path: /root/.fastai/data/mnist_png\n",
              " x: ImageItemList (10000 items)\n",
              " [Image (3, 28, 28), Image (3, 28, 28), Image (3, 28, 28), Image (3, 28, 28), Image (3, 28, 28)]...\n",
              " Path: /root/.fastai/data/mnist_png, None)"
            ]
          },
          "metadata": {
            "tags": []
          },
          "execution_count": 6
        }
      ]
    },
    {
      "metadata": {
        "id": "Diz9XarTZZov",
        "colab_type": "code",
        "outputId": "8be7af1a-aa7e-46bf-ef5e-d563f33a139f",
        "colab": {
          "base_uri": "https://localhost:8080/",
          "height": 369
        }
      },
      "cell_type": "code",
      "source": [
        "data.show_batch(rows=3, figsize=(5,5))"
      ],
      "execution_count": 7,
      "outputs": [
        {
          "output_type": "display_data",
          "data": {
            "image/png": "[encoded data removed]",
            "text/plain": [
              "<matplotlib.figure.Figure at 0x7f4493198f28>"
            ]
          },
          "metadata": {
            "tags": []
          }
        }
      ]
    },
    {
      "metadata": {
        "id": "YWgRM93xaJP6",
        "colab_type": "code",
        "outputId": "c755123e-e86a-4d1c-d151-0d29c424369d",
        "colab": {
          "base_uri": "https://localhost:8080/",
          "height": 54
        }
      },
      "cell_type": "code",
      "source": [
        "print(data.classes)\n",
        "len(data.classes),data.c"
      ],
      "execution_count": 8,
      "outputs": [
        {
          "output_type": "stream",
          "text": [
            "['0', '1', '2', '3', '4', '5', '6', '7', '8', '9']\n"
          ],
          "name": "stdout"
        },
        {
          "output_type": "execute_result",
          "data": {
            "text/plain": [
              "(10, 10)"
            ]
          },
          "metadata": {
            "tags": []
          },
          "execution_count": 8
        }
      ]
    },
    {
      "metadata": {
        "id": "r4EkAE50yEMS",
        "colab_type": "text"
      },
      "cell_type": "markdown",
      "source": [
        "# Model"
      ]
    },
    {
      "metadata": {
        "id": "rJ9qsJgQOyeS",
        "colab_type": "code",
        "colab": {}
      },
      "cell_type": "code",
      "source": [
        "learn = create_cnn(data, models.resnet18, metrics=[error_rate, accuracy])"
      ],
      "execution_count": 0,
      "outputs": []
    },
    {
      "metadata": {
        "id": "VxQEigRVOyea",
        "colab_type": "code",
        "outputId": "c18a363c-0384-4c45-f0b7-6c30a866501a",
        "colab": {
          "base_uri": "https://localhost:8080/",
          "height": 287
        }
      },
      "cell_type": "code",
      "source": [
        "learn.fit_one_cycle(10)"
      ],
      "execution_count": 10,
      "outputs": [
        {
          "output_type": "display_data",
          "data": {
            "text/html": [
              "Total time: 17:34 <p><table style='width:375px; margin-bottom:10px'>\n",
              "  <tr>\n",
              "    <th>epoch</th>\n",
              "    <th>train_loss</th>\n",
              "    <th>valid_loss</th>\n",
              "    <th>error_rate</th>\n",
              "    <th>accuracy</th>\n",
              "  </tr>\n",
              "  <tr>\n",
              "    <th>1</th>\n",
              "    <th>0.928463</th>\n",
              "    <th>0.751299</th>\n",
              "    <th>0.244100</th>\n",
              "    <th>0.755900</th>\n",
              "  </tr>\n",
              "  <tr>\n",
              "    <th>2</th>\n",
              "    <th>0.485235</th>\n",
              "    <th>0.360937</th>\n",
              "    <th>0.117400</th>\n",
              "    <th>0.882600</th>\n",
              "  </tr>\n",
              "  <tr>\n",
              "    <th>3</th>\n",
              "    <th>0.289315</th>\n",
              "    <th>0.168811</th>\n",
              "    <th>0.054300</th>\n",
              "    <th>0.945700</th>\n",
              "  </tr>\n",
              "  <tr>\n",
              "    <th>4</th>\n",
              "    <th>0.208025</th>\n",
              "    <th>0.100855</th>\n",
              "    <th>0.032200</th>\n",
              "    <th>0.967800</th>\n",
              "  </tr>\n",
              "  <tr>\n",
              "    <th>5</th>\n",
              "    <th>0.170779</th>\n",
              "    <th>0.084355</th>\n",
              "    <th>0.027200</th>\n",
              "    <th>0.972800</th>\n",
              "  </tr>\n",
              "  <tr>\n",
              "    <th>6</th>\n",
              "    <th>0.140391</th>\n",
              "    <th>0.067589</th>\n",
              "    <th>0.022200</th>\n",
              "    <th>0.977800</th>\n",
              "  </tr>\n",
              "  <tr>\n",
              "    <th>7</th>\n",
              "    <th>0.121508</th>\n",
              "    <th>0.061668</th>\n",
              "    <th>0.019900</th>\n",
              "    <th>0.980100</th>\n",
              "  </tr>\n",
              "  <tr>\n",
              "    <th>8</th>\n",
              "    <th>0.119994</th>\n",
              "    <th>0.055082</th>\n",
              "    <th>0.017800</th>\n",
              "    <th>0.982200</th>\n",
              "  </tr>\n",
              "  <tr>\n",
              "    <th>9</th>\n",
              "    <th>0.108113</th>\n",
              "    <th>0.054132</th>\n",
              "    <th>0.016800</th>\n",
              "    <th>0.983200</th>\n",
              "  </tr>\n",
              "  <tr>\n",
              "    <th>10</th>\n",
              "    <th>0.111148</th>\n",
              "    <th>0.055721</th>\n",
              "    <th>0.017900</th>\n",
              "    <th>0.982100</th>\n",
              "  </tr>\n",
              "</table>\n"
            ],
            "text/plain": [
              "<IPython.core.display.HTML object>"
            ]
          },
          "metadata": {
            "tags": []
          }
        }
      ]
    },
    {
      "metadata": {
        "id": "La8Ds98NycCc",
        "colab_type": "code",
        "colab": {
          "base_uri": "https://localhost:8080/",
          "height": 279
        },
        "outputId": "a3dd627f-7143-40c3-f793-f115e135dc85"
      },
      "cell_type": "code",
      "source": [
        "learn.recorder.plot_losses()"
      ],
      "execution_count": 11,
      "outputs": [
        {
          "output_type": "display_data",
          "data": {
            "image/png": "[encoded data removed]",
            "text/plain": [
              "<matplotlib.figure.Figure at 0x7f4490e36f60>"
            ]
          },
          "metadata": {
            "tags": []
          }
        }
      ]
    },
    {
      "metadata": {
        "id": "7POX-3aZ64hk",
        "colab_type": "code",
        "colab": {
          "base_uri": "https://localhost:8080/",
          "height": 483
        },
        "outputId": "a5ec5da7-bceb-4918-9a24-b6131197e655"
      },
      "cell_type": "code",
      "source": [
        "learn.recorder.plot_metrics()"
      ],
      "execution_count": 12,
      "outputs": [
        {
          "output_type": "display_data",
          "data": {
            "image/png": "[encoded data removed]",
            "text/plain": [
              "<matplotlib.figure.Figure at 0x7f4490c579b0>"
            ]
          },
          "metadata": {
            "tags": []
          }
        }
      ]
    },
    {
      "metadata": {
        "id": "6MsDmR5jyfGe",
        "colab_type": "text"
      },
      "cell_type": "markdown",
      "source": [
        "# Results\n",
        "\n",
        "\n",
        "\n",
        "\n",
        "Let's see what results we have got.\n",
        "\n",
        "We will first see which were the categories that the model most confused with one another. We will try to see if what the model predicted was reasonable or not. In this case the mistakes look reasonable (none of the mistakes seems obviously naive). This is an indicator that our classifier is working correctly.\n",
        "\n",
        "Furthermore, when we plot the confusion matrix, we can see that the distribution is heavily skewed: the model makes the same mistakes over and over again but it rarely confuses other categories. This suggests that it just finds it difficult to distinguish some specific categories between each other; this is normal behaviour.\n"
      ]
    },
    {
      "metadata": {
        "id": "1uGwHdjnycG2",
        "colab_type": "code",
        "colab": {}
      },
      "cell_type": "code",
      "source": [
        "interp = ClassificationInterpretation.from_learner(learn)"
      ],
      "execution_count": 0,
      "outputs": []
    },
    {
      "metadata": {
        "id": "SJL0wCFQynKv",
        "colab_type": "code",
        "colab": {
          "base_uri": "https://localhost:8080/",
          "height": 356
        },
        "outputId": "bbc4bea7-b050-4788-abfd-97481eac088d"
      },
      "cell_type": "code",
      "source": [
        "# The title of each image shows: prediction, actual, loss, probability of actual class.\n",
        "interp.plot_top_losses(9, figsize=(5,5))"
      ],
      "execution_count": 14,
      "outputs": [
        {
          "output_type": "display_data",
          "data": {
            "image/png": "[encoded data removed]",
            "text/plain": [
              "<matplotlib.figure.Figure at 0x7f4490de0438>"
            ]
          },
          "metadata": {
            "tags": []
          }
        }
      ]
    },
    {
      "metadata": {
        "id": "7ujkrOs3Oye6",
        "colab_type": "code",
        "colab": {
          "base_uri": "https://localhost:8080/",
          "height": 383
        },
        "outputId": "509ae000-14c6-4e84-e83a-9d7c6992f862"
      },
      "cell_type": "code",
      "source": [
        "interp.plot_confusion_matrix(figsize=(5,5))"
      ],
      "execution_count": 15,
      "outputs": [
        {
          "output_type": "display_data",
          "data": {
            "image/png": "[encoded data removed]",
            "text/plain": [
              "<matplotlib.figure.Figure at 0x7f4490275208>"
            ]
          },
          "metadata": {
            "tags": []
          }
        }
      ]
    },
    {
      "metadata": {
        "id": "xWMHBgjcOyfD",
        "colab_type": "code",
        "colab": {
          "base_uri": "https://localhost:8080/",
          "height": 476
        },
        "outputId": "1a966d01-f05e-4b9c-833f-a71cbe02f986"
      },
      "cell_type": "code",
      "source": [
        "interp.most_confused(min_val=2)"
      ],
      "execution_count": 16,
      "outputs": [
        {
          "output_type": "execute_result",
          "data": {
            "text/plain": [
              "[('9', '8', 15),\n",
              " ('5', '8', 10),\n",
              " ('7', '9', 9),\n",
              " ('5', '3', 8),\n",
              " ('3', '5', 7),\n",
              " ('3', '8', 7),\n",
              " ('7', '4', 7),\n",
              " ('9', '4', 7),\n",
              " ('0', '6', 6),\n",
              " ('3', '2', 6),\n",
              " ('7', '2', 6),\n",
              " ('8', '2', 6),\n",
              " ('1', '6', 5),\n",
              " ('4', '6', 5),\n",
              " ('6', '8', 5),\n",
              " ('0', '2', 4),\n",
              " ('2', '7', 4),\n",
              " ('7', '3', 4),\n",
              " ('9', '5', 4),\n",
              " ('1', '2', 3),\n",
              " ('2', '3', 3),\n",
              " ('2', '8', 3),\n",
              " ('4', '8', 3),\n",
              " ('7', '1', 3),\n",
              " ('9', '0', 3)]"
            ]
          },
          "metadata": {
            "tags": []
          },
          "execution_count": 16
        }
      ]
    },
    {
      "metadata": {
        "id": "Wznuti18nNTG",
        "colab_type": "code",
        "colab": {}
      },
      "cell_type": "code",
      "source": [
        ""
      ],
      "execution_count": 0,
      "outputs": []
    }
  ]
}
