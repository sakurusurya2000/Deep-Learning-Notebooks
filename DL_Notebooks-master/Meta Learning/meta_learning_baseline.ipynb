{
 "cells": [
  {
   "cell_type": "markdown",
   "metadata": {},
   "source": [
    "# Meta Learning\n",
    "\n",
    "In this notebook, we will implement various algorithms from the paper [A Closer Look at Few-Shot Classification](https://openreview.net/pdf?id=HkxLXnAcFQ).\n",
    "\n",
    "Here we will use [PyTorch](https://pytorch.org/tutorials/  \"PyTorch Tutorial\").\n",
    "\n",
    "Everything is explained in-detail in [blog post](https://dudeperf3ct.github.io/meta/learning/2019/04/29/Fun-of-Dissecting-Paper/). \n",
    "\n",
    "#### Run in Colab\n",
    "\n",
    "You can run this notebook in google colab.\n",
    "\n",
    "[![Open In Colab](https://colab.research.google.com/assets/colab-badge.svg)](https://colab.research.google.com/github/dudeperf3ct/DL_notebooks/blob/master/Meta%20Learning/meta_learning_baseline.ipynb)"
   ]
  },
  {
   "cell_type": "markdown",
   "metadata": {
    "colab_type": "text",
    "id": "2uXZYkdAGEgW"
   },
   "source": [
    "## Data"
   ]
  },
  {
   "cell_type": "code",
   "execution_count": 0,
   "metadata": {
    "colab": {},
    "colab_type": "code",
    "id": "oqrkYJitzc-s"
   },
   "outputs": [],
   "source": [
    "import os\n",
    "import time\n",
    "from pathlib import Path\n",
    "import shutil\n",
    "from os.path import join\n",
    "from PIL import Image\n",
    "import distutils.core\n",
    "\n",
    "os.mkdir('dataset/')\n",
    "path = Path('dataset/')"
   ]
  },
  {
   "cell_type": "code",
   "execution_count": 0,
   "metadata": {
    "colab": {},
    "colab_type": "code",
    "id": "AkiVBnrFPX4-"
   },
   "outputs": [],
   "source": [
    "! wget -O images_background.zip https://github.com/brendenlake/omniglot/blob/master/python/images_background.zip?raw=true"
   ]
  },
  {
   "cell_type": "code",
   "execution_count": 0,
   "metadata": {
    "colab": {},
    "colab_type": "code",
    "id": "zmAXOd8RzdBp"
   },
   "outputs": [],
   "source": [
    "! wget -O images_evaluation.zip https://github.com/brendenlake/omniglot/blob/master/python/images_evaluation.zip?raw=true"
   ]
  },
  {
   "cell_type": "code",
   "execution_count": 0,
   "metadata": {
    "colab": {},
    "colab_type": "code",
    "id": "_trodYUP8u2w"
   },
   "outputs": [],
   "source": [
    "! unzip -q -n images_background.zip -d {path}\n",
    "! unzip -q -n images_evaluation.zip -d {path}"
   ]
  },
  {
   "cell_type": "code",
   "execution_count": 0,
   "metadata": {
    "colab": {},
    "colab_type": "code",
    "id": "SYV3zffwIbUM"
   },
   "outputs": [],
   "source": [
    "! wget https://raw.githubusercontent.com/jakesnell/prototypical-networks/master/data/omniglot/splits/vinyals/train.txt \n",
    "! wget https://raw.githubusercontent.com/jakesnell/prototypical-networks/master/data/omniglot/splits/vinyals/val.txt\n",
    "! wget https://raw.githubusercontent.com/jakesnell/prototypical-networks/master/data/omniglot/splits/vinyals/test.txt"
   ]
  },
  {
   "cell_type": "code",
   "execution_count": 0,
   "metadata": {
    "colab": {},
    "colab_type": "code",
    "id": "YoohHcXcxaEC"
   },
   "outputs": [],
   "source": [
    "distutils.dir_util.copy_tree(str(path/'images_evaluation/'), str(path/'images_background'))"
   ]
  },
  {
   "cell_type": "code",
   "execution_count": 0,
   "metadata": {
    "colab": {
     "base_uri": "https://localhost:8080/",
     "height": 73
    },
    "colab_type": "code",
    "id": "rKVzbaQv9kKn",
    "outputId": "a0f3d88c-70b3-4c13-83a0-3750d2d673eb"
   },
   "outputs": [
    {
     "name": "stdout",
     "output_type": "stream",
     "text": [
      "Classes: ['Mongolian', 'Greek', 'Angelic', 'Mkhedruli_(Georgian)', 'Inuktitut_(Canadian_Aboriginal_Syllabics)', 'Sylheti', 'Burmese_(Myanmar)', 'Arcadian', 'Blackfoot_(Canadian_Aboriginal_Syllabics)', 'Grantha', 'Gujarati', 'Sanskrit', 'Atlantean', 'Kannada', 'Tifinagh', 'Malay_(Jawi_-_Arabic)', 'Keble', 'Japanese_(katakana)', 'Japanese_(hiragana)', 'Old_Church_Slavonic_(Cyrillic)', 'Alphabet_of_the_Magi', 'Futurama', 'ULOG', 'N_Ko', 'Early_Aramaic', 'Anglo-Saxon_Futhorc', 'Oriya', 'Syriac_(Estrangelo)', 'Ojibwe_(Canadian_Aboriginal_Syllabics)', 'Korean', 'Malayalam', 'Armenian', 'Ge_ez', 'Avesta', 'Aurek-Besh', 'Atemayar_Qelisayer', 'Latin', 'Tengwar', 'Asomtavruli_(Georgian)', 'Tibetan', 'Bengali', 'Cyrillic', 'Manipuri', 'Gurmukhi', 'Glagolitic', 'Balinese', 'Tagalog', 'Hebrew', 'Syriac_(Serto)', 'Braille']\n",
      "Total classes: 50\n"
     ]
    }
   ],
   "source": [
    "print ('Classes:', os.listdir(path/'images_background'))\n",
    "print ('Total classes:', len(os.listdir(path/'images_background')))"
   ]
  },
  {
   "cell_type": "code",
   "execution_count": 0,
   "metadata": {
    "colab": {},
    "colab_type": "code",
    "id": "gjQZLdDiy6y-"
   },
   "outputs": [],
   "source": [
    "path = Path(path/'images_background')"
   ]
  },
  {
   "cell_type": "code",
   "execution_count": 0,
   "metadata": {
    "colab": {},
    "colab_type": "code",
    "id": "ZtSDHzRly68v"
   },
   "outputs": [],
   "source": [
    "def rotate_images():\n",
    "    dirs = sorted(os.listdir(path))\n",
    "    for d in dirs:\n",
    "        char_folder = os.listdir(path/d)\n",
    "        for character in char_folder:\n",
    "            for deg in [0, 90, 180, 270]:\n",
    "                img_files = os.listdir(join(path, d, character))\n",
    "                rot_folder = \"rot%03d\"%deg\n",
    "                rot_folder_path = join(path, d, character, rot_folder)\n",
    "                if not os.path.exists(rot_folder_path):\n",
    "                    os.makedirs(rot_folder_path)\n",
    "                for img in img_files:\n",
    "                    if 'rot' not in img:\n",
    "                        rot_img = Image.open(join(path, d, character, img)).rotate(deg)\n",
    "                        rot_img.save(join(path, d, character, rot_folder, img))"
   ]
  },
  {
   "cell_type": "code",
   "execution_count": 0,
   "metadata": {
    "colab": {},
    "colab_type": "code",
    "id": "9PB5HGx_y64m"
   },
   "outputs": [],
   "source": [
    "start = time.time()\n",
    "rotate_images()\n",
    "print ('Preprocessing Rotation Time taken: %.2f'%(time.time()-start))"
   ]
  },
  {
   "cell_type": "code",
   "execution_count": 0,
   "metadata": {
    "colab": {},
    "colab_type": "code",
    "id": "F80dz60-MlDQ"
   },
   "outputs": [],
   "source": [
    "os.mkdir('data/')\n",
    "os.mkdir('data/train')\n",
    "os.mkdir('data/val')\n",
    "os.mkdir('data/test')\n",
    "data_path = Path('data/')"
   ]
  },
  {
   "cell_type": "code",
   "execution_count": 0,
   "metadata": {
    "colab": {},
    "colab_type": "code",
    "id": "PFf2E2eQrge8"
   },
   "outputs": [],
   "source": [
    "def split_train_val_test(file, q='train'):\n",
    "    \n",
    "    with open(file, 'r') as f:\n",
    "        for line in f:\n",
    "            shutil.move(str(path/line.split('\\n')[0]), join(data_path, q, line.split('\\n')[0]))"
   ]
  },
  {
   "cell_type": "code",
   "execution_count": 0,
   "metadata": {
    "colab": {},
    "colab_type": "code",
    "id": "cc3CtSDLsGK6"
   },
   "outputs": [],
   "source": [
    "split_train_val_test('train.txt', 'train')"
   ]
  },
  {
   "cell_type": "code",
   "execution_count": 0,
   "metadata": {
    "colab": {},
    "colab_type": "code",
    "id": "DF4kSnfktmKz"
   },
   "outputs": [],
   "source": [
    "split_train_val_test('val.txt', 'val')"
   ]
  },
  {
   "cell_type": "code",
   "execution_count": 0,
   "metadata": {
    "colab": {},
    "colab_type": "code",
    "id": "bhh8nsMowzbJ"
   },
   "outputs": [],
   "source": [
    "split_train_val_test('test.txt', 'test')"
   ]
  },
  {
   "cell_type": "code",
   "execution_count": 0,
   "metadata": {
    "colab": {
     "base_uri": "https://localhost:8080/",
     "height": 53
    },
    "colab_type": "code",
    "id": "Rk8VjET27Zdb",
    "outputId": "e2bd8b2b-4522-42bb-bec3-7f531be60c31"
   },
   "outputs": [
    {
     "name": "stdout",
     "output_type": "stream",
     "text": [
      "After splitting number of classes for train, val and test:\n"
     ]
    },
    {
     "data": {
      "text/plain": [
       "(33, 5, 13)"
      ]
     },
     "execution_count": 18,
     "metadata": {
      "tags": []
     },
     "output_type": "execute_result"
    }
   ],
   "source": [
    "print ('After splitting number of classes for train, val and test:')\n",
    "len(os.listdir('data/train/')), len(os.listdir('data/val/')), len(os.listdir('data/test/'))"
   ]
  },
  {
   "cell_type": "code",
   "execution_count": 0,
   "metadata": {
    "colab": {},
    "colab_type": "code",
    "id": "5TZEkPaj9KOl"
   },
   "outputs": [],
   "source": [
    "!tar -cvf dataset.tar /content/data"
   ]
  },
  {
   "cell_type": "code",
   "execution_count": 0,
   "metadata": {
    "colab": {},
    "colab_type": "code",
    "id": "qMqGelRm9KSN"
   },
   "outputs": [],
   "source": [
    "! pip install pydrive"
   ]
  },
  {
   "cell_type": "code",
   "execution_count": 0,
   "metadata": {
    "colab": {},
    "colab_type": "code",
    "id": "cuZ56Zn69JKc"
   },
   "outputs": [],
   "source": [
    "# from pydrive.auth import GoogleAuth\n",
    "# from pydrive.drive import GoogleDrive\n",
    "# from google.colab import auth\n",
    "# from oauth2client.client import GoogleCredentials\n",
    "\n",
    "# # Authenticate and create the PyDrive client.\n",
    "# # This only needs to be done once per notebook.\n",
    "# auth.authenticate_user()\n",
    "# gauth = GoogleAuth()\n",
    "# gauth.credentials = GoogleCredentials.get_application_default()\n",
    "# drive = GoogleDrive(gauth)\n",
    "\n",
    "# upload = drive.CreateFile({'title': 'dataset.tar'})\n",
    "# upload.SetContentFile('dataset.tar')\n",
    "# upload.Upload()"
   ]
  },
  {
   "cell_type": "code",
   "execution_count": 0,
   "metadata": {
    "colab": {},
    "colab_type": "code",
    "id": "QY88klpjAvA5"
   },
   "outputs": [],
   "source": [
    "from pydrive.auth import GoogleAuth\n",
    "from pydrive.drive import GoogleDrive\n",
    "from google.colab import auth\n",
    "from oauth2client.client import GoogleCredentials\n",
    "\n",
    "# Authenticate and create the PyDrive client.\n",
    "# This only needs to be done once per notebook.\n",
    "auth.authenticate_user()\n",
    "gauth = GoogleAuth()\n",
    "gauth.credentials = GoogleCredentials.get_application_default()\n",
    "drive = GoogleDrive(gauth)\n",
    "\n",
    "download = drive.CreateFile({'id': '19Jinmzv_JNEhOVHg5CZMcgbexzTi4oEC'})\n",
    "download.GetContentFile('dataset.tar')"
   ]
  },
  {
   "cell_type": "code",
   "execution_count": 0,
   "metadata": {
    "colab": {},
    "colab_type": "code",
    "id": "FQEWtSEYA1dF"
   },
   "outputs": [],
   "source": [
    "! tar -xf dataset.tar"
   ]
  },
  {
   "cell_type": "markdown",
   "metadata": {
    "colab_type": "text",
    "id": "lufCr6_IFWpr"
   },
   "source": [
    "## Baseline\n",
    "\n",
    "\n",
    "We will start with implementing baseline algorithm mentioned in the [paper](https://openreview.net/pdf?id=HkxLXnAcFQ).\n",
    "\n",
    "![baseline](meta_learning/baseline_1.png \"baseline\")\n",
    "![train-stage](meta_learning/training_stage.png \"train-stage\")\n",
    "![fine-tune](meta_learning/finetune_stage.png \"finetune-stage\")\n",
    "\n",
    "\n",
    "![figure](meta_learning/train_finetune.png \"figure\")\n",
    "![baseline_classifier](meta_learning/baseline.png \"classifier\")\n",
    "\n",
    "\n",
    "![implement](meta_learning/implementation.png \"implement\")\n",
    "\n",
    "![omniglot](meta_learning/omniglot.png \"omniglot\")\n",
    "\n",
    "\n",
    "![result](meta_learning/results_total.png \"result\")\n",
    "\n"
   ]
  },
  {
   "cell_type": "markdown",
   "metadata": {
    "colab_type": "text",
    "id": "ftRf8A2CupbI"
   },
   "source": [
    "### Data Preprocessing"
   ]
  },
  {
   "cell_type": "code",
   "execution_count": 0,
   "metadata": {
    "colab": {},
    "colab_type": "code",
    "id": "7bfeUsmhEYVw"
   },
   "outputs": [],
   "source": [
    "import pandas as pd\n",
    "import os\n",
    "from os.path import join\n",
    "import glob\n",
    "from pathlib import Path\n",
    "import operator\n",
    "from functools import reduce\n",
    "import matplotlib.pyplot as plt\n",
    "import random\n",
    "import numpy as np\n",
    "import imageio\n",
    "%matplotlib inline\n",
    "\n",
    "data_path = Path('/content/content/data/')"
   ]
  },
  {
   "cell_type": "code",
   "execution_count": 0,
   "metadata": {
    "colab": {},
    "colab_type": "code",
    "id": "nIXER3M8IFD-"
   },
   "outputs": [],
   "source": [
    "df_train = pd.DataFrame()\n",
    "df_val = pd.DataFrame()\n",
    "df_test = pd.DataFrame()"
   ]
  },
  {
   "cell_type": "code",
   "execution_count": 0,
   "metadata": {
    "colab": {},
    "colab_type": "code",
    "id": "T04qIJ36IFMr"
   },
   "outputs": [],
   "source": [
    "def read_labels(file, q='train'):\n",
    "    \n",
    "    with open(file, 'r') as f:\n",
    "        lines = f.read().splitlines() \n",
    "    return lines\n",
    "\n",
    "def blow_up_labels(lbl):\n",
    "    flat_labels = []\n",
    "    for i, l in enumerate(lbl):\n",
    "        for _ in range(20):\n",
    "            flat_labels.append(l)\n",
    "    return flat_labels"
   ]
  },
  {
   "cell_type": "code",
   "execution_count": 0,
   "metadata": {
    "colab": {
     "base_uri": "https://localhost:8080/",
     "height": 34
    },
    "colab_type": "code",
    "id": "1rGlg3hdIK7-",
    "outputId": "ff992a7a-01d3-40af-9ba8-f2f525205cb8"
   },
   "outputs": [
    {
     "name": "stdout",
     "output_type": "stream",
     "text": [
      "Training Classes: 4112\n"
     ]
    }
   ],
   "source": [
    "trn_lbl = sorted(read_labels('train.txt', 'train'))\n",
    "print ('Training Classes:', len(trn_lbl))\n",
    "df_train['labels'] = blow_up_labels(trn_lbl)"
   ]
  },
  {
   "cell_type": "code",
   "execution_count": 0,
   "metadata": {
    "colab": {
     "base_uri": "https://localhost:8080/",
     "height": 34
    },
    "colab_type": "code",
    "id": "E4poZxgWUkaM",
    "outputId": "2eddb80c-970e-40bc-b607-86f5c2e6bf27"
   },
   "outputs": [
    {
     "name": "stdout",
     "output_type": "stream",
     "text": [
      "Validation Classes: 688\n"
     ]
    }
   ],
   "source": [
    "val_lbl = sorted(read_labels('val.txt', 'val'))\n",
    "print ('Validation Classes:', len(val_lbl))\n",
    "df_val['labels'] = blow_up_labels(val_lbl)"
   ]
  },
  {
   "cell_type": "code",
   "execution_count": 0,
   "metadata": {
    "colab": {
     "base_uri": "https://localhost:8080/",
     "height": 34
    },
    "colab_type": "code",
    "id": "QSKAMy_yRZmj",
    "outputId": "a9d96b9a-48ce-4aef-c6b8-3399628e47d1"
   },
   "outputs": [
    {
     "name": "stdout",
     "output_type": "stream",
     "text": [
      "Test Classes: 1692\n"
     ]
    }
   ],
   "source": [
    "test_lbl = sorted(read_labels('test.txt', 'test'))\n",
    "print ('Test Classes:', len(test_lbl))\n",
    "df_test['labels'] = blow_up_labels(test_lbl)"
   ]
  },
  {
   "cell_type": "code",
   "execution_count": 0,
   "metadata": {
    "colab": {},
    "colab_type": "code",
    "id": "4CLzaFc9ILKN"
   },
   "outputs": [],
   "source": [
    "def read_image_paths(q='train'):\n",
    "    paths = []\n",
    "    dirs = sorted(os.listdir(data_path/q))\n",
    "    for d in dirs:\n",
    "        character_folder = sorted(os.listdir(join(data_path, q, d)))\n",
    "        for c in character_folder:\n",
    "            rot_folder = sorted(os.listdir(join(data_path, q, d, c)))\n",
    "            for r in rot_folder:\n",
    "                paths.append(sorted(glob.glob(join(data_path, q, d, c, r, '*.png'))))\n",
    "    return paths"
   ]
  },
  {
   "cell_type": "code",
   "execution_count": 0,
   "metadata": {
    "colab": {},
    "colab_type": "code",
    "id": "TDSC4VB9Jgd7"
   },
   "outputs": [],
   "source": [
    "trn_img_list = read_image_paths('train')\n",
    "flat_img_list = reduce(operator.concat, trn_img_list)\n",
    "df_train['img_paths'] = flat_img_list"
   ]
  },
  {
   "cell_type": "code",
   "execution_count": 0,
   "metadata": {
    "colab": {},
    "colab_type": "code",
    "id": "MLWbcUInJhTw"
   },
   "outputs": [],
   "source": [
    "val_img_list = read_image_paths('val')\n",
    "flat_img_list = reduce(operator.concat, val_img_list)\n",
    "df_val['img_paths'] = flat_img_list"
   ]
  },
  {
   "cell_type": "code",
   "execution_count": 0,
   "metadata": {
    "colab": {},
    "colab_type": "code",
    "id": "hopgMtwGRU--"
   },
   "outputs": [],
   "source": [
    "test_img_list = read_image_paths('test')\n",
    "flat_img_list = reduce(operator.concat, test_img_list)\n",
    "df_test['img_paths'] = flat_img_list"
   ]
  },
  {
   "cell_type": "code",
   "execution_count": 0,
   "metadata": {
    "colab": {},
    "colab_type": "code",
    "id": "Gw2WhzYfTZ5J"
   },
   "outputs": [],
   "source": [
    "trn_lbl_map = dict(zip(trn_lbl, np.array(range(len(trn_lbl)))))\n",
    "val_lbl_map = dict(zip(val_lbl, np.array(range(len(val_lbl)))))\n",
    "test_lbl_map = dict(zip(test_lbl, np.array(range(len(test_lbl)))))"
   ]
  },
  {
   "cell_type": "code",
   "execution_count": 0,
   "metadata": {
    "colab": {},
    "colab_type": "code",
    "id": "z9_1nPqXImeK"
   },
   "outputs": [],
   "source": [
    "trn_dict = dict(zip(trn_lbl, trn_img_list))\n",
    "val_dict = dict(zip(val_lbl, val_img_list))\n",
    "test_dict = dict(zip(test_lbl, test_img_list))"
   ]
  },
  {
   "cell_type": "code",
   "execution_count": 0,
   "metadata": {
    "colab": {},
    "colab_type": "code",
    "id": "zNaWw9JYVEU7"
   },
   "outputs": [],
   "source": [
    "def show_images(img_path, classes, rows=2, columns=4):\n",
    "    fig=plt.figure(figsize=(18, 9))\n",
    "    for i in range(1, columns*rows+1):\n",
    "        img = imageio.imread(img_path[i-1])    \n",
    "        fig.add_subplot(rows, columns, i)\n",
    "        plt.imshow(img, cmap='gray')\n",
    "        plt.title(f'Label : {classes[i-1]}')\n",
    "        plt.axis('off')"
   ]
  },
  {
   "cell_type": "code",
   "execution_count": 0,
   "metadata": {
    "colab": {
     "base_uri": "https://localhost:8080/",
     "height": 549
    },
    "colab_type": "code",
    "id": "vN8hUo89WyZp",
    "outputId": "6696ca7a-a1da-48cb-8ab5-5ccbf551e249"
   },
   "outputs": [
    {
     "data": {
      "image/png": "[encoded data removed]",
      "text/plain": [
       "<Figure size 1296x648 with 8 Axes>"
      ]
     },
     "metadata": {
      "tags": []
     },
     "output_type": "display_data"
    }
   ],
   "source": [
    "#randomly sample 8 images from train dataset\n",
    "rnd_num = random.sample(list(np.arange(len(df_train))), 8)\n",
    "rnd_files = df_train['img_paths'].iloc[rnd_num].values\n",
    "rnd_lbls = df_train['labels'].iloc[rnd_num].values\n",
    "show_images(rnd_files, rnd_lbls)"
   ]
  },
  {
   "cell_type": "code",
   "execution_count": 0,
   "metadata": {
    "colab": {
     "base_uri": "https://localhost:8080/",
     "height": 549
    },
    "colab_type": "code",
    "id": "3v01Ct0YW28R",
    "outputId": "4ef74b2c-554e-4afe-d2bd-4ed0f674a682"
   },
   "outputs": [
    {
     "data": {
      "image/png": "[encoded data removed]",
      "text/plain": [
       "<Figure size 1296x648 with 8 Axes>"
      ]
     },
     "metadata": {
      "tags": []
     },
     "output_type": "display_data"
    }
   ],
   "source": [
    "#randomly sample 8 images from val dataset\n",
    "rnd_num = random.sample(list(np.arange(len(df_val))), 8)\n",
    "rnd_files = df_val['img_paths'].iloc[rnd_num].values\n",
    "rnd_lbls = df_val['labels'].iloc[rnd_num].values\n",
    "show_images(rnd_files, rnd_lbls)"
   ]
  },
  {
   "cell_type": "code",
   "execution_count": 0,
   "metadata": {
    "colab": {},
    "colab_type": "code",
    "id": "o8AeXyVJBOmI"
   },
   "outputs": [],
   "source": []
  },
  {
   "cell_type": "code",
   "execution_count": 0,
   "metadata": {
    "colab": {},
    "colab_type": "code",
    "id": "KSfqM11rEYfZ"
   },
   "outputs": [],
   "source": [
    "import torch\n",
    "import torch.utils.data as data\n",
    "import torchvision.transforms as transforms\n",
    "import torch\n",
    "from torch.autograd import Variable\n",
    "import torch.nn as nn\n",
    "import math\n",
    "import torch.nn.functional as F\n",
    "import torch.optim\n",
    "import torch.optim.lr_scheduler as lr_scheduler\n",
    "from abc import abstractmethod\n",
    "from PIL import Image"
   ]
  },
  {
   "cell_type": "code",
   "execution_count": 0,
   "metadata": {
    "colab": {
     "base_uri": "https://localhost:8080/",
     "height": 34
    },
    "colab_type": "code",
    "id": "GAQbEgKnEYdW",
    "outputId": "20341113-f46c-497d-d48c-2b328e398447"
   },
   "outputs": [
    {
     "name": "stdout",
     "output_type": "stream",
     "text": [
      "cuda:0\n"
     ]
    }
   ],
   "source": [
    "def enforce_reproducibility(seed=42):\n",
    "    # Sets seed manually for both CPU and CUDA\n",
    "    torch.manual_seed(seed)\n",
    "    # For atomic operations there is currently \n",
    "    # no simple way to enforce determinism, as\n",
    "    # the order of parallel operations is not known.\n",
    "    #\n",
    "    # CUDNN\n",
    "    torch.backends.cudnn.deterministic = True\n",
    "    torch.backends.cudnn.benchmark = False\n",
    "    # System based\n",
    "    np.random.seed(seed)\n",
    "\n",
    "enforce_reproducibility()\n",
    "device = torch.device(\"cuda:0\") if torch.cuda.is_available() else torch.device(\"cpu\")\n",
    "print (device)\n",
    "batch_size = 16"
   ]
  },
  {
   "cell_type": "markdown",
   "metadata": {
    "colab_type": "text",
    "id": "GFpyAO3NyPE2"
   },
   "source": [
    "### Custom Dataset"
   ]
  },
  {
   "cell_type": "code",
   "execution_count": 0,
   "metadata": {
    "colab": {},
    "colab_type": "code",
    "id": "TyZq5j0QEYac"
   },
   "outputs": [],
   "source": [
    "class FewShotDataset(data.Dataset):\n",
    "    \n",
    "    def __init__(self, split='train', transforms=None, target_transforms=None):     \n",
    "        self.split = split\n",
    "        self.transforms = transforms\n",
    "        self.target_transforms = target_transforms\n",
    "        self.img_paths = df_train['img_paths'].values if split == 'train' else df_val['img_paths'].values\n",
    "        self.labels = df_train['labels'].values if split == 'train' else df_val['labels'].values\n",
    "        self.data_dict = trn_dict if split == 'train' else val_dict\n",
    "        self.label_map = trn_lbl_map if split == 'train' else val_lbl_map\n",
    "        if split == 'test':\n",
    "            self.img_paths  = df_test['img_paths'].values\n",
    "            self.labels = df_test['labels'].values\n",
    "            self.data_dict = test_dict\n",
    "            self.label_map = test_lbl_map\n",
    "        \n",
    "    def __len__(self):\n",
    "        return len(self.img_paths)\n",
    "    \n",
    "    def __getitem__(self, idx):\n",
    "        raise NotImplementedError(\"This is abstract class. Not implemented yet!\")"
   ]
  },
  {
   "cell_type": "code",
   "execution_count": 0,
   "metadata": {
    "colab": {},
    "colab_type": "code",
    "id": "Qu9jYUbsF0f0"
   },
   "outputs": [],
   "source": [
    "class Omniglot(FewShotDataset):\n",
    "      \n",
    "    def __init__(self, *args, **kwargs):\n",
    "        super(Omniglot, self).__init__(*args, **kwargs)\n",
    "        \n",
    "    def load_image(self, idx):\n",
    "        im = Image.open(self.img_paths[idx]).convert('L')\n",
    "        im = im.resize((28, 28), resample=Image.LANCZOS)\n",
    "        im = np.array(im, dtype=np.float32)\n",
    "        return im\n",
    "    \n",
    "    def __getitem__(self, idx):\n",
    "        im = self.load_image(idx)\n",
    "        if self.transforms is not None:\n",
    "            im = self.transforms(im)\n",
    "        label = self.label_map[self.labels[idx]]\n",
    "        if self.target_transforms is not None:\n",
    "            label = self.target_transforms(label)\n",
    "        return im, label"
   ]
  },
  {
   "cell_type": "markdown",
   "metadata": {
    "colab_type": "text",
    "id": "3GliehjTyRZD"
   },
   "source": [
    "### Custom DataLoader"
   ]
  },
  {
   "cell_type": "code",
   "execution_count": 0,
   "metadata": {
    "colab": {},
    "colab_type": "code",
    "id": "tKaOOyzKQZ2n"
   },
   "outputs": [],
   "source": [
    "class Dataloader:\n",
    "    @abstractmethod\n",
    "    def get_data_loader(self, split='train'):\n",
    "        pass "
   ]
  },
  {
   "cell_type": "code",
   "execution_count": 0,
   "metadata": {
    "colab": {},
    "colab_type": "code",
    "id": "61Sgk8FkyS6-"
   },
   "outputs": [],
   "source": [
    "class FulldataLoader(Dataloader):\n",
    "    \n",
    "    def __init__(self, batch_size):\n",
    "        super(FulldataLoader, self).__init__()\n",
    "        self.batch_size = batch_size\n",
    "    \n",
    "    def get_data_loader(self, split='train'):\n",
    "        dataset = Omniglot(split=split, transforms=transforms.Compose([transforms.ToTensor()]))\n",
    "        data_loader_params = dict(batch_size = self.batch_size, shuffle = True, num_workers = 0, pin_memory = True)       \n",
    "        data_loader = torch.utils.data.DataLoader(dataset, **data_loader_params)\n",
    "        return data_loader"
   ]
  },
  {
   "cell_type": "code",
   "execution_count": 0,
   "metadata": {
    "colab": {},
    "colab_type": "code",
    "id": "vOK9no9ZtcjH"
   },
   "outputs": [],
   "source": [
    "train_l = FulldataLoader(batch_size)\n",
    "train_loader = train_l.get_data_loader(split='train')"
   ]
  },
  {
   "cell_type": "code",
   "execution_count": 0,
   "metadata": {
    "colab": {},
    "colab_type": "code",
    "id": "zPC8DDjItcwc"
   },
   "outputs": [],
   "source": [
    "val_l = FulldataLoader(batch_size)\n",
    "val_loader = val_l.get_data_loader(split='val')"
   ]
  },
  {
   "cell_type": "markdown",
   "metadata": {
    "colab_type": "text",
    "id": "ZXRtpJm1yUCH"
   },
   "source": [
    "### Baseline Model "
   ]
  },
  {
   "cell_type": "code",
   "execution_count": 0,
   "metadata": {
    "colab": {},
    "colab_type": "code",
    "id": "orJp15CnyTVl"
   },
   "outputs": [],
   "source": [
    "class Flatten(nn.Module):\n",
    "    def __init__(self):\n",
    "        super(Flatten, self).__init__()\n",
    "        \n",
    "    def forward(self, x):        \n",
    "        return x.view(x.size(0), -1)\n",
    "    \n",
    "def init_layer(L):\n",
    "    # Initialization using fan-in\n",
    "    if isinstance(L, nn.Conv2d):\n",
    "        n = L.kernel_size[0]*L.kernel_size[1]*L.out_channels\n",
    "        L.weight.data.normal_(0,math.sqrt(2.0/float(n)))\n",
    "    elif isinstance(L, nn.BatchNorm2d):\n",
    "        L.weight.data.fill_(1)\n",
    "        L.bias.data.fill_(0)    "
   ]
  },
  {
   "cell_type": "code",
   "execution_count": 0,
   "metadata": {
    "colab": {},
    "colab_type": "code",
    "id": "XgE6Yq3ZVtdH"
   },
   "outputs": [],
   "source": [
    "# Simple Conv Block\n",
    "class ConvBlock(nn.Module):\n",
    "    def __init__(self, indim, outdim, pool = True, padding = 1):\n",
    "        super(ConvBlock, self).__init__()\n",
    "        self.indim  = indim\n",
    "        self.outdim = outdim\n",
    "        self.C      = nn.Conv2d(indim, outdim, 3, padding= padding)\n",
    "        self.BN     = nn.BatchNorm2d(outdim)\n",
    "        self.relu   = nn.ReLU(inplace=True)\n",
    "\n",
    "        self.parametrized_layers = [self.C, self.BN, self.relu]\n",
    "        if pool:\n",
    "            self.pool   = nn.MaxPool2d(2)\n",
    "            self.parametrized_layers.append(self.pool)\n",
    "\n",
    "        for layer in self.parametrized_layers:\n",
    "            init_layer(layer)\n",
    "\n",
    "        self.trunk = nn.Sequential(*self.parametrized_layers)\n",
    "\n",
    "    def forward(self, x):\n",
    "        out = self.trunk(x)\n",
    "        return out"
   ]
  },
  {
   "cell_type": "code",
   "execution_count": 0,
   "metadata": {
    "colab": {},
    "colab_type": "code",
    "id": "dcJ5cScgyWL6"
   },
   "outputs": [],
   "source": [
    "class ConvNetS(nn.Module): #For omniglot, only 1 input channel, output dim is 64\n",
    "    def __init__(self, depth, flatten = True):\n",
    "        super(ConvNetS, self).__init__()\n",
    "        trunk = []\n",
    "        for i in range(depth):\n",
    "            indim = 1 if i == 0 else 64\n",
    "            outdim = 64\n",
    "            B = ConvBlock(indim, outdim, pool = ( i<4 ) ) #only pooling for fist 4 layers\n",
    "            trunk.append(B)\n",
    "\n",
    "        if flatten:\n",
    "            trunk.append(Flatten())\n",
    "\n",
    "        self.trunk = nn.Sequential(*trunk)\n",
    "        self.final_feat_dim = 64\n",
    "\n",
    "    def forward(self, x):\n",
    "        out = x[:,0:1,:,:] #only use the first dimension\n",
    "        out = self.trunk(out)\n",
    "        return out"
   ]
  },
  {
   "cell_type": "code",
   "execution_count": 0,
   "metadata": {
    "colab": {},
    "colab_type": "code",
    "id": "2i8ZlTbhyWPI"
   },
   "outputs": [],
   "source": [
    "Conv4 = ConvNetS(4).to(device)"
   ]
  },
  {
   "cell_type": "code",
   "execution_count": 0,
   "metadata": {
    "colab": {},
    "colab_type": "code",
    "id": "iuBq92K5yWUC"
   },
   "outputs": [],
   "source": [
    "class BaselineTrain(nn.Module):\n",
    "    def __init__(self, model_func, num_class, loss_type = 'softmax'):\n",
    "        super(BaselineTrain, self).__init__()\n",
    "        self.feature    = model_func\n",
    "        self.classifier = nn.Linear(self.feature.final_feat_dim, num_class)\n",
    "        self.classifier.bias.data.fill_(0)\n",
    "        self.loss_type = loss_type  #'softmax'\n",
    "        self.num_class = num_class\n",
    "        self.loss_fn = nn.CrossEntropyLoss()\n",
    "\n",
    "    def forward(self, x):\n",
    "        x    = Variable(x.cuda())\n",
    "        out  = self.feature.forward(x)\n",
    "        scores  = self.classifier.forward(out)\n",
    "        return scores\n",
    "\n",
    "    def forward_loss(self, x, y):\n",
    "        scores = self.forward(x)\n",
    "        y = Variable(y.cuda())\n",
    "        return self.loss_fn(scores, y )\n",
    "    \n",
    "    def train_loop(self, epoch, train_loader, optimizer):\n",
    "        print_freq = 10\n",
    "        avg_loss = 0\n",
    "\n",
    "        for i, (x,y) in enumerate(train_loader):\n",
    "            optimizer.zero_grad()\n",
    "            loss = self.forward_loss(x, y)\n",
    "            loss.backward()\n",
    "            optimizer.step()\n",
    "\n",
    "            avg_loss = avg_loss+loss.item()\n",
    "\n",
    "            if i % print_freq==0:\n",
    "                print('Epoch {:d} | Batch {:d}/{:d} | Loss {:f}'.format(epoch, i, len(train_loader), avg_loss/float(i+1)))\n",
    "                     \n",
    "    def test_loop(self, val_loader):\n",
    "        return -1 #no validation, just save model during iteration"
   ]
  },
  {
   "cell_type": "code",
   "execution_count": 0,
   "metadata": {
    "colab": {},
    "colab_type": "code",
    "id": "N19GElkhTe92"
   },
   "outputs": [],
   "source": [
    "base_model = BaselineTrain(Conv4, num_class=4112).to(device)"
   ]
  },
  {
   "cell_type": "code",
   "execution_count": 0,
   "metadata": {
    "colab": {},
    "colab_type": "code",
    "id": "Yok28PqmseGm"
   },
   "outputs": [],
   "source": [
    "optimizer = torch.optim.Adam(base_model.parameters())"
   ]
  },
  {
   "cell_type": "markdown",
   "metadata": {
    "colab_type": "text",
    "id": "mDHkq8i7yWfD"
   },
   "source": [
    "### Training"
   ]
  },
  {
   "cell_type": "code",
   "execution_count": 0,
   "metadata": {
    "colab": {},
    "colab_type": "code",
    "id": "sroJOCppyXma"
   },
   "outputs": [],
   "source": [
    "def train(model, train_dataloader, val_dataloader, optimizer, epochs=5):\n",
    "    \n",
    "    max_acc = 0       \n",
    "    checkpoint_dir = '/content/logs'\n",
    "    save_freq = 1\n",
    "    \n",
    "    for epoch in range(epochs):\n",
    "        model.train()\n",
    "        model.train_loop(epoch, train_loader, optimizer) #model are called by reference, no need to return \n",
    "        model.eval()\n",
    "\n",
    "        if not os.path.isdir(checkpoint_dir):\n",
    "            os.makedirs(checkpoint_dir)\n",
    "\n",
    "        acc = model.test_loop(val_loader)\n",
    "        if acc > max_acc : #for baseline and baseline++, we don't use validation here so we let acc = -1\n",
    "            print(\"best model! save...\")\n",
    "            max_acc = acc\n",
    "            outfile = os.path.join(checkpoint_dir, 'best_model.tar')\n",
    "            torch.save({'epoch':epoch, 'state':model.state_dict()}, outfile)\n",
    "\n",
    "        if (epoch % save_freq==0) or (epoch==epochs-1):\n",
    "            outfile = os.path.join(checkpoint_dir, '{:d}.tar'.format(epoch))\n",
    "            torch.save({'epoch':epoch, 'state':model.state_dict()}, outfile)\n",
    "            \n",
    "    return model"
   ]
  },
  {
   "cell_type": "code",
   "execution_count": 0,
   "metadata": {
    "colab": {},
    "colab_type": "code",
    "id": "FL_pjwbMtIeR"
   },
   "outputs": [],
   "source": [
    "model = train(base_model, train_loader, val_loader, optimizer, epochs=5)"
   ]
  },
  {
   "cell_type": "markdown",
   "metadata": {
    "colab_type": "text",
    "id": "JyDNHX7JspXV"
   },
   "source": [
    "### Finetune"
   ]
  },
  {
   "cell_type": "code",
   "execution_count": 0,
   "metadata": {
    "colab": {},
    "colab_type": "code",
    "id": "e96UX6BwKgMO"
   },
   "outputs": [],
   "source": [
    "def get_nway_data(data_dict, n_way=5, n_support=5, n_query=15, split='val'):\n",
    "    support = []\n",
    "    query = []\n",
    "    x = [[] for _ in range(n_way)]\n",
    "    keys = [k for k, v in data_dict.items()]\n",
    "    \n",
    "    rnd_cls_index = np.random.choice(len(keys), n_way, False)\n",
    "    #print (rnd_cls_index)\n",
    "   \n",
    "    for ix, c in enumerate(rnd_cls_index):\n",
    "        #print (keys[c])\n",
    "        imgs = np.array(data_dict[keys[c]])\n",
    "        #print (len(imgs))\n",
    "        rnd_imgs_index = np.random.choice(len(imgs), n_support+n_query, False)\n",
    "        #print (rnd_imgs_index)\n",
    "        support.append(imgs[rnd_imgs_index[:n_support]])\n",
    "        query.append(imgs[rnd_imgs_index[n_support:]])\n",
    "        \n",
    "        for i in rnd_imgs_index:\n",
    "            im = Image.open(imgs[i]).convert('L')\n",
    "            im = im.resize((28, 28), resample=Image.LANCZOS)\n",
    "            arr = np.array(im, np.float32)\n",
    "            arr = np.reshape(im, (1, 28, 28))\n",
    "             \n",
    "            x[ix].append(arr)\n",
    "    return np.array(x)"
   ]
  },
  {
   "cell_type": "code",
   "execution_count": 0,
   "metadata": {
    "colab": {},
    "colab_type": "code",
    "id": "LKWpgugYOZLN"
   },
   "outputs": [],
   "source": [
    "x = get_nway_data(val_dict)\n",
    "x = torch.from_numpy(x).float()"
   ]
  },
  {
   "cell_type": "code",
   "execution_count": 0,
   "metadata": {
    "colab": {},
    "colab_type": "code",
    "id": "z8m_ROESMeRC"
   },
   "outputs": [],
   "source": []
  },
  {
   "cell_type": "code",
   "execution_count": 0,
   "metadata": {
    "colab": {},
    "colab_type": "code",
    "id": "c_ugKpAPsqgY"
   },
   "outputs": [],
   "source": [
    "class BaselineFinetune(nn.Module):\n",
    "    def __init__(self, model_func, n_way, n_support, n_query):\n",
    "        super(BaselineFinetune, self).__init__()\n",
    "        self.n_way      = n_way\n",
    "        self.n_support  = n_support\n",
    "        self.n_query    = n_query \n",
    "        self.feature    = model_func\n",
    "        self.feat_dim   = self.feature.final_feat_dim\n",
    "\n",
    "    def set_forward(self, x, is_feature = True):\n",
    "        return self.set_forward_adaptation(x, is_feature) #Baseline always do adaptation\n",
    "\n",
    "    def forward(self, x):\n",
    "        out  = self.feature.forward(x)\n",
    "        return out\n",
    "\n",
    "    def parse_feature(self, x, is_feature=False):\n",
    "        x    = Variable(x.to(device))\n",
    "        if is_feature:\n",
    "            z_all = x\n",
    "        else:\n",
    "            x           = x.contiguous().view(self.n_way * (self.n_support + self.n_query), *x.size()[2:])\n",
    "            z_all       = self.feature.forward(x)\n",
    "            z_all       = z_all.view( self.n_way, self.n_support + self.n_query, -1)\n",
    "        z_support   = z_all[:, :self.n_support]\n",
    "        z_query     = z_all[:, self.n_support:]\n",
    "\n",
    "        return z_support, z_query\n",
    "\n",
    "    def set_forward_adaptation(self, x, is_feature = False): #further adaptation, default is fixing feature and train a new softmax clasifier\n",
    "        z_support, z_query  = self.parse_feature(x, is_feature)\n",
    "\n",
    "        z_support   = z_support.contiguous().view(self.n_way* self.n_support, -1 )\n",
    "        z_query     = z_query.contiguous().view(self.n_way* self.n_query, -1 )\n",
    "\n",
    "        y_support = torch.from_numpy(np.repeat(range(self.n_way), self.n_support))\n",
    "        y_support = Variable(y_support.to(device))\n",
    "\n",
    "        linear_clf = nn.Linear(self.feat_dim, self.n_way)\n",
    "        linear_clf = linear_clf.to(device)\n",
    "\n",
    "        set_optimizer = torch.optim.SGD(linear_clf.parameters(), lr = 0.01, momentum=0.9, dampening=0.9, weight_decay=0.001)\n",
    "\n",
    "        loss_function = nn.CrossEntropyLoss()\n",
    "        loss_function = loss_function.to(device)\n",
    "        \n",
    "        batch_size = 4\n",
    "        support_size = self.n_way * self.n_support\n",
    "        for epoch in range(100):\n",
    "            rand_id = np.random.permutation(support_size)\n",
    "            for i in range(0, support_size , batch_size):\n",
    "                set_optimizer.zero_grad()\n",
    "                selected_id = torch.from_numpy(rand_id[i: min(i+batch_size, support_size)]).to(device)\n",
    "                z_batch = z_support[selected_id]\n",
    "                y_batch = y_support[selected_id] \n",
    "                scores = linear_clf(z_batch)\n",
    "                loss = loss_function(scores,y_batch)\n",
    "                loss.backward(retain_graph=True)\n",
    "                set_optimizer.step()\n",
    "\n",
    "        scores = linear_clf(z_query)\n",
    "        return scores"
   ]
  },
  {
   "cell_type": "code",
   "execution_count": 0,
   "metadata": {
    "colab": {
     "base_uri": "https://localhost:8080/",
     "height": 34
    },
    "colab_type": "code",
    "id": "I0WFRCdR2wur",
    "outputId": "606f56d9-ef4c-4680-ee5a-dccc61ada7bd"
   },
   "outputs": [
    {
     "data": {
      "text/plain": [
       "IncompatibleKeys(missing_keys=[], unexpected_keys=[])"
      ]
     },
     "execution_count": 37,
     "metadata": {
      "tags": []
     },
     "output_type": "execute_result"
    }
   ],
   "source": [
    "modelfile = os.path.join('/content/logs', '4.tar')\n",
    "\n",
    "tmp = torch.load(modelfile)\n",
    "state = tmp['state']\n",
    "state_keys = list(state.keys())\n",
    "\n",
    "for i, key in enumerate(state_keys):\n",
    "    if \"feature.\" in key:\n",
    "        newkey = key.replace(\"feature.\",\"\")  # an architecture model has attribute 'feature', load architecture feature to backbone by casting name from 'feature.trunk.xx' to 'trunk.xx'  \n",
    "        state[newkey] = state.pop(key)\n",
    "    else:\n",
    "        state.pop(key)\n",
    "\n",
    "Conv4.load_state_dict(state)"
   ]
  },
  {
   "cell_type": "code",
   "execution_count": 0,
   "metadata": {
    "colab": {},
    "colab_type": "code",
    "id": "oozl5Ixx_Ox8"
   },
   "outputs": [],
   "source": [
    "finetune_model = BaselineFinetune(Conv4, n_way=5, n_support=5, n_query=15)"
   ]
  },
  {
   "cell_type": "code",
   "execution_count": 0,
   "metadata": {
    "colab": {},
    "colab_type": "code",
    "id": "DyMeMOdCyFVR"
   },
   "outputs": [],
   "source": [
    "scores = finetune_model.set_forward_adaptation(x, is_feature=False)"
   ]
  },
  {
   "cell_type": "code",
   "execution_count": 0,
   "metadata": {
    "colab": {
     "base_uri": "https://localhost:8080/",
     "height": 34
    },
    "colab_type": "code",
    "id": "n1bYHm7kyFa6",
    "outputId": "b3e168a9-4679-4b2b-83e9-70796fd8a2b5"
   },
   "outputs": [
    {
     "name": "stdout",
     "output_type": "stream",
     "text": [
      "92.0\n"
     ]
    }
   ],
   "source": [
    "n_way = 5\n",
    "n_query = 15\n",
    "pred = scores.data.cpu().numpy().argmax(axis = 1)\n",
    "y = np.repeat(range(n_way), n_query )\n",
    "acc = np.mean(pred == y)*100 \n",
    "print (acc)"
   ]
  },
  {
   "cell_type": "markdown",
   "metadata": {},
   "source": [
    "### Results\n",
    "\n",
    "![header](meta_learning/header.png \"header\")\n",
    "![baseline_res](meta_learning/baseline_result.png \"res\")\n"
   ]
  },
  {
   "cell_type": "markdown",
   "metadata": {
    "colab_type": "text",
    "id": "MKYNcPLo32bu"
   },
   "source": [
    "### 5-shot 5-way"
   ]
  },
  {
   "cell_type": "code",
   "execution_count": 0,
   "metadata": {
    "colab": {
     "base_uri": "https://localhost:8080/",
     "height": 35
    },
    "colab_type": "code",
    "id": "sMO90vlJ29L9",
    "outputId": "9dbd26b4-ddeb-4e15-8f58-86d35bd64817"
   },
   "outputs": [
    {
     "name": "stderr",
     "output_type": "stream",
     "text": [
      "100%|██████████| 600/600 [2:06:35<00:00, 15.35s/it]\n"
     ]
    }
   ],
   "source": [
    "from tqdm import tqdm\n",
    "num_iters = 600\n",
    "acc_all = []\n",
    "n_way = 5\n",
    "n_query = 15\n",
    "for _ in tqdm(range(num_iters)):\n",
    "    x = get_nway_data(val_dict)\n",
    "    x = torch.from_numpy(x).float()\n",
    "    scores = finetune_model.set_forward_adaptation(x, is_feature=False)    \n",
    "    pred = scores.data.cpu().numpy().argmax(axis = 1)\n",
    "    y = np.repeat(range(n_way), n_query )\n",
    "    acc = np.mean(pred == y)*100 \n",
    "    acc_all.append(acc)"
   ]
  },
  {
   "cell_type": "code",
   "execution_count": 0,
   "metadata": {
    "colab": {
     "base_uri": "https://localhost:8080/",
     "height": 35
    },
    "colab_type": "code",
    "id": "LpMhtbpY3Y8q",
    "outputId": "9b3a6b29-2e9c-434c-9991-90a20d31ebdc"
   },
   "outputs": [
    {
     "name": "stdout",
     "output_type": "stream",
     "text": [
      "600 Test Acc = 99.21% +- 0.15%\n"
     ]
    }
   ],
   "source": [
    "acc_all  = np.asarray(acc_all)\n",
    "acc_mean = np.mean(acc_all)\n",
    "acc_std  = np.std(acc_all)\n",
    "print('%d Test Acc = %4.2f%% +- %4.2f%%' %(num_iters,  acc_mean, 1.96*acc_std/np.sqrt(num_iters)))"
   ]
  },
  {
   "cell_type": "markdown",
   "metadata": {
    "colab_type": "text",
    "id": "QvHpAjRR36V0"
   },
   "source": [
    "###  1-shot 5-way"
   ]
  },
  {
   "cell_type": "code",
   "execution_count": 0,
   "metadata": {
    "colab": {},
    "colab_type": "code",
    "id": "kgIbqeEW4SCf"
   },
   "outputs": [],
   "source": [
    "from tqdm import tqdm\n",
    "num_iters = 600\n",
    "acc_all = []\n",
    "n_way = 5\n",
    "n_query = 15\n",
    "n_support = 1\n",
    "finetune_model = BaselineFinetune(Conv4, n_way=5, n_support=1, n_query=15)\n",
    "\n",
    "for _ in tqdm(range(num_iters)):\n",
    "    x = get_nway_data(val_dict, n_way, n_support, n_query)\n",
    "    x = torch.from_numpy(x).float()\n",
    "    scores = finetune_model.set_forward_adaptation(x, is_feature=False)    \n",
    "    pred = scores.data.cpu().numpy().argmax(axis = 1)\n",
    "    y = np.repeat(range(n_way), n_query)\n",
    "    acc = np.mean(pred == y)*100 \n",
    "    acc_all.append(acc)"
   ]
  },
  {
   "cell_type": "code",
   "execution_count": 0,
   "metadata": {
    "colab": {
     "base_uri": "https://localhost:8080/",
     "height": 35
    },
    "colab_type": "code",
    "id": "-cuyF35o4SC6",
    "outputId": "7068c915-16a3-4f20-aec4-bbc510a29ddc"
   },
   "outputs": [
    {
     "name": "stdout",
     "output_type": "stream",
     "text": [
      "600 Test Acc = 95.67% +- 0.37%\n"
     ]
    }
   ],
   "source": [
    "acc_all  = np.asarray(acc_all)\n",
    "acc_mean = np.mean(acc_all)\n",
    "acc_std  = np.std(acc_all)\n",
    "print('%d Test Acc = %4.2f%% +- %4.2f%%' %(num_iters,  acc_mean, 1.96*acc_std/np.sqrt(num_iters)))"
   ]
  },
  {
   "cell_type": "code",
   "execution_count": 0,
   "metadata": {
    "colab": {},
    "colab_type": "code",
    "id": "1mqpS9_b_tMl"
   },
   "outputs": [],
   "source": []
  },
  {
   "cell_type": "markdown",
   "metadata": {
    "colab_type": "text",
    "id": "_YHSLdDeJWcr"
   },
   "source": [
    "## Test Samples"
   ]
  },
  {
   "cell_type": "code",
   "execution_count": 0,
   "metadata": {
    "colab": {},
    "colab_type": "code",
    "id": "GX3BiwvqJYhP"
   },
   "outputs": [],
   "source": [
    "test_x = get_nway_data(test_dict, split='test')\n",
    "test_x = torch.from_numpy(test_x).float()"
   ]
  },
  {
   "cell_type": "code",
   "execution_count": 0,
   "metadata": {
    "colab": {},
    "colab_type": "code",
    "id": "24j2cBgJJfwS"
   },
   "outputs": [],
   "source": [
    "finetune_model = BaselineFinetune(Conv4, n_way=5, n_support=5, n_query=15)"
   ]
  },
  {
   "cell_type": "code",
   "execution_count": 0,
   "metadata": {
    "colab": {},
    "colab_type": "code",
    "id": "f1K7K4h5Jfwh"
   },
   "outputs": [],
   "source": [
    "scores = finetune_model.set_forward_adaptation(test_x, is_feature=False)"
   ]
  },
  {
   "cell_type": "code",
   "execution_count": 0,
   "metadata": {
    "colab": {
     "base_uri": "https://localhost:8080/",
     "height": 34
    },
    "colab_type": "code",
    "id": "Grrw_3sjJfwv",
    "outputId": "5e691c79-f409-436a-d21b-d8e3d8baaff4"
   },
   "outputs": [
    {
     "name": "stdout",
     "output_type": "stream",
     "text": [
      "98.66666666666667\n"
     ]
    }
   ],
   "source": [
    "n_way = 5\n",
    "n_query = 15\n",
    "pred = scores.data.cpu().numpy().argmax(axis = 1)\n",
    "y = np.repeat(range(n_way), n_query)\n",
    "acc = np.mean(pred == y)*100 \n",
    "print (acc)"
   ]
  },
  {
   "cell_type": "code",
   "execution_count": 0,
   "metadata": {
    "colab": {
     "base_uri": "https://localhost:8080/",
     "height": 191
    },
    "colab_type": "code",
    "id": "KI2ioD4dTeOZ",
    "outputId": "a4a4e6ce-a59a-490a-e5a2-93987f6fc8e4"
   },
   "outputs": [
    {
     "data": {
      "text/plain": [
       "(array([0, 0, 0, 0, 0, 0, 0, 0, 0, 0, 0, 0, 0, 0, 0, 1, 1, 1, 1, 1, 1, 1,\n",
       "        1, 1, 1, 1, 1, 1, 1, 1, 2, 2, 2, 3, 2, 2, 2, 2, 2, 2, 2, 2, 2, 2,\n",
       "        2, 3, 3, 3, 3, 3, 3, 3, 3, 3, 3, 3, 3, 3, 3, 3, 4, 4, 4, 4, 4, 4,\n",
       "        4, 4, 4, 4, 4, 4, 4, 4, 4]),\n",
       " (75,),\n",
       " array([0, 0, 0, 0, 0, 0, 0, 0, 0, 0, 0, 0, 0, 0, 0, 1, 1, 1, 1, 1, 1, 1,\n",
       "        1, 1, 1, 1, 1, 1, 1, 1, 2, 2, 2, 2, 2, 2, 2, 2, 2, 2, 2, 2, 2, 2,\n",
       "        2, 3, 3, 3, 3, 3, 3, 3, 3, 3, 3, 3, 3, 3, 3, 3, 4, 4, 4, 4, 4, 4,\n",
       "        4, 4, 4, 4, 4, 4, 4, 4, 4]),\n",
       " (75,))"
      ]
     },
     "execution_count": 46,
     "metadata": {
      "tags": []
     },
     "output_type": "execute_result"
    }
   ],
   "source": [
    "pred, pred.shape, y, y.shape"
   ]
  },
  {
   "cell_type": "markdown",
   "metadata": {
    "colab_type": "text",
    "id": "RVTx0WU4Q3Nt"
   },
   "source": [
    "### Choose a class to visualize"
   ]
  },
  {
   "cell_type": "code",
   "execution_count": 0,
   "metadata": {
    "colab": {},
    "colab_type": "code",
    "id": "Pw0xW4v5OlcC"
   },
   "outputs": [],
   "source": [
    "# batch size : [5, 20, 1, 28, 28]\n",
    "# classes 0, 1, 2, 3, 4\n",
    "# support images first 5\n",
    "# query images next 15\n",
    "# each image of size (28, 28, 1)\n",
    "choose_class = 2"
   ]
  },
  {
   "cell_type": "code",
   "execution_count": 0,
   "metadata": {
    "colab": {},
    "colab_type": "code",
    "id": "1x3T1aaBMAYG"
   },
   "outputs": [],
   "source": [
    "# visualize support images\n",
    "support_imgs = test_x[choose_class, 0:5]\n",
    "# visualize query images only\n",
    "query_imgs = test_x[choose_class, 5:20]"
   ]
  },
  {
   "cell_type": "code",
   "execution_count": 0,
   "metadata": {
    "colab": {
     "base_uri": "https://localhost:8080/",
     "height": 344
    },
    "colab_type": "code",
    "id": "EXKI3OX_Mp4r",
    "outputId": "ac9dd596-8d27-41f5-eedd-da0095f64cae"
   },
   "outputs": [
    {
     "data": {
      "image/png": "[encoded data removed]",
      "text/plain": [
       "<Figure size 1080x288 with 5 Axes>"
      ]
     },
     "metadata": {
      "tags": []
     },
     "output_type": "display_data"
    },
    {
     "data": {
      "image/png": "[encoded data removed]",
      "text/plain": [
       "<Figure size 1080x288 with 15 Axes>"
      ]
     },
     "metadata": {
      "tags": []
     },
     "output_type": "display_data"
    }
   ],
   "source": [
    "# get sample outputs\n",
    "labels = y[choose_class*15:choose_class*15+15]\n",
    "support_lbl = np.ones(len(support_imgs), dtype=np.int16) * choose_class\n",
    "# get output i.e., predicted class\n",
    "preds = pred[choose_class*15:choose_class*15+15]\n",
    "# prep images for display\n",
    "s_images = support_imgs.cpu().numpy()\n",
    "q_images = query_imgs.cpu().numpy()\n",
    "\n",
    "\n",
    "# plot the images in the batch, along with predicted and true labels\n",
    "fig = plt.figure(figsize=(15, 4))\n",
    "for idx in np.arange(5):\n",
    "    ax = fig.add_subplot(2, 20/2, idx+1, xticks=[], yticks=[])\n",
    "    ax.imshow(np.squeeze(s_images[idx]), cmap='gray')\n",
    "    ax.set_title(\"{} \".format(str(support_lbl[idx])))\n",
    "\n",
    "# plot the images in the batch, along with predicted and true labels\n",
    "fig = plt.figure(figsize=(15, 4))\n",
    "for idx in np.arange(15):\n",
    "    ax = fig.add_subplot(2, 20/2, idx+1, xticks=[], yticks=[])\n",
    "    ax.imshow(np.squeeze(q_images[idx]), cmap='gray')\n",
    "    ax.set_title(\"{} ({})\".format(str(preds[idx].item()), str(labels[idx].item())),\n",
    "                 color=(\"green\" if preds[idx]==labels[idx] else \"red\"))"
   ]
  },
  {
   "cell_type": "code",
   "execution_count": 0,
   "metadata": {
    "colab": {},
    "colab_type": "code",
    "id": "SFANj4l9Ofjm"
   },
   "outputs": [],
   "source": []
  }
 ],
 "metadata": {
  "accelerator": "GPU",
  "colab": {
   "collapsed_sections": [
    "MKYNcPLo32bu",
    "QvHpAjRR36V0"
   ],
   "name": "meta_learning_baseline.ipynb",
   "provenance": [],
   "version": "0.3.2"
  },
  "kernelspec": {
   "display_name": "Python 3",
   "language": "python",
   "name": "python3"
  },
  "language_info": {
   "codemirror_mode": {
    "name": "ipython",
    "version": 3
   },
   "file_extension": ".py",
   "mimetype": "text/x-python",
   "name": "python",
   "nbconvert_exporter": "python",
   "pygments_lexer": "ipython3",
   "version": "3.7.3"
  }
 },
 "nbformat": 4,
 "nbformat_minor": 1
}
