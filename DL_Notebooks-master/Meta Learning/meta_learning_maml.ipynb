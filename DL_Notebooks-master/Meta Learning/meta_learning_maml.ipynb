{
 "cells": [
  {
   "cell_type": "markdown",
   "metadata": {},
   "source": [
    "# Meta Learning\n",
    "\n",
    "In this notebook, we will implement various algorithms from the paper [A Closer Look at Few-Shot Classification](https://openreview.net/pdf?id=HkxLXnAcFQ).\n",
    "\n",
    "Here we will use [PyTorch](https://pytorch.org/tutorials/  \"PyTorch Tutorial\").\n",
    "\n",
    "Everything is explained in-detail in [blog post](https://dudeperf3ct.github.io/meta/learning/2019/04/29/Fun-of-Dissecting-Paper/). \n",
    "\n",
    "#### Run in Colab\n",
    "\n",
    "You can run this notebook in google colab.\n",
    "\n",
    "[![Open In Colab](https://colab.research.google.com/assets/colab-badge.svg)](https://colab.research.google.com/github/dudeperf3ct/DL_notebooks/blob/master/Meta%20Learning/meta_learning_maml.ipynb)"
   ]
  },
  {
   "cell_type": "markdown",
   "metadata": {
    "colab_type": "text",
    "id": "2uXZYkdAGEgW"
   },
   "source": [
    "## Data"
   ]
  },
  {
   "cell_type": "code",
   "execution_count": 0,
   "metadata": {
    "colab": {},
    "colab_type": "code",
    "id": "oqrkYJitzc-s"
   },
   "outputs": [],
   "source": [
    "import os\n",
    "import time\n",
    "from pathlib import Path\n",
    "import shutil\n",
    "from os.path import join\n",
    "from PIL import Image\n",
    "import distutils.core\n",
    "\n",
    "os.mkdir('dataset/')\n",
    "path = Path('dataset/')"
   ]
  },
  {
   "cell_type": "code",
   "execution_count": 0,
   "metadata": {
    "colab": {},
    "colab_type": "code",
    "id": "AkiVBnrFPX4-"
   },
   "outputs": [],
   "source": [
    "! wget -O images_background.zip https://github.com/brendenlake/omniglot/blob/master/python/images_background.zip?raw=true"
   ]
  },
  {
   "cell_type": "code",
   "execution_count": 0,
   "metadata": {
    "colab": {},
    "colab_type": "code",
    "id": "zmAXOd8RzdBp"
   },
   "outputs": [],
   "source": [
    "! wget -O images_evaluation.zip https://github.com/brendenlake/omniglot/blob/master/python/images_evaluation.zip?raw=true"
   ]
  },
  {
   "cell_type": "code",
   "execution_count": 0,
   "metadata": {
    "colab": {},
    "colab_type": "code",
    "id": "_trodYUP8u2w"
   },
   "outputs": [],
   "source": [
    "! unzip -q -n images_background.zip -d {path}\n",
    "! unzip -q -n images_evaluation.zip -d {path}"
   ]
  },
  {
   "cell_type": "code",
   "execution_count": null,
   "metadata": {
    "colab": {
     "base_uri": "https://localhost:8080/",
     "height": 590
    },
    "colab_type": "code",
    "id": "SYV3zffwIbUM",
    "outputId": "af60665c-8fd7-4f00-a733-9bd01364d408",
    "scrolled": true
   },
   "outputs": [],
   "source": [
    "! wget https://raw.githubusercontent.com/jakesnell/prototypical-networks/master/data/omniglot/splits/vinyals/train.txt \n",
    "! wget https://raw.githubusercontent.com/jakesnell/prototypical-networks/master/data/omniglot/splits/vinyals/val.txt\n",
    "! wget https://raw.githubusercontent.com/jakesnell/prototypical-networks/master/data/omniglot/splits/vinyals/test.txt"
   ]
  },
  {
   "cell_type": "code",
   "execution_count": 0,
   "metadata": {
    "colab": {},
    "colab_type": "code",
    "id": "YoohHcXcxaEC"
   },
   "outputs": [],
   "source": [
    "distutils.dir_util.copy_tree(str(path/'images_evaluation/'), str(path/'images_background'))"
   ]
  },
  {
   "cell_type": "code",
   "execution_count": 0,
   "metadata": {
    "colab": {
     "base_uri": "https://localhost:8080/",
     "height": 73
    },
    "colab_type": "code",
    "id": "rKVzbaQv9kKn",
    "outputId": "a0f3d88c-70b3-4c13-83a0-3750d2d673eb"
   },
   "outputs": [
    {
     "name": "stdout",
     "output_type": "stream",
     "text": [
      "Classes: ['Mongolian', 'Greek', 'Angelic', 'Mkhedruli_(Georgian)', 'Inuktitut_(Canadian_Aboriginal_Syllabics)', 'Sylheti', 'Burmese_(Myanmar)', 'Arcadian', 'Blackfoot_(Canadian_Aboriginal_Syllabics)', 'Grantha', 'Gujarati', 'Sanskrit', 'Atlantean', 'Kannada', 'Tifinagh', 'Malay_(Jawi_-_Arabic)', 'Keble', 'Japanese_(katakana)', 'Japanese_(hiragana)', 'Old_Church_Slavonic_(Cyrillic)', 'Alphabet_of_the_Magi', 'Futurama', 'ULOG', 'N_Ko', 'Early_Aramaic', 'Anglo-Saxon_Futhorc', 'Oriya', 'Syriac_(Estrangelo)', 'Ojibwe_(Canadian_Aboriginal_Syllabics)', 'Korean', 'Malayalam', 'Armenian', 'Ge_ez', 'Avesta', 'Aurek-Besh', 'Atemayar_Qelisayer', 'Latin', 'Tengwar', 'Asomtavruli_(Georgian)', 'Tibetan', 'Bengali', 'Cyrillic', 'Manipuri', 'Gurmukhi', 'Glagolitic', 'Balinese', 'Tagalog', 'Hebrew', 'Syriac_(Serto)', 'Braille']\n",
      "Total classes: 50\n"
     ]
    }
   ],
   "source": [
    "print ('Classes:', os.listdir(path/'images_background'))\n",
    "print ('Total classes:', len(os.listdir(path/'images_background')))"
   ]
  },
  {
   "cell_type": "code",
   "execution_count": 0,
   "metadata": {
    "colab": {},
    "colab_type": "code",
    "id": "gjQZLdDiy6y-"
   },
   "outputs": [],
   "source": [
    "path = Path(path/'images_background')"
   ]
  },
  {
   "cell_type": "code",
   "execution_count": 0,
   "metadata": {
    "colab": {},
    "colab_type": "code",
    "id": "ZtSDHzRly68v"
   },
   "outputs": [],
   "source": [
    "def rotate_images():\n",
    "    dirs = sorted(os.listdir(path))\n",
    "    for d in dirs:\n",
    "        char_folder = os.listdir(path/d)\n",
    "        for character in char_folder:\n",
    "            for deg in [0, 90, 180, 270]:\n",
    "                img_files = os.listdir(join(path, d, character))\n",
    "                rot_folder = \"rot%03d\"%deg\n",
    "                rot_folder_path = join(path, d, character, rot_folder)\n",
    "                if not os.path.exists(rot_folder_path):\n",
    "                    os.makedirs(rot_folder_path)\n",
    "                for img in img_files:\n",
    "                    if 'rot' not in img:\n",
    "                        rot_img = Image.open(join(path, d, character, img)).rotate(deg)\n",
    "                        rot_img.save(join(path, d, character, rot_folder, img))"
   ]
  },
  {
   "cell_type": "code",
   "execution_count": 0,
   "metadata": {
    "colab": {},
    "colab_type": "code",
    "id": "9PB5HGx_y64m"
   },
   "outputs": [],
   "source": [
    "start = time.time()\n",
    "rotate_images()\n",
    "print ('Preprocessing Rotation Time taken: %.2f'%(time.time()-start))"
   ]
  },
  {
   "cell_type": "code",
   "execution_count": 0,
   "metadata": {
    "colab": {},
    "colab_type": "code",
    "id": "F80dz60-MlDQ"
   },
   "outputs": [],
   "source": [
    "os.mkdir('data/')\n",
    "os.mkdir('data/train')\n",
    "os.mkdir('data/val')\n",
    "os.mkdir('data/test')\n",
    "data_path = Path('data/')"
   ]
  },
  {
   "cell_type": "code",
   "execution_count": 0,
   "metadata": {
    "colab": {},
    "colab_type": "code",
    "id": "PFf2E2eQrge8"
   },
   "outputs": [],
   "source": [
    "def split_train_val_test(file, q='train'):\n",
    "    \n",
    "    with open(file, 'r') as f:\n",
    "        for line in f:\n",
    "            shutil.move(str(path/line.split('\\n')[0]), join(data_path, q, line.split('\\n')[0]))"
   ]
  },
  {
   "cell_type": "code",
   "execution_count": 0,
   "metadata": {
    "colab": {},
    "colab_type": "code",
    "id": "cc3CtSDLsGK6"
   },
   "outputs": [],
   "source": [
    "split_train_val_test('train.txt', 'train')"
   ]
  },
  {
   "cell_type": "code",
   "execution_count": 0,
   "metadata": {
    "colab": {},
    "colab_type": "code",
    "id": "DF4kSnfktmKz"
   },
   "outputs": [],
   "source": [
    "split_train_val_test('val.txt', 'val')"
   ]
  },
  {
   "cell_type": "code",
   "execution_count": 0,
   "metadata": {
    "colab": {},
    "colab_type": "code",
    "id": "bhh8nsMowzbJ"
   },
   "outputs": [],
   "source": [
    "split_train_val_test('test.txt', 'test')"
   ]
  },
  {
   "cell_type": "code",
   "execution_count": 0,
   "metadata": {
    "colab": {
     "base_uri": "https://localhost:8080/",
     "height": 53
    },
    "colab_type": "code",
    "id": "Rk8VjET27Zdb",
    "outputId": "e2bd8b2b-4522-42bb-bec3-7f531be60c31"
   },
   "outputs": [
    {
     "name": "stdout",
     "output_type": "stream",
     "text": [
      "After splitting number of classes for train, val and test:\n"
     ]
    },
    {
     "data": {
      "text/plain": [
       "(33, 5, 13)"
      ]
     },
     "execution_count": 18,
     "metadata": {
      "tags": []
     },
     "output_type": "execute_result"
    }
   ],
   "source": [
    "print ('After splitting number of classes for train, val and test:')\n",
    "len(os.listdir('data/train/')), len(os.listdir('data/val/')), len(os.listdir('data/test/'))"
   ]
  },
  {
   "cell_type": "code",
   "execution_count": 0,
   "metadata": {
    "colab": {},
    "colab_type": "code",
    "id": "5TZEkPaj9KOl"
   },
   "outputs": [],
   "source": [
    "!tar -cvf dataset.tar /content/data"
   ]
  },
  {
   "cell_type": "code",
   "execution_count": null,
   "metadata": {
    "colab": {
     "base_uri": "https://localhost:8080/",
     "height": 402
    },
    "colab_type": "code",
    "id": "qMqGelRm9KSN",
    "outputId": "798b9a47-4384-4ce3-f712-1e43ee7aeab3",
    "scrolled": true
   },
   "outputs": [],
   "source": [
    "! pip install pydrive"
   ]
  },
  {
   "cell_type": "code",
   "execution_count": 0,
   "metadata": {
    "colab": {},
    "colab_type": "code",
    "id": "cuZ56Zn69JKc"
   },
   "outputs": [],
   "source": [
    "# from pydrive.auth import GoogleAuth\n",
    "# from pydrive.drive import GoogleDrive\n",
    "# from google.colab import auth\n",
    "# from oauth2client.client import GoogleCredentials\n",
    "\n",
    "# # Authenticate and create the PyDrive client.\n",
    "# # This only needs to be done once per notebook.\n",
    "# auth.authenticate_user()\n",
    "# gauth = GoogleAuth()\n",
    "# gauth.credentials = GoogleCredentials.get_application_default()\n",
    "# drive = GoogleDrive(gauth)\n",
    "\n",
    "# upload = drive.CreateFile({'title': 'dataset.tar'})\n",
    "# upload.SetContentFile('dataset.tar')\n",
    "# upload.Upload()"
   ]
  },
  {
   "cell_type": "code",
   "execution_count": 0,
   "metadata": {
    "colab": {},
    "colab_type": "code",
    "id": "QY88klpjAvA5"
   },
   "outputs": [],
   "source": [
    "from pydrive.auth import GoogleAuth\n",
    "from pydrive.drive import GoogleDrive\n",
    "from google.colab import auth\n",
    "from oauth2client.client import GoogleCredentials\n",
    "\n",
    "# Authenticate and create the PyDrive client.\n",
    "# This only needs to be done once per notebook.\n",
    "auth.authenticate_user()\n",
    "gauth = GoogleAuth()\n",
    "gauth.credentials = GoogleCredentials.get_application_default()\n",
    "drive = GoogleDrive(gauth)\n",
    "\n",
    "download = drive.CreateFile({'id': '19Jinmzv_JNEhOVHg5CZMcgbexzTi4oEC'})\n",
    "download.GetContentFile('dataset.tar')"
   ]
  },
  {
   "cell_type": "code",
   "execution_count": 0,
   "metadata": {
    "colab": {},
    "colab_type": "code",
    "id": "FQEWtSEYA1dF"
   },
   "outputs": [],
   "source": [
    "! tar -xf dataset.tar"
   ]
  },
  {
   "cell_type": "markdown",
   "metadata": {
    "colab_type": "text",
    "id": "lufCr6_IFWpr"
   },
   "source": [
    "## MAML\n",
    "\n",
    "We will start with implementing maml algorithm mentioned in the [paper](https://openreview.net/pdf?id=HkxLXnAcFQ).\n",
    "\n",
    "![maml method](meta_learning/maml_method.png \"maml method\")\n",
    "![maml algo](meta_learning/maml_algo.png \"maml algo\")\n",
    "\n",
    "![figure](meta_learning/meta_train_test.png \"figure\")\n",
    "![maml_classifier](meta_learning/maml.png \"classifier\")\n",
    "\n",
    "\n",
    "![implement](meta_learning/implementation.png \"implement\")\n",
    "\n",
    "![omniglot](meta_learning/omniglot.png \"omniglot\")\n",
    "\n",
    "\n",
    "![result](meta_learning/results_total.png \"result\")\n"
   ]
  },
  {
   "cell_type": "markdown",
   "metadata": {
    "colab_type": "text",
    "id": "ftRf8A2CupbI"
   },
   "source": [
    "### Data Preprocessing"
   ]
  },
  {
   "cell_type": "code",
   "execution_count": 0,
   "metadata": {
    "colab": {},
    "colab_type": "code",
    "id": "7bfeUsmhEYVw"
   },
   "outputs": [],
   "source": [
    "import pandas as pd\n",
    "import os\n",
    "from os.path import join\n",
    "import glob\n",
    "from pathlib import Path\n",
    "import operator\n",
    "from functools import reduce\n",
    "import matplotlib.pyplot as plt\n",
    "import random\n",
    "import numpy as np\n",
    "import imageio\n",
    "%matplotlib inline\n",
    "\n",
    "data_path = Path('/content/content/data/')"
   ]
  },
  {
   "cell_type": "code",
   "execution_count": 0,
   "metadata": {
    "colab": {},
    "colab_type": "code",
    "id": "nIXER3M8IFD-"
   },
   "outputs": [],
   "source": [
    "df_train = pd.DataFrame()\n",
    "df_val = pd.DataFrame()\n",
    "df_test = pd.DataFrame()"
   ]
  },
  {
   "cell_type": "code",
   "execution_count": 0,
   "metadata": {
    "colab": {},
    "colab_type": "code",
    "id": "T04qIJ36IFMr"
   },
   "outputs": [],
   "source": [
    "def read_labels(file, q='train'):\n",
    "    \n",
    "    with open(file, 'r') as f:\n",
    "        lines = f.read().splitlines() \n",
    "    return lines\n",
    "\n",
    "def blow_up_labels(lbl):\n",
    "    flat_labels = []\n",
    "    for i, l in enumerate(lbl):\n",
    "        for _ in range(20):\n",
    "            flat_labels.append(l)\n",
    "    return flat_labels"
   ]
  },
  {
   "cell_type": "code",
   "execution_count": 0,
   "metadata": {
    "colab": {
     "base_uri": "https://localhost:8080/",
     "height": 34
    },
    "colab_type": "code",
    "id": "1rGlg3hdIK7-",
    "outputId": "c43ad90c-2604-4191-8542-631c26133228"
   },
   "outputs": [
    {
     "name": "stdout",
     "output_type": "stream",
     "text": [
      "Training Classes: 4112\n"
     ]
    }
   ],
   "source": [
    "trn_lbl = sorted(read_labels('train.txt', 'train'))\n",
    "print ('Training Classes:', len(trn_lbl))\n",
    "df_train['labels'] = blow_up_labels(trn_lbl)"
   ]
  },
  {
   "cell_type": "code",
   "execution_count": 0,
   "metadata": {
    "colab": {
     "base_uri": "https://localhost:8080/",
     "height": 34
    },
    "colab_type": "code",
    "id": "E4poZxgWUkaM",
    "outputId": "fb75bb08-71cf-4a1f-b094-4646d3077a5d"
   },
   "outputs": [
    {
     "name": "stdout",
     "output_type": "stream",
     "text": [
      "Validation Classes: 688\n"
     ]
    }
   ],
   "source": [
    "val_lbl = sorted(read_labels('val.txt', 'val'))\n",
    "print ('Validation Classes:', len(val_lbl))\n",
    "df_val['labels'] = blow_up_labels(val_lbl)"
   ]
  },
  {
   "cell_type": "code",
   "execution_count": 0,
   "metadata": {
    "colab": {
     "base_uri": "https://localhost:8080/",
     "height": 34
    },
    "colab_type": "code",
    "id": "aygPk5o1yi6b",
    "outputId": "e5f0225b-1a31-44ed-ac0a-523f6a7b3f05"
   },
   "outputs": [
    {
     "name": "stdout",
     "output_type": "stream",
     "text": [
      "Validation Classes: 1692\n"
     ]
    }
   ],
   "source": [
    "test_lbl = sorted(read_labels('test.txt', 'test'))\n",
    "print ('Validation Classes:', len(test_lbl))\n",
    "df_test['labels'] = blow_up_labels(test_lbl)"
   ]
  },
  {
   "cell_type": "code",
   "execution_count": 0,
   "metadata": {
    "colab": {},
    "colab_type": "code",
    "id": "4CLzaFc9ILKN"
   },
   "outputs": [],
   "source": [
    "def read_image_paths(q='train'):\n",
    "    paths = []\n",
    "    dirs = sorted(os.listdir(data_path/q))\n",
    "    for d in dirs:\n",
    "        character_folder = sorted(os.listdir(join(data_path, q, d)))\n",
    "        for c in character_folder:\n",
    "            rot_folder = sorted(os.listdir(join(data_path, q, d, c)))\n",
    "            for r in rot_folder:\n",
    "                paths.append(sorted(glob.glob(join(data_path, q, d, c, r, '*.png'))))\n",
    "    return paths"
   ]
  },
  {
   "cell_type": "code",
   "execution_count": 0,
   "metadata": {
    "colab": {},
    "colab_type": "code",
    "id": "TDSC4VB9Jgd7"
   },
   "outputs": [],
   "source": [
    "trn_img_list = read_image_paths('train')\n",
    "flat_img_list = reduce(operator.concat, trn_img_list)\n",
    "df_train['img_paths'] = flat_img_list"
   ]
  },
  {
   "cell_type": "code",
   "execution_count": 0,
   "metadata": {
    "colab": {},
    "colab_type": "code",
    "id": "MLWbcUInJhTw"
   },
   "outputs": [],
   "source": [
    "val_img_list = read_image_paths('val')\n",
    "flat_img_list = reduce(operator.concat, val_img_list)\n",
    "df_val['img_paths'] = flat_img_list"
   ]
  },
  {
   "cell_type": "code",
   "execution_count": 0,
   "metadata": {
    "colab": {},
    "colab_type": "code",
    "id": "7ydfyi_Lyn7V"
   },
   "outputs": [],
   "source": [
    "test_img_list = read_image_paths('test')\n",
    "flat_img_list = reduce(operator.concat, test_img_list)\n",
    "df_test['img_paths'] = flat_img_list"
   ]
  },
  {
   "cell_type": "code",
   "execution_count": 0,
   "metadata": {
    "colab": {},
    "colab_type": "code",
    "id": "Gw2WhzYfTZ5J"
   },
   "outputs": [],
   "source": [
    "trn_lbl_map = dict(zip(trn_lbl, np.array(range(len(trn_lbl)))))\n",
    "val_lbl_map = dict(zip(val_lbl, np.array(range(len(val_lbl)))))"
   ]
  },
  {
   "cell_type": "code",
   "execution_count": 0,
   "metadata": {
    "colab": {},
    "colab_type": "code",
    "id": "z9_1nPqXImeK"
   },
   "outputs": [],
   "source": [
    "trn_dict = dict(zip(trn_lbl, trn_img_list))\n",
    "val_dict = dict(zip(val_lbl, val_img_list))\n",
    "test_dict = dict(zip(test_lbl, test_img_list))"
   ]
  },
  {
   "cell_type": "code",
   "execution_count": 0,
   "metadata": {
    "colab": {},
    "colab_type": "code",
    "id": "zNaWw9JYVEU7"
   },
   "outputs": [],
   "source": [
    "def show_images(img_path, classes, rows=2, columns=4):\n",
    "    fig=plt.figure(figsize=(18, 9))\n",
    "    for i in range(1, columns*rows+1):\n",
    "        img = imageio.imread(img_path[i-1])    \n",
    "        fig.add_subplot(rows, columns, i)\n",
    "        plt.imshow(img, cmap='gray')\n",
    "        plt.title(f'Label : {classes[i-1]}')\n",
    "        plt.axis('off')"
   ]
  },
  {
   "cell_type": "code",
   "execution_count": 0,
   "metadata": {
    "colab": {
     "base_uri": "https://localhost:8080/",
     "height": 549
    },
    "colab_type": "code",
    "id": "vN8hUo89WyZp",
    "outputId": "c69e6833-7426-427a-8e32-f59613c00b97"
   },
   "outputs": [
    {
     "data": {
      "image/png": "[encoded data removed]",
      "text/plain": [
       "<Figure size 1296x648 with 8 Axes>"
      ]
     },
     "metadata": {
      "tags": []
     },
     "output_type": "display_data"
    }
   ],
   "source": [
    "#randomly sample 8 images from train dataset\n",
    "rnd_num = random.sample(list(np.arange(len(df_train))), 8)\n",
    "rnd_files = df_train['img_paths'].iloc[rnd_num].values\n",
    "rnd_lbls = df_train['labels'].iloc[rnd_num].values\n",
    "show_images(rnd_files, rnd_lbls)"
   ]
  },
  {
   "cell_type": "code",
   "execution_count": 0,
   "metadata": {
    "colab": {
     "base_uri": "https://localhost:8080/",
     "height": 549
    },
    "colab_type": "code",
    "id": "3v01Ct0YW28R",
    "outputId": "5f4ff56c-62b9-4d49-ec9c-08ad97ad1491"
   },
   "outputs": [
    {
     "data": {
      "image/png": "[encoded data removed]",
      "text/plain": [
       "<Figure size 1296x648 with 8 Axes>"
      ]
     },
     "metadata": {
      "tags": []
     },
     "output_type": "display_data"
    }
   ],
   "source": [
    "#randomly sample 8 images from val dataset\n",
    "rnd_num = random.sample(list(np.arange(len(df_val))), 8)\n",
    "rnd_files = df_val['img_paths'].iloc[rnd_num].values\n",
    "rnd_lbls = df_val['labels'].iloc[rnd_num].values\n",
    "show_images(rnd_files, rnd_lbls)"
   ]
  },
  {
   "cell_type": "code",
   "execution_count": 0,
   "metadata": {
    "colab": {},
    "colab_type": "code",
    "id": "o8AeXyVJBOmI"
   },
   "outputs": [],
   "source": []
  },
  {
   "cell_type": "code",
   "execution_count": 0,
   "metadata": {
    "colab": {},
    "colab_type": "code",
    "id": "KSfqM11rEYfZ"
   },
   "outputs": [],
   "source": [
    "import torch\n",
    "import torch.utils.data as data\n",
    "import torchvision.transforms as transforms\n",
    "import torch\n",
    "from torch.autograd import Variable\n",
    "import torch.nn as nn\n",
    "import math\n",
    "import torch.nn.functional as F\n",
    "import torch.optim\n",
    "import torch.optim.lr_scheduler as lr_scheduler\n",
    "from torch.nn.utils.weight_norm import WeightNorm\n",
    "from abc import abstractmethod\n",
    "from PIL import Image"
   ]
  },
  {
   "cell_type": "code",
   "execution_count": 0,
   "metadata": {
    "colab": {
     "base_uri": "https://localhost:8080/",
     "height": 34
    },
    "colab_type": "code",
    "id": "GAQbEgKnEYdW",
    "outputId": "4ec7fd48-b9df-4c0e-d835-5eb9a7c12036"
   },
   "outputs": [
    {
     "name": "stdout",
     "output_type": "stream",
     "text": [
      "cuda:0\n"
     ]
    }
   ],
   "source": [
    "def enforce_reproducibility(seed=42):\n",
    "    # Sets seed manually for both CPU and CUDA\n",
    "    torch.manual_seed(seed)\n",
    "    # For atomic operations there is currently \n",
    "    # no simple way to enforce determinism, as\n",
    "    # the order of parallel operations is not known.\n",
    "    #\n",
    "    # CUDNN\n",
    "    torch.backends.cudnn.deterministic = True\n",
    "    torch.backends.cudnn.benchmark = False\n",
    "    # System based\n",
    "    np.random.seed(seed)\n",
    "\n",
    "enforce_reproducibility()\n",
    "device = torch.device(\"cuda:0\") if torch.cuda.is_available() else torch.device(\"cpu\")\n",
    "print (device)\n",
    "batch_size = 1"
   ]
  },
  {
   "cell_type": "markdown",
   "metadata": {
    "colab_type": "text",
    "id": "GFpyAO3NyPE2"
   },
   "source": [
    "### Custom Dataset"
   ]
  },
  {
   "cell_type": "code",
   "execution_count": 0,
   "metadata": {
    "colab": {},
    "colab_type": "code",
    "id": "TyZq5j0QEYac"
   },
   "outputs": [],
   "source": [
    "class FewShotDataset(data.Dataset):\n",
    "    \n",
    "    def __init__(self, split='train'):     \n",
    "        self.split = split\n",
    "        self.data_dict = trn_dict if split == 'train' else val_dict\n",
    "        if split == 'test':\n",
    "            self.data_dict = test_dict\n",
    "        \n",
    "    def __len__(self):\n",
    "        return len(self.data_dict)\n",
    "    \n",
    "    def __getitem__(self, idx):\n",
    "        raise NotImplementedError(\"This is abstract class. Not implemented yet!\")"
   ]
  },
  {
   "cell_type": "code",
   "execution_count": 0,
   "metadata": {
    "colab": {},
    "colab_type": "code",
    "id": "Qu9jYUbsF0f0"
   },
   "outputs": [],
   "source": [
    "class NwayOmniglot(FewShotDataset):\n",
    "      \n",
    "    def __init__(self, n_way, n_support, n_query, split):\n",
    "        super(NwayOmniglot, self).__init__(split)\n",
    "        self.n_way = n_way\n",
    "        self.n_support = n_support\n",
    "        self.n_query = n_query\n",
    "        \n",
    "    def get_nway_data(self):\n",
    "        support = []\n",
    "        query = []\n",
    "        batch = [[] for _ in range(self.n_way)]\n",
    "        keys = [k for k, v in self.data_dict.items()]\n",
    "\n",
    "        rnd_cls_index = np.random.choice(len(keys), self.n_way, False)\n",
    "        #print (rnd_cls_index)\n",
    "\n",
    "        for ix, c in enumerate(rnd_cls_index):\n",
    "            #print (keys[c])\n",
    "            imgs = np.array(self.data_dict[keys[c]])\n",
    "            #print (len(imgs))\n",
    "            rnd_imgs_index = np.random.choice(len(imgs), self.n_support+self.n_query, False)\n",
    "            #print (rnd_imgs_index)\n",
    "\n",
    "            for i in rnd_imgs_index:\n",
    "                im = Image.open(imgs[i]).convert('L')\n",
    "                im = im.resize((28, 28), resample=Image.LANCZOS)\n",
    "                arr = np.array(im, np.float32)\n",
    "                arr = np.reshape(im, (1, 28, 28))\n",
    "\n",
    "                batch[ix].append(arr)\n",
    "        return torch.from_numpy(np.array(batch)).float()\n",
    "    \n",
    "    def __getitem__(self, idx):\n",
    "        im = self.get_nway_data()\n",
    "        return im, _"
   ]
  },
  {
   "cell_type": "markdown",
   "metadata": {
    "colab_type": "text",
    "id": "3GliehjTyRZD"
   },
   "source": [
    "### Custom DataLoader"
   ]
  },
  {
   "cell_type": "code",
   "execution_count": 0,
   "metadata": {
    "colab": {},
    "colab_type": "code",
    "id": "tKaOOyzKQZ2n"
   },
   "outputs": [],
   "source": [
    "class Dataloader:\n",
    "    @abstractmethod\n",
    "    def get_data_loader(self, split='train'):\n",
    "        pass "
   ]
  },
  {
   "cell_type": "code",
   "execution_count": 0,
   "metadata": {
    "colab": {},
    "colab_type": "code",
    "id": "61Sgk8FkyS6-"
   },
   "outputs": [],
   "source": [
    "class NwaydataLoader(Dataloader):\n",
    "    \n",
    "    def __init__(self, batch_size):\n",
    "        super(NwaydataLoader, self).__init__()\n",
    "        self.batch_size = batch_size\n",
    "    \n",
    "    def get_data_loader(self, split='train'):\n",
    "        dataset = NwayOmniglot(n_way=5, n_support=5, n_query=15, split=split)\n",
    "        data_loader_params = dict(batch_size = self.batch_size, num_workers = 0)       \n",
    "        data_loader = torch.utils.data.DataLoader(dataset, **data_loader_params)\n",
    "        return data_loader"
   ]
  },
  {
   "cell_type": "code",
   "execution_count": 0,
   "metadata": {
    "colab": {},
    "colab_type": "code",
    "id": "Dt9_Mix5tI5_"
   },
   "outputs": [],
   "source": [
    "test_l = NwaydataLoader(batch_size)\n",
    "test_loader = test_l.get_data_loader(split='test')"
   ]
  },
  {
   "cell_type": "code",
   "execution_count": 0,
   "metadata": {
    "colab": {},
    "colab_type": "code",
    "id": "KJ3CcA9dyOhO"
   },
   "outputs": [],
   "source": [
    "# it fails if we run MAML and come back and run again\n",
    "\n",
    "# for (x, _) in test_loader:\n",
    "#     print (x.size())"
   ]
  },
  {
   "cell_type": "code",
   "execution_count": 0,
   "metadata": {
    "colab": {},
    "colab_type": "code",
    "id": "vOK9no9ZtcjH"
   },
   "outputs": [],
   "source": [
    "train_l = NwaydataLoader(batch_size)\n",
    "train_loader = train_l.get_data_loader(split='train')"
   ]
  },
  {
   "cell_type": "code",
   "execution_count": 0,
   "metadata": {
    "colab": {},
    "colab_type": "code",
    "id": "MBH_-mdTxor-"
   },
   "outputs": [],
   "source": [
    "# it fails if we run MAML and come back and run again\n",
    "# for (x, _) in train_loader:\n",
    "#     print (x.size())"
   ]
  },
  {
   "cell_type": "code",
   "execution_count": 0,
   "metadata": {
    "colab": {},
    "colab_type": "code",
    "id": "zPC8DDjItcwc"
   },
   "outputs": [],
   "source": [
    "val_l = NwaydataLoader(batch_size)\n",
    "val_loader = val_l.get_data_loader(split='val')"
   ]
  },
  {
   "cell_type": "code",
   "execution_count": 0,
   "metadata": {
    "colab": {},
    "colab_type": "code",
    "id": "vhjgp77nxqQK"
   },
   "outputs": [],
   "source": [
    "# it fails if we run MAML and come back and run again\n",
    "\n",
    "# for (x, _) in val_loader:\n",
    "#     print (x.size())"
   ]
  },
  {
   "cell_type": "markdown",
   "metadata": {
    "colab_type": "text",
    "id": "ZXRtpJm1yUCH"
   },
   "source": [
    "### MAML Model "
   ]
  },
  {
   "cell_type": "code",
   "execution_count": 0,
   "metadata": {
    "colab": {},
    "colab_type": "code",
    "id": "orJp15CnyTVl"
   },
   "outputs": [],
   "source": [
    "class Flatten(nn.Module):\n",
    "    \n",
    "    def __init__(self):\n",
    "        super(Flatten, self).__init__()\n",
    "        \n",
    "    def forward(self, x):\n",
    "        return x.view(x.size(0), -1)\n",
    "\n",
    "def init_layer(L):\n",
    "    \n",
    "    # Initialization using fan-in\n",
    "    if isinstance(L, nn.Conv2d):\n",
    "        n = L.kernel_size[0]*L.kernel_size[1]*L.out_channels\n",
    "        L.weight.data.normal_(0, math.sqrt(2.0/float(n)))\n",
    "    elif isinstance(L, nn.BatchNorm2d):\n",
    "        L.weight.data.fill_(1)\n",
    "        L.bias.data.fill_(0)"
   ]
  },
  {
   "cell_type": "code",
   "execution_count": 0,
   "metadata": {
    "colab": {},
    "colab_type": "code",
    "id": "9gAXZYiSDwkb"
   },
   "outputs": [],
   "source": [
    "class Linear_fw(nn.Linear): #used in MAML to forward input with fast weight\n",
    "    \n",
    "    def __init__(self, in_features, out_features):\n",
    "        super(Linear_fw, self).__init__(in_features, out_features)\n",
    "        self.weight.fast = None #Lazy hack to add fast weight link\n",
    "        self.bias.fast = None\n",
    "\n",
    "    def forward(self, x):\n",
    "        if self.weight.fast is not None and self.bias.fast is not None:\n",
    "            out = F.linear(x, self.weight.fast, self.bias.fast) #weight.fast (fast weight) is the temporaily adapted weight\n",
    "        else:\n",
    "            out = super(Linear_fw, self).forward(x)\n",
    "        return out\n",
    "\n",
    "class Conv2d_fw(nn.Conv2d): #used in MAML to forward input with fast weight\n",
    "    \n",
    "    def __init__(self, in_channels, out_channels, kernel_size, stride=1, padding=0, bias = True):\n",
    "        super(Conv2d_fw, self).__init__(in_channels, out_channels, kernel_size, stride=stride, padding=padding, bias=bias)\n",
    "        self.weight.fast = None\n",
    "        if not self.bias is None:\n",
    "            self.bias.fast = None\n",
    "\n",
    "    def forward(self, x):\n",
    "        if self.bias is None:\n",
    "            if self.weight.fast is not None:\n",
    "                out = F.conv2d(x, self.weight.fast, None, stride= self.stride, padding=self.padding)\n",
    "            else:\n",
    "                out = super(Conv2d_fw, self).forward(x)\n",
    "        else:\n",
    "            if self.weight.fast is not None and self.bias.fast is not None:\n",
    "                out = F.conv2d(x, self.weight.fast, self.bias.fast, stride=self.stride, padding=self.padding)\n",
    "            else:\n",
    "                out = super(Conv2d_fw, self).forward(x)\n",
    "\n",
    "        return out\n",
    "            \n",
    "class BatchNorm2d_fw(nn.BatchNorm2d): #used in MAML to forward input with fast weight \n",
    "    \n",
    "    def __init__(self, num_features):\n",
    "        super(BatchNorm2d_fw, self).__init__(num_features)\n",
    "        self.weight.fast = None\n",
    "        self.bias.fast = None\n",
    "\n",
    "    def forward(self, x):\n",
    "        running_mean = torch.zeros(x.data.size()[1]).cuda()\n",
    "        running_var = torch.ones(x.data.size()[1]).cuda()\n",
    "        if self.weight.fast is not None and self.bias.fast is not None:\n",
    "            out = F.batch_norm(x, running_mean, running_var, self.weight.fast, self.bias.fast, training = True, momentum = 1)\n",
    "            #batch_norm momentum hack: follow hack of Kate Rakelly in pytorch-maml/src/layers.py\n",
    "        else:\n",
    "            out = F.batch_norm(x, running_mean, running_var, self.weight, self.bias, training = True, momentum = 1)\n",
    "        return out\n",
    "        "
   ]
  },
  {
   "cell_type": "code",
   "execution_count": 0,
   "metadata": {
    "colab": {},
    "colab_type": "code",
    "id": "UO4YM6_BwHDx"
   },
   "outputs": [],
   "source": [
    "# class PrintLayer(nn.Module):\n",
    "#     def __init__(self):\n",
    "#         super(PrintLayer, self).__init__()\n",
    "    \n",
    "#     def forward(self, x):\n",
    "#         # Do your print / debug stuff here\n",
    "#         print(x, x.size())\n",
    "#         return x"
   ]
  },
  {
   "cell_type": "code",
   "execution_count": 0,
   "metadata": {
    "colab": {},
    "colab_type": "code",
    "id": "XgE6Yq3ZVtdH"
   },
   "outputs": [],
   "source": [
    "# Simple Conv Block\n",
    "class ConvBlock(nn.Module):\n",
    "    def __init__(self, indim, outdim, pool=True, padding=1):\n",
    "        super(ConvBlock, self).__init__()\n",
    "        self.indim  = indim\n",
    "        self.outdim = outdim\n",
    "        self.C      = Conv2d_fw(indim, outdim, 3, padding=padding)\n",
    "        self.BN     = BatchNorm2d_fw(outdim)\n",
    "        self.relu   = nn.ReLU(inplace=True)\n",
    "\n",
    "        self.parametrized_layers = [self.C, self.BN, self.relu]\n",
    "        if pool:\n",
    "            self.pool   = nn.MaxPool2d(2)\n",
    "            self.parametrized_layers.append(self.pool)\n",
    "\n",
    "        for layer in self.parametrized_layers:\n",
    "            init_layer(layer)\n",
    "\n",
    "        self.trunk = nn.Sequential(*self.parametrized_layers)\n",
    "\n",
    "    def forward(self, x):\n",
    "        out = self.trunk(x)\n",
    "        \n",
    "        return out"
   ]
  },
  {
   "cell_type": "code",
   "execution_count": 0,
   "metadata": {
    "colab": {},
    "colab_type": "code",
    "id": "dcJ5cScgyWL6"
   },
   "outputs": [],
   "source": [
    "class ConvNetS(nn.Module): #For omniglot, only 1 input channel, output dim is 64\n",
    "    def __init__(self, depth, flatten=True):\n",
    "        super(ConvNetS, self).__init__()\n",
    "        trunk = []\n",
    "        for i in range(depth):\n",
    "            indim = 1 if i == 0 else 64\n",
    "            outdim = 64\n",
    "            B = ConvBlock(indim, outdim, pool=(i<4)) #only pooling for fist 4 layers\n",
    "            trunk.append(B)\n",
    "\n",
    "        if flatten:\n",
    "            trunk.append(Flatten())\n",
    "\n",
    "        self.trunk = nn.Sequential(*trunk)\n",
    "        self.final_feat_dim = 64\n",
    "\n",
    "    def forward(self, x):\n",
    "        out = x[:, 0:1,:,:] #only use the first dimension\n",
    "        out = self.trunk(out)\n",
    "        \n",
    "        return out"
   ]
  },
  {
   "cell_type": "code",
   "execution_count": 0,
   "metadata": {
    "colab": {},
    "colab_type": "code",
    "id": "nF3J9ALmdqN0"
   },
   "outputs": [],
   "source": [
    "Conv4 = ConvNetS(4).to(device)"
   ]
  },
  {
   "cell_type": "code",
   "execution_count": 0,
   "metadata": {
    "colab": {},
    "colab_type": "code",
    "id": "2i8ZlTbhyWPI"
   },
   "outputs": [],
   "source": [
    "class MAML(nn.Module):\n",
    "    \n",
    "    def __init__(self, model_func,  n_way, n_support, approx = False):\n",
    "        super(MAML, self).__init__()\n",
    "        \n",
    "        self.loss_fn = nn.CrossEntropyLoss()\n",
    "        self.feature    = model_func\n",
    "        self.feat_dim = self.feature.final_feat_dim\n",
    "        self.classifier = Linear_fw(self.feat_dim, n_way)\n",
    "        self.classifier.bias.data.fill_(0)\n",
    "        \n",
    "        self.n_way      = n_way\n",
    "        self.n_support  = n_support\n",
    "        self.n_task     = 32\n",
    "        self.task_update_num = 1\n",
    "        self.train_lr = 0.1\n",
    "        self.approx = approx #first order approx.        \n",
    "\n",
    "    def forward(self, x):\n",
    "        out  = self.feature.forward(x)\n",
    "        scores  = self.classifier.forward(out)\n",
    "        return scores\n",
    "\n",
    "    def set_forward(self, x, is_feature = False):\n",
    "        assert is_feature == False, 'MAML do not support fixed feature' \n",
    "        x = x.to(device)\n",
    "        x_var = Variable(x)\n",
    "        x_a_i = x_var[:,:self.n_support,:,:,:].contiguous().view(self.n_way * self.n_support, *x.size()[2:]) #support data \n",
    "        x_b_i = x_var[:,self.n_support:,:,:,:].contiguous().view(self.n_way * self.n_query,   *x.size()[2:]) #query data\n",
    "        y_a_i = Variable(torch.from_numpy(np.repeat(range(self.n_way), self.n_support))).to(device) #label for support data\n",
    "        \n",
    "        fast_parameters = list(self.parameters()) #the first gradient calcuated in line 45 is based on original weight\n",
    "        for weight in self.parameters():\n",
    "            weight.fast = None\n",
    "        self.zero_grad()\n",
    "\n",
    "        for task_step in range(self.task_update_num):\n",
    "            scores = self.forward(x_a_i)\n",
    "            set_loss = self.loss_fn(scores, y_a_i) \n",
    "            grad = torch.autograd.grad(set_loss, fast_parameters, create_graph=True) #build full graph support gradient of gradient\n",
    "            if self.approx:\n",
    "                grad = [g.detach()  for g in grad] #do not calculate gradient of gradient if using first order approximation\n",
    "            fast_parameters = []\n",
    "            for k, weight in enumerate(self.parameters()):\n",
    "                #for usage of weight.fast, please see Linear_fw, Conv_fw in backbone.py \n",
    "                if weight.fast is None:\n",
    "                    weight.fast = weight - self.train_lr * grad[k] #create weight.fast \n",
    "                else:\n",
    "                    weight.fast = weight.fast - self.train_lr * grad[k] #create an updated weight.fast, note the '-' is not merely minus value, but to create a new weight.fast \n",
    "                fast_parameters.append(weight.fast) #gradients calculated in line 45 are based on newest fast weight, but the graph will retain the link to old weight.fasts\n",
    "\n",
    "        scores = self.forward(x_b_i)\n",
    "        return scores\n",
    "\n",
    "    def set_forward_adaptation(self,x, is_feature = False): #overwrite parrent function\n",
    "        raise ValueError('MAML performs further adapation simply by increasing task_upate_num')\n",
    "\n",
    "    def set_forward_loss(self, x):\n",
    "        scores = self.set_forward(x, is_feature = False)\n",
    "        y_b_i = Variable(torch.from_numpy(np.repeat(range(self.n_way), self.n_query))).to(device)\n",
    "        loss = self.loss_fn(scores, y_b_i)\n",
    "        return loss\n",
    "   \n",
    "    def train_loop(self, epoch, train_loader, optimizer): #overwrite parrent function\n",
    "        print_freq = 1000\n",
    "        avg_loss = 0\n",
    "        task_count = 0\n",
    "        loss_all = []\n",
    "        optimizer.zero_grad()\n",
    "\n",
    "        #train\n",
    "        for i, (x, _) in enumerate(train_loader):\n",
    "            x = torch.squeeze(x, 0)\n",
    "            self.n_query = x.size(1) - self.n_support\n",
    "            assert self.n_way  ==  x.size(0), \"MAML do not support way change\"\n",
    "\n",
    "            loss = self.set_forward_loss(x)\n",
    "            avg_loss = avg_loss+loss.item()\n",
    "            loss_all.append(loss)\n",
    "\n",
    "            task_count += 1\n",
    "\n",
    "            if task_count == self.n_task: #MAML update several tasks at one time\n",
    "                loss_q = torch.stack(loss_all).sum(0)\n",
    "                loss_q.backward()\n",
    "\n",
    "                optimizer.step()\n",
    "                task_count = 0\n",
    "                loss_all = []\n",
    "            optimizer.zero_grad()\n",
    "            if i % print_freq==0:\n",
    "                print('Epoch {:d} | Batch {:d}/{:d} | Loss {:f}'.format(epoch, i, len(train_loader), avg_loss/float(i+1)))\n",
    "\n",
    "    def correct(self, x):\n",
    "        scores = self.set_forward(x)\n",
    "        y_query = np.repeat(range(self.n_way), self.n_query)\n",
    "\n",
    "        topk_scores, topk_labels = scores.data.topk(1, 1, True, True)\n",
    "        topk_ind = topk_labels.cpu().numpy()\n",
    "        top1_correct = np.sum(topk_ind[:,0] == y_query)\n",
    "        \n",
    "        return float(top1_correct), len(y_query)    \n",
    "                       \n",
    "    def test_loop(self, test_loader, return_std = False): #overwrite parrent function\n",
    "        correct =0\n",
    "        count = 0\n",
    "        acc_all = []\n",
    "        preds = []\n",
    "        lbls = []\n",
    "        \n",
    "        iter_num = len(test_loader) \n",
    "        for i, (x,_) in enumerate(test_loader):\n",
    "            x = torch.squeeze(x, 0)\n",
    "            self.n_query = x.size(1) - self.n_support\n",
    "            assert self.n_way  ==  x.size(0), \"MAML do not support way change\"\n",
    "            correct_this, count_this = self.correct(x)\n",
    "            acc_all.append(correct_this/ count_this *100)\n",
    "\n",
    "        acc_all  = np.asarray(acc_all)\n",
    "        acc_mean = np.mean(acc_all)\n",
    "        acc_std  = np.std(acc_all)\n",
    "        print('%d Test Acc = %4.2f%% +- %4.2f%%' %(iter_num,  acc_mean, 1.96* acc_std/np.sqrt(iter_num)))\n",
    "        if return_std:\n",
    "            return acc_mean, acc_std\n",
    "        else:\n",
    "            return acc_mean"
   ]
  },
  {
   "cell_type": "code",
   "execution_count": 0,
   "metadata": {
    "colab": {},
    "colab_type": "code",
    "id": "N19GElkhTe92"
   },
   "outputs": [],
   "source": [
    "maml_model = MAML(Conv4, n_way=5, n_support=5, approx=True).to(device)"
   ]
  },
  {
   "cell_type": "code",
   "execution_count": 0,
   "metadata": {
    "colab": {},
    "colab_type": "code",
    "id": "Yok28PqmseGm"
   },
   "outputs": [],
   "source": [
    "optimizer = torch.optim.Adam(maml_model.parameters())"
   ]
  },
  {
   "cell_type": "markdown",
   "metadata": {
    "colab_type": "text",
    "id": "mDHkq8i7yWfD"
   },
   "source": [
    "### Training"
   ]
  },
  {
   "cell_type": "code",
   "execution_count": 0,
   "metadata": {
    "colab": {},
    "colab_type": "code",
    "id": "sroJOCppyXma"
   },
   "outputs": [],
   "source": [
    "def train(model, train_dataloader, val_dataloader, optimizer, epochs):\n",
    "    \n",
    "    max_acc = 0       \n",
    "    checkpoint_dir = '/content/logs'\n",
    "    save_freq = 5\n",
    "    \n",
    "    for epoch in range(epochs):\n",
    "        model.train()\n",
    "        model.train_loop(epoch, train_loader, optimizer) #model are called by reference, no need to return \n",
    "        model.eval()\n",
    "\n",
    "        if not os.path.isdir(checkpoint_dir):\n",
    "            os.makedirs(checkpoint_dir)\n",
    "\n",
    "        acc = model.test_loop(val_loader)\n",
    "        if acc > max_acc :\n",
    "            print(\"best model! save...\")\n",
    "            max_acc = acc\n",
    "            outfile = os.path.join(checkpoint_dir, 'best_model.tar')\n",
    "            torch.save({'epoch':epoch, 'state':model.state_dict()}, outfile)\n",
    "\n",
    "        if (epoch % save_freq==0) or (epoch==epochs-1):\n",
    "            outfile = os.path.join(checkpoint_dir, '{:d}.tar'.format(epoch))\n",
    "            torch.save({'epoch':epoch, 'state':model.state_dict()}, outfile)\n",
    "            \n",
    "    return model"
   ]
  },
  {
   "cell_type": "code",
   "execution_count": 0,
   "metadata": {
    "colab": {
     "base_uri": "https://localhost:8080/",
     "height": 1000
    },
    "colab_type": "code",
    "id": "FL_pjwbMtIeR",
    "outputId": "56b15914-18e4-479f-fac3-4f69e0032306"
   },
   "outputs": [
    {
     "name": "stdout",
     "output_type": "stream",
     "text": [
      "Epoch 0 | Batch 0/4112 | Loss 0.996189\n",
      "Epoch 0 | Batch 1000/4112 | Loss 1.470841\n",
      "Epoch 0 | Batch 2000/4112 | Loss 1.330615\n",
      "Epoch 0 | Batch 3000/4112 | Loss 1.199712\n",
      "Epoch 0 | Batch 4000/4112 | Loss 1.061066\n",
      "688 Test Acc = 81.67% +- 0.67%\n",
      "best model! save...\n",
      "Epoch 1 | Batch 0/4112 | Loss 0.374910\n",
      "Epoch 1 | Batch 1000/4112 | Loss 0.411602\n",
      "Epoch 1 | Batch 2000/4112 | Loss 0.351027\n",
      "Epoch 1 | Batch 3000/4112 | Loss 0.316115\n",
      "Epoch 1 | Batch 4000/4112 | Loss 0.286687\n",
      "688 Test Acc = 93.09% +- 0.39%\n",
      "best model! save...\n",
      "Epoch 2 | Batch 0/4112 | Loss 0.048478\n",
      "Epoch 2 | Batch 1000/4112 | Loss 0.173668\n",
      "Epoch 2 | Batch 2000/4112 | Loss 0.160446\n",
      "Epoch 2 | Batch 3000/4112 | Loss 0.151684\n",
      "Epoch 2 | Batch 4000/4112 | Loss 0.145116\n",
      "688 Test Acc = 95.09% +- 0.35%\n",
      "best model! save...\n",
      "Epoch 3 | Batch 0/4112 | Loss 0.077246\n",
      "Epoch 3 | Batch 1000/4112 | Loss 0.108058\n",
      "Epoch 3 | Batch 2000/4112 | Loss 0.104720\n",
      "Epoch 3 | Batch 3000/4112 | Loss 0.101863\n",
      "Epoch 3 | Batch 4000/4112 | Loss 0.098138\n",
      "688 Test Acc = 96.58% +- 0.28%\n",
      "best model! save...\n",
      "Epoch 4 | Batch 0/4112 | Loss 0.080632\n",
      "Epoch 4 | Batch 1000/4112 | Loss 0.089316\n",
      "Epoch 4 | Batch 2000/4112 | Loss 0.084579\n",
      "Epoch 4 | Batch 3000/4112 | Loss 0.083789\n",
      "Epoch 4 | Batch 4000/4112 | Loss 0.082643\n",
      "688 Test Acc = 96.62% +- 0.28%\n",
      "best model! save...\n",
      "Epoch 5 | Batch 0/4112 | Loss 0.003037\n",
      "Epoch 5 | Batch 1000/4112 | Loss 0.077511\n",
      "Epoch 5 | Batch 2000/4112 | Loss 0.075620\n",
      "Epoch 5 | Batch 3000/4112 | Loss 0.072217\n",
      "Epoch 5 | Batch 4000/4112 | Loss 0.070218\n",
      "688 Test Acc = 97.38% +- 0.22%\n",
      "best model! save...\n",
      "Epoch 6 | Batch 0/4112 | Loss 0.053787\n",
      "Epoch 6 | Batch 1000/4112 | Loss 0.064619\n",
      "Epoch 6 | Batch 2000/4112 | Loss 0.063173\n",
      "Epoch 6 | Batch 3000/4112 | Loss 0.062237\n",
      "Epoch 6 | Batch 4000/4112 | Loss 0.061983\n",
      "688 Test Acc = 97.67% +- 0.22%\n",
      "best model! save...\n",
      "Epoch 7 | Batch 0/4112 | Loss 0.023311\n",
      "Epoch 7 | Batch 1000/4112 | Loss 0.055298\n",
      "Epoch 7 | Batch 2000/4112 | Loss 0.054176\n",
      "Epoch 7 | Batch 3000/4112 | Loss 0.052750\n",
      "Epoch 7 | Batch 4000/4112 | Loss 0.051281\n",
      "688 Test Acc = 98.06% +- 0.21%\n",
      "best model! save...\n",
      "Epoch 8 | Batch 0/4112 | Loss 0.011885\n",
      "Epoch 8 | Batch 1000/4112 | Loss 0.045402\n",
      "Epoch 8 | Batch 2000/4112 | Loss 0.045851\n",
      "Epoch 8 | Batch 3000/4112 | Loss 0.044288\n",
      "Epoch 8 | Batch 4000/4112 | Loss 0.043533\n",
      "688 Test Acc = 98.28% +- 0.17%\n",
      "best model! save...\n",
      "Epoch 9 | Batch 0/4112 | Loss 0.008171\n",
      "Epoch 9 | Batch 1000/4112 | Loss 0.041675\n",
      "Epoch 9 | Batch 2000/4112 | Loss 0.040923\n",
      "Epoch 9 | Batch 3000/4112 | Loss 0.039796\n",
      "Epoch 9 | Batch 4000/4112 | Loss 0.039286\n",
      "688 Test Acc = 98.51% +- 0.18%\n",
      "best model! save...\n",
      "Epoch 10 | Batch 0/4112 | Loss 0.020473\n",
      "Epoch 10 | Batch 1000/4112 | Loss 0.037999\n",
      "Epoch 10 | Batch 2000/4112 | Loss 0.036821\n",
      "Epoch 10 | Batch 3000/4112 | Loss 0.035945\n",
      "Epoch 10 | Batch 4000/4112 | Loss 0.035488\n",
      "688 Test Acc = 98.39% +- 0.18%\n",
      "Epoch 11 | Batch 0/4112 | Loss 0.018434\n",
      "Epoch 11 | Batch 1000/4112 | Loss 0.036282\n",
      "Epoch 11 | Batch 2000/4112 | Loss 0.035730\n",
      "Epoch 11 | Batch 3000/4112 | Loss 0.035217\n",
      "Epoch 11 | Batch 4000/4112 | Loss 0.034679\n",
      "688 Test Acc = 98.48% +- 0.19%\n",
      "Epoch 12 | Batch 0/4112 | Loss 0.085923\n",
      "Epoch 12 | Batch 1000/4112 | Loss 0.034385\n",
      "Epoch 12 | Batch 2000/4112 | Loss 0.031883\n",
      "Epoch 12 | Batch 3000/4112 | Loss 0.032440\n",
      "Epoch 12 | Batch 4000/4112 | Loss 0.032041\n",
      "688 Test Acc = 98.53% +- 0.18%\n",
      "best model! save...\n",
      "Epoch 13 | Batch 0/4112 | Loss 0.064409\n",
      "Epoch 13 | Batch 1000/4112 | Loss 0.030377\n",
      "Epoch 13 | Batch 2000/4112 | Loss 0.030321\n",
      "Epoch 13 | Batch 3000/4112 | Loss 0.029934\n",
      "Epoch 13 | Batch 4000/4112 | Loss 0.030093\n",
      "688 Test Acc = 98.64% +- 0.19%\n",
      "best model! save...\n",
      "Epoch 14 | Batch 0/4112 | Loss 0.071021\n",
      "Epoch 14 | Batch 1000/4112 | Loss 0.027545\n",
      "Epoch 14 | Batch 2000/4112 | Loss 0.029467\n",
      "Epoch 14 | Batch 3000/4112 | Loss 0.029482\n",
      "Epoch 14 | Batch 4000/4112 | Loss 0.029254\n",
      "688 Test Acc = 98.68% +- 0.18%\n",
      "best model! save...\n",
      "Epoch 15 | Batch 0/4112 | Loss 0.005918\n",
      "Epoch 15 | Batch 1000/4112 | Loss 0.027830\n",
      "Epoch 15 | Batch 2000/4112 | Loss 0.026873\n",
      "Epoch 15 | Batch 3000/4112 | Loss 0.025749\n",
      "Epoch 15 | Batch 4000/4112 | Loss 0.025784\n",
      "688 Test Acc = 98.93% +- 0.15%\n",
      "best model! save...\n",
      "Epoch 16 | Batch 0/4112 | Loss 0.048706\n",
      "Epoch 16 | Batch 1000/4112 | Loss 0.026028\n",
      "Epoch 16 | Batch 2000/4112 | Loss 0.027008\n",
      "Epoch 16 | Batch 3000/4112 | Loss 0.026503\n",
      "Epoch 16 | Batch 4000/4112 | Loss 0.026709\n",
      "688 Test Acc = 99.05% +- 0.15%\n",
      "best model! save...\n",
      "Epoch 17 | Batch 0/4112 | Loss 0.003665\n",
      "Epoch 17 | Batch 1000/4112 | Loss 0.025810\n",
      "Epoch 17 | Batch 2000/4112 | Loss 0.025635\n",
      "Epoch 17 | Batch 3000/4112 | Loss 0.024704\n",
      "Epoch 17 | Batch 4000/4112 | Loss 0.024952\n",
      "688 Test Acc = 98.75% +- 0.19%\n",
      "Epoch 18 | Batch 0/4112 | Loss 0.014305\n",
      "Epoch 18 | Batch 1000/4112 | Loss 0.023554\n",
      "Epoch 18 | Batch 2000/4112 | Loss 0.022988\n",
      "Epoch 18 | Batch 3000/4112 | Loss 0.023673\n",
      "Epoch 18 | Batch 4000/4112 | Loss 0.023938\n",
      "688 Test Acc = 98.97% +- 0.15%\n",
      "Epoch 19 | Batch 0/4112 | Loss 0.000193\n",
      "Epoch 19 | Batch 1000/4112 | Loss 0.021327\n",
      "Epoch 19 | Batch 2000/4112 | Loss 0.022391\n",
      "Epoch 19 | Batch 3000/4112 | Loss 0.022748\n",
      "Epoch 19 | Batch 4000/4112 | Loss 0.021903\n",
      "688 Test Acc = 99.00% +- 0.15%\n",
      "Epoch 20 | Batch 0/4112 | Loss 0.035838\n",
      "Epoch 20 | Batch 1000/4112 | Loss 0.023696\n",
      "Epoch 20 | Batch 2000/4112 | Loss 0.023038\n",
      "Epoch 20 | Batch 3000/4112 | Loss 0.022201\n",
      "Epoch 20 | Batch 4000/4112 | Loss 0.022299\n",
      "688 Test Acc = 99.13% +- 0.12%\n",
      "best model! save...\n",
      "Epoch 21 | Batch 0/4112 | Loss 0.022070\n",
      "Epoch 21 | Batch 1000/4112 | Loss 0.021979\n",
      "Epoch 21 | Batch 2000/4112 | Loss 0.021675\n",
      "Epoch 21 | Batch 3000/4112 | Loss 0.020917\n",
      "Epoch 21 | Batch 4000/4112 | Loss 0.021012\n",
      "688 Test Acc = 99.13% +- 0.14%\n",
      "best model! save...\n",
      "Epoch 22 | Batch 0/4112 | Loss 0.000841\n",
      "Epoch 22 | Batch 1000/4112 | Loss 0.020988\n",
      "Epoch 22 | Batch 2000/4112 | Loss 0.020708\n",
      "Epoch 22 | Batch 3000/4112 | Loss 0.021090\n",
      "Epoch 22 | Batch 4000/4112 | Loss 0.020126\n",
      "688 Test Acc = 98.96% +- 0.18%\n",
      "Epoch 23 | Batch 0/4112 | Loss 0.000441\n",
      "Epoch 23 | Batch 1000/4112 | Loss 0.020245\n",
      "Epoch 23 | Batch 2000/4112 | Loss 0.019200\n",
      "Epoch 23 | Batch 3000/4112 | Loss 0.019184\n",
      "Epoch 23 | Batch 4000/4112 | Loss 0.018834\n",
      "688 Test Acc = 99.20% +- 0.13%\n",
      "best model! save...\n",
      "Epoch 24 | Batch 0/4112 | Loss 0.000585\n",
      "Epoch 24 | Batch 1000/4112 | Loss 0.021792\n",
      "Epoch 24 | Batch 2000/4112 | Loss 0.021519\n",
      "Epoch 24 | Batch 3000/4112 | Loss 0.020292\n",
      "Epoch 24 | Batch 4000/4112 | Loss 0.020102\n",
      "688 Test Acc = 99.22% +- 0.12%\n",
      "best model! save...\n",
      "Epoch 25 | Batch 0/4112 | Loss 0.000495\n",
      "Epoch 25 | Batch 1000/4112 | Loss 0.018203\n",
      "Epoch 25 | Batch 2000/4112 | Loss 0.017740\n",
      "Epoch 25 | Batch 3000/4112 | Loss 0.018487\n",
      "Epoch 25 | Batch 4000/4112 | Loss 0.018346\n",
      "688 Test Acc = 99.15% +- 0.14%\n",
      "Epoch 26 | Batch 0/4112 | Loss 0.006068\n",
      "Epoch 26 | Batch 1000/4112 | Loss 0.017623\n",
      "Epoch 26 | Batch 2000/4112 | Loss 0.020005\n",
      "Epoch 26 | Batch 3000/4112 | Loss 0.019458\n",
      "Epoch 26 | Batch 4000/4112 | Loss 0.019088\n",
      "688 Test Acc = 99.24% +- 0.13%\n",
      "best model! save...\n",
      "Epoch 27 | Batch 0/4112 | Loss 0.000934\n",
      "Epoch 27 | Batch 1000/4112 | Loss 0.019244\n",
      "Epoch 27 | Batch 2000/4112 | Loss 0.018136\n",
      "Epoch 27 | Batch 3000/4112 | Loss 0.017574\n",
      "Epoch 27 | Batch 4000/4112 | Loss 0.017080\n",
      "688 Test Acc = 99.26% +- 0.13%\n",
      "best model! save...\n",
      "Epoch 28 | Batch 0/4112 | Loss 0.041200\n",
      "Epoch 28 | Batch 1000/4112 | Loss 0.016327\n",
      "Epoch 28 | Batch 2000/4112 | Loss 0.016596\n",
      "Epoch 28 | Batch 3000/4112 | Loss 0.017273\n",
      "Epoch 28 | Batch 4000/4112 | Loss 0.017419\n",
      "688 Test Acc = 99.07% +- 0.18%\n",
      "Epoch 29 | Batch 0/4112 | Loss 0.009211\n",
      "Epoch 29 | Batch 1000/4112 | Loss 0.018641\n",
      "Epoch 29 | Batch 2000/4112 | Loss 0.019068\n",
      "Epoch 29 | Batch 3000/4112 | Loss 0.018765\n",
      "Epoch 29 | Batch 4000/4112 | Loss 0.018022\n",
      "688 Test Acc = 99.30% +- 0.14%\n",
      "best model! save...\n"
     ]
    }
   ],
   "source": [
    "model = train(maml_model, train_loader, val_loader, optimizer, epochs=30)"
   ]
  },
  {
   "cell_type": "markdown",
   "metadata": {
    "colab_type": "text",
    "id": "JyDNHX7JspXV"
   },
   "source": [
    "### Finetune"
   ]
  },
  {
   "cell_type": "code",
   "execution_count": 0,
   "metadata": {
    "colab": {
     "base_uri": "https://localhost:8080/",
     "height": 34
    },
    "colab_type": "code",
    "id": "I0WFRCdR2wur",
    "outputId": "38fc8583-38bc-497c-d2a4-6cba5dbadb36"
   },
   "outputs": [
    {
     "data": {
      "text/plain": [
       "IncompatibleKeys(missing_keys=[], unexpected_keys=[])"
      ]
     },
     "execution_count": 45,
     "metadata": {
      "tags": []
     },
     "output_type": "execute_result"
    }
   ],
   "source": [
    "modelfile = os.path.join('/content/logs', 'best_model.tar')\n",
    "\n",
    "tmp = torch.load(modelfile)\n",
    "state = tmp['state']\n",
    "state_keys = list(state.keys())\n",
    "\n",
    "for i, key in enumerate(state_keys):\n",
    "    if \"feature.\" in key:\n",
    "        newkey = key.replace(\"feature.\",\"\")  # an architecture model has attribute 'feature', load architecture feature to backbone by casting name from 'feature.trunk.xx' to 'trunk.xx'  \n",
    "        state[newkey] = state.pop(key)\n",
    "    else:\n",
    "        state.pop(key)\n",
    "\n",
    "Conv4.load_state_dict(state)"
   ]
  },
  {
   "cell_type": "markdown",
   "metadata": {},
   "source": [
    "### Results\n",
    "\n",
    "![header](meta_learning/header.png \"header\")\n",
    "![baseline_res](meta_learning/maml_result.png \"res\")\n"
   ]
  },
  {
   "cell_type": "markdown",
   "metadata": {
    "colab_type": "text",
    "id": "MKYNcPLo32bu"
   },
   "source": [
    "### 5-shot 5-way"
   ]
  },
  {
   "cell_type": "code",
   "execution_count": 0,
   "metadata": {
    "colab": {},
    "colab_type": "code",
    "id": "oozl5Ixx_Ox8"
   },
   "outputs": [],
   "source": [
    "finetune_model = MAML(Conv4, n_way=5, n_support=5).to(device)"
   ]
  },
  {
   "cell_type": "code",
   "execution_count": 0,
   "metadata": {
    "colab": {
     "base_uri": "https://localhost:8080/",
     "height": 34
    },
    "colab_type": "code",
    "id": "DyMeMOdCyFVR",
    "outputId": "3f2923b7-cd7d-44b0-d793-efaca433b030"
   },
   "outputs": [
    {
     "name": "stdout",
     "output_type": "stream",
     "text": [
      "1692 Test Acc = 98.86% +- 0.08%\n"
     ]
    }
   ],
   "source": [
    "finetune_model.task_update_num = 100\n",
    "finetune_model.eval()\n",
    "scores = finetune_model.test_loop(test_loader)"
   ]
  },
  {
   "cell_type": "markdown",
   "metadata": {
    "colab_type": "text",
    "id": "QvHpAjRR36V0"
   },
   "source": [
    "###  1-shot 5-way"
   ]
  },
  {
   "cell_type": "code",
   "execution_count": 0,
   "metadata": {
    "colab": {},
    "colab_type": "code",
    "id": "kgIbqeEW4SCf"
   },
   "outputs": [],
   "source": [
    "finetune_model = MAML(Conv4, n_way=5, n_support=1).to(device)"
   ]
  },
  {
   "cell_type": "code",
   "execution_count": 0,
   "metadata": {
    "colab": {
     "base_uri": "https://localhost:8080/",
     "height": 34
    },
    "colab_type": "code",
    "id": "-cuyF35o4SC6",
    "outputId": "9ddab603-1f77-42c1-a14a-c015a730fad7"
   },
   "outputs": [
    {
     "name": "stdout",
     "output_type": "stream",
     "text": [
      "1692 Test Acc = 87.53% +- 0.38%\n"
     ]
    }
   ],
   "source": [
    "finetune_model.task_update_num = 100\n",
    "finetune_model.eval()\n",
    "scores = finetune_model.test_loop(test_loader)"
   ]
  },
  {
   "cell_type": "markdown",
   "metadata": {
    "colab_type": "text",
    "id": "RVTx0WU4Q3Nt"
   },
   "source": [
    "### Choose a class to visualize"
   ]
  },
  {
   "cell_type": "code",
   "execution_count": 0,
   "metadata": {
    "colab": {},
    "colab_type": "code",
    "id": "ojS4HybMWQ77"
   },
   "outputs": [],
   "source": [
    "batches = []\n",
    "for (x, _) in test_loader:\n",
    "    batches.append(x)   "
   ]
  },
  {
   "cell_type": "code",
   "execution_count": 0,
   "metadata": {
    "colab": {
     "base_uri": "https://localhost:8080/",
     "height": 34
    },
    "colab_type": "code",
    "id": "YksXJeWWKM1F",
    "outputId": "fdd03767-9d3d-473c-80ee-805ab6fc956e"
   },
   "outputs": [
    {
     "name": "stdout",
     "output_type": "stream",
     "text": [
      "torch.Size([5, 20, 1, 28, 28])\n"
     ]
    }
   ],
   "source": [
    "rnd_batch = torch.from_numpy(np.array(batches[0])).float()\n",
    "rnd_batch = torch.squeeze(rnd_batch, 0)\n",
    "print (rnd_batch.shape)"
   ]
  },
  {
   "cell_type": "code",
   "execution_count": 0,
   "metadata": {
    "colab": {
     "base_uri": "https://localhost:8080/",
     "height": 34
    },
    "colab_type": "code",
    "id": "Gj1r33YxEigq",
    "outputId": "49ab6719-1da5-4918-fe6c-0ecb65d72327"
   },
   "outputs": [
    {
     "name": "stdout",
     "output_type": "stream",
     "text": [
      "Test Acc = 100.00\n"
     ]
    }
   ],
   "source": [
    "n_way = 5\n",
    "n_query = 15\n",
    "\n",
    "x = torch.squeeze(rnd_batch, 0)\n",
    "scores = finetune_model.set_forward(x)\n",
    "topk_scores, topk_labels = scores.data.topk(1, 1, True, True)\n",
    "topk_ind = topk_labels.cpu().numpy()\n",
    "y = np.repeat(range(n_way), n_query)\n",
    "acc = np.mean(topk_ind[:, 0] == y)*100 \n",
    "print ('Test Acc = %4.2f'%(acc))"
   ]
  },
  {
   "cell_type": "code",
   "execution_count": 0,
   "metadata": {
    "colab": {},
    "colab_type": "code",
    "id": "Pw0xW4v5OlcC"
   },
   "outputs": [],
   "source": [
    "# batch size : [5, 20, 1, 28, 28]\n",
    "# classes 0, 1, 2, 3, 4\n",
    "# support images first 5\n",
    "# query images next 15\n",
    "# each image of size (28, 28, 1)\n",
    "choose_class = 3\n",
    "pred = topk_ind[:, 0]"
   ]
  },
  {
   "cell_type": "code",
   "execution_count": 0,
   "metadata": {
    "colab": {},
    "colab_type": "code",
    "id": "1x3T1aaBMAYG"
   },
   "outputs": [],
   "source": [
    "# visualize support images\n",
    "support_imgs = rnd_batch[choose_class, 0:5]\n",
    "# visualize query images only\n",
    "query_imgs = rnd_batch[choose_class, 5:20]"
   ]
  },
  {
   "cell_type": "code",
   "execution_count": 0,
   "metadata": {
    "colab": {
     "base_uri": "https://localhost:8080/",
     "height": 344
    },
    "colab_type": "code",
    "id": "EXKI3OX_Mp4r",
    "outputId": "6e4c3164-e092-4855-8a13-65c3d75cf727"
   },
   "outputs": [
    {
     "data": {
      "image/png": "[encoded data removed]",
      "text/plain": [
       "<Figure size 1080x288 with 5 Axes>"
      ]
     },
     "metadata": {
      "tags": []
     },
     "output_type": "display_data"
    },
    {
     "data": {
      "image/png": "[encoded data removed]",
      "text/plain": [
       "<Figure size 1080x288 with 15 Axes>"
      ]
     },
     "metadata": {
      "tags": []
     },
     "output_type": "display_data"
    }
   ],
   "source": [
    "# get sample outputs\n",
    "labels = y[choose_class*15:choose_class*15+15]\n",
    "support_lbl = np.ones(len(support_imgs), dtype=np.int16) * choose_class\n",
    "# get output i.e., predicted class\n",
    "preds = pred[choose_class*15:choose_class*15+15]\n",
    "# prep images for display\n",
    "s_images = support_imgs.cpu().numpy()\n",
    "q_images = query_imgs.cpu().numpy()\n",
    "\n",
    "\n",
    "# plot the images in the batch, along with predicted and true labels\n",
    "fig = plt.figure(figsize=(15, 4))\n",
    "for idx in np.arange(5):\n",
    "    ax = fig.add_subplot(2, 20/2, idx+1, xticks=[], yticks=[])\n",
    "    ax.imshow(np.squeeze(s_images[idx]), cmap='gray')\n",
    "    ax.set_title(\"{} \".format(str(support_lbl[idx])))\n",
    "\n",
    "# plot the images in the batch, along with predicted and true labels\n",
    "fig = plt.figure(figsize=(15, 4))\n",
    "for idx in np.arange(15):\n",
    "    ax = fig.add_subplot(2, 20/2, idx+1, xticks=[], yticks=[])\n",
    "    ax.imshow(np.squeeze(q_images[idx]), cmap='gray')\n",
    "    ax.set_title(\"{} ({})\".format(str(preds[idx].item()), str(labels[idx].item())),\n",
    "                 color=(\"green\" if preds[idx]==labels[idx] else \"red\"))"
   ]
  },
  {
   "cell_type": "code",
   "execution_count": 0,
   "metadata": {
    "colab": {},
    "colab_type": "code",
    "id": "SFANj4l9Ofjm"
   },
   "outputs": [],
   "source": []
  }
 ],
 "metadata": {
  "accelerator": "GPU",
  "colab": {
   "collapsed_sections": [],
   "name": "meta_learning_maml.ipynb",
   "provenance": [],
   "version": "0.3.2"
  },
  "kernelspec": {
   "display_name": "Python 3",
   "language": "python",
   "name": "python3"
  },
  "language_info": {
   "codemirror_mode": {
    "name": "ipython",
    "version": 3
   },
   "file_extension": ".py",
   "mimetype": "text/x-python",
   "name": "python",
   "nbconvert_exporter": "python",
   "pygments_lexer": "ipython3",
   "version": "3.7.3"
  }
 },
 "nbformat": 4,
 "nbformat_minor": 1
}
