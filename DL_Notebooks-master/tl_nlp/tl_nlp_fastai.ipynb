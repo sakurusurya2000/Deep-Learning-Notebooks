{
  "nbformat": 4,
  "nbformat_minor": 0,
  "metadata": {
    "colab": {
      "name": "tl_nlp_fastai.ipynb",
      "version": "0.3.2",
      "provenance": [],
      "collapsed_sections": []
    },
    "kernelspec": {
      "name": "python3",
      "display_name": "Python 3"
    },
    "accelerator": "GPU"
  },
  "cells": [
    {
      "metadata": {
        "id": "ivdrHF4EAAby",
        "colab_type": "text"
      },
      "cell_type": "markdown",
      "source": [
        "# Transfer Learning in NLP\n",
        "\n",
        "In this notebook, we will go through basics of Transfer Learning in NLP using ULMFiT on [Twitter US Airline Sentiment dataset](https://www.kaggle.com/crowdflower/twitter-airline-sentiment).\n",
        "\n",
        "### Dataset\n",
        "\n",
        "Twitter data was scraped from February of 2015 and contributors were asked to first classify positive, negative, and neutral tweets, followed by categorizing negative reasons (such as \"late flight\" or \"rude service\").  It contains whether the sentiment of the tweets in this set was positive, neutral, or negative for six US airlines\n",
        "\n",
        "---\n",
        "\n",
        "Here we will use [fastai](https://docs.fast.ai/  \"fastai Docs\").\n",
        "\n",
        "\n",
        "Everything is explained in-detail in [blog post](https://dudeperf3ct.github.io/nlp/transfer/learning/2019/02/22/Power-of-Transfer-Learning-in-NLP/). This is notebook which replicates the result of blog and runs in colab. Enjoy!\n",
        "\n",
        "\n",
        "#### Run in Colab\n",
        "\n",
        "You can run this notebook in google colab.\n",
        "\n",
        "[![Open In Colab](https://colab.research.google.com/assets/colab-badge.svg)](https://colab.research.google.com/github/dudeperf3ct/DL_notebooks/blob/master/tl_nlp/tl_nlp_fastai.ipynb)\n",
        "\n",
        "### Approach\n",
        "\n",
        "\n",
        "**ULMFiT**\n",
        "\n",
        "1. **Finetune LM** : Use a pretrained language model (wikitext-103) to finetune pretrained LM on target data of tweets.\n",
        "\n",
        "When this finetuned LM is given a seed of `The worst airline`, it produces the output, 2 sentences of 40 words each :\n",
        "\n",
        "`The worst airline ever . By 2 / 28 , no other ramps . Unloaded . No food option . No catering . There are no seats in sight . Now , after 2 pm , no`\n",
        "\n",
        "`The worst airline in the world , it dramatically nj would be great . xxbos @jetblue Ca n't find that it 's priority until Tuesday . They 're being treated like by multiple times in two years for \" this`\n",
        "\n",
        "This shows our finetuned LM has captured some semantics of our dataset.\n",
        "\n",
        "\n",
        "2. **Finetune Classifier**: Use the finetuned LM model to predict the classes for classification of tweets into 3 classes using methods such as gradual freezing and slanted learning rates.\n",
        "\n",
        "\n",
        "### Results\n",
        "\n",
        "\n",
        "\n",
        "|  Approach | Epoch  | Time (min)  | Train loss |  Dev  | Dev Accuracy (%)  |\n",
        "|---|---|---|---|---|---|\n",
        "| Finetune LM | 15   |  6 | 3.575478 | 4.021957  | 0.264607 |\n",
        "| Finetune Classifier | 5   |  2 | 0.786838  |\t0.658620  | 0.724479 |\n",
        "| Gradual Unfreezing (Last 1 layer) | 5   |  2 | 0.725324  |\t0.590953  | 0.752134 |\n",
        "| Gradual Unfreezing (Last 2 layer) | 5   |  3 | 0.556359  |\t0.486604   | 0.812564 |\n",
        "| Unfreeze whole and train | 8   |  7 |  0.474538  |\t0.446159  | 0.829293 |\n",
        "\n",
        "\t\t\n",
        " \t \t\t \t\n"
      ]
    },
    {
      "metadata": {
        "id": "CPX0rk2CUG-f",
        "colab_type": "text"
      },
      "cell_type": "markdown",
      "source": [
        "## Twitter Sentiment Data\n",
        "\n",
        "\n",
        "Code Adapted from: [Link](https://github.com/fastai/course-v3/blob/master/nbs/dl1/lesson3-imdb.ipynb)\n",
        "\n",
        "Paper ULMFiT: [Link](https://arxiv.org/pdf/1801.06146.pdf)"
      ]
    },
    {
      "metadata": {
        "id": "pNkINkerEmzY",
        "colab_type": "code",
        "colab": {}
      },
      "cell_type": "code",
      "source": [
        "from fastai.text import *\n",
        "from pathlib import Path"
      ],
      "execution_count": 0,
      "outputs": []
    },
    {
      "metadata": {
        "id": "bUq3yHm1wBM1",
        "colab_type": "code",
        "outputId": "d22f8511-e7d8-43c4-e1ca-a8a1e62f7389",
        "colab": {
          "base_uri": "https://localhost:8080/",
          "height": 452
        }
      },
      "cell_type": "code",
      "source": [
        "path = Path(\"/content\")\n",
        "df = pd.read_csv('https://query.data.world/s/hus7zihvuo5vt65cnv4fcfn2ppfj6y', encoding = \"ISO-8859-1\")\n",
        "df.head()"
      ],
      "execution_count": 0,
      "outputs": [
        {
          "output_type": "execute_result",
          "data": {
            "text/html": [
              "<div>\n",
              "<style scoped>\n",
              "    .dataframe tbody tr th:only-of-type {\n",
              "        vertical-align: middle;\n",
              "    }\n",
              "\n",
              "    .dataframe tbody tr th {\n",
              "        vertical-align: top;\n",
              "    }\n",
              "\n",
              "    .dataframe thead th {\n",
              "        text-align: right;\n",
              "    }\n",
              "</style>\n",
              "<table border=\"1\" class=\"dataframe\">\n",
              "  <thead>\n",
              "    <tr style=\"text-align: right;\">\n",
              "      <th></th>\n",
              "      <th>_unit_id</th>\n",
              "      <th>_golden</th>\n",
              "      <th>_unit_state</th>\n",
              "      <th>_trusted_judgments</th>\n",
              "      <th>_last_judgment_at</th>\n",
              "      <th>airline_sentiment</th>\n",
              "      <th>airline_sentiment:confidence</th>\n",
              "      <th>negativereason</th>\n",
              "      <th>negativereason:confidence</th>\n",
              "      <th>airline</th>\n",
              "      <th>airline_sentiment_gold</th>\n",
              "      <th>name</th>\n",
              "      <th>negativereason_gold</th>\n",
              "      <th>retweet_count</th>\n",
              "      <th>text</th>\n",
              "      <th>tweet_coord</th>\n",
              "      <th>tweet_created</th>\n",
              "      <th>tweet_id</th>\n",
              "      <th>tweet_location</th>\n",
              "      <th>user_timezone</th>\n",
              "    </tr>\n",
              "  </thead>\n",
              "  <tbody>\n",
              "    <tr>\n",
              "      <th>0</th>\n",
              "      <td>681448150</td>\n",
              "      <td>False</td>\n",
              "      <td>finalized</td>\n",
              "      <td>3</td>\n",
              "      <td>2/25/15 5:24</td>\n",
              "      <td>neutral</td>\n",
              "      <td>1.0000</td>\n",
              "      <td>NaN</td>\n",
              "      <td>NaN</td>\n",
              "      <td>Virgin America</td>\n",
              "      <td>NaN</td>\n",
              "      <td>cairdin</td>\n",
              "      <td>NaN</td>\n",
              "      <td>0</td>\n",
              "      <td>@VirginAmerica What @dhepburn said.</td>\n",
              "      <td>NaN</td>\n",
              "      <td>2/24/15 11:35</td>\n",
              "      <td>5.703060e+17</td>\n",
              "      <td>NaN</td>\n",
              "      <td>Eastern Time (US &amp; Canada)</td>\n",
              "    </tr>\n",
              "    <tr>\n",
              "      <th>1</th>\n",
              "      <td>681448153</td>\n",
              "      <td>False</td>\n",
              "      <td>finalized</td>\n",
              "      <td>3</td>\n",
              "      <td>2/25/15 1:53</td>\n",
              "      <td>positive</td>\n",
              "      <td>0.3486</td>\n",
              "      <td>NaN</td>\n",
              "      <td>0.0000</td>\n",
              "      <td>Virgin America</td>\n",
              "      <td>NaN</td>\n",
              "      <td>jnardino</td>\n",
              "      <td>NaN</td>\n",
              "      <td>0</td>\n",
              "      <td>@VirginAmerica plus you've added commercials t...</td>\n",
              "      <td>NaN</td>\n",
              "      <td>2/24/15 11:15</td>\n",
              "      <td>5.703010e+17</td>\n",
              "      <td>NaN</td>\n",
              "      <td>Pacific Time (US &amp; Canada)</td>\n",
              "    </tr>\n",
              "    <tr>\n",
              "      <th>2</th>\n",
              "      <td>681448156</td>\n",
              "      <td>False</td>\n",
              "      <td>finalized</td>\n",
              "      <td>3</td>\n",
              "      <td>2/25/15 10:01</td>\n",
              "      <td>neutral</td>\n",
              "      <td>0.6837</td>\n",
              "      <td>NaN</td>\n",
              "      <td>NaN</td>\n",
              "      <td>Virgin America</td>\n",
              "      <td>NaN</td>\n",
              "      <td>yvonnalynn</td>\n",
              "      <td>NaN</td>\n",
              "      <td>0</td>\n",
              "      <td>@VirginAmerica I didn't today... Must mean I n...</td>\n",
              "      <td>NaN</td>\n",
              "      <td>2/24/15 11:15</td>\n",
              "      <td>5.703010e+17</td>\n",
              "      <td>Lets Play</td>\n",
              "      <td>Central Time (US &amp; Canada)</td>\n",
              "    </tr>\n",
              "    <tr>\n",
              "      <th>3</th>\n",
              "      <td>681448158</td>\n",
              "      <td>False</td>\n",
              "      <td>finalized</td>\n",
              "      <td>3</td>\n",
              "      <td>2/25/15 3:05</td>\n",
              "      <td>negative</td>\n",
              "      <td>1.0000</td>\n",
              "      <td>Bad Flight</td>\n",
              "      <td>0.7033</td>\n",
              "      <td>Virgin America</td>\n",
              "      <td>NaN</td>\n",
              "      <td>jnardino</td>\n",
              "      <td>NaN</td>\n",
              "      <td>0</td>\n",
              "      <td>@VirginAmerica it's really aggressive to blast...</td>\n",
              "      <td>NaN</td>\n",
              "      <td>2/24/15 11:15</td>\n",
              "      <td>5.703010e+17</td>\n",
              "      <td>NaN</td>\n",
              "      <td>Pacific Time (US &amp; Canada)</td>\n",
              "    </tr>\n",
              "    <tr>\n",
              "      <th>4</th>\n",
              "      <td>681448159</td>\n",
              "      <td>False</td>\n",
              "      <td>finalized</td>\n",
              "      <td>3</td>\n",
              "      <td>2/25/15 5:50</td>\n",
              "      <td>negative</td>\n",
              "      <td>1.0000</td>\n",
              "      <td>Can't Tell</td>\n",
              "      <td>1.0000</td>\n",
              "      <td>Virgin America</td>\n",
              "      <td>NaN</td>\n",
              "      <td>jnardino</td>\n",
              "      <td>NaN</td>\n",
              "      <td>0</td>\n",
              "      <td>@VirginAmerica and it's a really big bad thing...</td>\n",
              "      <td>NaN</td>\n",
              "      <td>2/24/15 11:14</td>\n",
              "      <td>5.703010e+17</td>\n",
              "      <td>NaN</td>\n",
              "      <td>Pacific Time (US &amp; Canada)</td>\n",
              "    </tr>\n",
              "  </tbody>\n",
              "</table>\n",
              "</div>"
            ],
            "text/plain": [
              "    _unit_id  _golden _unit_state  _trusted_judgments _last_judgment_at  \\\n",
              "0  681448150    False   finalized                   3      2/25/15 5:24   \n",
              "1  681448153    False   finalized                   3      2/25/15 1:53   \n",
              "2  681448156    False   finalized                   3     2/25/15 10:01   \n",
              "3  681448158    False   finalized                   3      2/25/15 3:05   \n",
              "4  681448159    False   finalized                   3      2/25/15 5:50   \n",
              "\n",
              "  airline_sentiment  airline_sentiment:confidence negativereason  \\\n",
              "0           neutral                        1.0000            NaN   \n",
              "1          positive                        0.3486            NaN   \n",
              "2           neutral                        0.6837            NaN   \n",
              "3          negative                        1.0000     Bad Flight   \n",
              "4          negative                        1.0000     Can't Tell   \n",
              "\n",
              "   negativereason:confidence         airline airline_sentiment_gold  \\\n",
              "0                        NaN  Virgin America                    NaN   \n",
              "1                     0.0000  Virgin America                    NaN   \n",
              "2                        NaN  Virgin America                    NaN   \n",
              "3                     0.7033  Virgin America                    NaN   \n",
              "4                     1.0000  Virgin America                    NaN   \n",
              "\n",
              "         name negativereason_gold  retweet_count  \\\n",
              "0     cairdin                 NaN              0   \n",
              "1    jnardino                 NaN              0   \n",
              "2  yvonnalynn                 NaN              0   \n",
              "3    jnardino                 NaN              0   \n",
              "4    jnardino                 NaN              0   \n",
              "\n",
              "                                                text tweet_coord  \\\n",
              "0                @VirginAmerica What @dhepburn said.         NaN   \n",
              "1  @VirginAmerica plus you've added commercials t...         NaN   \n",
              "2  @VirginAmerica I didn't today... Must mean I n...         NaN   \n",
              "3  @VirginAmerica it's really aggressive to blast...         NaN   \n",
              "4  @VirginAmerica and it's a really big bad thing...         NaN   \n",
              "\n",
              "   tweet_created      tweet_id tweet_location               user_timezone  \n",
              "0  2/24/15 11:35  5.703060e+17            NaN  Eastern Time (US & Canada)  \n",
              "1  2/24/15 11:15  5.703010e+17            NaN  Pacific Time (US & Canada)  \n",
              "2  2/24/15 11:15  5.703010e+17      Lets Play  Central Time (US & Canada)  \n",
              "3  2/24/15 11:15  5.703010e+17            NaN  Pacific Time (US & Canada)  \n",
              "4  2/24/15 11:14  5.703010e+17            NaN  Pacific Time (US & Canada)  "
            ]
          },
          "metadata": {
            "tags": []
          },
          "execution_count": 2
        }
      ]
    },
    {
      "metadata": {
        "id": "fZHPZdC0bzoA",
        "colab_type": "code",
        "colab": {}
      },
      "cell_type": "code",
      "source": [
        "data = df[['airline_sentiment', 'text']]\n",
        "data.to_csv('tweets_sentiment.csv', index=False)"
      ],
      "execution_count": 0,
      "outputs": []
    },
    {
      "metadata": {
        "id": "BKflY4lRwBQ-",
        "colab_type": "code",
        "outputId": "37eb5496-9f70-47c6-f5d2-c868f3b3a67c",
        "colab": {
          "base_uri": "https://localhost:8080/",
          "height": 35
        }
      },
      "cell_type": "code",
      "source": [
        "df['text'][1]"
      ],
      "execution_count": 0,
      "outputs": [
        {
          "output_type": "execute_result",
          "data": {
            "text/plain": [
              "\"@VirginAmerica plus you've added commercials to the experience... tacky.\""
            ]
          },
          "metadata": {
            "tags": []
          },
          "execution_count": 4
        }
      ]
    },
    {
      "metadata": {
        "id": "4H8zSPegbKJw",
        "colab_type": "text"
      },
      "cell_type": "markdown",
      "source": [
        "Two Stages\n",
        "\n",
        "Create a LM Model and fine tune the model using the pretrained model\n",
        "\n",
        "Use the finetune model as classifier"
      ]
    },
    {
      "metadata": {
        "id": "Ap7CWrSBbVBy",
        "colab_type": "text"
      },
      "cell_type": "markdown",
      "source": [
        "### Language Model"
      ]
    },
    {
      "metadata": {
        "id": "XtGbjncoqZn4",
        "colab_type": "code",
        "colab": {}
      },
      "cell_type": "code",
      "source": [
        "#batch size\n",
        "bs = 48\n",
        "\n",
        "# datablock for language model\n",
        "data_lm = TextLMDataBunch.from_csv(path, 'tweets_sentiment.csv')"
      ],
      "execution_count": 0,
      "outputs": []
    },
    {
      "metadata": {
        "id": "FMNkuw5XuObV",
        "colab_type": "code",
        "outputId": "9d9c4f5e-2d80-4bc9-c71f-f84414d5c52d",
        "colab": {
          "base_uri": "https://localhost:8080/",
          "height": 286
        }
      },
      "cell_type": "code",
      "source": [
        "data_lm.show_batch()"
      ],
      "execution_count": 0,
      "outputs": [
        {
          "output_type": "display_data",
          "data": {
            "text/html": [
              "<table>  <col width='5%'>  <col width='95%'>  <tr>\n",
              "    <th>idx</th>\n",
              "    <th>text</th>\n",
              "  </tr>\n",
              "  <tr>\n",
              "    <th>0</th>\n",
              "    <th>xxup xxunk xxup fll # flight today . $ 700 to switch . xxmaj no notice no apology . xxmaj we are done flying # unitedairlines . xxbos @virginamerica on ipad and iphone , clicking the xxup checkin link in the email i received at 24hrs before flight xxbos @united just changed again . xxmaj this is crazy ! # xxunk http : / / t.co / xxunk xxbos @usairways</th>\n",
              "  </tr>\n",
              "  <tr>\n",
              "    <th>1</th>\n",
              "    <th>. # custserv xxbos @usairways this is the xxunk pilot . @americanair sure you want to merge with these xxunk hitting xxunk ? http : / / t.co / xxunk xxbos @americanair we have 8 ppl so we need 2 know how many seats are on the next flight . xxmaj plz put us on standby for 4 people on the next flight ? xxbos @americanair thanks so much !</th>\n",
              "  </tr>\n",
              "  <tr>\n",
              "    <th>2</th>\n",
              "    <th>n't even left xxup atl . xxmaj should have picked xxmaj delta maybe ? xxbos @united need assistance to change flight to get to an ailing parent .. \\n  have flight leaving xxmaj tuesday need to change xxup asap to sooner # custserv xxbos @southwestair xxmaj thanks . i 'll keep checking . i 'm trying to book our first xxmaj disney xxmaj world vacation . xxbos @united here</th>\n",
              "  </tr>\n",
              "  <tr>\n",
              "    <th>3</th>\n",
              "    <th>@united well , you ca n't fix me missing my buddies 30th bday because of negligence but you can attempt to make up for it . xxbos @united volumes , profit up http : / / t.co / xxunk # aviation # xxunk http : / / t.co / xxunk xxbos @jetblue great job getting flight 28 in 10 minutes early . xxmaj too bad we 're at 50 minutes</th>\n",
              "  </tr>\n",
              "  <tr>\n",
              "    <th>4</th>\n",
              "    <th>xxmaj philadelphia airport never again will i fly with them ! _ xxup ù÷ _ xxbos @southwestair xxmaj customer relations line had busy signal too , called the normal line and the service rep thought i was dumb for not knowing . xxbos @virginamerica for all my flight stuff wrong and did nothing about it . xxmaj had # worst # flight ever xxbos @usairways @americanair u are the worst</th>\n",
              "  </tr>\n",
              "</table>\n"
            ],
            "text/plain": [
              "<IPython.core.display.HTML object>"
            ]
          },
          "metadata": {
            "tags": []
          }
        }
      ]
    },
    {
      "metadata": {
        "id": "ts7WTa9_sWRE",
        "colab_type": "code",
        "colab": {}
      },
      "cell_type": "code",
      "source": [
        "# #Since above step can be a bit time-consuming, it's best to save the result.\n",
        "# #This will create a 'tmp' directory where all the computed stuff will be stored\n",
        "# data_lm.save('data_lm_export.pkl')"
      ],
      "execution_count": 0,
      "outputs": []
    },
    {
      "metadata": {
        "id": "RQlMt65gsWOV",
        "colab_type": "code",
        "colab": {}
      },
      "cell_type": "code",
      "source": [
        "# # then reload those results using load_data\n",
        "# data_lm = load_data(path, fname='data_lm_export.pkl')"
      ],
      "execution_count": 0,
      "outputs": []
    },
    {
      "metadata": {
        "id": "h3otO2l7wJR8",
        "colab_type": "text"
      },
      "cell_type": "markdown",
      "source": [
        "## Finetune pretrained model "
      ]
    },
    {
      "metadata": {
        "id": "oePPnwk4tHC9",
        "colab_type": "text"
      },
      "cell_type": "markdown",
      "source": [
        "We're not going to train a model that classifies the reviews from scratch. Like in computer vision, we'll use a model pretrained on a bigger dataset (a cleaned subset of wikipedia called [wikitext-103](https://einstein.ai/research/blog/the-wikitext-long-term-dependency-language-modeling-dataset)). That model has been trained to guess what the next word, its input being all the previous words. It has a recurrent structure and a hidden state that is updated each time it sees a new word. This hidden state thus contains information about the sentence up to that point.\n",
        "\n",
        "We are going to use that 'knowledge' of the English language to build our classifier, but first, like for computer vision, we need to fine-tune the pretrained model to our particular dataset. Because the English of the reviews left by people on tweets isn't the same as the English of wikipedia, we'll need to adjust the parameters of our model by a little bit. Plus there might be some words that would be extremely common in the reviews dataset but would be barely present in wikipedia, and therefore might not be part of the vocabulary the model was trained on."
      ]
    },
    {
      "metadata": {
        "id": "MQN8dXX3s3vJ",
        "colab_type": "code",
        "colab": {}
      },
      "cell_type": "code",
      "source": [
        "learn = language_model_learner(data_lm, AWD_LSTM, drop_mult=0.3)"
      ],
      "execution_count": 0,
      "outputs": []
    },
    {
      "metadata": {
        "id": "0p8oAoVEttCk",
        "colab_type": "code",
        "outputId": "7d01faef-e5b7-4123-e88a-f4da9449c4e2",
        "colab": {
          "base_uri": "https://localhost:8080/",
          "height": 397
        }
      },
      "cell_type": "code",
      "source": [
        "learn.lr_find()\n",
        "learn.recorder.plot(skip_end=15)"
      ],
      "execution_count": 0,
      "outputs": [
        {
          "output_type": "display_data",
          "data": {
            "text/html": [
              ""
            ],
            "text/plain": [
              "<IPython.core.display.HTML object>"
            ]
          },
          "metadata": {
            "tags": []
          }
        },
        {
          "output_type": "stream",
          "text": [
            "LR Finder is complete, type {learner_name}.recorder.plot() to see the graph.\n",
            "Min numerical gradient: 1.00E-01\n"
          ],
          "name": "stdout"
        },
        {
          "output_type": "display_data",
          "data": {
            "image/png": "[encoded data removed]",
            "text/plain": [
              "<Figure size 576x396 with 1 Axes>"
            ]
          },
          "metadata": {
            "tags": []
          }
        }
      ]
    },
    {
      "metadata": {
        "id": "aGpwjGUEttHv",
        "colab_type": "code",
        "outputId": "2657797f-e0c0-4f8f-e288-de25b1fc5531",
        "colab": {
          "base_uri": "https://localhost:8080/",
          "height": 230
        }
      },
      "cell_type": "code",
      "source": [
        "learn.fit_one_cycle(5, 1.20E-01, moms=(0.8,0.7))"
      ],
      "execution_count": 0,
      "outputs": [
        {
          "output_type": "display_data",
          "data": {
            "text/html": [
              "Total time: 01:50 <p><table border=\"1\" class=\"dataframe\">\n",
              "  <thead>\n",
              "    <tr style=\"text-align: left;\">\n",
              "      <th>epoch</th>\n",
              "      <th>train_loss</th>\n",
              "      <th>valid_loss</th>\n",
              "      <th>accuracy</th>\n",
              "    </tr>\n",
              "  </thead>\n",
              "  <tbody>\n",
              "    <tr>\n",
              "      <td>1</td>\n",
              "      <td>4.780935</td>\n",
              "      <td>4.186964</td>\n",
              "      <td>0.237012</td>\n",
              "    </tr>\n",
              "    <tr>\n",
              "      <td>2</td>\n",
              "      <td>4.556332</td>\n",
              "      <td>4.329750</td>\n",
              "      <td>0.232436</td>\n",
              "    </tr>\n",
              "    <tr>\n",
              "      <td>3</td>\n",
              "      <td>4.395356</td>\n",
              "      <td>4.209530</td>\n",
              "      <td>0.243736</td>\n",
              "    </tr>\n",
              "    <tr>\n",
              "      <td>4</td>\n",
              "      <td>4.096006</td>\n",
              "      <td>4.056077</td>\n",
              "      <td>0.259891</td>\n",
              "    </tr>\n",
              "    <tr>\n",
              "      <td>5</td>\n",
              "      <td>3.784350</td>\n",
              "      <td>4.024469</td>\n",
              "      <td>0.263770</td>\n",
              "    </tr>\n",
              "  </tbody>\n",
              "</table>"
            ],
            "text/plain": [
              "<IPython.core.display.HTML object>"
            ]
          },
          "metadata": {
            "tags": []
          }
        }
      ]
    },
    {
      "metadata": {
        "id": "VJqPry46iGwh",
        "colab_type": "code",
        "outputId": "0fef4139-e5c8-4637-8855-4dccbd731e4e",
        "colab": {
          "base_uri": "https://localhost:8080/",
          "height": 397
        }
      },
      "cell_type": "code",
      "source": [
        "#unfreeze the model and fine-tune it\n",
        "\n",
        "learn.unfreeze()\n",
        "learn.lr_find()\n",
        "learn.recorder.plot(skip_end=15)"
      ],
      "execution_count": 0,
      "outputs": [
        {
          "output_type": "display_data",
          "data": {
            "text/html": [
              ""
            ],
            "text/plain": [
              "<IPython.core.display.HTML object>"
            ]
          },
          "metadata": {
            "tags": []
          }
        },
        {
          "output_type": "stream",
          "text": [
            "LR Finder is complete, type {learner_name}.recorder.plot() to see the graph.\n",
            "Min numerical gradient: 7.59E-07\n"
          ],
          "name": "stdout"
        },
        {
          "output_type": "display_data",
          "data": {
            "image/png": "[encoded data removed]",
            "text/plain": [
              "<Figure size 576x396 with 1 Axes>"
            ]
          },
          "metadata": {
            "tags": []
          }
        }
      ]
    },
    {
      "metadata": {
        "id": "0Fieoemns34Q",
        "colab_type": "code",
        "outputId": "f03babef-8f72-45f7-ba5a-346ff43bdf28",
        "colab": {
          "base_uri": "https://localhost:8080/",
          "height": 386
        }
      },
      "cell_type": "code",
      "source": [
        "learn.fit_one_cycle(10, 6.31E-07, moms=(0.8,0.7))"
      ],
      "execution_count": 0,
      "outputs": [
        {
          "output_type": "display_data",
          "data": {
            "text/html": [
              "Total time: 04:38 <p><table border=\"1\" class=\"dataframe\">\n",
              "  <thead>\n",
              "    <tr style=\"text-align: left;\">\n",
              "      <th>epoch</th>\n",
              "      <th>train_loss</th>\n",
              "      <th>valid_loss</th>\n",
              "      <th>accuracy</th>\n",
              "    </tr>\n",
              "  </thead>\n",
              "  <tbody>\n",
              "    <tr>\n",
              "      <td>1</td>\n",
              "      <td>3.572333</td>\n",
              "      <td>4.023167</td>\n",
              "      <td>0.264062</td>\n",
              "    </tr>\n",
              "    <tr>\n",
              "      <td>2</td>\n",
              "      <td>3.571411</td>\n",
              "      <td>4.023208</td>\n",
              "      <td>0.264174</td>\n",
              "    </tr>\n",
              "    <tr>\n",
              "      <td>3</td>\n",
              "      <td>3.568293</td>\n",
              "      <td>4.023170</td>\n",
              "      <td>0.264049</td>\n",
              "    </tr>\n",
              "    <tr>\n",
              "      <td>4</td>\n",
              "      <td>3.566987</td>\n",
              "      <td>4.022425</td>\n",
              "      <td>0.264314</td>\n",
              "    </tr>\n",
              "    <tr>\n",
              "      <td>5</td>\n",
              "      <td>3.569482</td>\n",
              "      <td>4.022603</td>\n",
              "      <td>0.263993</td>\n",
              "    </tr>\n",
              "    <tr>\n",
              "      <td>6</td>\n",
              "      <td>3.574756</td>\n",
              "      <td>4.022795</td>\n",
              "      <td>0.263979</td>\n",
              "    </tr>\n",
              "    <tr>\n",
              "      <td>7</td>\n",
              "      <td>3.565048</td>\n",
              "      <td>4.023178</td>\n",
              "      <td>0.263881</td>\n",
              "    </tr>\n",
              "    <tr>\n",
              "      <td>8</td>\n",
              "      <td>3.571816</td>\n",
              "      <td>4.023063</td>\n",
              "      <td>0.263756</td>\n",
              "    </tr>\n",
              "    <tr>\n",
              "      <td>9</td>\n",
              "      <td>3.575478</td>\n",
              "      <td>4.021957</td>\n",
              "      <td>0.264607</td>\n",
              "    </tr>\n",
              "    <tr>\n",
              "      <td>10</td>\n",
              "      <td>3.569856</td>\n",
              "      <td>4.021911</td>\n",
              "      <td>0.263951</td>\n",
              "    </tr>\n",
              "  </tbody>\n",
              "</table>"
            ],
            "text/plain": [
              "<IPython.core.display.HTML object>"
            ]
          },
          "metadata": {
            "tags": []
          }
        }
      ]
    },
    {
      "metadata": {
        "id": "2rAVT3-Wt83d",
        "colab_type": "text"
      },
      "cell_type": "markdown",
      "source": [
        "Let's try to predict what has our language model learned from dataset by letting it generate the sentence which we saw in Char-RNN tutorial."
      ]
    },
    {
      "metadata": {
        "id": "IxcgS-PEt7-m",
        "colab_type": "code",
        "colab": {}
      },
      "cell_type": "code",
      "source": [
        "TEXT = \"The worst airline\"\n",
        "N_WORDS = 40\n",
        "N_SENTENCES = 2"
      ],
      "execution_count": 0,
      "outputs": []
    },
    {
      "metadata": {
        "id": "uTm1_wwQuZ4m",
        "colab_type": "code",
        "outputId": "a2546b6c-2bf8-4417-db88-20513328d1d9",
        "colab": {
          "base_uri": "https://localhost:8080/",
          "height": 73
        }
      },
      "cell_type": "code",
      "source": [
        "print(\"\\n\".join(learn.predict(TEXT, N_WORDS, temperature=0.75) for _ in range(N_SENTENCES)))"
      ],
      "execution_count": 0,
      "outputs": [
        {
          "output_type": "stream",
          "text": [
            "The worst airline ever . By 2 / 28 , no other ramps . Unloaded . No food option . No catering . There are no seats in sight . Now , after 2 pm , no\n",
            "The worst airline in the world , it dramatically nj would be great . xxbos @jetblue Ca n't find that it 's priority until Tuesday . They 're being treated like by multiple times in two years for \" this\n"
          ],
          "name": "stdout"
        }
      ]
    },
    {
      "metadata": {
        "id": "Mlms5QAwwuM6",
        "colab_type": "code",
        "colab": {}
      },
      "cell_type": "code",
      "source": [
        "learn.save_encoder('fine_tuned_enc')"
      ],
      "execution_count": 0,
      "outputs": []
    },
    {
      "metadata": {
        "id": "k_zvblk1ewZx",
        "colab_type": "code",
        "colab": {}
      },
      "cell_type": "code",
      "source": [
        ""
      ],
      "execution_count": 0,
      "outputs": []
    },
    {
      "metadata": {
        "id": "iQNFFTmDwSn6",
        "colab_type": "text"
      },
      "cell_type": "markdown",
      "source": [
        "## Classifier"
      ]
    },
    {
      "metadata": {
        "id": "sXta9ZsKwUXb",
        "colab_type": "code",
        "colab": {}
      },
      "cell_type": "code",
      "source": [
        "# datablock for classifier\n",
        "\n",
        "data_clas = TextClasDataBunch.from_csv(path, 'tweets_sentiment.csv', vocab=data_lm.train_ds.vocab, bs=32,\n",
        "                                      text_cols='text', label_cols='airline_sentiment')"
      ],
      "execution_count": 0,
      "outputs": []
    },
    {
      "metadata": {
        "id": "p_GNKllOwVq3",
        "colab_type": "code",
        "colab": {}
      },
      "cell_type": "code",
      "source": [
        "# data_clas.save('data_clas.pkl')"
      ],
      "execution_count": 0,
      "outputs": []
    },
    {
      "metadata": {
        "id": "fVaoIv_xwV_p",
        "colab_type": "code",
        "colab": {}
      },
      "cell_type": "code",
      "source": [
        "# data_cls = data_clas.load('data_clas.pkl', bs=bs)"
      ],
      "execution_count": 0,
      "outputs": []
    },
    {
      "metadata": {
        "id": "YtwAn7-YwWCX",
        "colab_type": "code",
        "outputId": "220fe05d-0e90-45ef-ab3c-31bd2cd3de91",
        "colab": {
          "base_uri": "https://localhost:8080/",
          "height": 234
        }
      },
      "cell_type": "code",
      "source": [
        "data_clas.show_batch()"
      ],
      "execution_count": 0,
      "outputs": [
        {
          "output_type": "display_data",
          "data": {
            "text/html": [
              "<table>  <col width='90%'>  <col width='10%'>  <tr>\n",
              "    <th>text</th>\n",
              "    <th>target</th>\n",
              "  </tr>\n",
              "  <tr>\n",
              "    <th>xxbos @united xxmaj hi have a question re future xxmaj flight xxmaj booking xxmaj problems . xxup dub - xxup jac 29 / 9 xxup jac - xxup lax 8 / 10 xxup lax - xxup dub 13 / 10 . i 'm * xxup g. xxmaj what is checked bag allowance for xxup jac - xxup lax ?</th>\n",
              "    <th>neutral</th>\n",
              "  </tr>\n",
              "  <tr>\n",
              "    <th>xxbos @usairways xxup plans xxup changed ! xxup is xxup that xxup what u xxup call xxup not xxup bein xxup able 2 xxup park xxup on xxup time xxup planes w a 2 xxup hr xxup layover n b xxup able 2 xxup make xxup ur xxup connection ! # seriously</th>\n",
              "    <th>negative</th>\n",
              "  </tr>\n",
              "  <tr>\n",
              "    <th>xxbos @southwestair xxmaj the xxmaj fact xxmaj that u xxmaj see xxmaj black xxmaj history xxmaj month 12 xxmaj months a xxmaj year xxmaj is xxmaj xxunk ! xxmaj we xxup will xxup be xxmaj an xxmaj xxunk xxmaj base xxmaj for xxmaj corp. xxmaj like u xxmaj in xxmaj future !</th>\n",
              "    <th>positive</th>\n",
              "  </tr>\n",
              "  <tr>\n",
              "    <th>xxbos @united xxmaj united xxmaj club team is xxup a+ & & got me a seat xxmaj late xxmaj flightr . xxmaj still , not sure why a last min xxup ual xxmaj cancelled xxmaj flightlation costs me $ yet overbooked folks get $ ?</th>\n",
              "    <th>negative</th>\n",
              "  </tr>\n",
              "  <tr>\n",
              "    <th>xxbos @southwestair xxmaj hi ! xxmaj just got my xxup tsa pre - check # & & put it in my acct . xxmaj but it 's not on my boarding pass for a flight this xxunk . xxmaj can it be updated ?</th>\n",
              "    <th>negative</th>\n",
              "  </tr>\n",
              "</table>\n"
            ],
            "text/plain": [
              "<IPython.core.display.HTML object>"
            ]
          },
          "metadata": {
            "tags": []
          }
        }
      ]
    },
    {
      "metadata": {
        "id": "w36iuFp4wrbV",
        "colab_type": "code",
        "colab": {}
      },
      "cell_type": "code",
      "source": [
        "learn = text_classifier_learner(data_clas, AWD_LSTM, drop_mult=0.5)\n",
        "learn.load_encoder('fine_tuned_enc')"
      ],
      "execution_count": 0,
      "outputs": []
    },
    {
      "metadata": {
        "id": "Byn4qfX3wrYM",
        "colab_type": "code",
        "outputId": "cb6d86ed-7240-46c8-b571-2ee46c5b78a2",
        "colab": {
          "base_uri": "https://localhost:8080/",
          "height": 397
        }
      },
      "cell_type": "code",
      "source": [
        "learn.lr_find()\n",
        "learn.recorder.plot(skip_end=15)"
      ],
      "execution_count": 0,
      "outputs": [
        {
          "output_type": "display_data",
          "data": {
            "text/html": [
              ""
            ],
            "text/plain": [
              "<IPython.core.display.HTML object>"
            ]
          },
          "metadata": {
            "tags": []
          }
        },
        {
          "output_type": "stream",
          "text": [
            "LR Finder is complete, type {learner_name}.recorder.plot() to see the graph.\n",
            "Min numerical gradient: 3.31E-02\n"
          ],
          "name": "stdout"
        },
        {
          "output_type": "display_data",
          "data": {
            "image/png": "[encoded data removed]",
            "text/plain": [
              "<Figure size 576x396 with 1 Axes>"
            ]
          },
          "metadata": {
            "tags": []
          }
        }
      ]
    },
    {
      "metadata": {
        "id": "ESTKDFlMw2oG",
        "colab_type": "code",
        "outputId": "f2102669-22d2-455f-b653-9c35973ba355",
        "colab": {
          "base_uri": "https://localhost:8080/",
          "height": 230
        }
      },
      "cell_type": "code",
      "source": [
        "learn.fit_one_cycle(5, 2.75E-02, moms=(0.8,0.7))"
      ],
      "execution_count": 0,
      "outputs": [
        {
          "output_type": "display_data",
          "data": {
            "text/html": [
              "Total time: 01:57 <p><table border=\"1\" class=\"dataframe\">\n",
              "  <thead>\n",
              "    <tr style=\"text-align: left;\">\n",
              "      <th>epoch</th>\n",
              "      <th>train_loss</th>\n",
              "      <th>valid_loss</th>\n",
              "      <th>accuracy</th>\n",
              "    </tr>\n",
              "  </thead>\n",
              "  <tbody>\n",
              "    <tr>\n",
              "      <td>1</td>\n",
              "      <td>0.826510</td>\n",
              "      <td>0.727270</td>\n",
              "      <td>0.694435</td>\n",
              "    </tr>\n",
              "    <tr>\n",
              "      <td>2</td>\n",
              "      <td>0.831959</td>\n",
              "      <td>0.677368</td>\n",
              "      <td>0.715603</td>\n",
              "    </tr>\n",
              "    <tr>\n",
              "      <td>3</td>\n",
              "      <td>0.817753</td>\n",
              "      <td>0.698330</td>\n",
              "      <td>0.718334</td>\n",
              "    </tr>\n",
              "    <tr>\n",
              "      <td>4</td>\n",
              "      <td>0.781654</td>\n",
              "      <td>0.679023</td>\n",
              "      <td>0.718334</td>\n",
              "    </tr>\n",
              "    <tr>\n",
              "      <td>5</td>\n",
              "      <td>0.786838</td>\n",
              "      <td>0.658620</td>\n",
              "      <td>0.724479</td>\n",
              "    </tr>\n",
              "  </tbody>\n",
              "</table>"
            ],
            "text/plain": [
              "<IPython.core.display.HTML object>"
            ]
          },
          "metadata": {
            "tags": []
          }
        }
      ]
    },
    {
      "metadata": {
        "id": "-gfLZ4jFw_GA",
        "colab_type": "text"
      },
      "cell_type": "markdown",
      "source": [
        "### Gradual Unfreezing"
      ]
    },
    {
      "metadata": {
        "id": "FOyWNosgw2wv",
        "colab_type": "code",
        "outputId": "ea50a89e-c04f-43c8-c411-07242fdefbad",
        "colab": {
          "base_uri": "https://localhost:8080/",
          "height": 230
        }
      },
      "cell_type": "code",
      "source": [
        "#unfreeze last 1 layer and train\n",
        "learn.freeze_to(-2)\n",
        "learn.fit_one_cycle(5, slice(1e-3/(2.6**4), 1e-3), moms=(0.8,0.7))"
      ],
      "execution_count": 0,
      "outputs": [
        {
          "output_type": "display_data",
          "data": {
            "text/html": [
              "Total time: 02:17 <p><table border=\"1\" class=\"dataframe\">\n",
              "  <thead>\n",
              "    <tr style=\"text-align: left;\">\n",
              "      <th>epoch</th>\n",
              "      <th>train_loss</th>\n",
              "      <th>valid_loss</th>\n",
              "      <th>accuracy</th>\n",
              "    </tr>\n",
              "  </thead>\n",
              "  <tbody>\n",
              "    <tr>\n",
              "      <td>1</td>\n",
              "      <td>0.765062</td>\n",
              "      <td>0.644949</td>\n",
              "      <td>0.730966</td>\n",
              "    </tr>\n",
              "    <tr>\n",
              "      <td>2</td>\n",
              "      <td>0.735334</td>\n",
              "      <td>0.618762</td>\n",
              "      <td>0.742916</td>\n",
              "    </tr>\n",
              "    <tr>\n",
              "      <td>3</td>\n",
              "      <td>0.729768</td>\n",
              "      <td>0.604187</td>\n",
              "      <td>0.744623</td>\n",
              "    </tr>\n",
              "    <tr>\n",
              "      <td>4</td>\n",
              "      <td>0.716741</td>\n",
              "      <td>0.591191</td>\n",
              "      <td>0.754865</td>\n",
              "    </tr>\n",
              "    <tr>\n",
              "      <td>5</td>\n",
              "      <td>0.725324</td>\n",
              "      <td>0.590953</td>\n",
              "      <td>0.752134</td>\n",
              "    </tr>\n",
              "  </tbody>\n",
              "</table>"
            ],
            "text/plain": [
              "<IPython.core.display.HTML object>"
            ]
          },
          "metadata": {
            "tags": []
          }
        }
      ]
    },
    {
      "metadata": {
        "id": "gx0-axnvw21W",
        "colab_type": "code",
        "outputId": "5da6f0ed-fa4f-47e7-ace1-f3abefbe5fdb",
        "colab": {
          "base_uri": "https://localhost:8080/",
          "height": 230
        }
      },
      "cell_type": "code",
      "source": [
        "#unfreeze last 2 layers and train\n",
        "learn.freeze_to(-3)\n",
        "learn.fit_one_cycle(5, slice(5e-3/(2.6**4), 5e-3), moms=(0.8,0.7))"
      ],
      "execution_count": 0,
      "outputs": [
        {
          "output_type": "display_data",
          "data": {
            "text/html": [
              "Total time: 03:29 <p><table border=\"1\" class=\"dataframe\">\n",
              "  <thead>\n",
              "    <tr style=\"text-align: left;\">\n",
              "      <th>epoch</th>\n",
              "      <th>train_loss</th>\n",
              "      <th>valid_loss</th>\n",
              "      <th>accuracy</th>\n",
              "    </tr>\n",
              "  </thead>\n",
              "  <tbody>\n",
              "    <tr>\n",
              "      <td>1</td>\n",
              "      <td>0.699117</td>\n",
              "      <td>0.561120</td>\n",
              "      <td>0.774326</td>\n",
              "    </tr>\n",
              "    <tr>\n",
              "      <td>2</td>\n",
              "      <td>0.642854</td>\n",
              "      <td>0.890200</td>\n",
              "      <td>0.784568</td>\n",
              "    </tr>\n",
              "    <tr>\n",
              "      <td>3</td>\n",
              "      <td>0.601090</td>\n",
              "      <td>0.673197</td>\n",
              "      <td>0.794469</td>\n",
              "    </tr>\n",
              "    <tr>\n",
              "      <td>4</td>\n",
              "      <td>0.561896</td>\n",
              "      <td>0.498641</td>\n",
              "      <td>0.813930</td>\n",
              "    </tr>\n",
              "    <tr>\n",
              "      <td>5</td>\n",
              "      <td>0.556359</td>\n",
              "      <td>0.486604</td>\n",
              "      <td>0.812564</td>\n",
              "    </tr>\n",
              "  </tbody>\n",
              "</table>"
            ],
            "text/plain": [
              "<IPython.core.display.HTML object>"
            ]
          },
          "metadata": {
            "tags": []
          }
        }
      ]
    },
    {
      "metadata": {
        "id": "2F67h0IPp1v_",
        "colab_type": "code",
        "colab": {}
      },
      "cell_type": "code",
      "source": [
        "learn.save('3_unfreeze')"
      ],
      "execution_count": 0,
      "outputs": []
    },
    {
      "metadata": {
        "id": "FiVvIO65iDMD",
        "colab_type": "code",
        "outputId": "514c90e3-125d-40cd-c9b8-eab997fd0abe",
        "colab": {
          "base_uri": "https://localhost:8080/",
          "height": 397
        }
      },
      "cell_type": "code",
      "source": [
        "#unfreeze whole model and train\n",
        "learn.unfreeze()\n",
        "learn.lr_find()\n",
        "learn.recorder.plot(skip_end=15)"
      ],
      "execution_count": 0,
      "outputs": [
        {
          "output_type": "display_data",
          "data": {
            "text/html": [
              ""
            ],
            "text/plain": [
              "<IPython.core.display.HTML object>"
            ]
          },
          "metadata": {
            "tags": []
          }
        },
        {
          "output_type": "stream",
          "text": [
            "LR Finder is complete, type {learner_name}.recorder.plot() to see the graph.\n",
            "Min numerical gradient: 8.32E-04\n"
          ],
          "name": "stdout"
        },
        {
          "output_type": "display_data",
          "data": {
            "image/png": "[encoded data removed]",
            "text/plain": [
              "<Figure size 576x396 with 1 Axes>"
            ]
          },
          "metadata": {
            "tags": []
          }
        }
      ]
    },
    {
      "metadata": {
        "id": "GfKH0d5GxD78",
        "colab_type": "code",
        "outputId": "39dcb08b-1eba-4c31-84a0-a5cc82a60fce",
        "colab": {
          "base_uri": "https://localhost:8080/",
          "height": 324
        }
      },
      "cell_type": "code",
      "source": [
        "learn.fit_one_cycle(8, slice(1e-4/2*(2.6**4), 1e-4/2), moms=(0.8,0.7))"
      ],
      "execution_count": 0,
      "outputs": [
        {
          "output_type": "display_data",
          "data": {
            "text/html": [
              "Total time: 07:16 <p><table border=\"1\" class=\"dataframe\">\n",
              "  <thead>\n",
              "    <tr style=\"text-align: left;\">\n",
              "      <th>epoch</th>\n",
              "      <th>train_loss</th>\n",
              "      <th>valid_loss</th>\n",
              "      <th>accuracy</th>\n",
              "    </tr>\n",
              "  </thead>\n",
              "  <tbody>\n",
              "    <tr>\n",
              "      <td>1</td>\n",
              "      <td>0.522395</td>\n",
              "      <td>0.530417</td>\n",
              "      <td>0.813930</td>\n",
              "    </tr>\n",
              "    <tr>\n",
              "      <td>2</td>\n",
              "      <td>0.543465</td>\n",
              "      <td>0.490725</td>\n",
              "      <td>0.818027</td>\n",
              "    </tr>\n",
              "    <tr>\n",
              "      <td>3</td>\n",
              "      <td>0.526981</td>\n",
              "      <td>0.468678</td>\n",
              "      <td>0.831342</td>\n",
              "    </tr>\n",
              "    <tr>\n",
              "      <td>4</td>\n",
              "      <td>0.518565</td>\n",
              "      <td>0.440695</td>\n",
              "      <td>0.828952</td>\n",
              "    </tr>\n",
              "    <tr>\n",
              "      <td>5</td>\n",
              "      <td>0.484885</td>\n",
              "      <td>0.438958</td>\n",
              "      <td>0.827586</td>\n",
              "    </tr>\n",
              "    <tr>\n",
              "      <td>6</td>\n",
              "      <td>0.437532</td>\n",
              "      <td>0.436084</td>\n",
              "      <td>0.829976</td>\n",
              "    </tr>\n",
              "    <tr>\n",
              "      <td>7</td>\n",
              "      <td>0.457774</td>\n",
              "      <td>0.437971</td>\n",
              "      <td>0.833049</td>\n",
              "    </tr>\n",
              "    <tr>\n",
              "      <td>8</td>\n",
              "      <td>0.474538</td>\n",
              "      <td>0.446159</td>\n",
              "      <td>0.829293</td>\n",
              "    </tr>\n",
              "  </tbody>\n",
              "</table>"
            ],
            "text/plain": [
              "<IPython.core.display.HTML object>"
            ]
          },
          "metadata": {
            "tags": []
          }
        }
      ]
    },
    {
      "metadata": {
        "id": "CBpiGZOZxTGo",
        "colab_type": "text"
      },
      "cell_type": "markdown",
      "source": [
        "## Prediction"
      ]
    },
    {
      "metadata": {
        "id": "K-eB4HUXxP3w",
        "colab_type": "code",
        "outputId": "e21817d4-83ee-40df-a323-186f10649017",
        "colab": {
          "base_uri": "https://localhost:8080/",
          "height": 35
        }
      },
      "cell_type": "code",
      "source": [
        "learn.predict(\"The service of Spirt Airways stinks!\")"
      ],
      "execution_count": 0,
      "outputs": [
        {
          "output_type": "execute_result",
          "data": {
            "text/plain": [
              "(Category negative, tensor(0), tensor([0.6030, 0.0828, 0.3142]))"
            ]
          },
          "metadata": {
            "tags": []
          },
          "execution_count": 29
        }
      ]
    },
    {
      "metadata": {
        "id": "UPfQNXi2xP0e",
        "colab_type": "code",
        "outputId": "772c4e51-5b77-4710-ade7-af49d97bc1f8",
        "colab": {
          "base_uri": "https://localhost:8080/",
          "height": 35
        }
      },
      "cell_type": "code",
      "source": [
        "learn.predict(\"Bloody plane is delayed again. An hour delay Sort it out #QANTAS\")"
      ],
      "execution_count": 0,
      "outputs": [
        {
          "output_type": "execute_result",
          "data": {
            "text/plain": [
              "(Category negative, tensor(0), tensor([0.9970, 0.0012, 0.0018]))"
            ]
          },
          "metadata": {
            "tags": []
          },
          "execution_count": 30
        }
      ]
    },
    {
      "metadata": {
        "id": "rKNZono1he0t",
        "colab_type": "code",
        "outputId": "457bd3d1-f6c5-442e-8a2e-8cd51f31b382",
        "colab": {
          "base_uri": "https://localhost:8080/",
          "height": 35
        }
      },
      "cell_type": "code",
      "source": [
        "learn.predict(\"Woohoo! 4 hour flight delay. I love travel.\")"
      ],
      "execution_count": 0,
      "outputs": [
        {
          "output_type": "execute_result",
          "data": {
            "text/plain": [
              "(Category negative, tensor(0), tensor([0.6910, 0.0140, 0.2950]))"
            ]
          },
          "metadata": {
            "tags": []
          },
          "execution_count": 31
        }
      ]
    },
    {
      "metadata": {
        "id": "dBaPaV1GhlWF",
        "colab_type": "code",
        "outputId": "32228e5f-ed80-4b46-b507-1b595480538c",
        "colab": {
          "base_uri": "https://localhost:8080/",
          "height": 35
        }
      },
      "cell_type": "code",
      "source": [
        "learn.predict(\"The food in this American Airlines flight from Paris is terrible. It's an affront to the destination this plane is coming from!\")"
      ],
      "execution_count": 0,
      "outputs": [
        {
          "output_type": "execute_result",
          "data": {
            "text/plain": [
              "(Category negative, tensor(0), tensor([0.8682, 0.0721, 0.0597]))"
            ]
          },
          "metadata": {
            "tags": []
          },
          "execution_count": 32
        }
      ]
    },
    {
      "metadata": {
        "id": "Y1QtqROYhxU9",
        "colab_type": "code",
        "outputId": "6a478a81-06fc-43d7-cf61-2e9b2140a969",
        "colab": {
          "base_uri": "https://localhost:8080/",
          "height": 35
        }
      },
      "cell_type": "code",
      "source": [
        "learn.predict(\"Thank you @AirFrance for my cancelled flight, now I have to take the train to #Nantes. #Travel #France #PilotStrike\")"
      ],
      "execution_count": 0,
      "outputs": [
        {
          "output_type": "execute_result",
          "data": {
            "text/plain": [
              "(Category positive, tensor(2), tensor([0.3579, 0.1216, 0.5205]))"
            ]
          },
          "metadata": {
            "tags": []
          },
          "execution_count": 33
        }
      ]
    }
  ]
}