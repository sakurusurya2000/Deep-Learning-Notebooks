{
  "nbformat": 4,
  "nbformat_minor": 0,
  "metadata": {
    "colab": {
      "name": "char_rnn_fastai.ipynb",
      "version": "0.3.2",
      "provenance": [],
      "collapsed_sections": []
    },
    "kernelspec": {
      "name": "python3",
      "display_name": "Python 3"
    },
    "accelerator": "GPU"
  },
  "cells": [
    {
      "metadata": {
        "id": "v9ZgzXdmiWIc",
        "colab_type": "text"
      },
      "cell_type": "markdown",
      "source": [
        "# Char RNN\n",
        "\n",
        "In this notebook, we will go through basics of Char-RNN and use different datasets to create different RNNs.\n",
        "\n",
        "Here we will use [fast.ai](https://docs.fast.ai  \"Fastai Tutorial\").\n",
        "\n",
        "\n",
        "Everything is explained in-detail in [blog post](https://dudeperf3ct.github.io/rnn/2019/01/19/Force-of-Recurrent-Neural-Networks/). This is notebook which replicates the result of blog and runs in colab. Enjoy!\n",
        "\n",
        "\n",
        "#### Run in Colab\n",
        "\n",
        "You can run this notebook in google colab.\n",
        "\n",
        "[![Open In Colab](https://colab.research.google.com/assets/colab-badge.svg)](https://colab.research.google.com/github/dudeperf3ct/DL_notebooks/blob/master/RNN/char_rnn_fastai.ipynb).\n",
        "\n",
        "\n",
        "\n",
        "Here are some other very interesting results, [Cooking-Recipe](https://gist.github.com/nylki/1efbaa36635956d35bcc), [Obama-RNN](https://medium.com/@samim/obama-rnn-machine-generated-political-speeches-c8abd18a2ea0), [Bible-RNN](https://twitter.com/RNN_Bible), [Folk-music](https://soundcloud.com/seaandsailor/sets/char-rnn-composes-irish-folk-music), [Learning Holiness](https://cpury.github.io/learning-holiness/), [AI Weirdness](http://aiweirdness.com/), [Auto-Generating Clickbait](https://larseidnes.com/2015/10/13/auto-generating-clickbait-with-recurrent-neural-networks/)."
      ]
    },
    {
      "metadata": {
        "id": "xOND0u0Rp3R6",
        "colab_type": "text"
      },
      "cell_type": "markdown",
      "source": [
        "## Download data"
      ]
    },
    {
      "metadata": {
        "id": "Ux9Ideiip5ym",
        "colab_type": "code",
        "outputId": "bb0894c7-903b-44a4-8bb9-7c9029aafc68",
        "colab": {
          "base_uri": "https://localhost:8080/",
          "height": 1393
        }
      },
      "cell_type": "code",
      "source": [
        "! wget \"https://raw.githubusercontent.com/karpathy/char-rnn/master/data/tinyshakespeare/input.txt\" -P {'data/'}\n",
        "! wget \"https://s3.amazonaws.com/text-datasets/nietzsche.txt\" -P {'data/'}\n",
        "! wget \"http://www.gutenberg.org/files/31100/31100.txt\" -P {'data/'}\n",
        "! wget \"http://www.gutenberg.org/cache/epub/29765/pg29765.txt\" -P {'data/'}\n",
        "! wget \"https://raw.githubusercontent.com/ryanmcdermott/trump-speeches/master/speeches.txt\" -P {'data/'}\n",
        "! wget \"https://raw.githubusercontent.com/mcleonard/pytorch-charRNN/master/data/anna.txt\" -P {'data/'}\n",
        "! wget \"https://raw.githubusercontent.com/samim23/obama-rnn/master/input.txt\" -P {'data/obama/'}"
      ],
      "execution_count": 0,
      "outputs": [
        {
          "output_type": "stream",
          "text": [
            "--2019-03-05 06:08:03--  https://raw.githubusercontent.com/karpathy/char-rnn/master/data/tinyshakespeare/input.txt\n",
            "Resolving raw.githubusercontent.com (raw.githubusercontent.com)... 151.101.0.133, 151.101.64.133, 151.101.128.133, ...\n",
            "Connecting to raw.githubusercontent.com (raw.githubusercontent.com)|151.101.0.133|:443... connected.\n",
            "HTTP request sent, awaiting response... 200 OK\n",
            "Length: 1115394 (1.1M) [text/plain]\n",
            "Saving to: ‘data/input.txt’\n",
            "\n",
            "\rinput.txt             0%[                    ]       0  --.-KB/s               \rinput.txt           100%[===================>]   1.06M  --.-KB/s    in 0.06s   \n",
            "\n",
            "2019-03-05 06:08:03 (17.5 MB/s) - ‘data/input.txt’ saved [1115394/1115394]\n",
            "\n",
            "--2019-03-05 06:08:06--  https://s3.amazonaws.com/text-datasets/nietzsche.txt\n",
            "Resolving s3.amazonaws.com (s3.amazonaws.com)... 52.216.9.85\n",
            "Connecting to s3.amazonaws.com (s3.amazonaws.com)|52.216.9.85|:443... connected.\n",
            "HTTP request sent, awaiting response... 200 OK\n",
            "Length: 600901 (587K) [text/plain]\n",
            "Saving to: ‘data/nietzsche.txt’\n",
            "\n",
            "nietzsche.txt       100%[===================>] 586.82K  --.-KB/s    in 0.1s    \n",
            "\n",
            "2019-03-05 06:08:06 (4.01 MB/s) - ‘data/nietzsche.txt’ saved [600901/600901]\n",
            "\n",
            "--2019-03-05 06:08:08--  http://www.gutenberg.org/files/31100/31100.txt\n",
            "Resolving www.gutenberg.org (www.gutenberg.org)... 152.19.134.47, 2610:28:3090:3000:0:bad:cafe:47\n",
            "Connecting to www.gutenberg.org (www.gutenberg.org)|152.19.134.47|:80... connected.\n",
            "HTTP request sent, awaiting response... 200 OK\n",
            "Length: 4454075 (4.2M) [text/plain]\n",
            "Saving to: ‘data/31100.txt’\n",
            "\n",
            "31100.txt           100%[===================>]   4.25M  4.67MB/s    in 0.9s    \n",
            "\n",
            "2019-03-05 06:08:09 (4.67 MB/s) - ‘data/31100.txt’ saved [4454075/4454075]\n",
            "\n",
            "--2019-03-05 06:08:11--  http://www.gutenberg.org/cache/epub/29765/pg29765.txt\n",
            "Resolving www.gutenberg.org (www.gutenberg.org)... 152.19.134.47, 2610:28:3090:3000:0:bad:cafe:47\n",
            "Connecting to www.gutenberg.org (www.gutenberg.org)|152.19.134.47|:80... connected.\n",
            "HTTP request sent, awaiting response... 200 OK\n",
            "Length: 28956348 (28M) [text/plain]\n",
            "Saving to: ‘data/pg29765.txt’\n",
            "\n",
            "pg29765.txt         100%[===================>]  27.61M  30.9MB/s    in 0.9s    \n",
            "\n",
            "2019-03-05 06:08:12 (30.9 MB/s) - ‘data/pg29765.txt’ saved [28956348/28956348]\n",
            "\n",
            "--2019-03-05 06:08:13--  https://raw.githubusercontent.com/ryanmcdermott/trump-speeches/master/speeches.txt\n",
            "Resolving raw.githubusercontent.com (raw.githubusercontent.com)... 151.101.0.133, 151.101.64.133, 151.101.128.133, ...\n",
            "Connecting to raw.githubusercontent.com (raw.githubusercontent.com)|151.101.0.133|:443... connected.\n",
            "HTTP request sent, awaiting response... 200 OK\n",
            "Length: 924745 (903K) [text/plain]\n",
            "Saving to: ‘data/speeches.txt’\n",
            "\n",
            "speeches.txt        100%[===================>] 903.07K  --.-KB/s    in 0.06s   \n",
            "\n",
            "2019-03-05 06:08:14 (14.6 MB/s) - ‘data/speeches.txt’ saved [924745/924745]\n",
            "\n",
            "--2019-03-05 06:08:16--  https://raw.githubusercontent.com/mcleonard/pytorch-charRNN/master/data/anna.txt\n",
            "Resolving raw.githubusercontent.com (raw.githubusercontent.com)... 151.101.0.133, 151.101.64.133, 151.101.128.133, ...\n",
            "Connecting to raw.githubusercontent.com (raw.githubusercontent.com)|151.101.0.133|:443... connected.\n",
            "HTTP request sent, awaiting response... 200 OK\n",
            "Length: 2025486 (1.9M) [text/plain]\n",
            "Saving to: ‘data/anna.txt’\n",
            "\n",
            "anna.txt            100%[===================>]   1.93M  --.-KB/s    in 0.07s   \n",
            "\n",
            "2019-03-05 06:08:16 (26.9 MB/s) - ‘data/anna.txt’ saved [2025486/2025486]\n",
            "\n",
            "--2019-03-05 06:08:18--  https://raw.githubusercontent.com/samim23/obama-rnn/master/input.txt\n",
            "Resolving raw.githubusercontent.com (raw.githubusercontent.com)... 151.101.0.133, 151.101.64.133, 151.101.128.133, ...\n",
            "Connecting to raw.githubusercontent.com (raw.githubusercontent.com)|151.101.0.133|:443... connected.\n",
            "HTTP request sent, awaiting response... 200 OK\n",
            "Length: 4250014 (4.1M) [text/plain]\n",
            "Saving to: ‘data/obama/input.txt’\n",
            "\n",
            "input.txt           100%[===================>]   4.05M  --.-KB/s    in 0.08s   \n",
            "\n",
            "2019-03-05 06:08:18 (49.7 MB/s) - ‘data/obama/input.txt’ saved [4250014/4250014]\n",
            "\n"
          ],
          "name": "stdout"
        }
      ]
    },
    {
      "metadata": {
        "id": "AVq3IFekiRC2",
        "colab_type": "code",
        "colab": {}
      },
      "cell_type": "code",
      "source": [
        "from fastai.text import *\n",
        "from pathlib import Path"
      ],
      "execution_count": 0,
      "outputs": []
    },
    {
      "metadata": {
        "id": "_VWdTxzfTosn",
        "colab_type": "code",
        "colab": {}
      },
      "cell_type": "code",
      "source": [
        "path = Path(\"data\")"
      ],
      "execution_count": 0,
      "outputs": []
    },
    {
      "metadata": {
        "id": "_TGT9bTnThkd",
        "colab_type": "text"
      },
      "cell_type": "markdown",
      "source": [
        "## Shakespeare RNN"
      ]
    },
    {
      "metadata": {
        "id": "BR5X4hW1TiRJ",
        "colab_type": "code",
        "colab": {}
      },
      "cell_type": "code",
      "source": [
        "#batch size\n",
        "bs = 128\n",
        "\n",
        "# datablock for language model\n",
        "data_lm = TextLMDataBunch.from_folder(path, 'input.txt')"
      ],
      "execution_count": 0,
      "outputs": []
    },
    {
      "metadata": {
        "id": "LX2cgno9Tiog",
        "colab_type": "code",
        "outputId": "ee851262-e74a-4ffb-a29d-92ee162603ea",
        "colab": {
          "base_uri": "https://localhost:8080/",
          "height": 293
        }
      },
      "cell_type": "code",
      "source": [
        "data_lm.show_batch()"
      ],
      "execution_count": 0,
      "outputs": [
        {
          "output_type": "display_data",
          "data": {
            "text/html": [
              "<table border=\"1\" class=\"dataframe\">\n",
              "  <thead>\n",
              "    <tr style=\"text-align: right;\">\n",
              "      <th>idx</th>\n",
              "      <th>text</th>\n",
              "    </tr>\n",
              "  </thead>\n",
              "  <tbody>\n",
              "    <tr>\n",
              "      <td>0</td>\n",
              "      <td>caius xxmaj marcius is chief enemy to the people . \\n \\n  xxmaj all : \\n  xxmaj we know't , we know't . \\n \\n  xxmaj first xxmaj citizen : \\n  xxmaj let us kill him , and we 'll have corn at our own price . \\n  xxmaj is't a verdict ? \\n \\n  xxmaj all : \\n  xxmaj no more talking</td>\n",
              "    </tr>\n",
              "    <tr>\n",
              "      <td>1</td>\n",
              "      <td>xxup valeria : \\n  xxmaj not out of doors ! \\n \\n  xxup volumnia : \\n  xxmaj she shall , she shall . \\n \\n  xxup virgilia : \\n  xxmaj indeed , no , by your patience ; i 'll not over the \\n  threshold till my lord return from the wars . \\n \\n  xxup valeria : \\n  xxmaj fie ,</td>\n",
              "    </tr>\n",
              "    <tr>\n",
              "      <td>2</td>\n",
              "      <td>i may spur on my journey . \\n \\n  xxmaj first xxmaj soldier : \\n  i shall , sir . \\n \\n  xxup menenius : \\n  xxmaj the xxunk tells me we shall have news to - night . \\n \\n  xxup brutus : \\n  xxmaj good or bad ? \\n \\n  xxup menenius : \\n  xxmaj not according to the prayer</td>\n",
              "    </tr>\n",
              "    <tr>\n",
              "      <td>3</td>\n",
              "      <td>\\n \\n  xxup menenius : \\n  xxmaj he 's right noble : \\n  xxmaj let him be call'd for . \\n \\n  xxmaj first xxmaj senator : \\n  xxmaj call xxmaj coriolanus . \\n \\n  xxmaj officer : \\n  xxmaj he doth appear . \\n \\n  xxup menenius : \\n  xxmaj the senate , xxmaj coriolanus , are well pleased \\n</td>\n",
              "    </tr>\n",
              "    <tr>\n",
              "      <td>4</td>\n",
              "      <td>xxmaj which we disdain should xxunk us , yet sought \\n  xxmaj the very way to catch them . \\n \\n  xxup brutus : \\n  xxmaj you speak o ' the people , \\n  xxmaj as if you were a god to punish , not \\n  a man of their infirmity . \\n \\n  xxup sicinius : \\n  ' xxmaj twere well \\n</td>\n",
              "    </tr>\n",
              "  </tbody>\n",
              "</table>"
            ],
            "text/plain": [
              "<IPython.core.display.HTML object>"
            ]
          },
          "metadata": {
            "tags": []
          }
        }
      ]
    },
    {
      "metadata": {
        "id": "BdJOPgefTisU",
        "colab_type": "code",
        "colab": {}
      },
      "cell_type": "code",
      "source": [
        "# #Since above step can be a bit time-consuming, it's best to save the result.\n",
        "# #This will create a 'tmp' directory where all the computed stuff will be stored\n",
        "# data_lm.save('data_lm_export.pkl')"
      ],
      "execution_count": 0,
      "outputs": []
    },
    {
      "metadata": {
        "id": "wMb8Zji9V8CA",
        "colab_type": "code",
        "colab": {}
      },
      "cell_type": "code",
      "source": [
        "# # then reload those results using load_data\n",
        "# data_lm = load_data(path, fname='data_lm_export.pkl')"
      ],
      "execution_count": 0,
      "outputs": []
    },
    {
      "metadata": {
        "id": "41bhX1hhV55V",
        "colab_type": "text"
      },
      "cell_type": "markdown",
      "source": [
        "We're not going to train a model that classifies the reviews from scratch. Like in computer vision, we'll use a model pretrained on a bigger dataset (a cleaned subset of wikipedia called [wikitext-103](https://einstein.ai/research/blog/the-wikitext-long-term-dependency-language-modeling-dataset)). That model has been trained to guess what the next word, its input being all the previous words. It has a recurrent structure and a hidden state that is updated each time it sees a new word. This hidden state thus contains information about the sentence up to that point.\n",
        "\n",
        "We are going to use that 'knowledge' of the English language to build our classifier, but first, like for computer vision, we need to fine-tune the pretrained model to our particular dataset. Because the English of the reviews left by people on IMDB isn't the same as the English of wikipedia, we'll need to adjust the parameters of our model by a little bit. Plus there might be some words that would be extremely common in the reviews dataset but would be barely present in wikipedia, and therefore might not be part of the vocabulary the model was trained on."
      ]
    },
    {
      "metadata": {
        "id": "KATPxxSATivJ",
        "colab_type": "code",
        "colab": {}
      },
      "cell_type": "code",
      "source": [
        "learn = language_model_learner(data_lm, AWD_LSTM, drop_mult=0.3)"
      ],
      "execution_count": 0,
      "outputs": []
    },
    {
      "metadata": {
        "id": "-b9mpJEmTiyS",
        "colab_type": "code",
        "outputId": "fd594cf2-a8a0-40e3-cc3b-710595ba2707",
        "colab": {
          "base_uri": "https://localhost:8080/",
          "height": 379
        }
      },
      "cell_type": "code",
      "source": [
        "learn.lr_find()\n",
        "learn.recorder.plot(skip_end=15)"
      ],
      "execution_count": 0,
      "outputs": [
        {
          "output_type": "display_data",
          "data": {
            "text/html": [
              ""
            ],
            "text/plain": [
              "<IPython.core.display.HTML object>"
            ]
          },
          "metadata": {
            "tags": []
          }
        },
        {
          "output_type": "stream",
          "text": [
            "LR Finder is complete, type {learner_name}.recorder.plot() to see the graph.\n"
          ],
          "name": "stdout"
        },
        {
          "output_type": "display_data",
          "data": {
            "image/png": "[encoded data removed]",
            "text/plain": [
              "<Figure size 576x396 with 1 Axes>"
            ]
          },
          "metadata": {
            "tags": []
          }
        }
      ]
    },
    {
      "metadata": {
        "id": "8UWINWOpWBhv",
        "colab_type": "code",
        "outputId": "cc6b4398-1e1c-4590-f169-de1b99f3cc62",
        "colab": {
          "base_uri": "https://localhost:8080/",
          "height": 230
        }
      },
      "cell_type": "code",
      "source": [
        "learn.fit_one_cycle(5, 5e-2, moms=(0.8,0.7))"
      ],
      "execution_count": 0,
      "outputs": [
        {
          "output_type": "display_data",
          "data": {
            "text/html": [
              "Total time: 02:04 <p><table border=\"1\" class=\"dataframe\">\n",
              "  <thead>\n",
              "    <tr style=\"text-align: left;\">\n",
              "      <th>epoch</th>\n",
              "      <th>train_loss</th>\n",
              "      <th>valid_loss</th>\n",
              "      <th>accuracy</th>\n",
              "      <th>time</th>\n",
              "    </tr>\n",
              "  </thead>\n",
              "  <tbody>\n",
              "    <tr>\n",
              "      <td>1</td>\n",
              "      <td>4.232328</td>\n",
              "      <td></td>\n",
              "      <td>00:24</td>\n",
              "    </tr>\n",
              "    <tr>\n",
              "      <td>2</td>\n",
              "      <td>3.902829</td>\n",
              "      <td></td>\n",
              "      <td>00:24</td>\n",
              "    </tr>\n",
              "    <tr>\n",
              "      <td>3</td>\n",
              "      <td>3.607706</td>\n",
              "      <td></td>\n",
              "      <td>00:24</td>\n",
              "    </tr>\n",
              "    <tr>\n",
              "      <td>4</td>\n",
              "      <td>3.274112</td>\n",
              "      <td></td>\n",
              "      <td>00:24</td>\n",
              "    </tr>\n",
              "    <tr>\n",
              "      <td>5</td>\n",
              "      <td>2.989733</td>\n",
              "      <td></td>\n",
              "      <td>00:24</td>\n",
              "    </tr>\n",
              "  </tbody>\n",
              "</table>"
            ],
            "text/plain": [
              "<IPython.core.display.HTML object>"
            ]
          },
          "metadata": {
            "tags": []
          }
        }
      ]
    },
    {
      "metadata": {
        "id": "ZbhrbVoxWBnL",
        "colab_type": "code",
        "colab": {}
      },
      "cell_type": "code",
      "source": [
        "#unfreeze the model and fine-tune it\n",
        "\n",
        "learn.unfreeze()"
      ],
      "execution_count": 0,
      "outputs": []
    },
    {
      "metadata": {
        "id": "wzsu-EgmWBqU",
        "colab_type": "code",
        "outputId": "279d734a-604a-4824-c805-6ddad3c22be9",
        "colab": {
          "base_uri": "https://localhost:8080/",
          "height": 230
        }
      },
      "cell_type": "code",
      "source": [
        "learn.fit_one_cycle(5, 1e-3, moms=(0.8,0.7))"
      ],
      "execution_count": 0,
      "outputs": [
        {
          "output_type": "display_data",
          "data": {
            "text/html": [
              "Total time: 02:42 <p><table border=\"1\" class=\"dataframe\">\n",
              "  <thead>\n",
              "    <tr style=\"text-align: left;\">\n",
              "      <th>epoch</th>\n",
              "      <th>train_loss</th>\n",
              "      <th>valid_loss</th>\n",
              "      <th>accuracy</th>\n",
              "      <th>time</th>\n",
              "    </tr>\n",
              "  </thead>\n",
              "  <tbody>\n",
              "    <tr>\n",
              "      <td>1</td>\n",
              "      <td>2.829830</td>\n",
              "      <td></td>\n",
              "      <td>00:32</td>\n",
              "    </tr>\n",
              "    <tr>\n",
              "      <td>2</td>\n",
              "      <td>2.770846</td>\n",
              "      <td></td>\n",
              "      <td>00:32</td>\n",
              "    </tr>\n",
              "    <tr>\n",
              "      <td>3</td>\n",
              "      <td>2.620806</td>\n",
              "      <td></td>\n",
              "      <td>00:32</td>\n",
              "    </tr>\n",
              "    <tr>\n",
              "      <td>4</td>\n",
              "      <td>2.463194</td>\n",
              "      <td></td>\n",
              "      <td>00:32</td>\n",
              "    </tr>\n",
              "    <tr>\n",
              "      <td>5</td>\n",
              "      <td>2.368690</td>\n",
              "      <td></td>\n",
              "      <td>00:32</td>\n",
              "    </tr>\n",
              "  </tbody>\n",
              "</table>"
            ],
            "text/plain": [
              "<IPython.core.display.HTML object>"
            ]
          },
          "metadata": {
            "tags": []
          }
        }
      ]
    },
    {
      "metadata": {
        "id": "0gmGCky3WJxI",
        "colab_type": "code",
        "colab": {}
      },
      "cell_type": "code",
      "source": [
        "TEXT = \"To be or not to\"\n",
        "N_WORDS = 500\n",
        "N_SENTENCES = 2"
      ],
      "execution_count": 0,
      "outputs": []
    },
    {
      "metadata": {
        "id": "QX3l4saKWLn4",
        "colab_type": "code",
        "outputId": "bb872716-b95b-413f-8476-7f42f9ea1a91",
        "colab": {
          "base_uri": "https://localhost:8080/",
          "height": 1589
        }
      },
      "cell_type": "code",
      "source": [
        "print(learn.predict(TEXT, N_WORDS, temperature=0.75))"
      ],
      "execution_count": 0,
      "outputs": [
        {
          "output_type": "stream",
          "text": [
            "To be or not to be conclude . \n",
            " \n",
            "  First Citizen : \n",
            "  Proceed in justice and justice , and we will do \n",
            "  The proceed on the way . \n",
            " \n",
            "  Second Citizen : \n",
            "  Give me the rein . \n",
            " \n",
            "  First Citizen : \n",
            "  Against the all - seeing law , and Caius Marcius . \n",
            " \n",
            "  First Citizen : \n",
            "  We 'll tell you whether they may call us home ? \n",
            " \n",
            "  Second Citizen : \n",
            "  How curious ? what news will you ? \n",
            " \n",
            "  First Citizen : \n",
            "  What think you , sir ? \n",
            " \n",
            "  Second Citizen : \n",
            "  Ha ! why , wilt thou attend me ? \n",
            " \n",
            "  Third Citizen : \n",
            "  Ay , sir . \n",
            " \n",
            "  Second Citizen : \n",
            "  No , no ; for i tell you , the most noble fellow , \n",
            "  Against the needless fellow , and you \n",
            "  Against your good and true friends , \n",
            "  Against this fellow , you are all mad . \n",
            " \n",
            "  Third Citizen : \n",
            "  Sir , you must seem not to be so . \n",
            " \n",
            "  First Citizen : \n",
            "  How fares the patricians ? \n",
            " \n",
            "  Third Citizen : \n",
            "  Silence ! \n",
            " \n",
            "  Third Citizen : \n",
            "  Most fitly ! What is't o'clock ? \n",
            " \n",
            "  First Citizen : \n",
            "  Ay , but what you should say , to give you the greater part of your \n",
            "  trust , and to make him lose the end of this . \n",
            " \n",
            "  Second Citizen : \n",
            "  What then ? \n",
            " \n",
            "  Second Citizen : \n",
            "  a belly was deliberate and i \n",
            "  well said ; not a word ; but one word , a word ; \n",
            "  Some word ' mildly ' : all was well . \n",
            " \n",
            "  SICINIUS : \n",
            "  And we will not budge for nothing . \n",
            " \n",
            "  MENENIUS : \n",
            "  Yea , your good name , \n",
            "  It is not so , but as the belly 's answer . \n",
            " \n",
            "  MENENIUS : \n",
            "  Ay , but your belly is very good . \n",
            " \n",
            "  SICINIUS : \n",
            "  i know not ; good Marcius \n",
            "  And the very language it boots may get you . \n",
            " \n",
            "  SICINIUS : \n",
            "  Ay , sir . \n",
            " \n",
            "  MENENIUS : \n",
            "  He 's the rarest of all his men \n",
            "  To have his report . \n",
            " \n",
            "  MENENIUS : \n",
            "  The Coriolanus : \n",
            "  The more he did to your lordship . \n",
            " \n",
            "  CORIOLANUS : \n",
            "  Neither , good Marcius . \n",
            " \n",
            "  MENENIUS : \n",
            "  Well , in this noble fellow 's name , \n",
            "  He will appear in\n"
          ],
          "name": "stdout"
        }
      ]
    },
    {
      "metadata": {
        "id": "BcGMewC3aoOR",
        "colab_type": "code",
        "colab": {}
      },
      "cell_type": "code",
      "source": [
        ""
      ],
      "execution_count": 0,
      "outputs": []
    },
    {
      "metadata": {
        "colab_type": "text",
        "id": "Hn99biPubSYg"
      },
      "cell_type": "markdown",
      "source": [
        "## NietzscheRNN"
      ]
    },
    {
      "metadata": {
        "colab_type": "code",
        "id": "8CToz3HhbSYt",
        "colab": {}
      },
      "cell_type": "code",
      "source": [
        "#batch size\n",
        "bs = 128\n",
        "\n",
        "# datablock for language model\n",
        "data_lm = TextLMDataBunch.from_folder(path, 'nietzsche.txt')"
      ],
      "execution_count": 0,
      "outputs": []
    },
    {
      "metadata": {
        "colab_type": "code",
        "outputId": "a6ba956e-615e-4990-85fe-8be3246b9b6d",
        "id": "J86VGsyrbSY7",
        "colab": {
          "base_uri": "https://localhost:8080/",
          "height": 310
        }
      },
      "cell_type": "code",
      "source": [
        "data_lm.show_batch()"
      ],
      "execution_count": 0,
      "outputs": [
        {
          "output_type": "display_data",
          "data": {
            "text/html": [
              "<table border=\"1\" class=\"dataframe\">\n",
              "  <thead>\n",
              "    <tr style=\"text-align: right;\">\n",
              "      <th>idx</th>\n",
              "      <th>text</th>\n",
              "    </tr>\n",
              "  </thead>\n",
              "  <tbody>\n",
              "    <tr>\n",
              "      <td>0</td>\n",
              "      <td>methods for \\n  xxunk a woman ? xxmaj certainly she has never allowed herself to be won ; and \\n  at present every kind of dogma stands with sad and xxunk xxunk -- xxup if , \\n  indeed , it stands at all ! xxmaj for there are xxunk who maintain that it \\n  has fallen , that all dogma lies on the ground -- nay</td>\n",
              "    </tr>\n",
              "    <tr>\n",
              "      <td>1</td>\n",
              "      <td>\\n  be necessary for the maintenance of beings such as ourselves . xxmaj supposing , \\n  in effect , that man is not just the \" measure of things . \" \\n \\n  4 . xxmaj the falseness of an opinion is not for us any objection to it : it is \\n  here , perhaps , that our new language sounds most strangely . xxmaj</td>\n",
              "    </tr>\n",
              "    <tr>\n",
              "      <td>2</td>\n",
              "      <td>really have happened that such a xxmaj will to xxmaj truth -- a certain \\n  extravagant and adventurous pluck , a xxunk 's ambition of the \\n  xxunk hope -- has participated therein : that which in the end always \\n  prefers a xxunk of \" certainty \" to a whole xxunk of beautiful \\n  possibilities ; there may even be puritanical fanatics of conscience ,</td>\n",
              "    </tr>\n",
              "    <tr>\n",
              "      <td>3</td>\n",
              "      <td>xxmaj in short , here , as everywhere else , \\n  let us beware of xxup superfluous xxunk xxunk of which \\n  is the instinct of self - preservation ( we owe it to xxmaj spinoza 's \\n  xxunk ) . xxmaj it is thus , in effect , that method xxunk , which must \\n  be essentially economy of principles . \\n \\n  14</td>\n",
              "    </tr>\n",
              "    <tr>\n",
              "      <td>4</td>\n",
              "      <td>attention , the straight look which fixes itself \\n  exclusively on one thing , the unconditional judgment that \" this and \\n  nothing else is necessary now , \" the inward certainty that obedience \\n  will be rendered -- and whatever else pertains to the position of the \\n  commander . a man who xxup wills commands something within himself which \\n  renders obedience ,</td>\n",
              "    </tr>\n",
              "  </tbody>\n",
              "</table>"
            ],
            "text/plain": [
              "<IPython.core.display.HTML object>"
            ]
          },
          "metadata": {
            "tags": []
          }
        }
      ]
    },
    {
      "metadata": {
        "colab_type": "code",
        "id": "AxDJKeHPbSZM",
        "colab": {}
      },
      "cell_type": "code",
      "source": [
        "# #Since above step can be a bit time-consuming, it's best to save the result.\n",
        "# #This will create a 'tmp' directory where all the computed stuff will be stored\n",
        "# data_lm.save('data_lm_export.pkl')"
      ],
      "execution_count": 0,
      "outputs": []
    },
    {
      "metadata": {
        "colab_type": "code",
        "id": "AlqXejTgbSZU",
        "colab": {}
      },
      "cell_type": "code",
      "source": [
        "# # then reload those results using load_data\n",
        "# data_lm = load_data(path, fname='data_lm_export.pkl')"
      ],
      "execution_count": 0,
      "outputs": []
    },
    {
      "metadata": {
        "colab_type": "text",
        "id": "RdtmpjGubSZd"
      },
      "cell_type": "markdown",
      "source": [
        "We're not going to train a model that classifies the reviews from scratch. Like in computer vision, we'll use a model pretrained on a bigger dataset (a cleaned subset of wikipedia called [wikitext-103](https://einstein.ai/research/blog/the-wikitext-long-term-dependency-language-modeling-dataset)). That model has been trained to guess what the next word, its input being all the previous words. It has a recurrent structure and a hidden state that is updated each time it sees a new word. This hidden state thus contains information about the sentence up to that point.\n",
        "\n",
        "We are going to use that 'knowledge' of the English language to build our classifier, but first, like for computer vision, we need to fine-tune the pretrained model to our particular dataset. Because the English of the reviews left by people on IMDB isn't the same as the English of wikipedia, we'll need to adjust the parameters of our model by a little bit. Plus there might be some words that would be extremely common in the reviews dataset but would be barely present in wikipedia, and therefore might not be part of the vocabulary the model was trained on."
      ]
    },
    {
      "metadata": {
        "colab_type": "code",
        "id": "uaFzwKjwbSZg",
        "colab": {}
      },
      "cell_type": "code",
      "source": [
        "learn = language_model_learner(data_lm, AWD_LSTM, drop_mult=0.3)"
      ],
      "execution_count": 0,
      "outputs": []
    },
    {
      "metadata": {
        "colab_type": "code",
        "outputId": "865d3eab-8999-43b0-8d89-415d83c51893",
        "id": "45-wI0l5bSZm",
        "colab": {
          "base_uri": "https://localhost:8080/",
          "height": 379
        }
      },
      "cell_type": "code",
      "source": [
        "learn.lr_find()\n",
        "learn.recorder.plot(skip_end=15)"
      ],
      "execution_count": 0,
      "outputs": [
        {
          "output_type": "display_data",
          "data": {
            "text/html": [
              ""
            ],
            "text/plain": [
              "<IPython.core.display.HTML object>"
            ]
          },
          "metadata": {
            "tags": []
          }
        },
        {
          "output_type": "stream",
          "text": [
            "LR Finder is complete, type {learner_name}.recorder.plot() to see the graph.\n"
          ],
          "name": "stdout"
        },
        {
          "output_type": "display_data",
          "data": {
            "image/png": "[encoded data removed]",
            "text/plain": [
              "<Figure size 576x396 with 1 Axes>"
            ]
          },
          "metadata": {
            "tags": []
          }
        }
      ]
    },
    {
      "metadata": {
        "colab_type": "code",
        "outputId": "fdcbf388-dad1-40bc-9438-aeb12522c0b5",
        "id": "8WOCEEXwbSZ0",
        "colab": {
          "base_uri": "https://localhost:8080/",
          "height": 230
        }
      },
      "cell_type": "code",
      "source": [
        "learn.fit_one_cycle(5, 5e-2, moms=(0.8,0.7))"
      ],
      "execution_count": 0,
      "outputs": [
        {
          "output_type": "display_data",
          "data": {
            "text/html": [
              "Total time: 00:49 <p><table border=\"1\" class=\"dataframe\">\n",
              "  <thead>\n",
              "    <tr style=\"text-align: left;\">\n",
              "      <th>epoch</th>\n",
              "      <th>train_loss</th>\n",
              "      <th>valid_loss</th>\n",
              "      <th>accuracy</th>\n",
              "      <th>time</th>\n",
              "    </tr>\n",
              "  </thead>\n",
              "  <tbody>\n",
              "    <tr>\n",
              "      <td>1</td>\n",
              "      <td>4.915138</td>\n",
              "      <td></td>\n",
              "      <td>00:09</td>\n",
              "    </tr>\n",
              "    <tr>\n",
              "      <td>2</td>\n",
              "      <td>4.511742</td>\n",
              "      <td></td>\n",
              "      <td>00:09</td>\n",
              "    </tr>\n",
              "    <tr>\n",
              "      <td>3</td>\n",
              "      <td>4.121599</td>\n",
              "      <td></td>\n",
              "      <td>00:09</td>\n",
              "    </tr>\n",
              "    <tr>\n",
              "      <td>4</td>\n",
              "      <td>3.701526</td>\n",
              "      <td></td>\n",
              "      <td>00:09</td>\n",
              "    </tr>\n",
              "    <tr>\n",
              "      <td>5</td>\n",
              "      <td>3.327561</td>\n",
              "      <td></td>\n",
              "      <td>00:09</td>\n",
              "    </tr>\n",
              "  </tbody>\n",
              "</table>"
            ],
            "text/plain": [
              "<IPython.core.display.HTML object>"
            ]
          },
          "metadata": {
            "tags": []
          }
        }
      ]
    },
    {
      "metadata": {
        "colab_type": "code",
        "id": "vKaiTv3CbSaB",
        "colab": {}
      },
      "cell_type": "code",
      "source": [
        "#unfreeze the model and fine-tune it\n",
        "\n",
        "learn.unfreeze()"
      ],
      "execution_count": 0,
      "outputs": []
    },
    {
      "metadata": {
        "colab_type": "code",
        "outputId": "f8e737f1-f109-445b-dc0e-eac9369e47f0",
        "id": "7yrxvMpnbSaW",
        "colab": {
          "base_uri": "https://localhost:8080/",
          "height": 230
        }
      },
      "cell_type": "code",
      "source": [
        "learn.fit_one_cycle(5, 1e-3, moms=(0.8,0.7))"
      ],
      "execution_count": 0,
      "outputs": [
        {
          "output_type": "display_data",
          "data": {
            "text/html": [
              "Total time: 01:04 <p><table border=\"1\" class=\"dataframe\">\n",
              "  <thead>\n",
              "    <tr style=\"text-align: left;\">\n",
              "      <th>epoch</th>\n",
              "      <th>train_loss</th>\n",
              "      <th>valid_loss</th>\n",
              "      <th>accuracy</th>\n",
              "      <th>time</th>\n",
              "    </tr>\n",
              "  </thead>\n",
              "  <tbody>\n",
              "    <tr>\n",
              "      <td>1</td>\n",
              "      <td>2.832080</td>\n",
              "      <td></td>\n",
              "      <td>00:12</td>\n",
              "    </tr>\n",
              "    <tr>\n",
              "      <td>2</td>\n",
              "      <td>2.769061</td>\n",
              "      <td></td>\n",
              "      <td>00:12</td>\n",
              "    </tr>\n",
              "    <tr>\n",
              "      <td>3</td>\n",
              "      <td>2.624897</td>\n",
              "      <td></td>\n",
              "      <td>00:12</td>\n",
              "    </tr>\n",
              "    <tr>\n",
              "      <td>4</td>\n",
              "      <td>2.486055</td>\n",
              "      <td></td>\n",
              "      <td>00:12</td>\n",
              "    </tr>\n",
              "    <tr>\n",
              "      <td>5</td>\n",
              "      <td>2.357665</td>\n",
              "      <td></td>\n",
              "      <td>00:12</td>\n",
              "    </tr>\n",
              "  </tbody>\n",
              "</table>"
            ],
            "text/plain": [
              "<IPython.core.display.HTML object>"
            ]
          },
          "metadata": {
            "tags": []
          }
        }
      ]
    },
    {
      "metadata": {
        "colab_type": "code",
        "id": "B5LR8v6cbSal",
        "colab": {}
      },
      "cell_type": "code",
      "source": [
        "TEXT = \"Every great philosophy\"\n",
        "N_WORDS = 500\n",
        "N_SENTENCES = 2"
      ],
      "execution_count": 0,
      "outputs": []
    },
    {
      "metadata": {
        "colab_type": "code",
        "id": "YE_jcbS7bSat",
        "outputId": "f2098e16-3327-4510-b25f-8b140a909613",
        "colab": {
          "base_uri": "https://localhost:8080/",
          "height": 716
        }
      },
      "cell_type": "code",
      "source": [
        "print(learn.predict(TEXT, N_WORDS, temperature=0.75))"
      ],
      "execution_count": 0,
      "outputs": [
        {
          "output_type": "stream",
          "text": [
            "Every great philosophy in Germany has its own \n",
            "  philosophy : German philosophy , philosophy , philosophy , philosophy , philosophy , philosophy , philosophy , philosophy , philosophy , philosophy , philosophy , philosophy , philosophy , philosophy , philosophy , philosophy , art , art , and disguise appear \n",
            "  AS POSSIBLE . There is a noble \n",
            "  mode of life which is indispensable to the development of the civilization , which is \n",
            "  for instance the working out of the higher , more refined taste of the \n",
            "  soul , which is usually regarded as the \n",
            "  supreme disguise ; there is a sort of girl , or \n",
            "  girl , for whose taste it was tedious . The taste , which has its roots in \n",
            "  the slave - morality , is a kind of \n",
            "  everyday form of everything that lives and multiplies . It is \n",
            "  possible for a philosopher to determine what the \n",
            "  direction he may be taking in either a man or woman , as the \" non - freedom of the will , \" a former philosophy which has a \n",
            "  philosophy NOT as its true path . In the latter , there is \n",
            "  nothing for the \" good \" and \" bad \"-- everything that is necessary is not \n",
            "  universally held fast , and is \n",
            "  fundamentally ludicrous to that which makes us strong enough to \n",
            "  do so -- the subtler after - effect of such a thing is the effect \n",
            "  produced by the consequences , the \n",
            "  effect itself is also the desire for the fundamental \n",
            "  constitution of life , the higher and more of the emotions it may be . \n",
            " \n",
            "  From the first \n",
            "  time when all philosophers were masters of masters and masters of \n",
            "  artistic masters , whether by \n",
            "  artistic codes and manners , they were masters of masters and slaves , and they \n",
            "  were incapable - yet - \n",
            "  reader and taking themselves out of the master class ; \n",
            "  and , FROM the masters of masters , to find a reader without general \n",
            "  artistic functions at most once a reader , and often taking it once \n",
            "  more differently than he knew , at the same time \n",
            "  taking the word out of the reader ; and draw \n",
            "  your attention upon the subject ; the reader must probably take it seriously and secretly ; the reader must determine whether the reader must take his words for the sake of his INTERPRETATION . On the \n",
            "  other hand , books , literature , books are books written by books , and \n",
            "  books written have books written in German . Each reader reads the most \n",
            "  into the deepest \n",
            "  sentence of every sentence , and thus , \n",
            "  the sentence is readily \n",
            "  understood , without one 's ear , without\n"
          ],
          "name": "stdout"
        }
      ]
    },
    {
      "metadata": {
        "colab_type": "code",
        "id": "66Upq5LYbSa1",
        "colab": {}
      },
      "cell_type": "code",
      "source": [
        ""
      ],
      "execution_count": 0,
      "outputs": []
    },
    {
      "metadata": {
        "colab_type": "text",
        "id": "jQI2PdENcRnw"
      },
      "cell_type": "markdown",
      "source": [
        "## ObamaRNN"
      ]
    },
    {
      "metadata": {
        "colab_type": "code",
        "id": "v9OKhbyLcRn9",
        "colab": {}
      },
      "cell_type": "code",
      "source": [
        "#batch size\n",
        "bs = 128\n",
        "\n",
        "# datablock for language model\n",
        "data_lm = TextLMDataBunch.from_folder(path/'obama/', 'input.txt')"
      ],
      "execution_count": 0,
      "outputs": []
    },
    {
      "metadata": {
        "colab_type": "code",
        "id": "TXsZNLyucRoJ",
        "outputId": "39ac2873-f75e-4ed7-810c-71099d2c992f",
        "colab": {
          "base_uri": "https://localhost:8080/",
          "height": 293
        }
      },
      "cell_type": "code",
      "source": [
        "data_lm.show_batch()"
      ],
      "execution_count": 0,
      "outputs": [
        {
          "output_type": "display_data",
          "data": {
            "text/html": [
              "<table border=\"1\" class=\"dataframe\">\n",
              "  <thead>\n",
              "    <tr style=\"text-align: right;\">\n",
              "      <th>idx</th>\n",
              "      <th>text</th>\n",
              "    </tr>\n",
              "  </thead>\n",
              "  <tbody>\n",
              "    <tr>\n",
              "      <td>0</td>\n",
              "      <td>to the life and times of the man who xxunk our time . \\n \\n  i did not know xxmaj mr. xxmaj cronkite personally . xxmaj and my regret is made more acute by the stories that have been shared here today . xxmaj nor , for that matter , did i know him any better than the tens of millions who turned to him each night in search</td>\n",
              "    </tr>\n",
              "    <tr>\n",
              "      <td>1</td>\n",
              "      <td>you can guess what xxmaj dr. xxmaj benjamin did . xxmaj with help from her community , she is rebuilding it again . xxmaj one disabled patient brought her an envelope with $ 20 inside . xxmaj another elderly man said simply , \" xxmaj maybe i can help . i got a hammer . \" \\n \\n  xxmaj for nearly two decades , xxmaj dr. xxmaj regina xxmaj</td>\n",
              "    </tr>\n",
              "    <tr>\n",
              "      <td>2</td>\n",
              "      <td>\\n \\n  xxmaj now , for those of you who took out your xxunk and paper -- altogether , these savings mean that we 've put about $ 950 billion on the table -- and that does n't count some of the long - term savings that we think will come about from reform -- from medical xxup it , for example , or increased investment in prevention .</td>\n",
              "    </tr>\n",
              "    <tr>\n",
              "      <td>3</td>\n",
              "      <td>are able to secure our networks as well as our prosperity . \\n \\n  xxmaj our review was open and transparent . i want to acknowledge , xxmaj xxunk xxmaj xxunk -- who is here -- who is the xxmaj acting xxmaj senior xxmaj director for xxmaj cyberspace on our xxmaj national xxmaj security xxmaj council , who led the review team , as well as the xxmaj center</td>\n",
              "    </tr>\n",
              "    <tr>\n",
              "      <td>4</td>\n",
              "      <td>got to sort of -- i tear up a little bit when i think back to that day that i called xxmaj xxunk so many years ago and said , you and i can do wonderful things together . xxmaj and he said to me the same thing that partners all across xxmaj america are saying to one another right now : xxmaj let 's go to xxmaj iowa and</td>\n",
              "    </tr>\n",
              "  </tbody>\n",
              "</table>"
            ],
            "text/plain": [
              "<IPython.core.display.HTML object>"
            ]
          },
          "metadata": {
            "tags": []
          }
        }
      ]
    },
    {
      "metadata": {
        "colab_type": "code",
        "id": "gPD9DqSdcRoV",
        "colab": {}
      },
      "cell_type": "code",
      "source": [
        "# #Since above step can be a bit time-consuming, it's best to save the result.\n",
        "# #This will create a 'tmp' directory where all the computed stuff will be stored\n",
        "# data_lm.save('data_lm_export.pkl')"
      ],
      "execution_count": 0,
      "outputs": []
    },
    {
      "metadata": {
        "colab_type": "code",
        "id": "TcziLfGWcRoe",
        "colab": {}
      },
      "cell_type": "code",
      "source": [
        "# # then reload those results using load_data\n",
        "# data_lm = load_data(path, fname='data_lm_export.pkl')"
      ],
      "execution_count": 0,
      "outputs": []
    },
    {
      "metadata": {
        "colab_type": "text",
        "id": "dtGUv88tcRoo"
      },
      "cell_type": "markdown",
      "source": [
        "We're not going to train a model that classifies the reviews from scratch. Like in computer vision, we'll use a model pretrained on a bigger dataset (a cleaned subset of wikipedia called [wikitext-103](https://einstein.ai/research/blog/the-wikitext-long-term-dependency-language-modeling-dataset)). That model has been trained to guess what the next word, its input being all the previous words. It has a recurrent structure and a hidden state that is updated each time it sees a new word. This hidden state thus contains information about the sentence up to that point.\n",
        "\n",
        "We are going to use that 'knowledge' of the English language to build our classifier, but first, like for computer vision, we need to fine-tune the pretrained model to our particular dataset. Because the English of the reviews left by people on IMDB isn't the same as the English of wikipedia, we'll need to adjust the parameters of our model by a little bit. Plus there might be some words that would be extremely common in the reviews dataset but would be barely present in wikipedia, and therefore might not be part of the vocabulary the model was trained on."
      ]
    },
    {
      "metadata": {
        "colab_type": "code",
        "id": "15bNWMsUcRor",
        "colab": {}
      },
      "cell_type": "code",
      "source": [
        "learn = language_model_learner(data_lm, AWD_LSTM, drop_mult=0.3)"
      ],
      "execution_count": 0,
      "outputs": []
    },
    {
      "metadata": {
        "colab_type": "code",
        "id": "o2WfRjeGcRox",
        "outputId": "31beaba1-87c4-402a-9f55-ae081f4356d5",
        "colab": {
          "base_uri": "https://localhost:8080/",
          "height": 379
        }
      },
      "cell_type": "code",
      "source": [
        "learn.lr_find()\n",
        "learn.recorder.plot(skip_end=15)"
      ],
      "execution_count": 0,
      "outputs": [
        {
          "output_type": "display_data",
          "data": {
            "text/html": [
              ""
            ],
            "text/plain": [
              "<IPython.core.display.HTML object>"
            ]
          },
          "metadata": {
            "tags": []
          }
        },
        {
          "output_type": "stream",
          "text": [
            "LR Finder is complete, type {learner_name}.recorder.plot() to see the graph.\n"
          ],
          "name": "stdout"
        },
        {
          "output_type": "display_data",
          "data": {
            "image/png": "[encoded data removed]",
            "text/plain": [
              "<Figure size 576x396 with 1 Axes>"
            ]
          },
          "metadata": {
            "tags": []
          }
        }
      ]
    },
    {
      "metadata": {
        "colab_type": "code",
        "id": "gp-gRD4RcRo3",
        "outputId": "465cea2a-e007-41cf-d9ed-d8769cc5b047",
        "colab": {
          "base_uri": "https://localhost:8080/",
          "height": 230
        }
      },
      "cell_type": "code",
      "source": [
        "learn.fit_one_cycle(5, 5e-2, moms=(0.8,0.7))"
      ],
      "execution_count": 0,
      "outputs": [
        {
          "output_type": "display_data",
          "data": {
            "text/html": [
              "Total time: 06:37 <p><table border=\"1\" class=\"dataframe\">\n",
              "  <thead>\n",
              "    <tr style=\"text-align: left;\">\n",
              "      <th>epoch</th>\n",
              "      <th>train_loss</th>\n",
              "      <th>valid_loss</th>\n",
              "      <th>accuracy</th>\n",
              "      <th>time</th>\n",
              "    </tr>\n",
              "  </thead>\n",
              "  <tbody>\n",
              "    <tr>\n",
              "      <td>1</td>\n",
              "      <td>3.770511</td>\n",
              "      <td></td>\n",
              "      <td>01:19</td>\n",
              "    </tr>\n",
              "    <tr>\n",
              "      <td>2</td>\n",
              "      <td>3.840999</td>\n",
              "      <td></td>\n",
              "      <td>01:19</td>\n",
              "    </tr>\n",
              "    <tr>\n",
              "      <td>3</td>\n",
              "      <td>3.600478</td>\n",
              "      <td></td>\n",
              "      <td>01:19</td>\n",
              "    </tr>\n",
              "    <tr>\n",
              "      <td>4</td>\n",
              "      <td>3.231810</td>\n",
              "      <td></td>\n",
              "      <td>01:19</td>\n",
              "    </tr>\n",
              "    <tr>\n",
              "      <td>5</td>\n",
              "      <td>2.943737</td>\n",
              "      <td></td>\n",
              "      <td>01:19</td>\n",
              "    </tr>\n",
              "  </tbody>\n",
              "</table>"
            ],
            "text/plain": [
              "<IPython.core.display.HTML object>"
            ]
          },
          "metadata": {
            "tags": []
          }
        }
      ]
    },
    {
      "metadata": {
        "colab_type": "code",
        "id": "8xGomsBKcRpA",
        "colab": {}
      },
      "cell_type": "code",
      "source": [
        "#unfreeze the model and fine-tune it\n",
        "\n",
        "learn.unfreeze()"
      ],
      "execution_count": 0,
      "outputs": []
    },
    {
      "metadata": {
        "colab_type": "code",
        "id": "AqOwJ8qAcRpI",
        "outputId": "45e75565-def2-4e11-84bd-4450b1569945",
        "colab": {
          "base_uri": "https://localhost:8080/",
          "height": 230
        }
      },
      "cell_type": "code",
      "source": [
        "learn.fit_one_cycle(5, 1e-3, moms=(0.8,0.7))"
      ],
      "execution_count": 0,
      "outputs": [
        {
          "output_type": "display_data",
          "data": {
            "text/html": [
              "Total time: 08:22 <p><table border=\"1\" class=\"dataframe\">\n",
              "  <thead>\n",
              "    <tr style=\"text-align: left;\">\n",
              "      <th>epoch</th>\n",
              "      <th>train_loss</th>\n",
              "      <th>valid_loss</th>\n",
              "      <th>accuracy</th>\n",
              "      <th>time</th>\n",
              "    </tr>\n",
              "  </thead>\n",
              "  <tbody>\n",
              "    <tr>\n",
              "      <td>1</td>\n",
              "      <td>2.894430</td>\n",
              "      <td></td>\n",
              "      <td>01:40</td>\n",
              "    </tr>\n",
              "    <tr>\n",
              "      <td>2</td>\n",
              "      <td>2.797411</td>\n",
              "      <td></td>\n",
              "      <td>01:40</td>\n",
              "    </tr>\n",
              "    <tr>\n",
              "      <td>3</td>\n",
              "      <td>2.629399</td>\n",
              "      <td></td>\n",
              "      <td>01:40</td>\n",
              "    </tr>\n",
              "    <tr>\n",
              "      <td>4</td>\n",
              "      <td>2.492286</td>\n",
              "      <td></td>\n",
              "      <td>01:40</td>\n",
              "    </tr>\n",
              "    <tr>\n",
              "      <td>5</td>\n",
              "      <td>2.423858</td>\n",
              "      <td></td>\n",
              "      <td>01:40</td>\n",
              "    </tr>\n",
              "  </tbody>\n",
              "</table>"
            ],
            "text/plain": [
              "<IPython.core.display.HTML object>"
            ]
          },
          "metadata": {
            "tags": []
          }
        }
      ]
    },
    {
      "metadata": {
        "colab_type": "code",
        "id": "9bI-lWnHcRpU",
        "colab": {}
      },
      "cell_type": "code",
      "source": [
        "TEXT = \"And the question I\"\n",
        "N_WORDS = 500\n",
        "N_SENTENCES = 2"
      ],
      "execution_count": 0,
      "outputs": []
    },
    {
      "metadata": {
        "colab_type": "code",
        "id": "vD-P5IctcRpg",
        "outputId": "d11b7985-d63c-4a9b-9df4-9d71d0230370",
        "colab": {
          "base_uri": "https://localhost:8080/",
          "height": 234
        }
      },
      "cell_type": "code",
      "source": [
        "print(learn.predict(TEXT, N_WORDS, temperature=0.75))"
      ],
      "execution_count": 0,
      "outputs": [
        {
          "output_type": "stream",
          "text": [
            "And the question I ask you to decide is to give you hope . \n",
            " \n",
            "  Now , amid the work of the United States of America -- between the United States and Australia -- i will never hesitate to use force or use military force to prevent attacks in America . But i have to let that happen again . Our military personnel and our troops have stopped our mission and a legitimate President ’s focus is on our efforts to put our military together . \n",
            " \n",
            "  And that 's why we need to use a military force , which is why i am increasing our troop presence in Vietnam for the first time since the Vietnam War . In other words , the situation in Vietnam has been fluid . The United States and Israel have been stronger than ever as we have served America ’s long - term security . \n",
            " \n",
            "  The United States and the United States continue to support our military efforts against military and diplomatic efforts . In America , we ’re partnering with NATO allies to strengthen our diplomatic relations , and we 're partnering with American diplomats to increase funding for American national security . And we ’re encouraging regional support when Congress needs to demonstrate that the U.S. military is more efficient than our war effort . And that is why i have made it clear that America is not going to be dealing with foreign policy overnight . \n",
            " \n",
            "  So in eight years , Americans will continue to be a part of our American family . Over the last several years , we ’ve made a historic commitment to America ’s leadership in the 21st century . In this era of an era where the status quo does n’t work , we ’ve begun a transition to a new America , and we continue to work with the American people to tackle the barriers that we 've been through so long as we pursue our shared goal : to revive our economy , to restore prosperity , to combat terrorism , to create jobs , to build new alliances , to increase build and restore future generations ; and to build a new foundation for lasting prosperity . \n",
            " \n",
            "  The last major economic crisis since the Great Depression found that the cost of energy , health care , and health care costs on both parties remains rising . That ’s why , over the weekend , i 'm proposing , on behalf of the American people -- what you 've been telling people what you are doing , how deeply we ’ll be able to make more than a million homes and how much money\n"
          ],
          "name": "stdout"
        }
      ]
    },
    {
      "metadata": {
        "colab_type": "code",
        "id": "Af04sIqYcRpq",
        "colab": {}
      },
      "cell_type": "code",
      "source": [
        ""
      ],
      "execution_count": 0,
      "outputs": []
    },
    {
      "metadata": {
        "colab_type": "text",
        "id": "C28btcSRcjCu"
      },
      "cell_type": "markdown",
      "source": [
        "## TrumpRNN"
      ]
    },
    {
      "metadata": {
        "colab_type": "code",
        "id": "65JyICN0cjC0",
        "colab": {}
      },
      "cell_type": "code",
      "source": [
        "#batch size\n",
        "bs = 128\n",
        "\n",
        "# datablock for language model\n",
        "data_lm = TextLMDataBunch.from_folder(path, 'speeches.txt')"
      ],
      "execution_count": 0,
      "outputs": []
    },
    {
      "metadata": {
        "colab_type": "code",
        "id": "rtEH13y9cjC9",
        "outputId": "6b2bf585-2086-48a0-909e-db671e68d1e7",
        "colab": {
          "base_uri": "https://localhost:8080/",
          "height": 328
        }
      },
      "cell_type": "code",
      "source": [
        "data_lm.show_batch()"
      ],
      "execution_count": 0,
      "outputs": [
        {
          "output_type": "display_data",
          "data": {
            "text/html": [
              "<table border=\"1\" class=\"dataframe\">\n",
              "  <thead>\n",
              "    <tr style=\"text-align: right;\">\n",
              "      <th>idx</th>\n",
              "      <th>text</th>\n",
              "    </tr>\n",
              "  </thead>\n",
              "  <tbody>\n",
              "    <tr>\n",
              "      <td>0</td>\n",
              "      <td>xxmaj steve xxmaj king and have great respect likewise for xxmaj citizens xxmaj united , xxmaj david and everybody , and tremendous xxunk for the xxmaj tea xxmaj party . xxmaj also , also the people of xxmaj iowa . xxmaj they have something in common . xxmaj hard - working people . xxmaj they want to work , they want to make the country great . i love the</td>\n",
              "    </tr>\n",
              "    <tr>\n",
              "      <td>1</td>\n",
              "      <td>these are minor details . xxmaj we have some good people . \\n  xxmaj it ' ca n't be xxmaj mitt because xxmaj mitt ran and failed . xxmaj he failed . i mean i liked him . xxmaj look -- like him , dislike him -- the xxunk % statement that he made , that 's not going away . xxmaj the xxmaj xxunk from xxmaj massachusetts ,</td>\n",
              "    </tr>\n",
              "    <tr>\n",
              "      <td>2</td>\n",
              "      <td>after xxmaj secretary xxmaj clinton ’s failed xxunk in xxmaj libya , xxmaj islamic terrorists in xxmaj benghazi took down our xxunk and killed our ambassador and three brave xxmaj americans . xxmaj then , instead of taking charge that night , xxmaj hillary xxmaj clinton decided to go home and sleep . xxmaj incredible . \\n \\n \\n  xxmaj clinton xxunk it all on a xxunk , an</td>\n",
              "    </tr>\n",
              "    <tr>\n",
              "      <td>3</td>\n",
              "      <td>if we do that — and if we do that , perhaps this xxunk can be the most peaceful and prosperous the world has ever , ever known . xxmaj thank you very much , everybody . i appreciate it . xxmaj thank you . \\n \\n \\n  xxup speech 3 \\n \\n \\n  a hand with little xxunk coming out of a xxunk . xxmaj like ,</td>\n",
              "    </tr>\n",
              "    <tr>\n",
              "      <td>4</td>\n",
              "      <td>lie : xxmaj obamacare . xxmaj obamacare . \\n \\n \\n  xxmaj yesterday , it came out that costs are going for people up 29 , 39 , 49 , and even 55 percent , and deductibles are through the roof . xxmaj you have to be hit by a tractor , literally , a tractor , to use it , because the deductibles are so high , it</td>\n",
              "    </tr>\n",
              "  </tbody>\n",
              "</table>"
            ],
            "text/plain": [
              "<IPython.core.display.HTML object>"
            ]
          },
          "metadata": {
            "tags": []
          }
        }
      ]
    },
    {
      "metadata": {
        "colab_type": "code",
        "id": "eq-OkYDZcjDK",
        "colab": {}
      },
      "cell_type": "code",
      "source": [
        "# #Since above step can be a bit time-consuming, it's best to save the result.\n",
        "# #This will create a 'tmp' directory where all the computed stuff will be stored\n",
        "# data_lm.save('data_lm_export.pkl')"
      ],
      "execution_count": 0,
      "outputs": []
    },
    {
      "metadata": {
        "colab_type": "code",
        "id": "_Dfr0D0pcjDU",
        "colab": {}
      },
      "cell_type": "code",
      "source": [
        "# # then reload those results using load_data\n",
        "# data_lm = load_data(path, fname='data_lm_export.pkl')"
      ],
      "execution_count": 0,
      "outputs": []
    },
    {
      "metadata": {
        "colab_type": "text",
        "id": "LkOrjjoQcjDe"
      },
      "cell_type": "markdown",
      "source": [
        "We're not going to train a model that classifies the reviews from scratch. Like in computer vision, we'll use a model pretrained on a bigger dataset (a cleaned subset of wikipedia called [wikitext-103](https://einstein.ai/research/blog/the-wikitext-long-term-dependency-language-modeling-dataset)). That model has been trained to guess what the next word, its input being all the previous words. It has a recurrent structure and a hidden state that is updated each time it sees a new word. This hidden state thus contains information about the sentence up to that point.\n",
        "\n",
        "We are going to use that 'knowledge' of the English language to build our classifier, but first, like for computer vision, we need to fine-tune the pretrained model to our particular dataset. Because the English of the reviews left by people on IMDB isn't the same as the English of wikipedia, we'll need to adjust the parameters of our model by a little bit. Plus there might be some words that would be extremely common in the reviews dataset but would be barely present in wikipedia, and therefore might not be part of the vocabulary the model was trained on."
      ]
    },
    {
      "metadata": {
        "colab_type": "code",
        "id": "Q_F4s7BLcjDg",
        "colab": {}
      },
      "cell_type": "code",
      "source": [
        "learn = language_model_learner(data_lm, AWD_LSTM, drop_mult=0.3)"
      ],
      "execution_count": 0,
      "outputs": []
    },
    {
      "metadata": {
        "colab_type": "code",
        "id": "Qx4mjvO7cjDq",
        "outputId": "274a993d-b690-4142-bea0-6441e8a133cd",
        "colab": {
          "base_uri": "https://localhost:8080/",
          "height": 379
        }
      },
      "cell_type": "code",
      "source": [
        "learn.lr_find()\n",
        "learn.recorder.plot(skip_end=15)"
      ],
      "execution_count": 0,
      "outputs": [
        {
          "output_type": "display_data",
          "data": {
            "text/html": [
              ""
            ],
            "text/plain": [
              "<IPython.core.display.HTML object>"
            ]
          },
          "metadata": {
            "tags": []
          }
        },
        {
          "output_type": "stream",
          "text": [
            "LR Finder is complete, type {learner_name}.recorder.plot() to see the graph.\n"
          ],
          "name": "stdout"
        },
        {
          "output_type": "display_data",
          "data": {
            "image/png": "[encoded data removed]",
            "text/plain": [
              "<Figure size 576x396 with 1 Axes>"
            ]
          },
          "metadata": {
            "tags": []
          }
        }
      ]
    },
    {
      "metadata": {
        "colab_type": "code",
        "id": "VH-3kKRCcjD0",
        "outputId": "bf1effff-4685-46b9-c690-4d4fa8fee79b",
        "colab": {
          "base_uri": "https://localhost:8080/",
          "height": 230
        }
      },
      "cell_type": "code",
      "source": [
        "learn.fit_one_cycle(5, 5e-2, moms=(0.8,0.7))"
      ],
      "execution_count": 0,
      "outputs": [
        {
          "output_type": "display_data",
          "data": {
            "text/html": [
              "Total time: 01:26 <p><table border=\"1\" class=\"dataframe\">\n",
              "  <thead>\n",
              "    <tr style=\"text-align: left;\">\n",
              "      <th>epoch</th>\n",
              "      <th>train_loss</th>\n",
              "      <th>valid_loss</th>\n",
              "      <th>accuracy</th>\n",
              "      <th>time</th>\n",
              "    </tr>\n",
              "  </thead>\n",
              "  <tbody>\n",
              "    <tr>\n",
              "      <td>1</td>\n",
              "      <td>3.668372</td>\n",
              "      <td></td>\n",
              "      <td>00:17</td>\n",
              "    </tr>\n",
              "    <tr>\n",
              "      <td>2</td>\n",
              "      <td>3.271887</td>\n",
              "      <td></td>\n",
              "      <td>00:17</td>\n",
              "    </tr>\n",
              "    <tr>\n",
              "      <td>3</td>\n",
              "      <td>2.983517</td>\n",
              "      <td></td>\n",
              "      <td>00:17</td>\n",
              "    </tr>\n",
              "    <tr>\n",
              "      <td>4</td>\n",
              "      <td>2.700145</td>\n",
              "      <td></td>\n",
              "      <td>00:17</td>\n",
              "    </tr>\n",
              "    <tr>\n",
              "      <td>5</td>\n",
              "      <td>2.456251</td>\n",
              "      <td></td>\n",
              "      <td>00:17</td>\n",
              "    </tr>\n",
              "  </tbody>\n",
              "</table>"
            ],
            "text/plain": [
              "<IPython.core.display.HTML object>"
            ]
          },
          "metadata": {
            "tags": []
          }
        }
      ]
    },
    {
      "metadata": {
        "colab_type": "code",
        "id": "5CV_hfUMcjD_",
        "colab": {}
      },
      "cell_type": "code",
      "source": [
        "#unfreeze the model and fine-tune it\n",
        "\n",
        "learn.unfreeze()"
      ],
      "execution_count": 0,
      "outputs": []
    },
    {
      "metadata": {
        "colab_type": "code",
        "id": "gQgSlDj5cjEN",
        "outputId": "b1dd3839-f92f-4836-fb94-05b27b099301",
        "colab": {
          "base_uri": "https://localhost:8080/",
          "height": 230
        }
      },
      "cell_type": "code",
      "source": [
        "learn.fit_one_cycle(5, 1e-3, moms=(0.8,0.7))"
      ],
      "execution_count": 0,
      "outputs": [
        {
          "output_type": "display_data",
          "data": {
            "text/html": [
              "Total time: 01:54 <p><table border=\"1\" class=\"dataframe\">\n",
              "  <thead>\n",
              "    <tr style=\"text-align: left;\">\n",
              "      <th>epoch</th>\n",
              "      <th>train_loss</th>\n",
              "      <th>valid_loss</th>\n",
              "      <th>accuracy</th>\n",
              "      <th>time</th>\n",
              "    </tr>\n",
              "  </thead>\n",
              "  <tbody>\n",
              "    <tr>\n",
              "      <td>1</td>\n",
              "      <td>2.285516</td>\n",
              "      <td></td>\n",
              "      <td>00:22</td>\n",
              "    </tr>\n",
              "    <tr>\n",
              "      <td>2</td>\n",
              "      <td>2.244442</td>\n",
              "      <td></td>\n",
              "      <td>00:22</td>\n",
              "    </tr>\n",
              "    <tr>\n",
              "      <td>3</td>\n",
              "      <td>2.135230</td>\n",
              "      <td></td>\n",
              "      <td>00:22</td>\n",
              "    </tr>\n",
              "    <tr>\n",
              "      <td>4</td>\n",
              "      <td>2.002417</td>\n",
              "      <td></td>\n",
              "      <td>00:22</td>\n",
              "    </tr>\n",
              "    <tr>\n",
              "      <td>5</td>\n",
              "      <td>1.910864</td>\n",
              "      <td></td>\n",
              "      <td>00:22</td>\n",
              "    </tr>\n",
              "  </tbody>\n",
              "</table>"
            ],
            "text/plain": [
              "<IPython.core.display.HTML object>"
            ]
          },
          "metadata": {
            "tags": []
          }
        }
      ]
    },
    {
      "metadata": {
        "colab_type": "code",
        "id": "OLyfd_87cjEW",
        "colab": {}
      },
      "cell_type": "code",
      "source": [
        "TEXT = \"Fake news\"\n",
        "N_WORDS = 500\n",
        "N_SENTENCES = 2"
      ],
      "execution_count": 0,
      "outputs": []
    },
    {
      "metadata": {
        "colab_type": "code",
        "id": "xwesOcSVcjEd",
        "outputId": "4d6523b9-0796-4c1f-aa0e-21d49533fd99",
        "colab": {
          "base_uri": "https://localhost:8080/",
          "height": 55
        }
      },
      "cell_type": "code",
      "source": [
        "print(learn.predict(TEXT, N_WORDS, temperature=0.75))"
      ],
      "execution_count": 0,
      "outputs": [
        {
          "output_type": "stream",
          "text": [
            "Fake news conference ( WE ARE a FREE TRADE DEAL that WE LOVE IT , AND WE DON'T WIN . WE HAVE a VERY SMART MAN FOR THE COUNTRY THAT WE NEED AND WE NEED TO MAKE AMERICA SO GREAT AGAIN . HE WAS GOING TO BE a FREE AND OPEN TRADE DEALS . WE HAVE a CANDIDATE THAT WE HAVE TO BE STRONG TO MY FAMILY AND HERE IS HOW PUT IT TO US , GOING TO TAKE CARE OF THE PEOPLE , WE HAVE TO LOOK AT CHINA . WE HAVE A LONG WAY TO DO IT . AND i HAVE TO BE THE PIGGY BANK THAT 'S ABOUT TRADE , YOU NEED THEM THAT i HAVE . THAT HAS BEEN AND NOW WE HAVE THE GREATEST BUSINESSMEN IN THE WORLD AND THEY HAVE TO GO BACK AND TAKE OUR JOBS BACK , WE HAVE PROBLEMS WITH OUR PEOPLE THAT TAKE OUR JOBS . WE HAVE a TINY FRACTION OF WHAT WE 'RE ABOUT AND i WAS IN . AND WE HAVE TO TAKE a LOOK AT WHAT WE WANT TO DO WITH OUR BUSINESS , WITH OUR COUNTRY . WE HAVE TO GET IT BACK BEFORE , WE DON'T WANT THAT . WE HAVE a REAL THING ABOUT IT . WE'RE GOING TO MAKE GREAT DEALS AND NEGOTIATORS . WE HAVE TO GET PARTS OF THESE COUNTRIES . WE HAVE a CLUE . TO HERE , WE SHOULD HAVE NEVER SEEN THE OTHER PEOPLE WHO WAS IN SMALL POTATOES . WE HAVE SOME OF THEM THAT THIS , WE HAVE TO BE GREAT AGAIN , FOLKS . WE'RE\n"
          ],
          "name": "stdout"
        }
      ]
    },
    {
      "metadata": {
        "colab_type": "code",
        "id": "GqWm20pOcjEk",
        "colab": {}
      },
      "cell_type": "code",
      "source": [
        ""
      ],
      "execution_count": 0,
      "outputs": []
    },
    {
      "metadata": {
        "colab_type": "text",
        "id": "vbouqE0ddH6o"
      },
      "cell_type": "markdown",
      "source": [
        "## AnnaRNN"
      ]
    },
    {
      "metadata": {
        "colab_type": "code",
        "id": "VK4Q_j-sdH6z",
        "colab": {}
      },
      "cell_type": "code",
      "source": [
        "#batch size\n",
        "bs = 128\n",
        "\n",
        "# datablock for language model\n",
        "data_lm = TextLMDataBunch.from_folder(path, 'anna.txt')"
      ],
      "execution_count": 0,
      "outputs": []
    },
    {
      "metadata": {
        "colab_type": "code",
        "id": "AJgWJ7u1dH7D",
        "outputId": "a8ce2486-3b7b-4c65-e7ea-d0f53d6eea4e",
        "colab": {
          "base_uri": "https://localhost:8080/",
          "height": 293
        }
      },
      "cell_type": "code",
      "source": [
        "data_lm.show_batch()"
      ],
      "execution_count": 0,
      "outputs": [
        {
          "output_type": "display_data",
          "data": {
            "text/html": [
              "<table border=\"1\" class=\"dataframe\">\n",
              "  <thead>\n",
              "    <tr style=\"text-align: right;\">\n",
              "      <th>idx</th>\n",
              "      <th>text</th>\n",
              "    </tr>\n",
              "  </thead>\n",
              "  <tbody>\n",
              "    <tr>\n",
              "      <td>0</td>\n",
              "      <td>to \\n  her husband that she could not go on living in the same house with him . \\n  xxmaj this position of affairs had now lasted three days , and not only the \\n  husband and wife themselves , but all the members of their family and \\n  household , were painfully conscious of it . xxmaj every person in the house \\n  felt</td>\n",
              "    </tr>\n",
              "    <tr>\n",
              "      <td>1</td>\n",
              "      <td>rings that slipped \\n  down on her bony fingers , and fell to going over in her memory all the \\n  conversation . \" xxmaj he has gone ! xxmaj but has he broken it off with her ? \" she \\n  thought . \" xxmaj can it be he sees her ? xxmaj why did n't i ask him ! xxmaj no , no , \\n</td>\n",
              "    </tr>\n",
              "    <tr>\n",
              "      <td>2</td>\n",
              "      <td>was my last \\n  effort . xxmaj and i did try with all my soul . i ca n't . i 'm no good at it . \" \\n \\n  \" xxmaj it 's not that you 're no good at it , \" said xxmaj sergey xxmaj ivanovitch ; \" it is \\n  that you do n't look at it as you should . \" \\n</td>\n",
              "    </tr>\n",
              "    <tr>\n",
              "      <td>3</td>\n",
              "      <td>it must be settled . \" \\n \\n  \" xxmaj what did you go away for ? \" \\n \\n  \" xxmaj ah , stop a minute ! xxmaj ah , the thoughts that come crowding on one ! xxmaj the \\n  questions one must ask oneself ! xxmaj listen . xxmaj you ca n't imagine what you 've \\n  done for me by what you</td>\n",
              "    </tr>\n",
              "    <tr>\n",
              "      <td>4</td>\n",
              "      <td>i am fond of the country , \" said xxmaj vronsky , noticing , and affecting not to \\n  notice , xxmaj levin 's tone . \\n \\n  \" xxmaj but i hope , count , you would not consent to live in the country \\n  always , \" said xxmaj countess xxmaj nordston . \\n \\n  \" i do n't know ; i have never</td>\n",
              "    </tr>\n",
              "  </tbody>\n",
              "</table>"
            ],
            "text/plain": [
              "<IPython.core.display.HTML object>"
            ]
          },
          "metadata": {
            "tags": []
          }
        }
      ]
    },
    {
      "metadata": {
        "colab_type": "code",
        "id": "w5gbsQaVdH7P",
        "colab": {}
      },
      "cell_type": "code",
      "source": [
        "# #Since above step can be a bit time-consuming, it's best to save the result.\n",
        "# #This will create a 'tmp' directory where all the computed stuff will be stored\n",
        "# data_lm.save('data_lm_export.pkl')"
      ],
      "execution_count": 0,
      "outputs": []
    },
    {
      "metadata": {
        "colab_type": "code",
        "id": "94RJHgm6dH7Z",
        "colab": {}
      },
      "cell_type": "code",
      "source": [
        "# # then reload those results using load_data\n",
        "# data_lm = load_data(path, fname='data_lm_export.pkl')"
      ],
      "execution_count": 0,
      "outputs": []
    },
    {
      "metadata": {
        "colab_type": "text",
        "id": "7pyIKaiodH7k"
      },
      "cell_type": "markdown",
      "source": [
        "We're not going to train a model that classifies the reviews from scratch. Like in computer vision, we'll use a model pretrained on a bigger dataset (a cleaned subset of wikipedia called [wikitext-103](https://einstein.ai/research/blog/the-wikitext-long-term-dependency-language-modeling-dataset)). That model has been trained to guess what the next word, its input being all the previous words. It has a recurrent structure and a hidden state that is updated each time it sees a new word. This hidden state thus contains information about the sentence up to that point.\n",
        "\n",
        "We are going to use that 'knowledge' of the English language to build our classifier, but first, like for computer vision, we need to fine-tune the pretrained model to our particular dataset. Because the English of the reviews left by people on IMDB isn't the same as the English of wikipedia, we'll need to adjust the parameters of our model by a little bit. Plus there might be some words that would be extremely common in the reviews dataset but would be barely present in wikipedia, and therefore might not be part of the vocabulary the model was trained on."
      ]
    },
    {
      "metadata": {
        "colab_type": "code",
        "id": "anth_ee7dH7m",
        "colab": {}
      },
      "cell_type": "code",
      "source": [
        "learn = language_model_learner(data_lm, AWD_LSTM, drop_mult=0.3)"
      ],
      "execution_count": 0,
      "outputs": []
    },
    {
      "metadata": {
        "colab_type": "code",
        "id": "XYUQ5W9BdH7r",
        "outputId": "5be1fed8-23b4-4ffa-90e7-90ea35045877",
        "colab": {
          "base_uri": "https://localhost:8080/",
          "height": 379
        }
      },
      "cell_type": "code",
      "source": [
        "learn.lr_find()\n",
        "learn.recorder.plot(skip_end=15)"
      ],
      "execution_count": 0,
      "outputs": [
        {
          "output_type": "display_data",
          "data": {
            "text/html": [
              ""
            ],
            "text/plain": [
              "<IPython.core.display.HTML object>"
            ]
          },
          "metadata": {
            "tags": []
          }
        },
        {
          "output_type": "stream",
          "text": [
            "LR Finder is complete, type {learner_name}.recorder.plot() to see the graph.\n"
          ],
          "name": "stdout"
        },
        {
          "output_type": "display_data",
          "data": {
            "image/png": "[encoded data removed]",
            "text/plain": [
              "<Figure size 576x396 with 1 Axes>"
            ]
          },
          "metadata": {
            "tags": []
          }
        }
      ]
    },
    {
      "metadata": {
        "colab_type": "code",
        "id": "pFncGdJFdH7y",
        "outputId": "b5238394-b06e-4c0a-fb51-b50f60bf2353",
        "colab": {
          "base_uri": "https://localhost:8080/",
          "height": 230
        }
      },
      "cell_type": "code",
      "source": [
        "learn.fit_one_cycle(5, 5e-2, moms=(0.8,0.7))"
      ],
      "execution_count": 0,
      "outputs": [
        {
          "output_type": "display_data",
          "data": {
            "text/html": [
              "Total time: 03:16 <p><table border=\"1\" class=\"dataframe\">\n",
              "  <thead>\n",
              "    <tr style=\"text-align: left;\">\n",
              "      <th>epoch</th>\n",
              "      <th>train_loss</th>\n",
              "      <th>valid_loss</th>\n",
              "      <th>accuracy</th>\n",
              "      <th>time</th>\n",
              "    </tr>\n",
              "  </thead>\n",
              "  <tbody>\n",
              "    <tr>\n",
              "      <td>1</td>\n",
              "      <td>3.963955</td>\n",
              "      <td></td>\n",
              "      <td>00:39</td>\n",
              "    </tr>\n",
              "    <tr>\n",
              "      <td>2</td>\n",
              "      <td>3.762071</td>\n",
              "      <td></td>\n",
              "      <td>00:39</td>\n",
              "    </tr>\n",
              "    <tr>\n",
              "      <td>3</td>\n",
              "      <td>3.513842</td>\n",
              "      <td></td>\n",
              "      <td>00:39</td>\n",
              "    </tr>\n",
              "    <tr>\n",
              "      <td>4</td>\n",
              "      <td>3.177664</td>\n",
              "      <td></td>\n",
              "      <td>00:39</td>\n",
              "    </tr>\n",
              "    <tr>\n",
              "      <td>5</td>\n",
              "      <td>2.896671</td>\n",
              "      <td></td>\n",
              "      <td>00:39</td>\n",
              "    </tr>\n",
              "  </tbody>\n",
              "</table>"
            ],
            "text/plain": [
              "<IPython.core.display.HTML object>"
            ]
          },
          "metadata": {
            "tags": []
          }
        }
      ]
    },
    {
      "metadata": {
        "colab_type": "code",
        "id": "IyA3jgojdH77",
        "colab": {}
      },
      "cell_type": "code",
      "source": [
        "#unfreeze the model and fine-tune it\n",
        "\n",
        "learn.unfreeze()"
      ],
      "execution_count": 0,
      "outputs": []
    },
    {
      "metadata": {
        "colab_type": "code",
        "id": "myj4Dm-RdH8D",
        "outputId": "4840050f-1661-4226-e416-8b74aa95c292",
        "colab": {
          "base_uri": "https://localhost:8080/",
          "height": 230
        }
      },
      "cell_type": "code",
      "source": [
        "learn.fit_one_cycle(5, 1e-3, moms=(0.8,0.7))"
      ],
      "execution_count": 0,
      "outputs": [
        {
          "output_type": "display_data",
          "data": {
            "text/html": [
              "Total time: 04:14 <p><table border=\"1\" class=\"dataframe\">\n",
              "  <thead>\n",
              "    <tr style=\"text-align: left;\">\n",
              "      <th>epoch</th>\n",
              "      <th>train_loss</th>\n",
              "      <th>valid_loss</th>\n",
              "      <th>accuracy</th>\n",
              "      <th>time</th>\n",
              "    </tr>\n",
              "  </thead>\n",
              "  <tbody>\n",
              "    <tr>\n",
              "      <td>1</td>\n",
              "      <td>2.804597</td>\n",
              "      <td></td>\n",
              "      <td>00:51</td>\n",
              "    </tr>\n",
              "    <tr>\n",
              "      <td>2</td>\n",
              "      <td>2.723362</td>\n",
              "      <td></td>\n",
              "      <td>00:51</td>\n",
              "    </tr>\n",
              "    <tr>\n",
              "      <td>3</td>\n",
              "      <td>2.573271</td>\n",
              "      <td></td>\n",
              "      <td>00:50</td>\n",
              "    </tr>\n",
              "    <tr>\n",
              "      <td>4</td>\n",
              "      <td>2.408696</td>\n",
              "      <td></td>\n",
              "      <td>00:50</td>\n",
              "    </tr>\n",
              "    <tr>\n",
              "      <td>5</td>\n",
              "      <td>2.327545</td>\n",
              "      <td></td>\n",
              "      <td>00:50</td>\n",
              "    </tr>\n",
              "  </tbody>\n",
              "</table>"
            ],
            "text/plain": [
              "<IPython.core.display.HTML object>"
            ]
          },
          "metadata": {
            "tags": []
          }
        }
      ]
    },
    {
      "metadata": {
        "colab_type": "code",
        "id": "ukbKF3HJdH8N",
        "colab": {}
      },
      "cell_type": "code",
      "source": [
        "TEXT = \"Anna\"\n",
        "N_WORDS = 500\n",
        "N_SENTENCES = 2"
      ],
      "execution_count": 0,
      "outputs": []
    },
    {
      "metadata": {
        "colab_type": "code",
        "id": "yw6dLgaWdH8b",
        "outputId": "1dc2436a-2639-4bf9-91dc-55b88284aa46",
        "colab": {
          "base_uri": "https://localhost:8080/",
          "height": 660
        }
      },
      "cell_type": "code",
      "source": [
        "print(learn.predict(TEXT, N_WORDS, temperature=0.75))"
      ],
      "execution_count": 0,
      "outputs": [
        {
          "output_type": "stream",
          "text": [
            "Anna Arkadyevna Karenina _ \n",
            "  Linking together a new trait in her master and her new nurse , Alexey \n",
            "  Alexandrovitch had been a French marquise , and had given food to her , and seemed to her a \n",
            "  propos de la femme la angel in the dim daylight of the theater . \n",
            " \n",
            "  She looked at him with a timid and guilty air , but at the same time she \n",
            "  was appalled at the fact that she was a distant part of his \n",
            "  regiment . He was more active in wrangling with him than anyone in the world ; \n",
            "  he saw that he never saw in his soul what he had been \n",
            "  thinking about . He felt that this was what he was thinking of himself . He must \n",
            "  find he responsible for everything , and had no special charm in him . But he had a feeling of love in \n",
            "  her soul , which had always hitherto been unbearable to her , and he felt that it was impossible to \n",
            "  take her in love . He felt that he was himself aware of the \n",
            "  force that filled her soul , and what he was doing , and she knew that in this matter she ought not to go to him . \n",
            " \n",
            "  The words and smiles seemed to him so alarming that he was reassured at once by the tenderness \n",
            "  of his soul . He raised \n",
            "  his head , looked at her , and whispered , \" Thank \n",
            "  him ! \" he moved away from him . \n",
            " \n",
            "  \" Oh , yes , but when i 've been on your way , i 'll come to see me . \" He was \n",
            "  delighted , and delighted to see Alexey Alexandrovitch at the \n",
            "  piano . \n",
            " \n",
            "  \" Well , you have been a lamp and hope a great deal , \" Alexey Alexandrovitch interrupted \n",
            "  him , and he smiled contemptuously . \n",
            " \n",
            "  \" Oh , very well , and why did you announce Seryozha ? He \n",
            "  was telling him of the last ball , and the last ball , and everything \n",
            "  he wanted to say . He was a capital figure , but he felt \n",
            "  positively positively nervous . He 's not a fool , he 's a judge . He has grown up ; but now he 's \n",
            "  capable of amusing himself with it . \" \n",
            " \n",
            "  \" Well , how is it you never had anything to do with that ? i 've adopted it . Now do you know , i 'll come \n",
            "  round , \" said Alexey Alexandrovitch . He did not even \n",
            "  agree with this . \" Yes , it\n"
          ],
          "name": "stdout"
        }
      ]
    },
    {
      "metadata": {
        "colab_type": "code",
        "id": "PmhdgbvYdH8j",
        "colab": {}
      },
      "cell_type": "code",
      "source": [
        ""
      ],
      "execution_count": 0,
      "outputs": []
    }
  ]
}