{
  "nbformat": 4,
  "nbformat_minor": 0,
  "metadata": {
    "colab": {
      "name": "federated_learning_tensorflow.ipynb",
      "version": "0.3.2",
      "provenance": [],
      "collapsed_sections": []
    },
    "kernelspec": {
      "name": "python3",
      "display_name": "Python 3"
    },
    "accelerator": "GPU"
  },
  "cells": [
    {
      "metadata": {
        "id": "L8MLEg2JZ10X",
        "colab_type": "text"
      },
      "cell_type": "markdown",
      "source": [
        "# Tensorflow\n",
        "\n",
        "\n",
        "[TensorFlow Federated](https://www.tensorflow.org/federated/)(TFF) is an open source framework for experimenting with machine learning and other computations on decentralized data.\n",
        "\n",
        "Here is video introducing federated learning for tensorflow from TF 2.0 Dev Summit.\n",
        "\n",
        "[![IFederated Learning](https://img.youtube.com/vi/1YbPmkChcbo/0.jpg)](https://www.youtube.com/watch?v=1YbPmkChcbo)\n",
        "\n",
        "\n",
        "Here is the accompanying blog by [Tensorflow Team](https://medium.com/tensorflow/introducing-tensorflow-federated-a4147aa20041) and [Documentation](https://www.tensorflow.org/federated/federated_learning).\n",
        "\n",
        "Everything is explained in-detail in [blog post](https://dudeperf3ct.github.io/federated/learning/privacy/2019/02/08/Federated-Learning-and-Privacy/). This is notebook which replicates the result of blog and runs in colab. Enjoy!\n",
        "\n",
        "\n",
        "#### Run in Colab\n",
        "\n",
        "You can run this notebook in google colab.\n",
        "\n",
        "[![Open In Colab](https://colab.research.google.com/assets/colab-badge.svg)](https://colab.research.google.com/github/dudeperf3ct/DL_notebooks/blob/master/Federated%20Learning/federated_learning_tensorflow.ipynb)"
      ]
    },
    {
      "metadata": {
        "id": "LVYF1tbRrkG9",
        "colab_type": "text"
      },
      "cell_type": "markdown",
      "source": [
        "Code Adapted from: [Link](https://www.tensorflow.org/federated/tutorials/federated_learning_for_image_classification)\n",
        "\n",
        "**Must visit** Tensorflow [Federated Tutorials](https://www.tensorflow.org/federated/tutorials) on Image Classification, Text Generation and implementing custom Federated Averaging Algorithm."
      ]
    },
    {
      "metadata": {
        "id": "Wet9m9h2buBI",
        "colab_type": "code",
        "outputId": "ed68ada7-e68f-4fc2-f28c-9fba29768fbc",
        "colab": {
          "base_uri": "https://localhost:8080/",
          "height": 71
        }
      },
      "cell_type": "code",
      "source": [
        "! pip install -q tensorflow_federated"
      ],
      "execution_count": 0,
      "outputs": [
        {
          "output_type": "stream",
          "text": [
            "\u001b[K    100% |████████████████████████████████| 194kB 3.6MB/s \n",
            "\u001b[K    100% |████████████████████████████████| 4.8MB 6.7MB/s \n",
            "\u001b[31mpymc3 3.6 has requirement h5py>=2.7.0, but you'll have h5py 2.6.0 which is incompatible.\u001b[0m\n",
            "\u001b[?25h"
          ],
          "name": "stdout"
        }
      ]
    },
    {
      "metadata": {
        "id": "iOeDKI8gZxmC",
        "colab_type": "code",
        "outputId": "313c3a7d-2334-466d-c3e1-62852139b43a",
        "colab": {
          "base_uri": "https://localhost:8080/",
          "height": 142
        }
      },
      "cell_type": "code",
      "source": [
        "from __future__ import absolute_import, division, print_function\n",
        "\n",
        "\n",
        "import collections\n",
        "from six.moves import range\n",
        "import numpy as np\n",
        "import tensorflow as tf\n",
        "from tensorflow.python.keras.optimizer_v2 import gradient_descent\n",
        "from tensorflow_federated import python as tff\n",
        "import matplotlib.pyplot as plt\n",
        "%matplotlib inline\n",
        "\n",
        "nest = tf.contrib.framework.nest\n",
        "\n",
        "np.random.seed(0)\n",
        "\n",
        "tf.compat.v1.enable_v2_behavior()"
      ],
      "execution_count": 0,
      "outputs": [
        {
          "output_type": "stream",
          "text": [
            "\n",
            "WARNING: The TensorFlow contrib module will not be included in TensorFlow 2.0.\n",
            "For more information, please see:\n",
            "  * https://github.com/tensorflow/community/blob/master/rfcs/20180907-contrib-sunset.md\n",
            "  * https://github.com/tensorflow/addons\n",
            "If you depend on functionality not listed there, please file an issue.\n",
            "\n"
          ],
          "name": "stdout"
        }
      ]
    },
    {
      "metadata": {
        "id": "uuHyiup5mUTD",
        "colab_type": "text"
      },
      "cell_type": "markdown",
      "source": [
        "## EMNIST Dataset\n",
        "\n",
        "To illustrate the use of FL and TFF, let’s start with one of the most famous image datasets: MNIST. The [original NIST](https://www.nist.gov/srd/nist-special-database-19) dataset, from which MNIST was created, contains images of 810,000 handwritten digits, collected from 3,600 volunteers — and our task is to build an ML model that will recognize the digits from data preprocessed by [Leaf](https://github.com/TalwalkarLab/leaf). The traditional way we’d go about it is to apply an ML algorithm to the entire dataset at once. But what if we couldn’t combine all that data together — for example, because the volunteers did not agree to uploading their raw data to a central server?\n",
        "\n",
        "\n",
        "#### MNIST\n",
        "\n",
        "Creating a custom federated training data from MNIST dataset with 60 clients (as 60,000 examples of MNIST).\n",
        "\n",
        "```python\n",
        "NUM_EXAMPLES_PER_USER = 1000\n",
        "BATCH_SIZE = 100\n",
        "\n",
        "def get_data_for_digit(source, digit):\n",
        "  output_sequence = []\n",
        "  all_samples = [i for i, d in enumerate(source[1]) if d == digit]\n",
        "  for i in range(0, min(len(all_samples), NUM_EXAMPLES_PER_USER), BATCH_SIZE):\n",
        "    batch_samples = all_samples[i:i + BATCH_SIZE]\n",
        "    output_sequence.append({\n",
        "        'x': np.array([source[0][i].flatten() / 255.0 for i in batch_samples],\n",
        "                      dtype=np.float32),\n",
        "        'y': np.array([source[1][i] for i in batch_samples], dtype=np.int32)})\n",
        "  return output_sequence\n",
        "\n",
        "federated_train_data = [get_data_for_digit(mnist_train, d) for d in range(10)]\n",
        "\n",
        "federated_test_data = [get_data_for_digit(mnist_test, d) for d in range(10)]\n",
        "\n",
        "```\n",
        "\n"
      ]
    },
    {
      "metadata": {
        "id": "RBlNzL1SezZk",
        "colab_type": "code",
        "outputId": "9bf19eed-96c3-474f-9a40-71e1c49e7731",
        "colab": {
          "base_uri": "https://localhost:8080/",
          "height": 53
        }
      },
      "cell_type": "code",
      "source": [
        "# load emnist dataset\n",
        "emnist_train, emnist_test = tff.simulation.datasets.emnist.load_data()"
      ],
      "execution_count": 0,
      "outputs": [
        {
          "output_type": "stream",
          "text": [
            "Downloading data from https://storage.googleapis.com/tff-datasets-public/fed_emnist_digitsonly.tar.bz2\n",
            "97402880/97398400 [==============================] - 3s 0us/step\n"
          ],
          "name": "stdout"
        }
      ]
    },
    {
      "metadata": {
        "id": "57qUTfNqezdW",
        "colab_type": "code",
        "outputId": "c525346d-3acf-43f8-e76e-7639c60e53b4",
        "colab": {
          "base_uri": "https://localhost:8080/",
          "height": 35
        }
      },
      "cell_type": "code",
      "source": [
        "# number of clients\n",
        "len(emnist_train.client_ids)"
      ],
      "execution_count": 0,
      "outputs": [
        {
          "output_type": "execute_result",
          "data": {
            "text/plain": [
              "3383"
            ]
          },
          "metadata": {
            "tags": []
          },
          "execution_count": 4
        }
      ]
    },
    {
      "metadata": {
        "id": "_D4ansEcezk7",
        "colab_type": "code",
        "outputId": "d3ed8a1a-2f5b-4833-8eac-43a125592dc6",
        "colab": {
          "base_uri": "https://localhost:8080/",
          "height": 53
        }
      },
      "cell_type": "code",
      "source": [
        "# output types and shapes\n",
        "emnist_train.output_types, emnist_train.output_shapes"
      ],
      "execution_count": 0,
      "outputs": [
        {
          "output_type": "execute_result",
          "data": {
            "text/plain": [
              "(OrderedDict([('label', tf.int32), ('pixels', tf.float32)]),\n",
              " OrderedDict([('label', TensorShape([])), ('pixels', TensorShape([28, 28]))]))"
            ]
          },
          "metadata": {
            "tags": []
          },
          "execution_count": 5
        }
      ]
    },
    {
      "metadata": {
        "id": "433FJh2QnGoG",
        "colab_type": "text"
      },
      "cell_type": "markdown",
      "source": [
        "### Sample Example from Dataset"
      ]
    },
    {
      "metadata": {
        "id": "CZu---DtezhJ",
        "colab_type": "code",
        "outputId": "9bce52fb-612f-44b7-9e67-01136946c3d7",
        "colab": {
          "base_uri": "https://localhost:8080/",
          "height": 108
        }
      },
      "cell_type": "code",
      "source": [
        "#get one example from client:0\n",
        "example_dataset = emnist_train.create_tf_dataset_for_client(emnist_train.client_ids[0])\n",
        "\n",
        "example_element = iter(example_dataset).next()\n",
        "\n",
        "example_element['label'].numpy()"
      ],
      "execution_count": 0,
      "outputs": [
        {
          "output_type": "stream",
          "text": [
            "WARNING:tensorflow:From /usr/local/lib/python3.6/dist-packages/tensorflow/python/data/ops/iterator_ops.py:532: colocate_with (from tensorflow.python.framework.ops) is deprecated and will be removed in a future version.\n",
            "Instructions for updating:\n",
            "Colocations handled automatically by placer.\n"
          ],
          "name": "stdout"
        },
        {
          "output_type": "execute_result",
          "data": {
            "text/plain": [
              "5"
            ]
          },
          "metadata": {
            "tags": []
          },
          "execution_count": 6
        }
      ]
    },
    {
      "metadata": {
        "id": "D1gA7Pugezn8",
        "colab_type": "code",
        "outputId": "51329d6f-3dd4-491b-ec08-d1521a5b39a9",
        "colab": {
          "base_uri": "https://localhost:8080/",
          "height": 265
        }
      },
      "cell_type": "code",
      "source": [
        "plt.imshow(example_element['pixels'].numpy(), cmap='gray', aspect='equal')\n",
        "plt.grid(False)\n",
        "plt.show()"
      ],
      "execution_count": 0,
      "outputs": [
        {
          "output_type": "display_data",
          "data": {
            "image/png": "[encoded data removed]",
            "text/plain": [
              "<Figure size 432x288 with 1 Axes>"
            ]
          },
          "metadata": {
            "tags": []
          }
        }
      ]
    },
    {
      "metadata": {
        "id": "WRJEVFL3nfNs",
        "colab_type": "text"
      },
      "cell_type": "markdown",
      "source": [
        "### Preprocess data and create Keras model\n",
        "\n",
        "\n",
        "A simple helper function that will construct a list of datasets from the given set of users as an input to a round of training or evaluation.\n",
        "\n",
        "```python\n",
        "def make_federated_data(client_data, client_ids):\n",
        "  return [preprocess(client_data.create_tf_dataset_for_client(x)) for x in client_ids]\n",
        "\n",
        "```\n",
        "\n",
        "\n",
        "Typically then, when running simulations, we would simply sample a random subset of the clients to be involved in each round of training, generally different in each round.\n",
        "\n",
        "You can find out by studying the paper on the [Federated Averaging algorithm](), achieving convergence in a system with randomly sampled subsets of clients in each round can take a while, and it would be impractical to have to run hundreds of rounds in this interactive tutorial.\n",
        "\n",
        "What we'll do instead is sample the set of clients once, and reuse the same set across rounds to speed up convergence (intentionally over-fitting to these few user's data). We leave it as an exercise for the reader to modify this tutorial to simulate random sampling - it is fairly easy to do (once you do, keep in mind that getting the model to converge may take a while)."
      ]
    },
    {
      "metadata": {
        "id": "v5HeXDFKZ1VC",
        "colab_type": "code",
        "colab": {}
      },
      "cell_type": "code",
      "source": [
        "NUM_EPOCHS = 10\n",
        "BATCH_SIZE = 20\n",
        "SHUFFLE_BUFFER = 500\n",
        "\n",
        "\n",
        "def preprocess(dataset):\n",
        "\n",
        "  def element_fn(element):\n",
        "    return collections.OrderedDict([\n",
        "        ('x', tf.reshape(element['pixels'], [-1])),\n",
        "        ('y', tf.reshape(element['label'], [1])),\n",
        "    ])\n",
        "\n",
        "  return dataset.repeat(NUM_EPOCHS).map(element_fn).shuffle(SHUFFLE_BUFFER).batch(BATCH_SIZE)\n"
      ],
      "execution_count": 0,
      "outputs": []
    },
    {
      "metadata": {
        "id": "3Sq5Yyw1Z1ZO",
        "colab_type": "code",
        "outputId": "3ade8e61-7fce-41dd-d747-9faa5cbea2e4",
        "colab": {
          "base_uri": "https://localhost:8080/",
          "height": 482
        }
      },
      "cell_type": "code",
      "source": [
        "#print sample batch\n",
        "preprocessed_example_dataset = preprocess(example_dataset)\n",
        "\n",
        "sample_batch = nest.map_structure(lambda x: x.numpy(), iter(preprocessed_example_dataset).next())\n",
        "\n",
        "print (sample_batch)"
      ],
      "execution_count": 0,
      "outputs": [
        {
          "output_type": "stream",
          "text": [
            "OrderedDict([('x', array([[1., 1., 1., ..., 1., 1., 1.],\n",
            "       [1., 1., 1., ..., 1., 1., 1.],\n",
            "       [1., 1., 1., ..., 1., 1., 1.],\n",
            "       ...,\n",
            "       [1., 1., 1., ..., 1., 1., 1.],\n",
            "       [1., 1., 1., ..., 1., 1., 1.],\n",
            "       [1., 1., 1., ..., 1., 1., 1.]], dtype=float32)), ('y', array([[6],\n",
            "       [7],\n",
            "       [1],\n",
            "       [0],\n",
            "       [5],\n",
            "       [6],\n",
            "       [5],\n",
            "       [0],\n",
            "       [7],\n",
            "       [9],\n",
            "       [0],\n",
            "       [2],\n",
            "       [6],\n",
            "       [0],\n",
            "       [4],\n",
            "       [0],\n",
            "       [3],\n",
            "       [2],\n",
            "       [3],\n",
            "       [8]], dtype=int32))])\n"
          ],
          "name": "stdout"
        }
      ]
    },
    {
      "metadata": {
        "id": "kh1MYEpOpBjl",
        "colab_type": "code",
        "colab": {}
      },
      "cell_type": "code",
      "source": [
        "def make_federated_data(client_data, client_ids):\n",
        "  return [preprocess(client_data.create_tf_dataset_for_client(x)) for x in client_ids]"
      ],
      "execution_count": 0,
      "outputs": []
    },
    {
      "metadata": {
        "id": "RoBUBJS4nwmh",
        "colab_type": "code",
        "outputId": "5f5e6e8f-778b-43ab-9e5a-f52a8b0ce3b4",
        "colab": {
          "base_uri": "https://localhost:8080/",
          "height": 35
        }
      },
      "cell_type": "code",
      "source": [
        "# sample data for only 3 clients (fixed for now) for each round\n",
        "\n",
        "NUM_CLIENTS = 3\n",
        "\n",
        "sample_clients = emnist_train.client_ids[0:NUM_CLIENTS]\n",
        "\n",
        "federated_train_data = make_federated_data(emnist_train, sample_clients)\n",
        "\n",
        "print (len(federated_train_data), federated_train_data[0])"
      ],
      "execution_count": 0,
      "outputs": [
        {
          "output_type": "stream",
          "text": [
            "3 <DatasetV1Adapter shapes: OrderedDict([(x, (None, 784)), (y, (None, 1))]), types: OrderedDict([(x, tf.float32), (y, tf.int32)])>\n"
          ],
          "name": "stdout"
        }
      ]
    },
    {
      "metadata": {
        "id": "zA0E7M3Noz76",
        "colab_type": "code",
        "colab": {}
      },
      "cell_type": "code",
      "source": [
        "# create keras model\n",
        "\n",
        "def create_compiled_keras_model():\n",
        "  # dense layer\n",
        "  model = tf.keras.models.Sequential([\n",
        "      tf.keras.layers.Dense(10, activation=tf.nn.softmax, kernel_initializer='zeros', input_shape=(784,))])\n",
        "  \n",
        "  def loss_fn(y_true, y_pred):\n",
        "    # categorical cross entropy\n",
        "    return tf.reduce_mean(tf.keras.losses.sparse_categorical_crossentropy(y_true, y_pred))\n",
        " \n",
        "  model.compile(loss=loss_fn,\n",
        "                optimizer=gradient_descent.SGD(learning_rate=0.02),\n",
        "                metrics=[tf.keras.metrics.SparseCategoricalAccuracy()])\n",
        "  return model"
      ],
      "execution_count": 0,
      "outputs": []
    },
    {
      "metadata": {
        "id": "LhLKZCkSpY1O",
        "colab_type": "code",
        "colab": {}
      },
      "cell_type": "code",
      "source": [
        "# create a tff learning model from compiled keras model\n",
        "def model_fn():\n",
        "  keras_model = create_compiled_keras_model()\n",
        "  return tff.learning.from_compiled_keras_model(keras_model, sample_batch)"
      ],
      "execution_count": 0,
      "outputs": []
    },
    {
      "metadata": {
        "id": "U_ZKyY-aprOo",
        "colab_type": "code",
        "colab": {}
      },
      "cell_type": "code",
      "source": [
        "# construct a Federated Averaging algorithm by invoking the helper function \n",
        "iterative_process = tff.learning.build_federated_averaging_process(model_fn)"
      ],
      "execution_count": 0,
      "outputs": []
    },
    {
      "metadata": {
        "id": "rweaMlbOp33y",
        "colab_type": "text"
      },
      "cell_type": "markdown",
      "source": [
        "What just happened? TFF has constructed a pair of federated computations and packaged them into a tff.utils.IterativeProcess in which these computations are available as a pair of properties `initialize` and `next`.\n",
        "\n",
        "In a nutshell, federated computations are programs in TFF's internal language that can express various federated algorithms"
      ]
    },
    {
      "metadata": {
        "id": "RN3PhseqprLf",
        "colab_type": "code",
        "outputId": "6be79057-960f-4458-b2c0-42435a734cc0",
        "colab": {
          "base_uri": "https://localhost:8080/",
          "height": 35
        }
      },
      "cell_type": "code",
      "source": [
        "# first of pair initialize computation returns result \n",
        "# the representation of the state of the Federated Averaging process on the server\n",
        "str(iterative_process.initialize.type_signature)"
      ],
      "execution_count": 0,
      "outputs": [
        {
          "output_type": "execute_result",
          "data": {
            "text/plain": [
              "'( -> <model=<trainable=<dense/kernel=float32[784,10],dense/bias=float32[10]>,non_trainable=<>>,optimizer_state=<int64>>@SERVER)'"
            ]
          },
          "metadata": {
            "tags": []
          },
          "execution_count": 15
        }
      ]
    },
    {
      "metadata": {
        "id": "nMfKoCKcqZ7z",
        "colab_type": "code",
        "colab": {}
      },
      "cell_type": "code",
      "source": [
        "# initialize computation to construct the server state.\n",
        "\n",
        "state = iterative_process.initialize()"
      ],
      "execution_count": 0,
      "outputs": []
    },
    {
      "metadata": {
        "id": "pbdNdKUQqjhP",
        "colab_type": "code",
        "outputId": "13d37182-e573-4eb6-8ece-7ff15114dd33",
        "colab": {
          "base_uri": "https://localhost:8080/",
          "height": 178
        }
      },
      "cell_type": "code",
      "source": [
        "# second of pair next  epresents a single round of Federated Averaging, \n",
        "# which consists of pushing the server state (including the model parameters) to the clients, \n",
        "# on-device training on their local data, collecting and averaging model updates, \n",
        "# and producing a new updated model at the server.\n",
        "# SERVER_STATE, FEDERATED_DATA -> SERVER_STATE, TRAINING_METRICS\n",
        "\n",
        "for round_num in range(1, 10):\n",
        "  state, metrics = iterative_process.next(state, federated_train_data)\n",
        "  print('round {:2d}, metrics={}'.format(round_num, metrics))\n",
        "\n",
        "  "
      ],
      "execution_count": 0,
      "outputs": [
        {
          "output_type": "stream",
          "text": [
            "round  1, metrics=<sparse_categorical_accuracy=0.14545454,loss=3.1084356>\n",
            "round  2, metrics=<sparse_categorical_accuracy=0.17054546,loss=2.8489537>\n",
            "round  3, metrics=<sparse_categorical_accuracy=0.20581818,loss=2.5649288>\n",
            "round  4, metrics=<sparse_categorical_accuracy=0.24654545,loss=2.4538224>\n",
            "round  5, metrics=<sparse_categorical_accuracy=0.2738182,loss=2.292969>\n",
            "round  6, metrics=<sparse_categorical_accuracy=0.3458182,loss=1.9596573>\n",
            "round  7, metrics=<sparse_categorical_accuracy=0.36618182,loss=1.915014>\n",
            "round  8, metrics=<sparse_categorical_accuracy=0.45963636,loss=1.618384>\n",
            "round  9, metrics=<sparse_categorical_accuracy=0.472,loss=1.607465>\n"
          ],
          "name": "stdout"
        }
      ]
    },
    {
      "metadata": {
        "id": "hF_bGeimrecc",
        "colab_type": "text"
      },
      "cell_type": "markdown",
      "source": [
        "Training loss seems to be converging."
      ]
    },
    {
      "metadata": {
        "id": "Jyly4EUhrEOF",
        "colab_type": "code",
        "colab": {}
      },
      "cell_type": "code",
      "source": [
        ""
      ],
      "execution_count": 0,
      "outputs": []
    }
  ]
}