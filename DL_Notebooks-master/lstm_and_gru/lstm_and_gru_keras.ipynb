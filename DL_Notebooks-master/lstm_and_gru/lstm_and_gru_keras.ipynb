{
  "nbformat": 4,
  "nbformat_minor": 0,
  "metadata": {
    "colab": {
      "name": "lstm_and_gru_keras.ipynb",
      "version": "0.3.2",
      "provenance": [],
      "collapsed_sections": []
    },
    "kernelspec": {
      "name": "python3",
      "display_name": "Python 3"
    },
    "accelerator": "GPU"
  },
  "cells": [
    {
      "metadata": {
        "id": "ZIC0nEEjEjGG",
        "colab_type": "text"
      },
      "cell_type": "markdown",
      "source": [
        "# LSTM\n",
        "\n",
        "In this notebook, we will go through basics of LSTM, GRU, CuDNNLSTM, CuDNNGRU and Bi-LSTM using pretrained embeddings like word2vec, glove and fasttext and  also custom embeddings on IMDB dataset. \n",
        "\n",
        "Here we will use [keras](https://keras.io/  \"Keras Homepage\").\n",
        "\n",
        "\n",
        "Everything is explained in-detail in [blog post](https://dudeperf3ct.github.io/lstm/gru/nlp/2019/01/28/Force-of-LSTM-and-GRU/). This is notebook which replicates the result of blog and runs in colab. Enjoy!\n",
        "\n",
        "Let's see at [nlpprogess](http://nlpprogress.com/english/sentiment_analysis.html) what is the current state-of-the-art in sentiment analysis.\n",
        "\n",
        "\n",
        "Model | Accuracy | Paper |\n",
        "----- | -------- | ------|\n",
        "ULMFit| 95.4     | [Universal Language Model Fine-tuning for Text Classification](https://arxiv.org/abs/1801.06146)|\n",
        "Block-sparse LSTM| 94.99 | [GPU Kernels for Block-Sparse Weights](https://s3-us-west-2.amazonaws.com/openai-assets/blocksparse/blocksparsepaper.pdf)|\n",
        "oh-LSTM | 94.1 | [Supervised and Semi-Supervised Text Categorization using LSTM for Region Embeddings](https://arxiv.org/abs/1602.02373) |\n",
        "Virtual adversarial training  | 94.1 | [Adversarial Training Methods for Semi-Supervised Text Classification](https://arxiv.org/abs/1605.07725) |\n",
        "BCN+Char+CoVe | 91.8 | [Learned in Translation: Contextualized Word Vectors](https://arxiv.org/abs/1708.00107) |\n",
        "\n",
        "\n",
        "#### Run in Colab\n",
        "\n",
        "You can run this notebook in google colab.\n",
        "\n",
        "[![Open In Colab](https://colab.research.google.com/assets/colab-badge.svg)](https://colab.research.google.com/github/dudeperf3ct/DL_notebooks/blob/master/lstm_and_gru/lstm_and_gru_keras.ipynb)\n"
      ]
    },
    {
      "metadata": {
        "id": "oYAs-iIiT5wG",
        "colab_type": "text"
      },
      "cell_type": "markdown",
      "source": [
        "## Download data and pretrained models"
      ]
    },
    {
      "metadata": {
        "id": "W7RxSTNzFP17",
        "colab_type": "code",
        "outputId": "ea407a66-4c35-4ee6-92be-760df8efc6fa",
        "colab": {
          "base_uri": "https://localhost:8080/",
          "height": 88
        }
      },
      "cell_type": "code",
      "source": [
        "# download word2vec pretrained model on Google News\n",
        "! gdown \"https://drive.google.com/uc?id=0B7XkCwpI5KDYNlNUTTlSS21pQmM\"\n",
        "! gunzip \"/content/GoogleNews-vectors-negative300.bin.gz\""
      ],
      "execution_count": 0,
      "outputs": [
        {
          "output_type": "stream",
          "text": [
            "Downloading...\n",
            "From: https://drive.google.com/uc?id=0B7XkCwpI5KDYNlNUTTlSS21pQmM\n",
            "To: /content/GoogleNews-vectors-negative300.bin.gz\n",
            "1.65GB [00:11, 138MB/s]\n"
          ],
          "name": "stdout"
        }
      ]
    },
    {
      "metadata": {
        "id": "JL6ipmq0JpoM",
        "colab_type": "code",
        "outputId": "fe521b5b-ba26-47df-bfaf-59d4a7b748de",
        "colab": {
          "base_uri": "https://localhost:8080/",
          "height": 285
        }
      },
      "cell_type": "code",
      "source": [
        "# download pretrained glove model\n",
        "! wget \"http://nlp.stanford.edu/data/glove.6B.zip\"\n",
        "! unzip -q -n \"glove.6B.zip\""
      ],
      "execution_count": 0,
      "outputs": [
        {
          "output_type": "stream",
          "text": [
            "--2019-02-26 13:47:33--  http://nlp.stanford.edu/data/glove.6B.zip\n",
            "Resolving nlp.stanford.edu (nlp.stanford.edu)... 171.64.67.140\n",
            "Connecting to nlp.stanford.edu (nlp.stanford.edu)|171.64.67.140|:80... connected.\n",
            "HTTP request sent, awaiting response... 302 Found\n",
            "Location: https://nlp.stanford.edu/data/glove.6B.zip [following]\n",
            "--2019-02-26 13:47:33--  https://nlp.stanford.edu/data/glove.6B.zip\n",
            "Connecting to nlp.stanford.edu (nlp.stanford.edu)|171.64.67.140|:443... connected.\n",
            "HTTP request sent, awaiting response... 200 OK\n",
            "Length: 862182613 (822M) [application/zip]\n",
            "Saving to: ‘glove.6B.zip’\n",
            "\n",
            "glove.6B.zip        100%[===================>] 822.24M  9.26MB/s    in 78s     \n",
            "\n",
            "2019-02-26 13:48:52 (10.5 MB/s) - ‘glove.6B.zip’ saved [862182613/862182613]\n",
            "\n"
          ],
          "name": "stdout"
        }
      ]
    },
    {
      "metadata": {
        "id": "ctnBICUp42WV",
        "colab_type": "code",
        "outputId": "cd1e589d-bf6d-45d6-af0f-f26bd99c8c60",
        "colab": {
          "base_uri": "https://localhost:8080/",
          "height": 214
        }
      },
      "cell_type": "code",
      "source": [
        "# download pretrained fasttext model\n",
        "! wget \"https://s3-us-west-1.amazonaws.com/fasttext-vectors/wiki.simple.zip\"\n",
        "! unzip -q -n \"wiki.simple.zip\""
      ],
      "execution_count": 0,
      "outputs": [
        {
          "output_type": "stream",
          "text": [
            "--2019-02-26 13:49:21--  https://s3-us-west-1.amazonaws.com/fasttext-vectors/wiki.simple.zip\n",
            "Resolving s3-us-west-1.amazonaws.com (s3-us-west-1.amazonaws.com)... 52.219.116.80\n",
            "Connecting to s3-us-west-1.amazonaws.com (s3-us-west-1.amazonaws.com)|52.219.116.80|:443... connected.\n",
            "HTTP request sent, awaiting response... 200 OK\n",
            "Length: 2618496202 (2.4G) [application/zip]\n",
            "Saving to: ‘wiki.simple.zip’\n",
            "\n",
            "wiki.simple.zip     100%[===================>]   2.44G  21.4MB/s    in 2m 0s   \n",
            "\n",
            "2019-02-26 13:51:22 (20.8 MB/s) - ‘wiki.simple.zip’ saved [2618496202/2618496202]\n",
            "\n"
          ],
          "name": "stdout"
        }
      ]
    },
    {
      "metadata": {
        "id": "bBecD2yP-M8q",
        "colab_type": "code",
        "outputId": "549d1519-232c-4bcb-82e8-3d25372bf371",
        "colab": {
          "base_uri": "https://localhost:8080/",
          "height": 214
        }
      },
      "cell_type": "code",
      "source": [
        "# ! wget \"https://dl.fbaipublicfiles.com/fasttext/vectors-english/wiki-news-300d-1M-subword.vec.zip\"\n",
        "# ! unzip -q -n \"wiki-news-300d-1M-subword.vec.zip\"\n",
        "! wget \"https://dl.fbaipublicfiles.com/fasttext/vectors-english/wiki-news-300d-1M.vec.zip\"\n",
        "! unzip -q -n \"wiki-news-300d-1M.vec.zip\""
      ],
      "execution_count": 0,
      "outputs": [
        {
          "output_type": "stream",
          "text": [
            "--2019-02-26 13:52:01--  https://dl.fbaipublicfiles.com/fasttext/vectors-english/wiki-news-300d-1M.vec.zip\n",
            "Resolving dl.fbaipublicfiles.com (dl.fbaipublicfiles.com)... 104.20.22.166, 104.20.6.166, 2606:4700:10::6814:16a6, ...\n",
            "Connecting to dl.fbaipublicfiles.com (dl.fbaipublicfiles.com)|104.20.22.166|:443... connected.\n",
            "HTTP request sent, awaiting response... 200 OK\n",
            "Length: 681808098 (650M) [application/zip]\n",
            "Saving to: ‘wiki-news-300d-1M.vec.zip’\n",
            "\n",
            "wiki-news-300d-1M.v 100%[===================>] 650.22M  8.54MB/s    in 56s     \n",
            "\n",
            "2019-02-26 13:52:59 (11.6 MB/s) - ‘wiki-news-300d-1M.vec.zip’ saved [681808098/681808098]\n",
            "\n"
          ],
          "name": "stdout"
        }
      ]
    },
    {
      "metadata": {
        "id": "rrOw6W0dO8Mh",
        "colab_type": "code",
        "outputId": "ff586012-17b6-405a-f87b-5f4f625e0b4b",
        "colab": {
          "base_uri": "https://localhost:8080/",
          "height": 412
        }
      },
      "cell_type": "code",
      "source": [
        "# install spacy\n",
        "! python -m spacy download en\n",
        "! python -m spacy download en_core_web_md"
      ],
      "execution_count": 0,
      "outputs": [
        {
          "output_type": "stream",
          "text": [
            "Requirement already satisfied: en_core_web_sm==2.0.0 from https://github.com/explosion/spacy-models/releases/download/en_core_web_sm-2.0.0/en_core_web_sm-2.0.0.tar.gz#egg=en_core_web_sm==2.0.0 in /usr/local/lib/python3.6/dist-packages (2.0.0)\n",
            "\n",
            "\u001b[93m    Linking successful\u001b[0m\n",
            "    /usr/local/lib/python3.6/dist-packages/en_core_web_sm -->\n",
            "    /usr/local/lib/python3.6/dist-packages/spacy/data/en\n",
            "\n",
            "    You can now load the model via spacy.load('en')\n",
            "\n",
            "Collecting en_core_web_md==2.0.0 from https://github.com/explosion/spacy-models/releases/download/en_core_web_md-2.0.0/en_core_web_md-2.0.0.tar.gz#egg=en_core_web_md==2.0.0\n",
            "\u001b[?25l  Downloading https://github.com/explosion/spacy-models/releases/download/en_core_web_md-2.0.0/en_core_web_md-2.0.0.tar.gz (120.8MB)\n",
            "\u001b[K    100% |████████████████████████████████| 120.9MB 3.3MB/s \n",
            "\u001b[?25hInstalling collected packages: en-core-web-md\n",
            "  Running setup.py install for en-core-web-md ... \u001b[?25ldone\n",
            "\u001b[?25hSuccessfully installed en-core-web-md-2.0.0\n",
            "\n",
            "\u001b[93m    Linking successful\u001b[0m\n",
            "    /usr/local/lib/python3.6/dist-packages/en_core_web_md -->\n",
            "    /usr/local/lib/python3.6/dist-packages/spacy/data/en_core_web_md\n",
            "\n",
            "    You can now load the model via spacy.load('en_core_web_md')\n",
            "\n"
          ],
          "name": "stdout"
        }
      ]
    },
    {
      "metadata": {
        "id": "ZjmAYyBxaT94",
        "colab_type": "text"
      },
      "cell_type": "markdown",
      "source": [
        "You need to upload your credentials from Kaggle on your instance. Login to kaggle and click on your profile picture on the top left corner, then 'My account'. Scroll down until you find a button named 'Create New API Token' and click on it. This will trigger the download of a file named 'kaggle.json'.\n",
        "\n",
        "Upload this file to the directory this notebook is running in, by clicking \"Upload\" on your main Jupyter page, then uncomment and execute the next two commands (or run them in a terminal)."
      ]
    },
    {
      "metadata": {
        "id": "VNEfTV3nSMlX",
        "colab_type": "code",
        "outputId": "e498229c-29ad-473c-f23c-9398c87827b3",
        "colab": {
          "resources": {
            "http://localhost:8080/nbextensions/google.colab/files.js": {
              "data": "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",
              "ok": true,
              "headers": [
                [
                  "content-type",
                  "application/javascript"
                ]
              ],
              "status": 200,
              "status_text": "OK"
            }
          },
          "base_uri": "https://localhost:8080/",
          "height": 83
        }
      },
      "cell_type": "code",
      "source": [
        "# #uncomment this once to upload kaggle.json\n",
        "\n",
        "from google.colab import files\n",
        "def getLocalFiles():\n",
        "    _files = files.upload()\n",
        "    if len(_files) >0:\n",
        "       for k,v in _files.items():\n",
        "          open(k,'wb').write(v)\n",
        "getLocalFiles()"
      ],
      "execution_count": 0,
      "outputs": [
        {
          "output_type": "display_data",
          "data": {
            "text/html": [
              "\n",
              "     <input type=\"file\" id=\"files-3d70605e-9c71-4a19-9e2f-ff9ff0cc308b\" name=\"files[]\" multiple disabled />\n",
              "     <output id=\"result-3d70605e-9c71-4a19-9e2f-ff9ff0cc308b\">\n",
              "      Upload widget is only available when the cell has been executed in the\n",
              "      current browser session. Please rerun this cell to enable.\n",
              "      </output>\n",
              "      <script src=\"/nbextensions/google.colab/files.js\"></script> "
            ],
            "text/plain": [
              "<IPython.core.display.HTML object>"
            ]
          },
          "metadata": {
            "tags": []
          }
        },
        {
          "output_type": "stream",
          "text": [
            "Saving kaggle.json to kaggle.json\n"
          ],
          "name": "stdout"
        }
      ]
    },
    {
      "metadata": {
        "id": "05RB8_zDXhL3",
        "colab_type": "code",
        "colab": {}
      },
      "cell_type": "code",
      "source": [
        "# #uncomment and run this once when you upload kaggle.json\n",
        "\n",
        "! mkdir -p ~/.kaggle/\n",
        "! mv kaggle.json ~/.kaggle/"
      ],
      "execution_count": 0,
      "outputs": []
    },
    {
      "metadata": {
        "id": "H8qeSt13EN5J",
        "colab_type": "code",
        "outputId": "2927f7e1-6af7-470d-ff2b-383b2b3cbe4e",
        "colab": {
          "base_uri": "https://localhost:8080/",
          "height": 35
        }
      },
      "cell_type": "code",
      "source": [
        "from pathlib import Path\n",
        "\n",
        "path = Path(\"data\")\n",
        "path.mkdir(parents=True, exist_ok=True)\n",
        "path"
      ],
      "execution_count": 0,
      "outputs": [
        {
          "output_type": "execute_result",
          "data": {
            "text/plain": [
              "PosixPath('data')"
            ]
          },
          "metadata": {
            "tags": []
          },
          "execution_count": 3
        }
      ]
    },
    {
      "metadata": {
        "id": "v9dF18MWaY2G",
        "colab_type": "text"
      },
      "cell_type": "markdown",
      "source": [
        "You're all set to download the data from [Bags of Model](https://www.kaggle.com/c/word2vec-nlp-tutorial) competition. You first need to go to its main page and accept its rules, and run the two cells below (uncomment the shell commands to download and unzip the data). If you get a 403 forbidden error it means you haven't accepted the competition rules yet (you have to go to the competition page, click on Rules tab, and then scroll to the bottom to find the accept button)."
      ]
    },
    {
      "metadata": {
        "id": "YbF1Z1KUSMsd",
        "colab_type": "code",
        "outputId": "9680aaa2-959c-404e-e758-3839ba167d4d",
        "colab": {
          "base_uri": "https://localhost:8080/",
          "height": 249
        }
      },
      "cell_type": "code",
      "source": [
        "# download imdb dataset from kaggle competition\n",
        "!kaggle competitions download -c word2vec-nlp-tutorial -p {path}"
      ],
      "execution_count": 0,
      "outputs": [
        {
          "output_type": "stream",
          "text": [
            "Warning: Your Kaggle API key is readable by other users on this system! To fix this, you can run 'chmod 600 /root/.kaggle/kaggle.json'\n",
            "Downloading sampleSubmission.csv to data\n",
            "  0% 0.00/276k [00:00<?, ?B/s]\n",
            "100% 276k/276k [00:00<00:00, 42.0MB/s]\n",
            "Downloading unlabeledTrainData.tsv.zip to data\n",
            " 92% 24.0M/26.0M [00:00<00:00, 12.3MB/s]\n",
            "100% 26.0M/26.0M [00:00<00:00, 38.0MB/s]\n",
            "Downloading testData.tsv.zip to data\n",
            " 40% 5.00M/12.6M [00:00<00:00, 9.11MB/s]\n",
            "100% 12.6M/12.6M [00:00<00:00, 21.5MB/s]\n",
            "Downloading labeledTrainData.tsv.zip to data\n",
            " 39% 5.00M/13.0M [00:00<00:00, 9.16MB/s]\n",
            "100% 13.0M/13.0M [00:00<00:00, 20.4MB/s]\n"
          ],
          "name": "stdout"
        }
      ]
    },
    {
      "metadata": {
        "id": "vAOqhVlhZZvL",
        "colab_type": "code",
        "colab": {}
      },
      "cell_type": "code",
      "source": [
        "! unzip -q -n {path}/labeledTrainData.tsv.zip -d {path}\n",
        "! unzip -q -n {path}/testData.tsv.zip -d {path}"
      ],
      "execution_count": 0,
      "outputs": []
    },
    {
      "metadata": {
        "id": "CPX0rk2CUG-f",
        "colab_type": "text"
      },
      "cell_type": "markdown",
      "source": [
        "## IMDB data"
      ]
    },
    {
      "metadata": {
        "id": "pNkINkerEmzY",
        "colab_type": "code",
        "outputId": "e9472829-6f2d-44b3-e184-997fe8603ecd",
        "colab": {
          "base_uri": "https://localhost:8080/",
          "height": 206
        }
      },
      "cell_type": "code",
      "source": [
        "from pathlib import Path\n",
        "import pandas as pd\n",
        "import numpy as np\n",
        "from sklearn.model_selection import train_test_split\n",
        "from keras.layers import LSTM, Embedding, Dense, Input, CuDNNLSTM, GRU, CuDNNGRU, Bidirectional\n",
        "from keras.models import Model\n",
        "from keras.preprocessing.text import Tokenizer\n",
        "from keras.preprocessing.sequence import pad_sequences\n",
        "from keras.initializers import Constant\n",
        "from keras.utils import to_categorical\n",
        "from keras.callbacks import EarlyStopping\n",
        "path = Path(\"data\")\n",
        "import matplotlib.pyplot as plt\n",
        "%matplotlib inline\n",
        "\n",
        "data = pd.read_csv(path/\"labeledTrainData.tsv\", sep='\\t', header=0, quoting=3)\n",
        "data.head()\n",
        "\n",
        "# test = pd.read_csv(path/\"testData.tsv\", sep='\\t', header=0, quoting=3)"
      ],
      "execution_count": 0,
      "outputs": [
        {
          "output_type": "execute_result",
          "data": {
            "text/html": [
              "<div>\n",
              "<style scoped>\n",
              "    .dataframe tbody tr th:only-of-type {\n",
              "        vertical-align: middle;\n",
              "    }\n",
              "\n",
              "    .dataframe tbody tr th {\n",
              "        vertical-align: top;\n",
              "    }\n",
              "\n",
              "    .dataframe thead th {\n",
              "        text-align: right;\n",
              "    }\n",
              "</style>\n",
              "<table border=\"1\" class=\"dataframe\">\n",
              "  <thead>\n",
              "    <tr style=\"text-align: right;\">\n",
              "      <th></th>\n",
              "      <th>id</th>\n",
              "      <th>sentiment</th>\n",
              "      <th>review</th>\n",
              "    </tr>\n",
              "  </thead>\n",
              "  <tbody>\n",
              "    <tr>\n",
              "      <th>0</th>\n",
              "      <td>\"5814_8\"</td>\n",
              "      <td>1</td>\n",
              "      <td>\"With all this stuff going down at the moment ...</td>\n",
              "    </tr>\n",
              "    <tr>\n",
              "      <th>1</th>\n",
              "      <td>\"2381_9\"</td>\n",
              "      <td>1</td>\n",
              "      <td>\"\\\"The Classic War of the Worlds\\\" by Timothy ...</td>\n",
              "    </tr>\n",
              "    <tr>\n",
              "      <th>2</th>\n",
              "      <td>\"7759_3\"</td>\n",
              "      <td>0</td>\n",
              "      <td>\"The film starts with a manager (Nicholas Bell...</td>\n",
              "    </tr>\n",
              "    <tr>\n",
              "      <th>3</th>\n",
              "      <td>\"3630_4\"</td>\n",
              "      <td>0</td>\n",
              "      <td>\"It must be assumed that those who praised thi...</td>\n",
              "    </tr>\n",
              "    <tr>\n",
              "      <th>4</th>\n",
              "      <td>\"9495_8\"</td>\n",
              "      <td>1</td>\n",
              "      <td>\"Superbly trashy and wondrously unpretentious ...</td>\n",
              "    </tr>\n",
              "  </tbody>\n",
              "</table>\n",
              "</div>"
            ],
            "text/plain": [
              "         id  sentiment                                             review\n",
              "0  \"5814_8\"          1  \"With all this stuff going down at the moment ...\n",
              "1  \"2381_9\"          1  \"\\\"The Classic War of the Worlds\\\" by Timothy ...\n",
              "2  \"7759_3\"          0  \"The film starts with a manager (Nicholas Bell...\n",
              "3  \"3630_4\"          0  \"It must be assumed that those who praised thi...\n",
              "4  \"9495_8\"          1  \"Superbly trashy and wondrously unpretentious ..."
            ]
          },
          "metadata": {
            "tags": []
          },
          "execution_count": 11
        }
      ]
    },
    {
      "metadata": {
        "id": "2Z2FYcgwYaW3",
        "colab_type": "code",
        "outputId": "e2d21a04-7851-46cf-dc53-f96bc60a4f7d",
        "colab": {
          "base_uri": "https://localhost:8080/",
          "height": 35
        }
      },
      "cell_type": "code",
      "source": [
        "print (data['review'].shape, data['sentiment'].shape)"
      ],
      "execution_count": 0,
      "outputs": [
        {
          "output_type": "stream",
          "text": [
            "(25000,) (25000,)\n"
          ],
          "name": "stdout"
        }
      ]
    },
    {
      "metadata": {
        "id": "ymLgvGIzOfGQ",
        "colab_type": "text"
      },
      "cell_type": "markdown",
      "source": [
        "## Gensim\n",
        "\n",
        "[Gensim](https://radimrehurek.com/gensim/) is a Python library for topic modelling, document indexing and similarity retrieval with large corpora."
      ]
    },
    {
      "metadata": {
        "id": "oVTKPknKULmG",
        "colab_type": "code",
        "outputId": "3a78f894-ebb1-464f-8baa-0c2b19c9ff58",
        "colab": {
          "base_uri": "https://localhost:8080/",
          "height": 35
        }
      },
      "cell_type": "code",
      "source": [
        "NUM_WORDS = 20000\n",
        "MAX_SEQUENCE_LENGTH = 200\n",
        "\n",
        "# convert each word into token(integer) with maximum number of words based on frequency is 20000\n",
        "tokenizer = Tokenizer(num_words=NUM_WORDS, filters='!\"#$%&()*+,-./:;<=>?@[\\\\]^_`{|}~\\t\\n\\'', lower=True)\n",
        "tokenizer.fit_on_texts(data['review'])\n",
        "\n",
        "# stitch back the words into sequnces with filtering stop words and converting to lower #text_to_word_sequence\n",
        "sequences = tokenizer.texts_to_sequences(data['review'])\n",
        "# convert all sentences to equal length of 200\n",
        "sentences = pad_sequences(sequences, maxlen=MAX_SEQUENCE_LENGTH)\n",
        "\n",
        "word_index = tokenizer.word_index\n",
        "print('Found %s unique tokens.' % len(word_index))"
      ],
      "execution_count": 0,
      "outputs": [
        {
          "output_type": "stream",
          "text": [
            "Found 75899 unique tokens.\n"
          ],
          "name": "stdout"
        }
      ]
    },
    {
      "metadata": {
        "id": "1qPBZqC9d-n0",
        "colab_type": "text"
      },
      "cell_type": "markdown",
      "source": [
        "### Pretrained Word2Vec"
      ]
    },
    {
      "metadata": {
        "id": "s5O7BVzGEnHM",
        "colab_type": "code",
        "outputId": "c41e59e7-8d1a-4c08-c900-0f3182905ad2",
        "colab": {
          "base_uri": "https://localhost:8080/",
          "height": 53
        }
      },
      "cell_type": "code",
      "source": [
        "from gensim.models import KeyedVectors\n",
        "\n",
        "%time word_vectors = KeyedVectors.load_word2vec_format('/content/GoogleNews-vectors-negative300.bin', binary=True)"
      ],
      "execution_count": 0,
      "outputs": [
        {
          "output_type": "stream",
          "text": [
            "CPU times: user 55 s, sys: 5.73 s, total: 1min\n",
            "Wall time: 1min 2s\n"
          ],
          "name": "stdout"
        }
      ]
    },
    {
      "metadata": {
        "id": "hIZ5EX_9Ohz3",
        "colab_type": "code",
        "colab": {}
      },
      "cell_type": "code",
      "source": [
        "EMBEDDING_DIM = 300\n",
        "VOCAB_SIZE = min(len(word_index)+1, NUM_WORDS)\n",
        "embedding_matrix = np.zeros((VOCAB_SIZE, EMBEDDING_DIM))\n",
        "\n",
        "for word, i in word_index.items():\n",
        "  \n",
        "    if i>=NUM_WORDS:\n",
        "        continue\n",
        "    try:\n",
        "        embedding_vector = word_vectors[word]\n",
        "        embedding_matrix[i] = embedding_vector\n",
        "        \n",
        "    except KeyError:\n",
        "        embedding_matrix[i]=np.random.normal(0,np.sqrt(0.25), EMBEDDING_DIM)\n",
        "\n",
        "del(word_vectors)\n",
        "\n",
        "# load pre-trained word embeddings into an Embedding layer\n",
        "# note that we set trainable = False so as to keep the embeddings fixed\n",
        "embedding_layer = Embedding(VOCAB_SIZE,\n",
        "                            EMBEDDING_DIM,\n",
        "                            embeddings_initializer=Constant(embedding_matrix),\n",
        "                            input_length=MAX_SEQUENCE_LENGTH,\n",
        "                            trainable=False)"
      ],
      "execution_count": 0,
      "outputs": []
    },
    {
      "metadata": {
        "id": "ur-zL_mreCaf",
        "colab_type": "code",
        "outputId": "b9b889fa-49cd-473a-802e-bb4d15233b07",
        "colab": {
          "base_uri": "https://localhost:8080/",
          "height": 53
        }
      },
      "cell_type": "code",
      "source": [
        "labels = data['sentiment'].values\n",
        "\n",
        "X, Y = sentences, labels\n",
        "\n",
        "train_x, val_x, train_y, val_y = train_test_split(X, Y, test_size=0.2, stratify=Y)\n",
        "\n",
        "train_y = to_categorical(train_y, num_classes=2)\n",
        "val_y = to_categorical(val_y, num_classes=2)\n",
        "\n",
        "print ('Training:', train_x.shape, train_y.shape)\n",
        "print ('Validation:', val_x.shape, val_y.shape)"
      ],
      "execution_count": 0,
      "outputs": [
        {
          "output_type": "stream",
          "text": [
            "Training: (20000, 200) (20000, 2)\n",
            "Validation: (5000, 200) (5000, 2)\n"
          ],
          "name": "stdout"
        }
      ]
    },
    {
      "metadata": {
        "id": "5HndsxUQOshP",
        "colab_type": "code",
        "outputId": "e6b13245-bb4f-4792-d94a-e112c69ec0ed",
        "colab": {
          "base_uri": "https://localhost:8080/",
          "height": 412
        }
      },
      "cell_type": "code",
      "source": [
        "num_classes = 2\n",
        "\n",
        "# input layer with shape = (MAX_SEQUENCE_LENGTH,)\n",
        "sequence_input = Input(shape=(MAX_SEQUENCE_LENGTH,), dtype='int32')\n",
        "\n",
        "# convert the sequence input to embedding from (MAX_SEQUENCE_LENGTH, ) -> (None, MAX_SEQUENCE_LENGTH, EMBEDDING_DIM)\n",
        "embedded_sequences = embedding_layer(sequence_input)\n",
        "\n",
        "x = LSTM(128, dropout=0.2, recurrent_dropout=0.2)(embedded_sequences)\n",
        "preds = Dense(num_classes, activation='softmax')(x)\n",
        "\n",
        "model = Model(inputs=sequence_input, outputs=preds)\n",
        "\n",
        "model.compile(loss='categorical_crossentropy',\n",
        "              optimizer='adam',\n",
        "              metrics=['acc'])\n",
        "\n",
        "model.summary()"
      ],
      "execution_count": 0,
      "outputs": [
        {
          "output_type": "stream",
          "text": [
            "WARNING:tensorflow:From /usr/local/lib/python3.6/dist-packages/tensorflow/python/framework/op_def_library.py:263: colocate_with (from tensorflow.python.framework.ops) is deprecated and will be removed in a future version.\n",
            "Instructions for updating:\n",
            "Colocations handled automatically by placer.\n",
            "WARNING:tensorflow:From /usr/local/lib/python3.6/dist-packages/keras/backend/tensorflow_backend.py:3445: calling dropout (from tensorflow.python.ops.nn_ops) with keep_prob is deprecated and will be removed in a future version.\n",
            "Instructions for updating:\n",
            "Please use `rate` instead of `keep_prob`. Rate should be set to `rate = 1 - keep_prob`.\n",
            "_________________________________________________________________\n",
            "Layer (type)                 Output Shape              Param #   \n",
            "=================================================================\n",
            "input_1 (InputLayer)         (None, 200)               0         \n",
            "_________________________________________________________________\n",
            "embedding_1 (Embedding)      (None, 200, 300)          6000000   \n",
            "_________________________________________________________________\n",
            "lstm_1 (LSTM)                (None, 128)               219648    \n",
            "_________________________________________________________________\n",
            "dense_1 (Dense)              (None, 2)                 258       \n",
            "=================================================================\n",
            "Total params: 6,219,906\n",
            "Trainable params: 219,906\n",
            "Non-trainable params: 6,000,000\n",
            "_________________________________________________________________\n"
          ],
          "name": "stdout"
        }
      ]
    },
    {
      "metadata": {
        "id": "5YZf_1x3OsoP",
        "colab_type": "code",
        "outputId": "d7f540d7-59b4-48f1-d9cd-cd13366e8159",
        "colab": {
          "base_uri": "https://localhost:8080/",
          "height": 466
        }
      },
      "cell_type": "code",
      "source": [
        "es = EarlyStopping(monitor='val_acc', patience=3)\n",
        "\n",
        "history = model.fit(train_x, train_y,\n",
        "                    batch_size=128,\n",
        "                    epochs=10,\n",
        "                    validation_data=(val_x, val_y),\n",
        "                    callbacks =[es])"
      ],
      "execution_count": 0,
      "outputs": [
        {
          "output_type": "stream",
          "text": [
            "WARNING:tensorflow:From /usr/local/lib/python3.6/dist-packages/tensorflow/python/ops/math_ops.py:3066: to_int32 (from tensorflow.python.ops.math_ops) is deprecated and will be removed in a future version.\n",
            "Instructions for updating:\n",
            "Use tf.cast instead.\n",
            "Train on 20000 samples, validate on 5000 samples\n",
            "Epoch 1/10\n",
            "20000/20000 [==============================] - 81s 4ms/step - loss: 0.5923 - acc: 0.6876 - val_loss: 0.4976 - val_acc: 0.7806\n",
            "Epoch 2/10\n",
            "20000/20000 [==============================] - 84s 4ms/step - loss: 0.5056 - acc: 0.7634 - val_loss: 0.4467 - val_acc: 0.8110\n",
            "Epoch 3/10\n",
            "20000/20000 [==============================] - 73s 4ms/step - loss: 0.4960 - acc: 0.7690 - val_loss: 0.4755 - val_acc: 0.7766\n",
            "Epoch 4/10\n",
            "20000/20000 [==============================] - 72s 4ms/step - loss: 0.4647 - acc: 0.7855 - val_loss: 0.4011 - val_acc: 0.8294\n",
            "Epoch 5/10\n",
            "20000/20000 [==============================] - 72s 4ms/step - loss: 0.4603 - acc: 0.7865 - val_loss: 0.3782 - val_acc: 0.8430\n",
            "Epoch 6/10\n",
            "20000/20000 [==============================] - 73s 4ms/step - loss: 0.4057 - acc: 0.8179 - val_loss: 0.3547 - val_acc: 0.8462\n",
            "Epoch 7/10\n",
            "20000/20000 [==============================] - 72s 4ms/step - loss: 0.3800 - acc: 0.8339 - val_loss: 0.3889 - val_acc: 0.8266\n",
            "Epoch 8/10\n",
            "20000/20000 [==============================] - 73s 4ms/step - loss: 0.3596 - acc: 0.8455 - val_loss: 0.3594 - val_acc: 0.8388\n",
            "Epoch 9/10\n",
            "20000/20000 [==============================] - 73s 4ms/step - loss: 0.3425 - acc: 0.8516 - val_loss: 0.3199 - val_acc: 0.8630\n",
            "Epoch 10/10\n",
            "20000/20000 [==============================] - 73s 4ms/step - loss: 0.3333 - acc: 0.8574 - val_loss: 0.3400 - val_acc: 0.8554\n"
          ],
          "name": "stdout"
        }
      ]
    },
    {
      "metadata": {
        "id": "bZAVPamE06pG",
        "colab_type": "code",
        "outputId": "027d46bb-7dc3-4acd-959f-c91ddf1c5e9a",
        "colab": {
          "base_uri": "https://localhost:8080/",
          "height": 571
        }
      },
      "cell_type": "code",
      "source": [
        "# summarize history for accuracy\n",
        "plt.plot(history.history['acc'])\n",
        "plt.plot(history.history['val_acc'])\n",
        "plt.title('model accuracy')\n",
        "plt.ylabel('accuracy')\n",
        "plt.xlabel('epoch')\n",
        "plt.legend(['train', 'test'], loc='upper left')\n",
        "plt.show()\n",
        "# summarize history for loss\n",
        "plt.plot(history.history['loss'])\n",
        "plt.plot(history.history['val_loss'])\n",
        "plt.title('model loss')\n",
        "plt.ylabel('loss')\n",
        "plt.xlabel('epoch')\n",
        "plt.legend(['train', 'test'], loc='upper left')\n",
        "plt.show()"
      ],
      "execution_count": 0,
      "outputs": [
        {
          "output_type": "display_data",
          "data": {
            "image/png": "[encoded data removed]",
            "text/plain": [
              "<Figure size 432x288 with 1 Axes>"
            ]
          },
          "metadata": {
            "tags": []
          }
        },
        {
          "output_type": "display_data",
          "data": {
            "image/png": "[encoded data removed]",
            "text/plain": [
              "<Figure size 432x288 with 1 Axes>"
            ]
          },
          "metadata": {
            "tags": []
          }
        }
      ]
    },
    {
      "metadata": {
        "id": "8115BEW3eC4Z",
        "colab_type": "text"
      },
      "cell_type": "markdown",
      "source": [
        "### Pretrained Glove"
      ]
    },
    {
      "metadata": {
        "id": "QaMDO5POJ9en",
        "colab_type": "code",
        "outputId": "c86ba1cc-9ef1-4103-8d9f-92f2a0351a21",
        "colab": {
          "base_uri": "https://localhost:8080/",
          "height": 35
        }
      },
      "cell_type": "code",
      "source": [
        "from gensim.scripts.glove2word2vec import glove2word2vec\n",
        "\n",
        "# to convert the GloVe file format to the word2vec file format\n",
        "glove_input_file = 'glove.6B.100d.txt'\n",
        "word2vec_output_file = 'glove.6B.100d.txt.word2vec'\n",
        "glove2word2vec(glove_input_file, word2vec_output_file)"
      ],
      "execution_count": 0,
      "outputs": [
        {
          "output_type": "execute_result",
          "data": {
            "text/plain": [
              "(400000, 100)"
            ]
          },
          "metadata": {
            "tags": []
          },
          "execution_count": 24
        }
      ]
    },
    {
      "metadata": {
        "id": "cSWpEqqVeDSq",
        "colab_type": "code",
        "outputId": "fc253c98-5069-489b-8ba3-f323ca16eb09",
        "colab": {
          "base_uri": "https://localhost:8080/",
          "height": 53
        }
      },
      "cell_type": "code",
      "source": [
        "from gensim.models import KeyedVectors\n",
        "\n",
        "%time word_vectors = KeyedVectors.load_word2vec_format('/content/glove.6B.100d.txt.word2vec', binary=False)"
      ],
      "execution_count": 0,
      "outputs": [
        {
          "output_type": "stream",
          "text": [
            "CPU times: user 37.5 s, sys: 455 ms, total: 37.9 s\n",
            "Wall time: 37.9 s\n"
          ],
          "name": "stdout"
        }
      ]
    },
    {
      "metadata": {
        "id": "GLzp322yeDW5",
        "colab_type": "code",
        "colab": {}
      },
      "cell_type": "code",
      "source": [
        "EMBEDDING_DIM = 100\n",
        "VOCAB_SIZE = min(len(word_index)+1, NUM_WORDS)\n",
        "embedding_matrix = np.zeros((VOCAB_SIZE, EMBEDDING_DIM))\n",
        "\n",
        "for word, i in word_index.items():\n",
        "  \n",
        "    if i>=NUM_WORDS:\n",
        "        continue\n",
        "    try:\n",
        "        embedding_vector = word_vectors[word]\n",
        "        embedding_matrix[i] = embedding_vector\n",
        "        \n",
        "    except KeyError:\n",
        "        embedding_matrix[i]=np.random.normal(0,np.sqrt(0.25), EMBEDDING_DIM)\n",
        "\n",
        "del(word_vectors)\n",
        "\n",
        "# load pre-trained word embeddings into an Embedding layer\n",
        "# note that we set trainable = False so as to keep the embeddings fixed\n",
        "embedding_layer = Embedding(VOCAB_SIZE,\n",
        "                            EMBEDDING_DIM,\n",
        "                            embeddings_initializer=Constant(embedding_matrix),\n",
        "                            input_length=MAX_SEQUENCE_LENGTH,\n",
        "                            trainable=False)"
      ],
      "execution_count": 0,
      "outputs": []
    },
    {
      "metadata": {
        "id": "UsxI2qegLb-a",
        "colab_type": "code",
        "outputId": "0421de83-3e1b-4a40-f398-070c7f2d10ea",
        "colab": {
          "base_uri": "https://localhost:8080/",
          "height": 53
        }
      },
      "cell_type": "code",
      "source": [
        "labels = data['sentiment'].values\n",
        "\n",
        "X, Y = sentences, labels\n",
        "\n",
        "train_x, val_x, train_y, val_y = train_test_split(X, Y, test_size=0.2, stratify=Y)\n",
        "\n",
        "train_y = to_categorical(train_y, num_classes=2)\n",
        "val_y = to_categorical(val_y, num_classes=2)\n",
        "\n",
        "print ('Training:', train_x.shape, train_y.shape)\n",
        "print ('Validation:', val_x.shape, val_y.shape)"
      ],
      "execution_count": 0,
      "outputs": [
        {
          "output_type": "stream",
          "text": [
            "Training: (20000, 200) (20000, 2)\n",
            "Validation: (5000, 200) (5000, 2)\n"
          ],
          "name": "stdout"
        }
      ]
    },
    {
      "metadata": {
        "id": "-rN3w5sdKvCa",
        "colab_type": "code",
        "outputId": "89ca6147-9f71-44be-9b41-08242f442e64",
        "colab": {
          "base_uri": "https://localhost:8080/",
          "height": 285
        }
      },
      "cell_type": "code",
      "source": [
        "num_classes = 2\n",
        "\n",
        "# input layer with shape = (MAX_SEQUENCE_LENGTH,)\n",
        "sequence_input = Input(shape=(MAX_SEQUENCE_LENGTH,), dtype='int32')\n",
        "# convert the sequence input to embedding from (MAX_SEQUENCE_LENGTH, ) -> (VOCAB_SIZE, EMBEDDING_DIM)\n",
        "embedded_sequences = embedding_layer(sequence_input)\n",
        "\n",
        "x = LSTM(100, dropout=0.2, recurrent_dropout=0.2)(embedded_sequences)\n",
        "preds = Dense(num_classes, activation='softmax')(x)\n",
        "\n",
        "model = Model(inputs=sequence_input, outputs=preds)\n",
        "\n",
        "model.compile(loss='categorical_crossentropy',\n",
        "              optimizer='adam',\n",
        "              metrics=['acc'])\n",
        "\n",
        "model.summary()"
      ],
      "execution_count": 0,
      "outputs": [
        {
          "output_type": "stream",
          "text": [
            "_________________________________________________________________\n",
            "Layer (type)                 Output Shape              Param #   \n",
            "=================================================================\n",
            "input_2 (InputLayer)         (None, 200)               0         \n",
            "_________________________________________________________________\n",
            "embedding_2 (Embedding)      (None, 200, 100)          2000000   \n",
            "_________________________________________________________________\n",
            "lstm_2 (LSTM)                (None, 100)               80400     \n",
            "_________________________________________________________________\n",
            "dense_2 (Dense)              (None, 2)                 202       \n",
            "=================================================================\n",
            "Total params: 2,080,602\n",
            "Trainable params: 80,602\n",
            "Non-trainable params: 2,000,000\n",
            "_________________________________________________________________\n"
          ],
          "name": "stdout"
        }
      ]
    },
    {
      "metadata": {
        "id": "YzstQbbYLRU4",
        "colab_type": "code",
        "outputId": "ac77f0f9-351d-427d-a391-9051161f2a52",
        "colab": {
          "base_uri": "https://localhost:8080/",
          "height": 392
        }
      },
      "cell_type": "code",
      "source": [
        "es = EarlyStopping(monitor='val_acc', patience=3)\n",
        "\n",
        "history = model.fit(train_x, train_y,\n",
        "                    batch_size=128,\n",
        "                    epochs=10,\n",
        "                    validation_data=(val_x, val_y),\n",
        "                    callbacks =[es])"
      ],
      "execution_count": 0,
      "outputs": [
        {
          "output_type": "stream",
          "text": [
            "Train on 20000 samples, validate on 5000 samples\n",
            "Epoch 1/10\n",
            "20000/20000 [==============================] - 73s 4ms/step - loss: 0.6395 - acc: 0.6289 - val_loss: 0.5903 - val_acc: 0.7126\n",
            "Epoch 2/10\n",
            "20000/20000 [==============================] - 72s 4ms/step - loss: 0.5615 - acc: 0.7141 - val_loss: 0.4477 - val_acc: 0.8000\n",
            "Epoch 3/10\n",
            "20000/20000 [==============================] - 71s 4ms/step - loss: 0.4700 - acc: 0.7782 - val_loss: 0.3923 - val_acc: 0.8268\n",
            "Epoch 4/10\n",
            "20000/20000 [==============================] - 72s 4ms/step - loss: 0.4180 - acc: 0.8078 - val_loss: 0.3586 - val_acc: 0.8434\n",
            "Epoch 5/10\n",
            "20000/20000 [==============================] - 71s 4ms/step - loss: 0.3763 - acc: 0.8320 - val_loss: 0.3474 - val_acc: 0.8502\n",
            "Epoch 6/10\n",
            "20000/20000 [==============================] - 72s 4ms/step - loss: 0.3546 - acc: 0.8454 - val_loss: 0.3369 - val_acc: 0.8538\n",
            "Epoch 7/10\n",
            "20000/20000 [==============================] - 72s 4ms/step - loss: 0.3444 - acc: 0.8500 - val_loss: 0.3319 - val_acc: 0.8582\n",
            "Epoch 8/10\n",
            "20000/20000 [==============================] - 72s 4ms/step - loss: 0.3323 - acc: 0.8548 - val_loss: 0.3490 - val_acc: 0.8470\n",
            "Epoch 9/10\n",
            "20000/20000 [==============================] - 72s 4ms/step - loss: 0.3219 - acc: 0.8613 - val_loss: 0.3193 - val_acc: 0.8638\n",
            "Epoch 10/10\n",
            "20000/20000 [==============================] - 72s 4ms/step - loss: 0.3105 - acc: 0.8684 - val_loss: 0.3072 - val_acc: 0.8700\n"
          ],
          "name": "stdout"
        }
      ]
    },
    {
      "metadata": {
        "id": "bIuLC13S01v-",
        "colab_type": "code",
        "outputId": "b7c14a3f-edd8-4479-bc85-a49592b31a02",
        "colab": {
          "base_uri": "https://localhost:8080/",
          "height": 571
        }
      },
      "cell_type": "code",
      "source": [
        "# summarize history for accuracy\n",
        "plt.plot(history.history['acc'])\n",
        "plt.plot(history.history['val_acc'])\n",
        "plt.title('model accuracy')\n",
        "plt.ylabel('accuracy')\n",
        "plt.xlabel('epoch')\n",
        "plt.legend(['train', 'test'], loc='upper left')\n",
        "plt.show()\n",
        "# summarize history for loss\n",
        "plt.plot(history.history['loss'])\n",
        "plt.plot(history.history['val_loss'])\n",
        "plt.title('model loss')\n",
        "plt.ylabel('loss')\n",
        "plt.xlabel('epoch')\n",
        "plt.legend(['train', 'test'], loc='upper left')\n",
        "plt.show()"
      ],
      "execution_count": 0,
      "outputs": [
        {
          "output_type": "display_data",
          "data": {
            "image/png": "[encoded data removed]",
            "text/plain": [
              "<Figure size 432x288 with 1 Axes>"
            ]
          },
          "metadata": {
            "tags": []
          }
        },
        {
          "output_type": "display_data",
          "data": {
            "image/png": "[encoded data removed]",
            "text/plain": [
              "<Figure size 432x288 with 1 Axes>"
            ]
          },
          "metadata": {
            "tags": []
          }
        }
      ]
    },
    {
      "metadata": {
        "colab_type": "text",
        "id": "bd3qOrYN4Bvz"
      },
      "cell_type": "markdown",
      "source": [
        "### Pretrained fasttext"
      ]
    },
    {
      "metadata": {
        "colab_type": "code",
        "outputId": "b0039303-e8b6-4af1-c560-673452642c21",
        "id": "J5SeYpnn4Bwk",
        "colab": {
          "base_uri": "https://localhost:8080/",
          "height": 53
        }
      },
      "cell_type": "code",
      "source": [
        "from gensim.models.wrappers import FastText\n",
        "\n",
        "%time word_vectors = FastText.load_fasttext_format('wiki.simple')"
      ],
      "execution_count": 0,
      "outputs": [
        {
          "output_type": "stream",
          "text": [
            "CPU times: user 23.9 s, sys: 1.58 s, total: 25.5 s\n",
            "Wall time: 39 s\n"
          ],
          "name": "stdout"
        }
      ]
    },
    {
      "metadata": {
        "colab_type": "code",
        "id": "XM9XpRkL4Bw3",
        "colab": {}
      },
      "cell_type": "code",
      "source": [
        "EMBEDDING_DIM = 300\n",
        "VOCAB_SIZE = min(len(word_index)+1, NUM_WORDS)\n",
        "embedding_matrix = np.zeros((VOCAB_SIZE, EMBEDDING_DIM))\n",
        "\n",
        "for word, i in word_index.items():\n",
        "  \n",
        "    if i>=NUM_WORDS:\n",
        "        continue\n",
        "    try:\n",
        "        embedding_vector = word_vectors[word]\n",
        "        embedding_matrix[i] = embedding_vector\n",
        "        \n",
        "    except KeyError:\n",
        "        embedding_matrix[i]=np.random.normal(0,np.sqrt(0.25), EMBEDDING_DIM)\n",
        "\n",
        "del(word_vectors)\n",
        "\n",
        "# load pre-trained word embeddings into an Embedding layer\n",
        "# note that we set trainable = False so as to keep the embeddings fixed\n",
        "embedding_layer = Embedding(VOCAB_SIZE,\n",
        "                            EMBEDDING_DIM,\n",
        "                            embeddings_initializer=Constant(embedding_matrix),\n",
        "                            input_length=MAX_SEQUENCE_LENGTH,\n",
        "                            trainable=False)"
      ],
      "execution_count": 0,
      "outputs": []
    },
    {
      "metadata": {
        "colab_type": "code",
        "outputId": "0b994aa7-16a9-4871-c465-07e28e006fbd",
        "id": "faPFIxnZ4BxC",
        "colab": {
          "base_uri": "https://localhost:8080/",
          "height": 53
        }
      },
      "cell_type": "code",
      "source": [
        "labels = data['sentiment'].values\n",
        "\n",
        "X, Y = sentences, labels\n",
        "\n",
        "train_x, val_x, train_y, val_y = train_test_split(X, Y, test_size=0.2, stratify=Y)\n",
        "\n",
        "train_y = to_categorical(train_y, num_classes=2)\n",
        "val_y = to_categorical(val_y, num_classes=2)\n",
        "\n",
        "print ('Training:', train_x.shape, train_y.shape)\n",
        "print ('Validation:', val_x.shape, val_y.shape)"
      ],
      "execution_count": 0,
      "outputs": [
        {
          "output_type": "stream",
          "text": [
            "Training: (20000, 200) (20000, 2)\n",
            "Validation: (5000, 200) (5000, 2)\n"
          ],
          "name": "stdout"
        }
      ]
    },
    {
      "metadata": {
        "colab_type": "code",
        "outputId": "8ca92722-e68a-4c95-93f8-0f84873f114e",
        "id": "UjokcuoI4BxN",
        "colab": {
          "base_uri": "https://localhost:8080/",
          "height": 285
        }
      },
      "cell_type": "code",
      "source": [
        "num_classes = 2\n",
        "\n",
        "# input layer with shape = (MAX_SEQUENCE_LENGTH,)\n",
        "sequence_input = Input(shape=(MAX_SEQUENCE_LENGTH,), dtype='int32')\n",
        "# convert the sequence input to embedding from (MAX_SEQUENCE_LENGTH, ) -> (VOCAB_SIZE, EMBEDDING_DIM)\n",
        "embedded_sequences = embedding_layer(sequence_input)\n",
        "\n",
        "x = LSTM(256, dropout=0.2, recurrent_dropout=0.2)(embedded_sequences)\n",
        "preds = Dense(num_classes, activation='softmax')(x)\n",
        "\n",
        "model = Model(inputs=sequence_input, outputs=preds)\n",
        "\n",
        "model.compile(loss='categorical_crossentropy',\n",
        "              optimizer='adam',\n",
        "              metrics=['acc'])\n",
        "\n",
        "model.summary()"
      ],
      "execution_count": 0,
      "outputs": [
        {
          "output_type": "stream",
          "text": [
            "_________________________________________________________________\n",
            "Layer (type)                 Output Shape              Param #   \n",
            "=================================================================\n",
            "input_3 (InputLayer)         (None, 200)               0         \n",
            "_________________________________________________________________\n",
            "embedding_3 (Embedding)      (None, 200, 300)          6000000   \n",
            "_________________________________________________________________\n",
            "lstm_3 (LSTM)                (None, 256)               570368    \n",
            "_________________________________________________________________\n",
            "dense_3 (Dense)              (None, 2)                 514       \n",
            "=================================================================\n",
            "Total params: 6,570,882\n",
            "Trainable params: 570,882\n",
            "Non-trainable params: 6,000,000\n",
            "_________________________________________________________________\n"
          ],
          "name": "stdout"
        }
      ]
    },
    {
      "metadata": {
        "colab_type": "code",
        "outputId": "584e4775-4e19-465f-9ed8-b84ff60fb660",
        "id": "fuNYZwmL4Bxc",
        "colab": {
          "base_uri": "https://localhost:8080/",
          "height": 392
        }
      },
      "cell_type": "code",
      "source": [
        "es = EarlyStopping(monitor='val_acc', patience=3)\n",
        "\n",
        "history = model.fit(train_x, train_y,\n",
        "                    batch_size=128,\n",
        "                    epochs=10,\n",
        "                    validation_data=(val_x, val_y),\n",
        "                    callbacks =[es])"
      ],
      "execution_count": 0,
      "outputs": [
        {
          "output_type": "stream",
          "text": [
            "Train on 20000 samples, validate on 5000 samples\n",
            "Epoch 1/10\n",
            "20000/20000 [==============================] - 75s 4ms/step - loss: 0.6177 - acc: 0.6426 - val_loss: 0.5850 - val_acc: 0.6876\n",
            "Epoch 2/10\n",
            "20000/20000 [==============================] - 72s 4ms/step - loss: 0.5628 - acc: 0.7018 - val_loss: 0.4878 - val_acc: 0.7802\n",
            "Epoch 3/10\n",
            "20000/20000 [==============================] - 72s 4ms/step - loss: 0.5206 - acc: 0.7367 - val_loss: 0.5119 - val_acc: 0.7462\n",
            "Epoch 4/10\n",
            "20000/20000 [==============================] - 72s 4ms/step - loss: 0.4621 - acc: 0.7782 - val_loss: 0.3869 - val_acc: 0.8200\n",
            "Epoch 5/10\n",
            "20000/20000 [==============================] - 72s 4ms/step - loss: 0.4011 - acc: 0.8175 - val_loss: 0.3578 - val_acc: 0.8456\n",
            "Epoch 6/10\n",
            "20000/20000 [==============================] - 72s 4ms/step - loss: 0.3574 - acc: 0.8410 - val_loss: 0.3418 - val_acc: 0.8524\n",
            "Epoch 7/10\n",
            "20000/20000 [==============================] - 72s 4ms/step - loss: 0.3355 - acc: 0.8499 - val_loss: 0.3282 - val_acc: 0.8584\n",
            "Epoch 8/10\n",
            "20000/20000 [==============================] - 72s 4ms/step - loss: 0.3173 - acc: 0.8636 - val_loss: 0.3257 - val_acc: 0.8560\n",
            "Epoch 9/10\n",
            "20000/20000 [==============================] - 72s 4ms/step - loss: 0.2990 - acc: 0.8694 - val_loss: 0.3172 - val_acc: 0.8624\n",
            "Epoch 10/10\n",
            "20000/20000 [==============================] - 72s 4ms/step - loss: 0.2815 - acc: 0.8781 - val_loss: 0.3164 - val_acc: 0.8616\n"
          ],
          "name": "stdout"
        }
      ]
    },
    {
      "metadata": {
        "colab_type": "code",
        "outputId": "18538546-0153-432f-e8ae-6954359d1142",
        "id": "SyxjMmgD4Bxs",
        "colab": {
          "base_uri": "https://localhost:8080/",
          "height": 571
        }
      },
      "cell_type": "code",
      "source": [
        "# summarize history for accuracy\n",
        "plt.plot(history.history['acc'])\n",
        "plt.plot(history.history['val_acc'])\n",
        "plt.title('model accuracy')\n",
        "plt.ylabel('accuracy')\n",
        "plt.xlabel('epoch')\n",
        "plt.legend(['train', 'test'], loc='upper left')\n",
        "plt.show()\n",
        "# summarize history for loss\n",
        "plt.plot(history.history['loss'])\n",
        "plt.plot(history.history['val_loss'])\n",
        "plt.title('model loss')\n",
        "plt.ylabel('loss')\n",
        "plt.xlabel('epoch')\n",
        "plt.legend(['train', 'test'], loc='upper left')\n",
        "plt.show()"
      ],
      "execution_count": 0,
      "outputs": [
        {
          "output_type": "display_data",
          "data": {
            "image/png": "[encoded data removed]",
            "text/plain": [
              "<Figure size 432x288 with 1 Axes>"
            ]
          },
          "metadata": {
            "tags": []
          }
        },
        {
          "output_type": "display_data",
          "data": {
            "image/png": "[encoded data removed]",
            "text/plain": [
              "<Figure size 432x288 with 1 Axes>"
            ]
          },
          "metadata": {
            "tags": []
          }
        }
      ]
    },
    {
      "metadata": {
        "id": "eBfTvO4Zd2u5",
        "colab_type": "text"
      },
      "cell_type": "markdown",
      "source": [
        "### Custom Word2Vec\n",
        "\n",
        "Creating a custom word2vec model i.e. from our own dataset instead of using pretrained model"
      ]
    },
    {
      "metadata": {
        "id": "i07q_-woEnEF",
        "colab_type": "code",
        "outputId": "54ffe839-10c4-40ea-b98e-795b836e72e3",
        "colab": {
          "base_uri": "https://localhost:8080/",
          "height": 53
        }
      },
      "cell_type": "code",
      "source": [
        "# BeautifulSoup is used to remove html tags from the text\n",
        "from bs4 import BeautifulSoup \n",
        "import re # For regular expressions\n",
        "\n",
        "# Initializing the train model\n",
        "from gensim.models import word2vec\n",
        "\n",
        "# Stopwords can be useful to undersand the semantics of the sentence.\n",
        "# Therefore stopwords are not removed while creating the word2vec model.\n",
        "# But they will be removed  while averaging feature vectors.\n",
        "from nltk.corpus import stopwords\n",
        "\n",
        "# word2vec expects a list of lists.\n",
        "# Using punkt tokenizer for better splitting of a paragraph into sentences.\n",
        "\n",
        "import nltk\n",
        "nltk.download('punkt')\n",
        "import nltk.data\n",
        "\n",
        "tokenizer = nltk.data.load('tokenizers/punkt/english.pickle')"
      ],
      "execution_count": 0,
      "outputs": [
        {
          "output_type": "stream",
          "text": [
            "[nltk_data] Downloading package punkt to /root/nltk_data...\n",
            "[nltk_data]   Unzipping tokenizers/punkt.zip.\n"
          ],
          "name": "stdout"
        }
      ]
    },
    {
      "metadata": {
        "id": "5tG7RqYZeJO6",
        "colab_type": "code",
        "colab": {}
      },
      "cell_type": "code",
      "source": [
        "# This function converts a text to a sequence of words.\n",
        "def review_wordlist(review, remove_stopwords=False):\n",
        "    \n",
        "    # Removing html tags\n",
        "    review_text = BeautifulSoup(review).get_text()\n",
        "    \n",
        "    # Removing non-letter.\n",
        "    review_text = re.sub(\"[^a-zA-Z]\",\" \",review_text)\n",
        "    \n",
        "    # Converting to lower case and splitting\n",
        "    words = review_text.lower().split()\n",
        "    \n",
        "    # Optionally remove stopwords\n",
        "    if remove_stopwords:\n",
        "        stops = set(stopwords.words(\"english\"))     \n",
        "        words = [w for w in words if not w in stops]\n",
        "    \n",
        "    return(words)\n"
      ],
      "execution_count": 0,
      "outputs": []
    },
    {
      "metadata": {
        "id": "s9soj9nreJha",
        "colab_type": "code",
        "colab": {}
      },
      "cell_type": "code",
      "source": [
        "# This function splits a review into sentences\n",
        "def review_sentences(review, tokenizer, remove_stopwords=True):\n",
        "    \n",
        "    # Using nltk tokenizer\n",
        "    raw_sentences = tokenizer.tokenize(review.strip())\n",
        "    sentences = []\n",
        "    \n",
        "    # Loop for each sentence\n",
        "    for raw_sentence in raw_sentences:\n",
        "        if len(raw_sentence)>0:\n",
        "            sentences.append(review_wordlist(raw_sentence, remove_stopwords))\n",
        "\n",
        "    # This returns the list of lists\n",
        "    return sentences\n"
      ],
      "execution_count": 0,
      "outputs": []
    },
    {
      "metadata": {
        "id": "cZ85IkX0eegd",
        "colab_type": "code",
        "outputId": "8bf506ba-41a8-4158-ac6e-b9905d5c55db",
        "colab": {
          "base_uri": "https://localhost:8080/",
          "height": 126
        }
      },
      "cell_type": "code",
      "source": [
        "sentences = []\n",
        "print(\"Parsing sentences from training set\")\n",
        "for review in data[\"review\"]:\n",
        "    sentences += review_sentences(review, tokenizer)"
      ],
      "execution_count": 0,
      "outputs": [
        {
          "output_type": "stream",
          "text": [
            "Parsing sentences from training set\n"
          ],
          "name": "stdout"
        },
        {
          "output_type": "stream",
          "text": [
            "/usr/local/lib/python3.6/dist-packages/bs4/__init__.py:273: UserWarning: \"b'.'\" looks like a filename, not markup. You should probably open this file and pass the filehandle into Beautiful Soup.\n",
            "  ' Beautiful Soup.' % markup)\n",
            "/usr/local/lib/python3.6/dist-packages/bs4/__init__.py:336: UserWarning: \"http://www.happierabroad.com\"\" looks like a URL. Beautiful Soup is not an HTTP client. You should probably use an HTTP client like requests to get the document behind the URL, and feed that document to Beautiful Soup.\n",
            "  ' that document to Beautiful Soup.' % decoded_markup\n"
          ],
          "name": "stderr"
        }
      ]
    },
    {
      "metadata": {
        "id": "usvGk0OtOh4Z",
        "colab_type": "code",
        "colab": {}
      },
      "cell_type": "code",
      "source": [
        "# Importing the built-in logging module\n",
        "import logging\n",
        "logging.basicConfig(format='%(asctime)s : %(levelname)s : %(message)s', level=logging.INFO)"
      ],
      "execution_count": 0,
      "outputs": []
    },
    {
      "metadata": {
        "id": "MFBa_hd0Em2g",
        "colab_type": "code",
        "outputId": "33b47876-4ab7-4024-c58b-4a67a68f7561",
        "colab": {
          "base_uri": "https://localhost:8080/",
          "height": 1752
        }
      },
      "cell_type": "code",
      "source": [
        "# Creating the model and setting values for the various parameters\n",
        "num_features = 150  # Word vector dimensionality\n",
        "min_word_count = 40 # Minimum word count\n",
        "num_workers = 4     # Number of parallel threads\n",
        "context = 10        # Context window size\n",
        "downsampling = 1e-3 # (0.001) Downsample setting for frequent words\n",
        "\n",
        "print(\"Training model....\")\n",
        "model = word2vec.Word2Vec(sentences,\n",
        "                          workers=num_workers,\n",
        "                          size=num_features,\n",
        "                          min_count=min_word_count,\n",
        "                          window=context,\n",
        "                          sample=downsampling)\n",
        "\n",
        "# To make the model memory efficient\n",
        "model.init_sims(replace=True)\n",
        "\n",
        "# Saving the model for later use. Can be loaded using Word2Vec.load()\n",
        "model_name = \"150features_40minwords_10context_imdb\"\n",
        "model.save(model_name)"
      ],
      "execution_count": 0,
      "outputs": [
        {
          "output_type": "stream",
          "text": [
            "2019-02-26 14:39:56,238 : WARNING : consider setting layer size to a multiple of 4 for greater performance\n",
            "2019-02-26 14:39:56,240 : INFO : collecting all words and their counts\n",
            "2019-02-26 14:39:56,241 : INFO : PROGRESS: at sentence #0, processed 0 words, keeping 0 word types\n",
            "2019-02-26 14:39:56,301 : INFO : PROGRESS: at sentence #10000, processed 114931 words, keeping 17627 word types\n",
            "2019-02-26 14:39:56,343 : INFO : PROGRESS: at sentence #20000, processed 228988 words, keeping 24797 word types\n",
            "2019-02-26 14:39:56,383 : INFO : PROGRESS: at sentence #30000, processed 339533 words, keeping 29883 word types\n",
            "2019-02-26 14:39:56,424 : INFO : PROGRESS: at sentence #40000, processed 453983 words, keeping 34196 word types\n"
          ],
          "name": "stderr"
        },
        {
          "output_type": "stream",
          "text": [
            "Training model....\n"
          ],
          "name": "stdout"
        },
        {
          "output_type": "stream",
          "text": [
            "2019-02-26 14:39:56,467 : INFO : PROGRESS: at sentence #50000, processed 565006 words, keeping 37609 word types\n",
            "2019-02-26 14:39:56,508 : INFO : PROGRESS: at sentence #60000, processed 676637 words, keeping 40571 word types\n",
            "2019-02-26 14:39:56,549 : INFO : PROGRESS: at sentence #70000, processed 789005 words, keeping 43180 word types\n",
            "2019-02-26 14:39:56,591 : INFO : PROGRESS: at sentence #80000, processed 899771 words, keeping 45561 word types\n",
            "2019-02-26 14:39:56,631 : INFO : PROGRESS: at sentence #90000, processed 1013453 words, keeping 47982 word types\n",
            "2019-02-26 14:39:56,672 : INFO : PROGRESS: at sentence #100000, processed 1125135 words, keeping 50054 word types\n",
            "2019-02-26 14:39:56,713 : INFO : PROGRESS: at sentence #110000, processed 1236261 words, keeping 51928 word types\n",
            "2019-02-26 14:39:56,756 : INFO : PROGRESS: at sentence #120000, processed 1348541 words, keeping 53966 word types\n",
            "2019-02-26 14:39:56,797 : INFO : PROGRESS: at sentence #130000, processed 1461911 words, keeping 55694 word types\n",
            "2019-02-26 14:39:56,837 : INFO : PROGRESS: at sentence #140000, processed 1568503 words, keeping 57193 word types\n",
            "2019-02-26 14:39:56,881 : INFO : PROGRESS: at sentence #150000, processed 1682622 words, keeping 58902 word types\n",
            "2019-02-26 14:39:56,922 : INFO : PROGRESS: at sentence #160000, processed 1794988 words, keeping 60464 word types\n",
            "2019-02-26 14:39:56,966 : INFO : PROGRESS: at sentence #170000, processed 1907744 words, keeping 61924 word types\n",
            "2019-02-26 14:39:57,007 : INFO : PROGRESS: at sentence #180000, processed 2018412 words, keeping 63343 word types\n",
            "2019-02-26 14:39:57,050 : INFO : PROGRESS: at sentence #190000, processed 2131820 words, keeping 64641 word types\n",
            "2019-02-26 14:39:57,092 : INFO : PROGRESS: at sentence #200000, processed 2245187 words, keeping 65934 word types\n",
            "2019-02-26 14:39:57,136 : INFO : PROGRESS: at sentence #210000, processed 2357380 words, keeping 67237 word types\n",
            "2019-02-26 14:39:57,178 : INFO : PROGRESS: at sentence #220000, processed 2470883 words, keeping 68544 word types\n",
            "2019-02-26 14:39:57,220 : INFO : PROGRESS: at sentence #230000, processed 2582936 words, keeping 69805 word types\n",
            "2019-02-26 14:39:57,264 : INFO : PROGRESS: at sentence #240000, processed 2697681 words, keeping 71014 word types\n",
            "2019-02-26 14:39:57,305 : INFO : PROGRESS: at sentence #250000, processed 2805851 words, keeping 72198 word types\n",
            "2019-02-26 14:39:57,354 : INFO : PROGRESS: at sentence #260000, processed 2916657 words, keeping 73325 word types\n",
            "2019-02-26 14:39:57,384 : INFO : collected 74065 word types from a corpus of 2988095 raw words and 266551 sentences\n",
            "2019-02-26 14:39:57,385 : INFO : Loading a fresh vocabulary\n",
            "2019-02-26 14:39:57,445 : INFO : effective_min_count=40 retains 8160 unique words (11% of original 74065, drops 65905)\n",
            "2019-02-26 14:39:57,446 : INFO : effective_min_count=40 leaves 2627279 word corpus (87% of original 2988095, drops 360816)\n",
            "2019-02-26 14:39:57,475 : INFO : deleting the raw counts dictionary of 74065 items\n",
            "2019-02-26 14:39:57,478 : INFO : sample=0.001 downsamples 30 most-common words\n",
            "2019-02-26 14:39:57,480 : INFO : downsampling leaves estimated 2494390 word corpus (94.9% of prior 2627279)\n",
            "2019-02-26 14:39:57,506 : INFO : estimated required memory for 8160 words and 150 dimensions: 13872000 bytes\n",
            "2019-02-26 14:39:57,508 : INFO : resetting layer weights\n",
            "2019-02-26 14:39:57,609 : INFO : training model with 4 workers on 8160 vocabulary and 150 features, using sg=0 hs=0 sample=0.001 negative=5 window=10\n",
            "2019-02-26 14:39:58,636 : INFO : EPOCH 1 - PROGRESS: at 16.53% examples, 409219 words/s, in_qsize 7, out_qsize 0\n",
            "2019-02-26 14:39:59,651 : INFO : EPOCH 1 - PROGRESS: at 33.96% examples, 418120 words/s, in_qsize 7, out_qsize 0\n",
            "2019-02-26 14:40:00,661 : INFO : EPOCH 1 - PROGRESS: at 51.81% examples, 425483 words/s, in_qsize 7, out_qsize 0\n",
            "2019-02-26 14:40:01,664 : INFO : EPOCH 1 - PROGRESS: at 69.21% examples, 426784 words/s, in_qsize 7, out_qsize 0\n",
            "2019-02-26 14:40:02,687 : INFO : EPOCH 1 - PROGRESS: at 86.44% examples, 426283 words/s, in_qsize 6, out_qsize 1\n",
            "2019-02-26 14:40:03,387 : INFO : worker thread finished; awaiting finish of 3 more threads\n",
            "2019-02-26 14:40:03,402 : INFO : worker thread finished; awaiting finish of 2 more threads\n",
            "2019-02-26 14:40:03,403 : INFO : worker thread finished; awaiting finish of 1 more threads\n",
            "2019-02-26 14:40:03,419 : INFO : worker thread finished; awaiting finish of 0 more threads\n",
            "2019-02-26 14:40:03,420 : INFO : EPOCH - 1 : training on 2988095 raw words (2494328 effective words) took 5.8s, 430025 effective words/s\n",
            "2019-02-26 14:40:04,432 : INFO : EPOCH 2 - PROGRESS: at 16.53% examples, 415910 words/s, in_qsize 7, out_qsize 0\n",
            "2019-02-26 14:40:05,453 : INFO : EPOCH 2 - PROGRESS: at 33.96% examples, 421616 words/s, in_qsize 8, out_qsize 1\n",
            "2019-02-26 14:40:06,465 : INFO : EPOCH 2 - PROGRESS: at 51.82% examples, 426100 words/s, in_qsize 6, out_qsize 1\n",
            "2019-02-26 14:40:07,482 : INFO : EPOCH 2 - PROGRESS: at 69.21% examples, 426240 words/s, in_qsize 7, out_qsize 0\n",
            "2019-02-26 14:40:08,509 : INFO : EPOCH 2 - PROGRESS: at 86.44% examples, 425473 words/s, in_qsize 7, out_qsize 0\n",
            "2019-02-26 14:40:09,188 : INFO : worker thread finished; awaiting finish of 3 more threads\n",
            "2019-02-26 14:40:09,203 : INFO : worker thread finished; awaiting finish of 2 more threads\n",
            "2019-02-26 14:40:09,221 : INFO : worker thread finished; awaiting finish of 1 more threads\n",
            "2019-02-26 14:40:09,230 : INFO : worker thread finished; awaiting finish of 0 more threads\n",
            "2019-02-26 14:40:09,231 : INFO : EPOCH - 2 : training on 2988095 raw words (2494528 effective words) took 5.8s, 430141 effective words/s\n",
            "2019-02-26 14:40:10,264 : INFO : EPOCH 3 - PROGRESS: at 16.53% examples, 407553 words/s, in_qsize 7, out_qsize 0\n",
            "2019-02-26 14:40:11,315 : INFO : EPOCH 3 - PROGRESS: at 35.33% examples, 426271 words/s, in_qsize 7, out_qsize 0\n",
            "2019-02-26 14:40:12,329 : INFO : EPOCH 3 - PROGRESS: at 54.15% examples, 437642 words/s, in_qsize 7, out_qsize 0\n",
            "2019-02-26 14:40:13,343 : INFO : EPOCH 3 - PROGRESS: at 72.83% examples, 443623 words/s, in_qsize 7, out_qsize 0\n",
            "2019-02-26 14:40:14,387 : INFO : EPOCH 3 - PROGRESS: at 90.72% examples, 441182 words/s, in_qsize 6, out_qsize 1\n",
            "2019-02-26 14:40:14,820 : INFO : worker thread finished; awaiting finish of 3 more threads\n",
            "2019-02-26 14:40:14,827 : INFO : worker thread finished; awaiting finish of 2 more threads\n",
            "2019-02-26 14:40:14,834 : INFO : worker thread finished; awaiting finish of 1 more threads\n",
            "2019-02-26 14:40:14,848 : INFO : worker thread finished; awaiting finish of 0 more threads\n",
            "2019-02-26 14:40:14,854 : INFO : EPOCH - 3 : training on 2988095 raw words (2494720 effective words) took 5.6s, 444614 effective words/s\n",
            "2019-02-26 14:40:15,900 : INFO : EPOCH 4 - PROGRESS: at 17.49% examples, 427107 words/s, in_qsize 8, out_qsize 0\n",
            "2019-02-26 14:40:16,953 : INFO : EPOCH 4 - PROGRESS: at 35.99% examples, 431361 words/s, in_qsize 7, out_qsize 0\n",
            "2019-02-26 14:40:17,983 : INFO : EPOCH 4 - PROGRESS: at 54.15% examples, 433415 words/s, in_qsize 7, out_qsize 0\n",
            "2019-02-26 14:40:19,021 : INFO : EPOCH 4 - PROGRESS: at 71.81% examples, 431808 words/s, in_qsize 7, out_qsize 0\n",
            "2019-02-26 14:40:20,029 : INFO : EPOCH 4 - PROGRESS: at 89.71% examples, 434700 words/s, in_qsize 7, out_qsize 0\n",
            "2019-02-26 14:40:20,557 : INFO : worker thread finished; awaiting finish of 3 more threads\n",
            "2019-02-26 14:40:20,564 : INFO : worker thread finished; awaiting finish of 2 more threads\n",
            "2019-02-26 14:40:20,566 : INFO : worker thread finished; awaiting finish of 1 more threads\n",
            "2019-02-26 14:40:20,577 : INFO : worker thread finished; awaiting finish of 0 more threads\n",
            "2019-02-26 14:40:20,578 : INFO : EPOCH - 4 : training on 2988095 raw words (2494537 effective words) took 5.7s, 436840 effective words/s\n",
            "2019-02-26 14:40:21,604 : INFO : EPOCH 5 - PROGRESS: at 17.49% examples, 435168 words/s, in_qsize 7, out_qsize 0\n",
            "2019-02-26 14:40:22,605 : INFO : EPOCH 5 - PROGRESS: at 35.65% examples, 442329 words/s, in_qsize 7, out_qsize 0\n",
            "2019-02-26 14:40:23,611 : INFO : EPOCH 5 - PROGRESS: at 53.82% examples, 444211 words/s, in_qsize 7, out_qsize 0\n",
            "2019-02-26 14:40:24,626 : INFO : EPOCH 5 - PROGRESS: at 71.81% examples, 444303 words/s, in_qsize 7, out_qsize 0\n",
            "2019-02-26 14:40:25,633 : INFO : EPOCH 5 - PROGRESS: at 89.40% examples, 443218 words/s, in_qsize 7, out_qsize 0\n",
            "2019-02-26 14:40:26,142 : INFO : worker thread finished; awaiting finish of 3 more threads\n",
            "2019-02-26 14:40:26,171 : INFO : worker thread finished; awaiting finish of 2 more threads\n",
            "2019-02-26 14:40:26,183 : INFO : worker thread finished; awaiting finish of 1 more threads\n",
            "2019-02-26 14:40:26,187 : INFO : worker thread finished; awaiting finish of 0 more threads\n",
            "2019-02-26 14:40:26,188 : INFO : EPOCH - 5 : training on 2988095 raw words (2494414 effective words) took 5.6s, 445537 effective words/s\n",
            "2019-02-26 14:40:26,191 : INFO : training on a 14940475 raw words (12472527 effective words) took 28.6s, 436397 effective words/s\n",
            "2019-02-26 14:40:26,193 : INFO : precomputing L2-norms of word weight vectors\n",
            "2019-02-26 14:40:26,275 : INFO : saving Word2Vec object under 150features_40minwords_10context_imdb, separately None\n",
            "2019-02-26 14:40:26,277 : INFO : not storing attribute vectors_norm\n",
            "2019-02-26 14:40:26,280 : INFO : not storing attribute cum_table\n",
            "2019-02-26 14:40:26,399 : INFO : saved 150features_40minwords_10context_imdb\n"
          ],
          "name": "stderr"
        }
      ]
    },
    {
      "metadata": {
        "id": "93Rh5xfIEm9-",
        "colab_type": "code",
        "outputId": "6043d1fe-2af7-4cbb-b25c-3fa8347f3d81",
        "colab": {
          "base_uri": "https://localhost:8080/",
          "height": 251
        }
      },
      "cell_type": "code",
      "source": [
        "model.wv.most_similar(\"awful\")"
      ],
      "execution_count": 0,
      "outputs": [
        {
          "output_type": "stream",
          "text": [
            "/usr/local/lib/python3.6/dist-packages/gensim/matutils.py:737: FutureWarning: Conversion of the second argument of issubdtype from `int` to `np.signedinteger` is deprecated. In future, it will be treated as `np.int64 == np.dtype(int).type`.\n",
            "  if np.issubdtype(vec.dtype, np.int):\n"
          ],
          "name": "stderr"
        },
        {
          "output_type": "execute_result",
          "data": {
            "text/plain": [
              "[('terrible', 0.8913172483444214),\n",
              " ('horrible', 0.8555285930633545),\n",
              " ('dreadful', 0.8114152550697327),\n",
              " ('sucks', 0.7771377563476562),\n",
              " ('lousy', 0.7676631808280945),\n",
              " ('abysmal', 0.7665973901748657),\n",
              " ('horrid', 0.7587701678276062),\n",
              " ('horrendous', 0.7528089284896851),\n",
              " ('crappy', 0.7453817129135132),\n",
              " ('atrocious', 0.7430322766304016)]"
            ]
          },
          "metadata": {
            "tags": []
          },
          "execution_count": 45
        }
      ]
    },
    {
      "metadata": {
        "id": "UPejLLyDs0uQ",
        "colab_type": "code",
        "outputId": "ed4a58c3-439a-4434-d33d-f44da3cd4c26",
        "colab": {
          "base_uri": "https://localhost:8080/",
          "height": 251
        }
      },
      "cell_type": "code",
      "source": [
        "model.wv.most_similar(\"amazing\")"
      ],
      "execution_count": 0,
      "outputs": [
        {
          "output_type": "stream",
          "text": [
            "/usr/local/lib/python3.6/dist-packages/gensim/matutils.py:737: FutureWarning: Conversion of the second argument of issubdtype from `int` to `np.signedinteger` is deprecated. In future, it will be treated as `np.int64 == np.dtype(int).type`.\n",
            "  if np.issubdtype(vec.dtype, np.int):\n"
          ],
          "name": "stderr"
        },
        {
          "output_type": "execute_result",
          "data": {
            "text/plain": [
              "[('fantastic', 0.8467389345169067),\n",
              " ('incredible', 0.8339853882789612),\n",
              " ('wonderful', 0.8116568922996521),\n",
              " ('outstanding', 0.7767613530158997),\n",
              " ('superb', 0.7459939122200012),\n",
              " ('excellent', 0.7354440093040466),\n",
              " ('stunning', 0.7323859333992004),\n",
              " ('magnificent', 0.7316502332687378),\n",
              " ('remarkable', 0.7282607555389404),\n",
              " ('brilliant', 0.7208505868911743)]"
            ]
          },
          "metadata": {
            "tags": []
          },
          "execution_count": 46
        }
      ]
    },
    {
      "metadata": {
        "id": "6ZBWU7F7LPz8",
        "colab_type": "code",
        "outputId": "8a82a76d-05e1-4910-af10-5d9681485ee4",
        "colab": {
          "base_uri": "https://localhost:8080/",
          "height": 53
        }
      },
      "cell_type": "code",
      "source": [
        "# This will give the total number of words in the vocabolary created from this dataset\n",
        "print (model.wv.vectors.shape)\n",
        "\n",
        "# Unique words in custom word vectors\n",
        "word_vectors = model.wv\n",
        "print ('Number of unique words in word vector: {}'.format(len(word_vectors.vocab)))"
      ],
      "execution_count": 0,
      "outputs": [
        {
          "output_type": "stream",
          "text": [
            "(8160, 150)\n",
            "Number of unique words in word vector: 8160\n"
          ],
          "name": "stdout"
        }
      ]
    },
    {
      "metadata": {
        "id": "bxtbvlTPs4Bp",
        "colab_type": "code",
        "colab": {}
      },
      "cell_type": "code",
      "source": [
        "EMBEDDING_DIM = 150\n",
        "VOCAB_SIZE = min(len(word_index)+1, NUM_WORDS)\n",
        "embedding_matrix = np.zeros((VOCAB_SIZE, EMBEDDING_DIM))\n",
        "\n",
        "for word, i in word_index.items():\n",
        "  \n",
        "    if i>=NUM_WORDS:\n",
        "        continue\n",
        "    try:\n",
        "        embedding_vector = word_vectors[word]\n",
        "        embedding_matrix[i] = embedding_vector\n",
        "        \n",
        "    except KeyError:\n",
        "        embedding_matrix[i] = np.random.normal(0,np.sqrt(0.25), EMBEDDING_DIM)\n",
        "\n",
        "del(word_vectors)\n",
        "\n",
        "# load pre-trained word embeddings into an Embedding layer\n",
        "# note that we set trainable = False so as to keep the embeddings fixed\n",
        "embedding_layer = Embedding(VOCAB_SIZE,\n",
        "                            EMBEDDING_DIM,\n",
        "                            embeddings_initializer=Constant(embedding_matrix),\n",
        "                            input_length=MAX_SEQUENCE_LENGTH,\n",
        "                            trainable=False)"
      ],
      "execution_count": 0,
      "outputs": []
    },
    {
      "metadata": {
        "id": "ywh_iEXbs4Pa",
        "colab_type": "code",
        "outputId": "dc73b778-ac24-49d0-fcfc-4262796358ca",
        "colab": {
          "base_uri": "https://localhost:8080/",
          "height": 71
        }
      },
      "cell_type": "code",
      "source": [
        "from keras.preprocessing.text import Tokenizer\n",
        "from keras.preprocessing.sequence import pad_sequences\n",
        "from keras.initializers import Constant\n",
        "from keras.utils import to_categorical\n",
        "\n",
        "NUM_WORDS = 20000\n",
        "MAX_SEQUENCE_LENGTH = 200\n",
        "\n",
        "# convert each word into token(integer) with maximum number of words based on frequency is 20000\n",
        "tokenizer = Tokenizer(num_words=NUM_WORDS, filters='!\"#$%&()*+,-./:;<=>?@[\\\\]^_`{|}~\\t\\n\\'', lower=True)\n",
        "tokenizer.fit_on_texts(data['review'])\n",
        "\n",
        "# stitch back the words into sequnces with filtering stop words and converting to lower text_to_word_sequence\n",
        "sequences = tokenizer.texts_to_sequences(data['review'])\n",
        "# convert all sentences to equal length of 200\n",
        "sentences = pad_sequences(sequences, maxlen=MAX_SEQUENCE_LENGTH)\n",
        "\n",
        "word_index = tokenizer.word_index\n",
        "print('Found %s unique tokens.' % len(word_index))\n",
        "\n",
        "labels = data['sentiment'].values\n",
        "\n",
        "X, Y = sentences, labels\n",
        "\n",
        "train_x, val_x, train_y, val_y = train_test_split(X, Y, test_size=0.2, stratify=Y)\n",
        "\n",
        "train_y = to_categorical(train_y, num_classes=2)\n",
        "val_y = to_categorical(val_y, num_classes=2)\n",
        "\n",
        "print ('Training:', train_x.shape, train_y.shape)\n",
        "print ('Validation:', val_x.shape, val_y.shape)"
      ],
      "execution_count": 0,
      "outputs": [
        {
          "output_type": "stream",
          "text": [
            "Found 75899 unique tokens.\n",
            "Training: (20000, 200) (20000, 2)\n",
            "Validation: (5000, 200) (5000, 2)\n"
          ],
          "name": "stdout"
        }
      ]
    },
    {
      "metadata": {
        "id": "6NFbaVfBPp2i",
        "colab_type": "code",
        "outputId": "14afb3fb-9eb3-4925-ec02-9c84f6562f2a",
        "colab": {
          "base_uri": "https://localhost:8080/",
          "height": 285
        }
      },
      "cell_type": "code",
      "source": [
        "num_classes = 2\n",
        "\n",
        "# input layer with shape = (MAX_SEQUENCE_LENGTH,)\n",
        "sequence_input = Input(shape=(MAX_SEQUENCE_LENGTH,), dtype='int32')\n",
        "# convert the sequence input to embedding from (MAX_SEQUENCE_LENGTH, ) -> (None, MAX_SEQUENCE_LENGTH, EMBEDDING_DIM)\n",
        "embedded_sequences = embedding_layer(sequence_input)\n",
        "\n",
        "x = LSTM(128, dropout=0.2, recurrent_dropout=0.2)(embedded_sequences)\n",
        "preds = Dense(num_classes, activation='softmax')(x)\n",
        "\n",
        "model = Model(inputs=sequence_input, outputs=preds)\n",
        "\n",
        "model.compile(loss='categorical_crossentropy',\n",
        "              optimizer='adam',\n",
        "              metrics=['acc'])\n",
        "\n",
        "model.summary()"
      ],
      "execution_count": 0,
      "outputs": [
        {
          "output_type": "stream",
          "text": [
            "_________________________________________________________________\n",
            "Layer (type)                 Output Shape              Param #   \n",
            "=================================================================\n",
            "input_4 (InputLayer)         (None, 200)               0         \n",
            "_________________________________________________________________\n",
            "embedding_4 (Embedding)      (None, 200, 150)          3000000   \n",
            "_________________________________________________________________\n",
            "lstm_4 (LSTM)                (None, 128)               142848    \n",
            "_________________________________________________________________\n",
            "dense_4 (Dense)              (None, 2)                 258       \n",
            "=================================================================\n",
            "Total params: 3,143,106\n",
            "Trainable params: 143,106\n",
            "Non-trainable params: 3,000,000\n",
            "_________________________________________________________________\n"
          ],
          "name": "stdout"
        }
      ]
    },
    {
      "metadata": {
        "id": "rcIzO8AdPsWP",
        "colab_type": "code",
        "outputId": "c32b8793-05d6-4257-a69a-132db4cc1eb3",
        "colab": {
          "base_uri": "https://localhost:8080/",
          "height": 392
        }
      },
      "cell_type": "code",
      "source": [
        "es = EarlyStopping(monitor='val_acc', patience=3)\n",
        "\n",
        "history = model.fit(train_x, train_y,\n",
        "                    batch_size=128,\n",
        "                    epochs=10,\n",
        "                    validation_data=(val_x, val_y),\n",
        "                    callbacks =[es])"
      ],
      "execution_count": 0,
      "outputs": [
        {
          "output_type": "stream",
          "text": [
            "Train on 20000 samples, validate on 5000 samples\n",
            "Epoch 1/10\n",
            "20000/20000 [==============================] - 74s 4ms/step - loss: 0.6215 - acc: 0.6460 - val_loss: 0.5230 - val_acc: 0.7406\n",
            "Epoch 2/10\n",
            "20000/20000 [==============================] - 73s 4ms/step - loss: 0.5553 - acc: 0.7139 - val_loss: 0.4860 - val_acc: 0.7726\n",
            "Epoch 3/10\n",
            "20000/20000 [==============================] - 72s 4ms/step - loss: 0.5448 - acc: 0.7227 - val_loss: 0.5194 - val_acc: 0.7532\n",
            "Epoch 4/10\n",
            "20000/20000 [==============================] - 72s 4ms/step - loss: 0.5065 - acc: 0.7510 - val_loss: 0.4257 - val_acc: 0.8050\n",
            "Epoch 5/10\n",
            "20000/20000 [==============================] - 73s 4ms/step - loss: 0.4844 - acc: 0.7659 - val_loss: 0.4134 - val_acc: 0.8192\n",
            "Epoch 6/10\n",
            "20000/20000 [==============================] - 73s 4ms/step - loss: 0.4588 - acc: 0.7823 - val_loss: 0.4457 - val_acc: 0.7974\n",
            "Epoch 7/10\n",
            "20000/20000 [==============================] - 72s 4ms/step - loss: 0.4403 - acc: 0.7963 - val_loss: 0.4072 - val_acc: 0.8214\n",
            "Epoch 8/10\n",
            "20000/20000 [==============================] - 73s 4ms/step - loss: 0.4240 - acc: 0.8045 - val_loss: 0.3800 - val_acc: 0.8312\n",
            "Epoch 9/10\n",
            "20000/20000 [==============================] - 72s 4ms/step - loss: 0.4079 - acc: 0.8127 - val_loss: 0.3834 - val_acc: 0.8388\n",
            "Epoch 10/10\n",
            "20000/20000 [==============================] - 73s 4ms/step - loss: 0.3932 - acc: 0.8219 - val_loss: 0.3705 - val_acc: 0.8390\n"
          ],
          "name": "stdout"
        }
      ]
    },
    {
      "metadata": {
        "id": "Jyir-rjO0wxQ",
        "colab_type": "code",
        "outputId": "a7f699b5-ff2d-4b46-8b19-1e64beac4e3d",
        "colab": {
          "base_uri": "https://localhost:8080/",
          "height": 571
        }
      },
      "cell_type": "code",
      "source": [
        "# summarize history for accuracy\n",
        "plt.plot(history.history['acc'])\n",
        "plt.plot(history.history['val_acc'])\n",
        "plt.title('model accuracy')\n",
        "plt.ylabel('accuracy')\n",
        "plt.xlabel('epoch')\n",
        "plt.legend(['train', 'test'], loc='upper left')\n",
        "plt.show()\n",
        "# summarize history for loss\n",
        "plt.plot(history.history['loss'])\n",
        "plt.plot(history.history['val_loss'])\n",
        "plt.title('model loss')\n",
        "plt.ylabel('loss')\n",
        "plt.xlabel('epoch')\n",
        "plt.legend(['train', 'test'], loc='upper left')\n",
        "plt.show()"
      ],
      "execution_count": 0,
      "outputs": [
        {
          "output_type": "display_data",
          "data": {
            "image/png": "[encoded data removed]",
            "text/plain": [
              "<Figure size 432x288 with 1 Axes>"
            ]
          },
          "metadata": {
            "tags": []
          }
        },
        {
          "output_type": "display_data",
          "data": {
            "image/png": "[encoded data removed]",
            "text/plain": [
              "<Figure size 432x288 with 1 Axes>"
            ]
          },
          "metadata": {
            "tags": []
          }
        }
      ]
    },
    {
      "metadata": {
        "id": "ix6Y7FYsOiEI",
        "colab_type": "text"
      },
      "cell_type": "markdown",
      "source": [
        "## spaCy"
      ]
    },
    {
      "metadata": {
        "id": "NwxCr9HxOlCn",
        "colab_type": "code",
        "colab": {}
      },
      "cell_type": "code",
      "source": [
        "import spacy\n",
        "import string\n",
        "from time import time\n",
        "from keras.utils import to_categorical\n",
        "\n",
        "nlp = spacy.load('en_core_web_md')\n",
        "\n",
        "# Clean text before feeding it to spaCy\n",
        "punctuations = string.punctuation\n",
        "\n",
        "import nltk\n",
        "nltk.download('stopwords')\n",
        "from nltk.corpus import stopwords\n",
        "stopwords = stopwords.words('english')"
      ],
      "execution_count": 0,
      "outputs": []
    },
    {
      "metadata": {
        "id": "ynBtp7iGOlfm",
        "colab_type": "code",
        "outputId": "83feeb39-4df5-4c61-c457-a6023f8c5207",
        "colab": {
          "base_uri": "https://localhost:8080/",
          "height": 53
        }
      },
      "cell_type": "code",
      "source": [
        "%%time\n",
        "\n",
        "# Define function to cleanup text by removing personal pronouns, stopwords, and puncuation\n",
        "def cleanup_text(sentences, logging=False):\n",
        "    texts = []\n",
        "    counter = 1\n",
        "    for word in sentences:\n",
        "        if counter % 1000 == 0 and logging:\n",
        "            print(\"Processed %d out of %d documents.\" % (counter, len(word)))\n",
        "        counter += 1\n",
        "        doc = nlp(word, disable=['parser', 'ner'])\n",
        "        tokens = [tok.lemma_.lower().strip() for tok in doc if tok.lemma_ != '-PRON-']\n",
        "        tokens = [tok for tok in tokens if tok not in stopwords and tok not in punctuations]\n",
        "        tokens = ' '.join(tokens)\n",
        "        texts.append(tokens)\n",
        "    return texts\n",
        "  \n",
        "sent = cleanup_text(data['review'])  "
      ],
      "execution_count": 0,
      "outputs": [
        {
          "output_type": "stream",
          "text": [
            "CPU times: user 14min 10s, sys: 9min 2s, total: 23min 12s\n",
            "Wall time: 17min 52s\n"
          ],
          "name": "stdout"
        }
      ]
    },
    {
      "metadata": {
        "id": "Q2sex3AYOli_",
        "colab_type": "code",
        "outputId": "7fc6e703-119e-4e54-e2bb-ae7ceaf121aa",
        "colab": {
          "base_uri": "https://localhost:8080/",
          "height": 35
        }
      },
      "cell_type": "code",
      "source": [
        "NUM_WORDS = 20000\n",
        "MAX_SEQUENCE_LENGTH = 200\n",
        "\n",
        "# convert each word into token(integer) with maximum number of words based on frequency is 20000\n",
        "tokenizer = Tokenizer(num_words=NUM_WORDS, filters='!\"#$%&()*+,-./:;<=>?@[\\\\]^_`{|}~\\t\\n\\'', lower=True)\n",
        "tokenizer.fit_on_texts(sent)\n",
        "\n",
        "# stitch back the words into sequnces with filtering stop words and converting to lower text_to_word_sequence\n",
        "sequences = tokenizer.texts_to_sequences(sent)\n",
        "# convert all sentences to equal length of 200\n",
        "sentences = pad_sequences(sequences, maxlen=MAX_SEQUENCE_LENGTH)\n",
        "\n",
        "word_index = tokenizer.word_index\n",
        "print('Found %s unique tokens.' % len(word_index))"
      ],
      "execution_count": 0,
      "outputs": [
        {
          "output_type": "stream",
          "text": [
            "Found 66179 unique tokens.\n"
          ],
          "name": "stdout"
        }
      ]
    },
    {
      "metadata": {
        "id": "_Xz3eln4d8YZ",
        "colab_type": "code",
        "outputId": "fe94cfb7-228a-47f8-c219-7d0e1c492957",
        "colab": {
          "base_uri": "https://localhost:8080/",
          "height": 53
        }
      },
      "cell_type": "code",
      "source": [
        "labels = data['sentiment'].values\n",
        "\n",
        "X, Y = sentences, labels\n",
        "\n",
        "train_x, val_x, train_y, val_y = train_test_split(X, Y, test_size=0.2, stratify=Y)\n",
        "\n",
        "train_y = to_categorical(train_y, num_classes=2)\n",
        "val_y = to_categorical(val_y, num_classes=2)\n",
        "\n",
        "print ('Training:', train_x.shape, train_y.shape)\n",
        "print ('Validation:', val_x.shape, val_y.shape)"
      ],
      "execution_count": 0,
      "outputs": [
        {
          "output_type": "stream",
          "text": [
            "Training: (20000, 200) (20000, 2)\n",
            "Validation: (5000, 200) (5000, 2)\n"
          ],
          "name": "stdout"
        }
      ]
    },
    {
      "metadata": {
        "id": "Fsjco59ed8kb",
        "colab_type": "code",
        "outputId": "1c47958c-84e4-45dc-cc64-ec1036fe3767",
        "colab": {
          "base_uri": "https://localhost:8080/",
          "height": 412
        }
      },
      "cell_type": "code",
      "source": [
        "num_classes = 2\n",
        "EMBED_DIM = 200\n",
        "VOCAB_SIZE = min(len(word_index)+1, NUM_WORDS)\n",
        "\n",
        "# input layer with shape = (MAX_SEQUENCE_LENGTH,)\n",
        "sequence_input = Input(shape=(MAX_SEQUENCE_LENGTH,), dtype='int32')\n",
        "# convert the sequence input to embedding from (MAX_SEQUENCE_LENGTH, ) -> (None, MAX_SEQUENCE_LENGTH, EMBEDDING_DIM)\n",
        "embedded_sequences = Embedding(VOCAB_SIZE, EMBED_DIM)(sequence_input)\n",
        "\n",
        "x = LSTM(128, dropout=0.2, recurrent_dropout=0.2)(embedded_sequences)\n",
        "preds = Dense(num_classes, activation='softmax')(x)\n",
        "\n",
        "model = Model(inputs=sequence_input, outputs=preds)\n",
        "\n",
        "model.compile(loss='categorical_crossentropy',\n",
        "              optimizer='adam',\n",
        "              metrics=['acc'])\n",
        "\n",
        "model.summary()"
      ],
      "execution_count": 0,
      "outputs": [
        {
          "output_type": "stream",
          "text": [
            "WARNING:tensorflow:From /usr/local/lib/python3.6/dist-packages/tensorflow/python/framework/op_def_library.py:263: colocate_with (from tensorflow.python.framework.ops) is deprecated and will be removed in a future version.\n",
            "Instructions for updating:\n",
            "Colocations handled automatically by placer.\n",
            "WARNING:tensorflow:From /usr/local/lib/python3.6/dist-packages/keras/backend/tensorflow_backend.py:3445: calling dropout (from tensorflow.python.ops.nn_ops) with keep_prob is deprecated and will be removed in a future version.\n",
            "Instructions for updating:\n",
            "Please use `rate` instead of `keep_prob`. Rate should be set to `rate = 1 - keep_prob`.\n",
            "_________________________________________________________________\n",
            "Layer (type)                 Output Shape              Param #   \n",
            "=================================================================\n",
            "input_2 (InputLayer)         (None, 200)               0         \n",
            "_________________________________________________________________\n",
            "embedding_1 (Embedding)      (None, 200, 200)          4000000   \n",
            "_________________________________________________________________\n",
            "lstm_1 (LSTM)                (None, 128)               168448    \n",
            "_________________________________________________________________\n",
            "dense_1 (Dense)              (None, 2)                 258       \n",
            "=================================================================\n",
            "Total params: 4,168,706\n",
            "Trainable params: 4,168,706\n",
            "Non-trainable params: 0\n",
            "_________________________________________________________________\n"
          ],
          "name": "stdout"
        }
      ]
    },
    {
      "metadata": {
        "id": "cizpw2U9d8gQ",
        "colab_type": "code",
        "outputId": "1b522ae7-8564-4880-d090-98b0260372a5",
        "colab": {
          "base_uri": "https://localhost:8080/",
          "height": 287
        }
      },
      "cell_type": "code",
      "source": [
        "es = EarlyStopping(monitor='val_acc', patience=3)\n",
        "\n",
        "history = model.fit(train_x, train_y,\n",
        "                    batch_size=128,\n",
        "                    epochs=10,\n",
        "                    validation_data=(val_x, val_y),\n",
        "                    callbacks =[es])"
      ],
      "execution_count": 0,
      "outputs": [
        {
          "output_type": "stream",
          "text": [
            "WARNING:tensorflow:From /usr/local/lib/python3.6/dist-packages/tensorflow/python/ops/math_ops.py:3066: to_int32 (from tensorflow.python.ops.math_ops) is deprecated and will be removed in a future version.\n",
            "Instructions for updating:\n",
            "Use tf.cast instead.\n",
            "Train on 20000 samples, validate on 5000 samples\n",
            "Epoch 1/10\n",
            "20000/20000 [==============================] - 162s 8ms/step - loss: 0.4376 - acc: 0.7972 - val_loss: 0.3452 - val_acc: 0.8582\n",
            "Epoch 2/10\n",
            "20000/20000 [==============================] - 140s 7ms/step - loss: 0.2356 - acc: 0.9116 - val_loss: 0.3932 - val_acc: 0.8700\n",
            "Epoch 3/10\n",
            "20000/20000 [==============================] - 141s 7ms/step - loss: 0.1681 - acc: 0.9406 - val_loss: 0.3703 - val_acc: 0.8480\n",
            "Epoch 4/10\n",
            "20000/20000 [==============================] - 139s 7ms/step - loss: 0.1188 - acc: 0.9587 - val_loss: 0.4036 - val_acc: 0.8540\n",
            "Epoch 5/10\n",
            "20000/20000 [==============================] - 141s 7ms/step - loss: 0.0905 - acc: 0.9679 - val_loss: 0.5185 - val_acc: 0.8586\n"
          ],
          "name": "stdout"
        }
      ]
    },
    {
      "metadata": {
        "id": "YQm4WawWzkVH",
        "colab_type": "code",
        "outputId": "66f72c5c-566d-4d0a-acf2-2835e47c6346",
        "colab": {
          "base_uri": "https://localhost:8080/",
          "height": 571
        }
      },
      "cell_type": "code",
      "source": [
        "# summarize history for accuracy\n",
        "plt.plot(history.history['acc'])\n",
        "plt.plot(history.history['val_acc'])\n",
        "plt.title('model accuracy')\n",
        "plt.ylabel('accuracy')\n",
        "plt.xlabel('epoch')\n",
        "plt.legend(['train', 'test'], loc='upper left')\n",
        "plt.show()\n",
        "# summarize history for loss\n",
        "plt.plot(history.history['loss'])\n",
        "plt.plot(history.history['val_loss'])\n",
        "plt.title('model loss')\n",
        "plt.ylabel('loss')\n",
        "plt.xlabel('epoch')\n",
        "plt.legend(['train', 'test'], loc='upper left')\n",
        "plt.show()"
      ],
      "execution_count": 0,
      "outputs": [
        {
          "output_type": "display_data",
          "data": {
            "image/png": "[encoded data removed]",
            "text/plain": [
              "<Figure size 432x288 with 1 Axes>"
            ]
          },
          "metadata": {
            "tags": []
          }
        },
        {
          "output_type": "display_data",
          "data": {
            "image/png": "[encoded data removed]",
            "text/plain": [
              "<Figure size 432x288 with 1 Axes>"
            ]
          },
          "metadata": {
            "tags": []
          }
        }
      ]
    },
    {
      "metadata": {
        "colab_type": "text",
        "id": "QIg8QlOX94AC"
      },
      "cell_type": "markdown",
      "source": [
        "## fasttext"
      ]
    },
    {
      "metadata": {
        "colab_type": "code",
        "id": "dk5n37D694AR",
        "colab": {}
      },
      "cell_type": "code",
      "source": [
        "import io\n",
        "from tqdm import tqdm\n",
        "\n",
        "# def load_vectors(fname): \n",
        "#     fin = io.open(fname, 'r', encoding='utf-8', newline='\\n', errors='ignore')\n",
        "#     n, d = map(int, fin.readline().split())\n",
        "#     data = {}\n",
        "#     for line in fin:\n",
        "#         tokens = line.rstrip().split(' ')\n",
        "#         data[tokens[0]] = map(float, tokens[1:])\n",
        "#     return data\n",
        "  \n",
        "def load_vectors(fname):  \n",
        "    embeddings_index = {}\n",
        "    f = io.open(fname, encoding='utf-8', newline='\\n', errors='ignore')\n",
        "    for line in tqdm(f):\n",
        "        values = line.rstrip().rsplit(' ')\n",
        "        word = values[0]\n",
        "        coefs = np.asarray(values[1:], dtype='float32')\n",
        "        embeddings_index[word] = coefs\n",
        "    f.close()\n",
        "    return embeddings_index"
      ],
      "execution_count": 0,
      "outputs": []
    },
    {
      "metadata": {
        "id": "OvUnMByj9-Rz",
        "colab_type": "code",
        "outputId": "91a097f2-8490-404e-cd11-d35fe416a304",
        "colab": {
          "base_uri": "https://localhost:8080/",
          "height": 71
        }
      },
      "cell_type": "code",
      "source": [
        "%time word_vectors = load_vectors('wiki.simple.vec')"
      ],
      "execution_count": 0,
      "outputs": [
        {
          "output_type": "stream",
          "text": [
            "111052it [00:09, 11540.02it/s]"
          ],
          "name": "stderr"
        },
        {
          "output_type": "stream",
          "text": [
            "CPU times: user 9.43 s, sys: 356 ms, total: 9.79 s\n",
            "Wall time: 9.63 s\n"
          ],
          "name": "stdout"
        },
        {
          "output_type": "stream",
          "text": [
            "\n"
          ],
          "name": "stderr"
        }
      ]
    },
    {
      "metadata": {
        "id": "6CRCG3uAEYnL",
        "colab_type": "code",
        "outputId": "7c2e48e2-7864-4aaa-844f-5566ff90737f",
        "colab": {
          "base_uri": "https://localhost:8080/",
          "height": 35
        }
      },
      "cell_type": "code",
      "source": [
        "from keras.preprocessing.text import Tokenizer\n",
        "from keras.preprocessing.sequence import pad_sequences\n",
        "from keras.initializers import Constant\n",
        "from keras.utils import to_categorical\n",
        "\n",
        "NUM_WORDS = 20000\n",
        "MAX_SEQUENCE_LENGTH = 200\n",
        "\n",
        "# convert each word into token(integer) with maximum number of words based on frequency is 20000\n",
        "tokenizer = Tokenizer(num_words=NUM_WORDS, filters='!\"#$%&()*+,-./:;<=>?@[\\\\]^_`{|}~\\t\\n\\'', lower=True)\n",
        "tokenizer.fit_on_texts(data['review'])\n",
        "\n",
        "# stitch back the words into sequnces with filtering stop words and converting to lower text_to_word_sequence\n",
        "sequences = tokenizer.texts_to_sequences(data['review'])\n",
        "# convert all sentences to equal length of 200\n",
        "sentences = pad_sequences(sequences, maxlen=MAX_SEQUENCE_LENGTH)\n",
        "\n",
        "word_index = tokenizer.word_index\n",
        "print('Found %s unique tokens.' % len(word_index))"
      ],
      "execution_count": 0,
      "outputs": [
        {
          "output_type": "stream",
          "text": [
            "Found 75899 unique tokens.\n"
          ],
          "name": "stdout"
        }
      ]
    },
    {
      "metadata": {
        "colab_type": "code",
        "id": "RfjVy8o594Ai",
        "colab": {}
      },
      "cell_type": "code",
      "source": [
        "EMBEDDING_DIM = 300\n",
        "VOCAB_SIZE = min(len(word_index)+1, NUM_WORDS)\n",
        "embedding_matrix = np.zeros((VOCAB_SIZE, EMBEDDING_DIM))\n",
        "\n",
        "for word, i in word_index.items():\n",
        "  \n",
        "    if i>=NUM_WORDS:\n",
        "        continue\n",
        "    try:\n",
        "        embedding_vector = word_vectors[word]\n",
        "        embedding_matrix[i] = embedding_vector\n",
        "        \n",
        "    except KeyError:\n",
        "        embedding_matrix[i] = np.random.normal(0,np.sqrt(0.25), EMBEDDING_DIM)\n",
        "\n",
        "del(word_vectors)\n",
        "\n",
        "# load pre-trained word embeddings into an Embedding layer\n",
        "# note that we set trainable = False so as to keep the embeddings fixed\n",
        "embedding_layer = Embedding(VOCAB_SIZE,\n",
        "                            EMBEDDING_DIM,\n",
        "                            embeddings_initializer=Constant(embedding_matrix),\n",
        "                            input_length=MAX_SEQUENCE_LENGTH,\n",
        "                            trainable=False)"
      ],
      "execution_count": 0,
      "outputs": []
    },
    {
      "metadata": {
        "colab_type": "code",
        "id": "3G_CRwba94At",
        "outputId": "5e4b2a75-fdaf-41e0-a6a8-a28787e52614",
        "colab": {
          "base_uri": "https://localhost:8080/",
          "height": 53
        }
      },
      "cell_type": "code",
      "source": [
        "labels = data['sentiment'].values\n",
        "\n",
        "X, Y = sentences, labels\n",
        "\n",
        "train_x, val_x, train_y, val_y = train_test_split(X, Y, test_size=0.2, stratify=Y)\n",
        "\n",
        "train_y = to_categorical(train_y, num_classes=2)\n",
        "val_y = to_categorical(val_y, num_classes=2)\n",
        "\n",
        "print ('Training:', train_x.shape, train_y.shape)\n",
        "print ('Validation:', val_x.shape, val_y.shape)"
      ],
      "execution_count": 0,
      "outputs": [
        {
          "output_type": "stream",
          "text": [
            "Training: (20000, 200) (20000, 2)\n",
            "Validation: (5000, 200) (5000, 2)\n"
          ],
          "name": "stdout"
        }
      ]
    },
    {
      "metadata": {
        "colab_type": "code",
        "id": "0N9X5u0m94A4",
        "outputId": "2397008d-a691-463d-ba05-8e71665ace10",
        "colab": {
          "base_uri": "https://localhost:8080/",
          "height": 285
        }
      },
      "cell_type": "code",
      "source": [
        "num_classes = 2\n",
        "\n",
        "# input layer with shape = (MAX_SEQUENCE_LENGTH,)\n",
        "sequence_input = Input(shape=(MAX_SEQUENCE_LENGTH,), dtype='int32')\n",
        "# convert the sequence input to embedding from (MAX_SEQUENCE_LENGTH, ) -> (None, MAX_SEQUENCE_LENGTH, EMBEDDING_DIM)\n",
        "embedded_sequences = embedding_layer(sequence_input)\n",
        "\n",
        "x = LSTM(256, dropout=0.2, recurrent_dropout=0.2)(embedded_sequences)\n",
        "preds = Dense(num_classes, activation='softmax')(x)\n",
        "\n",
        "model = Model(inputs=sequence_input, outputs=preds)\n",
        "\n",
        "model.compile(loss='categorical_crossentropy',\n",
        "              optimizer='adam',\n",
        "              metrics=['acc'])\n",
        "\n",
        "model.summary()"
      ],
      "execution_count": 0,
      "outputs": [
        {
          "output_type": "stream",
          "text": [
            "_________________________________________________________________\n",
            "Layer (type)                 Output Shape              Param #   \n",
            "=================================================================\n",
            "input_7 (InputLayer)         (None, 200)               0         \n",
            "_________________________________________________________________\n",
            "embedding_6 (Embedding)      (None, 200, 300)          6000000   \n",
            "_________________________________________________________________\n",
            "lstm_7 (LSTM)                (None, 256)               570368    \n",
            "_________________________________________________________________\n",
            "dense_7 (Dense)              (None, 2)                 514       \n",
            "=================================================================\n",
            "Total params: 6,570,882\n",
            "Trainable params: 570,882\n",
            "Non-trainable params: 6,000,000\n",
            "_________________________________________________________________\n"
          ],
          "name": "stdout"
        }
      ]
    },
    {
      "metadata": {
        "colab_type": "code",
        "id": "CDgzVAA694BE",
        "outputId": "c510b9ba-857f-4138-d71d-02677efb2acc",
        "colab": {
          "base_uri": "https://localhost:8080/",
          "height": 392
        }
      },
      "cell_type": "code",
      "source": [
        "es = EarlyStopping(monitor='val_acc', patience=3)\n",
        "\n",
        "history = model.fit(train_x, train_y,\n",
        "                    batch_size=128,\n",
        "                    epochs=10,\n",
        "                    validation_data=(val_x, val_y),\n",
        "                    callbacks =[es])"
      ],
      "execution_count": 0,
      "outputs": [
        {
          "output_type": "stream",
          "text": [
            "Train on 20000 samples, validate on 5000 samples\n",
            "Epoch 1/10\n",
            "20000/20000 [==============================] - 75s 4ms/step - loss: 0.6032 - acc: 0.6583 - val_loss: 0.5221 - val_acc: 0.7390\n",
            "Epoch 2/10\n",
            "20000/20000 [==============================] - 73s 4ms/step - loss: 0.5401 - acc: 0.7190 - val_loss: 0.5058 - val_acc: 0.7574\n",
            "Epoch 3/10\n",
            "20000/20000 [==============================] - 73s 4ms/step - loss: 0.4962 - acc: 0.7547 - val_loss: 0.4520 - val_acc: 0.7884\n",
            "Epoch 4/10\n",
            "20000/20000 [==============================] - 73s 4ms/step - loss: 0.4576 - acc: 0.7776 - val_loss: 0.3925 - val_acc: 0.8184\n",
            "Epoch 5/10\n",
            "20000/20000 [==============================] - 72s 4ms/step - loss: 0.3966 - acc: 0.8175 - val_loss: 0.3760 - val_acc: 0.8264\n",
            "Epoch 6/10\n",
            "20000/20000 [==============================] - 73s 4ms/step - loss: 0.3589 - acc: 0.8391 - val_loss: 0.3451 - val_acc: 0.8416\n",
            "Epoch 7/10\n",
            "20000/20000 [==============================] - 72s 4ms/step - loss: 0.3363 - acc: 0.8486 - val_loss: 0.3283 - val_acc: 0.8512\n",
            "Epoch 8/10\n",
            "20000/20000 [==============================] - 73s 4ms/step - loss: 0.3150 - acc: 0.8628 - val_loss: 0.3169 - val_acc: 0.8620\n",
            "Epoch 9/10\n",
            "20000/20000 [==============================] - 73s 4ms/step - loss: 0.2896 - acc: 0.8776 - val_loss: 0.3135 - val_acc: 0.8642\n",
            "Epoch 10/10\n",
            "20000/20000 [==============================] - 73s 4ms/step - loss: 0.2716 - acc: 0.8863 - val_loss: 0.3200 - val_acc: 0.8602\n"
          ],
          "name": "stdout"
        }
      ]
    },
    {
      "metadata": {
        "colab_type": "code",
        "id": "JehEq5na94BO",
        "outputId": "48b5a64b-466a-4253-d020-2e8b9cdf8706",
        "colab": {
          "base_uri": "https://localhost:8080/",
          "height": 571
        }
      },
      "cell_type": "code",
      "source": [
        "# summarize history for accuracy\n",
        "plt.plot(history.history['acc'])\n",
        "plt.plot(history.history['val_acc'])\n",
        "plt.title('model accuracy')\n",
        "plt.ylabel('accuracy')\n",
        "plt.xlabel('epoch')\n",
        "plt.legend(['train', 'test'], loc='upper left')\n",
        "plt.show()\n",
        "# summarize history for loss\n",
        "plt.plot(history.history['loss'])\n",
        "plt.plot(history.history['val_loss'])\n",
        "plt.title('model loss')\n",
        "plt.ylabel('loss')\n",
        "plt.xlabel('epoch')\n",
        "plt.legend(['train', 'test'], loc='upper left')\n",
        "plt.show()"
      ],
      "execution_count": 0,
      "outputs": [
        {
          "output_type": "display_data",
          "data": {
            "image/png": "[encoded data removed]",
            "text/plain": [
              "<Figure size 432x288 with 1 Axes>"
            ]
          },
          "metadata": {
            "tags": []
          }
        },
        {
          "output_type": "display_data",
          "data": {
            "image/png": "[encoded data removed]",
            "text/plain": [
              "<Figure size 432x288 with 1 Axes>"
            ]
          },
          "metadata": {
            "tags": []
          }
        }
      ]
    },
    {
      "metadata": {
        "id": "wBph_OxEOnkH",
        "colab_type": "text"
      },
      "cell_type": "markdown",
      "source": [
        "## Custom Embedding Layer using LSTM"
      ]
    },
    {
      "metadata": {
        "id": "qUM5YxmHOveh",
        "colab_type": "code",
        "outputId": "252b52be-937a-4c53-ab13-d808981199ab",
        "colab": {
          "base_uri": "https://localhost:8080/",
          "height": 35
        }
      },
      "cell_type": "code",
      "source": [
        "from keras.preprocessing.text import Tokenizer\n",
        "from keras.preprocessing.sequence import pad_sequences\n",
        "from keras.initializers import Constant\n",
        "from keras.utils import to_categorical\n",
        "\n",
        "NUM_WORDS = 20000\n",
        "MAX_SEQUENCE_LENGTH = 200\n",
        "EMBED_DIM = 300\n",
        "\n",
        "# convert each word into token(integer) with maximum number of words based on frequency is 20000\n",
        "tokenizer = Tokenizer(num_words=NUM_WORDS, filters='!\"#$%&()*+,-./:;<=>?@[\\\\]^_`{|}~\\t\\n\\'', lower=True)\n",
        "tokenizer.fit_on_texts(data['review'])\n",
        "\n",
        "# stitch back the words into sequnces with filtering stop words and converting to lower text_to_word_sequence\n",
        "sequences = tokenizer.texts_to_sequences(data['review'])\n",
        "# convert all sentences to equal length of 200\n",
        "sentences = pad_sequences(sequences, maxlen=MAX_SEQUENCE_LENGTH)\n",
        "\n",
        "word_index = tokenizer.word_index\n",
        "print('Found %s unique tokens.' % len(word_index))"
      ],
      "execution_count": 0,
      "outputs": [
        {
          "output_type": "stream",
          "text": [
            "Found 75899 unique tokens.\n"
          ],
          "name": "stdout"
        }
      ]
    },
    {
      "metadata": {
        "id": "VyHGIfQYOwDH",
        "colab_type": "code",
        "outputId": "8d0459a8-d245-48e2-c484-85fc06e2b327",
        "colab": {
          "base_uri": "https://localhost:8080/",
          "height": 53
        }
      },
      "cell_type": "code",
      "source": [
        "labels = data['sentiment'].values\n",
        "\n",
        "X, Y = sentences, labels\n",
        "\n",
        "train_x, val_x, train_y, val_y = train_test_split(X, Y, test_size=0.2, stratify=Y)\n",
        "\n",
        "train_y = to_categorical(train_y, num_classes=2)\n",
        "val_y = to_categorical(val_y, num_classes=2)\n",
        "\n",
        "print ('Training:', train_x.shape, train_y.shape)\n",
        "print ('Validation:', val_x.shape, val_y.shape)"
      ],
      "execution_count": 0,
      "outputs": [
        {
          "output_type": "stream",
          "text": [
            "Training: (20000, 200) (20000, 2)\n",
            "Validation: (5000, 200) (5000, 2)\n"
          ],
          "name": "stdout"
        }
      ]
    },
    {
      "metadata": {
        "id": "gpECYps3ywdo",
        "colab_type": "code",
        "outputId": "96e660cb-1491-4a4f-e7a9-f48553c8fae1",
        "colab": {
          "base_uri": "https://localhost:8080/",
          "height": 285
        }
      },
      "cell_type": "code",
      "source": [
        "num_classes = 2\n",
        "VOCAB_SIZE = min(len(word_index)+1, NUM_WORDS)\n",
        "\n",
        "# input layer with shape = (MAX_SEQUENCE_LENGTH,)\n",
        "sequence_input = Input(shape=(MAX_SEQUENCE_LENGTH,), dtype='int32')\n",
        "# convert the sequence input to embedding from (MAX_SEQUENCE_LENGTH, ) -> (None, MAX_SEQUENCE_LENGTH,  EMBEDDING_DIM)\n",
        "embedded_sequences = Embedding(VOCAB_SIZE, EMBED_DIM)(sequence_input)\n",
        "\n",
        "x = LSTM(128, dropout=0.2, recurrent_dropout=0.2)(embedded_sequences)\n",
        "preds = Dense(num_classes, activation='softmax')(x)\n",
        "\n",
        "model = Model(inputs=sequence_input, outputs=preds)\n",
        "\n",
        "model.compile(loss='categorical_crossentropy',\n",
        "              optimizer='adam',\n",
        "              metrics=['acc'])\n",
        "\n",
        "model.summary()"
      ],
      "execution_count": 0,
      "outputs": [
        {
          "output_type": "stream",
          "text": [
            "_________________________________________________________________\n",
            "Layer (type)                 Output Shape              Param #   \n",
            "=================================================================\n",
            "input_8 (InputLayer)         (None, 200)               0         \n",
            "_________________________________________________________________\n",
            "embedding_7 (Embedding)      (None, 200, 300)          6000000   \n",
            "_________________________________________________________________\n",
            "lstm_8 (LSTM)                (None, 128)               219648    \n",
            "_________________________________________________________________\n",
            "dense_8 (Dense)              (None, 2)                 258       \n",
            "=================================================================\n",
            "Total params: 6,219,906\n",
            "Trainable params: 6,219,906\n",
            "Non-trainable params: 0\n",
            "_________________________________________________________________\n"
          ],
          "name": "stdout"
        }
      ]
    },
    {
      "metadata": {
        "id": "KJOXsiC-ywk6",
        "colab_type": "code",
        "outputId": "cacba0aa-9571-4c12-f901-036b5ba968cb",
        "colab": {
          "base_uri": "https://localhost:8080/",
          "height": 178
        }
      },
      "cell_type": "code",
      "source": [
        "es = EarlyStopping(monitor='val_acc', patience=3)\n",
        "\n",
        "history = model.fit(train_x, train_y,\n",
        "                    batch_size=128,\n",
        "                    epochs=10,\n",
        "                    validation_data=(val_x, val_y),\n",
        "                    callbacks =[es])"
      ],
      "execution_count": 0,
      "outputs": [
        {
          "output_type": "stream",
          "text": [
            "Train on 20000 samples, validate on 5000 samples\n",
            "Epoch 1/10\n",
            "20000/20000 [==============================] - 81s 4ms/step - loss: 0.4678 - acc: 0.7759 - val_loss: 0.3535 - val_acc: 0.8464\n",
            "Epoch 2/10\n",
            "20000/20000 [==============================] - 79s 4ms/step - loss: 0.2824 - acc: 0.8909 - val_loss: 0.4198 - val_acc: 0.7996\n",
            "Epoch 3/10\n",
            "20000/20000 [==============================] - 79s 4ms/step - loss: 0.2216 - acc: 0.9157 - val_loss: 0.4070 - val_acc: 0.8460\n",
            "Epoch 4/10\n",
            "20000/20000 [==============================] - 80s 4ms/step - loss: 0.2083 - acc: 0.9193 - val_loss: 0.4524 - val_acc: 0.8076\n"
          ],
          "name": "stdout"
        }
      ]
    },
    {
      "metadata": {
        "id": "FdUnppQNzSFx",
        "colab_type": "code",
        "outputId": "ab2605ed-2624-45af-b2cd-0e45548e79c7",
        "colab": {
          "base_uri": "https://localhost:8080/",
          "height": 571
        }
      },
      "cell_type": "code",
      "source": [
        "# summarize history for accuracy\n",
        "plt.plot(history.history['acc'])\n",
        "plt.plot(history.history['val_acc'])\n",
        "plt.title('model accuracy')\n",
        "plt.ylabel('accuracy')\n",
        "plt.xlabel('epoch')\n",
        "plt.legend(['train', 'test'], loc='upper left')\n",
        "plt.show()\n",
        "# summarize history for loss\n",
        "plt.plot(history.history['loss'])\n",
        "plt.plot(history.history['val_loss'])\n",
        "plt.title('model loss')\n",
        "plt.ylabel('loss')\n",
        "plt.xlabel('epoch')\n",
        "plt.legend(['train', 'test'], loc='upper left')\n",
        "plt.show()"
      ],
      "execution_count": 0,
      "outputs": [
        {
          "output_type": "display_data",
          "data": {
            "image/png": "[encoded data removed]",
            "text/plain": [
              "<Figure size 432x288 with 1 Axes>"
            ]
          },
          "metadata": {
            "tags": []
          }
        },
        {
          "output_type": "display_data",
          "data": {
            "image/png": "[encoded data removed]",
            "text/plain": [
              "<Figure size 432x288 with 1 Axes>"
            ]
          },
          "metadata": {
            "tags": []
          }
        }
      ]
    },
    {
      "metadata": {
        "id": "B46HEf3g-7NF",
        "colab_type": "code",
        "colab": {}
      },
      "cell_type": "code",
      "source": [
        ""
      ],
      "execution_count": 0,
      "outputs": []
    },
    {
      "metadata": {
        "colab_type": "text",
        "id": "9ZFom7kTbPvW"
      },
      "cell_type": "markdown",
      "source": [
        "## Custom Embedding Layer using Bidirectional LSTM"
      ]
    },
    {
      "metadata": {
        "colab_type": "code",
        "outputId": "211af85d-cd94-463a-8e81-4f41499e8589",
        "id": "19ZUcumKbPvb",
        "colab": {
          "base_uri": "https://localhost:8080/",
          "height": 35
        }
      },
      "cell_type": "code",
      "source": [
        "from keras.preprocessing.text import Tokenizer\n",
        "from keras.preprocessing.sequence import pad_sequences\n",
        "from keras.initializers import Constant\n",
        "from keras.utils import to_categorical\n",
        "\n",
        "NUM_WORDS = 20000\n",
        "MAX_SEQUENCE_LENGTH = 200\n",
        "EMBED_DIM = 300\n",
        "\n",
        "# convert each word into token(integer) with maximum number of words based on frequency is 20000\n",
        "tokenizer = Tokenizer(num_words=NUM_WORDS, filters='!\"#$%&()*+,-./:;<=>?@[\\\\]^_`{|}~\\t\\n\\'', lower=True)\n",
        "tokenizer.fit_on_texts(data['review'])\n",
        "\n",
        "# stitch back the words into sequnces with filtering stop words and converting to lower text_to_word_sequence\n",
        "sequences = tokenizer.texts_to_sequences(data['review'])\n",
        "# convert all sentences to equal length of 200\n",
        "sentences = pad_sequences(sequences, maxlen=MAX_SEQUENCE_LENGTH)\n",
        "\n",
        "word_index = tokenizer.word_index\n",
        "print('Found %s unique tokens.' % len(word_index))"
      ],
      "execution_count": 0,
      "outputs": [
        {
          "output_type": "stream",
          "text": [
            "Found 75899 unique tokens.\n"
          ],
          "name": "stdout"
        }
      ]
    },
    {
      "metadata": {
        "colab_type": "code",
        "outputId": "57897dda-945b-40f7-e7c2-dee095340958",
        "id": "jezPTb7tbPvi",
        "colab": {
          "base_uri": "https://localhost:8080/",
          "height": 53
        }
      },
      "cell_type": "code",
      "source": [
        "labels = data['sentiment'].values\n",
        "\n",
        "X, Y = sentences, labels\n",
        "\n",
        "train_x, val_x, train_y, val_y = train_test_split(X, Y, test_size=0.2, stratify=Y)\n",
        "\n",
        "train_y = to_categorical(train_y, num_classes=2)\n",
        "val_y = to_categorical(val_y, num_classes=2)\n",
        "\n",
        "print ('Training:', train_x.shape, train_y.shape)\n",
        "print ('Validation:', val_x.shape, val_y.shape)"
      ],
      "execution_count": 0,
      "outputs": [
        {
          "output_type": "stream",
          "text": [
            "Training: (20000, 200) (20000, 2)\n",
            "Validation: (5000, 200) (5000, 2)\n"
          ],
          "name": "stdout"
        }
      ]
    },
    {
      "metadata": {
        "colab_type": "code",
        "outputId": "eb1fa613-e9c0-4ccb-d54f-1c1f5738053d",
        "id": "pJEh9cxpbPvp",
        "colab": {
          "base_uri": "https://localhost:8080/",
          "height": 359
        }
      },
      "cell_type": "code",
      "source": [
        "num_classes = 2\n",
        "VOCAB_SIZE = min(len(word_index)+1, NUM_WORDS)\n",
        "\n",
        "# input layer with shape = (MAX_SEQUENCE_LENGTH,)\n",
        "sequence_input = Input(shape=(MAX_SEQUENCE_LENGTH,), dtype='int32')\n",
        "# convert the sequence input to embedding from (MAX_SEQUENCE_LENGTH, ) -> (None, MAX_SEQUENCE_LENGTH, EMBEDDING_DIM)\n",
        "embedded_sequences = Embedding(VOCAB_SIZE, EMBED_DIM)(sequence_input)\n",
        "\n",
        "x = Bidirectional(LSTM(128, dropout=0.2, recurrent_dropout=0.2))(embedded_sequences)\n",
        "preds = Dense(num_classes, activation='softmax')(x)\n",
        "\n",
        "model = Model(inputs=sequence_input, outputs=preds)\n",
        "\n",
        "model.compile(loss='categorical_crossentropy',\n",
        "              optimizer='adam',\n",
        "              metrics=['acc'])\n",
        "\n",
        "model.summary()"
      ],
      "execution_count": 0,
      "outputs": [
        {
          "output_type": "stream",
          "text": [
            "WARNING:tensorflow:From /usr/local/lib/python3.6/dist-packages/keras/backend/tensorflow_backend.py:3445: calling dropout (from tensorflow.python.ops.nn_ops) with keep_prob is deprecated and will be removed in a future version.\n",
            "Instructions for updating:\n",
            "Please use `rate` instead of `keep_prob`. Rate should be set to `rate = 1 - keep_prob`.\n",
            "_________________________________________________________________\n",
            "Layer (type)                 Output Shape              Param #   \n",
            "=================================================================\n",
            "input_2 (InputLayer)         (None, 200)               0         \n",
            "_________________________________________________________________\n",
            "embedding_2 (Embedding)      (None, 200, 300)          6000000   \n",
            "_________________________________________________________________\n",
            "bidirectional_1 (Bidirection (None, 256)               439296    \n",
            "_________________________________________________________________\n",
            "dense_1 (Dense)              (None, 2)                 514       \n",
            "=================================================================\n",
            "Total params: 6,439,810\n",
            "Trainable params: 6,439,810\n",
            "Non-trainable params: 0\n",
            "_________________________________________________________________\n"
          ],
          "name": "stdout"
        }
      ]
    },
    {
      "metadata": {
        "colab_type": "code",
        "outputId": "38b49ca1-a207-478d-a18c-77b626672aca",
        "id": "x0bAj-FzbPvu",
        "colab": {
          "base_uri": "https://localhost:8080/",
          "height": 287
        }
      },
      "cell_type": "code",
      "source": [
        "es = EarlyStopping(monitor='val_acc', patience=3)\n",
        "\n",
        "history = model.fit(train_x, train_y,\n",
        "                    batch_size=128,\n",
        "                    epochs=10,\n",
        "                    validation_data=(val_x, val_y),\n",
        "                    callbacks =[es])"
      ],
      "execution_count": 0,
      "outputs": [
        {
          "output_type": "stream",
          "text": [
            "WARNING:tensorflow:From /usr/local/lib/python3.6/dist-packages/tensorflow/python/ops/math_ops.py:3066: to_int32 (from tensorflow.python.ops.math_ops) is deprecated and will be removed in a future version.\n",
            "Instructions for updating:\n",
            "Use tf.cast instead.\n",
            "Train on 20000 samples, validate on 5000 samples\n",
            "Epoch 1/10\n",
            "20000/20000 [==============================] - 163s 8ms/step - loss: 0.4896 - acc: 0.7560 - val_loss: 0.3622 - val_acc: 0.8462\n",
            "Epoch 2/10\n",
            "20000/20000 [==============================] - 170s 8ms/step - loss: 0.2948 - acc: 0.8813 - val_loss: 0.3490 - val_acc: 0.8670\n",
            "Epoch 3/10\n",
            "20000/20000 [==============================] - 312s 16ms/step - loss: 0.2422 - acc: 0.9084 - val_loss: 0.3454 - val_acc: 0.8608\n",
            "Epoch 4/10\n",
            "20000/20000 [==============================] - 330s 17ms/step - loss: 0.1917 - acc: 0.9272 - val_loss: 0.3974 - val_acc: 0.8514\n",
            "Epoch 5/10\n",
            "20000/20000 [==============================] - 266s 13ms/step - loss: 0.1250 - acc: 0.9551 - val_loss: 0.4385 - val_acc: 0.8376\n"
          ],
          "name": "stdout"
        }
      ]
    },
    {
      "metadata": {
        "colab_type": "code",
        "outputId": "06c37177-7efc-4fbd-b21a-6a491ca8be4f",
        "id": "i04onOIQbPvx",
        "colab": {
          "base_uri": "https://localhost:8080/",
          "height": 571
        }
      },
      "cell_type": "code",
      "source": [
        "# summarize history for accuracy\n",
        "plt.plot(history.history['acc'])\n",
        "plt.plot(history.history['val_acc'])\n",
        "plt.title('model accuracy')\n",
        "plt.ylabel('accuracy')\n",
        "plt.xlabel('epoch')\n",
        "plt.legend(['train', 'test'], loc='upper left')\n",
        "plt.show()\n",
        "# summarize history for loss\n",
        "plt.plot(history.history['loss'])\n",
        "plt.plot(history.history['val_loss'])\n",
        "plt.title('model loss')\n",
        "plt.ylabel('loss')\n",
        "plt.xlabel('epoch')\n",
        "plt.legend(['train', 'test'], loc='upper left')\n",
        "plt.show()"
      ],
      "execution_count": 0,
      "outputs": [
        {
          "output_type": "display_data",
          "data": {
            "image/png": "[encoded data removed]",
            "text/plain": [
              "<Figure size 432x288 with 1 Axes>"
            ]
          },
          "metadata": {
            "tags": []
          }
        },
        {
          "output_type": "display_data",
          "data": {
            "image/png": "[encoded data removed]",
            "text/plain": [
              "<Figure size 432x288 with 1 Axes>"
            ]
          },
          "metadata": {
            "tags": []
          }
        }
      ]
    },
    {
      "metadata": {
        "colab_type": "code",
        "id": "kGQU1ec8bPv1",
        "colab": {}
      },
      "cell_type": "code",
      "source": [
        ""
      ],
      "execution_count": 0,
      "outputs": []
    },
    {
      "metadata": {
        "colab_type": "text",
        "id": "AqqAGLaJDmP2"
      },
      "cell_type": "markdown",
      "source": [
        "## Custom Embedding Layer using GRU"
      ]
    },
    {
      "metadata": {
        "colab_type": "code",
        "outputId": "eb3ac4a1-117b-4221-8e0a-df6920a32cd5",
        "id": "JKOcSi7KDmQ7",
        "colab": {
          "base_uri": "https://localhost:8080/",
          "height": 285
        }
      },
      "cell_type": "code",
      "source": [
        "num_classes = 2\n",
        "VOCAB_SIZE = min(len(word_index)+1, NUM_WORDS)\n",
        "\n",
        "# input layer with shape = (MAX_SEQUENCE_LENGTH,)\n",
        "sequence_input = Input(shape=(MAX_SEQUENCE_LENGTH,), dtype='int32')\n",
        "# convert the sequence input to embedding from (MAX_SEQUENCE_LENGTH, ) -> (None, MAX_SEQUENCE_LENGTH, EMBEDDING_DIM)\n",
        "embedded_sequences = Embedding(VOCAB_SIZE, EMBED_DIM)(sequence_input)\n",
        "\n",
        "x = GRU(128, dropout=0.2, recurrent_dropout=0.2)(embedded_sequences)\n",
        "preds = Dense(num_classes, activation='softmax')(x)\n",
        "\n",
        "model = Model(inputs=sequence_input, outputs=preds)\n",
        "\n",
        "model.compile(loss='categorical_crossentropy',\n",
        "              optimizer='adam',\n",
        "              metrics=['acc'])\n",
        "\n",
        "model.summary()"
      ],
      "execution_count": 0,
      "outputs": [
        {
          "output_type": "stream",
          "text": [
            "_________________________________________________________________\n",
            "Layer (type)                 Output Shape              Param #   \n",
            "=================================================================\n",
            "input_11 (InputLayer)        (None, 200)               0         \n",
            "_________________________________________________________________\n",
            "embedding_10 (Embedding)     (None, 200, 300)          6000000   \n",
            "_________________________________________________________________\n",
            "gru_1 (GRU)                  (None, 128)               164736    \n",
            "_________________________________________________________________\n",
            "dense_9 (Dense)              (None, 2)                 258       \n",
            "=================================================================\n",
            "Total params: 6,164,994\n",
            "Trainable params: 6,164,994\n",
            "Non-trainable params: 0\n",
            "_________________________________________________________________\n"
          ],
          "name": "stdout"
        }
      ]
    },
    {
      "metadata": {
        "colab_type": "code",
        "outputId": "44f60515-beb4-4191-fa36-2b6979840159",
        "id": "r14VWVIcDmRN",
        "colab": {
          "base_uri": "https://localhost:8080/",
          "height": 285
        }
      },
      "cell_type": "code",
      "source": [
        "es = EarlyStopping(monitor='val_acc', patience=3)\n",
        "\n",
        "history = model.fit(train_x, train_y,\n",
        "                    batch_size=128,\n",
        "                    epochs=10,\n",
        "                    validation_data=(val_x, val_y),\n",
        "                    callbacks =[es])"
      ],
      "execution_count": 0,
      "outputs": [
        {
          "output_type": "stream",
          "text": [
            "Train on 20000 samples, validate on 5000 samples\n",
            "Epoch 1/10\n",
            "20000/20000 [==============================] - 72s 4ms/step - loss: 0.5299 - acc: 0.7245 - val_loss: 0.3942 - val_acc: 0.8226\n",
            "Epoch 2/10\n",
            "20000/20000 [==============================] - 69s 3ms/step - loss: 0.3156 - acc: 0.8728 - val_loss: 0.3766 - val_acc: 0.8374\n",
            "Epoch 3/10\n",
            "20000/20000 [==============================] - 69s 3ms/step - loss: 0.2430 - acc: 0.9035 - val_loss: 0.4216 - val_acc: 0.8254\n",
            "Epoch 4/10\n",
            "20000/20000 [==============================] - 69s 3ms/step - loss: 0.1556 - acc: 0.9452 - val_loss: 0.4551 - val_acc: 0.8522\n",
            "Epoch 5/10\n",
            "20000/20000 [==============================] - 69s 3ms/step - loss: 0.1047 - acc: 0.9634 - val_loss: 0.5046 - val_acc: 0.8318\n",
            "Epoch 6/10\n",
            "20000/20000 [==============================] - 69s 3ms/step - loss: 0.0745 - acc: 0.9761 - val_loss: 0.5858 - val_acc: 0.8364\n",
            "Epoch 7/10\n",
            "20000/20000 [==============================] - 69s 3ms/step - loss: 0.0534 - acc: 0.9831 - val_loss: 0.6552 - val_acc: 0.8330\n"
          ],
          "name": "stdout"
        }
      ]
    },
    {
      "metadata": {
        "colab_type": "code",
        "outputId": "d5071b43-81ab-4374-fd35-453d2dd3a059",
        "id": "Lu35QyfVDmRc",
        "colab": {
          "base_uri": "https://localhost:8080/",
          "height": 571
        }
      },
      "cell_type": "code",
      "source": [
        "# summarize history for accuracy\n",
        "plt.plot(history.history['acc'])\n",
        "plt.plot(history.history['val_acc'])\n",
        "plt.title('model accuracy')\n",
        "plt.ylabel('accuracy')\n",
        "plt.xlabel('epoch')\n",
        "plt.legend(['train', 'test'], loc='upper left')\n",
        "plt.show()\n",
        "# summarize history for loss\n",
        "plt.plot(history.history['loss'])\n",
        "plt.plot(history.history['val_loss'])\n",
        "plt.title('model loss')\n",
        "plt.ylabel('loss')\n",
        "plt.xlabel('epoch')\n",
        "plt.legend(['train', 'test'], loc='upper left')\n",
        "plt.show()"
      ],
      "execution_count": 0,
      "outputs": [
        {
          "output_type": "display_data",
          "data": {
            "image/png": "[encoded data removed]",
            "text/plain": [
              "<Figure size 432x288 with 1 Axes>"
            ]
          },
          "metadata": {
            "tags": []
          }
        },
        {
          "output_type": "display_data",
          "data": {
            "image/png": "[encoded data removed]",
            "text/plain": [
              "<Figure size 432x288 with 1 Axes>"
            ]
          },
          "metadata": {
            "tags": []
          }
        }
      ]
    },
    {
      "metadata": {
        "colab_type": "code",
        "id": "peMfRaebDmRv",
        "colab": {}
      },
      "cell_type": "code",
      "source": [
        ""
      ],
      "execution_count": 0,
      "outputs": []
    },
    {
      "metadata": {
        "colab_type": "text",
        "id": "C1sP7KCJDr4U"
      },
      "cell_type": "markdown",
      "source": [
        "## Custom Embedding Layer using cuDNNLSTM"
      ]
    },
    {
      "metadata": {
        "colab_type": "code",
        "outputId": "c574fa2f-3f49-412a-ca4e-3be070a5ad11",
        "id": "tctGKWCqDr5S",
        "colab": {
          "base_uri": "https://localhost:8080/",
          "height": 285
        }
      },
      "cell_type": "code",
      "source": [
        "num_classes = 2\n",
        "VOCAB_SIZE = min(len(word_index)+1, NUM_WORDS)\n",
        "\n",
        "# input layer with shape = (MAX_SEQUENCE_LENGTH,)\n",
        "sequence_input = Input(shape=(MAX_SEQUENCE_LENGTH,), dtype='int32')\n",
        "# convert the sequence input to embedding from (MAX_SEQUENCE_LENGTH, ) -> (None, MAX_SEQUENCE_LENGTH, EMBEDDING_DIM)\n",
        "embedded_sequences = Embedding(VOCAB_SIZE, EMBED_DIM)(sequence_input)\n",
        "\n",
        "x = CuDNNLSTM(128)(embedded_sequences)\n",
        "preds = Dense(num_classes, activation='softmax')(x)\n",
        "\n",
        "model = Model(inputs=sequence_input, outputs=preds)\n",
        "\n",
        "model.compile(loss='categorical_crossentropy',\n",
        "              optimizer='adam',\n",
        "              metrics=['acc'])\n",
        "\n",
        "model.summary()"
      ],
      "execution_count": 0,
      "outputs": [
        {
          "output_type": "stream",
          "text": [
            "_________________________________________________________________\n",
            "Layer (type)                 Output Shape              Param #   \n",
            "=================================================================\n",
            "input_14 (InputLayer)        (None, 200)               0         \n",
            "_________________________________________________________________\n",
            "embedding_13 (Embedding)     (None, 200, 300)          6000000   \n",
            "_________________________________________________________________\n",
            "cu_dnnlstm_1 (CuDNNLSTM)     (None, 128)               220160    \n",
            "_________________________________________________________________\n",
            "dense_10 (Dense)             (None, 2)                 258       \n",
            "=================================================================\n",
            "Total params: 6,220,418\n",
            "Trainable params: 6,220,418\n",
            "Non-trainable params: 0\n",
            "_________________________________________________________________\n"
          ],
          "name": "stdout"
        }
      ]
    },
    {
      "metadata": {
        "colab_type": "code",
        "outputId": "a75e9d8c-2799-4354-8932-698b05f5a73b",
        "id": "Fc8WQXetDr5h",
        "colab": {
          "base_uri": "https://localhost:8080/",
          "height": 249
        }
      },
      "cell_type": "code",
      "source": [
        "es = EarlyStopping(monitor='val_acc', patience=3)\n",
        "\n",
        "history = model.fit(train_x, train_y,\n",
        "                    batch_size=128,\n",
        "                    epochs=10,\n",
        "                    validation_data=(val_x, val_y),\n",
        "                    callbacks =[es])"
      ],
      "execution_count": 0,
      "outputs": [
        {
          "output_type": "stream",
          "text": [
            "Train on 20000 samples, validate on 5000 samples\n",
            "Epoch 1/10\n",
            "20000/20000 [==============================] - 14s 707us/step - loss: 0.4499 - acc: 0.7802 - val_loss: 0.3344 - val_acc: 0.8628\n",
            "Epoch 2/10\n",
            "20000/20000 [==============================] - 10s 496us/step - loss: 0.2284 - acc: 0.9130 - val_loss: 0.3415 - val_acc: 0.8592\n",
            "Epoch 3/10\n",
            "20000/20000 [==============================] - 10s 494us/step - loss: 0.1359 - acc: 0.9531 - val_loss: 0.3786 - val_acc: 0.8630\n",
            "Epoch 4/10\n",
            "20000/20000 [==============================] - 10s 496us/step - loss: 0.0851 - acc: 0.9715 - val_loss: 0.4559 - val_acc: 0.8590\n",
            "Epoch 5/10\n",
            "20000/20000 [==============================] - 10s 496us/step - loss: 0.0586 - acc: 0.9818 - val_loss: 0.4890 - val_acc: 0.8542\n",
            "Epoch 6/10\n",
            "20000/20000 [==============================] - 10s 498us/step - loss: 0.0570 - acc: 0.9800 - val_loss: 0.5604 - val_acc: 0.8520\n"
          ],
          "name": "stdout"
        }
      ]
    },
    {
      "metadata": {
        "colab_type": "code",
        "outputId": "44d57027-4fad-4628-cde4-4db3da76c2b3",
        "id": "kMdUpXFvDr5s",
        "colab": {
          "base_uri": "https://localhost:8080/",
          "height": 571
        }
      },
      "cell_type": "code",
      "source": [
        "# summarize history for accuracy\n",
        "plt.plot(history.history['acc'])\n",
        "plt.plot(history.history['val_acc'])\n",
        "plt.title('model accuracy')\n",
        "plt.ylabel('accuracy')\n",
        "plt.xlabel('epoch')\n",
        "plt.legend(['train', 'test'], loc='upper left')\n",
        "plt.show()\n",
        "# summarize history for loss\n",
        "plt.plot(history.history['loss'])\n",
        "plt.plot(history.history['val_loss'])\n",
        "plt.title('model loss')\n",
        "plt.ylabel('loss')\n",
        "plt.xlabel('epoch')\n",
        "plt.legend(['train', 'test'], loc='upper left')\n",
        "plt.show()"
      ],
      "execution_count": 0,
      "outputs": [
        {
          "output_type": "display_data",
          "data": {
            "image/png": "[encoded data removed]",
            "text/plain": [
              "<Figure size 432x288 with 1 Axes>"
            ]
          },
          "metadata": {
            "tags": []
          }
        },
        {
          "output_type": "display_data",
          "data": {
            "image/png": "[encoded data removed]",
            "text/plain": [
              "<Figure size 432x288 with 1 Axes>"
            ]
          },
          "metadata": {
            "tags": []
          }
        }
      ]
    },
    {
      "metadata": {
        "colab_type": "code",
        "id": "FP_fEqm9Dr58",
        "colab": {}
      },
      "cell_type": "code",
      "source": [
        ""
      ],
      "execution_count": 0,
      "outputs": []
    },
    {
      "metadata": {
        "colab_type": "text",
        "id": "9l-J6x40ENGj"
      },
      "cell_type": "markdown",
      "source": [
        "## Custom Embedding Layer using cuDNNGRU"
      ]
    },
    {
      "metadata": {
        "colab_type": "code",
        "outputId": "de45e9e1-7715-471c-bced-882783b78a08",
        "id": "wHGBO_g4ENHT",
        "colab": {
          "base_uri": "https://localhost:8080/",
          "height": 285
        }
      },
      "cell_type": "code",
      "source": [
        "num_classes = 2\n",
        "VOCAB_SIZE = min(len(word_index)+1, NUM_WORDS)\n",
        "\n",
        "# input layer with shape = (MAX_SEQUENCE_LENGTH,)\n",
        "sequence_input = Input(shape=(MAX_SEQUENCE_LENGTH,), dtype='int32')\n",
        "# convert the sequence input to embedding from (MAX_SEQUENCE_LENGTH, ) -> (None, MAX_SEQUENCE_LENGTH, EMBEDDING_DIM)\n",
        "embedded_sequences = Embedding(VOCAB_SIZE, EMBED_DIM)(sequence_input)\n",
        "\n",
        "x = CuDNNGRU(128)(embedded_sequences)\n",
        "preds = Dense(num_classes, activation='softmax')(x)\n",
        "\n",
        "model = Model(inputs=sequence_input, outputs=preds)\n",
        "\n",
        "model.compile(loss='categorical_crossentropy',\n",
        "              optimizer='adam',\n",
        "              metrics=['acc'])\n",
        "\n",
        "model.summary()"
      ],
      "execution_count": 0,
      "outputs": [
        {
          "output_type": "stream",
          "text": [
            "_________________________________________________________________\n",
            "Layer (type)                 Output Shape              Param #   \n",
            "=================================================================\n",
            "input_15 (InputLayer)        (None, 200)               0         \n",
            "_________________________________________________________________\n",
            "embedding_14 (Embedding)     (None, 200, 300)          6000000   \n",
            "_________________________________________________________________\n",
            "cu_dnngru_1 (CuDNNGRU)       (None, 128)               165120    \n",
            "_________________________________________________________________\n",
            "dense_11 (Dense)             (None, 2)                 258       \n",
            "=================================================================\n",
            "Total params: 6,165,378\n",
            "Trainable params: 6,165,378\n",
            "Non-trainable params: 0\n",
            "_________________________________________________________________\n"
          ],
          "name": "stdout"
        }
      ]
    },
    {
      "metadata": {
        "colab_type": "code",
        "outputId": "fcc350f8-20d0-42fc-f9d1-b5b04b027a77",
        "id": "b2V70IILENHi",
        "colab": {
          "base_uri": "https://localhost:8080/",
          "height": 214
        }
      },
      "cell_type": "code",
      "source": [
        "es = EarlyStopping(monitor='val_acc', patience=3)\n",
        "\n",
        "history = model.fit(train_x, train_y,\n",
        "                    batch_size=128,\n",
        "                    epochs=10,\n",
        "                    validation_data=(val_x, val_y),\n",
        "                    callbacks =[es])"
      ],
      "execution_count": 0,
      "outputs": [
        {
          "output_type": "stream",
          "text": [
            "Train on 20000 samples, validate on 5000 samples\n",
            "Epoch 1/10\n",
            "20000/20000 [==============================] - 11s 573us/step - loss: 0.4450 - acc: 0.7833 - val_loss: 0.3272 - val_acc: 0.8580\n",
            "Epoch 2/10\n",
            "20000/20000 [==============================] - 9s 439us/step - loss: 0.2002 - acc: 0.9262 - val_loss: 0.3840 - val_acc: 0.8680\n",
            "Epoch 3/10\n",
            "20000/20000 [==============================] - 9s 430us/step - loss: 0.1106 - acc: 0.9621 - val_loss: 0.3761 - val_acc: 0.8494\n",
            "Epoch 4/10\n",
            "20000/20000 [==============================] - 9s 436us/step - loss: 0.0649 - acc: 0.9790 - val_loss: 0.5475 - val_acc: 0.8428\n",
            "Epoch 5/10\n",
            "20000/20000 [==============================] - 9s 441us/step - loss: 0.0663 - acc: 0.9770 - val_loss: 0.5244 - val_acc: 0.8470\n"
          ],
          "name": "stdout"
        }
      ]
    },
    {
      "metadata": {
        "colab_type": "code",
        "outputId": "87fb0166-444e-480e-a81d-60f2d812a183",
        "id": "V-Cp7HqsENHu",
        "colab": {
          "base_uri": "https://localhost:8080/",
          "height": 571
        }
      },
      "cell_type": "code",
      "source": [
        "# summarize history for accuracy\n",
        "plt.plot(history.history['acc'])\n",
        "plt.plot(history.history['val_acc'])\n",
        "plt.title('model accuracy')\n",
        "plt.ylabel('accuracy')\n",
        "plt.xlabel('epoch')\n",
        "plt.legend(['train', 'test'], loc='upper left')\n",
        "plt.show()\n",
        "# summarize history for loss\n",
        "plt.plot(history.history['loss'])\n",
        "plt.plot(history.history['val_loss'])\n",
        "plt.title('model loss')\n",
        "plt.ylabel('loss')\n",
        "plt.xlabel('epoch')\n",
        "plt.legend(['train', 'test'], loc='upper left')\n",
        "plt.show()"
      ],
      "execution_count": 0,
      "outputs": [
        {
          "output_type": "display_data",
          "data": {
            "image/png": "[encoded data removed]",
            "text/plain": [
              "<Figure size 432x288 with 1 Axes>"
            ]
          },
          "metadata": {
            "tags": []
          }
        },
        {
          "output_type": "display_data",
          "data": {
            "image/png": "[encoded data removed]",
            "text/plain": [
              "<Figure size 432x288 with 1 Axes>"
            ]
          },
          "metadata": {
            "tags": []
          }
        }
      ]
    },
    {
      "metadata": {
        "id": "8VrXWl6rL0Iw",
        "colab_type": "text"
      },
      "cell_type": "markdown",
      "source": [
        "## Prediction"
      ]
    },
    {
      "metadata": {
        "colab_type": "code",
        "id": "LNQ8FVLyENH-",
        "colab": {}
      },
      "cell_type": "code",
      "source": [
        "test = pd.read_csv(path/\"testData.tsv\", sep='\\t', header=0, quoting=3)\n",
        "\n",
        "review = test[:10]\n",
        "\n",
        "# stitch back the words into sequnces with filtering stop words and converting to lower text_to_word_sequence\n",
        "sequence = tokenizer.texts_to_sequences(review['review'])\n",
        "\n",
        "# convert all sentences to equal length of 200\n",
        "sentence = pad_sequences(sequence, maxlen=MAX_SEQUENCE_LENGTH)\n",
        "\n",
        "preds = model.predict(sentence)"
      ],
      "execution_count": 0,
      "outputs": []
    },
    {
      "metadata": {
        "id": "oztOE82-D1cg",
        "colab_type": "code",
        "outputId": "b57ac6e1-c4f3-41f5-fa4c-5899839c6307",
        "colab": {
          "base_uri": "https://localhost:8080/",
          "height": 394
        }
      },
      "cell_type": "code",
      "source": [
        "for i in range(len(review)):\n",
        "  print ('Sentence:', review['review'].iloc[i])\n",
        "  print ('Prediction:', preds[i])"
      ],
      "execution_count": 0,
      "outputs": [
        {
          "output_type": "stream",
          "text": [
            "Sentence: \"Naturally in a film who's main themes are of mortality, nostalgia, and loss of innocence it is perhaps not surprising that it is rated more highly by older viewers than younger ones. However there is a craftsmanship and completeness to the film which anyone can enjoy. The pace is steady and constant, the characters full and engaging, the relationships and interactions natural showing that you do not need floods of tears to show emotion, screams to show fear, shouting to show dispute or violence to show anger. Naturally Joyce's short story lends the film a ready made structure as perfect as a polished diamond, but the small changes Huston makes such as the inclusion of the poem fit in neatly. It is truly a masterpiece of tact, subtlety and overwhelming beauty.\"\n",
            "Prediction: [7.4012915e-04 9.9925989e-01]\n",
            "Sentence: \"This movie is a disaster within a disaster film. It is full of great action scenes, which are only meaningful if you throw away all sense of reality. Let's see, word to the wise, lava burns you; steam burns you. You can't stand next to lava. Diverting a minor lava flow is difficult, let alone a significant one. Scares me to think that some might actually believe what they saw in this movie.<br /><br />Even worse is the significant amount of talent that went into making this film. I mean the acting is actually very good. The effects are above average. Hard to believe somebody read the scripts for this and allowed all this talent to be wasted. I guess my suggestion would be that if this movie is about to start on TV ... look away! It is like a train wreck: it is so awful that once you know what is coming, you just have to watch. Look away and spend your time on more meaningful content.\"\n",
            "Prediction: [0.99533975 0.00466027]\n",
            "Sentence: \"All in all, this is a movie for kids. We saw it tonight and my child loved it. At one point my kid's excitement was so great that sitting was impossible. However, I am a great fan of A.A. Milne's books which are very subtle and hide a wry intelligence behind the childlike quality of its leading characters. This film was not subtle. It seems a shame that Disney cannot see the benefit of making movies from more of the stories contained in those pages, although perhaps, it doesn't have the permission to use them. I found myself wishing the theater was replaying \\\"Winnie-the-Pooh and Tigger too\\\", instead. The characters voices were very good. I was only really bothered by Kanga. The music, however, was twice as loud in parts than the dialog, and incongruous to the film.<br /><br />As for the story, it was a bit preachy and militant in tone. Overall, I was disappointed, but I would go again just to see the same excitement on my child's face.<br /><br />I liked Lumpy's laugh....\"\n",
            "Prediction: [0.02207627 0.9779237 ]\n",
            "Sentence: \"Afraid of the Dark left me with the impression that several different screenplays were written, all too short for a feature length film, then spliced together clumsily into this Frankenstein's monster.<br /><br />At his best, the protagonist, Lucas, is creepy. As hard as it is to draw a bead on the secondary characters, they're far more sympathetic.<br /><br />Afraid of the Dark could have achieved mediocrity had it taken just one approach and seen it through -- and had it made Lucas simply psychotic and confused instead of ghoulish and off-putting. I wanted to see him packed off into an asylum so the rest of the characters could have a normal life.\"\n",
            "Prediction: [0.9347983  0.06520173]\n",
            "Sentence: \"A very accurate depiction of small time mob life filmed in New Jersey. The story, characters and script are believable but the acting drops the ball. Still, it's worth watching, especially for the strong images, some still with me even though I first viewed this 25 years ago.<br /><br />A young hood steps up and starts doing bigger things (tries to) but these things keep going wrong, leading the local boss to suspect that his end is being skimmed off, not a good place to be if you enjoy your health, or life.<br /><br />This is the film that introduced Joe Pesce to Martin Scorsese. Also present is that perennial screen wise guy, Frank Vincent. Strong on characterizations and visuals. Sound muddled and much of the acting is amateurish, but a great story.\"\n",
            "Prediction: [0.08774225 0.9122578 ]\n",
            "Sentence: \"...as valuable as King Tut's tomb! (OK, maybe not THAT valuable, but worth hunting down if you can). I notice no one has commented on this movie for some years, and I hope a fresh post will spark some new comments. This is a film that I remembered only snippets of from childhood, and only saw recently when I tired of waiting for Fox to honour its own past, and hunted down the Korean DVD (in English, but with unremovable Korean subtitles). I won't go through another long plot description - suffice to say that seeing it for the first time in its proper widescreen format left me agape at the vistas and the scope of the film. The matte paintings still hold up, and the palace sets are truly breathtaking. But it is the smaller scale details that lend this film its depth and richness, offering a glimpse into the lifestyles of Egypt's poor as well as its elite. The bazaars, hovels, docks, embalming houses, and taverns are as fascinating as Pharaoh's throne room. While errors abound on the large scale (most notably the dynastic succession), the details are more meticulously researched than the vast majority of Hollywood's films. Visually, it's not without its flaws - the interiors are often too overly lit and colourful to blend seamlessly with the exteriors. Nevertheless, this is a movie that should be credited for being as audacious in the small as it is in the large. Tedious? In parts, absolutely. Overacted? Underacted? Yes, both - though 'understated' might be a more apt description. Too long? Absolutely not. I wished they had spent more time with Sinuhe's experiences in the House of Death, and among the Hittites, and less with his 'romance' with Nefer, though. Historically inaccurate? Yes, that too, but so was Shakespeare. Nobody chastises him for it. I appreciate historical accuracy as much as the next guy, but ultimately it has to be remembered that cinema is theater, not a history lesson.\"\n",
            "Prediction: [0.8392459  0.16075405]\n",
            "Sentence: \"This has to be one of the biggest misfires ever...the script was nice and could have ended a lot better.the actors should have played better and maybe then i would have given this movie a slightly better grade. maybe Hollywood should remake this movie with some little better actors and better director.sorry guys for disappointment but the movie is bad.<br /><br />If i had to re-watch it it would be like torture. I don't want to spoil everyone's opinion with mine so..my advice is watch the movie first..see if u like it and after vote(do not vote before you watch it ! ) and by the way... Have fun watching it ! Don't just peek...watch it 'till the end :))))))))) !!\"\n",
            "Prediction: [0.23039062 0.76960933]\n",
            "Sentence: \"This is one of those movies I watched, and wondered, why did I watch it? What did I find so interesting about it? Being a truck driver myself, I didn't find it very realistic. No, I've never used a 'lot lizard', nor have I ever seen, nor heard about one traveling around the country in a brand new seventy thousand dollar RV, either.<br /><br />Same thing about a pimp whom has never sampled the lady in question (until the end of the movie, and well, he still really didn't...), and only getting 50 bucks 'a cut', when the prostitute gets $200.00 (well, $150.00 after his cut, yeah...).<br /><br />I still laugh at the lot lizard comment Ivey made (them's Lot Lizards, they'll screw anything with 20 bucks, and some are men dressed as woman... or something equally as weird), meaning, we're better then them, as we may still be prostitutes, but we get paid BETTER.<br /><br />Other then that, it's just a story of a young woman whom wanted something more from life then a dead end job while living at home (she's 18, remember?) and embarrassed by her mother basically doing the same thing (dead end job). At least she had a roof over her head and a job. She turned FIVE tricks on the road... I wonder if the $750.00 she made was worth it? I'd guess not.\"\n",
            "Prediction: [0.8161818  0.18381816]\n",
            "Sentence: \"The worst movie i've seen in years (and i've seen a lot of movies). Acting is terrible, there is no plot whatsoever, there is no point whatsoever, i felt robbed after i rented this movie. they recommended it to me mind you! a disgrace for terrible movies! stay away from this terrible piece of c**p. save your money !\"\n",
            "Prediction: [9.9955624e-01 4.4377038e-04]\n",
            "Sentence: \"Five medical students (Kevin Bacon, David Labraccio; William Baldwin, Dr. Joe Hurley; Oliver Platt, Randy Steckle; Julia Roberts, Dr. Rachel Mannus; Kiefer Sutherland, Nelson) experiment with clandestine near death & afterlife experiences, (re)searching for medical & personal enlightenment. One by one, each medical student's heart is stopped, then revived.<br /><br />Under temporary death spells each experiences bizarre visions, including forgotten childhood memories. Their flashbacks are like children's nightmares. The revived students are disturbed by remembering regretful acts they had committed or had done against them. As they experience afterlife, they bring real life experiences back into the present. As they continue to experiment, their remembrances dramatically intensify; so much so, some are physically overcome. Thus, they probe & transcend deeper into the death-afterlife experiences attempting to find a cure.<br /><br />Even though the DVD was released in 2007, this motion picture was released in 1990. Therefore, Kevin Bacon, William Baldwin, Julia Roberts & Kiefer Sutherland were in the early stages of their adult acting careers. Besides the plot being extremely intriguing, the suspense building to a dramatic climax & the script being tight & convincing, all of the young actors make \\\"Flatliners,\\\" what is now an all-star cult semi-sci-fi suspense. Who knew 17 years ago that the film careers of this young group of actors would skyrocket? I suspect that director Joel Schumacher did.\"\n",
            "Prediction: [0.7998832  0.20011681]\n"
          ],
          "name": "stdout"
        }
      ]
    },
    {
      "metadata": {
        "id": "fnz2jqQAJGaD",
        "colab_type": "code",
        "colab": {}
      },
      "cell_type": "code",
      "source": [
        ""
      ],
      "execution_count": 0,
      "outputs": []
    }
  ]
}