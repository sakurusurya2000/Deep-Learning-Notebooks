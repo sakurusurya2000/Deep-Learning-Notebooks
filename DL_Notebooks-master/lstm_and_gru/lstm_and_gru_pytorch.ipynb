{
  "nbformat": 4,
  "nbformat_minor": 0,
  "metadata": {
    "colab": {
      "name": "lstm_and_gru_pytorch.ipynb",
      "version": "0.3.2",
      "provenance": [],
      "collapsed_sections": []
    },
    "kernelspec": {
      "name": "python3",
      "display_name": "Python 3"
    },
    "accelerator": "GPU"
  },
  "cells": [
    {
      "metadata": {
        "id": "ZIC0nEEjEjGG",
        "colab_type": "text"
      },
      "cell_type": "markdown",
      "source": [
        "# LSTM\n",
        "\n",
        "In this notebook, we will go through basics of LSTM, GRU and Bi-LSTM using pretrained embeddings like glove and fasttext and  also custom embeddings on IMDB dataset. \n",
        "\n",
        "Here we will use [PyTorch](https://pytorch.org/tutorials/  \"PyTorch Tutorial\").\n",
        "\n",
        "\n",
        "Everything is explained in-detail in [blog post](https://dudeperf3ct.github.io/lstm/gru/nlp/2019/01/28/Force-of-LSTM-and-GRU/). This is notebook which replicates the result of blog and runs in colab. Enjoy!\n",
        "\n",
        "Let's see at [nlpprogess](http://nlpprogress.com/english/sentiment_analysis.html) what is the current state-of-the-art in sentiment analysis.\n",
        "\n",
        "\n",
        "Model | Accuracy | Paper |\n",
        "----- | -------- | ------|\n",
        "ULMFit| 95.4     | [Universal Language Model Fine-tuning for Text Classification](https://arxiv.org/abs/1801.06146)|\n",
        "Block-sparse LSTM| 94.99 | [GPU Kernels for Block-Sparse Weights](https://s3-us-west-2.amazonaws.com/openai-assets/blocksparse/blocksparsepaper.pdf)|\n",
        "oh-LSTM | 94.1 | [Supervised and Semi-Supervised Text Categorization using LSTM for Region Embeddings](https://arxiv.org/abs/1602.02373) |\n",
        "Virtual adversarial training  | 94.1 | [Adversarial Training Methods for Semi-Supervised Text Classification](https://arxiv.org/abs/1605.07725) |\n",
        "BCN+Char+CoVe | 91.8 | [Learned in Translation: Contextualized Word Vectors](https://arxiv.org/abs/1708.00107) |\n",
        "\n",
        "\n",
        "#### Run in Colab\n",
        "\n",
        "You can run this notebook in google colab.\n",
        "\n",
        "[![Open In Colab](https://colab.research.google.com/assets/colab-badge.svg)](https://colab.research.google.com/github/dudeperf3ct/DL_notebooks/blob/master/lstm_and_gru/lstm_and_gru_pytorch.ipynb)\n"
      ]
    },
    {
      "metadata": {
        "id": "CPX0rk2CUG-f",
        "colab_type": "text"
      },
      "cell_type": "markdown",
      "source": [
        "## IMDB data\n",
        "\n",
        "Code Adapted from: [link](https://github.com/bentrevett/pytorch-sentiment-analysis/blob/master/1%20-%20Simple%20Sentiment%20Analysis.ipynb)"
      ]
    },
    {
      "metadata": {
        "id": "pNkINkerEmzY",
        "colab_type": "code",
        "outputId": "3bdad1f4-174f-49f2-bc5a-310716f12778",
        "colab": {
          "base_uri": "https://localhost:8080/",
          "height": 35
        }
      },
      "cell_type": "code",
      "source": [
        "import numpy as np\n",
        "import time\n",
        "import copy\n",
        "import torch\n",
        "torch.manual_seed(11)\n",
        "import torch.nn as nn\n",
        "import torch.nn.functional as F\n",
        "from torchtext import datasets\n",
        "from torchtext import data\n",
        "import torch.optim as optim\n",
        "import random\n",
        "import matplotlib.pyplot as plt\n",
        "%matplotlib inline\n",
        "\n",
        "device = torch.device('cuda' if torch.cuda.is_available() else 'cpu')\n",
        "print ('Training on...', device)"
      ],
      "execution_count": 0,
      "outputs": [
        {
          "output_type": "stream",
          "text": [
            "Training on... cuda\n"
          ],
          "name": "stdout"
        }
      ]
    },
    {
      "metadata": {
        "id": "2Z2FYcgwYaW3",
        "colab_type": "code",
        "colab": {}
      },
      "cell_type": "code",
      "source": [
        "TEXT = data.Field(tokenize='spacy')\n",
        "LABEL = data.LabelField(dtype=torch.float)"
      ],
      "execution_count": 0,
      "outputs": []
    },
    {
      "metadata": {
        "id": "QffNOcXb51zO",
        "colab_type": "code",
        "outputId": "e68db0d9-44bd-415f-8875-accaae7cbad3",
        "colab": {
          "base_uri": "https://localhost:8080/",
          "height": 88
        }
      },
      "cell_type": "code",
      "source": [
        "train_data, test_data = datasets.IMDB.splits(TEXT, LABEL)\n",
        "print('Number of training examples:', len(train_data))\n",
        "print('Number of testing examples:', len(test_data))"
      ],
      "execution_count": 0,
      "outputs": [
        {
          "output_type": "stream",
          "text": [
            "downloading aclImdb_v1.tar.gz\n"
          ],
          "name": "stdout"
        },
        {
          "output_type": "stream",
          "text": [
            "aclImdb_v1.tar.gz: 100%|██████████| 84.1M/84.1M [00:07<00:00, 10.8MB/s]\n"
          ],
          "name": "stderr"
        },
        {
          "output_type": "stream",
          "text": [
            "Number of training examples: 25000\n",
            "Number of testing examples: 25000\n"
          ],
          "name": "stdout"
        }
      ]
    },
    {
      "metadata": {
        "id": "gCUAAmu5516M",
        "colab_type": "code",
        "outputId": "ebc4f32c-5703-4950-923b-0e79f4f18ba2",
        "colab": {
          "base_uri": "https://localhost:8080/",
          "height": 55
        }
      },
      "cell_type": "code",
      "source": [
        "print (vars(train_data.examples[2]))"
      ],
      "execution_count": 0,
      "outputs": [
        {
          "output_type": "stream",
          "text": [
            "{'text': ['OK', ',', 'I', 'do', \"n't\", 'really', 'think', 'that', 'Trailer', 'Park', 'Boys', 'has', 'bad', 'story', 'lines', ',', 'because', 'they', 'kick', 'ass', '.', 'They', 'just', '...', 'conflict', 'with', 'each', 'other.<br', '/><br', '/>For', 'Example', ':', 'Near', 'the', 'end', 'of', 'the', 'movie', ',', 'it', 'shows', 'Ricky', 'and', 'Julian', 'telling', '\"', 'Patrick', 'Lewis', '\"', 'to', 'put', 'the', 'dog', 'down', 'and', 'walk', 'away', '.', 'Then', 'at', 'the', 'end', ',', 'it', 'shows', 'Ricky', 'and', 'Julian', 'saying', 'that', 'they', \"'ve\", 'been', 'in', 'jail', 'for', '2', 'years', '.', 'In', 'the', 'TV', 'series', 'pilot', ',', 'the', 'first', 'clip', 'they', 'show', 'is', 'the', 'same', 'clip', 'of', 'Ricky', 'and', 'Julian', 'yelling', 'at', '\"', 'Patrick', 'Lewis', '\"', '.', 'But', 'in', 'the', 'TV', 'series', ',', 'they', \"'ve\", 'supposedly', 'only', 'been', 'in', 'jail', 'for', '18', 'months.<br', '/><br', '/>Also', ',', 'they', 'give', 'us', 'the', 'impression', 'that', 'the', 'movie', \"'s\", 'story', 'line', 'and', 'the', 'TV', 'series', \"'\", 'story', 'line', 'are', 'connected', '(', 'because', 'of', 'the', 'yelling', 'scene', 'between', 'the', 'guys', ')', '.', 'But', 'some', 'actors', 'portray', 'totally', 'different', 'characters', '.', 'Of', 'course', ',', 'Patrick', 'Roach', 'plays', '\"', 'Patrick', 'Lewis', '\"', 'in', 'the', 'movie', ',', 'but', 'in', 'the', 'series', 'he', 'plays', 'Randy', '.', 'Sam', 'Tarasco', 'plays', 'one', 'of', 'the', 'guys', 'who', 'pays', 'Ricky', 'for', 'an', 'extermination', ',', 'and', 'then', 'he', 'plays', 'Sam', 'Losco', 'in', 'the', 'series.<br', '/><br', '/>Also', '(', 'again', '...', 'I', 'know', ',', 'I', 'have', 'a', 'lot', 'to', 'say', ')', ',', 'in', 'the', 'movie', ',', 'the', 'guys', 'snort', 'coke', 'instead', 'of', 'smoking', 'hash', '.', 'The', 'thing', 'is', ',', 'they', 'never', 'actually', 'confirm', 'that', 'the', 'two', 'story', 'lines', 'are', 'connected', 'in', 'anyway', ',', 'other', 'than', 'the', 'yelling', 'scene.<br', '/><br', '/>Sorry', 'to', 'keep', 'on', 'blabbing', '.'], 'label': 'pos'}\n"
          ],
          "name": "stdout"
        }
      ]
    },
    {
      "metadata": {
        "id": "av06h1VL51_b",
        "colab_type": "code",
        "outputId": "35787c50-6f7f-4afc-a13d-f6a95cbe288d",
        "colab": {
          "base_uri": "https://localhost:8080/",
          "height": 53
        }
      },
      "cell_type": "code",
      "source": [
        "train_data, val_data = train_data.split(split_ratio=0.8)\n",
        "print('Number of training examples:', len(train_data))\n",
        "print('Number of validation examples:', len(val_data))"
      ],
      "execution_count": 0,
      "outputs": [
        {
          "output_type": "stream",
          "text": [
            "Number of training examples: 20000\n",
            "Number of validation examples: 5000\n"
          ],
          "name": "stdout"
        }
      ]
    },
    {
      "metadata": {
        "id": "7jCn8RLXAVBm",
        "colab_type": "text"
      },
      "cell_type": "markdown",
      "source": [
        "## Glove"
      ]
    },
    {
      "metadata": {
        "id": "FDBBxWYzAW4m",
        "colab_type": "code",
        "outputId": "a28a2fc9-fdd8-4208-d725-0ff9fdbb0280",
        "colab": {
          "base_uri": "https://localhost:8080/",
          "height": 53
        }
      },
      "cell_type": "code",
      "source": [
        "TEXT.build_vocab(train_data, max_size=25000, vectors=\"glove.6B.100d\")\n",
        "LABEL.build_vocab(train_data)"
      ],
      "execution_count": 0,
      "outputs": [
        {
          "output_type": "stream",
          "text": [
            ".vector_cache/glove.6B.zip: 862MB [02:11, 6.55MB/s]                           \n",
            "100%|█████████▉| 399966/400000 [00:20<00:00, 20356.93it/s]"
          ],
          "name": "stderr"
        }
      ]
    },
    {
      "metadata": {
        "id": "uPIrBa2dAW8p",
        "colab_type": "code",
        "outputId": "f6492d8b-eea9-4c6d-dde3-433e1eeeadca",
        "colab": {
          "base_uri": "https://localhost:8080/",
          "height": 53
        }
      },
      "cell_type": "code",
      "source": [
        "print('Unique tokens in TEXT vocabulary:', len(TEXT.vocab))\n",
        "print('Unique tokens in LABEL vocabulary:',len(LABEL.vocab))"
      ],
      "execution_count": 0,
      "outputs": [
        {
          "output_type": "stream",
          "text": [
            "Unique tokens in TEXT vocabulary: 25002\n",
            "Unique tokens in LABEL vocabulary: 2\n"
          ],
          "name": "stdout"
        }
      ]
    },
    {
      "metadata": {
        "id": "7PQEquoJBJFz",
        "colab_type": "code",
        "outputId": "0f07773b-b7d6-41ad-c3f0-f29bc7e0fbbe",
        "colab": {
          "base_uri": "https://localhost:8080/",
          "height": 35
        }
      },
      "cell_type": "code",
      "source": [
        "pretrained_embeddings = TEXT.vocab.vectors\n",
        "print(pretrained_embeddings.shape)"
      ],
      "execution_count": 0,
      "outputs": [
        {
          "output_type": "stream",
          "text": [
            "torch.Size([25002, 100])\n"
          ],
          "name": "stdout"
        }
      ]
    },
    {
      "metadata": {
        "id": "kea64FQNAXC-",
        "colab_type": "code",
        "outputId": "e739ffe5-b050-4345-b7a0-dfbae750428f",
        "colab": {
          "base_uri": "https://localhost:8080/",
          "height": 55
        }
      },
      "cell_type": "code",
      "source": [
        "print(TEXT.vocab.freqs.most_common(20))"
      ],
      "execution_count": 0,
      "outputs": [
        {
          "output_type": "stream",
          "text": [
            "[('the', 232653), (',', 220816), ('.', 189387), ('and', 125574), ('a', 125107), ('of', 115377), ('to', 107754), ('is', 87429), ('in', 70454), ('I', 62331), ('it', 61420), ('that', 56650), ('\"', 50472), (\"'s\", 49694), ('this', 48616), ('-', 42468), ('/><br', 41014), ('was', 40184), ('as', 34867), ('with', 34370)]\n"
          ],
          "name": "stdout"
        }
      ]
    },
    {
      "metadata": {
        "id": "e8PI39viA7f9",
        "colab_type": "code",
        "outputId": "8e354ff1-4ef8-41ed-8fe8-d79a1b11d9f8",
        "colab": {
          "base_uri": "https://localhost:8080/",
          "height": 35
        }
      },
      "cell_type": "code",
      "source": [
        "print(TEXT.vocab.itos[:10])"
      ],
      "execution_count": 0,
      "outputs": [
        {
          "output_type": "stream",
          "text": [
            "['<unk>', '<pad>', 'the', ',', '.', 'and', 'a', 'of', 'to', 'is']\n"
          ],
          "name": "stdout"
        }
      ]
    },
    {
      "metadata": {
        "id": "Yer56HFbA7dm",
        "colab_type": "code",
        "colab": {}
      },
      "cell_type": "code",
      "source": [
        "BATCH_SIZE = 64\n",
        "\n",
        "train_iterator, val_iterator, test_iterator = data.BucketIterator.splits(\n",
        "    (train_data, val_data, test_data),\n",
        "    batch_size=BATCH_SIZE,\n",
        "    device=device)\n",
        "\n",
        "embedding_dim=100\n",
        "hidden_dim=128"
      ],
      "execution_count": 0,
      "outputs": []
    },
    {
      "metadata": {
        "id": "5sACQM2XA7ay",
        "colab_type": "code",
        "colab": {}
      },
      "cell_type": "code",
      "source": [
        "class LSTM_Model(nn.Module):\n",
        "    \n",
        "    def __init__(self, vocab_size, embedding_dim, hidden_dim, batch_size):\n",
        "      \n",
        "      super(LSTM_Model, self).__init__()\n",
        "      self.num_layers = 1\n",
        "      self.batch_size = batch_size\n",
        "      self.hidden_dim = hidden_dim\n",
        "      \n",
        "      self.word_embeddings = nn.Embedding(vocab_size, embedding_dim) \n",
        "      # The LSTM takes word embeddings as inputs, and outputs hidden states\n",
        "      # with dimensionality hidden_dim.\n",
        "      self.lstm = nn.LSTM(embedding_dim, hidden_dim, num_layers=self.num_layers) \n",
        "      self.fc = nn.Linear(hidden_dim, 1)\n",
        "      self.hidden = self.init_hidden()      \n",
        "      \n",
        "    def forward(self, sentence):\n",
        "      \n",
        "        embeds = self.word_embeddings(sentence)\n",
        "        # [sent_len, batch_size] --> [sent_len, batch_size, emb_dim]\n",
        "        lstm_out, self.hidden = self.lstm(embeds, self.hidden) \n",
        "        # [sent_len, batch_size, emb_dim] --> [seq_len, batch, num_directions*hidden_size]\n",
        "        preds = self.fc(lstm_out[-1].squeeze(0))\n",
        "        # [batch, num_directions * hidden_size] --> [batch_size, 1]\n",
        "        return preds\n",
        "      \n",
        "      \n",
        "    def init_hidden(self):\n",
        "        # Before we've done anything, we dont have any hidden state.\n",
        "        # The axes semantics are (num_layers, minibatch_size, hidden_dim)\n",
        "        return (torch.zeros(self.num_layers, self.batch_size, self.hidden_dim).to(device),\n",
        "                torch.zeros(self.num_layers, self.batch_size, self.hidden_dim).to(device))\n",
        "        "
      ],
      "execution_count": 0,
      "outputs": []
    },
    {
      "metadata": {
        "id": "lYAzFBRCgWH_",
        "colab_type": "code",
        "outputId": "dc099ffe-f691-44ef-d20f-b23a3c8b1467",
        "colab": {
          "base_uri": "https://localhost:8080/",
          "height": 106
        }
      },
      "cell_type": "code",
      "source": [
        "model = LSTM_Model(vocab_size=len(TEXT.vocab), embedding_dim=100, hidden_dim=128, batch_size=BATCH_SIZE)\n",
        "model.to(device)"
      ],
      "execution_count": 0,
      "outputs": [
        {
          "output_type": "execute_result",
          "data": {
            "text/plain": [
              "LSTM_Model(\n",
              "  (word_embeddings): Embedding(25002, 100)\n",
              "  (lstm): LSTM(100, 128)\n",
              "  (fc): Linear(in_features=128, out_features=1, bias=True)\n",
              ")"
            ]
          },
          "metadata": {
            "tags": []
          },
          "execution_count": 13
        }
      ]
    },
    {
      "metadata": {
        "id": "4LqIfetoA7Xa",
        "colab_type": "code",
        "colab": {}
      },
      "cell_type": "code",
      "source": [
        "model.word_embeddings.weight.data.copy_(pretrained_embeddings)\n",
        "model.word_embeddings.weight.requires_grad = False"
      ],
      "execution_count": 0,
      "outputs": []
    },
    {
      "metadata": {
        "id": "as9gheTdgG9q",
        "colab_type": "code",
        "colab": {}
      },
      "cell_type": "code",
      "source": [
        "parameters = filter(lambda p: p.requires_grad, model.parameters())\n",
        "\n",
        "optimizer = optim.Adam(parameters, lr=1e-3, amsgrad=True)\n",
        "criterion = nn.BCEWithLogitsLoss()"
      ],
      "execution_count": 0,
      "outputs": []
    },
    {
      "metadata": {
        "id": "Tdw2r12IgeYg",
        "colab_type": "code",
        "colab": {}
      },
      "cell_type": "code",
      "source": [
        "# Create training and validation dataloaders\n",
        "dataloaders_dict = {'train': train_iterator, \n",
        "                    'val': val_iterator}"
      ],
      "execution_count": 0,
      "outputs": []
    },
    {
      "metadata": {
        "id": "oqMe184bgHDU",
        "colab_type": "code",
        "colab": {}
      },
      "cell_type": "code",
      "source": [
        "def train_model(model, dataloaders, criterion, optimizer, num_epochs, batch_size=BATCH_SIZE):\n",
        "    since = time.time()\n",
        "\n",
        "    history = dict()\n",
        "\n",
        "    best_model_wts = copy.deepcopy(model.state_dict())\n",
        "    best_acc = 0.0\n",
        "    skip_count = 0\n",
        "\n",
        "    for epoch in range(num_epochs):\n",
        "        print('Epoch {}/{}'.format(epoch, num_epochs - 1))\n",
        "        print('-' * 10)\n",
        "\n",
        "        # Each epoch has a training and validation phase\n",
        "        for phase in ['train', 'val']:\n",
        "            if phase == 'train':\n",
        "                model.train()  # Set model to training mode\n",
        "            else:\n",
        "                model.eval()   # Set model to evaluate mode\n",
        "\n",
        "            running_loss = 0.0\n",
        "            running_corrects = 0\n",
        "            \n",
        "\n",
        "            # Iterate over data.\n",
        "            for data in dataloaders[phase]:\n",
        "                inputs, labels = data.text, data.label\n",
        "                inputs = inputs.to(device)\n",
        "                labels = labels.to(device)\n",
        "                # zero the parameter gradients\n",
        "                optimizer.zero_grad()\n",
        "                \n",
        "                # forward\n",
        "                # track history if only in train\n",
        "                with torch.set_grad_enabled(phase == 'train'):\n",
        "                    # Get model outputs and calculate loss\n",
        "\n",
        "                    # backward + optimize only if in training phase\n",
        "                    if phase == 'train':\n",
        "                        # we need to clear out the hidden state of the LSTM,\n",
        "                        # detaching it from its history on the last instance.\n",
        "                        model.batch_size = inputs.shape[1]\n",
        "                        model.hidden = model.init_hidden()\n",
        "                        \n",
        "                        outputs = model(inputs).squeeze(1)\n",
        "                        loss = criterion(outputs, labels)\n",
        "                        loss.backward()\n",
        "                        optimizer.step()\n",
        "                        \n",
        "                    else:\n",
        "                        model.batch_size = inputs.shape[1]\n",
        "                        model.hidden = model.init_hidden()\n",
        "                        \n",
        "                        outputs = model(inputs).squeeze(1)\n",
        "                        loss = criterion(outputs, labels)\n",
        "\n",
        "\n",
        "                # statistics\n",
        "                running_loss += loss.item()\n",
        "                outputs = torch.round(torch.sigmoid(outputs))\n",
        "                corrects = (outputs == labels).float()\n",
        "                acc = corrects.sum()/len(corrects)\n",
        "                running_corrects += acc.item()\n",
        "\n",
        "            epoch_loss = running_loss / len(dataloaders[phase])\n",
        "            epoch_acc = running_corrects / len(dataloaders[phase])\n",
        "\n",
        "            print('{} Loss: {:.4f} Acc: {:.4f}'.format(phase, epoch_loss, epoch_acc))\n",
        "\n",
        "            # deep copy the model\n",
        "            if phase == 'val' and epoch_acc > best_acc:\n",
        "                best_acc = epoch_acc\n",
        "                best_model_wts = copy.deepcopy(model.state_dict())\n",
        "            \n",
        "            if phase+'_acc' in history:\n",
        "                # append the new number to the existing array at this slot\n",
        "                history[phase+'_acc'].append(epoch_acc)\n",
        "            else:\n",
        "                # create a new array in this slot\n",
        "                history[phase+'_acc'] = [epoch_acc]\n",
        "            \n",
        "            if phase+'_loss' in history:\n",
        "                # append the new number to the existing array at this slot\n",
        "                history[phase+'_loss'].append(epoch_loss)\n",
        "            else:\n",
        "                # create a new array in this slot\n",
        "                history[phase+'_loss'] = [epoch_loss]            \n",
        "\n",
        "    time_elapsed = time.time() - since\n",
        "    print('Training complete in {:.0f}m {:.0f}s'.format(time_elapsed // 60, time_elapsed % 60))\n",
        "    print('Best val Acc: {:4f}'.format(best_acc))\n",
        "\n",
        "    # load best model weights\n",
        "    model.load_state_dict(best_model_wts)\n",
        "    return model, history\n"
      ],
      "execution_count": 0,
      "outputs": []
    },
    {
      "metadata": {
        "id": "7Vx-7LsAgJbS",
        "colab_type": "code",
        "outputId": "d65803aa-798c-4fd6-aefb-1af19ba96dbb",
        "colab": {
          "base_uri": "https://localhost:8080/",
          "height": 767
        }
      },
      "cell_type": "code",
      "source": [
        "model, history = train_model(model, dataloaders_dict, criterion, optimizer, num_epochs=10)"
      ],
      "execution_count": 0,
      "outputs": [
        {
          "output_type": "stream",
          "text": [
            "Epoch 0/9\n",
            "----------\n"
          ],
          "name": "stdout"
        },
        {
          "output_type": "stream",
          "text": [
            "\r100%|█████████▉| 399966/400000 [00:40<00:00, 20356.93it/s]"
          ],
          "name": "stderr"
        },
        {
          "output_type": "stream",
          "text": [
            "train Loss: 0.6934 Acc: 0.5037\n",
            "val Loss: 0.6932 Acc: 0.4990\n",
            "Epoch 1/9\n",
            "----------\n",
            "train Loss: 0.6931 Acc: 0.4985\n",
            "val Loss: 0.6921 Acc: 0.4956\n",
            "Epoch 2/9\n",
            "----------\n",
            "train Loss: 0.6929 Acc: 0.5042\n",
            "val Loss: 0.6913 Acc: 0.5257\n",
            "Epoch 3/9\n",
            "----------\n",
            "train Loss: 0.6928 Acc: 0.5014\n",
            "val Loss: 0.6919 Acc: 0.5047\n",
            "Epoch 4/9\n",
            "----------\n",
            "train Loss: 0.6925 Acc: 0.5001\n",
            "val Loss: 0.6912 Acc: 0.4921\n",
            "Epoch 5/9\n",
            "----------\n",
            "train Loss: 0.6921 Acc: 0.5014\n",
            "val Loss: 0.6927 Acc: 0.5222\n",
            "Epoch 6/9\n",
            "----------\n",
            "train Loss: 0.6920 Acc: 0.5073\n",
            "val Loss: 0.6901 Acc: 0.5109\n",
            "Epoch 7/9\n",
            "----------\n",
            "train Loss: 0.6918 Acc: 0.5032\n",
            "val Loss: 0.6893 Acc: 0.5190\n",
            "Epoch 8/9\n",
            "----------\n",
            "train Loss: 0.6915 Acc: 0.4978\n",
            "val Loss: 0.7057 Acc: 0.4929\n",
            "Epoch 9/9\n",
            "----------\n",
            "train Loss: 0.6906 Acc: 0.5013\n",
            "val Loss: 0.6934 Acc: 0.5443\n",
            "Training complete in 8m 46s\n",
            "Best val Acc: 0.544304\n"
          ],
          "name": "stdout"
        }
      ]
    },
    {
      "metadata": {
        "id": "WkR7LTHxgJfu",
        "colab_type": "code",
        "outputId": "7bb2023c-6b48-4862-9de3-82d7b1502f80",
        "colab": {
          "base_uri": "https://localhost:8080/",
          "height": 571
        }
      },
      "cell_type": "code",
      "source": [
        "# summarize history for accuracy\n",
        "plt.plot(history['train_acc'])\n",
        "plt.plot(history['val_acc'])\n",
        "plt.title('model accuracy')\n",
        "plt.ylabel('accuracy')\n",
        "plt.xlabel('epoch')\n",
        "plt.legend(['train', 'val'], loc='upper left')\n",
        "plt.show()\n",
        "# summarize history for loss\n",
        "plt.plot(history['train_loss'])\n",
        "plt.plot(history['val_loss'])\n",
        "plt.title('model loss')\n",
        "plt.ylabel('loss')\n",
        "plt.xlabel('epoch')\n",
        "plt.legend(['train', 'val'], loc='upper left')\n",
        "plt.show()"
      ],
      "execution_count": 0,
      "outputs": [
        {
          "output_type": "display_data",
          "data": {
            "image/png": "[encoded data removed]",
            "text/plain": [
              "<Figure size 432x288 with 1 Axes>"
            ]
          },
          "metadata": {
            "tags": []
          }
        },
        {
          "output_type": "display_data",
          "data": {
            "image/png": "[encoded data removed]",
            "text/plain": [
              "<Figure size 432x288 with 1 Axes>"
            ]
          },
          "metadata": {
            "tags": []
          }
        }
      ]
    },
    {
      "metadata": {
        "id": "DlPrIesyhoH5",
        "colab_type": "code",
        "colab": {}
      },
      "cell_type": "code",
      "source": [
        ""
      ],
      "execution_count": 0,
      "outputs": []
    },
    {
      "metadata": {
        "colab_type": "text",
        "id": "gWYj6yyzhoY_"
      },
      "cell_type": "markdown",
      "source": [
        "## fasttext"
      ]
    },
    {
      "metadata": {
        "colab_type": "code",
        "id": "eiuM3UV8hoZH",
        "outputId": "25d0b31f-804d-43c9-98fd-deb3e9f897e6",
        "colab": {
          "base_uri": "https://localhost:8080/",
          "height": 4609
        }
      },
      "cell_type": "code",
      "source": [
        "TEXT.build_vocab(train_data, max_size=25000, vectors=\"fasttext.simple.300d\")\n",
        "LABEL.build_vocab(train_data)"
      ],
      "execution_count": 0,
      "outputs": [
        {
          "output_type": "stream",
          "text": [
            "\n",
            ".vector_cache/wiki.simple.vec: 0.00B [00:00, ?B/s]\u001b[A\n",
            ".vector_cache/wiki.simple.vec:   0%|          | 8.19k/293M [00:00<6:54:44, 11.8kB/s]\u001b[A\n",
            ".vector_cache/wiki.simple.vec:   0%|          | 24.6k/293M [00:00<5:03:00, 16.1kB/s]\u001b[A\n",
            ".vector_cache/wiki.simple.vec:   0%|          | 57.3k/293M [00:00<3:38:26, 22.4kB/s]\u001b[A\n",
            ".vector_cache/wiki.simple.vec:   0%|          | 123k/293M [00:01<2:36:03, 31.3kB/s] \u001b[A\n",
            ".vector_cache/wiki.simple.vec:   0%|          | 246k/293M [00:01<1:50:53, 44.0kB/s]\u001b[A\n",
            ".vector_cache/wiki.simple.vec:   0%|          | 459k/293M [00:01<1:18:32, 62.1kB/s]\u001b[A\n",
            ".vector_cache/wiki.simple.vec:   0%|          | 893k/293M [00:01<55:22, 88.0kB/s]  \u001b[A\n",
            ".vector_cache/wiki.simple.vec:   1%|          | 1.70M/293M [00:01<38:55, 125kB/s]\u001b[A\n",
            ".vector_cache/wiki.simple.vec:   1%|          | 3.40M/293M [00:01<27:12, 178kB/s]\u001b[A\n",
            ".vector_cache/wiki.simple.vec:   2%|▏         | 6.00M/293M [00:01<18:57, 253kB/s]\u001b[A\n",
            ".vector_cache/wiki.simple.vec:   3%|▎         | 8.68M/293M [00:02<13:13, 359kB/s]\u001b[A\n",
            ".vector_cache/wiki.simple.vec:   4%|▍         | 11.2M/293M [00:02<09:14, 508kB/s]\u001b[A\n",
            ".vector_cache/wiki.simple.vec:   5%|▍         | 14.2M/293M [00:02<06:28, 718kB/s]\u001b[A\n",
            ".vector_cache/wiki.simple.vec:   6%|▌         | 16.9M/293M [00:02<04:33, 1.01MB/s]\u001b[A\n",
            ".vector_cache/wiki.simple.vec:   7%|▋         | 19.4M/293M [00:02<03:14, 1.41MB/s]\u001b[A\n",
            ".vector_cache/wiki.simple.vec:   8%|▊         | 22.2M/293M [00:02<02:18, 1.95MB/s]\u001b[A\n",
            ".vector_cache/wiki.simple.vec:   8%|▊         | 24.3M/293M [00:02<01:41, 2.64MB/s]\u001b[A\n",
            ".vector_cache/wiki.simple.vec:   9%|▉         | 27.5M/293M [00:03<01:14, 3.59MB/s]\u001b[A\n",
            ".vector_cache/wiki.simple.vec:  10%|█         | 29.6M/293M [00:03<00:56, 4.66MB/s]\u001b[A\n",
            ".vector_cache/wiki.simple.vec:  11%|█         | 32.6M/293M [00:03<00:42, 6.08MB/s]\u001b[A\n",
            ".vector_cache/wiki.simple.vec:  12%|█▏        | 35.3M/293M [00:03<00:33, 7.60MB/s]\u001b[A\n",
            ".vector_cache/wiki.simple.vec:  13%|█▎        | 37.9M/293M [00:03<00:27, 9.26MB/s]\u001b[A\n",
            ".vector_cache/wiki.simple.vec:  14%|█▎        | 39.9M/293M [00:03<00:24, 10.3MB/s]\u001b[A\n",
            ".vector_cache/wiki.simple.vec:  15%|█▍        | 43.0M/293M [00:03<00:20, 12.2MB/s]\u001b[A\n",
            ".vector_cache/wiki.simple.vec:  16%|█▌        | 45.9M/293M [00:04<00:17, 13.9MB/s]\u001b[A\n",
            ".vector_cache/wiki.simple.vec:  17%|█▋        | 48.8M/293M [00:04<00:15, 15.3MB/s]\u001b[A\n",
            ".vector_cache/wiki.simple.vec:  18%|█▊        | 51.7M/293M [00:04<00:14, 16.6MB/s]\u001b[A\n",
            ".vector_cache/wiki.simple.vec:  19%|█▊        | 54.6M/293M [00:04<00:13, 17.6MB/s]\u001b[A\n",
            ".vector_cache/wiki.simple.vec:  20%|█▉        | 57.5M/293M [00:04<00:12, 18.3MB/s]\u001b[A\n",
            ".vector_cache/wiki.simple.vec:  21%|██        | 60.5M/293M [00:04<00:12, 19.0MB/s]\u001b[A\n",
            ".vector_cache/wiki.simple.vec:  22%|██▏       | 63.2M/293M [00:04<00:12, 19.1MB/s]\u001b[A\n",
            ".vector_cache/wiki.simple.vec:  23%|██▎       | 66.2M/293M [00:05<00:11, 19.6MB/s]\u001b[A\n",
            ".vector_cache/wiki.simple.vec:  24%|██▎       | 69.1M/293M [00:05<00:11, 19.8MB/s]\u001b[A\n",
            ".vector_cache/wiki.simple.vec:  25%|██▍       | 72.1M/293M [00:05<00:10, 20.1MB/s]\u001b[A\n",
            ".vector_cache/wiki.simple.vec:  26%|██▌       | 75.0M/293M [00:05<00:10, 20.4MB/s]\u001b[A\n",
            ".vector_cache/wiki.simple.vec:  27%|██▋       | 78.0M/293M [00:05<00:10, 20.4MB/s]\u001b[A\n",
            ".vector_cache/wiki.simple.vec:  28%|██▊       | 81.0M/293M [00:05<00:10, 20.6MB/s]\u001b[A\n",
            ".vector_cache/wiki.simple.vec:  29%|██▊       | 84.0M/293M [00:05<00:10, 20.7MB/s]\u001b[A\n",
            ".vector_cache/wiki.simple.vec:  30%|██▉       | 86.9M/293M [00:06<00:09, 20.7MB/s]\u001b[A\n",
            ".vector_cache/wiki.simple.vec:  31%|███       | 89.9M/293M [00:06<00:09, 20.8MB/s]\u001b[A\n",
            ".vector_cache/wiki.simple.vec:  32%|███▏      | 92.9M/293M [00:06<00:09, 20.9MB/s]\u001b[A\n",
            ".vector_cache/wiki.simple.vec:  33%|███▎      | 95.9M/293M [00:06<00:09, 20.9MB/s]\u001b[A\n",
            ".vector_cache/wiki.simple.vec:  34%|███▍      | 99.0M/293M [00:06<00:09, 21.2MB/s]\u001b[A\n",
            ".vector_cache/wiki.simple.vec:  35%|███▍      | 102M/293M [00:06<00:08, 21.3MB/s] \u001b[A\n",
            ".vector_cache/wiki.simple.vec:  36%|███▌      | 105M/293M [00:06<00:08, 21.4MB/s]\u001b[A\n",
            ".vector_cache/wiki.simple.vec:  37%|███▋      | 108M/293M [00:07<00:08, 21.5MB/s]\u001b[A\n",
            ".vector_cache/wiki.simple.vec:  38%|███▊      | 111M/293M [00:07<00:08, 21.5MB/s]\u001b[A\n",
            ".vector_cache/wiki.simple.vec:  39%|███▉      | 114M/293M [00:07<00:08, 21.2MB/s]\u001b[A\n",
            ".vector_cache/wiki.simple.vec:  40%|███▉      | 117M/293M [00:07<00:08, 21.0MB/s]\u001b[A\n",
            ".vector_cache/wiki.simple.vec:  41%|████      | 120M/293M [00:07<00:08, 21.2MB/s]\u001b[A\n",
            ".vector_cache/wiki.simple.vec:  42%|████▏     | 123M/293M [00:07<00:07, 21.3MB/s]\u001b[A\n",
            ".vector_cache/wiki.simple.vec:  43%|████▎     | 126M/293M [00:07<00:07, 21.4MB/s]\u001b[A\n",
            ".vector_cache/wiki.simple.vec:  44%|████▍     | 129M/293M [00:08<00:07, 21.5MB/s]\u001b[A\n",
            ".vector_cache/wiki.simple.vec:  45%|████▌     | 132M/293M [00:08<00:07, 21.3MB/s]\u001b[A\n",
            ".vector_cache/wiki.simple.vec:  46%|████▌     | 136M/293M [00:08<00:07, 21.4MB/s]\u001b[A\n",
            ".vector_cache/wiki.simple.vec:  47%|████▋     | 138M/293M [00:08<00:07, 21.1MB/s]\u001b[A\n",
            ".vector_cache/wiki.simple.vec:  48%|████▊     | 142M/293M [00:08<00:07, 21.4MB/s]\u001b[A\n",
            ".vector_cache/wiki.simple.vec:  49%|████▉     | 145M/293M [00:08<00:06, 21.4MB/s]\u001b[A\n",
            ".vector_cache/wiki.simple.vec:  50%|█████     | 148M/293M [00:08<00:06, 21.5MB/s]\u001b[A\n",
            ".vector_cache/wiki.simple.vec:  51%|█████▏    | 151M/293M [00:09<00:06, 21.4MB/s]\u001b[A\n",
            ".vector_cache/wiki.simple.vec:  52%|█████▏    | 154M/293M [00:09<00:06, 21.2MB/s]\u001b[A\n",
            ".vector_cache/wiki.simple.vec:  53%|█████▎    | 157M/293M [00:09<00:06, 21.0MB/s]\u001b[A\n",
            ".vector_cache/wiki.simple.vec:  54%|█████▍    | 159M/293M [00:09<00:06, 20.6MB/s]\u001b[A\n",
            ".vector_cache/wiki.simple.vec:  55%|█████▌    | 162M/293M [00:09<00:06, 20.3MB/s]\u001b[A\n",
            ".vector_cache/wiki.simple.vec:  56%|█████▋    | 165M/293M [00:09<00:06, 20.6MB/s]\u001b[A\n",
            ".vector_cache/wiki.simple.vec:  57%|█████▋    | 168M/293M [00:09<00:06, 20.6MB/s]\u001b[A\n",
            ".vector_cache/wiki.simple.vec:  58%|█████▊    | 171M/293M [00:10<00:05, 20.7MB/s]\u001b[A\n",
            ".vector_cache/wiki.simple.vec:  59%|█████▉    | 174M/293M [00:10<00:05, 20.7MB/s]\u001b[A\n",
            ".vector_cache/wiki.simple.vec:  60%|██████    | 177M/293M [00:10<00:05, 20.8MB/s]\u001b[A\n",
            ".vector_cache/wiki.simple.vec:  61%|██████▏   | 180M/293M [00:10<00:05, 20.9MB/s]\u001b[A\n",
            ".vector_cache/wiki.simple.vec:  62%|██████▏   | 183M/293M [00:10<00:05, 21.0MB/s]\u001b[A\n",
            ".vector_cache/wiki.simple.vec:  63%|██████▎   | 186M/293M [00:10<00:05, 20.9MB/s]\u001b[A\n",
            ".vector_cache/wiki.simple.vec:  64%|██████▍   | 189M/293M [00:10<00:04, 20.9MB/s]\u001b[A\n",
            ".vector_cache/wiki.simple.vec:  65%|██████▌   | 192M/293M [00:11<00:04, 20.8MB/s]\u001b[A\n",
            ".vector_cache/wiki.simple.vec:  67%|██████▋   | 195M/293M [00:11<00:04, 20.9MB/s]\u001b[A\n",
            ".vector_cache/wiki.simple.vec:  68%|██████▊   | 198M/293M [00:11<00:04, 21.0MB/s]\u001b[A\n",
            ".vector_cache/wiki.simple.vec:  69%|██████▊   | 201M/293M [00:11<00:04, 21.3MB/s]\u001b[A\n",
            ".vector_cache/wiki.simple.vec:  70%|██████▉   | 204M/293M [00:11<00:04, 21.2MB/s]\u001b[A\n",
            ".vector_cache/wiki.simple.vec:  71%|███████   | 207M/293M [00:11<00:04, 21.2MB/s]\u001b[A\n",
            ".vector_cache/wiki.simple.vec:  72%|███████▏  | 210M/293M [00:11<00:03, 21.2MB/s]\u001b[A\n",
            ".vector_cache/wiki.simple.vec:  73%|███████▎  | 213M/293M [00:12<00:03, 21.2MB/s]\u001b[A\n",
            ".vector_cache/wiki.simple.vec:  74%|███████▍  | 216M/293M [00:12<00:03, 21.3MB/s]\u001b[A\n",
            ".vector_cache/wiki.simple.vec:  75%|███████▍  | 219M/293M [00:12<00:03, 21.1MB/s]\u001b[A\n",
            ".vector_cache/wiki.simple.vec:  76%|███████▌  | 222M/293M [00:12<00:03, 21.1MB/s]\u001b[A\n",
            ".vector_cache/wiki.simple.vec:  77%|███████▋  | 225M/293M [00:12<00:03, 21.2MB/s]\u001b[A\n",
            ".vector_cache/wiki.simple.vec:  78%|███████▊  | 228M/293M [00:12<00:03, 21.3MB/s]\u001b[A\n",
            ".vector_cache/wiki.simple.vec:  79%|███████▉  | 231M/293M [00:12<00:02, 21.4MB/s]\u001b[A\n",
            ".vector_cache/wiki.simple.vec:  80%|███████▉  | 234M/293M [00:13<00:02, 21.4MB/s]\u001b[A\n",
            ".vector_cache/wiki.simple.vec:  81%|████████  | 238M/293M [00:13<00:02, 21.4MB/s]\u001b[A\n",
            ".vector_cache/wiki.simple.vec:  82%|████████▏ | 241M/293M [00:13<00:02, 21.6MB/s]\u001b[A\n",
            ".vector_cache/wiki.simple.vec:  83%|████████▎ | 244M/293M [00:13<00:02, 21.3MB/s]\u001b[A\n",
            ".vector_cache/wiki.simple.vec:  84%|████████▍ | 246M/293M [00:13<00:02, 20.9MB/s]\u001b[A\n",
            ".vector_cache/wiki.simple.vec:  85%|████████▌ | 249M/293M [00:13<00:02, 20.8MB/s]\u001b[A\n",
            ".vector_cache/wiki.simple.vec:  86%|████████▌ | 252M/293M [00:13<00:01, 20.9MB/s]\u001b[A\n",
            ".vector_cache/wiki.simple.vec:  87%|████████▋ | 255M/293M [00:14<00:01, 20.9MB/s]\u001b[A\n",
            ".vector_cache/wiki.simple.vec:  88%|████████▊ | 258M/293M [00:14<00:01, 21.0MB/s]\u001b[A\n",
            ".vector_cache/wiki.simple.vec:  89%|████████▉ | 262M/293M [00:14<00:01, 21.1MB/s]\u001b[A\n",
            ".vector_cache/wiki.simple.vec:  90%|█████████ | 265M/293M [00:14<00:01, 21.2MB/s]\u001b[A\n",
            ".vector_cache/wiki.simple.vec:  91%|█████████▏| 268M/293M [00:14<00:01, 21.4MB/s]\u001b[A\n",
            ".vector_cache/wiki.simple.vec:  92%|█████████▏| 271M/293M [00:14<00:01, 21.5MB/s]\u001b[A\n",
            ".vector_cache/wiki.simple.vec:  93%|█████████▎| 274M/293M [00:14<00:00, 21.5MB/s]\u001b[A\n",
            ".vector_cache/wiki.simple.vec:  94%|█████████▍| 277M/293M [00:15<00:00, 21.5MB/s]\u001b[A\n",
            ".vector_cache/wiki.simple.vec:  95%|█████████▌| 280M/293M [00:15<00:00, 21.5MB/s]\u001b[A\n",
            ".vector_cache/wiki.simple.vec:  97%|█████████▋| 283M/293M [00:15<00:00, 21.5MB/s]\u001b[A\n",
            ".vector_cache/wiki.simple.vec:  98%|█████████▊| 286M/293M [00:15<00:00, 21.3MB/s]\u001b[A\n",
            ".vector_cache/wiki.simple.vec:  99%|█████████▊| 289M/293M [00:15<00:00, 21.4MB/s]\u001b[A\n",
            ".vector_cache/wiki.simple.vec: 100%|█████████▉| 292M/293M [00:15<00:00, 21.3MB/s]\u001b[A\n",
            ".vector_cache/wiki.simple.vec: 293MB [00:15, 18.5MB/s]                           \u001b[A\n",
            "  0%|          | 0/111051 [00:00<?, ?it/s]\u001b[ASkipping token b'111051' with 1-dimensional vector [b'300']; likely a header\n",
            "\n",
            "  1%|          | 788/111051 [00:00<00:13, 7878.45it/s]\u001b[A\n",
            "  1%|▏         | 1508/111051 [00:00<00:14, 7660.43it/s]\u001b[A\n",
            "  2%|▏         | 2270/111051 [00:00<00:14, 7646.71it/s]\u001b[A\n",
            "  3%|▎         | 3002/111051 [00:00<00:14, 7543.39it/s]\u001b[A\n",
            "  3%|▎         | 3673/111051 [00:00<00:14, 7272.34it/s]\u001b[A\n",
            "  4%|▍         | 4409/111051 [00:00<00:14, 7297.99it/s]\u001b[A\n",
            "  5%|▍         | 5153/111051 [00:00<00:14, 7338.98it/s]\u001b[A\n",
            "  5%|▌         | 5915/111051 [00:00<00:14, 7418.18it/s]\u001b[A\n",
            "  6%|▌         | 6679/111051 [00:00<00:13, 7481.32it/s]\u001b[A\n",
            "  7%|▋         | 7435/111051 [00:01<00:13, 7503.01it/s]\u001b[A\n",
            "  7%|▋         | 8187/111051 [00:01<00:13, 7508.05it/s]\u001b[A\n",
            "  8%|▊         | 8942/111051 [00:01<00:13, 7518.83it/s]\u001b[A\n",
            "  9%|▉         | 9753/111051 [00:01<00:13, 7686.16it/s]\u001b[A\n",
            " 10%|▉         | 10569/111051 [00:01<00:12, 7820.72it/s]\u001b[A\n",
            " 10%|█         | 11418/111051 [00:01<00:12, 8008.26it/s]\u001b[A\n",
            " 11%|█         | 12219/111051 [00:01<00:12, 8006.70it/s]\u001b[A\n",
            " 12%|█▏        | 13075/111051 [00:01<00:12, 8163.76it/s]\u001b[A\n",
            " 13%|█▎        | 13892/111051 [00:01<00:11, 8116.53it/s]\u001b[A\n",
            " 13%|█▎        | 14704/111051 [00:01<00:11, 8116.67it/s]\u001b[A\n",
            " 14%|█▍        | 15516/111051 [00:02<00:12, 7944.30it/s]\u001b[A\n",
            " 15%|█▍        | 16312/111051 [00:02<00:12, 7826.59it/s]\u001b[A\n",
            " 15%|█▌        | 17096/111051 [00:02<00:12, 7666.23it/s]\u001b[A\n",
            " 16%|█▌        | 17865/111051 [00:02<00:12, 7612.10it/s]\u001b[A\n",
            " 17%|█▋        | 18636/111051 [00:02<00:12, 7640.73it/s]\u001b[A\n",
            " 17%|█▋        | 19401/111051 [00:02<00:12, 7558.70it/s]\u001b[A\n",
            " 18%|█▊        | 20158/111051 [00:02<00:12, 7412.06it/s]\u001b[A\n",
            " 19%|█▉        | 20901/111051 [00:02<00:12, 7408.37it/s]\u001b[A\n",
            " 20%|█▉        | 21659/111051 [00:02<00:11, 7456.34it/s]\u001b[A\n",
            " 20%|██        | 22429/111051 [00:02<00:11, 7525.70it/s]\u001b[A\n",
            " 21%|██        | 23183/111051 [00:03<00:12, 7318.07it/s]\u001b[A\n",
            " 22%|██▏       | 23917/111051 [00:03<00:12, 7221.49it/s]\u001b[A\n",
            " 22%|██▏       | 24655/111051 [00:03<00:11, 7266.60it/s]\u001b[A\n",
            " 23%|██▎       | 25421/111051 [00:03<00:11, 7379.82it/s]\u001b[A\n",
            " 24%|██▎       | 26189/111051 [00:03<00:11, 7465.14it/s]\u001b[A\n",
            " 24%|██▍       | 26950/111051 [00:03<00:11, 7505.96it/s]\u001b[A\n",
            " 25%|██▍       | 27702/111051 [00:03<00:11, 7423.57it/s]\u001b[A\n",
            " 26%|██▌       | 28475/111051 [00:03<00:10, 7511.84it/s]\u001b[A\n",
            " 26%|██▋       | 29227/111051 [00:03<00:11, 7437.80it/s]\u001b[A\n",
            " 27%|██▋       | 29972/111051 [00:03<00:10, 7419.48it/s]\u001b[A\n",
            " 28%|██▊       | 30715/111051 [00:04<00:10, 7415.96it/s]\u001b[A\n",
            " 28%|██▊       | 31490/111051 [00:04<00:10, 7512.49it/s]\u001b[A\n",
            " 29%|██▉       | 32243/111051 [00:04<00:10, 7516.49it/s]\u001b[A\n",
            " 30%|██▉       | 33025/111051 [00:04<00:10, 7603.29it/s]\u001b[A\n",
            " 30%|███       | 33807/111051 [00:04<00:10, 7665.90it/s]\u001b[A\n",
            " 31%|███       | 34575/111051 [00:04<00:09, 7662.06it/s]\u001b[A\n",
            " 32%|███▏      | 35342/111051 [00:04<00:10, 7412.05it/s]\u001b[A\n",
            " 33%|███▎      | 36093/111051 [00:04<00:10, 7441.01it/s]\u001b[A\n",
            " 33%|███▎      | 36866/111051 [00:04<00:09, 7525.19it/s]\u001b[A\n",
            " 34%|███▍      | 37629/111051 [00:04<00:09, 7554.18it/s]\u001b[A\n",
            " 35%|███▍      | 38392/111051 [00:05<00:09, 7574.51it/s]\u001b[A\n",
            " 35%|███▌      | 39162/111051 [00:05<00:09, 7611.72it/s]\u001b[A\n",
            " 36%|███▌      | 39948/111051 [00:05<00:09, 7684.18it/s]\u001b[A\n",
            " 37%|███▋      | 40720/111051 [00:05<00:09, 7693.20it/s]\u001b[A\n",
            " 37%|███▋      | 41498/111051 [00:05<00:09, 7717.73it/s]\u001b[A\n",
            " 38%|███▊      | 42271/111051 [00:05<00:08, 7708.36it/s]\u001b[A\n",
            " 39%|███▉      | 43043/111051 [00:05<00:09, 7445.33it/s]\u001b[A\n",
            " 39%|███▉      | 43790/111051 [00:05<00:09, 7349.38it/s]\u001b[A\n",
            " 40%|████      | 44544/111051 [00:05<00:08, 7405.48it/s]\u001b[A\n",
            " 41%|████      | 45294/111051 [00:05<00:08, 7433.24it/s]\u001b[A\n",
            " 41%|████▏     | 46045/111051 [00:06<00:08, 7455.26it/s]\u001b[A\n",
            " 42%|████▏     | 46799/111051 [00:06<00:08, 7479.12it/s]\u001b[A\n",
            " 43%|████▎     | 47557/111051 [00:06<00:08, 7508.04it/s]\u001b[A\n",
            " 44%|████▎     | 48309/111051 [00:06<00:08, 7500.95it/s]\u001b[A\n",
            " 44%|████▍     | 49088/111051 [00:06<00:08, 7584.30it/s]\u001b[A\n",
            " 45%|████▍     | 49847/111051 [00:06<00:08, 7583.45it/s]\u001b[A\n",
            " 46%|████▌     | 50606/111051 [00:06<00:08, 7366.88it/s]\u001b[A\n",
            " 46%|████▋     | 51370/111051 [00:06<00:08, 7445.58it/s]\u001b[A\n",
            " 47%|████▋     | 52116/111051 [00:06<00:07, 7438.57it/s]\u001b[A\n",
            " 48%|████▊     | 52878/111051 [00:07<00:07, 7488.58it/s]\u001b[A\n",
            " 48%|████▊     | 53644/111051 [00:07<00:07, 7537.24it/s]\u001b[A\n",
            " 49%|████▉     | 54406/111051 [00:07<00:07, 7561.75it/s]\u001b[A\n",
            " 50%|████▉     | 55176/111051 [00:07<00:07, 7601.20it/s]\u001b[A\n",
            " 50%|█████     | 55942/111051 [00:07<00:07, 7617.90it/s]\u001b[A\n",
            " 51%|█████     | 56705/111051 [00:07<00:07, 7607.32it/s]\u001b[A\n",
            " 52%|█████▏    | 57466/111051 [00:07<00:07, 7537.00it/s]\u001b[A\n",
            " 52%|█████▏    | 58220/111051 [00:07<00:07, 7320.95it/s]\u001b[A\n",
            " 53%|█████▎    | 58962/111051 [00:07<00:07, 7348.89it/s]\u001b[A\n",
            " 54%|█████▍    | 59723/111051 [00:07<00:06, 7423.68it/s]\u001b[A\n",
            " 54%|█████▍    | 60485/111051 [00:08<00:06, 7478.96it/s]\u001b[A\n",
            " 55%|█████▌    | 61243/111051 [00:08<00:06, 7507.46it/s]\u001b[A\n",
            " 56%|█████▌    | 62014/111051 [00:08<00:06, 7566.07it/s]\u001b[A\n",
            " 57%|█████▋    | 62792/111051 [00:08<00:06, 7628.26it/s]\u001b[A\n",
            " 57%|█████▋    | 63562/111051 [00:08<00:06, 7648.08it/s]\u001b[A\n",
            " 58%|█████▊    | 64328/111051 [00:08<00:06, 7633.74it/s]\u001b[A\n",
            " 59%|█████▊    | 65092/111051 [00:08<00:06, 7588.89it/s]\u001b[A\n",
            " 59%|█████▉    | 65852/111051 [00:08<00:06, 7259.65it/s]\u001b[A\n",
            " 60%|█████▉    | 66582/111051 [00:08<00:06, 7204.93it/s]\u001b[A\n",
            " 61%|██████    | 67340/111051 [00:08<00:05, 7310.52it/s]\u001b[A\n",
            " 61%|██████▏   | 68101/111051 [00:09<00:05, 7396.13it/s]\u001b[A\n",
            " 62%|██████▏   | 68851/111051 [00:09<00:05, 7425.08it/s]\u001b[A\n",
            " 63%|██████▎   | 69621/111051 [00:09<00:05, 7503.65it/s]\u001b[A\n",
            " 63%|██████▎   | 70400/111051 [00:09<00:05, 7587.24it/s]\u001b[A\n",
            " 64%|██████▍   | 71174/111051 [00:09<00:05, 7631.48it/s]\u001b[A\n",
            " 65%|██████▍   | 71952/111051 [00:09<00:05, 7674.13it/s]\u001b[A\n",
            " 65%|██████▌   | 72720/111051 [00:09<00:05, 7658.59it/s]\u001b[A\n",
            " 66%|██████▌   | 73487/111051 [00:09<00:05, 7336.13it/s]\u001b[A\n",
            " 67%|██████▋   | 74237/111051 [00:09<00:04, 7384.07it/s]\u001b[A\n",
            " 68%|██████▊   | 74978/111051 [00:09<00:04, 7259.15it/s]\u001b[A\n",
            " 68%|██████▊   | 75706/111051 [00:10<00:04, 7220.91it/s]\u001b[A\n",
            " 69%|██████▉   | 76451/111051 [00:10<00:04, 7287.76it/s]\u001b[A\n",
            " 70%|██████▉   | 77207/111051 [00:10<00:04, 7367.02it/s]\u001b[A\n",
            " 70%|███████   | 77966/111051 [00:10<00:04, 7430.62it/s]\u001b[A\n",
            " 71%|███████   | 78723/111051 [00:10<00:04, 7470.98it/s]\u001b[A\n",
            " 72%|███████▏  | 79479/111051 [00:10<00:04, 7495.14it/s]\u001b[A\n",
            " 72%|███████▏  | 80252/111051 [00:10<00:04, 7563.38it/s]\u001b[A\n",
            " 73%|███████▎  | 81009/111051 [00:10<00:04, 7353.64it/s]\u001b[A\n",
            " 74%|███████▎  | 81746/111051 [00:10<00:04, 7300.61it/s]\u001b[A\n",
            " 74%|███████▍  | 82500/111051 [00:10<00:03, 7366.87it/s]\u001b[A\n",
            " 75%|███████▍  | 83275/111051 [00:11<00:03, 7475.98it/s]\u001b[A\n",
            " 76%|███████▌  | 84063/111051 [00:11<00:03, 7592.66it/s]\u001b[A\n",
            " 76%|███████▋  | 84824/111051 [00:11<00:03, 7472.45it/s]\u001b[A\n",
            " 77%|███████▋  | 85584/111051 [00:11<00:03, 7508.37it/s]\u001b[A\n",
            " 78%|███████▊  | 86336/111051 [00:11<00:03, 7487.16it/s]\u001b[A\n",
            " 78%|███████▊  | 87105/111051 [00:11<00:03, 7544.84it/s]\u001b[A\n",
            " 79%|███████▉  | 87861/111051 [00:11<00:03, 7515.65it/s]\u001b[A\n",
            " 80%|███████▉  | 88613/111051 [00:11<00:03, 7219.83it/s]\u001b[A\n",
            " 80%|████████  | 89338/111051 [00:11<00:03, 7198.74it/s]\u001b[A\n",
            " 81%|████████  | 90095/111051 [00:11<00:02, 7303.29it/s]\u001b[A\n",
            " 82%|████████▏ | 90832/111051 [00:12<00:02, 7322.39it/s]\u001b[A\n",
            " 82%|████████▏ | 91586/111051 [00:12<00:02, 7385.90it/s]\u001b[A\n",
            " 83%|████████▎ | 92347/111051 [00:12<00:02, 7451.49it/s]\u001b[A\n",
            " 84%|████████▍ | 93117/111051 [00:12<00:02, 7523.50it/s]\u001b[A\n",
            " 85%|████████▍ | 93875/111051 [00:12<00:02, 7539.22it/s]\u001b[A\n",
            " 85%|████████▌ | 94630/111051 [00:12<00:02, 7429.61it/s]\u001b[A\n",
            " 86%|████████▌ | 95374/111051 [00:12<00:02, 7385.76it/s]\u001b[A\n",
            " 87%|████████▋ | 96114/111051 [00:12<00:02, 7223.67it/s]\u001b[A\n",
            " 87%|████████▋ | 96846/111051 [00:12<00:01, 7250.96it/s]\u001b[A\n",
            " 88%|████████▊ | 97617/111051 [00:13<00:01, 7381.77it/s]\u001b[A\n",
            " 89%|████████▊ | 98371/111051 [00:13<00:01, 7425.70it/s]\u001b[A\n",
            " 89%|████████▉ | 99138/111051 [00:13<00:01, 7495.11it/s]\u001b[A\n",
            " 90%|████████▉ | 99900/111051 [00:13<00:01, 7530.84it/s]\u001b[A\n",
            " 91%|█████████ | 100666/111051 [00:13<00:01, 7566.87it/s]\u001b[A\n",
            " 91%|█████████▏| 101424/111051 [00:13<00:01, 7570.22it/s]\u001b[A\n",
            " 92%|█████████▏| 102186/111051 [00:13<00:01, 7584.72it/s]\u001b[A\n",
            " 93%|█████████▎| 102945/111051 [00:13<00:01, 7576.80it/s]\u001b[A\n",
            " 93%|█████████▎| 103703/111051 [00:13<00:00, 7448.57it/s]\u001b[A\n",
            " 94%|█████████▍| 104451/111051 [00:13<00:00, 7455.34it/s]\u001b[A\n",
            " 95%|█████████▍| 105220/111051 [00:14<00:00, 7522.07it/s]\u001b[A\n",
            " 95%|█████████▌| 105985/111051 [00:14<00:00, 7559.42it/s]\u001b[A\n",
            " 96%|█████████▌| 106742/111051 [00:14<00:00, 7535.54it/s]\u001b[A\n",
            " 97%|█████████▋| 107520/111051 [00:14<00:00, 7605.58it/s]\u001b[A\n",
            " 98%|█████████▊| 108305/111051 [00:14<00:00, 7676.99it/s]\u001b[A\n",
            " 98%|█████████▊| 109083/111051 [00:14<00:00, 7707.40it/s]\u001b[A\n",
            " 99%|█████████▉| 109855/111051 [00:14<00:00, 7679.54it/s]\u001b[A\n",
            "100%|█████████▉| 110624/111051 [00:14<00:00, 7678.10it/s]\u001b[A"
          ],
          "name": "stderr"
        }
      ]
    },
    {
      "metadata": {
        "colab_type": "code",
        "id": "jvUxWGGqhoZU",
        "outputId": "ae5e9fd8-4c27-4992-9e3a-2aca38795736",
        "colab": {
          "base_uri": "https://localhost:8080/",
          "height": 53
        }
      },
      "cell_type": "code",
      "source": [
        "print('Unique tokens in TEXT vocabulary:', len(TEXT.vocab))\n",
        "print('Unique tokens in LABEL vocabulary:',len(LABEL.vocab))"
      ],
      "execution_count": 0,
      "outputs": [
        {
          "output_type": "stream",
          "text": [
            "Unique tokens in TEXT vocabulary: 25002\n",
            "Unique tokens in LABEL vocabulary: 2\n"
          ],
          "name": "stdout"
        }
      ]
    },
    {
      "metadata": {
        "colab_type": "code",
        "id": "Z7_ZcNtLhoZf",
        "outputId": "8bb6e2d3-6e07-4c46-904c-3a7b8cdfd1ca",
        "colab": {
          "base_uri": "https://localhost:8080/",
          "height": 35
        }
      },
      "cell_type": "code",
      "source": [
        "pretrained_embeddings = TEXT.vocab.vectors\n",
        "print(pretrained_embeddings.shape)"
      ],
      "execution_count": 0,
      "outputs": [
        {
          "output_type": "stream",
          "text": [
            "torch.Size([25002, 300])\n"
          ],
          "name": "stdout"
        }
      ]
    },
    {
      "metadata": {
        "colab_type": "code",
        "id": "2oS3-FfLhoZm",
        "outputId": "336d1727-dbd2-4b1a-ed29-dc8970b956c8",
        "colab": {
          "base_uri": "https://localhost:8080/",
          "height": 55
        }
      },
      "cell_type": "code",
      "source": [
        "print(TEXT.vocab.freqs.most_common(20))"
      ],
      "execution_count": 0,
      "outputs": [
        {
          "output_type": "stream",
          "text": [
            "[('the', 232653), (',', 220816), ('.', 189387), ('and', 125574), ('a', 125107), ('of', 115377), ('to', 107754), ('is', 87429), ('in', 70454), ('I', 62331), ('it', 61420), ('that', 56650), ('\"', 50472), (\"'s\", 49694), ('this', 48616), ('-', 42468), ('/><br', 41014), ('was', 40184), ('as', 34867), ('with', 34370)]\n"
          ],
          "name": "stdout"
        }
      ]
    },
    {
      "metadata": {
        "colab_type": "code",
        "id": "sHHDfHeohoZw",
        "outputId": "5db13728-b798-4991-ede5-92e2efc76329",
        "colab": {
          "base_uri": "https://localhost:8080/",
          "height": 35
        }
      },
      "cell_type": "code",
      "source": [
        "print(TEXT.vocab.itos[:10])"
      ],
      "execution_count": 0,
      "outputs": [
        {
          "output_type": "stream",
          "text": [
            "['<unk>', '<pad>', 'the', ',', '.', 'and', 'a', 'of', 'to', 'is']\n"
          ],
          "name": "stdout"
        }
      ]
    },
    {
      "metadata": {
        "colab_type": "code",
        "id": "SPz9MEb9hoZ4",
        "colab": {}
      },
      "cell_type": "code",
      "source": [
        "BATCH_SIZE = 64\n",
        "\n",
        "train_iterator, val_iterator, test_iterator = data.BucketIterator.splits(\n",
        "    (train_data, val_data, test_data),\n",
        "    batch_size=BATCH_SIZE,\n",
        "    device=device)"
      ],
      "execution_count": 0,
      "outputs": []
    },
    {
      "metadata": {
        "colab_type": "code",
        "id": "JC5TAxophoaM",
        "colab": {}
      },
      "cell_type": "code",
      "source": [
        "class LSTM_Model(nn.Module):\n",
        "    \n",
        "    def __init__(self, vocab_size, embedding_dim, hidden_dim, batch_size):\n",
        "      \n",
        "      super(LSTM_Model, self).__init__()\n",
        "      self.num_layers = 1\n",
        "      self.batch_size = batch_size\n",
        "      self.hidden_dim = hidden_dim\n",
        "      \n",
        "      self.word_embeddings = nn.Embedding(vocab_size, embedding_dim) \n",
        "      # The LSTM takes word embeddings as inputs, and outputs hidden states\n",
        "      # with dimensionality hidden_dim.\n",
        "      self.lstm = nn.LSTM(embedding_dim, hidden_dim, num_layers=self.num_layers) \n",
        "      self.fc = nn.Linear(hidden_dim, 1)\n",
        "      self.hidden = self.init_hidden()      \n",
        "      \n",
        "    def forward(self, sentence):\n",
        "      \n",
        "        embeds = self.word_embeddings(sentence)\n",
        "        # [sent_len, batch_size] --> [sent_len, batch_size, emb_dim]\n",
        "        lstm_out, self.hidden = self.lstm(embeds, self.hidden) \n",
        "        # [sent_len, batch_size, emb_dim] --> [seq_len, batch, num_directions*hidden_size]\n",
        "        preds = self.fc(lstm_out[-1].squeeze(0))\n",
        "        # [batch, num_directions*hidden_size] --> [batch_size, 1]\n",
        "        return preds\n",
        "      \n",
        "      \n",
        "    def init_hidden(self):\n",
        "        # Before we've done anything, we dont have any hidden state.\n",
        "        # The axes semantics are (num_layers, minibatch_size, hidden_dim)\n",
        "        return (torch.zeros(self.num_layers, self.batch_size, self.hidden_dim).to(device),\n",
        "                torch.zeros(self.num_layers, self.batch_size, self.hidden_dim).to(device))\n",
        "        "
      ],
      "execution_count": 0,
      "outputs": []
    },
    {
      "metadata": {
        "colab_type": "code",
        "id": "QzeSDCk8hoaV",
        "outputId": "94f77e38-1088-4ca6-f42c-83021b5993a7",
        "colab": {
          "base_uri": "https://localhost:8080/",
          "height": 106
        }
      },
      "cell_type": "code",
      "source": [
        "model = LSTM_Model(vocab_size=len(TEXT.vocab), embedding_dim=300, hidden_dim=128, batch_size=BATCH_SIZE)\n",
        "model.to(device)"
      ],
      "execution_count": 0,
      "outputs": [
        {
          "output_type": "execute_result",
          "data": {
            "text/plain": [
              "LSTM_Model(\n",
              "  (word_embeddings): Embedding(25002, 300)\n",
              "  (lstm): LSTM(300, 128)\n",
              "  (fc): Linear(in_features=128, out_features=1, bias=True)\n",
              ")"
            ]
          },
          "metadata": {
            "tags": []
          },
          "execution_count": 27
        }
      ]
    },
    {
      "metadata": {
        "colab_type": "code",
        "id": "xbaggwufhoag",
        "colab": {}
      },
      "cell_type": "code",
      "source": [
        "model.word_embeddings.weight.data.copy_(pretrained_embeddings)\n",
        "model.word_embeddings.weight.requires_grad = False"
      ],
      "execution_count": 0,
      "outputs": []
    },
    {
      "metadata": {
        "colab_type": "code",
        "id": "7qxemdk0hoa1",
        "colab": {}
      },
      "cell_type": "code",
      "source": [
        "parameters = filter(lambda p: p.requires_grad, model.parameters())\n",
        "\n",
        "optimizer = optim.Adam(parameters, lr=1e-3, amsgrad=True)\n",
        "criterion = nn.BCEWithLogitsLoss()"
      ],
      "execution_count": 0,
      "outputs": []
    },
    {
      "metadata": {
        "colab_type": "code",
        "id": "Rs6KVJtvhoa_",
        "colab": {}
      },
      "cell_type": "code",
      "source": [
        "# Create training and validation dataloaders\n",
        "dataloaders_dict = {'train': train_iterator, \n",
        "                    'val': val_iterator}"
      ],
      "execution_count": 0,
      "outputs": []
    },
    {
      "metadata": {
        "colab_type": "code",
        "id": "ngV_IdqthobO",
        "colab": {}
      },
      "cell_type": "code",
      "source": [
        "def train_model(model, dataloaders, criterion, optimizer, num_epochs, batch_size=BATCH_SIZE):\n",
        "    since = time.time()\n",
        "\n",
        "    history = dict()\n",
        "\n",
        "    best_model_wts = copy.deepcopy(model.state_dict())\n",
        "    best_acc = 0.0\n",
        "    skip_count = 0\n",
        "\n",
        "    for epoch in range(num_epochs):\n",
        "        print('Epoch {}/{}'.format(epoch, num_epochs - 1))\n",
        "        print('-' * 10)\n",
        "\n",
        "        # Each epoch has a training and validation phase\n",
        "        for phase in ['train', 'val']:\n",
        "            if phase == 'train':\n",
        "                model.train()  # Set model to training mode\n",
        "            else:\n",
        "                model.eval()   # Set model to evaluate mode\n",
        "\n",
        "            running_loss = 0.0\n",
        "            running_corrects = 0\n",
        "            \n",
        "\n",
        "            # Iterate over data.\n",
        "            for data in dataloaders[phase]:\n",
        "                inputs, labels = data.text, data.label\n",
        "                inputs = inputs.to(device)\n",
        "                labels = labels.to(device)\n",
        "                # zero the parameter gradients\n",
        "                optimizer.zero_grad()\n",
        "                \n",
        "                # forward\n",
        "                # track history if only in train\n",
        "                with torch.set_grad_enabled(phase == 'train'):\n",
        "                    # Get model outputs and calculate loss\n",
        "\n",
        "                    # backward + optimize only if in training phase\n",
        "                    if phase == 'train':\n",
        "                        # we need to clear out the hidden state of the LSTM,\n",
        "                        # detaching it from its history on the last instance.\n",
        "                        model.batch_size = inputs.shape[1]\n",
        "                        model.hidden = model.init_hidden()\n",
        "                        \n",
        "                        outputs = model(inputs).squeeze(1)\n",
        "                        loss = criterion(outputs, labels)\n",
        "                        loss.backward()\n",
        "                        optimizer.step()\n",
        "                        \n",
        "                    else:\n",
        "                        model.batch_size = inputs.shape[1]\n",
        "                        model.hidden = model.init_hidden()\n",
        "                        \n",
        "                        outputs = model(inputs).squeeze(1)\n",
        "                        loss = criterion(outputs, labels)\n",
        "\n",
        "\n",
        "                # statistics\n",
        "                running_loss += loss.item()\n",
        "                outputs = torch.round(torch.sigmoid(outputs))\n",
        "                corrects = (outputs == labels).float()\n",
        "                acc = corrects.sum()/len(corrects)\n",
        "                running_corrects += acc.item()\n",
        "\n",
        "            epoch_loss = running_loss / len(dataloaders[phase])\n",
        "            epoch_acc = running_corrects / len(dataloaders[phase])\n",
        "\n",
        "            print('{} Loss: {:.4f} Acc: {:.4f}'.format(phase, epoch_loss, epoch_acc))\n",
        "\n",
        "            # deep copy the model\n",
        "            if phase == 'val' and epoch_acc > best_acc:\n",
        "                best_acc = epoch_acc\n",
        "                best_model_wts = copy.deepcopy(model.state_dict())\n",
        "            \n",
        "            if phase+'_acc' in history:\n",
        "                # append the new number to the existing array at this slot\n",
        "                history[phase+'_acc'].append(epoch_acc)\n",
        "            else:\n",
        "                # create a new array in this slot\n",
        "                history[phase+'_acc'] = [epoch_acc]\n",
        "            \n",
        "            if phase+'_loss' in history:\n",
        "                # append the new number to the existing array at this slot\n",
        "                history[phase+'_loss'].append(epoch_loss)\n",
        "            else:\n",
        "                # create a new array in this slot\n",
        "                history[phase+'_loss'] = [epoch_loss]            \n",
        "\n",
        "    time_elapsed = time.time() - since\n",
        "    print('Training complete in {:.0f}m {:.0f}s'.format(time_elapsed // 60, time_elapsed % 60))\n",
        "    print('Best val Acc: {:4f}'.format(best_acc))\n",
        "\n",
        "    # load best model weights\n",
        "    model.load_state_dict(best_model_wts)\n",
        "    return model, history\n"
      ],
      "execution_count": 0,
      "outputs": []
    },
    {
      "metadata": {
        "colab_type": "code",
        "id": "I1tZhBPOhobY",
        "outputId": "4210ac80-9980-4ea3-9749-f6f7c28ff2b1",
        "colab": {
          "base_uri": "https://localhost:8080/",
          "height": 785
        }
      },
      "cell_type": "code",
      "source": [
        "model, history = train_model(model, dataloaders_dict, criterion, optimizer, num_epochs=10)"
      ],
      "execution_count": 0,
      "outputs": [
        {
          "output_type": "stream",
          "text": [
            "Epoch 0/9\n",
            "----------\n"
          ],
          "name": "stdout"
        },
        {
          "output_type": "stream",
          "text": [
            "\n",
            "100%|█████████▉| 110624/111051 [00:28<00:00, 7678.10it/s]\u001b[A"
          ],
          "name": "stderr"
        },
        {
          "output_type": "stream",
          "text": [
            "train Loss: 0.6934 Acc: 0.5043\n",
            "val Loss: 0.6936 Acc: 0.4915\n",
            "Epoch 1/9\n",
            "----------\n",
            "train Loss: 0.6932 Acc: 0.5009\n",
            "val Loss: 0.6925 Acc: 0.4937\n",
            "Epoch 2/9\n",
            "----------\n",
            "train Loss: 0.6930 Acc: 0.5040\n",
            "val Loss: 0.6939 Acc: 0.5117\n",
            "Epoch 3/9\n",
            "----------\n",
            "train Loss: 0.6928 Acc: 0.5056\n",
            "val Loss: 0.6930 Acc: 0.4864\n",
            "Epoch 4/9\n",
            "----------\n",
            "train Loss: 0.6921 Acc: 0.5003\n",
            "val Loss: 0.8428 Acc: 0.4976\n",
            "Epoch 5/9\n",
            "----------\n",
            "train Loss: 0.6921 Acc: 0.5005\n",
            "val Loss: 0.7026 Acc: 0.4840\n",
            "Epoch 6/9\n",
            "----------\n",
            "train Loss: 0.6917 Acc: 0.5059\n",
            "val Loss: 0.7041 Acc: 0.4931\n",
            "Epoch 7/9\n",
            "----------\n",
            "train Loss: 0.6911 Acc: 0.5049\n",
            "val Loss: 0.7238 Acc: 0.5107\n",
            "Epoch 8/9\n",
            "----------\n",
            "train Loss: 0.6905 Acc: 0.5016\n",
            "val Loss: 0.7196 Acc: 0.5020\n",
            "Epoch 9/9\n",
            "----------\n",
            "train Loss: 0.6896 Acc: 0.5047\n",
            "val Loss: 0.7418 Acc: 0.5030\n",
            "Training complete in 9m 41s\n",
            "Best val Acc: 0.511669\n"
          ],
          "name": "stdout"
        }
      ]
    },
    {
      "metadata": {
        "colab_type": "code",
        "id": "ZHzjnrzdhobg",
        "outputId": "cf122631-ea98-4b98-b72e-94ff7efda4cb",
        "colab": {
          "base_uri": "https://localhost:8080/",
          "height": 571
        }
      },
      "cell_type": "code",
      "source": [
        "# summarize history for accuracy\n",
        "plt.plot(history['train_acc'])\n",
        "plt.plot(history['val_acc'])\n",
        "plt.title('model accuracy')\n",
        "plt.ylabel('accuracy')\n",
        "plt.xlabel('epoch')\n",
        "plt.legend(['train', 'val'], loc='upper left')\n",
        "plt.show()\n",
        "# summarize history for loss\n",
        "plt.plot(history['train_loss'])\n",
        "plt.plot(history['val_loss'])\n",
        "plt.title('model loss')\n",
        "plt.ylabel('loss')\n",
        "plt.xlabel('epoch')\n",
        "plt.legend(['train', 'val'], loc='upper left')\n",
        "plt.show()"
      ],
      "execution_count": 0,
      "outputs": [
        {
          "output_type": "display_data",
          "data": {
            "image/png": "[encoded data removed]",
            "text/plain": [
              "<Figure size 432x288 with 1 Axes>"
            ]
          },
          "metadata": {
            "tags": []
          }
        },
        {
          "output_type": "display_data",
          "data": {
            "image/png": "[encoded data removed]",
            "text/plain": [
              "<Figure size 432x288 with 1 Axes>"
            ]
          },
          "metadata": {
            "tags": []
          }
        }
      ]
    },
    {
      "metadata": {
        "id": "94DnDDAln6TJ",
        "colab_type": "code",
        "colab": {}
      },
      "cell_type": "code",
      "source": [
        ""
      ],
      "execution_count": 0,
      "outputs": []
    },
    {
      "metadata": {
        "id": "1thIJ65BASNb",
        "colab_type": "text"
      },
      "cell_type": "markdown",
      "source": [
        "## Custom Embedding Layer using LSTM"
      ]
    },
    {
      "metadata": {
        "id": "XAC0kTn2513w",
        "colab_type": "code",
        "colab": {}
      },
      "cell_type": "code",
      "source": [
        "TEXT.build_vocab(train_data, max_size=25000)\n",
        "LABEL.build_vocab(train_data)"
      ],
      "execution_count": 0,
      "outputs": []
    },
    {
      "metadata": {
        "id": "wfxqqDe08R8U",
        "colab_type": "code",
        "outputId": "3efc97b9-2d5d-4731-9052-ff7228e85fab",
        "colab": {
          "base_uri": "https://localhost:8080/",
          "height": 53
        }
      },
      "cell_type": "code",
      "source": [
        "print('Unique tokens in TEXT vocabulary:', len(TEXT.vocab))\n",
        "print('Unique tokens in LABEL vocabulary:',len(LABEL.vocab))"
      ],
      "execution_count": 0,
      "outputs": [
        {
          "output_type": "stream",
          "text": [
            "Unique tokens in TEXT vocabulary: 25002\n",
            "Unique tokens in LABEL vocabulary: 2\n"
          ],
          "name": "stdout"
        }
      ]
    },
    {
      "metadata": {
        "id": "RQNNaLqc8ffw",
        "colab_type": "code",
        "outputId": "60571dfd-94e1-4717-dff5-84ef23e99034",
        "colab": {
          "base_uri": "https://localhost:8080/",
          "height": 55
        }
      },
      "cell_type": "code",
      "source": [
        "print(TEXT.vocab.freqs.most_common(20))"
      ],
      "execution_count": 0,
      "outputs": [
        {
          "output_type": "stream",
          "text": [
            "[('the', 232653), (',', 220816), ('.', 189387), ('and', 125574), ('a', 125107), ('of', 115377), ('to', 107754), ('is', 87429), ('in', 70454), ('I', 62331), ('it', 61420), ('that', 56650), ('\"', 50472), (\"'s\", 49694), ('this', 48616), ('-', 42468), ('/><br', 41014), ('was', 40184), ('as', 34867), ('with', 34370)]\n"
          ],
          "name": "stdout"
        }
      ]
    },
    {
      "metadata": {
        "id": "PatGqW_s8kk1",
        "colab_type": "code",
        "outputId": "e22c9f8d-6ef9-4b53-881c-b8c04dbeec52",
        "colab": {
          "base_uri": "https://localhost:8080/",
          "height": 35
        }
      },
      "cell_type": "code",
      "source": [
        "print(TEXT.vocab.itos[:10])"
      ],
      "execution_count": 0,
      "outputs": [
        {
          "output_type": "stream",
          "text": [
            "['<unk>', '<pad>', 'the', ',', '.', 'and', 'a', 'of', 'to', 'is']\n"
          ],
          "name": "stdout"
        }
      ]
    },
    {
      "metadata": {
        "id": "9fwOT2ff8yk9",
        "colab_type": "code",
        "colab": {}
      },
      "cell_type": "code",
      "source": [
        "BATCH_SIZE = 64\n",
        "\n",
        "train_iterator, val_iterator, test_iterator = data.BucketIterator.splits(\n",
        "    (train_data, val_data, test_data),\n",
        "    batch_size=BATCH_SIZE,\n",
        "    device=device)"
      ],
      "execution_count": 0,
      "outputs": []
    },
    {
      "metadata": {
        "id": "ggocjCdV8-Qk",
        "colab_type": "code",
        "colab": {}
      },
      "cell_type": "code",
      "source": [
        "class LSTM_Model(nn.Module):\n",
        "    \n",
        "    def __init__(self, vocab_size, embedding_dim, hidden_dim, batch_size):\n",
        "      \n",
        "      super(LSTM_Model, self).__init__()\n",
        "      self.num_layers = 1\n",
        "      self.batch_size = batch_size\n",
        "      self.hidden_dim = hidden_dim\n",
        "      \n",
        "      self.word_embeddings = nn.Embedding(vocab_size, embedding_dim) \n",
        "      # The LSTM takes word embeddings as inputs, and outputs hidden states\n",
        "      # with dimensionality hidden_dim.\n",
        "      self.lstm = nn.LSTM(embedding_dim, hidden_dim, num_layers=self.num_layers) \n",
        "      self.fc = nn.Linear(hidden_dim, 1)\n",
        "      self.hidden = self.init_hidden()      \n",
        "      \n",
        "    def forward(self, sentence):\n",
        "      \n",
        "        embeds = self.word_embeddings(sentence)\n",
        "        # [sent_len, batch_size] --> [sent_len, batch_size, emb_dim]\n",
        "        lstm_out, self.hidden = self.lstm(embeds, self.hidden) \n",
        "        # [sent_len, batch_size, emb_dim] --> [seq_len, batch, num_directions*hidden_size]\n",
        "        (hidden, cell) =  self.hidden\n",
        "        preds = self.fc(lstm_out[-1].squeeze(0))\n",
        "        # [batch, num_directions*hidden_size] --> [batch_size, 1]\n",
        "        return preds\n",
        "      \n",
        "      \n",
        "    def init_hidden(self):\n",
        "        # Before we've done anything, we dont have any hidden state.\n",
        "        # The axes semantics are (num_layers, minibatch_size, hidden_dim)\n",
        "        return (torch.zeros(self.num_layers, self.batch_size, self.hidden_dim).to(device),\n",
        "                torch.zeros(self.num_layers, self.batch_size, self.hidden_dim).to(device))\n",
        "        "
      ],
      "execution_count": 0,
      "outputs": []
    },
    {
      "metadata": {
        "id": "H8ND7h-y9Neb",
        "colab_type": "code",
        "outputId": "788ac888-bfc6-44b4-83d2-94acc8457a61",
        "colab": {
          "base_uri": "https://localhost:8080/",
          "height": 106
        }
      },
      "cell_type": "code",
      "source": [
        "model = LSTM_Model(vocab_size=len(TEXT.vocab), embedding_dim=300, hidden_dim=128, batch_size=BATCH_SIZE)\n",
        "model.to(device)"
      ],
      "execution_count": 0,
      "outputs": [
        {
          "output_type": "execute_result",
          "data": {
            "text/plain": [
              "LSTM_Model(\n",
              "  (word_embeddings): Embedding(25002, 300)\n",
              "  (lstm): LSTM(300, 128)\n",
              "  (fc): Linear(in_features=128, out_features=1, bias=True)\n",
              ")"
            ]
          },
          "metadata": {
            "tags": []
          },
          "execution_count": 40
        }
      ]
    },
    {
      "metadata": {
        "id": "s6lZpCaw9Nk7",
        "colab_type": "code",
        "colab": {}
      },
      "cell_type": "code",
      "source": [
        "optimizer = optim.Adam(model.parameters(), lr=1e-3, amsgrad=True)\n",
        "criterion = nn.BCEWithLogitsLoss()"
      ],
      "execution_count": 0,
      "outputs": []
    },
    {
      "metadata": {
        "id": "eJcncDeCF8CA",
        "colab_type": "code",
        "colab": {}
      },
      "cell_type": "code",
      "source": [
        "# Create training and validation dataloaders\n",
        "dataloaders_dict = {'train': train_iterator, \n",
        "                    'val': val_iterator}"
      ],
      "execution_count": 0,
      "outputs": []
    },
    {
      "metadata": {
        "id": "babVkHilG5XR",
        "colab_type": "code",
        "colab": {}
      },
      "cell_type": "code",
      "source": [
        "def train_model(model, dataloaders, criterion, optimizer, num_epochs, batch_size=BATCH_SIZE):\n",
        "    since = time.time()\n",
        "\n",
        "    history = dict()\n",
        "\n",
        "    best_model_wts = copy.deepcopy(model.state_dict())\n",
        "    best_acc = 0.0\n",
        "    skip_count = 0\n",
        "\n",
        "    for epoch in range(num_epochs):\n",
        "        print('Epoch {}/{}'.format(epoch, num_epochs - 1))\n",
        "        print('-' * 10)\n",
        "\n",
        "        # Each epoch has a training and validation phase\n",
        "        for phase in ['train', 'val']:\n",
        "            if phase == 'train':\n",
        "                model.train()  # Set model to training mode\n",
        "            else:\n",
        "                model.eval()   # Set model to evaluate mode\n",
        "\n",
        "            running_loss = 0.0\n",
        "            running_corrects = 0\n",
        "            \n",
        "\n",
        "            # Iterate over data.\n",
        "            for data in dataloaders[phase]:\n",
        "                inputs, labels = data.text, data.label\n",
        "                inputs = inputs.to(device)\n",
        "                labels = labels.to(device)\n",
        "                # zero the parameter gradients\n",
        "                optimizer.zero_grad()\n",
        "\n",
        "                # forward\n",
        "                # track history if only in train\n",
        "                with torch.set_grad_enabled(phase == 'train'):\n",
        "                    # Get model outputs and calculate loss\n",
        "\n",
        "                    # backward + optimize only if in training phase\n",
        "                    if phase == 'train':\n",
        "                        # we need to clear out the hidden state of the LSTM,\n",
        "                        # detaching it from its history on the last instance.\n",
        "                        model.batch_size = inputs.shape[1]\n",
        "                        model.hidden = model.init_hidden()\n",
        "                        \n",
        "                        outputs = model(inputs).squeeze(1)\n",
        "                        loss = criterion(outputs, labels)\n",
        "                        loss.backward()\n",
        "                        optimizer.step()\n",
        "                        \n",
        "                    else:\n",
        "                        model.batch_size = inputs.shape[1]\n",
        "                        model.hidden = model.init_hidden()\n",
        "                        \n",
        "                        outputs = model(inputs).squeeze(1)\n",
        "                        loss = criterion(outputs, labels)\n",
        "\n",
        "\n",
        "                # statistics\n",
        "                running_loss += loss.item()\n",
        "                outputs = torch.round(torch.sigmoid(outputs))\n",
        "                corrects = (outputs == labels).float()\n",
        "                acc = corrects.sum()/len(corrects)\n",
        "                running_corrects += acc.item()\n",
        "\n",
        "            epoch_loss = running_loss / len(dataloaders[phase])\n",
        "            epoch_acc = running_corrects / len(dataloaders[phase])\n",
        "\n",
        "            print('{} Loss: {:.4f} Acc: {:.4f}'.format(phase, epoch_loss, epoch_acc))\n",
        "\n",
        "            # deep copy the model\n",
        "            if phase == 'val' and epoch_acc > best_acc:\n",
        "                best_acc = epoch_acc\n",
        "                best_model_wts = copy.deepcopy(model.state_dict())\n",
        "            \n",
        "            if phase+'_acc' in history:\n",
        "                # append the new number to the existing array at this slot\n",
        "                history[phase+'_acc'].append(epoch_acc)\n",
        "            else:\n",
        "                # create a new array in this slot\n",
        "                history[phase+'_acc'] = [epoch_acc]\n",
        "            \n",
        "            if phase+'_loss' in history:\n",
        "                # append the new number to the existing array at this slot\n",
        "                history[phase+'_loss'].append(epoch_loss)\n",
        "            else:\n",
        "                # create a new array in this slot\n",
        "                history[phase+'_loss'] = [epoch_loss]            \n",
        "\n",
        "    time_elapsed = time.time() - since\n",
        "    print('Training complete in {:.0f}m {:.0f}s'.format(time_elapsed // 60, time_elapsed % 60))\n",
        "    print('Best val Acc: {:4f}'.format(best_acc))\n",
        "\n",
        "    # load best model weights\n",
        "    model.load_state_dict(best_model_wts)\n",
        "    return model, history\n"
      ],
      "execution_count": 0,
      "outputs": []
    },
    {
      "metadata": {
        "id": "fsZ4FAgwH_OH",
        "colab_type": "code",
        "outputId": "bf8ce321-14d2-4cb9-88b6-ea3c5117b991",
        "colab": {
          "base_uri": "https://localhost:8080/",
          "height": 767
        }
      },
      "cell_type": "code",
      "source": [
        "model, history = train_model(model, dataloaders_dict, criterion, optimizer, num_epochs=10)"
      ],
      "execution_count": 0,
      "outputs": [
        {
          "output_type": "stream",
          "text": [
            "Epoch 0/9\n",
            "----------\n",
            "train Loss: 0.6944 Acc: 0.5022\n",
            "val Loss: 0.6921 Acc: 0.5063\n",
            "Epoch 1/9\n",
            "----------\n",
            "train Loss: 0.6928 Acc: 0.4967\n",
            "val Loss: 0.6925 Acc: 0.5192\n",
            "Epoch 2/9\n",
            "----------\n",
            "train Loss: 0.6912 Acc: 0.5061\n",
            "val Loss: 0.6949 Acc: 0.5299\n",
            "Epoch 3/9\n",
            "----------\n",
            "train Loss: 0.6896 Acc: 0.5057\n",
            "val Loss: 0.6969 Acc: 0.5113\n",
            "Epoch 4/9\n",
            "----------\n",
            "train Loss: 0.6882 Acc: 0.5063\n",
            "val Loss: 0.6963 Acc: 0.5548\n",
            "Epoch 5/9\n",
            "----------\n",
            "train Loss: 0.6872 Acc: 0.5032\n",
            "val Loss: 0.6986 Acc: 0.5318\n",
            "Epoch 6/9\n",
            "----------\n",
            "train Loss: 0.6806 Acc: 0.5523\n",
            "val Loss: 0.7395 Acc: 0.5659\n",
            "Epoch 7/9\n",
            "----------\n",
            "train Loss: 0.6429 Acc: 0.6541\n",
            "val Loss: 0.5850 Acc: 0.7312\n",
            "Epoch 8/9\n",
            "----------\n",
            "train Loss: 0.5076 Acc: 0.7909\n",
            "val Loss: 0.5730 Acc: 0.6948\n",
            "Epoch 9/9\n",
            "----------\n",
            "train Loss: 0.3957 Acc: 0.8481\n",
            "val Loss: 0.4420 Acc: 0.8131\n",
            "Training complete in 14m 20s\n",
            "Best val Acc: 0.813093\n"
          ],
          "name": "stdout"
        }
      ]
    },
    {
      "metadata": {
        "id": "Vc9qVM8OID3_",
        "colab_type": "code",
        "outputId": "3759b244-95fe-4af1-931a-fdc55b436553",
        "colab": {
          "base_uri": "https://localhost:8080/",
          "height": 571
        }
      },
      "cell_type": "code",
      "source": [
        "# summarize history for accuracy\n",
        "plt.plot(history['train_acc'])\n",
        "plt.plot(history['val_acc'])\n",
        "plt.title('model accuracy')\n",
        "plt.ylabel('accuracy')\n",
        "plt.xlabel('epoch')\n",
        "plt.legend(['train', 'val'], loc='upper left')\n",
        "plt.show()\n",
        "# summarize history for loss\n",
        "plt.plot(history['train_loss'])\n",
        "plt.plot(history['val_loss'])\n",
        "plt.title('model loss')\n",
        "plt.ylabel('loss')\n",
        "plt.xlabel('epoch')\n",
        "plt.legend(['train', 'val'], loc='upper left')\n",
        "plt.show()"
      ],
      "execution_count": 0,
      "outputs": [
        {
          "output_type": "display_data",
          "data": {
            "image/png": "[encoded data removed]",
            "text/plain": [
              "<Figure size 432x288 with 1 Axes>"
            ]
          },
          "metadata": {
            "tags": []
          }
        },
        {
          "output_type": "display_data",
          "data": {
            "image/png": "[encoded data removed]",
            "text/plain": [
              "<Figure size 432x288 with 1 Axes>"
            ]
          },
          "metadata": {
            "tags": []
          }
        }
      ]
    },
    {
      "metadata": {
        "id": "Zcd66NyVIXZN",
        "colab_type": "code",
        "colab": {}
      },
      "cell_type": "code",
      "source": [
        ""
      ],
      "execution_count": 0,
      "outputs": []
    },
    {
      "metadata": {
        "colab_type": "text",
        "id": "YomNAD_Ve3dx"
      },
      "cell_type": "markdown",
      "source": [
        "## Custom Embedding Layer using Bidirectional LSTM"
      ]
    },
    {
      "metadata": {
        "colab_type": "code",
        "id": "9GOPy_Zhe3d0",
        "colab": {}
      },
      "cell_type": "code",
      "source": [
        "TEXT.build_vocab(train_data, max_size=25000)\n",
        "LABEL.build_vocab(train_data)"
      ],
      "execution_count": 0,
      "outputs": []
    },
    {
      "metadata": {
        "colab_type": "code",
        "outputId": "f1496559-c34f-43d1-91c6-fc95dd3368ee",
        "id": "4aGpOT8Ue3eA",
        "colab": {
          "base_uri": "https://localhost:8080/",
          "height": 53
        }
      },
      "cell_type": "code",
      "source": [
        "print('Unique tokens in TEXT vocabulary:', len(TEXT.vocab))\n",
        "print('Unique tokens in LABEL vocabulary:',len(LABEL.vocab))"
      ],
      "execution_count": 0,
      "outputs": [
        {
          "output_type": "stream",
          "text": [
            "Unique tokens in TEXT vocabulary: 25002\n",
            "Unique tokens in LABEL vocabulary: 2\n"
          ],
          "name": "stdout"
        }
      ]
    },
    {
      "metadata": {
        "colab_type": "code",
        "outputId": "9d4e88e0-e65f-4222-f44a-813d69d1285a",
        "id": "sLrJEwB6e3eG",
        "colab": {
          "base_uri": "https://localhost:8080/",
          "height": 55
        }
      },
      "cell_type": "code",
      "source": [
        "print(TEXT.vocab.freqs.most_common(20))"
      ],
      "execution_count": 0,
      "outputs": [
        {
          "output_type": "stream",
          "text": [
            "[('the', 232653), (',', 220816), ('.', 189387), ('and', 125574), ('a', 125107), ('of', 115377), ('to', 107754), ('is', 87429), ('in', 70454), ('I', 62331), ('it', 61420), ('that', 56650), ('\"', 50472), (\"'s\", 49694), ('this', 48616), ('-', 42468), ('/><br', 41014), ('was', 40184), ('as', 34867), ('with', 34370)]\n"
          ],
          "name": "stdout"
        }
      ]
    },
    {
      "metadata": {
        "colab_type": "code",
        "outputId": "4fea0235-ad4a-45fa-e372-04b7f65557a8",
        "id": "ei6EvHXye3eM",
        "colab": {
          "base_uri": "https://localhost:8080/",
          "height": 35
        }
      },
      "cell_type": "code",
      "source": [
        "print(TEXT.vocab.itos[:10])"
      ],
      "execution_count": 0,
      "outputs": [
        {
          "output_type": "stream",
          "text": [
            "['<unk>', '<pad>', 'the', ',', '.', 'and', 'a', 'of', 'to', 'is']\n"
          ],
          "name": "stdout"
        }
      ]
    },
    {
      "metadata": {
        "colab_type": "code",
        "id": "AqKMS3wQe3eU",
        "colab": {}
      },
      "cell_type": "code",
      "source": [
        "BATCH_SIZE = 64\n",
        "\n",
        "train_iterator, val_iterator, test_iterator = data.BucketIterator.splits(\n",
        "    (train_data, val_data, test_data),\n",
        "    batch_size=BATCH_SIZE,\n",
        "    device=device)"
      ],
      "execution_count": 0,
      "outputs": []
    },
    {
      "metadata": {
        "colab_type": "code",
        "id": "SvC4OOKge3ee",
        "colab": {}
      },
      "cell_type": "code",
      "source": [
        "class BiLSTM_Model(nn.Module):\n",
        "    \n",
        "    def __init__(self, vocab_size, embedding_dim, hidden_dim, batch_size):\n",
        "      \n",
        "      super(BiLSTM_Model, self).__init__()\n",
        "      self.num_layers = 1\n",
        "      self.batch_size = batch_size\n",
        "      self.hidden_dim = hidden_dim\n",
        "      \n",
        "      self.word_embeddings = nn.Embedding(vocab_size, embedding_dim) \n",
        "      # The LSTM takes word embeddings as inputs, and outputs hidden states\n",
        "      # with dimensionality hidden_dim.\n",
        "      self.bilstm = nn.LSTM(embedding_dim, hidden_dim, num_layers=self.num_layers, bidirectional=True) \n",
        "      self.fc = nn.Linear(hidden_dim*2, 1)\n",
        "      self.hidden = self.init_hidden()      \n",
        "      \n",
        "    def forward(self, sentence):\n",
        "      \n",
        "        embeds = self.word_embeddings(sentence)\n",
        "        # [sent_len, batch_size] --> [sent_len, batch_size, emb_dim]\n",
        "        bilstm_out, self.hidden = self.bilstm(embeds, self.hidden) \n",
        "        # [sent_len, batch_size, emb_dim] --> [seq_len, batch, num_directions*hidden_size]\n",
        "        preds = self.fc(bilstm_out[-1])\n",
        "        # [batch, num_directions*hidden_size] --> [batch_size, 1]\n",
        "        return preds\n",
        "      \n",
        "      \n",
        "    def init_hidden(self):\n",
        "        # Before we've done anything, we dont have any hidden state.\n",
        "        # The axes semantics are (num_layers*2, minibatch_size, hidden_dim)\n",
        "        return (torch.zeros(self.num_layers*2, self.batch_size, self.hidden_dim).to(device),\n",
        "                torch.zeros(self.num_layers*2, self.batch_size, self.hidden_dim).to(device))\n",
        "        "
      ],
      "execution_count": 0,
      "outputs": []
    },
    {
      "metadata": {
        "colab_type": "code",
        "outputId": "77d6a83a-9570-4244-8615-d97a96076da8",
        "id": "ZSlP0-Pfe3eh",
        "colab": {
          "base_uri": "https://localhost:8080/",
          "height": 106
        }
      },
      "cell_type": "code",
      "source": [
        "model = BiLSTM_Model(vocab_size=len(TEXT.vocab), embedding_dim=300, hidden_dim=128, batch_size=BATCH_SIZE)\n",
        "model.to(device)"
      ],
      "execution_count": 0,
      "outputs": [
        {
          "output_type": "execute_result",
          "data": {
            "text/plain": [
              "BiLSTM_Model(\n",
              "  (word_embeddings): Embedding(25002, 300)\n",
              "  (bilstm): LSTM(300, 128, bidirectional=True)\n",
              "  (fc): Linear(in_features=256, out_features=1, bias=True)\n",
              ")"
            ]
          },
          "metadata": {
            "tags": []
          },
          "execution_count": 52
        }
      ]
    },
    {
      "metadata": {
        "colab_type": "code",
        "id": "UZDLKsOte3el",
        "colab": {}
      },
      "cell_type": "code",
      "source": [
        "optimizer = optim.Adam(model.parameters(), lr=1e-3, amsgrad=True)\n",
        "criterion = nn.BCEWithLogitsLoss()"
      ],
      "execution_count": 0,
      "outputs": []
    },
    {
      "metadata": {
        "colab_type": "code",
        "id": "1fGIOutGe3en",
        "colab": {}
      },
      "cell_type": "code",
      "source": [
        "# Create training and validation dataloaders\n",
        "dataloaders_dict = {'train': train_iterator, \n",
        "                    'val': val_iterator}"
      ],
      "execution_count": 0,
      "outputs": []
    },
    {
      "metadata": {
        "colab_type": "code",
        "id": "OSPorkKge3er",
        "colab": {}
      },
      "cell_type": "code",
      "source": [
        "def train_model(model, dataloaders, criterion, optimizer, num_epochs, batch_size=BATCH_SIZE):\n",
        "    since = time.time()\n",
        "\n",
        "    history = dict()\n",
        "\n",
        "    best_model_wts = copy.deepcopy(model.state_dict())\n",
        "    best_acc = 0.0\n",
        "    skip_count = 0\n",
        "\n",
        "    for epoch in range(num_epochs):\n",
        "        print('Epoch {}/{}'.format(epoch, num_epochs - 1))\n",
        "        print('-' * 10)\n",
        "\n",
        "        # Each epoch has a training and validation phase\n",
        "        for phase in ['train', 'val']:\n",
        "            if phase == 'train':\n",
        "                model.train()  # Set model to training mode\n",
        "            else:\n",
        "                model.eval()   # Set model to evaluate mode\n",
        "\n",
        "            running_loss = 0.0\n",
        "            running_corrects = 0\n",
        "            \n",
        "\n",
        "            # Iterate over data.\n",
        "            for data in dataloaders[phase]:\n",
        "                inputs, labels = data.text, data.label\n",
        "                inputs = inputs.to(device)\n",
        "                labels = labels.to(device)\n",
        "                # zero the parameter gradients\n",
        "                optimizer.zero_grad()\n",
        "\n",
        "                # forward\n",
        "                # track history if only in train\n",
        "                with torch.set_grad_enabled(phase == 'train'):\n",
        "                    # Get model outputs and calculate loss\n",
        "\n",
        "                    # backward + optimize only if in training phase\n",
        "                    if phase == 'train':\n",
        "                        # we need to clear out the hidden state of the LSTM,\n",
        "                        # detaching it from its history on the last instance.\n",
        "                        model.batch_size = inputs.shape[1]\n",
        "                        model.hidden = model.init_hidden()\n",
        "                        \n",
        "                        outputs = model(inputs).squeeze(1)\n",
        "                        loss = criterion(outputs, labels)\n",
        "                        loss.backward()\n",
        "                        optimizer.step()\n",
        "                        \n",
        "                    else:\n",
        "                        model.batch_size = inputs.shape[1]\n",
        "                        model.hidden = model.init_hidden()\n",
        "                        \n",
        "                        outputs = model(inputs).squeeze(1)\n",
        "                        loss = criterion(outputs, labels)\n",
        "\n",
        "\n",
        "                # statistics\n",
        "                running_loss += loss.item()\n",
        "                outputs = torch.round(torch.sigmoid(outputs))\n",
        "                corrects = (outputs == labels).float()\n",
        "                acc = corrects.sum()/len(corrects)\n",
        "                running_corrects += acc.item()\n",
        "\n",
        "            epoch_loss = running_loss / len(dataloaders[phase])\n",
        "            epoch_acc = running_corrects / len(dataloaders[phase])\n",
        "\n",
        "            print('{} Loss: {:.4f} Acc: {:.4f}'.format(phase, epoch_loss, epoch_acc))\n",
        "\n",
        "            # deep copy the model\n",
        "            if phase == 'val' and epoch_acc > best_acc:\n",
        "                best_acc = epoch_acc\n",
        "                best_model_wts = copy.deepcopy(model.state_dict())\n",
        "            \n",
        "            if phase+'_acc' in history:\n",
        "                # append the new number to the existing array at this slot\n",
        "                history[phase+'_acc'].append(epoch_acc)\n",
        "            else:\n",
        "                # create a new array in this slot\n",
        "                history[phase+'_acc'] = [epoch_acc]\n",
        "            \n",
        "            if phase+'_loss' in history:\n",
        "                # append the new number to the existing array at this slot\n",
        "                history[phase+'_loss'].append(epoch_loss)\n",
        "            else:\n",
        "                # create a new array in this slot\n",
        "                history[phase+'_loss'] = [epoch_loss]            \n",
        "\n",
        "    time_elapsed = time.time() - since\n",
        "    print('Training complete in {:.0f}m {:.0f}s'.format(time_elapsed // 60, time_elapsed % 60))\n",
        "    print('Best val Acc: {:4f}'.format(best_acc))\n",
        "\n",
        "    # load best model weights\n",
        "    model.load_state_dict(best_model_wts)\n",
        "    return model, history\n"
      ],
      "execution_count": 0,
      "outputs": []
    },
    {
      "metadata": {
        "colab_type": "code",
        "outputId": "e21d92bb-7072-47ab-d962-869c139ae962",
        "id": "DYZKLbSHe3es",
        "colab": {
          "base_uri": "https://localhost:8080/",
          "height": 767
        }
      },
      "cell_type": "code",
      "source": [
        "model, history = train_model(model, dataloaders_dict, criterion, optimizer, num_epochs=10)"
      ],
      "execution_count": 0,
      "outputs": [
        {
          "output_type": "stream",
          "text": [
            "Epoch 0/9\n",
            "----------\n",
            "train Loss: 0.6944 Acc: 0.5044\n",
            "val Loss: 0.6929 Acc: 0.5105\n",
            "Epoch 1/9\n",
            "----------\n",
            "train Loss: 0.6928 Acc: 0.4961\n",
            "val Loss: 0.6942 Acc: 0.5196\n",
            "Epoch 2/9\n",
            "----------\n",
            "train Loss: 0.6911 Acc: 0.5059\n",
            "val Loss: 0.6975 Acc: 0.5235\n",
            "Epoch 3/9\n",
            "----------\n",
            "train Loss: 0.6892 Acc: 0.5055\n",
            "val Loss: 0.7004 Acc: 0.5216\n",
            "Epoch 4/9\n",
            "----------\n",
            "train Loss: 0.6877 Acc: 0.5073\n",
            "val Loss: 0.7012 Acc: 0.5368\n",
            "Epoch 5/9\n",
            "----------\n",
            "train Loss: 0.6790 Acc: 0.5638\n",
            "val Loss: 0.6614 Acc: 0.5963\n",
            "Epoch 6/9\n",
            "----------\n",
            "train Loss: 0.5491 Acc: 0.7439\n",
            "val Loss: 0.6189 Acc: 0.7551\n",
            "Epoch 7/9\n",
            "----------\n",
            "train Loss: 0.4026 Acc: 0.8378\n",
            "val Loss: 0.4393 Acc: 0.8172\n",
            "Epoch 8/9\n",
            "----------\n",
            "train Loss: 0.2977 Acc: 0.8925\n",
            "val Loss: 0.4131 Acc: 0.8331\n",
            "Epoch 9/9\n",
            "----------\n",
            "train Loss: 0.2157 Acc: 0.9284\n",
            "val Loss: 0.4260 Acc: 0.8420\n",
            "Training complete in 18m 0s\n",
            "Best val Acc: 0.841970\n"
          ],
          "name": "stdout"
        }
      ]
    },
    {
      "metadata": {
        "colab_type": "code",
        "outputId": "7a37a225-6e19-4a6b-a092-b79aaaaea8ff",
        "id": "6EjJEQ8se3ez",
        "colab": {
          "base_uri": "https://localhost:8080/",
          "height": 571
        }
      },
      "cell_type": "code",
      "source": [
        "# summarize history for accuracy\n",
        "plt.plot(history['train_acc'])\n",
        "plt.plot(history['val_acc'])\n",
        "plt.title('model accuracy')\n",
        "plt.ylabel('accuracy')\n",
        "plt.xlabel('epoch')\n",
        "plt.legend(['train', 'val'], loc='upper left')\n",
        "plt.show()\n",
        "# summarize history for loss\n",
        "plt.plot(history['train_loss'])\n",
        "plt.plot(history['val_loss'])\n",
        "plt.title('model loss')\n",
        "plt.ylabel('loss')\n",
        "plt.xlabel('epoch')\n",
        "plt.legend(['train', 'val'], loc='upper left')\n",
        "plt.show()"
      ],
      "execution_count": 0,
      "outputs": [
        {
          "output_type": "display_data",
          "data": {
            "image/png": "[encoded data removed]",
            "text/plain": [
              "<Figure size 432x288 with 1 Axes>"
            ]
          },
          "metadata": {
            "tags": []
          }
        },
        {
          "output_type": "display_data",
          "data": {
            "image/png": "[encoded data removed]",
            "text/plain": [
              "<Figure size 432x288 with 1 Axes>"
            ]
          },
          "metadata": {
            "tags": []
          }
        }
      ]
    },
    {
      "metadata": {
        "colab_type": "code",
        "id": "OG7Hv11oe3e1",
        "colab": {}
      },
      "cell_type": "code",
      "source": [
        ""
      ],
      "execution_count": 0,
      "outputs": []
    },
    {
      "metadata": {
        "colab_type": "text",
        "id": "s0ooeOpjfMD0"
      },
      "cell_type": "markdown",
      "source": [
        "## Custom Embedding Layer using GRU"
      ]
    },
    {
      "metadata": {
        "colab_type": "code",
        "id": "lLgRr9d2fMD0",
        "colab": {}
      },
      "cell_type": "code",
      "source": [
        "TEXT.build_vocab(train_data, max_size=25000)\n",
        "LABEL.build_vocab(train_data)"
      ],
      "execution_count": 0,
      "outputs": []
    },
    {
      "metadata": {
        "colab_type": "code",
        "outputId": "d5201799-583d-4a85-f6ea-dedf46d6e770",
        "id": "z5z6iItgfMD2",
        "colab": {
          "base_uri": "https://localhost:8080/",
          "height": 53
        }
      },
      "cell_type": "code",
      "source": [
        "print('Unique tokens in TEXT vocabulary:', len(TEXT.vocab))\n",
        "print('Unique tokens in LABEL vocabulary:',len(LABEL.vocab))"
      ],
      "execution_count": 0,
      "outputs": [
        {
          "output_type": "stream",
          "text": [
            "Unique tokens in TEXT vocabulary: 25002\n",
            "Unique tokens in LABEL vocabulary: 2\n"
          ],
          "name": "stdout"
        }
      ]
    },
    {
      "metadata": {
        "colab_type": "code",
        "outputId": "159bb8a3-d1f3-4d3a-c20c-d43bd018723b",
        "id": "ywIHZp0gfMD5",
        "colab": {
          "base_uri": "https://localhost:8080/",
          "height": 55
        }
      },
      "cell_type": "code",
      "source": [
        "print(TEXT.vocab.freqs.most_common(20))"
      ],
      "execution_count": 0,
      "outputs": [
        {
          "output_type": "stream",
          "text": [
            "[('the', 231930), (',', 220347), ('.', 188890), ('and', 125520), ('a', 125105), ('of', 115296), ('to', 107349), ('is', 86751), ('in', 70003), ('I', 62140), ('it', 61173), ('that', 56419), ('\"', 50909), (\"'s\", 49412), ('this', 48255), ('-', 42354), ('/><br', 40754), ('was', 40203), ('as', 34887), ('with', 34164)]\n"
          ],
          "name": "stdout"
        }
      ]
    },
    {
      "metadata": {
        "colab_type": "code",
        "outputId": "9af20773-3057-4739-f6ac-2832ed4b74f2",
        "id": "ULyCo6KlfMD9",
        "colab": {
          "base_uri": "https://localhost:8080/",
          "height": 35
        }
      },
      "cell_type": "code",
      "source": [
        "print(TEXT.vocab.itos[:10])"
      ],
      "execution_count": 0,
      "outputs": [
        {
          "output_type": "stream",
          "text": [
            "['<unk>', '<pad>', 'the', ',', '.', 'and', 'a', 'of', 'to', 'is']\n"
          ],
          "name": "stdout"
        }
      ]
    },
    {
      "metadata": {
        "colab_type": "code",
        "id": "lHQbtazdfMEI",
        "colab": {}
      },
      "cell_type": "code",
      "source": [
        "BATCH_SIZE = 64\n",
        "\n",
        "train_iterator, val_iterator, test_iterator = data.BucketIterator.splits(\n",
        "    (train_data, val_data, test_data),\n",
        "    batch_size=BATCH_SIZE,\n",
        "    device=device)"
      ],
      "execution_count": 0,
      "outputs": []
    },
    {
      "metadata": {
        "colab_type": "code",
        "id": "n1LtxxSqfMEL",
        "colab": {}
      },
      "cell_type": "code",
      "source": [
        "class GRU_Model(nn.Module):\n",
        "    \n",
        "    def __init__(self, vocab_size, embedding_dim, hidden_dim, batch_size):\n",
        "      \n",
        "      super(GRU_Model, self).__init__()\n",
        "      self.num_layers = 1\n",
        "      self.batch_size = batch_size\n",
        "      self.hidden_dim = hidden_dim\n",
        "      \n",
        "      self.word_embeddings = nn.Embedding(vocab_size, embedding_dim) \n",
        "      # The LSTM takes word embeddings as inputs, and outputs hidden states\n",
        "      # with dimensionality hidden_dim.\n",
        "      self.gru = nn.GRU(embedding_dim, hidden_dim, num_layers=self.num_layers)\n",
        "      self.fc = nn.Linear(hidden_dim, 1)\n",
        "      self.hidden = self.init_hidden()      \n",
        "      \n",
        "    def forward(self, sentence):\n",
        "      \n",
        "        embeds = self.word_embeddings(sentence)\n",
        "        # [sent_len, batch_size] --> [sent_len, batch_size, emb_dim]\n",
        "        gru_out, self.hidden = self.gru(embeds, self.hidden) \n",
        "        # [sent_len, batch_size, emb_dim] --> [seq_len, batch, num_directions*hidden_size]\n",
        "        preds = self.fc(gru_out[-1].squeeze(0))\n",
        "        # [batch, num_directions*hidden_size] --> [batch_size, 1]\n",
        "        return preds\n",
        "      \n",
        "      \n",
        "    def init_hidden(self):\n",
        "        # Before we've done anything, we dont have any hidden state.\n",
        "        # The axes semantics are (num_layers, minibatch_size, hidden_dim)\n",
        "        return torch.zeros(self.num_layers, self.batch_size, self.hidden_dim).to(device)\n",
        "        "
      ],
      "execution_count": 0,
      "outputs": []
    },
    {
      "metadata": {
        "colab_type": "code",
        "outputId": "d776d772-5037-4b78-a5f1-91fa1dd4b03d",
        "id": "2FNjRLiLfMEN",
        "colab": {
          "base_uri": "https://localhost:8080/",
          "height": 106
        }
      },
      "cell_type": "code",
      "source": [
        "model = GRU_Model(vocab_size=len(TEXT.vocab), embedding_dim=300, hidden_dim=128, batch_size=BATCH_SIZE)\n",
        "model.to(device)"
      ],
      "execution_count": 0,
      "outputs": [
        {
          "output_type": "execute_result",
          "data": {
            "text/plain": [
              "GRU_Model(\n",
              "  (word_embeddings): Embedding(25002, 300)\n",
              "  (gru): GRU(300, 128)\n",
              "  (fc): Linear(in_features=128, out_features=1, bias=True)\n",
              ")"
            ]
          },
          "metadata": {
            "tags": []
          },
          "execution_count": 22
        }
      ]
    },
    {
      "metadata": {
        "colab_type": "code",
        "id": "Elg_XD8zfMEX",
        "colab": {}
      },
      "cell_type": "code",
      "source": [
        "optimizer = optim.Adam(model.parameters(), lr=1e-3, amsgrad=True)\n",
        "criterion = nn.BCEWithLogitsLoss()"
      ],
      "execution_count": 0,
      "outputs": []
    },
    {
      "metadata": {
        "colab_type": "code",
        "id": "T26yqAlLfMEZ",
        "colab": {}
      },
      "cell_type": "code",
      "source": [
        "# Create training and validation dataloaders\n",
        "dataloaders_dict = {'train': train_iterator, \n",
        "                    'val': val_iterator}"
      ],
      "execution_count": 0,
      "outputs": []
    },
    {
      "metadata": {
        "colab_type": "code",
        "id": "by86t5uSfMEb",
        "colab": {}
      },
      "cell_type": "code",
      "source": [
        "def train_model(model, dataloaders, criterion, optimizer, num_epochs, batch_size=BATCH_SIZE):\n",
        "    since = time.time()\n",
        "\n",
        "    history = dict()\n",
        "\n",
        "    best_model_wts = copy.deepcopy(model.state_dict())\n",
        "    best_acc = 0.0\n",
        "    skip_count = 0\n",
        "\n",
        "    for epoch in range(num_epochs):\n",
        "        print('Epoch {}/{}'.format(epoch, num_epochs - 1))\n",
        "        print('-' * 10)\n",
        "\n",
        "        # Each epoch has a training and validation phase\n",
        "        for phase in ['train', 'val']:\n",
        "            if phase == 'train':\n",
        "                model.train()  # Set model to training mode\n",
        "            else:\n",
        "                model.eval()   # Set model to evaluate mode\n",
        "\n",
        "            running_loss = 0.0\n",
        "            running_corrects = 0\n",
        "            \n",
        "\n",
        "            # Iterate over data.\n",
        "            for data in dataloaders[phase]:\n",
        "                inputs, labels = data.text, data.label\n",
        "                inputs = inputs.to(device)\n",
        "                labels = labels.to(device)\n",
        "                # zero the parameter gradients\n",
        "                optimizer.zero_grad()\n",
        "\n",
        "                # forward\n",
        "                # track history if only in train\n",
        "                with torch.set_grad_enabled(phase == 'train'):\n",
        "                    # Get model outputs and calculate loss\n",
        "\n",
        "                    # backward + optimize only if in training phase\n",
        "                    if phase == 'train':\n",
        "                        # we need to clear out the hidden state of the LSTM,\n",
        "                        # detaching it from its history on the last instance.\n",
        "                        model.batch_size = inputs.shape[1]\n",
        "                        model.hidden = model.init_hidden()\n",
        "                        \n",
        "                        outputs = model(inputs).squeeze(1)\n",
        "                        loss = criterion(outputs, labels)\n",
        "                        loss.backward()\n",
        "                        optimizer.step()\n",
        "                        \n",
        "                    else:\n",
        "                        model.batch_size = inputs.shape[1]\n",
        "                        model.hidden = model.init_hidden()\n",
        "                        \n",
        "                        outputs = model(inputs).squeeze(1)\n",
        "                        loss = criterion(outputs, labels)\n",
        "\n",
        "\n",
        "                # statistics\n",
        "                running_loss += loss.item()\n",
        "                outputs = torch.round(torch.sigmoid(outputs))\n",
        "                corrects = (outputs == labels).float()\n",
        "                acc = corrects.sum()/len(corrects)\n",
        "                running_corrects += acc.item()\n",
        "\n",
        "            epoch_loss = running_loss / len(dataloaders[phase])\n",
        "            epoch_acc = running_corrects / len(dataloaders[phase])\n",
        "\n",
        "            print('{} Loss: {:.4f} Acc: {:.4f}'.format(phase, epoch_loss, epoch_acc))\n",
        "\n",
        "            # deep copy the model\n",
        "            if phase == 'val' and epoch_acc > best_acc:\n",
        "                best_acc = epoch_acc\n",
        "                best_model_wts = copy.deepcopy(model.state_dict())\n",
        "            \n",
        "            if phase+'_acc' in history:\n",
        "                # append the new number to the existing array at this slot\n",
        "                history[phase+'_acc'].append(epoch_acc)\n",
        "            else:\n",
        "                # create a new array in this slot\n",
        "                history[phase+'_acc'] = [epoch_acc]\n",
        "            \n",
        "            if phase+'_loss' in history:\n",
        "                # append the new number to the existing array at this slot\n",
        "                history[phase+'_loss'].append(epoch_loss)\n",
        "            else:\n",
        "                # create a new array in this slot\n",
        "                history[phase+'_loss'] = [epoch_loss]            \n",
        "\n",
        "    time_elapsed = time.time() - since\n",
        "    print('Training complete in {:.0f}m {:.0f}s'.format(time_elapsed // 60, time_elapsed % 60))\n",
        "    print('Best val Acc: {:4f}'.format(best_acc))\n",
        "\n",
        "    # load best model weights\n",
        "    model.load_state_dict(best_model_wts)\n",
        "    return model, history\n"
      ],
      "execution_count": 0,
      "outputs": []
    },
    {
      "metadata": {
        "colab_type": "code",
        "outputId": "8d1dc59b-98bd-4d26-8a0a-914fd10fbe02",
        "id": "8JevsEClfMEd",
        "colab": {
          "base_uri": "https://localhost:8080/",
          "height": 767
        }
      },
      "cell_type": "code",
      "source": [
        "model, history = train_model(model, dataloaders_dict, criterion, optimizer, num_epochs=10)"
      ],
      "execution_count": 0,
      "outputs": [
        {
          "output_type": "stream",
          "text": [
            "Epoch 0/9\n",
            "----------\n",
            "train Loss: 0.6971 Acc: 0.4979\n",
            "val Loss: 0.7098 Acc: 0.5095\n",
            "Epoch 1/9\n",
            "----------\n",
            "train Loss: 0.6925 Acc: 0.5104\n",
            "val Loss: 0.7334 Acc: 0.5156\n",
            "Epoch 2/9\n",
            "----------\n",
            "train Loss: 0.5889 Acc: 0.6927\n",
            "val Loss: 0.4999 Acc: 0.7745\n",
            "Epoch 3/9\n",
            "----------\n",
            "train Loss: 0.4295 Acc: 0.8131\n",
            "val Loss: 0.4220 Acc: 0.8167\n",
            "Epoch 4/9\n",
            "----------\n",
            "train Loss: 0.2915 Acc: 0.8843\n",
            "val Loss: 0.3540 Acc: 0.8523\n",
            "Epoch 5/9\n",
            "----------\n",
            "train Loss: 0.1748 Acc: 0.9384\n",
            "val Loss: 0.3429 Acc: 0.8651\n",
            "Epoch 6/9\n",
            "----------\n",
            "train Loss: 0.1056 Acc: 0.9675\n",
            "val Loss: 0.3856 Acc: 0.8665\n",
            "Epoch 7/9\n",
            "----------\n",
            "train Loss: 0.0666 Acc: 0.9813\n",
            "val Loss: 0.3889 Acc: 0.8718\n",
            "Epoch 8/9\n",
            "----------\n",
            "train Loss: 0.0433 Acc: 0.9889\n",
            "val Loss: 0.4231 Acc: 0.8695\n",
            "Epoch 9/9\n",
            "----------\n",
            "train Loss: 0.0315 Acc: 0.9920\n",
            "val Loss: 0.4268 Acc: 0.8695\n",
            "Training complete in 13m 12s\n",
            "Best val Acc: 0.871835\n"
          ],
          "name": "stdout"
        }
      ]
    },
    {
      "metadata": {
        "colab_type": "code",
        "outputId": "2959a648-1c30-4dac-ace9-f1d0e9f1e66c",
        "id": "UIHjEoGqfMEh",
        "colab": {
          "base_uri": "https://localhost:8080/",
          "height": 571
        }
      },
      "cell_type": "code",
      "source": [
        "# summarize history for accuracy\n",
        "plt.plot(history['train_acc'])\n",
        "plt.plot(history['val_acc'])\n",
        "plt.title('model accuracy')\n",
        "plt.ylabel('accuracy')\n",
        "plt.xlabel('epoch')\n",
        "plt.legend(['train', 'val'], loc='upper left')\n",
        "plt.show()\n",
        "# summarize history for loss\n",
        "plt.plot(history['train_loss'])\n",
        "plt.plot(history['val_loss'])\n",
        "plt.title('model loss')\n",
        "plt.ylabel('loss')\n",
        "plt.xlabel('epoch')\n",
        "plt.legend(['train', 'val'], loc='upper left')\n",
        "plt.show()"
      ],
      "execution_count": 0,
      "outputs": [
        {
          "output_type": "display_data",
          "data": {
            "image/png": "[encoded data removed]",
            "text/plain": [
              "<Figure size 432x288 with 1 Axes>"
            ]
          },
          "metadata": {
            "tags": []
          }
        },
        {
          "output_type": "display_data",
          "data": {
            "image/png": "[encoded data removed]",
            "text/plain": [
              "<Figure size 432x288 with 1 Axes>"
            ]
          },
          "metadata": {
            "tags": []
          }
        }
      ]
    },
    {
      "metadata": {
        "colab_type": "code",
        "id": "2F9NlsTifMEk",
        "colab": {}
      },
      "cell_type": "code",
      "source": [
        ""
      ],
      "execution_count": 0,
      "outputs": []
    }
  ]
}